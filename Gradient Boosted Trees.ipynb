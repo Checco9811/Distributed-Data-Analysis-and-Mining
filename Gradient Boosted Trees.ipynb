{
 "cells": [
  {
   "cell_type": "code",
   "execution_count": 1,
   "id": "vulnerable-charleston",
   "metadata": {},
   "outputs": [],
   "source": [
    "import pandas as pd\n",
    "import numpy as np\n",
    "\n",
    "from pyspark.sql import SparkSession\n",
    "from pyspark.ml.tuning import CrossValidator, ParamGridBuilder\n",
    "from pyspark.ml.classification import GBTClassifier, OneVsRest\n",
    "from pyspark.ml.evaluation import MulticlassClassificationEvaluator\n",
    "\n",
    "spark = SparkSession.builder \\\n",
    "    .master(\"local\") \\\n",
    "    .appName(\"AppName\") \\\n",
    "    .getOrCreate()"
   ]
  },
  {
   "cell_type": "code",
   "execution_count": 2,
   "id": "excess-management",
   "metadata": {},
   "outputs": [
    {
     "data": {
      "text/plain": [
       "[('groupId', 'string'),\n",
       " ('matchId', 'string'),\n",
       " ('matchDuration', 'int'),\n",
       " ('label', 'int'),\n",
       " ('isFirstPerson', 'boolean'),\n",
       " ('matchtype', 'int'),\n",
       " ('maxPlace', 'int'),\n",
       " ('numGroups', 'int'),\n",
       " ('hasDisconnected', 'int'),\n",
       " ('assist_SUM', 'int'),\n",
       " ('assist_MAX', 'int'),\n",
       " ('assist_AVG', 'int'),\n",
       " ('heals_SUM', 'int'),\n",
       " ('heals_MAX', 'int'),\n",
       " ('heals_AVG', 'int'),\n",
       " ('kills_SUM', 'int'),\n",
       " ('kills_MAX', 'int'),\n",
       " ('kills_AVG', 'int'),\n",
       " ('headshotKills_SUM', 'int'),\n",
       " ('headshotKills_MAX', 'int'),\n",
       " ('headshotKills_AVG', 'int'),\n",
       " ('killStreaks_MAX', 'int'),\n",
       " ('roadKills_SUM', 'int'),\n",
       " ('roadKills_MAX', 'int'),\n",
       " ('roadKills_AVG', 'int'),\n",
       " ('longestKill_MAX', 'double'),\n",
       " ('vehicleDestroys_MAX', 'int'),\n",
       " ('weaponsAcquired_SUM', 'int'),\n",
       " ('weaponsAcquired_MAX', 'int'),\n",
       " ('weaponsAcquired_AVG', 'int'),\n",
       " ('damageDealt_SUM', 'double'),\n",
       " ('damageDealt_MAX', 'double'),\n",
       " ('damageDealt_AVG', 'double'),\n",
       " ('distance_SUM', 'double'),\n",
       " ('distance_MAX', 'double'),\n",
       " ('distance_AVG', 'double'),\n",
       " ('rideDistance_SUM', 'double'),\n",
       " ('rideDistance_MAX', 'double'),\n",
       " ('rideDistance_AVG', 'double'),\n",
       " ('swimDistance_SUM', 'double'),\n",
       " ('swimDistance_MAX', 'double'),\n",
       " ('swimDistance_AVG', 'double'),\n",
       " ('walkDistance_SUM', 'double'),\n",
       " ('walkDistance_MAX', 'double'),\n",
       " ('walkDistance_AVG', 'double'),\n",
       " ('DBNOs_SUM', 'int'),\n",
       " ('DBNOs_MAX', 'int'),\n",
       " ('DBNOs_AVG', 'int'),\n",
       " ('revives_SUM', 'int'),\n",
       " ('revives_MAX', 'int'),\n",
       " ('revives_AVG', 'int'),\n",
       " ('teamKills_SUM', 'int'),\n",
       " ('teamKills_MAX', 'int'),\n",
       " ('teamKills_AVG', 'int'),\n",
       " ('killPlace_MAX', 'int'),\n",
       " ('rankPoints_MAX', 'int'),\n",
       " ('killPoints_MAX', 'int'),\n",
       " ('winPoints_MAX', 'int')]"
      ]
     },
     "execution_count": 2,
     "metadata": {},
     "output_type": "execute_result"
    }
   ],
   "source": [
    "# load the dataset\n",
    "data = spark.read.csv(\"GROUP2.csv.gz\", header=True, sep=',',inferSchema=\"true\")\n",
    "#renaming winPlaceClass with label\n",
    "data = data.withColumnRenamed('winPlaceClass', 'label')\n",
    "data.dtypes"
   ]
  },
  {
   "cell_type": "code",
   "execution_count": 3,
   "id": "systematic-starter",
   "metadata": {},
   "outputs": [],
   "source": [
    "inputCols =  data.columns\n",
    "\n",
    "toRemove = ['matchId', 'groupId', 'killPlace_MAX', 'rankPoints_MAX', 'killPoints_MAX', 'winPoints_MAX', 'label']\n",
    "inputCols = list(set(inputCols) - set(toRemove))"
   ]
  },
  {
   "cell_type": "code",
   "execution_count": 32,
   "id": "adverse-deposit",
   "metadata": {},
   "outputs": [],
   "source": [
    "from pyspark.ml.linalg import Vectors\n",
    "from pyspark.ml.feature import VectorAssembler\n",
    "\n",
    "assembler = VectorAssembler(\n",
    "    inputCols=inputCols,\n",
    "    outputCol=\"features\")\n",
    "\n",
    "output = assembler.transform(data)"
   ]
  },
  {
   "cell_type": "code",
   "execution_count": 33,
   "id": "crucial-melissa",
   "metadata": {},
   "outputs": [
    {
     "name": "stdout",
     "output_type": "stream",
     "text": [
      "training: 140650\n",
      "testing: 60782\n"
     ]
    }
   ],
   "source": [
    "seed = 42\n",
    "withReplacement=False\n",
    "output = output.sample(withReplacement, 0.1, seed).select(\"features\", \"label\")\n",
    "\n",
    "(training,testing) = output.randomSplit([0.7,0.3])\n",
    "print(F'training: {training.count()}')\n",
    "print(F'testing: {testing.count()}')"
   ]
  },
  {
   "cell_type": "code",
   "execution_count": 34,
   "id": "dried-department",
   "metadata": {},
   "outputs": [
    {
     "data": {
      "text/html": [
       "<div>\n",
       "<style scoped>\n",
       "    .dataframe tbody tr th:only-of-type {\n",
       "        vertical-align: middle;\n",
       "    }\n",
       "\n",
       "    .dataframe tbody tr th {\n",
       "        vertical-align: top;\n",
       "    }\n",
       "\n",
       "    .dataframe thead th {\n",
       "        text-align: right;\n",
       "    }\n",
       "</style>\n",
       "<table border=\"1\" class=\"dataframe\">\n",
       "  <thead>\n",
       "    <tr style=\"text-align: right;\">\n",
       "      <th></th>\n",
       "      <th>label</th>\n",
       "      <th>count</th>\n",
       "    </tr>\n",
       "  </thead>\n",
       "  <tbody>\n",
       "    <tr>\n",
       "      <th>0</th>\n",
       "      <td>1</td>\n",
       "      <td>3331</td>\n",
       "    </tr>\n",
       "    <tr>\n",
       "      <th>1</th>\n",
       "      <td>6</td>\n",
       "      <td>3300</td>\n",
       "    </tr>\n",
       "    <tr>\n",
       "      <th>2</th>\n",
       "      <td>3</td>\n",
       "      <td>32781</td>\n",
       "    </tr>\n",
       "    <tr>\n",
       "      <th>3</th>\n",
       "      <td>5</td>\n",
       "      <td>33439</td>\n",
       "    </tr>\n",
       "    <tr>\n",
       "      <th>4</th>\n",
       "      <td>4</td>\n",
       "      <td>34693</td>\n",
       "    </tr>\n",
       "    <tr>\n",
       "      <th>5</th>\n",
       "      <td>2</td>\n",
       "      <td>33106</td>\n",
       "    </tr>\n",
       "  </tbody>\n",
       "</table>\n",
       "</div>"
      ],
      "text/plain": [
       "   label  count\n",
       "0      1   3331\n",
       "1      6   3300\n",
       "2      3  32781\n",
       "3      5  33439\n",
       "4      4  34693\n",
       "5      2  33106"
      ]
     },
     "execution_count": 34,
     "metadata": {},
     "output_type": "execute_result"
    }
   ],
   "source": [
    "training.groupBy('label').count().toPandas()"
   ]
  },
  {
   "cell_type": "code",
   "execution_count": null,
   "id": "everyday-artwork",
   "metadata": {},
   "outputs": [],
   "source": []
  },
  {
   "cell_type": "code",
   "execution_count": null,
   "id": "absent-truth",
   "metadata": {},
   "outputs": [],
   "source": []
  },
  {
   "cell_type": "markdown",
   "id": "chronic-rebecca",
   "metadata": {},
   "source": [
    "Gradient Boosted Trees supporta solo la classificazione binaria in pyspark, si creano 6 modelli GBT per ogni classe usando OneVsRest Classifier."
   ]
  },
  {
   "cell_type": "code",
   "execution_count": 46,
   "id": "desperate-gender",
   "metadata": {},
   "outputs": [],
   "source": [
    "gbt = GBTClassifier(maxIter=100, maxDepth=5, labelCol=\"label\", seed=42)\n",
    "ovr = OneVsRest(classifier=gbt)\n",
    "model = ovr.fit(training)"
   ]
  },
  {
   "cell_type": "code",
   "execution_count": 47,
   "id": "amazing-oxide",
   "metadata": {},
   "outputs": [],
   "source": [
    "predictions = model.transform(testing)"
   ]
  },
  {
   "cell_type": "code",
   "execution_count": 48,
   "id": "documentary-enemy",
   "metadata": {},
   "outputs": [
    {
     "data": {
      "text/plain": [
       "[GBTClassificationModel: uid = GBTClassifier_db5590f62611, numTrees=100, numClasses=2, numFeatures=51,\n",
       " GBTClassificationModel: uid = GBTClassifier_db5590f62611, numTrees=100, numClasses=2, numFeatures=51,\n",
       " GBTClassificationModel: uid = GBTClassifier_db5590f62611, numTrees=100, numClasses=2, numFeatures=51,\n",
       " GBTClassificationModel: uid = GBTClassifier_db5590f62611, numTrees=100, numClasses=2, numFeatures=51,\n",
       " GBTClassificationModel: uid = GBTClassifier_db5590f62611, numTrees=100, numClasses=2, numFeatures=51,\n",
       " GBTClassificationModel: uid = GBTClassifier_db5590f62611, numTrees=100, numClasses=2, numFeatures=51,\n",
       " GBTClassificationModel: uid = GBTClassifier_db5590f62611, numTrees=100, numClasses=2, numFeatures=51]"
      ]
     },
     "execution_count": 48,
     "metadata": {},
     "output_type": "execute_result"
    }
   ],
   "source": [
    "model.models"
   ]
  },
  {
   "cell_type": "code",
   "execution_count": 83,
   "id": "national-device",
   "metadata": {},
   "outputs": [],
   "source": [
    "features_importances = pd.Series(0, index=inputCols)\n",
    "\n",
    "for m in model.models:\n",
    "    features_importances = features_importances.add( pd.Series(m.featureImportances.toArray(), index=inputCols))\n",
    "    #print(features_importances.nlargest(20, columns='importance'))\n",
    "    #features_importances.nlargest(10, columns='importance').plot.barh()\n",
    "    \n",
    "features_importances = features_importances/len(model.models)"
   ]
  },
  {
   "cell_type": "code",
   "execution_count": 84,
   "id": "structured-substitute",
   "metadata": {},
   "outputs": [
    {
     "data": {
      "text/plain": [
       "<matplotlib.axes._subplots.AxesSubplot at 0x7f6bbc2b6760>"
      ]
     },
     "execution_count": 84,
     "metadata": {},
     "output_type": "execute_result"
    },
    {
     "data": {
      "image/png": "[encoded data removed]",
      "text/plain": [
       "<Figure size 432x288 with 1 Axes>"
      ]
     },
     "metadata": {
      "needs_background": "light"
     },
     "output_type": "display_data"
    }
   ],
   "source": [
    "features_importances.nlargest(10).plot.barh()"
   ]
  },
  {
   "cell_type": "code",
   "execution_count": null,
   "id": "relevant-sample",
   "metadata": {},
   "outputs": [],
   "source": []
  },
  {
   "cell_type": "markdown",
   "id": "middle-verification",
   "metadata": {},
   "source": [
    "## Evaluation"
   ]
  },
  {
   "cell_type": "code",
   "execution_count": 21,
   "id": "sunset-warrant",
   "metadata": {},
   "outputs": [
    {
     "name": "stdout",
     "output_type": "stream",
     "text": [
      "Accuracy = 0.71586\n"
     ]
    }
   ],
   "source": [
    "from pyspark.ml.evaluation import MulticlassClassificationEvaluator\n",
    "\n",
    "# obtain evaluator.\n",
    "evaluator = MulticlassClassificationEvaluator(metricName=\"accuracy\")\n",
    "\n",
    "# compute the classification error on test data.\n",
    "accuracy = evaluator.evaluate(predictions)\n",
    "print(\"Accuracy = %g\" % (accuracy))"
   ]
  },
  {
   "cell_type": "code",
   "execution_count": null,
   "id": "missing-baseball",
   "metadata": {},
   "outputs": [],
   "source": []
  },
  {
   "cell_type": "markdown",
   "id": "brazilian-satellite",
   "metadata": {},
   "source": [
    "Per qualche motivo questo non funziona..."
   ]
  },
  {
   "cell_type": "code",
   "execution_count": 25,
   "id": "experienced-approach",
   "metadata": {},
   "outputs": [],
   "source": [
    "from pyspark.mllib.evaluation import MulticlassMetrics\n",
    "\n",
    "predictionAndLabels = predictions.rdd.map(lambda x: (x.prediction, x.label))\n",
    "metrics = MulticlassMetrics(predictionAndLabels)"
   ]
  },
  {
   "cell_type": "code",
   "execution_count": null,
   "id": "lucky-pricing",
   "metadata": {},
   "outputs": [],
   "source": [
    "# Summary stats\n",
    "print(\"Recall = %s\" % metrics.weightedRecall)\n",
    "print(\"Precision = %s\" % metrics.weightedPrecision)\n",
    "print(\"F1 measure = %s\" % metrics.weightedFMeasure())\n",
    "print(\"Accuracy = %s\" % metrics.accuracy)\n",
    "\n",
    "# Individual label stats\n",
    "labels = [1.0, 2.0 ,3.0, 4.0, 5.0, 6.0]\n",
    "for label in labels:\n",
    "    print(\"Class %s precision = %s\" % (label, metrics.precision(label)))\n",
    "    print(\"Class %s recall = %s\" % (label, metrics.recall(label)))\n",
    "    print(\"Class %s F1 Measure = %s\" % (label, metrics.fMeasure(label)))\n",
    "    \n",
    "print('Confusion Matrix')\n",
    "print(metrics.confusionMatrix().toArray())"
   ]
  },
  {
   "cell_type": "code",
   "execution_count": null,
   "id": "secret-malaysia",
   "metadata": {},
   "outputs": [],
   "source": []
  },
  {
   "cell_type": "markdown",
   "id": "criminal-burning",
   "metadata": {},
   "source": [
    "## Sklearn Evalutation"
   ]
  },
  {
   "cell_type": "code",
   "execution_count": 50,
   "id": "lightweight-spirit",
   "metadata": {},
   "outputs": [],
   "source": [
    "from sklearn.metrics import classification_report, confusion_matrix"
   ]
  },
  {
   "cell_type": "code",
   "execution_count": 51,
   "id": "affiliated-portland",
   "metadata": {},
   "outputs": [],
   "source": [
    "y_true = predictions.select(['label']).collect()\n",
    "y_pred = predictions.select(['prediction']).collect()"
   ]
  },
  {
   "cell_type": "code",
   "execution_count": 52,
   "id": "functional-password",
   "metadata": {},
   "outputs": [
    {
     "name": "stdout",
     "output_type": "stream",
     "text": [
      "              precision    recall  f1-score   support\n",
      "\n",
      "           1       0.62      0.27      0.38      1353\n",
      "           2       0.74      0.80      0.77     14097\n",
      "           3       0.67      0.64      0.65     14286\n",
      "           4       0.70      0.72      0.71     15104\n",
      "           5       0.81      0.83      0.82     14552\n",
      "           6       0.77      0.53      0.63      1390\n",
      "\n",
      "    accuracy                           0.73     60782\n",
      "   macro avg       0.72      0.63      0.66     60782\n",
      "weighted avg       0.73      0.73      0.73     60782\n",
      "\n"
     ]
    }
   ],
   "source": [
    "print(classification_report(y_true, y_pred))"
   ]
  },
  {
   "cell_type": "code",
   "execution_count": 53,
   "id": "convenient-venture",
   "metadata": {},
   "outputs": [
    {
     "name": "stdout",
     "output_type": "stream",
     "text": [
      "[[  363   963    22     2     0     3]\n",
      " [  215 11268  2527    84     3     0]\n",
      " [    5  2889  9109  2218    59     6]\n",
      " [    0    60  2009 10831  2201     3]\n",
      " [    0     0    18  2280 12049   205]\n",
      " [    0     0     0     1   652   737]]\n"
     ]
    }
   ],
   "source": [
    "print(confusion_matrix(y_true, y_pred))"
   ]
  },
  {
   "cell_type": "code",
   "execution_count": null,
   "id": "nasty-minutes",
   "metadata": {},
   "outputs": [],
   "source": []
  }
 ],
 "metadata": {
  "kernelspec": {
   "display_name": "Python 3",
   "language": "python",
   "name": "python3"
  },
  "language_info": {
   "codemirror_mode": {
    "name": "ipython",
    "version": 3
   },
   "file_extension": ".py",
   "mimetype": "text/x-python",
   "name": "python",
   "nbconvert_exporter": "python",
   "pygments_lexer": "ipython3",
   "version": "3.8.10"
  }
 },
 "nbformat": 4,
 "nbformat_minor": 5
}
