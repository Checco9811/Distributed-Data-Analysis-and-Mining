{
 "cells": [
  {
   "cell_type": "code",
   "execution_count": 1,
   "id": "naval-greece",
   "metadata": {},
   "outputs": [],
   "source": [
    "%matplotlib inline\n",
    "\n",
    "import pandas as pd\n",
    "import matplotlib.pyplot as plt\n",
    "\n",
    "from pyspark.sql import SparkSession\n",
    "from pyspark import SparkContext\n",
    "#from pyspark.sql import SQLContext\n",
    "\n",
    "\n",
    "# initialize a new Spark Context to use for the execution of the script\n",
    "sc = SparkContext(appName=\"MY-APP-NAME\", master=\"local[*]\")\n",
    "#sqlCtx = SQLContext(sc)\n",
    "# prevent useless logging messages\n",
    "sc.setLogLevel(\"ERROR\")"
   ]
  },
  {
   "cell_type": "code",
   "execution_count": null,
   "id": "internal-immigration",
   "metadata": {},
   "outputs": [],
   "source": []
  },
  {
   "cell_type": "code",
   "execution_count": null,
   "id": "funky-video",
   "metadata": {},
   "outputs": [],
   "source": []
  },
  {
   "cell_type": "code",
   "execution_count": 2,
   "id": "concerned-depression",
   "metadata": {},
   "outputs": [],
   "source": [
    "from pyspark.sql import SparkSession\n",
    "import pandas as pd\n",
    "\n",
    "spark = SparkSession.builder \\\n",
    "    .master(\"local\") \\\n",
    "    .appName(\"AppName\") \\\n",
    "    .getOrCreate()"
   ]
  },
  {
   "cell_type": "code",
   "execution_count": 3,
   "id": "portable-coordinate",
   "metadata": {},
   "outputs": [
    {
     "data": {
      "text/plain": [
       "[('Id', 'string'),\n",
       " ('groupId', 'string'),\n",
       " ('matchId', 'string'),\n",
       " ('assists', 'int'),\n",
       " ('boosts', 'int'),\n",
       " ('damageDealt', 'double'),\n",
       " ('DBNOs', 'int'),\n",
       " ('headshotKills', 'int'),\n",
       " ('heals', 'int'),\n",
       " ('killPlace', 'int'),\n",
       " ('killPoints', 'int'),\n",
       " ('kills', 'int'),\n",
       " ('killStreaks', 'int'),\n",
       " ('longestKill', 'double'),\n",
       " ('matchDuration', 'int'),\n",
       " ('matchType', 'string'),\n",
       " ('maxPlace', 'int'),\n",
       " ('numGroups', 'int'),\n",
       " ('rankPoints', 'int'),\n",
       " ('revives', 'int'),\n",
       " ('rideDistance', 'double'),\n",
       " ('roadKills', 'int'),\n",
       " ('swimDistance', 'double'),\n",
       " ('teamKills', 'int'),\n",
       " ('vehicleDestroys', 'int'),\n",
       " ('walkDistance', 'double'),\n",
       " ('weaponsAcquired', 'int'),\n",
       " ('winPoints', 'int'),\n",
       " ('winPlacePerc', 'double'),\n",
       " ('distance', 'double')]"
      ]
     },
     "execution_count": 3,
     "metadata": {},
     "output_type": "execute_result"
    }
   ],
   "source": [
    "# load the dataset\n",
    "data = spark.read.csv(\"data.csv\", header=True, sep=',',inferSchema=\"true\")\n",
    "data = data.withColumn(\"distance\", data['swimDistance'] + data['walkDistance'] + data['rideDistance'])\n",
    "data.dtypes"
   ]
  },
  {
   "cell_type": "code",
   "execution_count": 4,
   "id": "dependent-inventory",
   "metadata": {},
   "outputs": [],
   "source": [
    "from pyspark.sql import SQLContext\n",
    "\n",
    "sqlCtx = SQLContext(sc)\n",
    "\n",
    "data.createOrReplaceTempView(\"pubg\")"
   ]
  },
  {
   "cell_type": "code",
   "execution_count": 6,
   "id": "entitled-blond",
   "metadata": {},
   "outputs": [
    {
     "name": "stdout",
     "output_type": "stream",
     "text": [
      "+--------------+-----+\n",
      "|       groupid|kills|\n",
      "+--------------+-----+\n",
      "|e49ee4c00569f4|    0|\n",
      "|318d4990302b75|    1|\n",
      "|a511c9d12bce8c|    2|\n",
      "|879fc11ef5ea53|    0|\n",
      "|8058badb744523|    1|\n",
      "|dd8e0a7663e2dd|    3|\n",
      "|98441b5004bb9b|    4|\n",
      "|c8dc696c100bd8|    8|\n",
      "|0cdde74f9b6c87|    0|\n",
      "|f27d36494701cd|    2|\n",
      "|9f1fffe848bd7b|    0|\n",
      "|e619a44ea01789|    7|\n",
      "|70fe5f11951e53|    2|\n",
      "|41d210e8e55296|    2|\n",
      "|939b390645e37d|    1|\n",
      "|ba5f051af21a68|    2|\n",
      "|e1cdf0849e5e5f|   10|\n",
      "|70886d91a0f088|    0|\n",
      "|d1c7c77d397ef5|    1|\n",
      "|c67562a1ad595d|    3|\n",
      "+--------------+-----+\n",
      "only showing top 20 rows\n",
      "\n"
     ]
    }
   ],
   "source": [
    "tmp = sqlCtx.sql(\"\"\"SELECT groupid, sum(kills) as kills FROM pubg GROUP BY groupid\"\"\")\n",
    "tmp.show()"
   ]
  },
  {
   "cell_type": "code",
   "execution_count": 17,
   "id": "coral-wallet",
   "metadata": {},
   "outputs": [
    {
     "data": {
      "text/plain": [
       "['Id',\n",
       " 'groupId',\n",
       " 'matchId',\n",
       " 'assists',\n",
       " 'boosts',\n",
       " 'damageDealt',\n",
       " 'DBNOs',\n",
       " 'headshotKills',\n",
       " 'heals',\n",
       " 'killPlace',\n",
       " 'killPoints',\n",
       " 'kills',\n",
       " 'killStreaks',\n",
       " 'longestKill',\n",
       " 'matchDuration',\n",
       " 'matchType',\n",
       " 'maxPlace',\n",
       " 'numGroups',\n",
       " 'rankPoints',\n",
       " 'revives',\n",
       " 'rideDistance',\n",
       " 'roadKills',\n",
       " 'swimDistance',\n",
       " 'teamKills',\n",
       " 'vehicleDestroys',\n",
       " 'walkDistance',\n",
       " 'weaponsAcquired',\n",
       " 'winPoints',\n",
       " 'winPlacePerc']"
      ]
     },
     "execution_count": 17,
     "metadata": {},
     "output_type": "execute_result"
    }
   ],
   "source": [
    "data.columns"
   ]
  },
  {
   "cell_type": "raw",
   "id": "european-shark",
   "metadata": {},
   "source": [
    "['Id',\n",
    " \n",
    " \n",
    " player and game info: \n",
    "         'kills': 'killStreaks', 'killPoints', 'killPlace', 'headshotKills', 'teamKills', 'assists', 'roadKills',\n",
    "         'boosts',\n",
    "         'damageDealt',\n",
    "         'DBNOs',\n",
    "         'heals',\n",
    "         'vehicleDestroys',\n",
    "         'weaponsAcquired',\n",
    "         'longestKill', #distanza massima tra il giocatore che spara e il giocatore più lontano che ha ucciso\n",
    "         'distance': 'rideDistance', 'walkDistance', 'swimDistance',\n",
    "         'revives',\n",
    "         'rankPoints',\n",
    "         'winPoints',\n",
    "         'winPlacePerc'\n",
    " \n",
    " match statistic:\n",
    "         'maxPlace',\n",
    "         'matchId', \n",
    "         'groupId', \n",
    "         'matchType', \n",
    "         'matchDuration', \n",
    "         'numGroups',\n",
    " ]"
   ]
  },
  {
   "cell_type": "code",
   "execution_count": null,
   "id": "phantom-greensboro",
   "metadata": {},
   "outputs": [],
   "source": []
  },
  {
   "cell_type": "code",
   "execution_count": null,
   "id": "divided-street",
   "metadata": {},
   "outputs": [],
   "source": []
  },
  {
   "cell_type": "code",
   "execution_count": 12,
   "id": "hollywood-chemical",
   "metadata": {},
   "outputs": [
    {
     "data": {
      "text/plain": [
       "[Row(Id='7f96b2f878858a', groupId='4d4b580de459be', matchId='a10357fd1a4a91', assists=0),\n",
       " Row(Id='eef90569b9d03c', groupId='684d5656442f9e', matchId='aeb375fc57110c', assists=0),\n",
       " Row(Id='1eaf90ac73de72', groupId='6a4a42c3245a74', matchId='110163d8bb94ae', assists=1),\n",
       " Row(Id='4616d365dd2853', groupId='a930a9c79cd721', matchId='f1f1f4ef412d7e', assists=0),\n",
       " Row(Id='315c96c26c9aac', groupId='de04010b3458dd', matchId='6dc8ff871e21e6', assists=0)]"
      ]
     },
     "execution_count": 12,
     "metadata": {},
     "output_type": "execute_result"
    }
   ],
   "source": [
    "data[['Id', 'groupId', 'matchId', 'assists']].take(5)"
   ]
  },
  {
   "cell_type": "code",
   "execution_count": null,
   "id": "sitting-attraction",
   "metadata": {},
   "outputs": [],
   "source": []
  },
  {
   "cell_type": "code",
   "execution_count": null,
   "id": "differential-clear",
   "metadata": {},
   "outputs": [],
   "source": []
  },
  {
   "cell_type": "code",
   "execution_count": null,
   "id": "cheap-hearts",
   "metadata": {},
   "outputs": [],
   "source": []
  },
  {
   "cell_type": "code",
   "execution_count": null,
   "id": "combined-uzbekistan",
   "metadata": {},
   "outputs": [],
   "source": []
  },
  {
   "cell_type": "code",
   "execution_count": 70,
   "id": "italic-camcorder",
   "metadata": {
    "scrolled": false
   },
   "outputs": [
    {
     "name": "stdout",
     "output_type": "stream",
     "text": [
      "+---------+-------------+---------+-----+\n",
      "|roadKills|headshotKills|teamKills|kills|\n",
      "+---------+-------------+---------+-----+\n",
      "|        0|            2|        0|    2|\n",
      "|        0|            2|        0|    9|\n",
      "|        0|            2|        0|    5|\n",
      "|        0|            2|        0|    4|\n",
      "|        0|            3|        0|    4|\n",
      "|        0|            2|        0|    6|\n",
      "|        0|            2|        0|    5|\n",
      "|        0|            3|        0|    6|\n",
      "|        0|            2|        0|    4|\n",
      "|        0|            2|        0|    3|\n",
      "|        0|            3|        0|    8|\n",
      "|        0|            2|        0|    2|\n",
      "|        0|            2|        0|    3|\n",
      "|        0|            2|        0|    5|\n",
      "|        0|            2|        0|    2|\n",
      "|        0|            3|        0|    5|\n",
      "|        0|            2|        0|    4|\n",
      "|        0|            3|        0|   14|\n",
      "|        0|            2|        0|    2|\n",
      "|        0|            2|        0|    5|\n",
      "+---------+-------------+---------+-----+\n",
      "only showing top 20 rows\n",
      "\n"
     ]
    }
   ],
   "source": [
    "data[data['headshotKills']>1][['roadKills', 'headshotKills', 'teamKills', 'kills']].show(20)"
   ]
  },
  {
   "cell_type": "code",
   "execution_count": 71,
   "id": "super-uruguay",
   "metadata": {},
   "outputs": [
    {
     "name": "stdout",
     "output_type": "stream",
     "text": [
      "+---------+------------+------------+------------+\n",
      "| distance|swimDistance|walkDistance|rideDistance|\n",
      "+---------+------------+------------+------------+\n",
      "|    244.8|         0.0|       244.8|         0.0|\n",
      "|1445.0445|       11.04|      1434.0|      0.0045|\n",
      "|    161.8|         0.0|       161.8|         0.0|\n",
      "|    202.7|         0.0|       202.7|         0.0|\n",
      "|    49.75|         0.0|       49.75|         0.0|\n",
      "+---------+------------+------------+------------+\n",
      "only showing top 5 rows\n",
      "\n"
     ]
    }
   ],
   "source": [
    "data = data.withColumn(\"distance\", data['swimDistance'] + data['walkDistance'] + data['rideDistance'])\n",
    "data[['distance', 'swimDistance', 'walkDistance', 'rideDistance']].show(5)"
   ]
  },
  {
   "cell_type": "code",
   "execution_count": 72,
   "id": "young-banner",
   "metadata": {
    "collapsed": true
   },
   "outputs": [
    {
     "data": {
      "image/png": "[encoded data removed]",
      "text/plain": [
       "<Figure size 432x288 with 1 Axes>"
      ]
     },
     "metadata": {
      "needs_background": "light"
     },
     "output_type": "display_data"
    }
   ],
   "source": [
    "histogram = data.select('walkDistance').rdd.flatMap(lambda x: x).histogram(3)\n",
    "\n",
    "# Loading the Computed Histogram into a Pandas Dataframe for plotting\n",
    "pd.DataFrame(\n",
    "    list(zip(*histogram)), \n",
    "    columns=['bin', 'frequency']\n",
    ").set_index(\n",
    "    'bin'\n",
    ").plot(kind='bar');"
   ]
  },
  {
   "cell_type": "code",
   "execution_count": 35,
   "id": "imported-champion",
   "metadata": {},
   "outputs": [],
   "source": [
    "match_type = data.groupby('matchType').count().rdd.map(lambda x: (x[0], x[1])).collect()\n",
    "match_type.sort()"
   ]
  },
  {
   "cell_type": "code",
   "execution_count": 41,
   "id": "fallen-thompson",
   "metadata": {
    "collapsed": true
   },
   "outputs": [
    {
     "data": {
      "text/plain": [
       "<matplotlib.axes._subplots.AxesSubplot at 0x7f02874e80a0>"
      ]
     },
     "execution_count": 41,
     "metadata": {},
     "output_type": "execute_result"
    },
    {
     "data": {
      "image/png": "[encoded data removed]",
      "text/plain": [
       "<Figure size 432x288 with 1 Axes>"
      ]
     },
     "metadata": {
      "needs_background": "light"
     },
     "output_type": "display_data"
    }
   ],
   "source": [
    "pd.DataFrame(match_type).set_index(0).sort_values(by=1, ascending=False).plot(kind='bar')"
   ]
  },
  {
   "cell_type": "code",
   "execution_count": 65,
   "id": "polar-exception",
   "metadata": {
    "collapsed": true
   },
   "outputs": [
    {
     "name": "stdout",
     "output_type": "stream",
     "text": [
      "+--------+------------+---------+------------------+--------------+\n",
      "|maxPlace|winplaceperc|matchType|               tmp|       groupid|\n",
      "+--------+------------+---------+------------------+--------------+\n",
      "|      28|         1.0|squad-fpp|               1.0|3fe42857a5d0e3|\n",
      "|      28|         1.0|squad-fpp|               1.0|3fe42857a5d0e3|\n",
      "|      28|         1.0|squad-fpp|               1.0|3fe42857a5d0e3|\n",
      "|      28|         1.0|squad-fpp|               1.0|3fe42857a5d0e3|\n",
      "|      28|       0.963|squad-fpp| 2.036000000000001|5112ebf44e9575|\n",
      "|      28|       0.963|squad-fpp| 2.036000000000001|5112ebf44e9575|\n",
      "|      28|       0.963|squad-fpp| 2.036000000000001|5112ebf44e9575|\n",
      "|      28|       0.963|squad-fpp| 2.036000000000001|5112ebf44e9575|\n",
      "|      28|      0.9259|squad-fpp|3.0748000000000015|69c3ba1a23df2a|\n",
      "|      28|      0.9259|squad-fpp|3.0748000000000015|69c3ba1a23df2a|\n",
      "|      28|      0.9259|squad-fpp|3.0748000000000015|69c3ba1a23df2a|\n",
      "|      28|      0.9259|squad-fpp|3.0748000000000015|69c3ba1a23df2a|\n",
      "|      28|      0.8889|squad-fpp| 4.110799999999999|30e393959e45ac|\n",
      "|      28|      0.8889|squad-fpp| 4.110799999999999|30e393959e45ac|\n",
      "|      28|      0.8519|squad-fpp| 5.146800000000001|74898d59ac4879|\n",
      "|      28|      0.8519|squad-fpp| 5.146800000000001|74898d59ac4879|\n",
      "|      28|      0.8519|squad-fpp| 5.146800000000001|74898d59ac4879|\n",
      "|      28|      0.8519|squad-fpp| 5.146800000000001|74898d59ac4879|\n",
      "|      28|      0.8148|squad-fpp| 6.185600000000001|7e5fb71e05a678|\n",
      "|      28|      0.8148|squad-fpp| 6.185600000000001|7e5fb71e05a678|\n",
      "|      28|      0.8148|squad-fpp| 6.185600000000001|7e5fb71e05a678|\n",
      "|      28|      0.8148|squad-fpp| 6.185600000000001|7e5fb71e05a678|\n",
      "|      28|      0.7778|squad-fpp| 7.221599999999999|e93dfe8291d05c|\n",
      "|      28|      0.7778|squad-fpp| 7.221599999999999|e93dfe8291d05c|\n",
      "|      28|      0.7778|squad-fpp| 7.221599999999999|e93dfe8291d05c|\n",
      "|      28|      0.7407|squad-fpp| 8.260399999999999|168d1fc8ebe03c|\n",
      "|      28|      0.7407|squad-fpp| 8.260399999999999|168d1fc8ebe03c|\n",
      "|      28|      0.7407|squad-fpp| 8.260399999999999|168d1fc8ebe03c|\n",
      "|      28|      0.6296|squad-fpp|11.371199999999998|64903e9ba2e503|\n",
      "|      28|      0.6296|squad-fpp|11.371199999999998|64903e9ba2e503|\n",
      "|      28|      0.6296|squad-fpp|11.371199999999998|64903e9ba2e503|\n",
      "|      28|      0.6296|squad-fpp|11.371199999999998|64903e9ba2e503|\n",
      "|      28|      0.5926|squad-fpp|           12.4072|2cdf256e3c2c1d|\n",
      "|      28|      0.5556|squad-fpp|13.443200000000001|2af5c87d86546d|\n",
      "|      28|      0.5556|squad-fpp|13.443200000000001|2af5c87d86546d|\n",
      "|      28|      0.5556|squad-fpp|13.443200000000001|2af5c87d86546d|\n",
      "|      28|      0.5185|squad-fpp|14.482000000000001|0b4bf93ca082a4|\n",
      "|      28|      0.5185|squad-fpp|14.482000000000001|0b4bf93ca082a4|\n",
      "|      28|      0.4815|squad-fpp|15.517999999999999|654c638629b8fc|\n",
      "|      28|      0.4815|squad-fpp|15.517999999999999|654c638629b8fc|\n",
      "|      28|      0.4815|squad-fpp|15.517999999999999|654c638629b8fc|\n",
      "|      28|      0.4815|squad-fpp|15.517999999999999|654c638629b8fc|\n",
      "|      28|      0.4815|squad-fpp|15.517999999999999|654c638629b8fc|\n",
      "|      28|      0.4815|squad-fpp|15.517999999999999|654c638629b8fc|\n",
      "|      28|      0.4815|squad-fpp|15.517999999999999|654c638629b8fc|\n",
      "|      28|      0.4815|squad-fpp|15.517999999999999|654c638629b8fc|\n",
      "|      28|      0.4444|squad-fpp|           16.5568|4d4b580de459be|\n",
      "|      28|      0.4444|squad-fpp|           16.5568|4d4b580de459be|\n",
      "|      28|      0.4444|squad-fpp|           16.5568|4d4b580de459be|\n",
      "|      28|      0.4444|squad-fpp|           16.5568|4d4b580de459be|\n",
      "|      28|      0.4074|squad-fpp|           17.5928|5ddf679672a972|\n",
      "|      28|      0.4074|squad-fpp|           17.5928|5ddf679672a972|\n",
      "|      28|      0.4074|squad-fpp|           17.5928|5ddf679672a972|\n",
      "|      28|      0.4074|squad-fpp|           17.5928|5ddf679672a972|\n",
      "|      28|      0.3704|squad-fpp|           18.6288|e3b971e00acee4|\n",
      "|      28|      0.3704|squad-fpp|           18.6288|e3b971e00acee4|\n",
      "|      28|      0.3704|squad-fpp|           18.6288|e3b971e00acee4|\n",
      "|      28|      0.3704|squad-fpp|           18.6288|e3b971e00acee4|\n",
      "|      28|      0.3333|squad-fpp|           19.6676|92a09f0a596787|\n",
      "|      28|      0.3333|squad-fpp|           19.6676|92a09f0a596787|\n",
      "|      28|      0.3333|squad-fpp|           19.6676|92a09f0a596787|\n",
      "|      28|      0.3333|squad-fpp|           19.6676|92a09f0a596787|\n",
      "|      28|      0.2963|squad-fpp|           20.7036|edbce070d4ee9d|\n",
      "|      28|      0.2963|squad-fpp|           20.7036|edbce070d4ee9d|\n",
      "|      28|      0.2963|squad-fpp|           20.7036|edbce070d4ee9d|\n",
      "|      28|      0.2963|squad-fpp|           20.7036|edbce070d4ee9d|\n",
      "|      28|      0.2963|squad-fpp|           20.7036|edbce070d4ee9d|\n",
      "|      28|      0.2593|squad-fpp|           21.7396|1d31d15e045c4d|\n",
      "|      28|      0.2222|squad-fpp|           22.7784|c92eb4405f4d3a|\n",
      "|      28|      0.2222|squad-fpp|           22.7784|c92eb4405f4d3a|\n",
      "|      28|      0.2222|squad-fpp|           22.7784|c92eb4405f4d3a|\n",
      "|      28|      0.1852|squad-fpp|           23.8144|2f8336736f3be2|\n",
      "|      28|      0.1852|squad-fpp|           23.8144|2f8336736f3be2|\n",
      "|      28|      0.1852|squad-fpp|           23.8144|2f8336736f3be2|\n",
      "|      28|      0.1481|squad-fpp|           24.8532|a27667dbecd7d7|\n",
      "|      28|      0.1481|squad-fpp|           24.8532|a27667dbecd7d7|\n",
      "|      28|      0.1111|squad-fpp|25.889200000000002|432b8256f23c7e|\n",
      "|      28|      0.1111|squad-fpp|25.889200000000002|432b8256f23c7e|\n",
      "|      28|      0.1111|squad-fpp|25.889200000000002|432b8256f23c7e|\n",
      "|      28|      0.1111|squad-fpp|25.889200000000002|432b8256f23c7e|\n",
      "|      28|      0.1111|squad-fpp|25.889200000000002|432b8256f23c7e|\n",
      "|      28|      0.0741|squad-fpp|26.925199999999997|80d9f9014c6e68|\n",
      "|      28|      0.0741|squad-fpp|26.925199999999997|80d9f9014c6e68|\n",
      "|      28|      0.0741|squad-fpp|26.925199999999997|80d9f9014c6e68|\n",
      "|      28|      0.0741|squad-fpp|26.925199999999997|80d9f9014c6e68|\n",
      "|      28|      0.0741|squad-fpp|26.925199999999997|80d9f9014c6e68|\n",
      "|      28|      0.0741|squad-fpp|26.925199999999997|80d9f9014c6e68|\n",
      "|      28|      0.0741|squad-fpp|26.925199999999997|80d9f9014c6e68|\n",
      "|      28|       0.037|squad-fpp|            27.964|a269f08371068b|\n",
      "|      28|       0.037|squad-fpp|            27.964|a269f08371068b|\n",
      "|      28|       0.037|squad-fpp|            27.964|a269f08371068b|\n",
      "|      28|       0.037|squad-fpp|            27.964|a269f08371068b|\n",
      "|      28|       0.037|squad-fpp|            27.964|a269f08371068b|\n",
      "|      28|         0.0|squad-fpp|              29.0|d7d1cd054b0f5b|\n",
      "|      28|         0.0|squad-fpp|              29.0|d7d1cd054b0f5b|\n",
      "|      28|         0.0|squad-fpp|              29.0|d7d1cd054b0f5b|\n",
      "+--------+------------+---------+------------------+--------------+\n",
      "\n"
     ]
    }
   ],
   "source": [
    "tmp = sqlCtx.sql(\"\"\"SELECT maxPlace, winplaceperc, matchType, 1+(1-winplaceperc)*(maxPlace) AS tmp, groupid \n",
    "FROM pubg \n",
    "WHERE matchid = 'a10357fd1a4a91' ORDER BY tmp\"\"\")\n",
    "tmp.show(100)"
   ]
  },
  {
   "cell_type": "code",
   "execution_count": 68,
   "id": "acoustic-nevada",
   "metadata": {
    "collapsed": true
   },
   "outputs": [
    {
     "name": "stdout",
     "output_type": "stream",
     "text": [
      "+--------+------------+---------+--------------+\n",
      "|maxPlace|winplaceperc|matchType|       matchid|\n",
      "+--------+------------+---------+--------------+\n",
      "|      28|      0.4444|squad-fpp|a10357fd1a4a91|\n",
      "|      26|        0.64|squad-fpp|aeb375fc57110c|\n",
      "|      50|      0.7755|      duo|110163d8bb94ae|\n",
      "|      31|      0.1667|squad-fpp|f1f1f4ef412d7e|\n",
      "|      97|      0.1875| solo-fpp|6dc8ff871e21e6|\n",
      "|      28|       0.037|squad-fpp|bac52627a12114|\n",
      "|      28|         0.0|squad-fpp|a8274e903927a2|\n",
      "|      96|      0.7368| solo-fpp|292611730ca862|\n",
      "|      28|      0.3704|    squad|df014fbee741c6|\n",
      "|      29|      0.2143|    squad|3d3031c795305b|\n",
      "+--------+------------+---------+--------------+\n",
      "\n"
     ]
    }
   ],
   "source": [
    "tmp = sqlCtx.sql(\"\"\"SELECT maxPlace, winplaceperc, matchType, matchid FROM pubg Limit 10\"\"\")\n",
    "tmp.show(100)"
   ]
  },
  {
   "cell_type": "code",
   "execution_count": 73,
   "id": "specialized-copper",
   "metadata": {
    "collapsed": true
   },
   "outputs": [
    {
     "name": "stdout",
     "output_type": "stream",
     "text": [
      "+--------+------------+---------+--------------+\n",
      "|maxPlace|winplaceperc|matchType|       matchid|\n",
      "+--------+------------+---------+--------------+\n",
      "|      96|         1.0| solo-fpp|292611730ca862|\n",
      "|      96|      0.9895| solo-fpp|292611730ca862|\n",
      "|      96|      0.9789| solo-fpp|292611730ca862|\n",
      "|      96|      0.9684| solo-fpp|292611730ca862|\n",
      "|      96|      0.9579| solo-fpp|292611730ca862|\n",
      "|      96|      0.9474| solo-fpp|292611730ca862|\n",
      "|      96|      0.9368| solo-fpp|292611730ca862|\n",
      "|      96|      0.9263| solo-fpp|292611730ca862|\n",
      "|      96|      0.9158| solo-fpp|292611730ca862|\n",
      "|      96|      0.9053| solo-fpp|292611730ca862|\n",
      "|      96|      0.8947| solo-fpp|292611730ca862|\n",
      "|      96|      0.8842| solo-fpp|292611730ca862|\n",
      "|      96|      0.8737| solo-fpp|292611730ca862|\n",
      "|      96|      0.8632| solo-fpp|292611730ca862|\n",
      "|      96|      0.8526| solo-fpp|292611730ca862|\n",
      "|      96|      0.8421| solo-fpp|292611730ca862|\n",
      "|      96|      0.8316| solo-fpp|292611730ca862|\n",
      "|      96|      0.8211| solo-fpp|292611730ca862|\n",
      "|      96|      0.8105| solo-fpp|292611730ca862|\n",
      "|      96|         0.8| solo-fpp|292611730ca862|\n",
      "|      96|      0.7895| solo-fpp|292611730ca862|\n",
      "|      96|      0.7789| solo-fpp|292611730ca862|\n",
      "|      96|      0.7684| solo-fpp|292611730ca862|\n",
      "|      96|      0.7579| solo-fpp|292611730ca862|\n",
      "|      96|      0.7474| solo-fpp|292611730ca862|\n",
      "|      96|      0.7368| solo-fpp|292611730ca862|\n",
      "|      96|      0.7263| solo-fpp|292611730ca862|\n",
      "|      96|      0.7158| solo-fpp|292611730ca862|\n",
      "|      96|      0.7053| solo-fpp|292611730ca862|\n",
      "|      96|      0.6737| solo-fpp|292611730ca862|\n",
      "|      96|      0.6632| solo-fpp|292611730ca862|\n",
      "|      96|      0.6421| solo-fpp|292611730ca862|\n",
      "|      96|      0.6316| solo-fpp|292611730ca862|\n",
      "|      96|      0.6211| solo-fpp|292611730ca862|\n",
      "|      96|      0.6105| solo-fpp|292611730ca862|\n",
      "|      96|      0.5895| solo-fpp|292611730ca862|\n",
      "|      96|      0.5789| solo-fpp|292611730ca862|\n",
      "|      96|      0.5684| solo-fpp|292611730ca862|\n",
      "|      96|      0.5579| solo-fpp|292611730ca862|\n",
      "|      96|      0.5474| solo-fpp|292611730ca862|\n",
      "|      96|      0.5368| solo-fpp|292611730ca862|\n",
      "|      96|      0.5263| solo-fpp|292611730ca862|\n",
      "|      96|      0.5158| solo-fpp|292611730ca862|\n",
      "|      96|      0.5053| solo-fpp|292611730ca862|\n",
      "|      96|      0.4947| solo-fpp|292611730ca862|\n",
      "|      96|      0.4842| solo-fpp|292611730ca862|\n",
      "|      96|      0.4737| solo-fpp|292611730ca862|\n",
      "|      96|      0.4632| solo-fpp|292611730ca862|\n",
      "|      96|      0.4526| solo-fpp|292611730ca862|\n",
      "|      96|      0.4421| solo-fpp|292611730ca862|\n",
      "|      96|      0.4316| solo-fpp|292611730ca862|\n",
      "|      96|      0.4211| solo-fpp|292611730ca862|\n",
      "|      96|      0.4105| solo-fpp|292611730ca862|\n",
      "|      96|         0.4| solo-fpp|292611730ca862|\n",
      "|      96|      0.3895| solo-fpp|292611730ca862|\n",
      "|      96|      0.3789| solo-fpp|292611730ca862|\n",
      "|      96|      0.3684| solo-fpp|292611730ca862|\n",
      "|      96|      0.3579| solo-fpp|292611730ca862|\n",
      "|      96|      0.3474| solo-fpp|292611730ca862|\n",
      "|      96|      0.3368| solo-fpp|292611730ca862|\n",
      "|      96|      0.3263| solo-fpp|292611730ca862|\n",
      "|      96|      0.3158| solo-fpp|292611730ca862|\n",
      "|      96|      0.3053| solo-fpp|292611730ca862|\n",
      "|      96|      0.2947| solo-fpp|292611730ca862|\n",
      "|      96|      0.2947| solo-fpp|292611730ca862|\n",
      "|      96|      0.2842| solo-fpp|292611730ca862|\n",
      "|      96|      0.2842| solo-fpp|292611730ca862|\n",
      "|      96|      0.2737| solo-fpp|292611730ca862|\n",
      "|      96|      0.2632| solo-fpp|292611730ca862|\n",
      "|      96|      0.2526| solo-fpp|292611730ca862|\n",
      "|      96|      0.2421| solo-fpp|292611730ca862|\n",
      "|      96|      0.2316| solo-fpp|292611730ca862|\n",
      "|      96|      0.2211| solo-fpp|292611730ca862|\n",
      "|      96|      0.2105| solo-fpp|292611730ca862|\n",
      "|      96|         0.2| solo-fpp|292611730ca862|\n",
      "|      96|      0.1895| solo-fpp|292611730ca862|\n",
      "|      96|      0.1895| solo-fpp|292611730ca862|\n",
      "|      96|      0.1789| solo-fpp|292611730ca862|\n",
      "|      96|      0.1684| solo-fpp|292611730ca862|\n",
      "|      96|      0.1579| solo-fpp|292611730ca862|\n",
      "|      96|      0.1474| solo-fpp|292611730ca862|\n",
      "|      96|      0.1368| solo-fpp|292611730ca862|\n",
      "|      96|      0.1263| solo-fpp|292611730ca862|\n",
      "|      96|      0.1158| solo-fpp|292611730ca862|\n",
      "|      96|      0.1158| solo-fpp|292611730ca862|\n",
      "|      96|      0.1053| solo-fpp|292611730ca862|\n",
      "|      96|      0.0947| solo-fpp|292611730ca862|\n",
      "|      96|      0.0842| solo-fpp|292611730ca862|\n",
      "|      96|      0.0737| solo-fpp|292611730ca862|\n",
      "|      96|      0.0632| solo-fpp|292611730ca862|\n",
      "|      96|      0.0526| solo-fpp|292611730ca862|\n",
      "|      96|      0.0421| solo-fpp|292611730ca862|\n",
      "|      96|      0.0316| solo-fpp|292611730ca862|\n",
      "|      96|       0.021| solo-fpp|292611730ca862|\n",
      "|      96|      0.0105| solo-fpp|292611730ca862|\n",
      "|      96|         0.0| solo-fpp|292611730ca862|\n",
      "+--------+------------+---------+--------------+\n",
      "\n"
     ]
    }
   ],
   "source": [
    "tmp = sqlCtx.sql(\"\"\"SELECT maxPlace, winplaceperc, matchType, matchid \n",
    "                        FROM pubg \n",
    "                        WHERE matchid='292611730ca862' \n",
    "                        ORDER BY winplaceperc DESC\n",
    "                        \"\"\")\n",
    "tmp.show(200)"
   ]
  },
  {
   "cell_type": "markdown",
   "id": "square-notice",
   "metadata": {},
   "source": [
    "# Data Description\n",
    "\n",
    "- Id: PK"
   ]
  },
  {
   "cell_type": "code",
   "execution_count": null,
   "id": "rubber-trauma",
   "metadata": {},
   "outputs": [],
   "source": []
  },
  {
   "cell_type": "code",
   "execution_count": null,
   "id": "improved-canon",
   "metadata": {},
   "outputs": [],
   "source": []
  },
  {
   "cell_type": "markdown",
   "id": "damaged-architect",
   "metadata": {},
   "source": [
    "# TODO\n",
    "\n",
    "- convertire il match_type in numerico e separare prima o terza persona\n",
    "- Numero di utenti effettivi per gruppo\n",
    "- numero di utenti effettivi per partita"
   ]
  },
  {
   "cell_type": "code",
   "execution_count": null,
   "id": "continuous-blanket",
   "metadata": {},
   "outputs": [],
   "source": []
  },
  {
   "cell_type": "code",
   "execution_count": null,
   "id": "bottom-teacher",
   "metadata": {},
   "outputs": [],
   "source": []
  },
  {
   "cell_type": "code",
   "execution_count": null,
   "id": "conservative-proposal",
   "metadata": {},
   "outputs": [],
   "source": []
  },
  {
   "cell_type": "code",
   "execution_count": null,
   "id": "desirable-colorado",
   "metadata": {},
   "outputs": [],
   "source": []
  }
 ],
 "metadata": {
  "kernelspec": {
   "display_name": "Python 3",
   "language": "python",
   "name": "python3"
  },
  "language_info": {
   "codemirror_mode": {
    "name": "ipython",
    "version": 3
   },
   "file_extension": ".py",
   "mimetype": "text/x-python",
   "name": "python",
   "nbconvert_exporter": "python",
   "pygments_lexer": "ipython3",
   "version": "3.8.10"
  }
 },
 "nbformat": 4,
 "nbformat_minor": 5
}
