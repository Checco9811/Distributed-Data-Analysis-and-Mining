{
 "cells": [
  {
   "cell_type": "markdown",
   "id": "advanced-wages",
   "metadata": {},
   "source": [
    "# Preprocessing generale\n",
    "\n",
    "Prima di tutto scegliamo di diminuire le modalità di gioco eliminando quelle che contengono pochi record (<10k) in questo modo otteniamo le combinazioni di prima o terza persona X solo, duo, sq4.\n",
    "\n",
    "Siccome è possibili giocare anche in sq3 andiamo a creare una nuova colonna con il numero effettivo di giocatori nella squadra (cri: alcune sq risultano da 5 persone????)\n",
    "\n",
    "Andiamo poi a trasformare il tipo di match in 2 colonne: #giocatoriMatch e isFirstPerson\n",
    "\n",
    "\n",
    "L'idea è quella di esplorare più strade:\n",
    "- Clustering: Il cluster diretto con i dati potrebbe andare ad individuare solo le modalità del match. \n",
    "  - Accorpiamo i dati e facciamo un clustering a livello di gruppi\n",
    "  - Proviamo a fare un clustering per ogni tipo di gruppo\n",
    "- Classificazione\n",
    "  - Classificatore base: ci individua già la divisione per match type? (decision tree, importanza feature)\n",
    "  - Classificatore con dati accorpati\n",
    "  - Classificatori diversi per ogni tipo di match"
   ]
  },
  {
   "cell_type": "code",
   "execution_count": null,
   "id": "chubby-equation",
   "metadata": {},
   "outputs": [],
   "source": []
  },
  {
   "cell_type": "markdown",
   "id": "traditional-management",
   "metadata": {},
   "source": [
    "## Divisione del tipo di match"
   ]
  },
  {
   "cell_type": "code",
   "execution_count": 1,
   "id": "superior-punishment",
   "metadata": {},
   "outputs": [
    {
     "data": {
      "text/plain": [
       "[('Id', 'string'),\n",
       " ('groupId', 'string'),\n",
       " ('matchId', 'string'),\n",
       " ('assists', 'int'),\n",
       " ('boosts', 'int'),\n",
       " ('damageDealt', 'double'),\n",
       " ('DBNOs', 'int'),\n",
       " ('headshotKills', 'int'),\n",
       " ('heals', 'int'),\n",
       " ('killPlace', 'int'),\n",
       " ('killPoints', 'int'),\n",
       " ('kills', 'int'),\n",
       " ('killStreaks', 'int'),\n",
       " ('longestKill', 'double'),\n",
       " ('matchDuration', 'int'),\n",
       " ('matchType', 'string'),\n",
       " ('maxPlace', 'int'),\n",
       " ('numGroups', 'int'),\n",
       " ('rankPoints', 'int'),\n",
       " ('revives', 'int'),\n",
       " ('rideDistance', 'double'),\n",
       " ('roadKills', 'int'),\n",
       " ('swimDistance', 'double'),\n",
       " ('teamKills', 'int'),\n",
       " ('vehicleDestroys', 'int'),\n",
       " ('walkDistance', 'double'),\n",
       " ('weaponsAcquired', 'int'),\n",
       " ('winPoints', 'int'),\n",
       " ('winPlacePerc', 'double'),\n",
       " ('distance', 'double')]"
      ]
     },
     "execution_count": 1,
     "metadata": {},
     "output_type": "execute_result"
    }
   ],
   "source": [
    "%matplotlib inline\n",
    "\n",
    "import numpy as np\n",
    "import pandas as pd\n",
    "import matplotlib.pyplot as pltù\n",
    "import seaborn as sns\n",
    "\n",
    "from pyspark.sql import SparkSession\n",
    "from pyspark import SparkContext\n",
    "from pyspark.sql.functions import *\n",
    "#from pyspark.sql import SQLContext\n",
    "\n",
    "\n",
    "# initialize a new Spark Context to use for the execution of the script\n",
    "sc = SparkContext(appName=\"MY-APP-NAME\", master=\"local[*]\")\n",
    "#sqlCtx = SQLContext(sc)\n",
    "# prevent useless logging messages\n",
    "sc.setLogLevel(\"ERROR\")\n",
    "\n",
    "from pyspark.sql import SparkSession\n",
    "import pandas as pd\n",
    "\n",
    "spark = SparkSession.builder \\\n",
    "    .master(\"local\") \\\n",
    "    .appName(\"AppName\") \\\n",
    "    .getOrCreate()\n",
    "\n",
    "\n",
    "# load the dataset\n",
    "data = spark.read.csv(\"data.csv\", header=True, sep=',',inferSchema=\"true\")\n",
    "data = data.withColumn(\"distance\", data['swimDistance'] + data['walkDistance'] + data['rideDistance'])\n",
    "data.dtypes"
   ]
  },
  {
   "cell_type": "code",
   "execution_count": 2,
   "id": "mysterious-venice",
   "metadata": {},
   "outputs": [],
   "source": [
    "from pyspark.sql import SQLContext\n",
    "\n",
    "sqlCtx = SQLContext(sc)\n",
    "\n",
    "data.createOrReplaceTempView(\"pubg\")\n",
    "data.createOrReplaceTempView(\"pubg_original\")"
   ]
  },
  {
   "cell_type": "code",
   "execution_count": null,
   "id": "dressed-agency",
   "metadata": {},
   "outputs": [],
   "source": []
  },
  {
   "cell_type": "code",
   "execution_count": null,
   "id": "clean-replacement",
   "metadata": {},
   "outputs": [],
   "source": []
  },
  {
   "cell_type": "code",
   "execution_count": null,
   "id": "cognitive-ferry",
   "metadata": {},
   "outputs": [],
   "source": []
  },
  {
   "cell_type": "code",
   "execution_count": 3,
   "id": "union-treaty",
   "metadata": {},
   "outputs": [
    {
     "data": {
      "text/plain": [
       "<matplotlib.axes._subplots.AxesSubplot at 0x7f575a9e7850>"
      ]
     },
     "execution_count": 3,
     "metadata": {},
     "output_type": "execute_result"
    },
    {
     "data": {
      "image/png": "[encoded data removed]",
      "text/plain": [
       "<Figure size 432x288 with 1 Axes>"
      ]
     },
     "metadata": {
      "needs_background": "light"
     },
     "output_type": "display_data"
    }
   ],
   "source": [
    "tmp = sqlCtx.sql(\"\"\"SELECT matchtype, count(distinct groupId) FROM pubg GROUP BY matchtype\"\"\")\n",
    "tmp.toPandas().set_index(\"matchtype\").plot(kind=\"bar\")"
   ]
  },
  {
   "cell_type": "code",
   "execution_count": 4,
   "id": "romantic-edmonton",
   "metadata": {},
   "outputs": [],
   "source": [
    "toKeep = tmp.rdd.filter(lambda x: x[1] > 10000).map(lambda x: x[\"matchtype\"]).collect()"
   ]
  },
  {
   "cell_type": "code",
   "execution_count": 17,
   "id": "hungarian-testimony",
   "metadata": {},
   "outputs": [],
   "source": [
    "data = data.filter(data.matchType.isin(toKeep))\n",
    "data.createOrReplaceTempView(\"pubg\")"
   ]
  },
  {
   "cell_type": "code",
   "execution_count": 18,
   "id": "placed-chair",
   "metadata": {},
   "outputs": [
    {
     "data": {
      "text/plain": [
       "<matplotlib.axes._subplots.AxesSubplot at 0x7f2134c6bf70>"
      ]
     },
     "execution_count": 18,
     "metadata": {},
     "output_type": "execute_result"
    },
    {
     "data": {
      "image/png": "[encoded data removed]",
      "text/plain": [
       "<Figure size 432x288 with 1 Axes>"
      ]
     },
     "metadata": {
      "needs_background": "light"
     },
     "output_type": "display_data"
    }
   ],
   "source": [
    "tmp = sqlCtx.sql(\"\"\"SELECT matchtype, count(distinct groupId) FROM pubg GROUP BY matchtype ORDER BY count(distinct groupId)\"\"\")\n",
    "tmp.toPandas().set_index(\"matchtype\").plot(kind=\"bar\")"
   ]
  },
  {
   "cell_type": "code",
   "execution_count": 19,
   "id": "powerful-parliament",
   "metadata": {},
   "outputs": [],
   "source": [
    "data = data.withColumn(\"isFirstPerson\", when(col(\"matchtype\").contains(\"fpp\"), True).otherwise(False))"
   ]
  },
  {
   "cell_type": "code",
   "execution_count": 20,
   "id": "grateful-globe",
   "metadata": {},
   "outputs": [],
   "source": [
    "data = data.withColumn(\"matchtype\", when(col(\"matchtype\").contains(\"duo\"), 2)\n",
    "                           .when(col(\"matchtype\").contains(\"solo\"), 1)\n",
    "                           .otherwise(4))\n",
    "\n",
    "data.createOrReplaceTempView(\"pubg\")"
   ]
  },
  {
   "cell_type": "code",
   "execution_count": 9,
   "id": "protective-netherlands",
   "metadata": {},
   "outputs": [
    {
     "data": {
      "text/plain": [
       "<matplotlib.axes._subplots.AxesSubplot at 0x7f8a31a92af0>"
      ]
     },
     "execution_count": 9,
     "metadata": {},
     "output_type": "execute_result"
    },
    {
     "data": {
      "image/png": "[encoded data removed]",
      "text/plain": [
       "<Figure size 432x288 with 1 Axes>"
      ]
     },
     "metadata": {
      "needs_background": "light"
     },
     "output_type": "display_data"
    }
   ],
   "source": [
    "tmp = sqlCtx.sql(\"\"\"SELECT CONCAT(matchtype, '_', isFirstPerson) as matchtype, count(distinct groupId) \n",
    "                        FROM pubg GROUP BY CONCAT(matchtype, '_', isFirstPerson)\n",
    "                        ORDER BY count(distinct groupId)\"\"\")\n",
    "tmp.toPandas().set_index(\"matchtype\").plot(kind=\"bar\")"
   ]
  },
  {
   "cell_type": "code",
   "execution_count": null,
   "id": "brown-novel",
   "metadata": {},
   "outputs": [],
   "source": []
  },
  {
   "cell_type": "markdown",
   "id": "local-prerequisite",
   "metadata": {},
   "source": [
    "## Discretizzazione della target variable"
   ]
  },
  {
   "cell_type": "code",
   "execution_count": 10,
   "id": "excited-detective",
   "metadata": {},
   "outputs": [],
   "source": [
    "#data = data.withColumn(\"winPlacePerc\", when(col(\"winPlacePerc\") == 0 , 2)\n",
    "#                           .when(col(\"matchtype\").contains(\"solo\"), 1)\n",
    "#                           .otherwise(4))\n",
    "#\n",
    "data.createOrReplaceTempView(\"pubg\")"
   ]
  },
  {
   "cell_type": "code",
   "execution_count": 11,
   "id": "refined-withdrawal",
   "metadata": {},
   "outputs": [],
   "source": [
    "lista = data.where(data.numGroups == 26).rdd.map(lambda x: x[\"winPlacePerc\"]).collect()"
   ]
  },
  {
   "cell_type": "code",
   "execution_count": 12,
   "id": "unique-protein",
   "metadata": {},
   "outputs": [],
   "source": [
    "tmp = sqlCtx.sql(\"\"\"SELECT winPlacePerc FROM pubg where numGroups = 25\"\"\")"
   ]
  },
  {
   "cell_type": "code",
   "execution_count": 13,
   "id": "ranking-organization",
   "metadata": {},
   "outputs": [
    {
     "data": {
      "text/plain": [
       "[0.4444,\n",
       " 0.7308,\n",
       " 0.1923,\n",
       " 0.52,\n",
       " 0.2222,\n",
       " 0.64,\n",
       " 0.72,\n",
       " 0.4231,\n",
       " 0.3462,\n",
       " 0.6538,\n",
       " 0.8889,\n",
       " 0.0769,\n",
       " 0.5385,\n",
       " 0.9259,\n",
       " 0.0741,\n",
       " 0.5385,\n",
       " 0.08,\n",
       " 0.1071,\n",
       " 0.92,\n",
       " 0.0,\n",
       " 0.6923,\n",
       " 0.1852,\n",
       " 0.4444,\n",
       " 0.3462,\n",
       " 0.6154,\n",
       " 0.44,\n",
       " 0.8148,\n",
       " 0.48,\n",
       " 0.037,\n",
       " 0.1786,\n",
       " 0.1852,\n",
       " 0.16,\n",
       " 0.12,\n",
       " 0.8462,\n",
       " 0.0741,\n",
       " 0.3704,\n",
       " 0.0385,\n",
       " 0.6923,\n",
       " 0.0,\n",
       " 0.76,\n",
       " 0.16,\n",
       " 0.1154,\n",
       " 0.7692,\n",
       " 0.3462,\n",
       " 0.2963,\n",
       " 1.0,\n",
       " 0.9259,\n",
       " 0.1154,\n",
       " 0.12,\n",
       " 0.3077,\n",
       " 1.0,\n",
       " 0.8077,\n",
       " 0.28,\n",
       " 0.36,\n",
       " 0.9259,\n",
       " 0.7143,\n",
       " 0.7778,\n",
       " 0.4643,\n",
       " 0.44,\n",
       " 0.9231,\n",
       " 0.3077,\n",
       " 0.0,\n",
       " 0.84,\n",
       " 0.32,\n",
       " 0.3462,\n",
       " 0.5385,\n",
       " 0.2857,\n",
       " 0.1481,\n",
       " 0.76,\n",
       " 0.76,\n",
       " 0.2069,\n",
       " 0.3462,\n",
       " 0.0,\n",
       " 1.0,\n",
       " 0.52,\n",
       " 0.0,\n",
       " 0.0385,\n",
       " 0.5769,\n",
       " 0.32,\n",
       " 0.12,\n",
       " 0.48,\n",
       " 0.76,\n",
       " 0.3077,\n",
       " 0.68,\n",
       " 0.24,\n",
       " 0.8148,\n",
       " 0.88,\n",
       " 0.2593,\n",
       " 0.7308,\n",
       " 0.2593,\n",
       " 0.0769,\n",
       " 1.0,\n",
       " 0.8462,\n",
       " 0.36,\n",
       " 0.2222,\n",
       " 1.0,\n",
       " 0.72,\n",
       " 0.1154,\n",
       " 0.92,\n",
       " 0.6923,\n",
       " 0.8462,\n",
       " 0.0769,\n",
       " 0.0741,\n",
       " 0.2308,\n",
       " 0.2692,\n",
       " 0.0,\n",
       " 0.7692,\n",
       " 0.4074,\n",
       " 0.0,\n",
       " 0.2692,\n",
       " 0.04,\n",
       " 0.44,\n",
       " 0.3077,\n",
       " 0.7308,\n",
       " 0.4231,\n",
       " 0.3077,\n",
       " 0.7037,\n",
       " 0.6667,\n",
       " 0.7692,\n",
       " 0.6154,\n",
       " 0.4231,\n",
       " 0.32,\n",
       " 0.52,\n",
       " 0.4444,\n",
       " 0.5769,\n",
       " 0.16,\n",
       " 0.8519,\n",
       " 0.2308,\n",
       " 0.0,\n",
       " 1.0,\n",
       " 0.0333,\n",
       " 0.0769,\n",
       " 0.1923,\n",
       " 0.0385,\n",
       " 0.7308,\n",
       " 0.8846,\n",
       " 0.4231,\n",
       " 0.3846,\n",
       " 0.1923,\n",
       " 0.0714,\n",
       " 0.6897,\n",
       " 0.6538,\n",
       " 0.0,\n",
       " 0.2963,\n",
       " 0.0385,\n",
       " 0.0769,\n",
       " 0.3077,\n",
       " 0.9231,\n",
       " 0.04,\n",
       " 0.28,\n",
       " 0.3704,\n",
       " 0.96,\n",
       " 0.8462,\n",
       " 0.2222,\n",
       " 0.9231,\n",
       " 0.25,\n",
       " 0.28,\n",
       " 0.2857,\n",
       " 0.7037,\n",
       " 0.0,\n",
       " 0.5385,\n",
       " 0.963,\n",
       " 0.08,\n",
       " 0.8519,\n",
       " 0.9231,\n",
       " 0.0,\n",
       " 0.2143,\n",
       " 0.8077,\n",
       " 0.5926,\n",
       " 0.037,\n",
       " 0.963,\n",
       " 0.88,\n",
       " 0.8077,\n",
       " 0.44,\n",
       " 0.7308,\n",
       " 1.0,\n",
       " 0.2692,\n",
       " 0.0769,\n",
       " 0.0,\n",
       " 0.0,\n",
       " 0.16,\n",
       " 0.52,\n",
       " 0.3462,\n",
       " 0.8889,\n",
       " 0.3704,\n",
       " 0.5185,\n",
       " 0.92,\n",
       " 0.5172,\n",
       " 0.1786,\n",
       " 0.7143,\n",
       " 0.6538,\n",
       " 0.84,\n",
       " 0.0769,\n",
       " 0.1538,\n",
       " 0.6296,\n",
       " 0.5385,\n",
       " 0.9231,\n",
       " 0.3846,\n",
       " 1.0,\n",
       " 0.1538,\n",
       " 0.2308,\n",
       " 0.0769,\n",
       " 0.0,\n",
       " 0.68,\n",
       " 0.1154,\n",
       " 0.0,\n",
       " 0.5,\n",
       " 0.1923,\n",
       " 0.12,\n",
       " 0.25,\n",
       " 0.6923,\n",
       " 0.4815,\n",
       " 0.08,\n",
       " 0.96,\n",
       " 0.1071,\n",
       " 0.6667,\n",
       " 0.0,\n",
       " 0.24,\n",
       " 0.4615,\n",
       " 0.7778,\n",
       " 0.1923,\n",
       " 0.6538,\n",
       " 0.1111,\n",
       " 1.0,\n",
       " 0.5926,\n",
       " 0.12,\n",
       " 0.5385,\n",
       " 0.6923,\n",
       " 0.72,\n",
       " 0.0714,\n",
       " 0.8889,\n",
       " 0.7407,\n",
       " 0.2963,\n",
       " 0.8846,\n",
       " 0.2692,\n",
       " 0.2692,\n",
       " 0.68,\n",
       " 0.2692,\n",
       " 0.1923,\n",
       " 0.6923,\n",
       " 0.3462,\n",
       " 0.3704,\n",
       " 0.7037,\n",
       " 0.1923,\n",
       " 0.5556,\n",
       " 0.4,\n",
       " 0.1538,\n",
       " 0.6,\n",
       " 0.48,\n",
       " 0.44,\n",
       " 0.4231,\n",
       " 1.0,\n",
       " 0.8,\n",
       " 0.037,\n",
       " 0.2,\n",
       " 0.3846,\n",
       " 0.1538,\n",
       " 0.04,\n",
       " 0.6538,\n",
       " 0.52,\n",
       " 0.3462,\n",
       " 0.5926,\n",
       " 0.2963,\n",
       " 0.7308,\n",
       " 0.72,\n",
       " 0.0,\n",
       " 0.68,\n",
       " 0.9615,\n",
       " 0.6923,\n",
       " 0.32,\n",
       " 0.7308,\n",
       " 0.5769,\n",
       " 0.0,\n",
       " 0.037,\n",
       " 0.6296,\n",
       " 0.1923,\n",
       " 0.6538,\n",
       " 0.1154,\n",
       " 0.08,\n",
       " 0.48,\n",
       " 0.08,\n",
       " 0.6923,\n",
       " 1.0,\n",
       " 0.0,\n",
       " 0.84,\n",
       " 0.3462,\n",
       " 0.2222,\n",
       " 0.8077,\n",
       " 1.0,\n",
       " 0.037,\n",
       " 0.25,\n",
       " 0.8571,\n",
       " 0.4615,\n",
       " 0.1154,\n",
       " 0.1154,\n",
       " 0.44,\n",
       " 0.7308,\n",
       " 0.68,\n",
       " 0.0,\n",
       " 0.9259,\n",
       " 0.52,\n",
       " 0.1923,\n",
       " 0.6923,\n",
       " 0.84,\n",
       " 0.4815,\n",
       " 0.7308,\n",
       " 0.0769,\n",
       " 0.6667,\n",
       " 0.6154,\n",
       " 0.0,\n",
       " 0.2,\n",
       " 0.1481,\n",
       " 0.4231,\n",
       " 0.28,\n",
       " 0.0,\n",
       " 1.0,\n",
       " 0.84,\n",
       " 0.0385,\n",
       " 1.0,\n",
       " 0.72,\n",
       " 0.7692,\n",
       " 0.3462,\n",
       " 0.037,\n",
       " 0.1154,\n",
       " 0.7308,\n",
       " 0.8462,\n",
       " 0.2692,\n",
       " 0.4286,\n",
       " 0.0769,\n",
       " 0.1538,\n",
       " 0.6296,\n",
       " 0.3704,\n",
       " 0.5926,\n",
       " 0.2222,\n",
       " 0.3704,\n",
       " 0.4615,\n",
       " 0.7692,\n",
       " 0.6296,\n",
       " 0.7037,\n",
       " 0.7308,\n",
       " 0.2308,\n",
       " 0.2593,\n",
       " 0.2308,\n",
       " 0.3462,\n",
       " 0.1852,\n",
       " 0.0345,\n",
       " 0.8077,\n",
       " 0.2,\n",
       " 0.0,\n",
       " 0.1923,\n",
       " 0.7407,\n",
       " 0.5185,\n",
       " 0.6667,\n",
       " 0.52,\n",
       " 0.52,\n",
       " 0.12,\n",
       " 0.9231,\n",
       " 0.0,\n",
       " 0.4231,\n",
       " 0.3333,\n",
       " 0.8214,\n",
       " 0.9615,\n",
       " 0.8846,\n",
       " 0.3846,\n",
       " 0.9615,\n",
       " 0.1111,\n",
       " 0.037,\n",
       " 0.2692,\n",
       " 0.0,\n",
       " 0.2692,\n",
       " 0.84,\n",
       " 0.8889,\n",
       " 0.84,\n",
       " 0.04,\n",
       " 0.28,\n",
       " 0.0714,\n",
       " 0.0769,\n",
       " 0.96,\n",
       " 0.8929,\n",
       " 0.963,\n",
       " 1.0,\n",
       " 0.1154,\n",
       " 0.08,\n",
       " 0.64,\n",
       " 0.1111,\n",
       " 0.5769,\n",
       " 0.32,\n",
       " 0.8148,\n",
       " 0.0,\n",
       " 0.8148,\n",
       " 0.8214,\n",
       " 0.0385,\n",
       " 0.2593,\n",
       " 0.7037,\n",
       " 0.4,\n",
       " 0.3462,\n",
       " 0.5556,\n",
       " 1.0,\n",
       " 0.1111,\n",
       " 0.32,\n",
       " 1.0,\n",
       " 0.2308,\n",
       " 0.88,\n",
       " 0.4,\n",
       " 0.3846,\n",
       " 0.04,\n",
       " 0.2692,\n",
       " 0.0,\n",
       " 0.1111,\n",
       " 0.8,\n",
       " 0.96,\n",
       " 0.6923,\n",
       " 0.037,\n",
       " 0.1429,\n",
       " 0.0741,\n",
       " 0.0,\n",
       " 0.4444,\n",
       " 0.3077,\n",
       " 0.6538,\n",
       " 0.92,\n",
       " 0.1154,\n",
       " 0.0357,\n",
       " 0.2963,\n",
       " 0.2222,\n",
       " 0.5926,\n",
       " 0.7692,\n",
       " 0.3462,\n",
       " 0.6296,\n",
       " 0.0,\n",
       " 0.76,\n",
       " 0.1538,\n",
       " 1.0,\n",
       " 0.8077,\n",
       " 0.6667,\n",
       " 0.4231,\n",
       " 0.0385,\n",
       " 0.2692,\n",
       " 0.72,\n",
       " 1.0,\n",
       " 0.8846,\n",
       " 0.4444,\n",
       " 0.56,\n",
       " 0.037,\n",
       " 0.92,\n",
       " 0.6154,\n",
       " 0.9643,\n",
       " 0.2593,\n",
       " 0.3462,\n",
       " 0.1923,\n",
       " 0.36,\n",
       " 0.28,\n",
       " 0.2,\n",
       " 0.8,\n",
       " 0.4615,\n",
       " 0.84,\n",
       " 0.6538,\n",
       " 0.4,\n",
       " 0.3462,\n",
       " 0.75,\n",
       " 0.5385,\n",
       " 0.7308,\n",
       " 0.1852,\n",
       " 0.963,\n",
       " 0.5,\n",
       " 0.6154,\n",
       " 0.3077,\n",
       " 0.12,\n",
       " 0.2963,\n",
       " 0.76,\n",
       " 0.2692,\n",
       " 0.12,\n",
       " 0.8148,\n",
       " 0.6207,\n",
       " 0.963,\n",
       " 0.5385,\n",
       " 0.5769,\n",
       " 0.0741,\n",
       " 0.2308,\n",
       " 0.96,\n",
       " 0.5926,\n",
       " 0.1154,\n",
       " 0.1852,\n",
       " 0.4615,\n",
       " 0.12,\n",
       " 0.8077,\n",
       " 0.5185,\n",
       " 0.8846,\n",
       " 0.3462,\n",
       " 1.0,\n",
       " 0.5185,\n",
       " 0.2,\n",
       " 0.4231,\n",
       " 0.2963,\n",
       " 0.3462,\n",
       " 0.28,\n",
       " 0.6538,\n",
       " 0.8462,\n",
       " 0.6071,\n",
       " 0.8889,\n",
       " 0.8148,\n",
       " 0.25,\n",
       " 0.48,\n",
       " 0.2,\n",
       " 0.4615,\n",
       " 0.4615,\n",
       " 0.0769,\n",
       " 0.1923,\n",
       " 0.52,\n",
       " 0.24,\n",
       " 0.32,\n",
       " 0.0,\n",
       " 0.16,\n",
       " 0.04,\n",
       " 0.2,\n",
       " 0.037,\n",
       " 0.8889,\n",
       " 0.36,\n",
       " 0.3077,\n",
       " 0.1154,\n",
       " 0.8846,\n",
       " 0.1154,\n",
       " 0.2,\n",
       " 0.84,\n",
       " 0.4231,\n",
       " 0.72,\n",
       " 0.8519,\n",
       " 0.3462,\n",
       " 0.1538,\n",
       " 0.3077,\n",
       " 0.0,\n",
       " 0.1538,\n",
       " 0.2857,\n",
       " 0.96,\n",
       " 0.4231,\n",
       " 0.7407,\n",
       " 0.8519,\n",
       " 0.1111,\n",
       " 0.0,\n",
       " 1.0,\n",
       " 0.0,\n",
       " 0.2692,\n",
       " 0.9231,\n",
       " 0.08,\n",
       " 0.9655,\n",
       " 0.2593,\n",
       " 0.32,\n",
       " 0.0,\n",
       " 0.92,\n",
       " 0.3846,\n",
       " 0.3077,\n",
       " 0.8462,\n",
       " 0.12,\n",
       " 0.8571,\n",
       " 0.1538,\n",
       " 0.68,\n",
       " 0.7692,\n",
       " 0.1538,\n",
       " 0.0,\n",
       " 0.7308,\n",
       " 0.1481,\n",
       " 0.7778,\n",
       " 0.5769,\n",
       " 0.8077,\n",
       " 0.0357,\n",
       " 0.3846,\n",
       " 0.3462,\n",
       " 0.1154,\n",
       " 0.6154,\n",
       " 0.2692,\n",
       " 0.48,\n",
       " 0.5185,\n",
       " 0.96,\n",
       " 0.0,\n",
       " 0.84,\n",
       " 0.0,\n",
       " 0.1923,\n",
       " 0.0,\n",
       " 0.28,\n",
       " 0.6429,\n",
       " 0.84,\n",
       " 0.0769,\n",
       " 1.0,\n",
       " 0.12,\n",
       " 0.5,\n",
       " 0.1852,\n",
       " 0.5769,\n",
       " 0.5,\n",
       " 0.88,\n",
       " 0.88,\n",
       " 0.0385,\n",
       " 0.1852,\n",
       " 1.0,\n",
       " 0.0769,\n",
       " 0.6923,\n",
       " 0.6538,\n",
       " 0.12,\n",
       " 0.6071,\n",
       " 0.72,\n",
       " 0.0769,\n",
       " 0.3846,\n",
       " 0.7037,\n",
       " 0.0,\n",
       " 0.92,\n",
       " 0.6154,\n",
       " 0.3077,\n",
       " 0.08,\n",
       " 0.4231,\n",
       " 0.5769,\n",
       " 0.7308,\n",
       " 0.12,\n",
       " 0.88,\n",
       " 0.28,\n",
       " 0.8889,\n",
       " 0.3462,\n",
       " 0.8,\n",
       " 0.1923,\n",
       " 0.0769,\n",
       " 0.4286,\n",
       " 0.2143,\n",
       " 0.8462,\n",
       " 0.48,\n",
       " 0.08,\n",
       " 0.9231,\n",
       " 0.7308,\n",
       " 0.6538,\n",
       " 0.28,\n",
       " 0.037,\n",
       " 0.68,\n",
       " 1.0,\n",
       " 0.6538,\n",
       " 0.25,\n",
       " 0.28,\n",
       " 0.0741,\n",
       " 0.44,\n",
       " 0.6296,\n",
       " 0.8148,\n",
       " 0.12,\n",
       " 0.0769,\n",
       " 0.6538,\n",
       " 0.6154,\n",
       " 0.7692,\n",
       " 0.3462,\n",
       " 0.963,\n",
       " 0.88,\n",
       " 0.8077,\n",
       " 0.7308,\n",
       " 0.7308,\n",
       " 0.7143,\n",
       " 0.3846,\n",
       " 0.64,\n",
       " 0.3462,\n",
       " 0.5769,\n",
       " 0.2692,\n",
       " 0.08,\n",
       " 0.44,\n",
       " 0.52,\n",
       " 0.6923,\n",
       " 0.0769,\n",
       " 0.2963,\n",
       " 0.6538,\n",
       " 0.5185,\n",
       " 0.56,\n",
       " 0.4231,\n",
       " 0.0741,\n",
       " 0.0,\n",
       " 0.68,\n",
       " 0.3704,\n",
       " 0.4615,\n",
       " 0.6538,\n",
       " 0.2222,\n",
       " 0.0385,\n",
       " 0.3462,\n",
       " 1.0,\n",
       " 0.5769,\n",
       " 0.5714,\n",
       " 0.52,\n",
       " 0.6,\n",
       " 0.6923,\n",
       " 0.5769,\n",
       " 0.24,\n",
       " 0.96,\n",
       " 0.1481,\n",
       " 0.4444,\n",
       " 0.3846,\n",
       " 1.0,\n",
       " 0.3333,\n",
       " 0.04,\n",
       " 0.04,\n",
       " 0.2222,\n",
       " 0.5556,\n",
       " 0.5385,\n",
       " 0.8846,\n",
       " 0.0,\n",
       " 0.8077,\n",
       " 0.8846,\n",
       " 0.3077,\n",
       " 0.1923,\n",
       " 0.5769,\n",
       " 0.28,\n",
       " 0.6923,\n",
       " 0.36,\n",
       " 0.1071,\n",
       " 0.7857,\n",
       " 0.6538,\n",
       " 0.8519,\n",
       " 0.4,\n",
       " 0.4615,\n",
       " 0.4615,\n",
       " 0.5,\n",
       " 0.4138,\n",
       " 0.76,\n",
       " 0.9259,\n",
       " 0.6154,\n",
       " 0.8077,\n",
       " 0.7778,\n",
       " 0.4074,\n",
       " 0.4231,\n",
       " 0.6923,\n",
       " 0.6154,\n",
       " 0.04,\n",
       " 0.08,\n",
       " 0.0,\n",
       " 0.84,\n",
       " 0.4615,\n",
       " 0.2222,\n",
       " 0.12,\n",
       " 0.32,\n",
       " 0.4231,\n",
       " 0.0385,\n",
       " 0.4074,\n",
       " 0.9615,\n",
       " 0.6923,\n",
       " 0.963,\n",
       " 0.0714,\n",
       " 0.36,\n",
       " 0.0,\n",
       " 0.4231,\n",
       " 0.2308,\n",
       " 0.037,\n",
       " 0.3846,\n",
       " 0.8846,\n",
       " 0.8,\n",
       " 0.4815,\n",
       " 0.7037,\n",
       " 0.68,\n",
       " 0.12,\n",
       " 0.0,\n",
       " 0.04,\n",
       " 0.3462,\n",
       " 0.72,\n",
       " 0.4,\n",
       " 0.6154,\n",
       " 1.0,\n",
       " 0.3462,\n",
       " 0.7308,\n",
       " 0.92,\n",
       " 0.96,\n",
       " 0.2593,\n",
       " 0.7308,\n",
       " 0.88,\n",
       " 0.931,\n",
       " 0.9231,\n",
       " 0.0385,\n",
       " 0.08,\n",
       " 0.0769,\n",
       " 0.75,\n",
       " 0.1111,\n",
       " 0.7308,\n",
       " 0.0385,\n",
       " 0.8077,\n",
       " 0.2593,\n",
       " 0.84,\n",
       " 0.64,\n",
       " 0.12,\n",
       " 0.0385,\n",
       " 0.0769,\n",
       " 1.0,\n",
       " 0.96,\n",
       " 0.7778,\n",
       " 0.0,\n",
       " 0.6923,\n",
       " 0.3462,\n",
       " 0.3571,\n",
       " 0.8077,\n",
       " 0.6071,\n",
       " 0.037,\n",
       " 0.8462,\n",
       " 0.8214,\n",
       " 0.6923,\n",
       " 0.1538,\n",
       " 0.9259,\n",
       " 0.0,\n",
       " 0.1538,\n",
       " 0.3333,\n",
       " 0.48,\n",
       " 0.7778,\n",
       " 0.2692,\n",
       " 0.2963,\n",
       " 0.5556,\n",
       " 0.5385,\n",
       " 0.2143,\n",
       " 0.3333,\n",
       " 0.72,\n",
       " 0.9231,\n",
       " 0.6,\n",
       " 0.3462,\n",
       " 0.08,\n",
       " 0.64,\n",
       " 0.1538,\n",
       " 0.6154,\n",
       " 0.4615,\n",
       " 0.1154,\n",
       " 0.75,\n",
       " 0.6071,\n",
       " 0.5385,\n",
       " 0.5385,\n",
       " 1.0,\n",
       " 0.1154,\n",
       " 0.8462,\n",
       " 0.2,\n",
       " 0.16,\n",
       " 0.1429,\n",
       " 0.8077,\n",
       " 0.1154,\n",
       " 0.0,\n",
       " 0.7407,\n",
       " 0.037,\n",
       " 0.0769,\n",
       " 0.4,\n",
       " 0.0769,\n",
       " 0.6538,\n",
       " 0.44,\n",
       " 0.32,\n",
       " 0.3846,\n",
       " 0.25,\n",
       " 0.8462,\n",
       " 0.2692,\n",
       " 0.1538,\n",
       " 0.0,\n",
       " 0.5,\n",
       " 0.6923,\n",
       " 0.3846,\n",
       " 0.1111,\n",
       " 0.6667,\n",
       " 0.16,\n",
       " 0.8462,\n",
       " 1.0,\n",
       " 0.5769,\n",
       " 0.32,\n",
       " 0.3846,\n",
       " 0.3077,\n",
       " 0.963,\n",
       " 0.28,\n",
       " 0.56,\n",
       " 0.2857,\n",
       " 0.2308,\n",
       " 0.4231,\n",
       " 0.5769,\n",
       " 0.8077,\n",
       " 0.8462,\n",
       " 0.4231,\n",
       " 0.5185,\n",
       " 0.2,\n",
       " 0.3077,\n",
       " 0.4615,\n",
       " 0.1154,\n",
       " 0.6,\n",
       " 1.0,\n",
       " 0.7407,\n",
       " 0.52,\n",
       " 0.5385,\n",
       " 1.0,\n",
       " 0.12,\n",
       " 0.8846,\n",
       " 0.1154,\n",
       " 0.1852,\n",
       " 0.64,\n",
       " 0.3704,\n",
       " 0.3846,\n",
       " 0.5769,\n",
       " 0.8846,\n",
       " 0.48,\n",
       " 0.24,\n",
       " 0.3448,\n",
       " 0.8519,\n",
       " 0.8148,\n",
       " 0.9231,\n",
       " 0.7037,\n",
       " 0.9259,\n",
       " 0.5926,\n",
       " 1.0,\n",
       " 0.0769,\n",
       " 0.9231,\n",
       " 1.0,\n",
       " 0.4231,\n",
       " 0.6154,\n",
       " 0.0,\n",
       " 0.2692,\n",
       " 0.8889,\n",
       " 0.7308,\n",
       " 0.0,\n",
       " 0.25,\n",
       " 0.3462,\n",
       " 0.88,\n",
       " 0.5556,\n",
       " 0.3846,\n",
       " 0.8846,\n",
       " 0.8,\n",
       " 0.0769,\n",
       " 0.0385,\n",
       " 0.04,\n",
       " 0.5,\n",
       " 0.12,\n",
       " 0.6538,\n",
       " 0.2692,\n",
       " 0.5,\n",
       " 0.0,\n",
       " 0.1923,\n",
       " 0.9615,\n",
       " 0.3077,\n",
       " 1.0,\n",
       " 0.84,\n",
       " 0.2593,\n",
       " 0.963,\n",
       " 0.3077,\n",
       " 0.8077,\n",
       " 0.5926,\n",
       " 0.1852,\n",
       " 0.1923,\n",
       " 0.5385,\n",
       " 0.5,\n",
       " 0.0769,\n",
       " 0.0385,\n",
       " 0.5385,\n",
       " 0.8462,\n",
       " 0.3929,\n",
       " 0.2857,\n",
       " 0.0,\n",
       " 1.0,\n",
       " 0.963,\n",
       " 0.4231,\n",
       " 0.2308,\n",
       " 0.0,\n",
       " 0.4615,\n",
       " 0.84,\n",
       " 0.037,\n",
       " 0.6154,\n",
       " 0.72,\n",
       " 0.2692,\n",
       " 0.6296,\n",
       " 0.0,\n",
       " 0.0357,\n",
       " 0.5185,\n",
       " 0.64,\n",
       " 0.0385,\n",
       " 0.28,\n",
       " 0.037,\n",
       " 0.84,\n",
       " 0.7308,\n",
       " 0.0741,\n",
       " 0.16,\n",
       " 0.0769,\n",
       " 0.2857,\n",
       " 0.0,\n",
       " 0.8077,\n",
       " 0.0,\n",
       " 0.2222,\n",
       " 0.96,\n",
       " 0.9231,\n",
       " 0.5,\n",
       " 0.9615,\n",
       " 0.6538,\n",
       " 0.5385,\n",
       " 0.0,\n",
       " 0.52,\n",
       " 0.5926,\n",
       " 0.2,\n",
       " 0.2308,\n",
       " 0.16,\n",
       " 0.8148,\n",
       " 0.3846,\n",
       " 0.963,\n",
       " 0.0,\n",
       " 0.7586,\n",
       " 0.4074,\n",
       " 0.8846,\n",
       " 0.5556,\n",
       " 0.5385,\n",
       " 0.4286,\n",
       " 0.6154,\n",
       " 0.92,\n",
       " 0.56,\n",
       " 1.0,\n",
       " 0.7407,\n",
       " 0.52,\n",
       " 0.5385,\n",
       " 0.1111,\n",
       " 0.1481,\n",
       " 0.0714,\n",
       " 1.0,\n",
       " ...]"
      ]
     },
     "execution_count": 13,
     "metadata": {},
     "output_type": "execute_result"
    }
   ],
   "source": [
    "lista"
   ]
  },
  {
   "cell_type": "code",
   "execution_count": 14,
   "id": "neutral-bulgaria",
   "metadata": {},
   "outputs": [
    {
     "data": {
      "text/plain": [
       "<matplotlib.axes._subplots.AxesSubplot at 0x7f8a31b72700>"
      ]
     },
     "execution_count": 14,
     "metadata": {},
     "output_type": "execute_result"
    },
    {
     "data": {
      "image/png": "[encoded data removed]",
      "text/plain": [
       "<Figure size 432x288 with 1 Axes>"
      ]
     },
     "metadata": {
      "needs_background": "light"
     },
     "output_type": "display_data"
    }
   ],
   "source": [
    "#lista = data.where(data.numGroups == 25).rdd.map(lambda x: x[\"winPlacePerc\"]).collect()\n",
    "lista = data.where(data.matchId == '6dc8ff871e21e6').rdd.map(lambda x: x[\"winPlacePerc\"]).collect()\n",
    "\n",
    "tmp = pd.DataFrame()\n",
    "\n",
    "lista.sort()\n",
    "\n",
    "tmp[\"0\"] = lista\n",
    "\n",
    "tmp[\"0\"].value_counts().sort_index().plot(kind=\"bar\")"
   ]
  },
  {
   "cell_type": "code",
   "execution_count": 15,
   "id": "chemical-newfoundland",
   "metadata": {
    "scrolled": true
   },
   "outputs": [
    {
     "name": "stdout",
     "output_type": "stream",
     "text": [
      "-0.0104\n",
      "-0.0104\n",
      "-0.0104\n",
      "-0.010500000000000002\n",
      "-0.0104\n",
      "-0.0104\n",
      "-0.010400000000000006\n",
      "-0.010399999999999993\n",
      "-0.010499999999999995\n",
      "-0.010400000000000006\n",
      "-0.010399999999999993\n",
      "-0.010400000000000006\n",
      "-0.010399999999999993\n",
      "-0.01040000000000002\n",
      "-0.010399999999999993\n",
      "-0.010499999999999982\n",
      "-0.01040000000000002\n",
      "-0.010399999999999993\n",
      "-0.010399999999999993\n",
      "0.0\n",
      "-0.01040000000000002\n",
      "-0.010499999999999982\n",
      "-0.010399999999999993\n",
      "-0.01040000000000002\n",
      "-0.010399999999999993\n",
      "-0.01040000000000002\n",
      "-0.020799999999999985\n",
      "-0.01050000000000001\n",
      "-0.010399999999999965\n",
      "-0.01040000000000002\n",
      "-0.01040000000000002\n",
      "-0.010399999999999965\n",
      "-0.01050000000000001\n",
      "-0.01040000000000002\n",
      "-0.010399999999999965\n",
      "-0.01040000000000002\n",
      "-0.01040000000000002\n",
      "-0.010399999999999965\n",
      "-0.01040000000000002\n",
      "-0.01050000000000001\n",
      "-0.010399999999999965\n",
      "-0.01040000000000002\n",
      "-0.01040000000000002\n",
      "-0.010399999999999965\n",
      "-0.01050000000000001\n",
      "-0.01040000000000002\n",
      "-0.010399999999999965\n",
      "-0.01040000000000002\n",
      "-0.010399999999999965\n",
      "-0.010400000000000076\n",
      "-0.010399999999999965\n",
      "-0.010499999999999954\n",
      "-0.010400000000000076\n",
      "-0.010399999999999965\n",
      "-0.010399999999999965\n",
      "-0.010400000000000076\n",
      "-0.010499999999999954\n",
      "-0.010399999999999965\n",
      "-0.010400000000000076\n",
      "-0.010399999999999965\n",
      "-0.010399999999999965\n",
      "-0.010400000000000076\n",
      "-0.010399999999999965\n",
      "-0.010499999999999954\n",
      "-0.010400000000000076\n",
      "-0.010399999999999965\n",
      "-0.010399999999999965\n",
      "-0.010400000000000076\n",
      "-0.010499999999999954\n",
      "-0.010399999999999965\n",
      "-0.010400000000000076\n",
      "-0.010399999999999965\n",
      "-0.010399999999999965\n",
      "-0.010400000000000076\n",
      "-0.010399999999999965\n",
      "0.0\n",
      "-0.02090000000000003\n",
      "-0.010399999999999965\n",
      "-0.010399999999999965\n",
      "-0.010400000000000076\n",
      "-0.010499999999999954\n",
      "-0.010399999999999965\n",
      "-0.010400000000000076\n",
      "-0.010399999999999965\n",
      "-0.010399999999999965\n",
      "-0.010400000000000076\n",
      "-0.010399999999999965\n",
      "-0.010499999999999954\n",
      "-0.010400000000000076\n",
      "-0.010399999999999965\n",
      "-0.010399999999999965\n",
      "-0.010400000000000076\n",
      "-0.010499999999999954\n",
      "-0.010399999999999965\n",
      "-0.010400000000000076\n",
      "-0.010399999999999965\n"
     ]
    }
   ],
   "source": [
    "for i, el in enumerate(lista[0:-1]):\n",
    "    print(lista[i]-lista[i+1])\n",
    "    \n",
    "    "
   ]
  },
  {
   "cell_type": "code",
   "execution_count": 16,
   "id": "arabic-approval",
   "metadata": {},
   "outputs": [
    {
     "data": {
      "text/plain": [
       "97"
      ]
     },
     "execution_count": 16,
     "metadata": {},
     "output_type": "execute_result"
    }
   ],
   "source": [
    "len(lista)"
   ]
  },
  {
   "cell_type": "code",
   "execution_count": 17,
   "id": "remarkable-southeast",
   "metadata": {},
   "outputs": [
    {
     "name": "stdout",
     "output_type": "stream",
     "text": [
      "+---------+--------------+---------+\n",
      "|matchtype|       matchid|numGroups|\n",
      "+---------+--------------+---------+\n",
      "|        4|a10357fd1a4a91|       26|\n",
      "|        4|aeb375fc57110c|       25|\n",
      "|        2|110163d8bb94ae|       47|\n",
      "|        4|f1f1f4ef412d7e|       30|\n",
      "|        1|6dc8ff871e21e6|       95|\n",
      "+---------+--------------+---------+\n",
      "only showing top 5 rows\n",
      "\n"
     ]
    }
   ],
   "source": [
    "sqlCtx.sql(\"\"\"SELECT matchtype, matchid, numGroups from pubg\"\"\").show(5)"
   ]
  },
  {
   "cell_type": "code",
   "execution_count": 18,
   "id": "strong-affiliate",
   "metadata": {},
   "outputs": [
    {
     "name": "stdout",
     "output_type": "stream",
     "text": [
      "+--------------+--------------+--------------+-------+------+-----------+-----+-------------+-----+---------+----------+-----+-----------+-----------+-------------+---------+--------+---------+----------+-------+------------+---------+------------+---------+---------------+------------+---------------+---------+------------+------------------+-------------+\n",
      "|            Id|       groupId|       matchId|assists|boosts|damageDealt|DBNOs|headshotKills|heals|killPlace|killPoints|kills|killStreaks|longestKill|matchDuration|matchtype|maxPlace|numGroups|rankPoints|revives|rideDistance|roadKills|swimDistance|teamKills|vehicleDestroys|walkDistance|weaponsAcquired|winPoints|winPlacePerc|          distance|isFirstPerson|\n",
      "+--------------+--------------+--------------+-------+------+-----------+-----+-------------+-----+---------+----------+-----+-----------+-----------+-------------+---------+--------+---------+----------+-------+------------+---------+------------+---------+---------------+------------+---------------+---------+------------+------------------+-------------+\n",
      "|a13cd09f1f9148|c1e3bec62b9387|6dc8ff871e21e6|      0|     0|        0.0|    0|            0|    0|       97|         0|    0|          0|        0.0|         1424|        1|      97|       95|      1564|      0|         0.0|        0|         0.0|        0|              0|         0.0|              0|        0|         0.0|               0.0|         true|\n",
      "|016fae08c04ab0|1c8a46651e30c9|6dc8ff871e21e6|      0|     0|        0.0|    0|            0|    0|       96|         0|    0|          0|        0.0|         1424|        1|      97|       95|      1445|      0|         0.0|        0|         0.0|        0|              0|        29.5|              1|        0|      0.0104|              29.5|         true|\n",
      "|bd0324056a32dc|741ecc18d8fc18|6dc8ff871e21e6|      0|     0|       26.0|    0|            0|    0|       95|         0|    0|          0|        0.0|         1424|        1|      97|       95|      1580|      0|         0.0|        0|         0.0|        0|              0|       52.48|              1|        0|      0.0208|             52.48|         true|\n",
      "|008f1608733228|c3bdbde15faed3|6dc8ff871e21e6|      0|     0|        0.0|    0|            0|    0|       94|         0|    0|          0|        0.0|         1424|        1|      97|       95|      1497|      0|         0.0|        0|         0.0|        0|              0|         0.0|              0|        0|      0.0312|               0.0|         true|\n",
      "|442bb9b11e41b4|9c3f9a3cde5da5|6dc8ff871e21e6|      0|     0|        0.0|    0|            0|    0|       93|         0|    0|          0|        0.0|         1424|        1|      97|       95|      1508|      0|         0.0|        0|         0.0|        0|              0|       21.37|              1|        0|      0.0417|             21.37|         true|\n",
      "|dce5bd8d512952|2e1489a06950d4|6dc8ff871e21e6|      0|     0|       66.0|    0|            0|    0|       92|         0|    0|          0|        0.0|         1424|        1|      97|       95|      1490|      0|         0.0|        0|         0.0|        0|              0|       4.466|              1|        0|      0.0521|             4.466|         true|\n",
      "|02ab5055d1e97e|235d0c1ed45fbb|6dc8ff871e21e6|      0|     0|        0.0|    0|            0|    0|       91|         0|    0|          0|        0.0|         1424|        1|      97|       95|      1510|      0|         0.0|        0|         0.0|        0|              0|       28.85|              1|        0|      0.0625|             28.85|         true|\n",
      "|8254fbc7b0851d|e34eca9195d0e4|6dc8ff871e21e6|      0|     0|      32.59|    0|            0|    0|       90|         0|    0|          0|        0.0|         1424|        1|      97|       95|      1540|      0|         0.0|        0|         0.0|        0|              0|       11.35|              1|        0|      0.0729|             11.35|         true|\n",
      "|1b09e65866f1dc|8273de49e8295c|6dc8ff871e21e6|      0|     0|        0.0|    0|            0|    0|       89|         0|    0|          0|        0.0|         1424|        1|      97|       95|      1528|      0|         0.0|        0|         0.0|        0|              0|       17.86|              1|        0|      0.0833|             17.86|         true|\n",
      "|81e1eb43b3b438|f7f6a83931ca2b|6dc8ff871e21e6|      0|     0|        0.0|    0|            0|    0|       88|         0|    0|          0|        0.0|         1424|        1|      97|       95|      1316|      0|         0.0|        0|         0.0|        0|              0|       26.77|              1|        0|      0.0938|             26.77|         true|\n",
      "|de5696debccbd8|0bf84672cfefdf|6dc8ff871e21e6|      0|     0|        0.0|    0|            0|    0|       87|         0|    0|          0|        0.0|         1424|        1|      97|       95|      1540|      0|         0.0|        0|         0.0|        0|              0|       14.46|              0|        0|      0.1042|             14.46|         true|\n",
      "|8ca9469a28f5e3|bb2db4ee3fc63f|6dc8ff871e21e6|      0|     0|        0.0|    0|            0|    0|       86|         0|    0|          0|        0.0|         1424|        1|      97|       95|      1498|      0|         0.0|        0|         0.0|        0|              0|       19.72|              2|        0|      0.1146|             19.72|         true|\n",
      "|704b40fea7d007|31e117734e3dfe|6dc8ff871e21e6|      0|     0|      100.0|    0|            1|    0|       46|         0|    1|          1|      5.662|         1424|        1|      97|       95|      1464|      0|         0.0|        0|         0.0|        0|              0|       4.086|              1|        0|       0.125|             4.086|         true|\n",
      "|c405a711cf0dc9|2d8f70dd0c322e|6dc8ff871e21e6|      0|     0|        0.0|    0|            0|    0|       85|         0|    0|          0|        0.0|         1424|        1|      97|       95|      1516|      0|         0.0|        0|         0.0|        0|              0|       46.96|              1|        0|      0.1354|             46.96|         true|\n",
      "|d067b6bed05a8c|6b72c42cdcf827|6dc8ff871e21e6|      0|     0|        0.0|    0|            0|    0|       84|         0|    0|          0|        0.0|         1424|        1|      97|       95|      1441|      0|         0.0|        0|         0.0|        0|              0|       76.36|              1|        0|      0.1458|             76.36|         true|\n",
      "|f6d0be48cefd00|17acbaef4acad7|6dc8ff871e21e6|      0|     0|        0.0|    0|            0|    0|       83|         0|    0|          0|        0.0|         1424|        1|      97|       95|      1550|      0|         0.0|        0|         0.0|        0|              0|       48.02|              2|        0|      0.1562|             48.02|         true|\n",
      "|ddeb1c585e00aa|bcef3a2fdd06b6|6dc8ff871e21e6|      0|     0|      89.44|    0|            0|    0|       82|         0|    0|          0|        0.0|         1424|        1|      97|       95|      1492|      0|         0.0|        0|         0.0|        0|              0|       84.31|              1|        0|      0.1667|             84.31|         true|\n",
      "|3c07b0ef7e1cdb|7a45dff9ff92fd|6dc8ff871e21e6|      0|     0|      59.92|    0|            0|    0|       81|         0|    0|          0|        0.0|         1424|        1|      97|       95|      1530|      0|         0.0|        0|         0.0|        0|              0|       31.17|              1|        0|      0.1771|             31.17|         true|\n",
      "|315c96c26c9aac|de04010b3458dd|6dc8ff871e21e6|      0|     0|      100.0|    0|            0|    0|       45|         0|    1|          1|      58.53|         1424|        1|      97|       95|      1560|      0|         0.0|        0|         0.0|        0|              0|       49.75|              2|        0|      0.1875|             49.75|         true|\n",
      "|f921a757de248b|00523e90e8568c|6dc8ff871e21e6|      0|     0|        0.0|    0|            0|    0|       80|         0|    0|          0|        0.0|         1424|        1|      97|       95|      1500|      0|         0.0|        0|         0.0|        0|              0|         0.0|              0|        0|      0.1979|               0.0|         true|\n",
      "|cf806bed1e2faa|00523e90e8568c|6dc8ff871e21e6|      0|     0|      127.3|    0|            0|    0|       44|         0|    1|          1|      5.574|         1424|        1|      97|       95|      1470|      0|         0.0|        0|         0.0|        0|              0|        76.3|              2|        0|      0.1979|              76.3|         true|\n",
      "|c3f1206ac5d79d|b310af741eb257|6dc8ff871e21e6|      0|     0|      50.31|    0|            0|    0|       79|         0|    0|          0|        0.0|         1424|        1|      97|       95|      1492|      0|         0.0|        0|         0.0|        0|              0|       63.42|              2|        0|      0.2083|             63.42|         true|\n",
      "|e80f1babdd3685|b3789497b0fdce|6dc8ff871e21e6|      0|     0|       47.3|    0|            0|    0|       78|         0|    0|          0|        0.0|         1424|        1|      97|       95|      1623|      0|         0.0|        0|         0.0|        0|              0|       41.92|              3|        0|      0.2188|             41.92|         true|\n",
      "|e52b9b7178a55d|d1191ffcab9780|6dc8ff871e21e6|      0|     0|        0.0|    0|            0|    0|       77|         0|    0|          0|        0.0|         1424|        1|      97|       95|      1532|      0|         0.0|        0|         0.0|        0|              0|       42.75|              2|        0|      0.2292|             42.75|         true|\n",
      "|b743c8b589d4b6|001e08837a7485|6dc8ff871e21e6|      0|     0|      100.0|    0|            0|    1|       43|         0|    1|          1|      8.274|         1424|        1|      97|       95|      1627|      0|         0.0|        0|         0.0|        0|              0|       101.5|              1|        0|      0.2396|             101.5|         true|\n",
      "|0c3f6213ba7b2b|4e4df9801f47e1|6dc8ff871e21e6|      0|     0|      32.34|    0|            0|    0|       76|         0|    0|          0|        0.0|         1424|        1|      97|       95|      1561|      0|         0.0|        0|         0.0|        0|              0|       44.84|              2|        0|        0.25|             44.84|         true|\n",
      "|700e18bb82baa5|bbfbaca1f1b612|6dc8ff871e21e6|      0|     0|      100.0|    0|            1|    0|       42|         0|    1|          1|      22.79|         1424|        1|      97|       95|      1663|      0|         0.0|        0|         0.0|        0|              0|       64.46|              2|        0|      0.2604|             64.46|         true|\n",
      "|9007593ffe67b6|111742f4fc8505|6dc8ff871e21e6|      0|     0|      134.3|    0|            0|    0|       41|         0|    1|          1|      3.459|         1424|        1|      97|       95|      1510|      0|         0.0|        0|         0.0|        0|              0|       171.3|              2|        0|      0.2812|             171.3|         true|\n",
      "|04e350f0d70f49|16bb28940504ac|6dc8ff871e21e6|      0|     0|        0.0|    0|            0|    0|       75|         0|    0|          0|        0.0|         1424|        1|      97|       95|      1546|      0|         0.0|        0|         0.0|        0|              0|       94.23|              3|        0|      0.2917|             94.23|         true|\n",
      "|d8774acd09cc31|712f780d26e2df|6dc8ff871e21e6|      0|     1|      55.86|    0|            0|    2|       74|         0|    0|          0|        0.0|         1424|        1|      97|       95|      1566|      0|         0.0|        0|         0.0|        0|              0|       87.24|              3|        0|      0.3021|             87.24|         true|\n",
      "|f52218395f9c52|5d6d4bfb980aff|6dc8ff871e21e6|      0|     0|      100.0|    0|            1|    0|       40|         0|    1|          1|        0.0|         1424|        1|      97|       95|      1687|      0|         0.0|        0|       7.574|        0|              0|       113.8|              2|        0|      0.3125|           121.374|         true|\n",
      "|bd7347e4089ec4|79dea926baa874|6dc8ff871e21e6|      0|     0|      140.8|    0|            0|    0|       39|         0|    1|          1|      15.57|         1424|        1|      97|       95|      1521|      0|         0.0|        0|         0.0|        0|              0|       151.5|              3|        0|      0.3229|             151.5|         true|\n",
      "|7f566bad9c7e1f|c37f5165d082f9|6dc8ff871e21e6|      1|     0|      82.56|    0|            0|    0|       73|         0|    0|          0|        0.0|         1424|        1|      97|       95|      1603|      0|         0.0|        0|         0.0|        0|              0|       212.5|              1|        0|      0.3333|             212.5|         true|\n",
      "|ab9727114cc096|60a661d33edcd9|6dc8ff871e21e6|      0|     0|        0.0|    0|            0|    0|       72|         0|    0|          0|        0.0|         1424|        1|      97|       95|      1522|      0|         0.0|        0|         0.0|        0|              0|       238.9|              3|        0|      0.3438|             238.9|         true|\n",
      "|9cc4f7de3e4a26|fc513dba3aefc5|6dc8ff871e21e6|      0|     0|      100.0|    0|            0|    0|       38|         0|    1|          1|      3.815|         1424|        1|      97|       95|      1429|      0|         0.0|        0|         0.0|        0|              0|       60.51|              2|        0|      0.3542|             60.51|         true|\n",
      "|b50025e18c2491|4539eb46aa3043|6dc8ff871e21e6|      0|     2|      174.0|    0|            0|    2|       19|         0|    2|          1|      7.833|         1424|        1|      97|       95|      1489|      0|         0.0|        0|         0.0|        0|              0|       118.3|              2|        0|      0.3646|             118.3|         true|\n",
      "|665cc620023604|68dbbf0173f317|6dc8ff871e21e6|      0|     0|      32.76|    0|            0|    0|       71|         0|    0|          0|        0.0|         1424|        1|      97|       95|      1585|      0|         0.0|        0|         0.0|        0|              0|       280.8|              2|        0|       0.375|             280.8|         true|\n",
      "|cc303b01af4117|5bdb147fac51c8|6dc8ff871e21e6|      0|     0|       29.4|    0|            0|    0|       70|         0|    0|          0|        0.0|         1424|        1|      97|       95|      1543|      0|         0.0|        0|         0.0|        0|              0|       304.6|              2|        0|      0.3854|             304.6|         true|\n",
      "|8201f913e50a3a|c481525ce5eea9|6dc8ff871e21e6|      0|     0|      104.7|    0|            0|    0|       69|         0|    0|          0|        0.0|         1424|        1|      97|       95|      1542|      0|         0.0|        0|         0.0|        0|              0|       175.0|              4|        0|      0.3958|             175.0|         true|\n",
      "|2710b9eca84056|eccf89c51a65aa|6dc8ff871e21e6|      0|     1|      144.6|    0|            0|    1|       18|         0|    2|          1|      28.47|         1424|        1|      97|       95|      1497|      0|         0.0|        0|         0.0|        0|              0|       288.7|              3|        0|      0.4062|             288.7|         true|\n",
      "|0721d1bbe321be|3068ce27cf47e5|6dc8ff871e21e6|      0|     1|      100.0|    0|            0|    0|       37|         0|    1|          1|      10.32|         1424|        1|      97|       95|      1565|      0|         0.0|        0|         0.0|        0|              0|       69.99|              3|        0|      0.4167|             69.99|         true|\n",
      "|bc57168eb9be2f|e58cc7100a2385|6dc8ff871e21e6|      0|     0|      100.0|    0|            0|    0|       36|         0|    1|          1|      113.7|         1424|        1|      97|       95|      1516|      0|         0.0|        0|         0.0|        0|              0|       221.1|              5|        0|      0.4271|             221.1|         true|\n",
      "|ff1964f0c89abb|61d435a892e34c|6dc8ff871e21e6|      0|     2|       27.3|    0|            0|    1|       68|         0|    0|          0|        0.0|         1424|        1|      97|       95|      1536|      0|         0.0|        0|         0.0|        0|              0|       150.5|              3|        0|      0.4375|             150.5|         true|\n",
      "|474661675497dd|d26172beaa912c|6dc8ff871e21e6|      0|     0|       83.5|    0|            0|    0|       67|         0|    0|          0|        0.0|         1424|        1|      97|       95|      1640|      0|         0.0|        0|         0.0|        0|              0|       260.5|              4|        0|      0.4479|             260.5|         true|\n",
      "|ca80bab93eb545|12ae810f801183|6dc8ff871e21e6|      0|     1|      195.9|    0|            0|    0|       35|         0|    1|          1|      25.86|         1424|        1|      97|       95|      1497|      0|         0.0|        0|         0.0|        0|              0|       297.0|              2|        0|      0.4583|             297.0|         true|\n",
      "|59672142837e65|8b53a25ab70b1d|6dc8ff871e21e6|      0|     0|      30.08|    0|            0|    1|       66|         0|    0|          0|        0.0|         1424|        1|      97|       95|      1580|      0|         0.0|        0|         0.0|        0|              0|       616.0|              3|        0|      0.4688|             616.0|         true|\n",
      "|c5f85ef8311573|1ec6358a9b2153|6dc8ff871e21e6|      0|     2|      100.0|    0|            0|    5|       34|         0|    1|          1|      1.148|         1424|        1|      97|       95|      1483|      0|       463.6|        0|         0.0|        0|              0|       317.3|              4|        0|      0.4792| 780.9000000000001|         true|\n",
      "|167a6990447428|e023edd9e1f7f4|6dc8ff871e21e6|      0|     0|      158.7|    0|            1|    0|       33|         0|    1|          1|      21.41|         1424|        1|      97|       95|      1526|      0|         0.0|        0|         0.0|        0|              0|       289.2|              4|        0|      0.4896|             289.2|         true|\n",
      "|d27e84b98d2c71|306f50023b28bd|6dc8ff871e21e6|      0|     0|      184.8|    0|            0|    1|       32|         0|    1|          1|      9.263|         1424|        1|      97|       95|      1519|      0|         0.0|        0|         0.0|        0|              0|       242.1|              4|        0|         0.5|             242.1|         true|\n",
      "|7a9ab9c58dc484|5a19972ed709c2|6dc8ff871e21e6|      0|     0|        0.0|    0|            0|    0|       65|         0|    0|          0|        0.0|         1424|        1|      97|       95|      1624|      0|         0.0|        0|         0.0|        0|              0|       320.4|              5|        0|      0.5104|             320.4|         true|\n",
      "|7be08f708c7bba|ffad0374bb5d1c|6dc8ff871e21e6|      0|     0|      123.0|    0|            1|    0|       31|         0|    1|          1|      51.27|         1424|        1|      97|       95|      1623|      0|         0.0|        0|         0.0|        0|              0|       763.9|              7|        0|      0.5208|             763.9|         true|\n",
      "|3211a6ff142c29|bd7482d8dc13ca|6dc8ff871e21e6|      0|     0|      94.17|    0|            0|    0|       64|         0|    0|          0|        0.0|         1424|        1|      97|       95|      1579|      0|         0.0|        0|         0.0|        0|              0|       722.0|              5|        0|      0.5312|             722.0|         true|\n",
      "|50cb6679571ead|af7775f3c363ec|6dc8ff871e21e6|      0|     1|      37.52|    0|            0|    4|       63|         0|    0|          0|        0.0|         1424|        1|      97|       95|      1747|      0|         0.0|        0|         0.0|        0|              0|       401.5|              2|        0|      0.5417|             401.5|         true|\n",
      "|95e7e6538db204|429b9602a558c4|6dc8ff871e21e6|      0|     0|       71.4|    0|            0|    0|       62|         0|    0|          0|        0.0|         1424|        1|      97|       95|      1690|      0|         0.0|        0|         0.0|        0|              0|       470.9|              4|        0|      0.5521|             470.9|         true|\n",
      "|2de60d9836955d|562eaad6d3b999|6dc8ff871e21e6|      0|     0|       29.4|    0|            0|    0|       61|         0|    0|          0|        0.0|         1424|        1|      97|       95|      1538|      0|         0.0|        0|         0.0|        0|              0|       775.1|              3|        0|      0.5625|             775.1|         true|\n",
      "|689e82c76d1be7|7a769016b98876|6dc8ff871e21e6|      0|     1|      168.6|    0|            0|    1|       30|         0|    1|          1|      23.35|         1424|        1|      97|       95|      1510|      0|         0.0|        0|         0.0|        0|              0|       466.5|              4|        0|      0.5729|             466.5|         true|\n",
      "|cb4d7aa3f70cec|4bd93ab50bb2d2|6dc8ff871e21e6|      0|     0|      100.0|    0|            1|    0|       29|         0|    1|          1|      65.09|         1424|        1|      97|       95|      1497|      0|         0.0|        0|         0.0|        0|              0|       753.1|              5|        0|      0.5833|             753.1|         true|\n",
      "|c745fb3b3f73c3|580e908509cda8|6dc8ff871e21e6|      0|     1|      244.0|    0|            0|    0|       17|         0|    2|          1|      47.11|         1424|        1|      97|       95|      1601|      0|         0.0|        0|         0.0|        0|              0|       336.3|              5|        0|      0.5938|             336.3|         true|\n",
      "|3c624541f3e332|ed86363d3f9f71|6dc8ff871e21e6|      0|     1|      100.0|    0|            1|    2|       28|         0|    1|          1|      34.48|         1424|        1|      97|       95|      1503|      0|       899.2|        0|         0.0|        0|              0|       567.9|              3|        0|      0.6042|            1467.1|         true|\n",
      "|3e227b37c29173|43b65cdc1a264a|6dc8ff871e21e6|      0|     2|      83.64|    0|            0|    0|       60|         0|    0|          0|        0.0|         1424|        1|      97|       95|      1500|      0|         0.0|        0|         0.0|        0|              0|       515.9|              6|        0|      0.6146|             515.9|         true|\n",
      "|524a8882800eeb|a512eb2580efe0|6dc8ff871e21e6|      0|     1|      127.0|    0|            0|    1|       27|         0|    1|          1|      11.88|         1424|        1|      97|       95|      1482|      0|         0.0|        0|         0.0|        0|              0|       961.5|              4|        0|       0.625|             961.5|         true|\n",
      "|64b71ab648cb5d|786685ad1fe4f1|6dc8ff871e21e6|      0|     0|      100.0|    0|            0|    0|       26|         0|    1|          1|      5.687|         1424|        1|      97|       95|      1526|      0|         0.0|        0|         0.0|        0|              0|       867.0|              5|        0|      0.6354|             867.0|         true|\n",
      "|8f78b92b9d8cd6|ad22fb28468e61|6dc8ff871e21e6|      0|     0|        0.0|    0|            0|    0|       59|         0|    0|          0|        0.0|         1424|        1|      97|       95|      1652|      0|         0.0|        0|         0.0|        0|              0|      1452.0|              5|        0|      0.6458|            1452.0|         true|\n",
      "|22287021670ae7|27929ee9a2258e|6dc8ff871e21e6|      0|     0|      46.44|    0|            0|    0|       58|         0|    0|          0|        0.0|         1424|        1|      97|       95|      1672|      0|         0.0|        0|         0.0|        0|              0|      1292.0|              4|        0|      0.6562|            1292.0|         true|\n",
      "|39b65885e66abc|301193edb2e003|6dc8ff871e21e6|      0|     1|        0.0|    0|            0|    0|       57|         0|    0|          0|        0.0|         1424|        1|      97|       95|      1576|      0|         0.0|        0|         0.0|        0|              0|      1155.0|              3|        0|      0.6667|            1155.0|         true|\n",
      "|c6b9d234530775|65370bbb161a14|6dc8ff871e21e6|      0|     3|      352.7|    0|            2|    5|        7|         0|    4|          2|       58.9|         1424|        1|      97|       95|      1515|      0|         0.0|        0|         0.0|        0|              0|       700.4|              3|        0|      0.6771|             700.4|         true|\n",
      "|5d8655d2abbdf0|fd8897ee36efa7|6dc8ff871e21e6|      0|     1|        0.0|    0|            0|    2|       56|         0|    0|          0|        0.0|         1424|        1|      97|       95|      1512|      0|       853.2|        0|         0.0|        1|              0|      1139.0|              4|        0|      0.6875|            1992.2|         true|\n",
      "|9262024f14523d|1b92d98ab22413|6dc8ff871e21e6|      0|     3|        0.0|    0|            0|    3|       55|         0|    0|          0|        0.0|         1424|        1|      97|       95|      1664|      0|       732.7|        0|         0.0|        0|              0|      1781.0|              4|        0|      0.6979|            2513.7|         true|\n",
      "|cd4745c485899a|1697441f6b40ca|6dc8ff871e21e6|      0|     0|        0.0|    0|            0|    0|       54|         0|    0|          0|        0.0|         1424|        1|      97|       95|      1512|      0|         0.0|        0|         0.0|        0|              0|       874.1|              8|        0|      0.7083|             874.1|         true|\n",
      "|174d84dc4eba79|8de7c668678a6b|6dc8ff871e21e6|      0|     0|      69.09|    0|            0|    0|       53|         0|    0|          0|        0.0|         1424|        1|      97|       95|      1525|      0|         0.0|        0|         0.0|        0|              0|       778.2|              4|        0|      0.7188|             778.2|         true|\n",
      "|9db51dc4fc3ccb|a5acabaf500f2a|6dc8ff871e21e6|      0|     3|      253.0|    0|            0|    1|        9|         0|    3|          1|      59.12|         1424|        1|      97|       95|      1583|      0|         0.0|        0|         0.0|        0|              0|      1864.0|              4|        0|      0.7292|            1864.0|         true|\n",
      "|4f54491fc9da40|ec7f4ddcdb535f|6dc8ff871e21e6|      0|     1|      100.0|    0|            0|    1|       25|         0|    1|          1|      26.12|         1424|        1|      97|       95|      1574|      0|         0.0|        0|         0.0|        0|              0|      1627.0|              3|        0|      0.7396|            1627.0|         true|\n",
      "|26ca6e5ac28fca|8fb08f176c8707|6dc8ff871e21e6|      0|     3|      253.8|    0|            2|    2|       16|         0|    2|          1|      45.86|         1424|        1|      97|       95|      1648|      0|         0.0|        0|         0.0|        0|              0|      1557.0|              3|        0|        0.75|            1557.0|         true|\n",
      "|2d2151bf6fb0b6|3c4967e33f4802|6dc8ff871e21e6|      0|     1|      165.0|    0|            1|    0|       24|         0|    1|          1|      21.12|         1424|        1|      97|       95|      1513|      0|         0.0|        0|         0.0|        0|              0|      1743.0|              4|        0|      0.7604|            1743.0|         true|\n",
      "|51d7d3691c2c92|95753b9f149789|6dc8ff871e21e6|      0|     3|      292.7|    0|            0|    2|       15|         0|    2|          1|      25.13|         1424|        1|      97|       95|      1567|      0|      2064.0|        0|         0.0|        0|              0|      1442.0|              3|        0|      0.7708|            3506.0|         true|\n",
      "|cd3d45172d253e|8f7560b8e2a612|6dc8ff871e21e6|      0|     1|      74.73|    0|            0|    3|       52|         0|    0|          0|        0.0|         1424|        1|      97|       95|      1887|      0|         0.0|        0|         0.0|        0|              0|      1122.0|              7|        0|      0.7812|            1122.0|         true|\n",
      "|213eb3ec42070d|8f7560b8e2a612|6dc8ff871e21e6|      0|     0|      154.2|    0|            0|    0|       23|         0|    1|          1|      26.96|         1424|        1|      97|       95|      1634|      0|      1299.0|        0|         0.0|        0|              0|      1543.0|              5|        0|      0.7812|            2842.0|         true|\n",
      "|0bd2544ef79ba9|50f62ec09f1186|6dc8ff871e21e6|      1|     3|      196.6|    0|            0|    3|       14|         0|    2|          1|      28.48|         1424|        1|      97|       95|      1592|      0|         0.0|        0|       4.867|        0|              0|      2473.0|              6|        0|      0.8021|          2477.867|         true|\n",
      "|577286fcb5b3b4|54fdc7d2ca7e84|6dc8ff871e21e6|      0|     0|      363.6|    0|            2|    0|        8|         0|    3|          1|       23.1|         1424|        1|      97|       95|      1646|      0|         0.0|        0|         0.0|        0|              0|      1985.0|              4|        0|      0.8125|            1985.0|         true|\n",
      "|adc775517323cb|f1e42890b30921|6dc8ff871e21e6|      0|     2|      152.3|    0|            1|    1|       22|         0|    1|          1|      76.11|         1424|        1|      97|       95|      2018|      0|         0.0|        0|         0.0|        0|              0|      2111.0|             12|        0|      0.8229|            2111.0|         true|\n",
      "|353e6a115aa4ce|3c363d7a203c54|6dc8ff871e21e6|      0|     2|      336.4|    0|            1|    1|        6|         0|    4|          1|      51.57|         1424|        1|      97|       95|      1508|      0|         0.0|        0|       175.1|        0|              0|       963.7|              7|        0|      0.8333|            1138.8|         true|\n",
      "|d65e57c2366df6|8c4e8ec5de9e41|6dc8ff871e21e6|      0|     3|        0.0|    0|            0|    7|       51|         0|    0|          0|        0.0|         1424|        1|      97|       95|      1557|      0|      1463.0|        0|         0.0|        1|              0|      1666.0|              5|        0|      0.8438|            3129.0|         true|\n",
      "|2ee985fc916762|d56ab3ce052c0a|6dc8ff871e21e6|      0|     1|      200.0|    0|            1|    1|       13|         0|    2|          1|      89.96|         1424|        1|      97|       95|      1517|      0|         0.0|        0|         0.0|        0|              0|      1699.0|              9|        0|      0.8542|            1699.0|         true|\n",
      "|fcf98ee4b6b0e5|8c961562aa998d|6dc8ff871e21e6|      0|     3|      147.1|    0|            0|    9|       21|         0|    1|          1|      44.98|         1424|        1|      97|       95|      1652|      0|      3344.0|        0|       15.82|        0|              0|      1967.0|              3|        0|      0.8646|           5326.82|         true|\n",
      "|b345a18513dedc|a73faeda1eba1f|6dc8ff871e21e6|      0|     1|      209.0|    0|            1|    4|       12|         0|    2|          1|      150.1|         1424|        1|      97|       95|      1689|      0|         0.0|        0|         0.0|        0|              0|      2331.0|              3|        0|       0.875|            2331.0|         true|\n",
      "|d84c9e514eaf5d|502baeb5659b62|6dc8ff871e21e6|      0|     7|      134.9|    0|            1|    1|       11|         0|    2|          1|      107.2|         1424|        1|      97|       95|      1515|      0|         0.0|        0|       110.3|        0|              0|      2693.0|              4|        0|      0.8854|            2803.3|         true|\n",
      "|225d99976f6034|44837704478833|6dc8ff871e21e6|      0|     3|      258.6|    0|            0|    1|       20|         0|    1|          1|      12.21|         1424|        1|      97|       95|      1809|      0|         0.0|        0|         0.0|        0|              0|      1801.0|              5|        0|      0.8958|            1801.0|         true|\n",
      "|8dca2afadaf0d2|02441b05ed15e7|6dc8ff871e21e6|      0|     7|      368.1|    0|            2|    2|        5|         0|    4|          1|      228.3|         1424|        1|      97|       95|      1629|      0|      1983.0|        0|         0.0|        0|              0|      2448.0|              5|        0|      0.9062|            4431.0|         true|\n",
      "|60505f1287bae6|a4e454bbe770d8|6dc8ff871e21e6|      0|     5|      54.45|    0|            0|    0|       50|         0|    0|          0|        0.0|         1424|        1|      97|       95|      1587|      0|         0.0|        0|         0.0|        0|              0|      2084.0|              3|        0|      0.9167|            2084.0|         true|\n",
      "|ade7153a7d24e0|4d76ad99dfdead|6dc8ff871e21e6|      0|     4|      506.8|    0|            1|    2|        4|         0|    5|          1|      73.45|         1424|        1|      97|       95|      1631|      0|         0.0|        0|       16.84|        0|              0|      2048.0|              7|        0|      0.9271|           2064.84|         true|\n",
      "|f9bd68078c17c4|f1631215f89a6b|6dc8ff871e21e6|      0|     3|      192.0|    0|            1|    0|       10|         0|    2|          1|      207.7|         1424|        1|      97|       95|      1578|      0|      0.0056|        0|       33.24|        0|              0|      2232.0|              4|        0|      0.9375|2265.2455999999997|         true|\n",
      "|f1d5d1042b96ce|b4dc6ae6f7e101|6dc8ff871e21e6|      1|     3|       63.5|    0|            0|    1|       49|         0|    0|          0|        0.0|         1424|        1|      97|       95|      1590|      0|      1600.0|        0|       20.47|        0|              0|      3003.0|              3|        0|      0.9479| 4623.469999999999|         true|\n",
      "|b80337c06852c5|9b6402b5e1ad17|6dc8ff871e21e6|      0|     1|      149.0|    0|            0|    0|       48|         0|    0|          0|        0.0|         1424|        1|      97|       95|      1624|      0|         0.0|        0|         0.0|        0|              0|      2025.0|              7|        0|      0.9583|            2025.0|         true|\n",
      "|ea0b5a0f6e8a92|d5ee8b15ec6c0f|6dc8ff871e21e6|      0|     6|      47.64|    0|            0|    1|       47|         0|    0|          0|        0.0|         1424|        1|      97|       95|      1647|      0|         0.0|        0|         0.0|        0|              0|      1900.0|              4|        0|      0.9688|            1900.0|         true|\n",
      "|229c01d8080670|f0a713464e0e61|6dc8ff871e21e6|      0|     6|      611.2|    0|            2|    1|        3|         0|    5|          1|      72.79|         1424|        1|      97|       95|      1514|      0|         0.0|        0|         0.0|        0|              0|      3024.0|              5|        0|      0.9792|            3024.0|         true|\n",
      "|f906ce1b96b3b9|1740c0f20e1790|6dc8ff871e21e6|      2|     7|      458.6|    0|            1|   15|        2|         0|    5|          1|      82.24|         1424|        1|      97|       95|      1519|      0|         0.0|        0|         0.0|        0|              0|      3188.0|              8|        0|      0.9896|            3188.0|         true|\n",
      "|bc27dbb68ce049|ccda9734128aa9|6dc8ff871e21e6|      0|    10|      960.8|    0|            4|    6|        1|         0|   11|          2|      97.85|         1424|        1|      97|       95|      1932|      0|         0.0|        0|         0.0|        0|              0|      3134.0|              5|        0|         1.0|            3134.0|         true|\n",
      "+--------------+--------------+--------------+-------+------+-----------+-----+-------------+-----+---------+----------+-----+-----------+-----------+-------------+---------+--------+---------+----------+-------+------------+---------+------------+---------+---------------+------------+---------------+---------+------------+------------------+-------------+\n",
      "\n"
     ]
    }
   ],
   "source": [
    "sqlCtx.sql(\"\"\"SELECT *\n",
    "                    from pubg \n",
    "                    where matchid = '6dc8ff871e21e6' \n",
    "                    order by winPlacePerc\"\"\").show(100)"
   ]
  },
  {
   "cell_type": "code",
   "execution_count": null,
   "id": "latter-patrol",
   "metadata": {},
   "outputs": [],
   "source": []
  },
  {
   "cell_type": "code",
   "execution_count": 19,
   "id": "explicit-behavior",
   "metadata": {},
   "outputs": [
    {
     "name": "stdout",
     "output_type": "stream",
     "text": [
      "+--------------+--------------+--------------+-------+------+-----------+-----+-------------+-----+---------+----------+-----+-----------+-----------+-------------+---------+--------+---------+----------+-------+------------+---------+------------+---------+---------------+------------+---------------+---------+------------+--------+-------------+\n",
      "|            Id|       groupId|       matchId|assists|boosts|damageDealt|DBNOs|headshotKills|heals|killPlace|killPoints|kills|killStreaks|longestKill|matchDuration|matchtype|maxPlace|numGroups|rankPoints|revives|rideDistance|roadKills|swimDistance|teamKills|vehicleDestroys|walkDistance|weaponsAcquired|winPoints|winPlacePerc|distance|isFirstPerson|\n",
      "+--------------+--------------+--------------+-------+------+-----------+-----+-------------+-----+---------+----------+-----+-----------+-----------+-------------+---------+--------+---------+----------+-------+------------+---------+------------+---------+---------------+------------+---------------+---------+------------+--------+-------------+\n",
      "|cf806bed1e2faa|00523e90e8568c|6dc8ff871e21e6|      0|     0|      127.3|    0|            0|    0|       44|         0|    1|          1|      5.574|         1424|        1|      97|       95|      1470|      0|         0.0|        0|         0.0|        0|              0|        76.3|              2|        0|      0.1979|    76.3|         true|\n",
      "|f921a757de248b|00523e90e8568c|6dc8ff871e21e6|      0|     0|        0.0|    0|            0|    0|       80|         0|    0|          0|        0.0|         1424|        1|      97|       95|      1500|      0|         0.0|        0|         0.0|        0|              0|         0.0|              0|        0|      0.1979|     0.0|         true|\n",
      "|213eb3ec42070d|8f7560b8e2a612|6dc8ff871e21e6|      0|     0|      154.2|    0|            0|    0|       23|         0|    1|          1|      26.96|         1424|        1|      97|       95|      1634|      0|      1299.0|        0|         0.0|        0|              0|      1543.0|              5|        0|      0.7812|  2842.0|         true|\n",
      "|cd3d45172d253e|8f7560b8e2a612|6dc8ff871e21e6|      0|     1|      74.73|    0|            0|    3|       52|         0|    0|          0|        0.0|         1424|        1|      97|       95|      1887|      0|         0.0|        0|         0.0|        0|              0|      1122.0|              7|        0|      0.7812|  1122.0|         true|\n",
      "+--------------+--------------+--------------+-------+------+-----------+-----+-------------+-----+---------+----------+-----+-----------+-----------+-------------+---------+--------+---------+----------+-------+------------+---------+------------+---------+---------------+------------+---------------+---------+------------+--------+-------------+\n",
      "\n"
     ]
    }
   ],
   "source": [
    "# Seleziono i duplicati, usabile solo per match da 1 persona\n",
    "#sqlCtx.sql(\"\"\"SELECT p1.matchtype, p1.id, p1.groupid, p1.matchid, p1.winPlacePerc, p1.kills\n",
    "sqlCtx.sql(\"\"\"SELECT p1.*\n",
    "                    from pubg p1, pubg p2\n",
    "                    where p1.matchid = '6dc8ff871e21e6' \n",
    "                        and p1.groupid = p2.groupid\n",
    "                        and p1.id <> p2.id\n",
    "                    order by winPlacePerc\"\"\").show(100)"
   ]
  },
  {
   "cell_type": "markdown",
   "id": "massive-alert",
   "metadata": {},
   "source": [
    "controllare se si può estrarre dagli 0 i giocatori disconnessi da quelli arrivati ultimi.\n",
    "\n",
    "Cri: forse conviene prima ricavare i giocatori effettivi nel match (ci dovrebbe essere una variabile simile, che indica il numero di squadre)\n",
    "\n",
    "Cri - osservazioni sul matchid 6dc8ff871e21e6\n",
    "Questo match è composto da squadre di una persona.\n",
    "Se osserviamo il plot (score X #persone) vediamo come ci sono alcuni punteggi assegnati a due persone, il che è possibile solo in caso di pareggio. Nello specifico ci sono 4 persone con lo stesso punteggio (=> 2 non dovrebbero esistere)\n",
    "La lista di giocatori di tale match risulta essere compsta da 97 elementi, tuttavia, l'attributo numGroups ha valore 95 (che torna con i 2 valori anomali).\n",
    "\n",
    "I due utenti duplicati hanno come id rispettivamente f921a757de248b e cf806bed1e2faa, tuttavia hanno lo stesso groupid. potrebbe essere causato da una perdita di connessione (rientra in partita dopo un crash)?\n",
    "\n",
    "Alcuni attributi di un player tra quei due di prima risultano a 0 (distance, weaponsAcquired, damageDealt). \n",
    "- Potrebbe essere utile unificare i record? UNICA STRADA POSSIBILE\n",
    "- Conviene eliminare uno dei due duplicati (ad esempio quello con distance==0)? NON FATTIBILE --> non è sempre vero (vedi groupid 8f7560b8e2a612)\n",
    "\n",
    "Altre ipotesi:\n",
    "- numGroups indica il numero di gruppi (distinct groupid) nel match\n",
    "- maxPlace indica il numero di giocatori (distinct playerid) nel match\n",
    "- La classifica contiene due giocatori con lo stesso punteggio --> sono quelli crashati e riconnessi che hanno id diverso, ma stesso gruppo. \n",
    "- Guardando le distanze tra un winplaceperc e il suo successore otteniamo la maggior parte delle volte un valore costante (.0104...), ma non sempre (alcune volte è il doppio: .0208). Penso quindi che i percentili generati siano nello stesso numero di maxPlace. Per tenere di conto del problema delle disconnessioni dovremmo quindi trasformare la percentuale nella posizione effettiva della classifica e ricalcolare i percentili calcolandoli sull'attributo maxPlace\n",
    "\n",
    "\n",
    "Date queste osservazioni vedo sempre più necessario il fatto di trattare i dati aggregandoli per gruppi così da poter fare un unico modello e, contemporanemente, risolvere il problema delle riconnessioni (anche perchè nel caso del giocatore singolo sei in grado di capire a che giocatore associare i dati aggregati, nel caso di squadra da più persone chi sarà quello che si è disconnesso/crashato?)"
   ]
  },
  {
   "cell_type": "code",
   "execution_count": null,
   "id": "friendly-finance",
   "metadata": {},
   "outputs": [],
   "source": []
  },
  {
   "cell_type": "markdown",
   "id": "tough-scout",
   "metadata": {},
   "source": [
    "Oss: con somma dei risultati i player risultanti avrebbero alcuni attributi con domanio diverso e dipendente dal tipo di match, forse è meglio fare la media\n",
    "\n",
    "Suggerimenti per l'aggregazione.\n",
    "Invariati:\n",
    "- Id: eliminato\n",
    "- groupId: nuova chiave\n",
    "- matchId (dipendende funzionalmente dal gruppo)\n",
    "- matchDuration\n",
    "- winPlacePerc\n",
    "- isFirstPerson\n",
    "- matchtype\n",
    "- maxPlace\n",
    "- numGroups\n",
    "\n",
    "somma o int(media):\n",
    "- assists: nel caso di solo possono essere anche != da 0, quindi possiamo fare sei la somma che int(media)\n",
    "- boosts\n",
    "- heals\n",
    "- kills\n",
    "- headshotKills\n",
    "- killStreaks\n",
    "- roadKills\n",
    "- longestKill\n",
    "- vehicleDestroys (forse anche top, almeno si savano quei pochi che hanno distrutto un veicolo)\n",
    "- weaponsAcquired\n",
    "\n",
    "somma o media:\n",
    "- damageDealt\n",
    "- distance\n",
    "- rideDistance\n",
    "- swimDistance\n",
    "- walkDistance\n",
    "\n",
    "migliore?\n",
    "- killPlace: viene calcolato per ogni giocatore anche in caso di gruppi e riconnessioni.\n",
    "- rankPoints: sono diversi sempre, anche in caso di gruppi e riconnessioni\n",
    "\n",
    "#### LA QUERY È FINO A QUI\n",
    "\n",
    "altri\n",
    "- DBNOs: questo attributo è sempre uguale a 0 nei solo players. Cosa volgiamo fare? aggregare vorrebbe dire avere domini diversi a seconfa della condizione matchtype=solo, mettere tutto a 0/eliminare l'attributo vorrebbe dire perdere dei dati\n",
    "- revives\n",
    "- teamKills\n",
    "\n",
    "strani:\n",
    "- killPoints: nei 2 match che ho preso i valori sono sempre 0\n",
    "- winPoints: anche questi sono sempre a 0 nei due match analizzati"
   ]
  },
  {
   "cell_type": "code",
   "execution_count": 20,
   "id": "regulated-element",
   "metadata": {
    "scrolled": true
   },
   "outputs": [
    {
     "name": "stdout",
     "output_type": "stream",
     "text": [
      "+--------------+--------------+-------------+------------+-------------+---------+--------+---------+----------+----------+-----------+---------+---------+----------+---------+---------+----------+-----------------+-----------------+------------------+---------------+---------------+----------------+-------------+-------------+--------------+---------------+---------------+----------------+-------------------+-------------------+--------------------+-------------------+-------------------+--------------------+------------------+---------------+----------------+------------------+------------------+------------------+----------------+----------------+-----------------+----------------+----------------+-----------------+----------------+------------------+------------------+---------+----------+\n",
      "|       groupId|       matchId|matchDuration|winPlacePerc|isFirstPerson|matchtype|maxPlace|numGroups|assist_AVG|assist_SUM|assist_AVG2|heals_AVG|heals_SUM|heals_AVG2|kills_AVG|kills_SUM|kills_AVG2|headshotKills_AVG|headshotKills_SUM|headshotKills_AVG2|killStreaks_AVG|killStreaks_SUM|killStreaks_AVG2|roadKills_AVG|roadKills_SUM|roadKills_AVG2|longestKill_AVG|longestKill_SUM|longestKill_AVG2|vehicleDestroys_AVG|vehicleDestroys_SUM|vehicleDestroys_AVG2|weaponsAcquired_AVG|weaponsAcquired_SUM|weaponsAcquired_AVG2|   damageDealt_AVG|damageDealt_SUM|damageDealt_AVG2|      distance_AVG|      distance_SUM|     distance_AVG2|rideDistance_AVG|rideDistance_SUM|rideDistance_AVG2|swimDistance_AVG|swimDistance_SUM|swimDistance_AVG2|walkDistance_AVG|  walkDistance_SUM| walkDistance_AVG2|killPlace|rankPoints|\n",
      "+--------------+--------------+-------------+------------+-------------+---------+--------+---------+----------+----------+-----------+---------+---------+----------+---------+---------+----------+-----------------+-----------------+------------------+---------------+---------------+----------------+-------------+-------------+--------------+---------------+---------------+----------------+-------------------+-------------------+--------------------+-------------------+-------------------+--------------------+------------------+---------------+----------------+------------------+------------------+------------------+----------------+----------------+-----------------+----------------+----------------+-----------------+----------------+------------------+------------------+---------+----------+\n",
      "|12dfbede33f92b|224a123c53e008|            9|        null|         true|        1|       1|        1|         0|         0|          0|        0|        0|         0|        0|        0|         0|                0|                0|                 0|              0|              0|               0|            0|            0|             0|              0|            0.0|               0|                  0|                  0|                   0|                  0|                  0|                   0|               0.0|            0.0|             0.0|               0.0|               0.0|               0.0|             0.0|             0.0|              0.0|             0.0|             0.0|              0.0|               0|               0.0|               0.0|        1|      1574|\n",
      "|0d7dbc1855b88d|0a499afda636f7|         1395|         0.0|        false|        4|      27|       26|         0|         0|          0|        0|        0|         0|        0|        0|         0|                0|                0|                 0|              0|              0|               0|            0|            0|             0|              0|            0.0|               0|                  0|                  0|                   0|                  0|                  4|                   1|              40.0|          200.0|            50.0| 72.21600000000001|361.08000000000004| 90.27000000000001|             0.0|             0.0|              0.0|             0.0|             0.0|              0.0|              72|361.08000000000004| 90.27000000000001|       96|      1463|\n",
      "|105a495020edd8|8679be1d5a803b|         1774|         0.0|         true|        4|      28|       27|         0|         3|          0|        0|        1|         0|        0|        2|         0|                0|                0|                 0|              0|              2|               0|            0|            0|             0|              0|         10.523|               2|                  0|                  0|                   0|                  1|                 15|                   3| 58.88461538461539|          765.5|         191.375| 70.56230769230768|            917.31|          229.3275|             0.0|             0.0|              0.0|             0.0|             0.0|              0.0|              70|            917.31|          229.3275|       97|      1484|\n",
      "|77d570dcd27a5e|13e1d9f737ca01|         1384|         0.0|         true|        4|      29|       25|         0|         0|          0|        0|        0|         0|        0|        0|         0|                0|                0|                 0|              0|              0|               0|            0|            0|             0|              0|            0.0|               0|                  0|                  0|                   0|                  0|                  5|                   1|            12.322|         123.22|          30.805|17.887400000000003|178.87400000000002|44.718500000000006|             0.0|             0.0|              0.0|             0.0|             0.0|              0.0|              17|178.87400000000002|44.718500000000006|       96|      1507|\n",
      "|0aa5c5c05b917e|451adc664aa38b|         1445|         0.0|        false|        1|      89|       88|         0|         0|          0|        0|        0|         0|        0|        0|         0|                0|                0|                 0|              0|              0|               0|            0|            0|             0|              0|            0.0|               0|                  0|                  0|                   0|                  0|                  1|                   1|            21.165|          42.33|           42.33|              8.88|             17.76|             17.76|             0.0|             0.0|              0.0|             0.0|             0.0|              0.0|               8|             17.76|             17.76|       89|      1556|\n",
      "|05be2d82b9f928|2da078638fcac7|         1858|         0.0|         true|        2|      50|       48|         0|         0|          0|        0|        0|         0|        0|        0|         0|                0|                0|                 0|              0|              0|               0|            0|            0|             0|              0|            0.0|               0|                  0|                  0|                   0|                  0|                  0|                   0|               0.0|            0.0|             0.0|24.399999999999995| 73.19999999999999|36.599999999999994|             0.0|             0.0|              0.0|             0.0|             0.0|              0.0|              24| 73.19999999999999|36.599999999999994|       98|        -1|\n",
      "|3660ecb4a0bfdf|25843e12593be7|         1917|         0.0|        false|        2|      50|       49|         0|         0|          0|        0|        0|         0|        0|        1|         0|                0|                0|                 0|              0|              1|               0|            0|            0|             0|              1|          7.186|               3|                  0|                  0|                   0|                  0|                  1|                   0|30.066666666666666|          180.4|            90.2|            30.575|            183.45|            91.725|             0.0|             0.0|              0.0|             0.0|             0.0|              0.0|              30|            183.45|            91.725|       98|        -1|\n",
      "|02b0f9b2fe43b5|f967d377c7a6c1|         2078|         0.0|        false|        4|      28|       27|         0|         0|          0|        0|        0|         0|        0|        0|         0|                0|                0|                 0|              0|              0|               0|            0|            0|             0|              0|            0.0|               0|                  0|                  0|                   0|                  0|                  2|                   0|               0.0|            0.0|             0.0|          93.36125|            746.89|          186.7225|            41.3|           330.4|             82.6|             0.0|             0.0|              0.0|              52|            416.49|          104.1225|       94|      1500|\n",
      "|02d8526002f5ea|f4d2b694e87cef|         1977|         0.0|         true|        2|      48|       44|         0|         0|          0|        0|        0|         0|        0|        0|         0|                0|                0|                 0|              0|              0|               0|            0|            0|             0|              0|            0.0|               0|                  0|                  0|                   0|                  0|                  1|                   0|               0.0|            0.0|             0.0|17.483333333333334|             104.9|             52.45|             0.0|             0.0|              0.0|             0.0|             0.0|              0.0|              17|             104.9|             52.45|       91|      1554|\n",
      "|0b30129b761097|15cbd06f140f95|         2019|         0.0|         true|        1|      88|       85|         0|         1|          1|        0|        0|         0|        0|        0|         0|                0|                0|                 0|              0|              0|               0|            0|            0|             0|              0|            0.0|               0|                  0|                  0|                   0|                  0|                  1|                   1|12.763333333333334|          38.29|           38.29| 4.416666666666667|             13.25|             13.25|             0.0|             0.0|              0.0|             0.0|             0.0|              0.0|               4|             13.25|             13.25|       88|      1558|\n",
      "+--------------+--------------+-------------+------------+-------------+---------+--------+---------+----------+----------+-----------+---------+---------+----------+---------+---------+----------+-----------------+-----------------+------------------+---------------+---------------+----------------+-------------+-------------+--------------+---------------+---------------+----------------+-------------------+-------------------+--------------------+-------------------+-------------------+--------------------+------------------+---------------+----------------+------------------+------------------+------------------+----------------+----------------+-----------------+----------------+----------------+-----------------+----------------+------------------+------------------+---------+----------+\n",
      "only showing top 10 rows\n",
      "\n"
     ]
    }
   ],
   "source": [
    "res = sqlCtx.sql(\"\"\"SELECT \n",
    "                        groupId, matchId, matchDuration, winPlacePerc, isFirstPerson, matchtype, maxPlace, numGroups,\n",
    "                        \n",
    "                        INT(AVG(assists)) AS assist_AVG, \n",
    "                            SUM(assists) AS assist_SUM, \n",
    "                            IF(COUNT(*) > matchtype, INT(SUM(assists)/matchtype), INT(SUM(assists)/COUNT(*))) as assist_AVG2,\n",
    "                            \n",
    "                        INT(AVG(heals)) AS heals_AVG, \n",
    "                            SUM(heals) AS heals_SUM, \n",
    "                            INT(IF(COUNT(*) > matchtype, SUM(heals)/matchtype, SUM(heals)/COUNT(*))) as heals_AVG2,\n",
    "                            \n",
    "                        INT(AVG(kills)) AS kills_AVG, \n",
    "                            SUM(kills) AS kills_SUM, \n",
    "                            INT(IF(COUNT(*) > matchtype, SUM(kills)/matchtype, SUM(kills)/COUNT(*))) as kills_AVG2,\n",
    "                            \n",
    "                        INT(AVG(headshotKills)) AS headshotKills_AVG, \n",
    "                            SUM(headshotKills) AS headshotKills_SUM, \n",
    "                            INT(IF(COUNT(*) > matchtype, SUM(headshotKills)/matchtype, SUM(headshotKills)/COUNT(*))) as headshotKills_AVG2,\n",
    "                            \n",
    "                        INT(AVG(killStreaks)) AS killStreaks_AVG, \n",
    "                            SUM(killStreaks) AS killStreaks_SUM, \n",
    "                            INT(IF(COUNT(*) > matchtype, SUM(killStreaks)/matchtype, SUM(killStreaks)/COUNT(*))) as killStreaks_AVG2,\n",
    "                            \n",
    "                        INT(AVG(roadKills)) AS roadKills_AVG, \n",
    "                            SUM(roadKills) AS roadKills_SUM, \n",
    "                            INT(IF(COUNT(*) > matchtype, SUM(roadKills)/matchtype, SUM(roadKills)/COUNT(*))) as roadKills_AVG2,\n",
    "                            \n",
    "                        INT(AVG(longestKill)) AS longestKill_AVG, \n",
    "                            SUM(longestKill) AS longestKill_SUM, \n",
    "                            INT(IF(COUNT(*) > matchtype, SUM(longestKill)/matchtype, SUM(longestKill)/COUNT(*))) as longestKill_AVG2,\n",
    "                            \n",
    "                        INT(AVG(vehicleDestroys)) AS vehicleDestroys_AVG, \n",
    "                            SUM(vehicleDestroys) AS vehicleDestroys_SUM, \n",
    "                            INT(IF(COUNT(*) > matchtype, SUM(vehicleDestroys)/matchtype, SUM(vehicleDestroys)/COUNT(*))) as vehicleDestroys_AVG2,\n",
    "                            \n",
    "                        INT(AVG(weaponsAcquired)) AS weaponsAcquired_AVG, \n",
    "                            SUM(weaponsAcquired) AS weaponsAcquired_SUM, \n",
    "                            INT(IF(COUNT(*) > matchtype, SUM(weaponsAcquired)/matchtype, SUM(weaponsAcquired)/COUNT(*))) as weaponsAcquired_AVG2,\n",
    "                            \n",
    "                        \n",
    "                        AVG(damageDealt) AS damageDealt_AVG, \n",
    "                            SUM(damageDealt) AS damageDealt_SUM, \n",
    "                            IF(COUNT(*) > matchtype, SUM(damageDealt)/matchtype, SUM(damageDealt)/COUNT(*)) as damageDealt_AVG2,\n",
    "                        \n",
    "                        AVG(distance) AS distance_AVG, \n",
    "                            SUM(distance) AS distance_SUM, \n",
    "                            IF(COUNT(*) > matchtype, SUM(distance)/matchtype, SUM(distance)/COUNT(*)) as distance_AVG2,\n",
    "                        \n",
    "                        AVG(rideDistance) AS rideDistance_AVG, \n",
    "                            SUM(rideDistance) AS rideDistance_SUM, \n",
    "                            IF(COUNT(*) > matchtype, SUM(rideDistance)/matchtype, SUM(rideDistance)/COUNT(*)) as rideDistance_AVG2,\n",
    "                        \n",
    "                        AVG(swimDistance) AS swimDistance_AVG, \n",
    "                            SUM(swimDistance) AS swimDistance_SUM, \n",
    "                            IF(COUNT(*) > matchtype, SUM(swimDistance)/matchtype, SUM(swimDistance)/COUNT(*)) as swimDistance_AVG2,\n",
    "                        \n",
    "                        INT(AVG(walkDistance)) AS walkDistance_AVG, \n",
    "                            SUM(walkDistance) AS walkDistance_SUM, \n",
    "                            IF(COUNT(*) > matchtype, SUM(walkDistance)/matchtype, SUM(walkDistance)/COUNT(*)) as walkDistance_AVG2,\n",
    "                         \n",
    "                         MAX(killPlace) AS killPlace,\n",
    "                         MAX(rankPoints) AS rankPoints\n",
    "                         \n",
    "                         \n",
    "                    from pubg \n",
    "                    group by groupId, matchId, matchDuration, winPlacePerc, isFirstPerson, matchtype, maxPlace, numGroups\n",
    "                    order by winPlacePerc\"\"\")\n",
    "\n",
    "res.show(10)"
   ]
  },
  {
   "cell_type": "raw",
   "id": "separated-university",
   "metadata": {},
   "source": [
    "BASE_ATTR = 'groupId, matchId, matchDuration, winPlacePerc, isFirstPerson, matchtype, maxPlace, numGroups'.split(\", \")\n",
    "AVG2_ATTR = [x for x in res.columns if \"AVG2\" in x]\n",
    "AVG_ATTR = [x for x in res.columns if \"AVG\" in x and x not in AVG2_ATTR]\n",
    "SUM_ATTR = [x for x in res.columns if \"SUM\" in x]"
   ]
  },
  {
   "cell_type": "raw",
   "id": "beautiful-panel",
   "metadata": {},
   "source": [
    "# cri: non so quanto corretto sia, ma salvo questi 3 nuovi dataframe in files \n",
    "# (e commento la cella sennò si perde tempo ogni volta)\n",
    "df = res[BASE_ATTR+AVG2_ATTR]\n",
    "df.repartition(1).write.option(\"header\",True).option(\"compression\",\"gzip\").csv(\"tmp\")\n",
    "!cp tmp/*.csv.gz AVG2.csv.gz\n",
    "!rm -rf tmp/\n",
    "\n",
    "df = res[BASE_ATTR+AVG_ATTR]\n",
    "df.repartition(1).write.option(\"header\",True).option(\"compression\",\"gzip\").csv(\"tmp\")\n",
    "!cp tmp/*.csv.gz AVG.csv.gz\n",
    "!rm -rf tmp/\n",
    "\n",
    "df = res[BASE_ATTR+SUM_ATTR]\n",
    "df.repartition(1).write.option(\"header\",True).option(\"compression\",\"gzip\").csv(\"tmp\")\n",
    "!cp tmp/*.csv.gz SUM.csv.gz\n",
    "!rm -rf tmp/"
   ]
  },
  {
   "cell_type": "code",
   "execution_count": null,
   "id": "abandoned-migration",
   "metadata": {},
   "outputs": [],
   "source": []
  },
  {
   "cell_type": "code",
   "execution_count": null,
   "id": "thirty-dynamics",
   "metadata": {},
   "outputs": [],
   "source": []
  },
  {
   "cell_type": "markdown",
   "id": "enabling-banking",
   "metadata": {},
   "source": [
    "# Data understanding"
   ]
  },
  {
   "cell_type": "markdown",
   "id": "elect-allergy",
   "metadata": {},
   "source": [
    "data.summary().toPandas()"
   ]
  },
  {
   "cell_type": "code",
   "execution_count": 3,
   "id": "qualified-council",
   "metadata": {},
   "outputs": [
    {
     "data": {
      "text/html": [
       "<div>\n",
       "<style scoped>\n",
       "    .dataframe tbody tr th:only-of-type {\n",
       "        vertical-align: middle;\n",
       "    }\n",
       "\n",
       "    .dataframe tbody tr th {\n",
       "        vertical-align: top;\n",
       "    }\n",
       "\n",
       "    .dataframe thead th {\n",
       "        text-align: right;\n",
       "    }\n",
       "</style>\n",
       "<table border=\"1\" class=\"dataframe\">\n",
       "  <thead>\n",
       "    <tr style=\"text-align: right;\">\n",
       "      <th></th>\n",
       "      <th>Id</th>\n",
       "      <th>groupId</th>\n",
       "      <th>matchId</th>\n",
       "      <th>assists</th>\n",
       "      <th>boosts</th>\n",
       "      <th>damageDealt</th>\n",
       "      <th>DBNOs</th>\n",
       "      <th>headshotKills</th>\n",
       "      <th>heals</th>\n",
       "      <th>killPlace</th>\n",
       "      <th>...</th>\n",
       "      <th>rideDistance</th>\n",
       "      <th>roadKills</th>\n",
       "      <th>swimDistance</th>\n",
       "      <th>teamKills</th>\n",
       "      <th>vehicleDestroys</th>\n",
       "      <th>walkDistance</th>\n",
       "      <th>weaponsAcquired</th>\n",
       "      <th>winPoints</th>\n",
       "      <th>winPlacePerc</th>\n",
       "      <th>distance</th>\n",
       "    </tr>\n",
       "  </thead>\n",
       "  <tbody>\n",
       "    <tr>\n",
       "      <th>0</th>\n",
       "      <td>0</td>\n",
       "      <td>0</td>\n",
       "      <td>0</td>\n",
       "      <td>0</td>\n",
       "      <td>0</td>\n",
       "      <td>0</td>\n",
       "      <td>0</td>\n",
       "      <td>0</td>\n",
       "      <td>0</td>\n",
       "      <td>0</td>\n",
       "      <td>...</td>\n",
       "      <td>0</td>\n",
       "      <td>0</td>\n",
       "      <td>0</td>\n",
       "      <td>0</td>\n",
       "      <td>0</td>\n",
       "      <td>0</td>\n",
       "      <td>0</td>\n",
       "      <td>0</td>\n",
       "      <td>1</td>\n",
       "      <td>0</td>\n",
       "    </tr>\n",
       "  </tbody>\n",
       "</table>\n",
       "<p>1 rows × 30 columns</p>\n",
       "</div>"
      ],
      "text/plain": [
       "   Id  groupId  matchId  assists  boosts  damageDealt  DBNOs  headshotKills  \\\n",
       "0   0        0        0        0       0            0      0              0   \n",
       "\n",
       "   heals  killPlace  ...  rideDistance  roadKills  swimDistance  teamKills  \\\n",
       "0      0          0  ...             0          0             0          0   \n",
       "\n",
       "   vehicleDestroys  walkDistance  weaponsAcquired  winPoints  winPlacePerc  \\\n",
       "0                0             0                0          0             1   \n",
       "\n",
       "   distance  \n",
       "0         0  \n",
       "\n",
       "[1 rows x 30 columns]"
      ]
     },
     "execution_count": 3,
     "metadata": {},
     "output_type": "execute_result"
    }
   ],
   "source": [
    "# Find Count of Null, None, NaN of All DataFrame Columns\n",
    "from pyspark.sql.functions import col, isnan, when, count\n",
    "\n",
    "data.select([count(when(isnan(c) | col(c).isNull(), c)).alias(c) for c in data.columns]).toPandas()"
   ]
  },
  {
   "cell_type": "code",
   "execution_count": 4,
   "id": "valuable-pilot",
   "metadata": {},
   "outputs": [],
   "source": [
    "from pyspark.sql.functions import col\n",
    "\n",
    "data = data.dropna()"
   ]
  },
  {
   "cell_type": "code",
   "execution_count": null,
   "id": "major-inspection",
   "metadata": {},
   "outputs": [],
   "source": []
  },
  {
   "cell_type": "markdown",
   "id": "affected-welsh",
   "metadata": {},
   "source": [
    "## matchType\n",
    "string identifying the game mode that the data comes from. The standard modes are “solo”, “duo”, “squad”, “solo-fpp”, “duo-fpp”, and “squad-fpp”; other modes are from events or custom matches."
   ]
  },
  {
   "cell_type": "code",
   "execution_count": 5,
   "id": "lucky-springer",
   "metadata": {},
   "outputs": [
    {
     "data": {
      "text/plain": [
       "<matplotlib.axes._subplots.AxesSubplot at 0x7f79902fc0d0>"
      ]
     },
     "execution_count": 5,
     "metadata": {},
     "output_type": "execute_result"
    },
    {
     "data": {
      "image/png": "[encoded data removed]",
      "text/plain": [
       "<Figure size 432x288 with 1 Axes>"
      ]
     },
     "metadata": {
      "needs_background": "light"
     },
     "output_type": "display_data"
    }
   ],
   "source": [
    "tmp = sqlCtx.sql(\"\"\"SELECT matchtype, count(distinct groupId) as count FROM pubg GROUP BY matchtype ORDER BY count(distinct groupId)\"\"\")\n",
    "tmp.toPandas().set_index(\"matchtype\").plot(kind=\"bar\")"
   ]
  },
  {
   "cell_type": "code",
   "execution_count": 6,
   "id": "opposite-value",
   "metadata": {},
   "outputs": [],
   "source": [
    "#tmp.filter(col('count') > 10000)[['matchType']]\n",
    "toKeep = tmp.rdd.filter(lambda x: x[1] > 10000).map(lambda x: x[\"matchtype\"]).collect()"
   ]
  },
  {
   "cell_type": "code",
   "execution_count": 7,
   "id": "covered-passion",
   "metadata": {},
   "outputs": [],
   "source": [
    "data = data.filter(data.matchType.isin(toKeep))\n",
    "data.createOrReplaceTempView(\"pubg\")"
   ]
  },
  {
   "cell_type": "code",
   "execution_count": 8,
   "id": "ceramic-entrepreneur",
   "metadata": {},
   "outputs": [
    {
     "data": {
      "text/plain": [
       "<matplotlib.axes._subplots.AxesSubplot at 0x7f79901e9f40>"
      ]
     },
     "execution_count": 8,
     "metadata": {},
     "output_type": "execute_result"
    },
    {
     "data": {
      "image/png": "[encoded data removed]",
      "text/plain": [
       "<Figure size 432x288 with 1 Axes>"
      ]
     },
     "metadata": {
      "needs_background": "light"
     },
     "output_type": "display_data"
    }
   ],
   "source": [
    "tmp = sqlCtx.sql(\"\"\"SELECT matchtype, count(distinct groupId) as count FROM pubg GROUP BY matchtype ORDER BY count(distinct groupId)\"\"\")\n",
    "tmp.toPandas().set_index(\"matchtype\").plot(kind=\"bar\")"
   ]
  },
  {
   "cell_type": "markdown",
   "id": "saved-fighter",
   "metadata": {},
   "source": [
    "Creazione di una nuova colonna \"isFistPerson\" per indicare se il match è in modalità prima persona o meno"
   ]
  },
  {
   "cell_type": "code",
   "execution_count": 9,
   "id": "casual-cable",
   "metadata": {},
   "outputs": [],
   "source": [
    "data = data.withColumn(\"isFirstPerson\", when(col(\"matchtype\").contains(\"fpp\"), True).otherwise(False))"
   ]
  },
  {
   "cell_type": "markdown",
   "id": "literary-treaty",
   "metadata": {},
   "source": [
    "Si raggruppano i tipi di match in 3 categorie: solo, duo e squad"
   ]
  },
  {
   "cell_type": "code",
   "execution_count": 10,
   "id": "higher-involvement",
   "metadata": {},
   "outputs": [],
   "source": [
    "data = data.withColumn(\"matchtype\", when(col(\"matchtype\").contains(\"duo\"), 2)\n",
    "                           .when(col(\"matchtype\").contains(\"solo\"), 1)\n",
    "                           .otherwise(4))\n",
    "\n",
    "data.createOrReplaceTempView(\"pubg\")"
   ]
  },
  {
   "cell_type": "code",
   "execution_count": 11,
   "id": "perceived-guest",
   "metadata": {},
   "outputs": [
    {
     "data": {
      "text/plain": [
       "<matplotlib.axes._subplots.AxesSubplot at 0x7f7990136d30>"
      ]
     },
     "execution_count": 11,
     "metadata": {},
     "output_type": "execute_result"
    },
    {
     "data": {
      "image/png": "[encoded data removed]",
      "text/plain": [
       "<Figure size 432x288 with 1 Axes>"
      ]
     },
     "metadata": {
      "needs_background": "light"
     },
     "output_type": "display_data"
    }
   ],
   "source": [
    "tmp = sqlCtx.sql(\"\"\"SELECT matchtype, count(distinct groupId) as count FROM pubg GROUP BY matchtype ORDER BY count(distinct groupId)\"\"\")\n",
    "tmp.toPandas().set_index(\"matchtype\").plot(kind=\"bar\")"
   ]
  },
  {
   "cell_type": "code",
   "execution_count": null,
   "id": "grateful-happening",
   "metadata": {},
   "outputs": [],
   "source": []
  },
  {
   "cell_type": "code",
   "execution_count": 12,
   "id": "infectious-serve",
   "metadata": {},
   "outputs": [
    {
     "data": {
      "text/plain": [
       "Index(['Id', 'groupId', 'matchId', 'assists', 'boosts', 'damageDealt', 'DBNOs',\n",
       "       'headshotKills', 'heals', 'killPlace', 'killPoints', 'kills',\n",
       "       'killStreaks', 'longestKill', 'matchDuration', 'matchtype', 'maxPlace',\n",
       "       'numGroups', 'rankPoints', 'revives', 'rideDistance', 'roadKills',\n",
       "       'swimDistance', 'teamKills', 'vehicleDestroys', 'walkDistance',\n",
       "       'weaponsAcquired', 'winPoints', 'winPlacePerc', 'distance',\n",
       "       'isFirstPerson'],\n",
       "      dtype='object')"
      ]
     },
     "execution_count": 12,
     "metadata": {},
     "output_type": "execute_result"
    }
   ],
   "source": [
    "#sample del dataframe spark per plotting\n",
    "seed = 42\n",
    "df_pandas = data.sample(False, 0.2, seed).toPandas()\n",
    "\n",
    "# Alternativa\n",
    "#df = data[['killPlace', 'winPlacePerc', 'matchtype']].sample(False, 0.5, seed).toPandas()\n",
    "#df = data[['killPlace', 'winPlacePerc', 'matchtype']].toPandas()\n",
    "df_pandas.columns"
   ]
  },
  {
   "cell_type": "markdown",
   "id": "perfect-wages",
   "metadata": {},
   "source": [
    "## Identificatori: Id, groupId, matchId"
   ]
  },
  {
   "cell_type": "markdown",
   "id": "serial-article",
   "metadata": {},
   "source": [
    "Id: unique identifier of a single player, which can partecipate or not in a team.\n",
    "\n",
    "groupId: ID to identify a group within a match. If the same group of players plays in different matches, they will have a different groupId each time.\n",
    "\n",
    "matchID: ID to identify match."
   ]
  },
  {
   "cell_type": "code",
   "execution_count": 13,
   "id": "general-gross",
   "metadata": {},
   "outputs": [
    {
     "data": {
      "text/plain": [
       "'Record totali: 4411698'"
      ]
     },
     "execution_count": 13,
     "metadata": {},
     "output_type": "execute_result"
    }
   ],
   "source": [
    "F'Record totali: {data.count()}'"
   ]
  },
  {
   "cell_type": "code",
   "execution_count": 14,
   "id": "thirty-horizontal",
   "metadata": {},
   "outputs": [
    {
     "name": "stdout",
     "output_type": "stream",
     "text": [
      "+------------------+\n",
      "|count(DISTINCT Id)|\n",
      "+------------------+\n",
      "|           4411698|\n",
      "+------------------+\n",
      "\n",
      "+-----------------------+\n",
      "|count(DISTINCT groupId)|\n",
      "+-----------------------+\n",
      "|                2014090|\n",
      "+-----------------------+\n",
      "\n",
      "+-----------------------+\n",
      "|count(DISTINCT matchId)|\n",
      "+-----------------------+\n",
      "|                  47185|\n",
      "+-----------------------+\n",
      "\n"
     ]
    }
   ],
   "source": [
    "sqlCtx.sql(\"\"\"SELECT count(distinct Id) FROM pubg\"\"\").show()\n",
    "sqlCtx.sql(\"\"\"SELECT count(distinct groupId) FROM pubg\"\"\").show()\n",
    "sqlCtx.sql(\"\"\"SELECT count(distinct matchId) FROM pubg\"\"\").show()"
   ]
  },
  {
   "cell_type": "code",
   "execution_count": null,
   "id": "developmental-gallery",
   "metadata": {},
   "outputs": [],
   "source": []
  },
  {
   "cell_type": "code",
   "execution_count": 15,
   "id": "worldwide-sleep",
   "metadata": {},
   "outputs": [
    {
     "data": {
      "text/plain": [
       "<matplotlib.axes._subplots.AxesSubplot at 0x7f798bfd82b0>"
      ]
     },
     "execution_count": 15,
     "metadata": {},
     "output_type": "execute_result"
    },
    {
     "data": {
      "image/png": "[encoded data removed]",
      "text/plain": [
       "<Figure size 432x288 with 1 Axes>"
      ]
     },
     "metadata": {
      "needs_background": "light"
     },
     "output_type": "display_data"
    }
   ],
   "source": [
    "lista = data.where(data.matchId == '6dc8ff871e21e6').rdd.map(lambda x: x[\"winPlacePerc\"]).collect()\n",
    "tmp = pd.DataFrame()\n",
    "lista.sort()\n",
    "tmp[\"0\"] = lista\n",
    "tmp[\"0\"].value_counts().sort_index().plot(kind=\"bar\")"
   ]
  },
  {
   "cell_type": "markdown",
   "id": "sustainable-thirty",
   "metadata": {},
   "source": [
    "## assist"
   ]
  },
  {
   "cell_type": "markdown",
   "id": "still-tumor",
   "metadata": {},
   "source": [
    "the assists means that i don't kill enemy but help kill enemy. So when you look at the variable, there is also a kill. In other words, if I kill the enemy? kill +1. but if I did not kill the enemy but helped kill the enemy?assists + 1"
   ]
  },
  {
   "cell_type": "code",
   "execution_count": 16,
   "id": "swedish-playlist",
   "metadata": {},
   "outputs": [
    {
     "name": "stdout",
     "output_type": "stream",
     "text": [
      "+-------+-------------------+\n",
      "|summary|            assists|\n",
      "+-------+-------------------+\n",
      "|  count|            4411698|\n",
      "|   mean|0.22876361890591787|\n",
      "| stddev| 0.5704108734878232|\n",
      "|    min|                  0|\n",
      "|    25%|                  0|\n",
      "|    50%|                  0|\n",
      "|    75%|                  0|\n",
      "|    max|                 12|\n",
      "+-------+-------------------+\n",
      "\n"
     ]
    }
   ],
   "source": [
    "data.select('assists').summary().show()"
   ]
  },
  {
   "cell_type": "code",
   "execution_count": 17,
   "id": "lovely-landing",
   "metadata": {},
   "outputs": [
    {
     "data": {
      "text/plain": [
       "<matplotlib.axes._subplots.AxesSubplot at 0x7f796276ebb0>"
      ]
     },
     "execution_count": 17,
     "metadata": {},
     "output_type": "execute_result"
    },
    {
     "data": {
      "image/png": "[encoded data removed]",
      "text/plain": [
       "<Figure size 432x288 with 1 Axes>"
      ]
     },
     "metadata": {
      "needs_background": "light"
     },
     "output_type": "display_data"
    }
   ],
   "source": [
    "data.groupBy('assists').count().orderBy(col('count').desc()).toPandas().set_index('assists').plot(kind='bar')"
   ]
  },
  {
   "cell_type": "code",
   "execution_count": 18,
   "id": "metric-summary",
   "metadata": {},
   "outputs": [
    {
     "data": {
      "text/plain": [
       "<matplotlib.axes._subplots.AxesSubplot at 0x7f79677f6e20>"
      ]
     },
     "execution_count": 18,
     "metadata": {},
     "output_type": "execute_result"
    },
    {
     "data": {
      "image/png": "[encoded data removed]",
      "text/plain": [
       "<Figure size 432x288 with 1 Axes>"
      ]
     },
     "metadata": {
      "needs_background": "light"
     },
     "output_type": "display_data"
    }
   ],
   "source": [
    "cross_tab = data.crosstab('assists', 'matchtype').toPandas().sort_values(by=[\"assists_matchtype\"]).set_index('assists_matchtype')\n",
    "cross_tab.plot.bar(stacked=True)"
   ]
  },
  {
   "cell_type": "markdown",
   "id": "incorrect-scheduling",
   "metadata": {},
   "source": [
    "> cri: visto che i colori si sovrappongono conviene forse fare questo tipo di grafico già escludendo i gametype con pochi record (quindi usando il dataset con i soli tipi solo, duo o squad e valutare se discriminare fpp o tpp)\n",
    "\n",
    "> cri2: ho riordinato i risultati per assist_matchtype, controllate che non abbia fatto casino con crosstab e soprattutto con l'ordine in cui avete eseguito il codice (per come l'ho trovato avevate saltato il codice che cambiava matchtype da stringa a numerico)"
   ]
  },
  {
   "cell_type": "markdown",
   "id": "informed-fossil",
   "metadata": {},
   "source": [
    "## boosts"
   ]
  },
  {
   "cell_type": "markdown",
   "id": "worse-builder",
   "metadata": {},
   "source": [
    "number of boost items used. Both 'boosts' and 'heals' variables are items that restore health. But the boosts immediately show the effect, and the heals show the effect slowly."
   ]
  },
  {
   "cell_type": "code",
   "execution_count": 19,
   "id": "lined-geology",
   "metadata": {},
   "outputs": [
    {
     "name": "stdout",
     "output_type": "stream",
     "text": [
      "+-------+------------------+\n",
      "|summary|            boosts|\n",
      "+-------+------------------+\n",
      "|  count|           4411698|\n",
      "|   mean|1.1049192397122378|\n",
      "| stddev|1.7146506619500843|\n",
      "|    min|                 0|\n",
      "|    25%|                 0|\n",
      "|    50%|                 0|\n",
      "|    75%|                 2|\n",
      "|    max|                33|\n",
      "+-------+------------------+\n",
      "\n"
     ]
    }
   ],
   "source": [
    "data.select('boosts').summary().show()"
   ]
  },
  {
   "cell_type": "code",
   "execution_count": 20,
   "id": "opened-baptist",
   "metadata": {},
   "outputs": [
    {
     "data": {
      "text/plain": [
       "<matplotlib.axes._subplots.AxesSubplot at 0x7f79677cf3a0>"
      ]
     },
     "execution_count": 20,
     "metadata": {},
     "output_type": "execute_result"
    },
    {
     "data": {
      "image/png": "[encoded data removed]",
      "text/plain": [
       "<Figure size 432x288 with 1 Axes>"
      ]
     },
     "metadata": {
      "needs_background": "light"
     },
     "output_type": "display_data"
    }
   ],
   "source": [
    "data.groupBy('boosts').count().orderBy(col('count').desc()).toPandas().set_index('boosts').plot(kind='bar')"
   ]
  },
  {
   "cell_type": "markdown",
   "id": "answering-prime",
   "metadata": {},
   "source": [
    "## damageDealt"
   ]
  },
  {
   "cell_type": "markdown",
   "id": "seventh-computer",
   "metadata": {},
   "source": [
    "total damage dealt. Note: Self inflicted damage is subtracted. If it is not headshot, it does not die in one shot. So restores health by using boosts or heals. 'damageDealt' means how many bullets have ever been hit."
   ]
  },
  {
   "cell_type": "code",
   "execution_count": 21,
   "id": "sunset-thickness",
   "metadata": {},
   "outputs": [
    {
     "name": "stdout",
     "output_type": "stream",
     "text": [
      "+-------+------------------+\n",
      "|summary|       damageDealt|\n",
      "+-------+------------------+\n",
      "|  count|           4411698|\n",
      "|   mean|129.26890968896862|\n",
      "| stddev|165.55830220522043|\n",
      "|    min|               0.0|\n",
      "|    25%|               0.0|\n",
      "|    50%|             83.85|\n",
      "|    75%|             185.1|\n",
      "|    max|            3796.0|\n",
      "+-------+------------------+\n",
      "\n"
     ]
    }
   ],
   "source": [
    "data.select('damageDealt').summary().show()"
   ]
  },
  {
   "cell_type": "code",
   "execution_count": 22,
   "id": "tough-warren",
   "metadata": {},
   "outputs": [
    {
     "data": {
      "text/plain": [
       "<matplotlib.axes._subplots.AxesSubplot at 0x7f796b8eff10>"
      ]
     },
     "execution_count": 22,
     "metadata": {},
     "output_type": "execute_result"
    },
    {
     "data": {
      "image/png": "[encoded data removed]",
      "text/plain": [
       "<Figure size 432x288 with 1 Axes>"
      ]
     },
     "metadata": {
      "needs_background": "light"
     },
     "output_type": "display_data"
    }
   ],
   "source": [
    "df_pandas.damageDealt.hist(bins=20)"
   ]
  },
  {
   "cell_type": "code",
   "execution_count": 23,
   "id": "incomplete-charger",
   "metadata": {},
   "outputs": [
    {
     "data": {
      "text/plain": [
       "<matplotlib.axes._subplots.AxesSubplot at 0x7f79751f67c0>"
      ]
     },
     "execution_count": 23,
     "metadata": {},
     "output_type": "execute_result"
    },
    {
     "data": {
      "image/png": "[encoded data removed]",
      "text/plain": [
       "<Figure size 432x288 with 1 Axes>"
      ]
     },
     "metadata": {
      "needs_background": "light"
     },
     "output_type": "display_data"
    }
   ],
   "source": [
    "sns.boxplot(x=\"matchtype\", y=\"damageDealt\", data=df_pandas)"
   ]
  },
  {
   "cell_type": "code",
   "execution_count": 24,
   "id": "curious-arthur",
   "metadata": {},
   "outputs": [
    {
     "data": {
      "text/plain": [
       "<matplotlib.axes._subplots.AxesSubplot at 0x7f7977ba0520>"
      ]
     },
     "execution_count": 24,
     "metadata": {},
     "output_type": "execute_result"
    },
    {
     "data": {
      "image/png": "[encoded data removed]",
      "text/plain": [
       "<Figure size 432x288 with 1 Axes>"
      ]
     },
     "metadata": {
      "needs_background": "light"
     },
     "output_type": "display_data"
    }
   ],
   "source": [
    "sns.scatterplot(x=\"winPlacePerc\", y=\"damageDealt\", data=df_pandas)"
   ]
  },
  {
   "cell_type": "code",
   "execution_count": null,
   "id": "greatest-preliminary",
   "metadata": {},
   "outputs": [],
   "source": []
  },
  {
   "cell_type": "markdown",
   "id": "stuffed-chosen",
   "metadata": {},
   "source": [
    "## DBNOs\n",
    "number of enemy players knocked. DBNOs variable means Number of enemy players knocked. Knocked is not dead, but can not act. so if you are knocked, your colleagues can save you (revives variable) but if you died? you don't save... :("
   ]
  },
  {
   "cell_type": "code",
   "execution_count": 25,
   "id": "mechanical-conviction",
   "metadata": {},
   "outputs": [
    {
     "name": "stdout",
     "output_type": "stream",
     "text": [
      "+-------+------------------+\n",
      "|summary|             DBNOs|\n",
      "+-------+------------------+\n",
      "|  count|           4411698|\n",
      "|   mean|0.6541451840085155|\n",
      "| stddev|1.1241384530222183|\n",
      "|    min|                 0|\n",
      "|    25%|                 0|\n",
      "|    50%|                 0|\n",
      "|    75%|                 1|\n",
      "|    max|                32|\n",
      "+-------+------------------+\n",
      "\n"
     ]
    }
   ],
   "source": [
    "data.select('DBNOs').summary().show()"
   ]
  },
  {
   "cell_type": "code",
   "execution_count": 26,
   "id": "sensitive-confirmation",
   "metadata": {},
   "outputs": [
    {
     "data": {
      "text/plain": [
       "<matplotlib.axes._subplots.AxesSubplot at 0x7f79798a89a0>"
      ]
     },
     "execution_count": 26,
     "metadata": {},
     "output_type": "execute_result"
    },
    {
     "data": {
      "image/png": "[encoded data removed]",
      "text/plain": [
       "<Figure size 432x288 with 1 Axes>"
      ]
     },
     "metadata": {
      "needs_background": "light"
     },
     "output_type": "display_data"
    }
   ],
   "source": [
    "data.groupBy('DBNOs').count().orderBy(col('count').desc()).toPandas().set_index('DBNOs').plot(kind='bar')"
   ]
  },
  {
   "cell_type": "code",
   "execution_count": 27,
   "id": "phantom-ambassador",
   "metadata": {},
   "outputs": [
    {
     "data": {
      "text/plain": [
       "<matplotlib.axes._subplots.AxesSubplot at 0x7f797b58db20>"
      ]
     },
     "execution_count": 27,
     "metadata": {},
     "output_type": "execute_result"
    },
    {
     "data": {
      "image/png": "[encoded data removed]",
      "text/plain": [
       "<Figure size 432x288 with 1 Axes>"
      ]
     },
     "metadata": {
      "needs_background": "light"
     },
     "output_type": "display_data"
    }
   ],
   "source": [
    "sns.boxplot(x=\"matchtype\", y=\"DBNOs\", data=df_pandas)"
   ]
  },
  {
   "cell_type": "markdown",
   "id": "expected-police",
   "metadata": {},
   "source": [
    "Si osserva che DBNOs è sempre 0 per i match di tipo 'solo'"
   ]
  },
  {
   "cell_type": "code",
   "execution_count": 28,
   "id": "lesser-better",
   "metadata": {},
   "outputs": [
    {
     "data": {
      "text/plain": [
       "<matplotlib.axes._subplots.AxesSubplot at 0x7f79804f9c10>"
      ]
     },
     "execution_count": 28,
     "metadata": {},
     "output_type": "execute_result"
    },
    {
     "data": {
      "image/png": "[encoded data removed]",
      "text/plain": [
       "<Figure size 432x288 with 1 Axes>"
      ]
     },
     "metadata": {
      "needs_background": "light"
     },
     "output_type": "display_data"
    }
   ],
   "source": [
    "sns.scatterplot(x=\"winPlacePerc\", y=\"DBNOs\", data=df_pandas)"
   ]
  },
  {
   "cell_type": "markdown",
   "id": "union-nursery",
   "metadata": {},
   "source": [
    "> cri: Forse questi con molti dati conviene farli su un subsample "
   ]
  },
  {
   "cell_type": "markdown",
   "id": "tutorial-telescope",
   "metadata": {},
   "source": [
    "## headshotKills\n",
    "number of enemy players head-shotted's. It means that a bullet hit his head and he died right away. It's important that he died right away."
   ]
  },
  {
   "cell_type": "code",
   "execution_count": 29,
   "id": "respective-wings",
   "metadata": {},
   "outputs": [
    {
     "name": "stdout",
     "output_type": "stream",
     "text": [
      "+-------+-------------------+\n",
      "|summary|      headshotKills|\n",
      "+-------+-------------------+\n",
      "|  count|            4411698|\n",
      "|   mean|0.22373176949102136|\n",
      "| stddev| 0.5859880788905978|\n",
      "|    min|                  0|\n",
      "|    25%|                  0|\n",
      "|    50%|                  0|\n",
      "|    75%|                  0|\n",
      "|    max|                 26|\n",
      "+-------+-------------------+\n",
      "\n"
     ]
    }
   ],
   "source": [
    "data.select('headshotKills').summary().show()"
   ]
  },
  {
   "cell_type": "code",
   "execution_count": 30,
   "id": "aggressive-corner",
   "metadata": {},
   "outputs": [
    {
     "data": {
      "text/plain": [
       "<matplotlib.axes._subplots.AxesSubplot at 0x7f798212b6d0>"
      ]
     },
     "execution_count": 30,
     "metadata": {},
     "output_type": "execute_result"
    },
    {
     "data": {
      "image/png": "[encoded data removed]",
      "text/plain": [
       "<Figure size 432x288 with 1 Axes>"
      ]
     },
     "metadata": {
      "needs_background": "light"
     },
     "output_type": "display_data"
    }
   ],
   "source": [
    "data.groupBy('headshotKills').count().orderBy(col('count').desc()).toPandas().set_index('headshotKills').plot(kind='bar')"
   ]
  },
  {
   "cell_type": "code",
   "execution_count": null,
   "id": "defined-routine",
   "metadata": {},
   "outputs": [],
   "source": []
  },
  {
   "cell_type": "markdown",
   "id": "fatty-editing",
   "metadata": {},
   "source": [
    "## heals\n",
    " number of healing items used. See difference with 'boots'."
   ]
  },
  {
   "cell_type": "code",
   "execution_count": 31,
   "id": "visible-barrier",
   "metadata": {},
   "outputs": [
    {
     "name": "stdout",
     "output_type": "stream",
     "text": [
      "+-------+------------------+\n",
      "|summary|             heals|\n",
      "+-------+------------------+\n",
      "|  count|           4411698|\n",
      "|   mean|1.3620658077683467|\n",
      "| stddev| 2.669458631778128|\n",
      "|    min|                 0|\n",
      "|    25%|                 0|\n",
      "|    50%|                 0|\n",
      "|    75%|                 2|\n",
      "|    max|                80|\n",
      "+-------+------------------+\n",
      "\n"
     ]
    }
   ],
   "source": [
    "data.select('heals').summary().show()"
   ]
  },
  {
   "cell_type": "code",
   "execution_count": 32,
   "id": "colonial-bulgaria",
   "metadata": {},
   "outputs": [
    {
     "data": {
      "text/plain": [
       "<matplotlib.axes._subplots.AxesSubplot at 0x7f7983eab310>"
      ]
     },
     "execution_count": 32,
     "metadata": {},
     "output_type": "execute_result"
    },
    {
     "data": {
      "image/png": "[encoded data removed]",
      "text/plain": [
       "<Figure size 432x288 with 1 Axes>"
      ]
     },
     "metadata": {
      "needs_background": "light"
     },
     "output_type": "display_data"
    }
   ],
   "source": [
    "df_pandas.heals.hist()"
   ]
  },
  {
   "cell_type": "code",
   "execution_count": 33,
   "id": "adaptive-pavilion",
   "metadata": {},
   "outputs": [
    {
     "data": {
      "text/html": [
       "<div>\n",
       "<style scoped>\n",
       "    .dataframe tbody tr th:only-of-type {\n",
       "        vertical-align: middle;\n",
       "    }\n",
       "\n",
       "    .dataframe tbody tr th {\n",
       "        vertical-align: top;\n",
       "    }\n",
       "\n",
       "    .dataframe thead th {\n",
       "        text-align: right;\n",
       "    }\n",
       "</style>\n",
       "<table border=\"1\" class=\"dataframe\">\n",
       "  <thead>\n",
       "    <tr style=\"text-align: right;\">\n",
       "      <th></th>\n",
       "      <th>matchtype</th>\n",
       "      <th>avg(heals)</th>\n",
       "    </tr>\n",
       "  </thead>\n",
       "  <tbody>\n",
       "    <tr>\n",
       "      <th>0</th>\n",
       "      <td>1</td>\n",
       "      <td>1.010299</td>\n",
       "    </tr>\n",
       "    <tr>\n",
       "      <th>1</th>\n",
       "      <td>4</td>\n",
       "      <td>1.485113</td>\n",
       "    </tr>\n",
       "    <tr>\n",
       "      <th>2</th>\n",
       "      <td>2</td>\n",
       "      <td>1.331256</td>\n",
       "    </tr>\n",
       "  </tbody>\n",
       "</table>\n",
       "</div>"
      ],
      "text/plain": [
       "   matchtype  avg(heals)\n",
       "0          1    1.010299\n",
       "1          4    1.485113\n",
       "2          2    1.331256"
      ]
     },
     "execution_count": 33,
     "metadata": {},
     "output_type": "execute_result"
    }
   ],
   "source": [
    "data.groupBy('matchtype').avg('heals').toPandas()"
   ]
  },
  {
   "cell_type": "code",
   "execution_count": 34,
   "id": "electrical-violin",
   "metadata": {},
   "outputs": [
    {
     "data": {
      "text/plain": [
       "<matplotlib.axes._subplots.AxesSubplot at 0x7f7984d15970>"
      ]
     },
     "execution_count": 34,
     "metadata": {},
     "output_type": "execute_result"
    },
    {
     "data": {
      "image/png": "[encoded data removed]",
      "text/plain": [
       "<Figure size 432x288 with 1 Axes>"
      ]
     },
     "metadata": {
      "needs_background": "light"
     },
     "output_type": "display_data"
    }
   ],
   "source": [
    "sns.boxplot(x=\"matchtype\", y=\"heals\", data=df_pandas)"
   ]
  },
  {
   "cell_type": "markdown",
   "id": "champion-disposal",
   "metadata": {},
   "source": [
    "## killPlace\n",
    " ranking in match of number of enemy players killed."
   ]
  },
  {
   "cell_type": "code",
   "execution_count": 35,
   "id": "incorporated-watts",
   "metadata": {},
   "outputs": [
    {
     "name": "stdout",
     "output_type": "stream",
     "text": [
      "+-------+------------------+\n",
      "|summary|         killPlace|\n",
      "+-------+------------------+\n",
      "|  count|           4411698|\n",
      "|   mean|47.728825499841555|\n",
      "| stddev|27.460104599625414|\n",
      "|    min|                 1|\n",
      "|    25%|                24|\n",
      "|    50%|                48|\n",
      "|    75%|                71|\n",
      "|    max|               100|\n",
      "+-------+------------------+\n",
      "\n"
     ]
    }
   ],
   "source": [
    "data.select('killPlace').summary().show()"
   ]
  },
  {
   "cell_type": "code",
   "execution_count": 36,
   "id": "equal-preservation",
   "metadata": {},
   "outputs": [
    {
     "data": {
      "text/plain": [
       "<matplotlib.axes._subplots.AxesSubplot at 0x7f79885d6040>"
      ]
     },
     "execution_count": 36,
     "metadata": {},
     "output_type": "execute_result"
    },
    {
     "data": {
      "image/png": "[encoded data removed]",
      "text/plain": [
       "<Figure size 432x288 with 1 Axes>"
      ]
     },
     "metadata": {
      "needs_background": "light"
     },
     "output_type": "display_data"
    }
   ],
   "source": [
    "df_pandas.killPlace.hist(bins=10)"
   ]
  },
  {
   "cell_type": "code",
   "execution_count": 37,
   "id": "built-services",
   "metadata": {},
   "outputs": [
    {
     "data": {
      "text/plain": [
       "<matplotlib.axes._subplots.AxesSubplot at 0x7f7988aa7c40>"
      ]
     },
     "execution_count": 37,
     "metadata": {},
     "output_type": "execute_result"
    },
    {
     "data": {
      "image/png": "[encoded data removed]",
      "text/plain": [
       "<Figure size 432x288 with 1 Axes>"
      ]
     },
     "metadata": {
      "needs_background": "light"
     },
     "output_type": "display_data"
    }
   ],
   "source": [
    "sns.scatterplot(x=\"winPlacePerc\", y=\"killPlace\", data=df_pandas)"
   ]
  },
  {
   "cell_type": "markdown",
   "id": "seasonal-ownership",
   "metadata": {},
   "source": [
    "## killPoints\n",
    "kills-based external ranking of player. (Think of this as an Elo ranking where only kills matter.) If there is a value other than -1 in rankPoints, then any 0 in killPoints should be treated as a “None”."
   ]
  },
  {
   "cell_type": "code",
   "execution_count": 38,
   "id": "married-vitamin",
   "metadata": {},
   "outputs": [
    {
     "name": "stdout",
     "output_type": "stream",
     "text": [
      "+-------+-----------------+\n",
      "|summary|       killPoints|\n",
      "+-------+-----------------+\n",
      "|  count|          4411698|\n",
      "|   mean|506.1995855110663|\n",
      "| stddev| 628.409489512835|\n",
      "|    min|                0|\n",
      "|    25%|                0|\n",
      "|    50%|                0|\n",
      "|    75%|             1175|\n",
      "|    max|             2170|\n",
      "+-------+-----------------+\n",
      "\n"
     ]
    }
   ],
   "source": [
    "data.select('killPoints').summary().show()"
   ]
  },
  {
   "cell_type": "code",
   "execution_count": 39,
   "id": "pressed-league",
   "metadata": {},
   "outputs": [
    {
     "data": {
      "text/plain": [
       "<matplotlib.axes._subplots.AxesSubplot at 0x7f7988e1f940>"
      ]
     },
     "execution_count": 39,
     "metadata": {},
     "output_type": "execute_result"
    },
    {
     "data": {
      "image/png": "[encoded data removed]",
      "text/plain": [
       "<Figure size 432x288 with 1 Axes>"
      ]
     },
     "metadata": {
      "needs_background": "light"
     },
     "output_type": "display_data"
    }
   ],
   "source": [
    "df_pandas.killPoints.hist()"
   ]
  },
  {
   "cell_type": "code",
   "execution_count": null,
   "id": "worthy-syntax",
   "metadata": {},
   "outputs": [],
   "source": []
  },
  {
   "cell_type": "markdown",
   "id": "innocent-ending",
   "metadata": {},
   "source": [
    "## kills\n",
    "number of enemy players killed.\n",
    "composed by 'headshotKills', 'roadKills', not 'teamKills'"
   ]
  },
  {
   "cell_type": "code",
   "execution_count": 40,
   "id": "employed-briefs",
   "metadata": {},
   "outputs": [
    {
     "name": "stdout",
     "output_type": "stream",
     "text": [
      "+-------+------------------+\n",
      "|summary|             kills|\n",
      "+-------+------------------+\n",
      "|  count|           4411698|\n",
      "|   mean|0.9116072768353591|\n",
      "| stddev|1.5010820312237814|\n",
      "|    min|                 0|\n",
      "|    25%|                 0|\n",
      "|    50%|                 0|\n",
      "|    75%|                 1|\n",
      "|    max|                33|\n",
      "+-------+------------------+\n",
      "\n"
     ]
    },
    {
     "data": {
      "text/html": [
       "<div>\n",
       "<style scoped>\n",
       "    .dataframe tbody tr th:only-of-type {\n",
       "        vertical-align: middle;\n",
       "    }\n",
       "\n",
       "    .dataframe tbody tr th {\n",
       "        vertical-align: top;\n",
       "    }\n",
       "\n",
       "    .dataframe thead th {\n",
       "        text-align: right;\n",
       "    }\n",
       "</style>\n",
       "<table border=\"1\" class=\"dataframe\">\n",
       "  <thead>\n",
       "    <tr style=\"text-align: right;\">\n",
       "      <th></th>\n",
       "      <th>kills</th>\n",
       "      <th>headshotKills</th>\n",
       "      <th>roadKills</th>\n",
       "    </tr>\n",
       "  </thead>\n",
       "  <tbody>\n",
       "    <tr>\n",
       "      <th>0</th>\n",
       "      <td>0</td>\n",
       "      <td>0</td>\n",
       "      <td>0</td>\n",
       "    </tr>\n",
       "    <tr>\n",
       "      <th>1</th>\n",
       "      <td>1</td>\n",
       "      <td>0</td>\n",
       "      <td>0</td>\n",
       "    </tr>\n",
       "    <tr>\n",
       "      <th>2</th>\n",
       "      <td>0</td>\n",
       "      <td>0</td>\n",
       "      <td>0</td>\n",
       "    </tr>\n",
       "    <tr>\n",
       "      <th>3</th>\n",
       "      <td>0</td>\n",
       "      <td>0</td>\n",
       "      <td>0</td>\n",
       "    </tr>\n",
       "    <tr>\n",
       "      <th>4</th>\n",
       "      <td>1</td>\n",
       "      <td>0</td>\n",
       "      <td>0</td>\n",
       "    </tr>\n",
       "  </tbody>\n",
       "</table>\n",
       "</div>"
      ],
      "text/plain": [
       "   kills  headshotKills  roadKills\n",
       "0      0              0          0\n",
       "1      1              0          0\n",
       "2      0              0          0\n",
       "3      0              0          0\n",
       "4      1              0          0"
      ]
     },
     "execution_count": 40,
     "metadata": {},
     "output_type": "execute_result"
    }
   ],
   "source": [
    "data.select('kills').summary().show()\n",
    "df_pandas[['kills', 'headshotKills', 'roadKills']].head(5)"
   ]
  },
  {
   "cell_type": "code",
   "execution_count": 41,
   "id": "freelance-afghanistan",
   "metadata": {},
   "outputs": [
    {
     "data": {
      "text/plain": [
       "<matplotlib.axes._subplots.AxesSubplot at 0x7f7989556130>"
      ]
     },
     "execution_count": 41,
     "metadata": {},
     "output_type": "execute_result"
    },
    {
     "data": {
      "image/png": "[encoded data removed]",
      "text/plain": [
       "<Figure size 720x360 with 1 Axes>"
      ]
     },
     "metadata": {
      "needs_background": "light"
     },
     "output_type": "display_data"
    }
   ],
   "source": [
    "#df_pandas.kills.hist()\n",
    "data.groupBy('kills').count().orderBy(col('count').desc()).toPandas().set_index('kills').plot(kind='bar', figsize=(10,5))"
   ]
  },
  {
   "cell_type": "code",
   "execution_count": 42,
   "id": "administrative-biology",
   "metadata": {},
   "outputs": [
    {
     "data": {
      "text/plain": [
       "<matplotlib.axes._subplots.AxesSubplot at 0x7f7988ab5340>"
      ]
     },
     "execution_count": 42,
     "metadata": {},
     "output_type": "execute_result"
    },
    {
     "data": {
      "image/png": "[encoded data removed]",
      "text/plain": [
       "<Figure size 432x288 with 1 Axes>"
      ]
     },
     "metadata": {
      "needs_background": "light"
     },
     "output_type": "display_data"
    }
   ],
   "source": [
    "sns.scatterplot(x=\"winPlacePerc\", y=\"kills\", data=df_pandas)"
   ]
  },
  {
   "cell_type": "code",
   "execution_count": null,
   "id": "chemical-queue",
   "metadata": {},
   "outputs": [],
   "source": []
  },
  {
   "cell_type": "markdown",
   "id": "dietary-rouge",
   "metadata": {},
   "source": [
    "## killStreaks\n",
    "max number of enemy players killed in a short amount of time."
   ]
  },
  {
   "cell_type": "code",
   "execution_count": 43,
   "id": "laden-norman",
   "metadata": {},
   "outputs": [
    {
     "name": "stdout",
     "output_type": "stream",
     "text": [
      "+-------+------------------+\n",
      "|summary|             kills|\n",
      "+-------+------------------+\n",
      "|  count|           4411698|\n",
      "|   mean|0.9116072768353591|\n",
      "| stddev|1.5010820312237814|\n",
      "|    min|                 0|\n",
      "|    25%|                 0|\n",
      "|    50%|                 0|\n",
      "|    75%|                 1|\n",
      "|    max|                33|\n",
      "+-------+------------------+\n",
      "\n"
     ]
    }
   ],
   "source": [
    "data.select('kills').summary().show()"
   ]
  },
  {
   "cell_type": "code",
   "execution_count": 44,
   "id": "broke-ability",
   "metadata": {},
   "outputs": [
    {
     "data": {
      "text/plain": [
       "<matplotlib.axes._subplots.AxesSubplot at 0x7f7989645850>"
      ]
     },
     "execution_count": 44,
     "metadata": {},
     "output_type": "execute_result"
    },
    {
     "data": {
      "image/png": "[encoded data removed]",
      "text/plain": [
       "<Figure size 720x360 with 1 Axes>"
      ]
     },
     "metadata": {
      "needs_background": "light"
     },
     "output_type": "display_data"
    }
   ],
   "source": [
    "#df_pandas.kills.hist()\n",
    "data.groupBy('killStreaks').count().orderBy(col('count').desc()).toPandas().set_index('killStreaks').plot(kind='bar', figsize=(10,5))"
   ]
  },
  {
   "cell_type": "markdown",
   "id": "racial-brave",
   "metadata": {},
   "source": [
    "## longestKill\n",
    "longest distance between player and player killed at time of death. This may be misleading, as downing a player and driving away may lead to a large longestKill stat."
   ]
  },
  {
   "cell_type": "code",
   "execution_count": 45,
   "id": "popular-youth",
   "metadata": {},
   "outputs": [
    {
     "name": "stdout",
     "output_type": "stream",
     "text": [
      "+-------+------------------+\n",
      "|summary|       longestKill|\n",
      "+-------+------------------+\n",
      "|  count|           4411698|\n",
      "|   mean|22.837279579268337|\n",
      "| stddev| 50.65590048388228|\n",
      "|    min|               0.0|\n",
      "|    25%|               0.0|\n",
      "|    50%|               0.0|\n",
      "|    75%|             21.12|\n",
      "|    max|            1003.0|\n",
      "+-------+------------------+\n",
      "\n"
     ]
    }
   ],
   "source": [
    "data.select('longestKill').summary().show()"
   ]
  },
  {
   "cell_type": "code",
   "execution_count": 46,
   "id": "identified-authorization",
   "metadata": {},
   "outputs": [
    {
     "data": {
      "text/plain": [
       "<matplotlib.axes._subplots.AxesSubplot at 0x7f7989744550>"
      ]
     },
     "execution_count": 46,
     "metadata": {},
     "output_type": "execute_result"
    },
    {
     "data": {
      "image/png": "[encoded data removed]",
      "text/plain": [
       "<Figure size 432x288 with 1 Axes>"
      ]
     },
     "metadata": {
      "needs_background": "light"
     },
     "output_type": "display_data"
    }
   ],
   "source": [
    "df_pandas.longestKill.hist()"
   ]
  },
  {
   "cell_type": "code",
   "execution_count": null,
   "id": "consecutive-china",
   "metadata": {},
   "outputs": [],
   "source": []
  },
  {
   "cell_type": "markdown",
   "id": "crucial-attempt",
   "metadata": {},
   "source": [
    "## matchDuration\n",
    "duration of whole single/teammate match in seconds."
   ]
  },
  {
   "cell_type": "code",
   "execution_count": 47,
   "id": "prepared-heating",
   "metadata": {},
   "outputs": [
    {
     "data": {
      "text/html": [
       "<div>\n",
       "<style scoped>\n",
       "    .dataframe tbody tr th:only-of-type {\n",
       "        vertical-align: middle;\n",
       "    }\n",
       "\n",
       "    .dataframe tbody tr th {\n",
       "        vertical-align: top;\n",
       "    }\n",
       "\n",
       "    .dataframe thead th {\n",
       "        text-align: right;\n",
       "    }\n",
       "</style>\n",
       "<table border=\"1\" class=\"dataframe\">\n",
       "  <thead>\n",
       "    <tr style=\"text-align: right;\">\n",
       "      <th></th>\n",
       "      <th>groupId</th>\n",
       "      <th>matchDuration</th>\n",
       "    </tr>\n",
       "  </thead>\n",
       "  <tbody>\n",
       "    <tr>\n",
       "      <th>0</th>\n",
       "      <td>684d5656442f9e</td>\n",
       "      <td>1777</td>\n",
       "    </tr>\n",
       "    <tr>\n",
       "      <th>1</th>\n",
       "      <td>557ca8543fb0dd</td>\n",
       "      <td>1777</td>\n",
       "    </tr>\n",
       "    <tr>\n",
       "      <th>2</th>\n",
       "      <td>b9e8b77c01059b</td>\n",
       "      <td>1777</td>\n",
       "    </tr>\n",
       "    <tr>\n",
       "      <th>3</th>\n",
       "      <td>4c526bf789bcf4</td>\n",
       "      <td>1777</td>\n",
       "    </tr>\n",
       "    <tr>\n",
       "      <th>4</th>\n",
       "      <td>766390c7622843</td>\n",
       "      <td>1777</td>\n",
       "    </tr>\n",
       "    <tr>\n",
       "      <th>5</th>\n",
       "      <td>44961cf90f1aba</td>\n",
       "      <td>1777</td>\n",
       "    </tr>\n",
       "    <tr>\n",
       "      <th>6</th>\n",
       "      <td>766390c7622843</td>\n",
       "      <td>1777</td>\n",
       "    </tr>\n",
       "    <tr>\n",
       "      <th>7</th>\n",
       "      <td>b88c63770f6f54</td>\n",
       "      <td>1777</td>\n",
       "    </tr>\n",
       "    <tr>\n",
       "      <th>8</th>\n",
       "      <td>4c526bf789bcf4</td>\n",
       "      <td>1777</td>\n",
       "    </tr>\n",
       "    <tr>\n",
       "      <th>9</th>\n",
       "      <td>645894055adb04</td>\n",
       "      <td>1777</td>\n",
       "    </tr>\n",
       "  </tbody>\n",
       "</table>\n",
       "</div>"
      ],
      "text/plain": [
       "          groupId  matchDuration\n",
       "0  684d5656442f9e           1777\n",
       "1  557ca8543fb0dd           1777\n",
       "2  b9e8b77c01059b           1777\n",
       "3  4c526bf789bcf4           1777\n",
       "4  766390c7622843           1777\n",
       "5  44961cf90f1aba           1777\n",
       "6  766390c7622843           1777\n",
       "7  b88c63770f6f54           1777\n",
       "8  4c526bf789bcf4           1777\n",
       "9  645894055adb04           1777"
      ]
     },
     "execution_count": 47,
     "metadata": {},
     "output_type": "execute_result"
    }
   ],
   "source": [
    "data.where(col('matchid') == 'aeb375fc57110c').toPandas()[['groupId', 'matchDuration']].head(10)"
   ]
  },
  {
   "cell_type": "code",
   "execution_count": 48,
   "id": "steady-testing",
   "metadata": {},
   "outputs": [
    {
     "name": "stdout",
     "output_type": "stream",
     "text": [
      "+-------+------------------+\n",
      "|summary|     matchDuration|\n",
      "+-------+------------------+\n",
      "|  count|           4411698|\n",
      "|   mean|1580.7029753623208|\n",
      "| stddev| 254.4928844346351|\n",
      "|    min|               728|\n",
      "|    25%|              1367|\n",
      "|    50%|              1438|\n",
      "|    75%|              1850|\n",
      "|    max|              2237|\n",
      "+-------+------------------+\n",
      "\n"
     ]
    }
   ],
   "source": [
    "data.select('matchDuration').summary().show()"
   ]
  },
  {
   "cell_type": "code",
   "execution_count": 49,
   "id": "included-belly",
   "metadata": {},
   "outputs": [
    {
     "data": {
      "text/plain": [
       "<matplotlib.axes._subplots.AxesSubplot at 0x7f7989875c10>"
      ]
     },
     "execution_count": 49,
     "metadata": {},
     "output_type": "execute_result"
    },
    {
     "data": {
      "image/png": "[encoded data removed]",
      "text/plain": [
       "<Figure size 432x288 with 1 Axes>"
      ]
     },
     "metadata": {
      "needs_background": "light"
     },
     "output_type": "display_data"
    }
   ],
   "source": [
    "df_pandas.matchDuration.hist()"
   ]
  },
  {
   "cell_type": "code",
   "execution_count": 50,
   "id": "fuzzy-reform",
   "metadata": {},
   "outputs": [],
   "source": [
    "#data.groupBy('matchType').avg('matchDuration').toPandas()"
   ]
  },
  {
   "cell_type": "markdown",
   "id": "backed-madrid",
   "metadata": {},
   "source": [
    "## maxPlace\n",
    "worst placement we have data for in the match. This may not match with numGroups, as sometimes the data skips over placements."
   ]
  },
  {
   "cell_type": "code",
   "execution_count": 51,
   "id": "hungarian-nightmare",
   "metadata": {},
   "outputs": [
    {
     "name": "stdout",
     "output_type": "stream",
     "text": [
      "+-------+------------------+\n",
      "|summary|          maxPlace|\n",
      "+-------+------------------+\n",
      "|  count|           4411698|\n",
      "|   mean|44.678357176760514|\n",
      "| stddev| 23.80913546335595|\n",
      "|    min|                 2|\n",
      "|    25%|                28|\n",
      "|    50%|                30|\n",
      "|    75%|                49|\n",
      "|    max|               100|\n",
      "+-------+------------------+\n",
      "\n"
     ]
    }
   ],
   "source": [
    "data.select('maxPlace').summary().show()"
   ]
  },
  {
   "cell_type": "code",
   "execution_count": 52,
   "id": "capable-commitment",
   "metadata": {},
   "outputs": [
    {
     "data": {
      "text/html": [
       "<div>\n",
       "<style scoped>\n",
       "    .dataframe tbody tr th:only-of-type {\n",
       "        vertical-align: middle;\n",
       "    }\n",
       "\n",
       "    .dataframe tbody tr th {\n",
       "        vertical-align: top;\n",
       "    }\n",
       "\n",
       "    .dataframe thead th {\n",
       "        text-align: right;\n",
       "    }\n",
       "</style>\n",
       "<table border=\"1\" class=\"dataframe\">\n",
       "  <thead>\n",
       "    <tr style=\"text-align: right;\">\n",
       "      <th></th>\n",
       "      <th>matchtype</th>\n",
       "      <th>avg(maxPlace)</th>\n",
       "    </tr>\n",
       "  </thead>\n",
       "  <tbody>\n",
       "    <tr>\n",
       "      <th>0</th>\n",
       "      <td>1</td>\n",
       "      <td>94.112814</td>\n",
       "    </tr>\n",
       "    <tr>\n",
       "      <th>1</th>\n",
       "      <td>4</td>\n",
       "      <td>28.099487</td>\n",
       "    </tr>\n",
       "    <tr>\n",
       "      <th>2</th>\n",
       "      <td>2</td>\n",
       "      <td>47.711240</td>\n",
       "    </tr>\n",
       "  </tbody>\n",
       "</table>\n",
       "</div>"
      ],
      "text/plain": [
       "   matchtype  avg(maxPlace)\n",
       "0          1      94.112814\n",
       "1          4      28.099487\n",
       "2          2      47.711240"
      ]
     },
     "execution_count": 52,
     "metadata": {},
     "output_type": "execute_result"
    }
   ],
   "source": [
    "data.groupBy('matchtype').avg('maxPlace').toPandas()"
   ]
  },
  {
   "cell_type": "code",
   "execution_count": 53,
   "id": "colored-seminar",
   "metadata": {},
   "outputs": [
    {
     "data": {
      "text/plain": [
       "<matplotlib.axes._subplots.AxesSubplot at 0x7f79896601c0>"
      ]
     },
     "execution_count": 53,
     "metadata": {},
     "output_type": "execute_result"
    },
    {
     "data": {
      "image/png": "[encoded data removed]",
      "text/plain": [
       "<Figure size 432x288 with 1 Axes>"
      ]
     },
     "metadata": {
      "needs_background": "light"
     },
     "output_type": "display_data"
    }
   ],
   "source": [
    "sns.histplot(data=df_pandas, x='maxPlace', hue='matchtype')"
   ]
  },
  {
   "cell_type": "code",
   "execution_count": 54,
   "id": "present-relaxation",
   "metadata": {},
   "outputs": [
    {
     "data": {
      "text/plain": [
       "<matplotlib.axes._subplots.AxesSubplot at 0x7f798a4b5f10>"
      ]
     },
     "execution_count": 54,
     "metadata": {},
     "output_type": "execute_result"
    },
    {
     "data": {
      "image/png": "[encoded data removed]",
      "text/plain": [
       "<Figure size 432x288 with 1 Axes>"
      ]
     },
     "metadata": {
      "needs_background": "light"
     },
     "output_type": "display_data"
    }
   ],
   "source": [
    "sns.boxplot(x=\"matchtype\", y=\"maxPlace\", data=df_pandas)"
   ]
  },
  {
   "cell_type": "code",
   "execution_count": null,
   "id": "manufactured-introduction",
   "metadata": {},
   "outputs": [],
   "source": []
  },
  {
   "cell_type": "markdown",
   "id": "mounted-hometown",
   "metadata": {},
   "source": [
    "## numGroups\n",
    "number of groups we have data for in the match"
   ]
  },
  {
   "cell_type": "code",
   "execution_count": 55,
   "id": "portuguese-spray",
   "metadata": {},
   "outputs": [
    {
     "name": "stdout",
     "output_type": "stream",
     "text": [
      "+-------+------------------+\n",
      "|summary|         numGroups|\n",
      "+-------+------------------+\n",
      "|  count|           4411698|\n",
      "|   mean| 43.17773383400224|\n",
      "| stddev|23.273124609259003|\n",
      "|    min|                 1|\n",
      "|    25%|                27|\n",
      "|    50%|                30|\n",
      "|    75%|                47|\n",
      "|    max|               100|\n",
      "+-------+------------------+\n",
      "\n"
     ]
    }
   ],
   "source": [
    "data.select('numGroups').summary().show()"
   ]
  },
  {
   "cell_type": "code",
   "execution_count": 56,
   "id": "funded-filename",
   "metadata": {},
   "outputs": [
    {
     "data": {
      "text/plain": [
       "<matplotlib.axes._subplots.AxesSubplot at 0x7f798a651b50>"
      ]
     },
     "execution_count": 56,
     "metadata": {},
     "output_type": "execute_result"
    },
    {
     "data": {
      "image/png": "[encoded data removed]",
      "text/plain": [
       "<Figure size 432x288 with 1 Axes>"
      ]
     },
     "metadata": {
      "needs_background": "light"
     },
     "output_type": "display_data"
    }
   ],
   "source": [
    "sns.histplot(data=df_pandas, x='numGroups', hue='matchtype')"
   ]
  },
  {
   "cell_type": "code",
   "execution_count": 57,
   "id": "prescription-church",
   "metadata": {},
   "outputs": [
    {
     "data": {
      "text/plain": [
       "<matplotlib.axes._subplots.AxesSubplot at 0x7f7988e002e0>"
      ]
     },
     "execution_count": 57,
     "metadata": {},
     "output_type": "execute_result"
    },
    {
     "data": {
      "image/png": "[encoded data removed]",
      "text/plain": [
       "<Figure size 432x288 with 1 Axes>"
      ]
     },
     "metadata": {
      "needs_background": "light"
     },
     "output_type": "display_data"
    }
   ],
   "source": [
    "sns.boxplot(x=\"matchtype\", y=\"numGroups\", data=df_pandas)"
   ]
  },
  {
   "cell_type": "code",
   "execution_count": null,
   "id": "embedded-ballet",
   "metadata": {},
   "outputs": [],
   "source": []
  },
  {
   "cell_type": "markdown",
   "id": "criminal-setting",
   "metadata": {},
   "source": [
    "## rankPoints\n",
    "Elo-like ranking of player. This ranking is inconsistent and is being deprecated in the API’s next version, so use with caution. Value of -1 takes place of “None”."
   ]
  },
  {
   "cell_type": "code",
   "execution_count": 58,
   "id": "pleased-window",
   "metadata": {},
   "outputs": [
    {
     "name": "stdout",
     "output_type": "stream",
     "text": [
      "+-------+-----------------+\n",
      "|summary|       rankPoints|\n",
      "+-------+-----------------+\n",
      "|  count|          4411698|\n",
      "|   mean|891.4181822962496|\n",
      "| stddev|736.7605919566126|\n",
      "|    min|               -1|\n",
      "|    25%|               -1|\n",
      "|    50%|             1443|\n",
      "|    75%|             1500|\n",
      "|    max|             5910|\n",
      "+-------+-----------------+\n",
      "\n"
     ]
    }
   ],
   "source": [
    "data.select('rankPoints').summary().show()"
   ]
  },
  {
   "cell_type": "code",
   "execution_count": 59,
   "id": "stupid-september",
   "metadata": {},
   "outputs": [
    {
     "data": {
      "text/plain": [
       "<matplotlib.axes._subplots.AxesSubplot at 0x7f798b1e84c0>"
      ]
     },
     "execution_count": 59,
     "metadata": {},
     "output_type": "execute_result"
    },
    {
     "data": {
      "image/png": "[encoded data removed]",
      "text/plain": [
       "<Figure size 432x288 with 1 Axes>"
      ]
     },
     "metadata": {
      "needs_background": "light"
     },
     "output_type": "display_data"
    }
   ],
   "source": [
    "df_pandas.rankPoints.hist()"
   ]
  },
  {
   "cell_type": "code",
   "execution_count": null,
   "id": "personal-shadow",
   "metadata": {},
   "outputs": [],
   "source": []
  },
  {
   "cell_type": "code",
   "execution_count": null,
   "id": "atlantic-concord",
   "metadata": {},
   "outputs": [],
   "source": []
  },
  {
   "cell_type": "code",
   "execution_count": 36,
   "id": "marine-communist",
   "metadata": {},
   "outputs": [
    {
     "data": {
      "text/plain": [
       "['Id',\n",
       " 'groupId',\n",
       " 'matchId',\n",
       " 'assists',\n",
       " 'boosts',\n",
       " 'damageDealt',\n",
       " 'DBNOs',\n",
       " 'headshotKills',\n",
       " 'heals',\n",
       " 'killPlace',\n",
       " 'killPoints',\n",
       " 'kills',\n",
       " 'killStreaks',\n",
       " 'longestKill',\n",
       " 'matchDuration',\n",
       " 'matchtype',\n",
       " 'maxPlace',\n",
       " 'numGroups',\n",
       " 'rankPoints',\n",
       " 'revives',\n",
       " 'rideDistance',\n",
       " 'roadKills',\n",
       " 'swimDistance',\n",
       " 'teamKills',\n",
       " 'vehicleDestroys',\n",
       " 'walkDistance',\n",
       " 'weaponsAcquired',\n",
       " 'winPoints',\n",
       " 'winPlacePerc',\n",
       " 'distance',\n",
       " 'isFirstPerson']"
      ]
     },
     "execution_count": 36,
     "metadata": {},
     "output_type": "execute_result"
    }
   ],
   "source": [
    "data.columns"
   ]
  },
  {
   "cell_type": "code",
   "execution_count": 37,
   "id": "major-merchandise",
   "metadata": {},
   "outputs": [],
   "source": [
    "categorical_columns = [ 'matchType', 'Id', 'groupId', 'matchId']\n",
    "numerical_columns =[ 'assists',\n",
    "                     'boosts',\n",
    "                     'damageDealt',\n",
    "                     'DBNOs',\n",
    "                     'headshotKills',\n",
    "                     'heals',\n",
    "                     'killPlace',\n",
    "                     'killPoints',\n",
    "                     'kills',\n",
    "                     'killStreaks',\n",
    "                     'longestKill',\n",
    "                     'matchDuration',\n",
    "                     'maxPlace',\n",
    "                     'numGroups',\n",
    "                     'rankPoints',\n",
    "                     'revives',\n",
    "                     'rideDistance',\n",
    "                     'roadKills',\n",
    "                     'swimDistance',\n",
    "                     'teamKills',\n",
    "                     'vehicleDestroys',\n",
    "                     'walkDistance',\n",
    "                     'weaponsAcquired',\n",
    "                     'winPoints',\n",
    "                     'winPlacePerc',\n",
    "                     'distance']"
   ]
  },
  {
   "cell_type": "markdown",
   "id": "empty-deposit",
   "metadata": {},
   "source": [
    "# Correlazioni"
   ]
  },
  {
   "cell_type": "code",
   "execution_count": 38,
   "id": "healthy-victor",
   "metadata": {},
   "outputs": [],
   "source": [
    "from pyspark.ml.stat import Correlation\n",
    "from pyspark.ml.feature import VectorAssembler"
   ]
  },
  {
   "cell_type": "code",
   "execution_count": 39,
   "id": "valid-mitchell",
   "metadata": {},
   "outputs": [],
   "source": [
    "# convert to vector column first\n",
    "vector_col = \"corr_features\"\n",
    "assembler = VectorAssembler(inputCols=numerical_columns, outputCol=vector_col)\n",
    "df_vector = assembler.transform(data).select(vector_col)\n",
    "\n",
    "# get correlation matrix\n",
    "pearsonCorr = Correlation.corr(df_vector, vector_col, 'pearson').collect()[0][0]\n",
    "#spearmanCorr = Correlation.corr(df_vector, vector_col, 'spearman').collect()[0][0]  spearman ci mette tanto"
   ]
  },
  {
   "cell_type": "code",
   "execution_count": 65,
   "id": "exact-machine",
   "metadata": {},
   "outputs": [
    {
     "data": {
      "text/html": [
       "<style  type=\"text/css\" >\n",
       "#T_b4529_row0_col0,#T_b4529_row1_col1,#T_b4529_row2_col2,#T_b4529_row3_col3,#T_b4529_row4_col4,#T_b4529_row5_col5,#T_b4529_row6_col6,#T_b4529_row7_col7,#T_b4529_row8_col8,#T_b4529_row9_col9,#T_b4529_row10_col10,#T_b4529_row11_col11,#T_b4529_row12_col12,#T_b4529_row13_col13,#T_b4529_row14_col14,#T_b4529_row15_col15,#T_b4529_row16_col16,#T_b4529_row17_col17,#T_b4529_row18_col18,#T_b4529_row19_col19,#T_b4529_row20_col20,#T_b4529_row21_col21,#T_b4529_row22_col22,#T_b4529_row23_col23,#T_b4529_row24_col24,#T_b4529_row25_col25{\n",
       "            background-color: rgb(100.0, 255, 100.0);\n",
       "        }#T_b4529_row0_col1,#T_b4529_row1_col0{\n",
       "            background-color: rgb(205.28390499732612, 255, 205.28390499732612);\n",
       "        }#T_b4529_row0_col2,#T_b4529_row2_col0{\n",
       "            background-color: rgb(195.94248209385523, 255, 195.94248209385523);\n",
       "        }#T_b4529_row0_col3,#T_b4529_row3_col0{\n",
       "            background-color: rgb(209.4735157993025, 255, 209.4735157993025);\n",
       "        }#T_b4529_row0_col4,#T_b4529_row4_col0{\n",
       "            background-color: rgb(227.29877181855764, 255, 227.29877181855764);\n",
       "        }#T_b4529_row0_col5,#T_b4529_row5_col0{\n",
       "            background-color: rgb(219.49069900499538, 255, 219.49069900499538);\n",
       "        }#T_b4529_row0_col6,#T_b4529_row6_col0{\n",
       "            background-color: rgb(255, 180.9466378618584, 180.9466378618584);\n",
       "        }#T_b4529_row0_col7,#T_b4529_row7_col0{\n",
       "            background-color: rgb(248.6527996669906, 255, 248.6527996669906);\n",
       "        }#T_b4529_row0_col8,#T_b4529_row8_col0{\n",
       "            background-color: rgb(210.10384763522814, 255, 210.10384763522814);\n",
       "        }#T_b4529_row0_col9,#T_b4529_row9_col0{\n",
       "            background-color: rgb(218.4613846866692, 255, 218.4613846866692);\n",
       "        }#T_b4529_row0_col10,#T_b4529_row10_col0{\n",
       "            background-color: rgb(214.7547085058665, 255, 214.7547085058665);\n",
       "        }#T_b4529_row0_col11,#T_b4529_row11_col0{\n",
       "            background-color: rgb(255, 253.70841259878813, 253.70841259878813);\n",
       "        }#T_b4529_row0_col12,#T_b4529_row12_col0{\n",
       "            background-color: rgb(255, 218.93747765170104, 218.93747765170104);\n",
       "        }#T_b4529_row0_col13,#T_b4529_row13_col0{\n",
       "            background-color: rgb(255, 219.27246849433064, 219.27246849433064);\n",
       "        }#T_b4529_row0_col14,#T_b4529_row14_col0{\n",
       "            background-color: rgb(255, 250.98984490187922, 250.98984490187922);\n",
       "        }#T_b4529_row0_col15,#T_b4529_row15_col0{\n",
       "            background-color: rgb(223.9400499357411, 255, 223.9400499357411);\n",
       "        }#T_b4529_row0_col16,#T_b4529_row16_col0{\n",
       "            background-color: rgb(237.3034690657761, 255, 237.3034690657761);\n",
       "        }#T_b4529_row0_col17,#T_b4529_row17_col0{\n",
       "            background-color: rgb(253.1187632808033, 255, 253.1187632808033);\n",
       "        }#T_b4529_row0_col18,#T_b4529_row18_col0{\n",
       "            background-color: rgb(251.07245034871247, 255, 251.07245034871247);\n",
       "        }#T_b4529_row0_col19,#T_b4529_row19_col0{\n",
       "            background-color: rgb(254.62361957755977, 255, 254.62361957755977);\n",
       "        }#T_b4529_row0_col20,#T_b4529_row20_col0{\n",
       "            background-color: rgb(245.89056569310324, 255, 245.89056569310324);\n",
       "        }#T_b4529_row0_col21,#T_b4529_row21_col0{\n",
       "            background-color: rgb(208.00600567198595, 255, 208.00600567198595);\n",
       "        }#T_b4529_row0_col22,#T_b4529_row22_col0{\n",
       "            background-color: rgb(223.96398709610753, 255, 223.96398709610753);\n",
       "        }#T_b4529_row0_col23,#T_b4529_row23_col0{\n",
       "            background-color: rgb(251.3375161855066, 255, 251.3375161855066);\n",
       "        }#T_b4529_row0_col24,#T_b4529_row24_col0{\n",
       "            background-color: rgb(207.62160586981852, 255, 207.62160586981852);\n",
       "        }#T_b4529_row0_col25,#T_b4529_row25_col0{\n",
       "            background-color: rgb(217.25022360959196, 255, 217.25022360959196);\n",
       "        }#T_b4529_row1_col2,#T_b4529_row2_col1{\n",
       "            background-color: rgb(170.89892529679065, 255, 170.89892529679065);\n",
       "        }#T_b4529_row1_col3,#T_b4529_row3_col1{\n",
       "            background-color: rgb(198.0288659625096, 255, 198.0288659625096);\n",
       "        }#T_b4529_row1_col4,#T_b4529_row4_col1{\n",
       "            background-color: rgb(201.1893808674086, 255, 201.1893808674086);\n",
       "        }#T_b4529_row1_col5,#T_b4529_row5_col1{\n",
       "            background-color: rgb(171.6322687163423, 255, 171.6322687163423);\n",
       "        }#T_b4529_row1_col6,#T_b4529_row6_col1{\n",
       "            background-color: rgb(255, 113.01568620462362, 113.01568620462362);\n",
       "        }#T_b4529_row1_col7,#T_b4529_row7_col1{\n",
       "            background-color: rgb(253.68708292762207, 255, 253.68708292762207);\n",
       "        }#T_b4529_row1_col8,#T_b4529_row8_col1{\n",
       "            background-color: rgb(173.39189847555858, 255, 173.39189847555858);\n",
       "        }#T_b4529_row1_col9,#T_b4529_row9_col1{\n",
       "            background-color: rgb(191.54900472619434, 255, 191.54900472619434);\n",
       "        }#T_b4529_row1_col10,#T_b4529_row10_col1{\n",
       "            background-color: rgb(188.83152381097506, 255, 188.83152381097506);\n",
       "        }#T_b4529_row1_col11,#T_b4529_row11_col1{\n",
       "            background-color: rgb(244.4150180467276, 255, 244.4150180467276);\n",
       "        }#T_b4529_row1_col12,#T_b4529_row12_col1{\n",
       "            background-color: rgb(255, 251.71802321913646, 251.71802321913646);\n",
       "        }#T_b4529_row1_col13,#T_b4529_row13_col1{\n",
       "            background-color: rgb(255, 251.8836276250065, 251.8836276250065);\n",
       "        }#T_b4529_row1_col14,#T_b4529_row14_col1{\n",
       "            background-color: rgb(251.34874398008242, 255, 251.34874398008242);\n",
       "        }#T_b4529_row1_col15,#T_b4529_row15_col1{\n",
       "            background-color: rgb(215.61852347426176, 255, 215.61852347426176);\n",
       "        }#T_b4529_row1_col16,#T_b4529_row16_col1{\n",
       "            background-color: rgb(204.11295650796222, 255, 204.11295650796222);\n",
       "        }#T_b4529_row1_col17,#T_b4529_row17_col1{\n",
       "            background-color: rgb(249.26328889706386, 255, 249.26328889706386);\n",
       "        }#T_b4529_row1_col18,#T_b4529_row18_col1{\n",
       "            background-color: rgb(238.15588180286326, 255, 238.15588180286326);\n",
       "        }#T_b4529_row1_col19,#T_b4529_row19_col1{\n",
       "            background-color: rgb(252.85411096106643, 255, 252.85411096106643);\n",
       "        }#T_b4529_row1_col20,#T_b4529_row20_col1{\n",
       "            background-color: rgb(241.58961833139227, 255, 241.58961833139227);\n",
       "        }#T_b4529_row1_col21,#T_b4529_row21_col1{\n",
       "            background-color: rgb(155.61085998106296, 255, 155.61085998106296);\n",
       "        }#T_b4529_row1_col22,#T_b4529_row22_col1{\n",
       "            background-color: rgb(187.25848218586708, 255, 187.25848218586708);\n",
       "        }#T_b4529_row1_col23,#T_b4529_row23_col1{\n",
       "            background-color: rgb(255, 252.99377530694017, 252.99377530694017);\n",
       "        }#T_b4529_row1_col24,#T_b4529_row24_col1{\n",
       "            background-color: rgb(156.34826475141608, 255, 156.34826475141608);\n",
       "        }#T_b4529_row1_col25,#T_b4529_row25_col1{\n",
       "            background-color: rgb(165.84808728572835, 255, 165.84808728572835);\n",
       "        }#T_b4529_row2_col3,#T_b4529_row3_col2{\n",
       "            background-color: rgb(138.4609573489754, 255, 138.4609573489754);\n",
       "        }#T_b4529_row2_col4,#T_b4529_row4_col2{\n",
       "            background-color: rgb(161.40185645710474, 255, 161.40185645710474);\n",
       "        }#T_b4529_row2_col5,#T_b4529_row5_col2{\n",
       "            background-color: rgb(201.29446429230097, 255, 201.29446429230097);\n",
       "        }#T_b4529_row2_col6,#T_b4529_row6_col2{\n",
       "            background-color: rgb(255, 78.9931288035514, 78.9931288035514);\n",
       "        }#T_b4529_row2_col7,#T_b4529_row7_col2{\n",
       "            background-color: rgb(246.92495830567327, 255, 246.92495830567327);\n",
       "        }#T_b4529_row2_col8,#T_b4529_row8_col2{\n",
       "            background-color: rgb(118.11110935672221, 255, 118.11110935672221);\n",
       "        }#T_b4529_row2_col9,#T_b4529_row9_col2{\n",
       "            background-color: rgb(145.1416023958627, 255, 145.1416023958627);\n",
       "        }#T_b4529_row2_col10,#T_b4529_row10_col2{\n",
       "            background-color: rgb(166.4400069544172, 255, 166.4400069544172);\n",
       "        }#T_b4529_row2_col11,#T_b4529_row11_col2{\n",
       "            background-color: rgb(253.74053889633433, 255, 253.74053889633433);\n",
       "        }#T_b4529_row2_col12,#T_b4529_row12_col2{\n",
       "            background-color: rgb(255, 247.40978255928346, 247.40978255928346);\n",
       "        }#T_b4529_row2_col13,#T_b4529_row13_col2{\n",
       "            background-color: rgb(255, 247.6460408354967, 247.6460408354967);\n",
       "        }#T_b4529_row2_col14,#T_b4529_row14_col2{\n",
       "            background-color: rgb(255, 254.9787140776941, 254.9787140776941);\n",
       "        }#T_b4529_row2_col15,#T_b4529_row15_col2{\n",
       "            background-color: rgb(214.22634956996797, 255, 214.22634956996797);\n",
       "        }#T_b4529_row2_col16,#T_b4529_row16_col2{\n",
       "            background-color: rgb(232.29451664477915, 255, 232.29451664477915);\n",
       "        }#T_b4529_row2_col17,#T_b4529_row17_col2{\n",
       "            background-color: rgb(246.29275935995733, 255, 246.29275935995733);\n",
       "        }#T_b4529_row2_col18,#T_b4529_row18_col2{\n",
       "            background-color: rgb(248.95689295430896, 255, 248.95689295430896);\n",
       "        }#T_b4529_row2_col19,#T_b4529_row19_col2{\n",
       "            background-color: rgb(253.1430435760052, 255, 253.1430435760052);\n",
       "        }#T_b4529_row2_col20,#T_b4529_row20_col2{\n",
       "            background-color: rgb(242.1362082829609, 255, 242.1362082829609);\n",
       "        }#T_b4529_row2_col21,#T_b4529_row21_col2{\n",
       "            background-color: rgb(190.66551026998098, 255, 190.66551026998098);\n",
       "        }#T_b4529_row2_col22,#T_b4529_row22_col2{\n",
       "            background-color: rgb(206.35134503825049, 255, 206.35134503825049);\n",
       "        }#T_b4529_row2_col23,#T_b4529_row23_col2{\n",
       "            background-color: rgb(252.36122784238967, 255, 252.36122784238967);\n",
       "        }#T_b4529_row2_col24,#T_b4529_row24_col2{\n",
       "            background-color: rgb(185.15000701777439, 255, 185.15000701777439);\n",
       "        }#T_b4529_row2_col25,#T_b4529_row25_col2{\n",
       "            background-color: rgb(204.35038220928172, 255, 204.35038220928172);\n",
       "        }#T_b4529_row3_col4,#T_b4529_row4_col3{\n",
       "            background-color: rgb(181.04116075582394, 255, 181.04116075582394);\n",
       "        }#T_b4529_row3_col5,#T_b4529_row5_col3{\n",
       "            background-color: rgb(213.51252566091802, 255, 213.51252566091802);\n",
       "        }#T_b4529_row3_col6,#T_b4529_row6_col3{\n",
       "            background-color: rgb(255, 111.24415949080975, 111.24415949080975);\n",
       "        }#T_b4529_row3_col7,#T_b4529_row7_col3{\n",
       "            background-color: rgb(248.2301737884276, 255, 248.2301737884276);\n",
       "        }#T_b4529_row3_col8,#T_b4529_row8_col3{\n",
       "            background-color: rgb(142.3336475156553, 255, 142.3336475156553);\n",
       "        }#T_b4529_row3_col9,#T_b4529_row9_col3{\n",
       "            background-color: rgb(153.34563820968316, 255, 153.34563820968316);\n",
       "        }#T_b4529_row3_col10,#T_b4529_row10_col3{\n",
       "            background-color: rgb(183.97383901971983, 255, 183.97383901971983);\n",
       "        }#T_b4529_row3_col11,#T_b4529_row11_col3{\n",
       "            background-color: rgb(255, 251.94113392006895, 251.94113392006895);\n",
       "        }#T_b4529_row3_col12,#T_b4529_row12_col3{\n",
       "            background-color: rgb(255, 186.21113323832674, 186.21113323832674);\n",
       "        }#T_b4529_row3_col13,#T_b4529_row13_col3{\n",
       "            background-color: rgb(255, 186.6838846582788, 186.6838846582788);\n",
       "        }#T_b4529_row3_col14,#T_b4529_row14_col3{\n",
       "            background-color: rgb(255, 254.28379421918115, 254.28379421918115);\n",
       "        }#T_b4529_row3_col15,#T_b4529_row15_col3{\n",
       "            background-color: rgb(208.47780013183646, 255, 208.47780013183646);\n",
       "        }#T_b4529_row3_col16,#T_b4529_row16_col3{\n",
       "            background-color: rgb(238.75379514737614, 255, 238.75379514737614);\n",
       "        }#T_b4529_row3_col17,#T_b4529_row17_col3{\n",
       "            background-color: rgb(249.25913839895338, 255, 249.25913839895338);\n",
       "        }#T_b4529_row3_col18,#T_b4529_row18_col3{\n",
       "            background-color: rgb(252.20483018604446, 255, 252.20483018604446);\n",
       "        }#T_b4529_row3_col19,#T_b4529_row19_col3{\n",
       "            background-color: rgb(243.95556266808777, 255, 243.95556266808777);\n",
       "        }#T_b4529_row3_col20,#T_b4529_row20_col3{\n",
       "            background-color: rgb(245.5975335739702, 255, 245.5975335739702);\n",
       "        }#T_b4529_row3_col21,#T_b4529_row21_col3{\n",
       "            background-color: rgb(209.75715820852955, 255, 209.75715820852955);\n",
       "        }#T_b4529_row3_col22,#T_b4529_row22_col3{\n",
       "            background-color: rgb(222.02703932305383, 255, 222.02703932305383);\n",
       "        }#T_b4529_row3_col23,#T_b4529_row23_col3{\n",
       "            background-color: rgb(253.3458725824355, 255, 253.3458725824355);\n",
       "        }#T_b4529_row3_col24,#T_b4529_row24_col3{\n",
       "            background-color: rgb(210.95496458624973, 255, 210.95496458624973);\n",
       "        }#T_b4529_row3_col25,#T_b4529_row25_col3{\n",
       "            background-color: rgb(219.21094386506343, 255, 219.21094386506343);\n",
       "        }#T_b4529_row4_col5,#T_b4529_row5_col4{\n",
       "            background-color: rgb(223.83456310759112, 255, 223.83456310759112);\n",
       "        }#T_b4529_row4_col6,#T_b4529_row6_col4{\n",
       "            background-color: rgb(255, 133.2789589043151, 133.2789589043151);\n",
       "        }#T_b4529_row4_col7,#T_b4529_row7_col4{\n",
       "            background-color: rgb(251.12178111493444, 255, 251.12178111493444);\n",
       "        }#T_b4529_row4_col8,#T_b4529_row8_col4{\n",
       "            background-color: rgb(151.66689862999652, 255, 151.66689862999652);\n",
       "        }#T_b4529_row4_col9,#T_b4529_row9_col4{\n",
       "            background-color: rgb(175.396959585344, 255, 175.396959585344);\n",
       "        }#T_b4529_row4_col10,#T_b4529_row10_col4{\n",
       "            background-color: rgb(184.94299947608442, 255, 184.94299947608442);\n",
       "        }#T_b4529_row4_col11,#T_b4529_row11_col4{\n",
       "            background-color: rgb(255, 253.2260937841208, 253.2260937841208);\n",
       "        }#T_b4529_row4_col12,#T_b4529_row12_col4{\n",
       "            background-color: rgb(252.2900295538433, 255, 252.2900295538433);\n",
       "        }#T_b4529_row4_col13,#T_b4529_row13_col4{\n",
       "            background-color: rgb(252.22096931946479, 255, 252.22096931946479);\n",
       "        }#T_b4529_row4_col14,#T_b4529_row14_col4{\n",
       "            background-color: rgb(254.05241458520888, 255, 254.05241458520888);\n",
       "        }#T_b4529_row4_col15,#T_b4529_row15_col4{\n",
       "            background-color: rgb(231.23396741979872, 255, 231.23396741979872);\n",
       "        }#T_b4529_row4_col16,#T_b4529_row16_col4{\n",
       "            background-color: rgb(242.42623771295462, 255, 242.42623771295462);\n",
       "        }#T_b4529_row4_col17,#T_b4529_row17_col4{\n",
       "            background-color: rgb(252.23394720432387, 255, 252.23394720432387);\n",
       "        }#T_b4529_row4_col18,#T_b4529_row18_col4{\n",
       "            background-color: rgb(250.38223621869145, 255, 250.38223621869145);\n",
       "        }#T_b4529_row4_col19,#T_b4529_row19_col4{\n",
       "            background-color: rgb(253.9066329390604, 255, 253.9066329390604);\n",
       "        }#T_b4529_row4_col20,#T_b4529_row20_col4{\n",
       "            background-color: rgb(248.57666814931252, 255, 248.57666814931252);\n",
       "        }#T_b4529_row4_col21,#T_b4529_row21_col4{\n",
       "            background-color: rgb(214.50025826153433, 255, 214.50025826153433);\n",
       "        }#T_b4529_row4_col22,#T_b4529_row22_col4{\n",
       "            background-color: rgb(225.6307633075399, 255, 225.6307633075399);\n",
       "        }#T_b4529_row4_col23,#T_b4529_row23_col4{\n",
       "            background-color: rgb(254.32697147020085, 255, 254.32697147020085);\n",
       "        }#T_b4529_row4_col24,#T_b4529_row24_col4{\n",
       "            background-color: rgb(211.19083338471097, 255, 211.19083338471097);\n",
       "        }#T_b4529_row4_col25,#T_b4529_row25_col4{\n",
       "            background-color: rgb(224.27846253340027, 255, 224.27846253340027);\n",
       "        }#T_b4529_row5_col6,#T_b4529_row6_col5{\n",
       "            background-color: rgb(255, 156.46497114800928, 156.46497114800928);\n",
       "        }#T_b4529_row5_col7,#T_b4529_row7_col5{\n",
       "            background-color: rgb(255, 254.3605495410759, 254.3605495410759);\n",
       "        }#T_b4529_row5_col8,#T_b4529_row8_col5{\n",
       "            background-color: rgb(206.01059429393536, 255, 206.01059429393536);\n",
       "        }#T_b4529_row5_col9,#T_b4529_row9_col5{\n",
       "            background-color: rgb(213.0725281114727, 255, 213.0725281114727);\n",
       "        }#T_b4529_row5_col10,#T_b4529_row10_col5{\n",
       "            background-color: rgb(214.1475357884451, 255, 214.1475357884451);\n",
       "        }#T_b4529_row5_col11,#T_b4529_row11_col5{\n",
       "            background-color: rgb(237.82274140960203, 255, 237.82274140960203);\n",
       "        }#T_b4529_row5_col12,#T_b4529_row12_col5{\n",
       "            background-color: rgb(255, 239.26503452680137, 239.26503452680137);\n",
       "        }#T_b4529_row5_col13,#T_b4529_row13_col5{\n",
       "            background-color: rgb(255, 239.39769691423805, 239.39769691423805);\n",
       "        }#T_b4529_row5_col14,#T_b4529_row14_col5{\n",
       "            background-color: rgb(251.92234238961092, 255, 251.92234238961092);\n",
       "        }#T_b4529_row5_col15,#T_b4529_row15_col5{\n",
       "            background-color: rgb(218.22583600392753, 255, 218.22583600392753);\n",
       "        }#T_b4529_row5_col16,#T_b4529_row16_col5{\n",
       "            background-color: rgb(208.7894334968605, 255, 208.7894334968605);\n",
       "        }#T_b4529_row5_col17,#T_b4529_row17_col5{\n",
       "            background-color: rgb(250.75900205062123, 255, 250.75900205062123);\n",
       "        }#T_b4529_row5_col18,#T_b4529_row18_col5{\n",
       "            background-color: rgb(242.52108333367124, 255, 242.52108333367124);\n",
       "        }#T_b4529_row5_col19,#T_b4529_row19_col5{\n",
       "            background-color: rgb(249.51783218892768, 255, 249.51783218892768);\n",
       "        }#T_b4529_row5_col20,#T_b4529_row20_col5{\n",
       "            background-color: rgb(245.22509172657172, 255, 245.22509172657172);\n",
       "        }#T_b4529_row5_col21,#T_b4529_row21_col5{\n",
       "            background-color: rgb(187.9150551043685, 255, 187.9150551043685);\n",
       "        }#T_b4529_row5_col22,#T_b4529_row22_col5{\n",
       "            background-color: rgb(205.75159513247198, 255, 205.75159513247198);\n",
       "        }#T_b4529_row5_col23,#T_b4529_row23_col5{\n",
       "            background-color: rgb(255, 252.03956232080944, 252.03956232080944);\n",
       "        }#T_b4529_row5_col24,#T_b4529_row24_col5{\n",
       "            background-color: rgb(188.34107935100636, 255, 188.34107935100636);\n",
       "        }#T_b4529_row5_col25,#T_b4529_row25_col5{\n",
       "            background-color: rgb(186.70597263894823, 255, 186.70597263894823);\n",
       "        }#T_b4529_row6_col7,#T_b4529_row7_col6{\n",
       "            background-color: rgb(255, 248.95435011647092, 248.95435011647092);\n",
       "        }#T_b4529_row6_col8,#T_b4529_row8_col6{\n",
       "            background-color: rgb(255, 63.89744532361087, 63.89744532361087);\n",
       "        }#T_b4529_row6_col9,#T_b4529_row9_col6{\n",
       "            background-color: rgb(255, 47.76896124805339, 47.76896124805339);\n",
       "        }#T_b4529_row6_col10,#T_b4529_row10_col6{\n",
       "            background-color: rgb(255, 116.62801404811262, 116.62801404811262);\n",
       "        }#T_b4529_row6_col11,#T_b4529_row11_col6{\n",
       "            background-color: rgb(255, 252.5664690796506, 252.5664690796506);\n",
       "        }#T_b4529_row6_col12,#T_b4529_row12_col6{\n",
       "            background-color: rgb(253.27648436841662, 255, 253.27648436841662);\n",
       "        }#T_b4529_row6_col13,#T_b4529_row13_col6{\n",
       "            background-color: rgb(252.96400149254538, 255, 252.96400149254538);\n",
       "        }#T_b4529_row6_col14,#T_b4529_row14_col6{\n",
       "            background-color: rgb(255, 251.0381651573761, 251.0381651573761);\n",
       "        }#T_b4529_row6_col15,#T_b4529_row15_col6{\n",
       "            background-color: rgb(255, 185.95505189426814, 185.95505189426814);\n",
       "        }#T_b4529_row6_col16,#T_b4529_row16_col6{\n",
       "            background-color: rgb(255, 195.0577187522573, 195.0577187522573);\n",
       "        }#T_b4529_row6_col17,#T_b4529_row17_col6{\n",
       "            background-color: rgb(255, 241.0183575905552, 241.0183575905552);\n",
       "        }#T_b4529_row6_col18,#T_b4529_row18_col6{\n",
       "            background-color: rgb(255, 231.97108058213695, 231.97108058213695);\n",
       "        }#T_b4529_row6_col19,#T_b4529_row19_col6{\n",
       "            background-color: rgb(255, 245.44952559695722, 245.44952559695722);\n",
       "        }#T_b4529_row6_col20,#T_b4529_row20_col6{\n",
       "            background-color: rgb(255, 236.54860282562325, 236.54860282562325);\n",
       "        }#T_b4529_row6_col21,#T_b4529_row21_col6{\n",
       "            background-color: rgb(255, 103.84463803029584, 103.84463803029584);\n",
       "        }#T_b4529_row6_col22,#T_b4529_row22_col6{\n",
       "            background-color: rgb(255, 125.73754769070695, 125.73754769070695);\n",
       "        }#T_b4529_row6_col23,#T_b4529_row23_col6{\n",
       "            background-color: rgb(255, 254.53697308488012, 254.53697308488012);\n",
       "        }#T_b4529_row6_col24,#T_b4529_row24_col6{\n",
       "            background-color: rgb(255, 71.16798261711278, 71.16798261711278);\n",
       "        }#T_b4529_row6_col25,#T_b4529_row25_col6{\n",
       "            background-color: rgb(255, 131.36895432729528, 131.36895432729528);\n",
       "        }#T_b4529_row7_col8,#T_b4529_row8_col7{\n",
       "            background-color: rgb(249.04060905201536, 255, 249.04060905201536);\n",
       "        }#T_b4529_row7_col9,#T_b4529_row9_col7{\n",
       "            background-color: rgb(249.14884831634646, 255, 249.14884831634646);\n",
       "        }#T_b4529_row7_col10,#T_b4529_row10_col7{\n",
       "            background-color: rgb(252.80008575356393, 255, 252.80008575356393);\n",
       "        }#T_b4529_row7_col11,#T_b4529_row11_col7{\n",
       "            background-color: rgb(255, 228.15252749161883, 228.15252749161883);\n",
       "        }#T_b4529_row7_col12,#T_b4529_row12_col7{\n",
       "            background-color: rgb(255, 243.2850141323109, 243.2850141323109);\n",
       "        }#T_b4529_row7_col13,#T_b4529_row13_col7{\n",
       "            background-color: rgb(255, 243.896954231292, 243.896954231292);\n",
       "        }#T_b4529_row7_col14,#T_b4529_row14_col7{\n",
       "            background-color: rgb(255, 6.2077588721671475, 6.2077588721671475);\n",
       "        }#T_b4529_row7_col15,#T_b4529_row15_col7{\n",
       "            background-color: rgb(253.14089814855814, 255, 253.14089814855814);\n",
       "        }#T_b4529_row7_col16,#T_b4529_row16_col7{\n",
       "            background-color: rgb(255, 247.83277009627406, 247.83277009627406);\n",
       "        }#T_b4529_row7_col17,#T_b4529_row17_col7{\n",
       "            background-color: rgb(254.8251838909895, 255, 254.8251838909895);\n",
       "        }#T_b4529_row7_col18,#T_b4529_row18_col7{\n",
       "            background-color: rgb(255, 253.77016570241992, 253.77016570241992);\n",
       "        }#T_b4529_row7_col19,#T_b4529_row19_col7{\n",
       "            background-color: rgb(255, 244.94450767110482, 244.94450767110482);\n",
       "        }#T_b4529_row7_col20,#T_b4529_row20_col7{\n",
       "            background-color: rgb(255, 252.804482129446, 252.804482129446);\n",
       "        }#T_b4529_row7_col21,#T_b4529_row21_col7{\n",
       "            background-color: rgb(254.36952829266068, 255, 254.36952829266068);\n",
       "        }#T_b4529_row7_col22,#T_b4529_row22_col7{\n",
       "            background-color: rgb(255, 253.91955306585737, 253.91955306585737);\n",
       "        }#T_b4529_row7_col23,#T_b4529_row23_col7{\n",
       "            background-color: rgb(102.54777159002586, 255, 102.54777159002586);\n",
       "        }#T_b4529_row7_col24,#T_b4529_row24_col7{\n",
       "            background-color: rgb(252.9849093206486, 255, 252.9849093206486);\n",
       "        }#T_b4529_row7_col25,#T_b4529_row25_col7{\n",
       "            background-color: rgb(255, 250.6522481225968, 250.6522481225968);\n",
       "        }#T_b4529_row8_col9,#T_b4529_row9_col8{\n",
       "            background-color: rgb(128.82962593013562, 255, 128.82962593013562);\n",
       "        }#T_b4529_row8_col10,#T_b4529_row10_col8{\n",
       "            background-color: rgb(159.60263071241263, 255, 159.60263071241263);\n",
       "        }#T_b4529_row8_col11,#T_b4529_row11_col8{\n",
       "            background-color: rgb(255, 251.54857349034418, 251.54857349034418);\n",
       "        }#T_b4529_row8_col12,#T_b4529_row12_col8{\n",
       "            background-color: rgb(253.84770133395713, 255, 253.84770133395713);\n",
       "        }#T_b4529_row8_col13,#T_b4529_row13_col8{\n",
       "            background-color: rgb(253.66479878490716, 255, 253.66479878490716);\n",
       "        }#T_b4529_row8_col14,#T_b4529_row14_col8{\n",
       "            background-color: rgb(253.51533252504103, 255, 253.51533252504103);\n",
       "        }#T_b4529_row8_col15,#T_b4529_row15_col8{\n",
       "            background-color: rgb(214.47719400094488, 255, 214.47719400094488);\n",
       "        }#T_b4529_row8_col16,#T_b4529_row16_col8{\n",
       "            background-color: rgb(236.19298907794067, 255, 236.19298907794067);\n",
       "        }#T_b4529_row8_col17,#T_b4529_row17_col8{\n",
       "            background-color: rgb(245.0301678262687, 255, 245.0301678262687);\n",
       "        }#T_b4529_row8_col18,#T_b4529_row18_col8{\n",
       "            background-color: rgb(248.51617058043985, 255, 248.51617058043985);\n",
       "        }#T_b4529_row8_col19,#T_b4529_row19_col8{\n",
       "            background-color: rgb(252.83149082795103, 255, 252.83149082795103);\n",
       "        }#T_b4529_row8_col20,#T_b4529_row20_col8{\n",
       "            background-color: rgb(242.19546031785657, 255, 242.19546031785657);\n",
       "        }#T_b4529_row8_col21,#T_b4529_row21_col8{\n",
       "            background-color: rgb(193.85207945021062, 255, 193.85207945021062);\n",
       "        }#T_b4529_row8_col22,#T_b4529_row22_col8{\n",
       "            background-color: rgb(209.6021131663652, 255, 209.6021131663652);\n",
       "        }#T_b4529_row8_col23,#T_b4529_row23_col8{\n",
       "            background-color: rgb(254.03246424136285, 255, 254.03246424136285);\n",
       "        }#T_b4529_row8_col24,#T_b4529_row24_col8{\n",
       "            background-color: rgb(188.10380419792983, 255, 188.10380419792983);\n",
       "        }#T_b4529_row8_col25,#T_b4529_row25_col8{\n",
       "            background-color: rgb(208.74349049782325, 255, 208.74349049782325);\n",
       "        }#T_b4529_row9_col10,#T_b4529_row10_col9{\n",
       "            background-color: rgb(175.08004472010396, 255, 175.08004472010396);\n",
       "        }#T_b4529_row9_col11,#T_b4529_row11_col9{\n",
       "            background-color: rgb(255, 247.98999206771217, 247.98999206771217);\n",
       "        }#T_b4529_row9_col12,#T_b4529_row12_col9{\n",
       "            background-color: rgb(255, 246.50173959967722, 246.50173959967722);\n",
       "        }#T_b4529_row9_col13,#T_b4529_row13_col9{\n",
       "            background-color: rgb(255, 246.86028666125003, 246.86028666125003);\n",
       "        }#T_b4529_row9_col14,#T_b4529_row14_col9{\n",
       "            background-color: rgb(254.41736648793994, 255, 254.41736648793994);\n",
       "        }#T_b4529_row9_col15,#T_b4529_row15_col9{\n",
       "            background-color: rgb(217.32139729844675, 255, 217.32139729844675);\n",
       "        }#T_b4529_row9_col16,#T_b4529_row16_col9{\n",
       "            background-color: rgb(239.5658487719902, 255, 239.5658487719902);\n",
       "        }#T_b4529_row9_col17,#T_b4529_row17_col9{\n",
       "            background-color: rgb(245.03817105006266, 255, 245.03817105006266);\n",
       "        }#T_b4529_row9_col18,#T_b4529_row18_col9{\n",
       "            background-color: rgb(249.52530585714476, 255, 249.52530585714476);\n",
       "        }#T_b4529_row9_col19,#T_b4529_row19_col9{\n",
       "            background-color: rgb(250.86303910587313, 255, 250.86303910587313);\n",
       "        }#T_b4529_row9_col20,#T_b4529_row20_col9{\n",
       "            background-color: rgb(245.19098375127183, 255, 245.19098375127183);\n",
       "        }#T_b4529_row9_col21,#T_b4529_row21_col9{\n",
       "            background-color: rgb(203.62888522814268, 255, 203.62888522814268);\n",
       "        }#T_b4529_row9_col22,#T_b4529_row22_col9{\n",
       "            background-color: rgb(213.17436327446484, 255, 213.17436327446484);\n",
       "        }#T_b4529_row9_col23,#T_b4529_row23_col9{\n",
       "            background-color: rgb(253.70480810547596, 255, 253.70480810547596);\n",
       "        }#T_b4529_row9_col24,#T_b4529_row24_col9{\n",
       "            background-color: rgb(196.4142533432629, 255, 196.4142533432629);\n",
       "        }#T_b4529_row9_col25,#T_b4529_row25_col9{\n",
       "            background-color: rgb(216.388855807349, 255, 216.388855807349);\n",
       "        }#T_b4529_row10_col11,#T_b4529_row11_col10{\n",
       "            background-color: rgb(245.72071249231632, 255, 245.72071249231632);\n",
       "        }#T_b4529_row10_col12,#T_b4529_row12_col10{\n",
       "            background-color: rgb(255, 251.54381305860437, 251.54381305860437);\n",
       "        }#T_b4529_row10_col13,#T_b4529_row13_col10{\n",
       "            background-color: rgb(255, 251.66836125916944, 251.66836125916944);\n",
       "        }#T_b4529_row10_col14,#T_b4529_row14_col10{\n",
       "            background-color: rgb(252.21326343442274, 255, 252.21326343442274);\n",
       "        }#T_b4529_row10_col15,#T_b4529_row15_col10{\n",
       "            background-color: rgb(228.50743439571752, 255, 228.50743439571752);\n",
       "        }#T_b4529_row10_col16,#T_b4529_row16_col10{\n",
       "            background-color: rgb(225.17989206827625, 255, 225.17989206827625);\n",
       "        }#T_b4529_row10_col17,#T_b4529_row17_col10{\n",
       "            background-color: rgb(250.27637227625578, 255, 250.27637227625578);\n",
       "        }#T_b4529_row10_col18,#T_b4529_row18_col10{\n",
       "            background-color: rgb(246.5772887987077, 255, 246.5772887987077);\n",
       "        }#T_b4529_row10_col19,#T_b4529_row19_col10{\n",
       "            background-color: rgb(253.9146521930529, 255, 253.9146521930529);\n",
       "        }#T_b4529_row10_col20,#T_b4529_row20_col10{\n",
       "            background-color: rgb(242.06261136045802, 255, 242.06261136045802);\n",
       "        }#T_b4529_row10_col21,#T_b4529_row21_col10{\n",
       "            background-color: rgb(190.2910164512625, 255, 190.2910164512625);\n",
       "        }#T_b4529_row10_col22,#T_b4529_row22_col10{\n",
       "            background-color: rgb(211.92941300708628, 255, 211.92941300708628);\n",
       "        }#T_b4529_row10_col23,#T_b4529_row23_col10{\n",
       "            background-color: rgb(255, 253.84865124750414, 253.84865124750414);\n",
       "        }#T_b4529_row10_col24,#T_b4529_row24_col10{\n",
       "            background-color: rgb(191.0725929308103, 255, 191.0725929308103);\n",
       "        }#T_b4529_row10_col25,#T_b4529_row25_col10{\n",
       "            background-color: rgb(199.25322833064993, 255, 199.25322833064993);\n",
       "        }#T_b4529_row11_col12,#T_b4529_row12_col11{\n",
       "            background-color: rgb(248.3361886916109, 255, 248.3361886916109);\n",
       "        }#T_b4529_row11_col13,#T_b4529_row13_col11{\n",
       "            background-color: rgb(249.67172092052567, 255, 249.67172092052567);\n",
       "        }#T_b4529_row11_col14,#T_b4529_row14_col11{\n",
       "            background-color: rgb(240.49239932937013, 255, 240.49239932937013);\n",
       "        }#T_b4529_row11_col15,#T_b4529_row15_col11{\n",
       "            background-color: rgb(252.62626529651973, 255, 252.62626529651973);\n",
       "        }#T_b4529_row11_col16,#T_b4529_row16_col11{\n",
       "            background-color: rgb(197.51814213059717, 255, 197.51814213059717);\n",
       "        }#T_b4529_row11_col17,#T_b4529_row17_col11{\n",
       "            background-color: rgb(248.4098601785921, 255, 248.4098601785921);\n",
       "        }#T_b4529_row11_col18,#T_b4529_row18_col11{\n",
       "            background-color: rgb(253.79684428053622, 255, 253.79684428053622);\n",
       "        }#T_b4529_row11_col19,#T_b4529_row19_col11{\n",
       "            background-color: rgb(246.75733985368606, 255, 246.75733985368606);\n",
       "        }#T_b4529_row11_col20,#T_b4529_row20_col11{\n",
       "            background-color: rgb(245.10840143292904, 255, 245.10840143292904);\n",
       "        }#T_b4529_row11_col21,#T_b4529_row21_col11{\n",
       "            background-color: rgb(233.1016003667239, 255, 233.1016003667239);\n",
       "        }#T_b4529_row11_col22,#T_b4529_row22_col11{\n",
       "            background-color: rgb(230.16256417674543, 255, 230.16256417674543);\n",
       "        }#T_b4529_row11_col23,#T_b4529_row23_col11{\n",
       "            background-color: rgb(255, 231.31023341309248, 231.31023341309248);\n",
       "        }#T_b4529_row11_col24,#T_b4529_row24_col11{\n",
       "            background-color: rgb(255, 253.92965315751985, 253.92965315751985);\n",
       "        }#T_b4529_row11_col25,#T_b4529_row25_col11{\n",
       "            background-color: rgb(203.78668898353305, 255, 203.78668898353305);\n",
       "        }#T_b4529_row12_col13,#T_b4529_row13_col12{\n",
       "            background-color: rgb(100.32185609899796, 255, 100.32185609899796);\n",
       "        }#T_b4529_row12_col14,#T_b4529_row14_col12{\n",
       "            background-color: rgb(247.45563474622574, 255, 247.45563474622574);\n",
       "        }#T_b4529_row12_col15,#T_b4529_row15_col12{\n",
       "            background-color: rgb(255, 214.04611305716082, 214.04611305716082);\n",
       "        }#T_b4529_row12_col16,#T_b4529_row16_col12{\n",
       "            background-color: rgb(255, 244.0590208411672, 244.0590208411672);\n",
       "        }#T_b4529_row12_col17,#T_b4529_row17_col12{\n",
       "            background-color: rgb(253.01640691837605, 255, 253.01640691837605);\n",
       "        }#T_b4529_row12_col18,#T_b4529_row18_col12{\n",
       "            background-color: rgb(253.78836889688344, 255, 253.78836889688344);\n",
       "        }#T_b4529_row12_col19,#T_b4529_row19_col12{\n",
       "            background-color: rgb(255, 245.50563672517407, 245.50563672517407);\n",
       "        }#T_b4529_row12_col20,#T_b4529_row20_col12{\n",
       "            background-color: rgb(255, 250.42279661923905, 250.42279661923905);\n",
       "        }#T_b4529_row12_col21,#T_b4529_row21_col12{\n",
       "            background-color: rgb(255, 233.7272890432015, 233.7272890432015);\n",
       "        }#T_b4529_row12_col22,#T_b4529_row22_col12{\n",
       "            background-color: rgb(255, 249.30308061325766, 249.30308061325766);\n",
       "        }#T_b4529_row12_col23,#T_b4529_row23_col12{\n",
       "            background-color: rgb(255, 247.58507543209393, 247.58507543209393);\n",
       "        }#T_b4529_row12_col24,#T_b4529_row24_col12{\n",
       "            background-color: rgb(249.04088104814113, 255, 249.04088104814113);\n",
       "        }#T_b4529_row12_col25,#T_b4529_row25_col12{\n",
       "            background-color: rgb(255, 235.96303615974165, 235.96303615974165);\n",
       "        }#T_b4529_row13_col14,#T_b4529_row14_col13{\n",
       "            background-color: rgb(247.71376186953256, 255, 247.71376186953256);\n",
       "        }#T_b4529_row13_col15,#T_b4529_row15_col13{\n",
       "            background-color: rgb(255, 214.33509629374657, 214.33509629374657);\n",
       "        }#T_b4529_row13_col16,#T_b4529_row16_col13{\n",
       "            background-color: rgb(255, 243.47754796453387, 243.47754796453387);\n",
       "        }#T_b4529_row13_col17,#T_b4529_row17_col13{\n",
       "            background-color: rgb(253.15121850628822, 255, 253.15121850628822);\n",
       "        }#T_b4529_row13_col18,#T_b4529_row18_col13{\n",
       "            background-color: rgb(253.77214697522396, 255, 253.77214697522396);\n",
       "        }#T_b4529_row13_col19,#T_b4529_row19_col13{\n",
       "            background-color: rgb(255, 245.42506561170526, 245.42506561170526);\n",
       "        }#T_b4529_row13_col20,#T_b4529_row20_col13{\n",
       "            background-color: rgb(255, 250.34899206910922, 250.34899206910922);\n",
       "        }#T_b4529_row13_col21,#T_b4529_row21_col13{\n",
       "            background-color: rgb(255, 233.94188232253745, 233.94188232253745);\n",
       "        }#T_b4529_row13_col22,#T_b4529_row22_col13{\n",
       "            background-color: rgb(255, 249.16351165730924, 249.16351165730924);\n",
       "        }#T_b4529_row13_col23,#T_b4529_row23_col13{\n",
       "            background-color: rgb(255, 248.0340053746675, 248.0340053746675);\n",
       "        }#T_b4529_row13_col24,#T_b4529_row24_col13{\n",
       "            background-color: rgb(248.68838740887267, 255, 248.68838740887267);\n",
       "        }#T_b4529_row13_col25,#T_b4529_row25_col13{\n",
       "            background-color: rgb(255, 235.68315414839043, 235.68315414839043);\n",
       "        }#T_b4529_row14_col15,#T_b4529_row15_col14{\n",
       "            background-color: rgb(255, 254.9364177030371, 254.9364177030371);\n",
       "        }#T_b4529_row14_col16,#T_b4529_row16_col14{\n",
       "            background-color: rgb(249.3136566462406, 255, 249.3136566462406);\n",
       "        }#T_b4529_row14_col17,#T_b4529_row17_col14{\n",
       "            background-color: rgb(254.84032706256065, 255, 254.84032706256065);\n",
       "        }#T_b4529_row14_col18,#T_b4529_row18_col14{\n",
       "            background-color: rgb(254.22792925944637, 255, 254.22792925944637);\n",
       "        }#T_b4529_row14_col19,#T_b4529_row19_col14{\n",
       "            background-color: rgb(248.8917940750879, 255, 248.8917940750879);\n",
       "        }#T_b4529_row14_col20,#T_b4529_row20_col14{\n",
       "            background-color: rgb(253.04290203589346, 255, 253.04290203589346);\n",
       "        }#T_b4529_row14_col21,#T_b4529_row21_col14{\n",
       "            background-color: rgb(252.39962904251288, 255, 252.39962904251288);\n",
       "        }#T_b4529_row14_col22,#T_b4529_row22_col14{\n",
       "            background-color: rgb(252.15426370354, 255, 252.15426370354);\n",
       "        }#T_b4529_row14_col23,#T_b4529_row23_col14{\n",
       "            background-color: rgb(255, 1.5814030407240693, 1.5814030407240693);\n",
       "        }#T_b4529_row14_col24,#T_b4529_row24_col14{\n",
       "            background-color: rgb(252.86859101465433, 255, 252.86859101465433);\n",
       "        }#T_b4529_row14_col25,#T_b4529_row25_col14{\n",
       "            background-color: rgb(249.68809201372588, 255, 249.68809201372588);\n",
       "        }#T_b4529_row15_col16,#T_b4529_row16_col15{\n",
       "            background-color: rgb(237.8882745112662, 255, 237.8882745112662);\n",
       "        }#T_b4529_row15_col17,#T_b4529_row17_col15{\n",
       "            background-color: rgb(253.79912910166559, 255, 253.79912910166559);\n",
       "        }#T_b4529_row15_col18,#T_b4529_row18_col15{\n",
       "            background-color: rgb(251.78718805383008, 255, 251.78718805383008);\n",
       "        }#T_b4529_row15_col19,#T_b4529_row19_col15{\n",
       "            background-color: rgb(249.79176488348247, 255, 249.79176488348247);\n",
       "        }#T_b4529_row15_col20,#T_b4529_row20_col15{\n",
       "            background-color: rgb(249.07355402494628, 255, 249.07355402494628);\n",
       "        }#T_b4529_row15_col21,#T_b4529_row21_col15{\n",
       "            background-color: rgb(218.1372771438677, 255, 218.1372771438677);\n",
       "        }#T_b4529_row15_col22,#T_b4529_row22_col15{\n",
       "            background-color: rgb(227.94099386110693, 255, 227.94099386110693);\n",
       "        }#T_b4529_row15_col23,#T_b4529_row23_col15{\n",
       "            background-color: rgb(254.67607811859486, 255, 254.67607811859486);\n",
       "        }#T_b4529_row15_col24,#T_b4529_row24_col15{\n",
       "            background-color: rgb(217.5060165077325, 255, 217.5060165077325);\n",
       "        }#T_b4529_row15_col25,#T_b4529_row25_col15{\n",
       "            background-color: rgb(223.18017930514105, 255, 223.18017930514105);\n",
       "        }#T_b4529_row16_col17,#T_b4529_row17_col16{\n",
       "            background-color: rgb(239.54574806622804, 255, 239.54574806622804);\n",
       "        }#T_b4529_row16_col18,#T_b4529_row18_col16{\n",
       "            background-color: rgb(247.2002567024905, 255, 247.2002567024905);\n",
       "        }#T_b4529_row16_col19,#T_b4529_row19_col16{\n",
       "            background-color: rgb(247.04121710796542, 255, 247.04121710796542);\n",
       "        }#T_b4529_row16_col20,#T_b4529_row20_col16{\n",
       "            background-color: rgb(236.86635800857016, 255, 236.86635800857016);\n",
       "        }#T_b4529_row16_col21,#T_b4529_row21_col16{\n",
       "            background-color: rgb(206.53029962693952, 255, 206.53029962693952);\n",
       "        }#T_b4529_row16_col22,#T_b4529_row22_col16{\n",
       "            background-color: rgb(208.13878042058198, 255, 208.13878042058198);\n",
       "        }#T_b4529_row16_col23,#T_b4529_row23_col16{\n",
       "            background-color: rgb(255, 247.97773751520197, 247.97773751520197);\n",
       "        }#T_b4529_row16_col24,#T_b4529_row24_col16{\n",
       "            background-color: rgb(201.46062761586916, 255, 201.46062761586916);\n",
       "        }#T_b4529_row16_col25,#T_b4529_row25_col16{\n",
       "            background-color: rgb(122.60406173009699, 255, 122.60406173009699);\n",
       "        }#T_b4529_row17_col18,#T_b4529_row18_col17{\n",
       "            background-color: rgb(254.07168537073335, 255, 254.07168537073335);\n",
       "        }#T_b4529_row17_col19,#T_b4529_row19_col17{\n",
       "            background-color: rgb(253.46581214678076, 255, 253.46581214678076);\n",
       "        }#T_b4529_row17_col20,#T_b4529_row20_col17{\n",
       "            background-color: rgb(251.78748234642458, 255, 251.78748234642458);\n",
       "        }#T_b4529_row17_col21,#T_b4529_row21_col17{\n",
       "            background-color: rgb(251.45662172559213, 255, 251.45662172559213);\n",
       "        }#T_b4529_row17_col22,#T_b4529_row22_col17{\n",
       "            background-color: rgb(250.84666150683645, 255, 250.84666150683645);\n",
       "        }#T_b4529_row17_col23,#T_b4529_row23_col17{\n",
       "            background-color: rgb(254.92094516009556, 255, 254.92094516009556);\n",
       "        }#T_b4529_row17_col24,#T_b4529_row24_col17{\n",
       "            background-color: rgb(250.0684893932323, 255, 250.0684893932323);\n",
       "        }#T_b4529_row17_col25,#T_b4529_row25_col17{\n",
       "            background-color: rgb(242.4999007039721, 255, 242.4999007039721);\n",
       "        }#T_b4529_row18_col19,#T_b4529_row19_col18{\n",
       "            background-color: rgb(254.02026410868123, 255, 254.02026410868123);\n",
       "        }#T_b4529_row18_col20,#T_b4529_row20_col18{\n",
       "            background-color: rgb(253.68987266793982, 255, 253.68987266793982);\n",
       "        }#T_b4529_row18_col21,#T_b4529_row21_col18{\n",
       "            background-color: rgb(228.93641724988547, 255, 228.93641724988547);\n",
       "        }#T_b4529_row18_col22,#T_b4529_row22_col18{\n",
       "            background-color: rgb(242.3370297993245, 255, 242.3370297993245);\n",
       "        }#T_b4529_row18_col23,#T_b4529_row23_col18{\n",
       "            background-color: rgb(255, 254.25684322970756, 254.25684322970756);\n",
       "        }#T_b4529_row18_col24,#T_b4529_row24_col18{\n",
       "            background-color: rgb(231.60976524610953, 255, 231.60976524610953);\n",
       "        }#T_b4529_row18_col25,#T_b4529_row25_col18{\n",
       "            background-color: rgb(233.3006819753437, 255, 233.3006819753437);\n",
       "        }#T_b4529_row19_col20,#T_b4529_row20_col19{\n",
       "            background-color: rgb(237.30034414206975, 255, 237.30034414206975);\n",
       "        }#T_b4529_row19_col21,#T_b4529_row21_col19{\n",
       "            background-color: rgb(250.98311574901248, 255, 250.98311574901248);\n",
       "        }#T_b4529_row19_col22,#T_b4529_row22_col19{\n",
       "            background-color: rgb(249.97966618275493, 255, 249.97966618275493);\n",
       "        }#T_b4529_row19_col23,#T_b4529_row23_col19{\n",
       "            background-color: rgb(255, 244.60848871037877, 244.60848871037877);\n",
       "        }#T_b4529_row19_col24,#T_b4529_row24_col19{\n",
       "            background-color: rgb(252.45554462572395, 255, 252.45554462572395);\n",
       "        }#T_b4529_row19_col25,#T_b4529_row25_col19{\n",
       "            background-color: rgb(247.36109810029154, 255, 247.36109810029154);\n",
       "        }#T_b4529_row20_col21,#T_b4529_row21_col20{\n",
       "            background-color: rgb(243.05749157562505, 255, 243.05749157562505);\n",
       "        }#T_b4529_row20_col22,#T_b4529_row22_col20{\n",
       "            background-color: rgb(244.61297875215544, 255, 244.61297875215544);\n",
       "        }#T_b4529_row20_col23,#T_b4529_row23_col20{\n",
       "            background-color: rgb(255, 252.29481290569333, 252.29481290569333);\n",
       "        }#T_b4529_row20_col24,#T_b4529_row24_col20{\n",
       "            background-color: rgb(243.70672202419178, 255, 243.70672202419178);\n",
       "        }#T_b4529_row20_col25,#T_b4529_row25_col20{\n",
       "            background-color: rgb(236.08769429690085, 255, 236.08769429690085);\n",
       "        }#T_b4529_row21_col22,#T_b4529_row22_col21{\n",
       "            background-color: rgb(165.26799924488617, 255, 165.26799924488617);\n",
       "        }#T_b4529_row21_col23,#T_b4529_row23_col21{\n",
       "            background-color: rgb(255, 254.25403093528155, 254.25403093528155);\n",
       "        }#T_b4529_row21_col24,#T_b4529_row24_col21{\n",
       "            background-color: rgb(128.7247562113771, 255, 128.7247562113771);\n",
       "        }#T_b4529_row21_col25,#T_b4529_row25_col21{\n",
       "            background-color: rgb(137.06812286582678, 255, 137.06812286582678);\n",
       "        }#T_b4529_row22_col23,#T_b4529_row23_col22{\n",
       "            background-color: rgb(255, 253.29025298119848, 253.29025298119848);\n",
       "        }#T_b4529_row22_col24,#T_b4529_row24_col22{\n",
       "            background-color: rgb(159.2214257975416, 255, 159.2214257975416);\n",
       "        }#T_b4529_row22_col25,#T_b4529_row25_col22{\n",
       "            background-color: rgb(173.91866713813658, 255, 173.91866713813658);\n",
       "        }#T_b4529_row23_col24,#T_b4529_row24_col23{\n",
       "            background-color: rgb(253.91496321143913, 255, 253.91496321143913);\n",
       "        }#T_b4529_row23_col25,#T_b4529_row25_col23{\n",
       "            background-color: rgb(255, 249.78642668375622, 249.78642668375622);\n",
       "        }#T_b4529_row24_col25,#T_b4529_row25_col24{\n",
       "            background-color: rgb(149.29460480404157, 255, 149.29460480404157);\n",
       "        }</style><table id=\"T_b4529_\" ><thead>    <tr>        <th class=\"blank level0\" ></th>        <th class=\"col_heading level0 col0\" >assists</th>        <th class=\"col_heading level0 col1\" >boosts</th>        <th class=\"col_heading level0 col2\" >damageDealt</th>        <th class=\"col_heading level0 col3\" >DBNOs</th>        <th class=\"col_heading level0 col4\" >headshotKills</th>        <th class=\"col_heading level0 col5\" >heals</th>        <th class=\"col_heading level0 col6\" >killPlace</th>        <th class=\"col_heading level0 col7\" >killPoints</th>        <th class=\"col_heading level0 col8\" >kills</th>        <th class=\"col_heading level0 col9\" >killStreaks</th>        <th class=\"col_heading level0 col10\" >longestKill</th>        <th class=\"col_heading level0 col11\" >matchDuration</th>        <th class=\"col_heading level0 col12\" >maxPlace</th>        <th class=\"col_heading level0 col13\" >numGroups</th>        <th class=\"col_heading level0 col14\" >rankPoints</th>        <th class=\"col_heading level0 col15\" >revives</th>        <th class=\"col_heading level0 col16\" >rideDistance</th>        <th class=\"col_heading level0 col17\" >roadKills</th>        <th class=\"col_heading level0 col18\" >swimDistance</th>        <th class=\"col_heading level0 col19\" >teamKills</th>        <th class=\"col_heading level0 col20\" >vehicleDestroys</th>        <th class=\"col_heading level0 col21\" >walkDistance</th>        <th class=\"col_heading level0 col22\" >weaponsAcquired</th>        <th class=\"col_heading level0 col23\" >winPoints</th>        <th class=\"col_heading level0 col24\" >winPlacePerc</th>        <th class=\"col_heading level0 col25\" >distance</th>    </tr></thead><tbody>\n",
       "                <tr>\n",
       "                        <th id=\"T_b4529_level0_row0\" class=\"row_heading level0 row0\" >assists</th>\n",
       "                        <td id=\"T_b4529_row0_col0\" class=\"data row0 col0\" >1.000000</td>\n",
       "                        <td id=\"T_b4529_row0_col1\" class=\"data row0 col1\" >0.320749</td>\n",
       "                        <td id=\"T_b4529_row0_col2\" class=\"data row0 col2\" >0.381016</td>\n",
       "                        <td id=\"T_b4529_row0_col3\" class=\"data row0 col3\" >0.293719</td>\n",
       "                        <td id=\"T_b4529_row0_col4\" class=\"data row0 col4\" >0.178718</td>\n",
       "                        <td id=\"T_b4529_row0_col5\" class=\"data row0 col5\" >0.229092</td>\n",
       "                        <td id=\"T_b4529_row0_col6\" class=\"data row0 col6\" >-0.290405</td>\n",
       "                        <td id=\"T_b4529_row0_col7\" class=\"data row0 col7\" >0.040950</td>\n",
       "                        <td id=\"T_b4529_row0_col8\" class=\"data row0 col8\" >0.289653</td>\n",
       "                        <td id=\"T_b4529_row0_col9\" class=\"data row0 col9\" >0.235733</td>\n",
       "                        <td id=\"T_b4529_row0_col10\" class=\"data row0 col10\" >0.259647</td>\n",
       "                        <td id=\"T_b4529_row0_col11\" class=\"data row0 col11\" >-0.005065</td>\n",
       "                        <td id=\"T_b4529_row0_col12\" class=\"data row0 col12\" >-0.141422</td>\n",
       "                        <td id=\"T_b4529_row0_col13\" class=\"data row0 col13\" >-0.140108</td>\n",
       "                        <td id=\"T_b4529_row0_col14\" class=\"data row0 col14\" >-0.015726</td>\n",
       "                        <td id=\"T_b4529_row0_col15\" class=\"data row0 col15\" >0.200387</td>\n",
       "                        <td id=\"T_b4529_row0_col16\" class=\"data row0 col16\" >0.114171</td>\n",
       "                        <td id=\"T_b4529_row0_col17\" class=\"data row0 col17\" >0.012137</td>\n",
       "                        <td id=\"T_b4529_row0_col18\" class=\"data row0 col18\" >0.025339</td>\n",
       "                        <td id=\"T_b4529_row0_col19\" class=\"data row0 col19\" >0.002428</td>\n",
       "                        <td id=\"T_b4529_row0_col20\" class=\"data row0 col20\" >0.058771</td>\n",
       "                        <td id=\"T_b4529_row0_col21\" class=\"data row0 col21\" >0.303187</td>\n",
       "                        <td id=\"T_b4529_row0_col22\" class=\"data row0 col22\" >0.200232</td>\n",
       "                        <td id=\"T_b4529_row0_col23\" class=\"data row0 col23\" >0.023629</td>\n",
       "                        <td id=\"T_b4529_row0_col24\" class=\"data row0 col24\" >0.305667</td>\n",
       "                        <td id=\"T_b4529_row0_col25\" class=\"data row0 col25\" >0.243547</td>\n",
       "            </tr>\n",
       "            <tr>\n",
       "                        <th id=\"T_b4529_level0_row1\" class=\"row_heading level0 row1\" >boosts</th>\n",
       "                        <td id=\"T_b4529_row1_col0\" class=\"data row1 col0\" >0.320749</td>\n",
       "                        <td id=\"T_b4529_row1_col1\" class=\"data row1 col1\" >1.000000</td>\n",
       "                        <td id=\"T_b4529_row1_col2\" class=\"data row1 col2\" >0.542588</td>\n",
       "                        <td id=\"T_b4529_row1_col3\" class=\"data row1 col3\" >0.367556</td>\n",
       "                        <td id=\"T_b4529_row1_col4\" class=\"data row1 col4\" >0.347165</td>\n",
       "                        <td id=\"T_b4529_row1_col5\" class=\"data row1 col5\" >0.537856</td>\n",
       "                        <td id=\"T_b4529_row1_col6\" class=\"data row1 col6\" >-0.556801</td>\n",
       "                        <td id=\"T_b4529_row1_col7\" class=\"data row1 col7\" >0.008470</td>\n",
       "                        <td id=\"T_b4529_row1_col8\" class=\"data row1 col8\" >0.526504</td>\n",
       "                        <td id=\"T_b4529_row1_col9\" class=\"data row1 col9\" >0.409361</td>\n",
       "                        <td id=\"T_b4529_row1_col10\" class=\"data row1 col10\" >0.426893</td>\n",
       "                        <td id=\"T_b4529_row1_col11\" class=\"data row1 col11\" >0.068290</td>\n",
       "                        <td id=\"T_b4529_row1_col12\" class=\"data row1 col12\" >-0.012870</td>\n",
       "                        <td id=\"T_b4529_row1_col13\" class=\"data row1 col13\" >-0.012221</td>\n",
       "                        <td id=\"T_b4529_row1_col14\" class=\"data row1 col14\" >0.023556</td>\n",
       "                        <td id=\"T_b4529_row1_col15\" class=\"data row1 col15\" >0.254074</td>\n",
       "                        <td id=\"T_b4529_row1_col16\" class=\"data row1 col16\" >0.328304</td>\n",
       "                        <td id=\"T_b4529_row1_col17\" class=\"data row1 col17\" >0.037011</td>\n",
       "                        <td id=\"T_b4529_row1_col18\" class=\"data row1 col18\" >0.108672</td>\n",
       "                        <td id=\"T_b4529_row1_col19\" class=\"data row1 col19\" >0.013844</td>\n",
       "                        <td id=\"T_b4529_row1_col20\" class=\"data row1 col20\" >0.086519</td>\n",
       "                        <td id=\"T_b4529_row1_col21\" class=\"data row1 col21\" >0.641220</td>\n",
       "                        <td id=\"T_b4529_row1_col22\" class=\"data row1 col22\" >0.437042</td>\n",
       "                        <td id=\"T_b4529_row1_col23\" class=\"data row1 col23\" >-0.007868</td>\n",
       "                        <td id=\"T_b4529_row1_col24\" class=\"data row1 col24\" >0.636463</td>\n",
       "                        <td id=\"T_b4529_row1_col25\" class=\"data row1 col25\" >0.575174</td>\n",
       "            </tr>\n",
       "            <tr>\n",
       "                        <th id=\"T_b4529_level0_row2\" class=\"row_heading level0 row2\" >damageDealt</th>\n",
       "                        <td id=\"T_b4529_row2_col0\" class=\"data row2 col0\" >0.381016</td>\n",
       "                        <td id=\"T_b4529_row2_col1\" class=\"data row2 col1\" >0.542588</td>\n",
       "                        <td id=\"T_b4529_row2_col2\" class=\"data row2 col2\" >1.000000</td>\n",
       "                        <td id=\"T_b4529_row2_col3\" class=\"data row2 col3\" >0.751865</td>\n",
       "                        <td id=\"T_b4529_row2_col4\" class=\"data row2 col4\" >0.603859</td>\n",
       "                        <td id=\"T_b4529_row2_col5\" class=\"data row2 col5\" >0.346487</td>\n",
       "                        <td id=\"T_b4529_row2_col6\" class=\"data row2 col6\" >-0.690223</td>\n",
       "                        <td id=\"T_b4529_row2_col7\" class=\"data row2 col7\" >0.052097</td>\n",
       "                        <td id=\"T_b4529_row2_col8\" class=\"data row2 col8\" >0.883154</td>\n",
       "                        <td id=\"T_b4529_row2_col9\" class=\"data row2 col9\" >0.708764</td>\n",
       "                        <td id=\"T_b4529_row2_col10\" class=\"data row2 col10\" >0.571355</td>\n",
       "                        <td id=\"T_b4529_row2_col11\" class=\"data row2 col11\" >0.008126</td>\n",
       "                        <td id=\"T_b4529_row2_col12\" class=\"data row2 col12\" >-0.029766</td>\n",
       "                        <td id=\"T_b4529_row2_col13\" class=\"data row2 col13\" >-0.028839</td>\n",
       "                        <td id=\"T_b4529_row2_col14\" class=\"data row2 col14\" >-0.000083</td>\n",
       "                        <td id=\"T_b4529_row2_col15\" class=\"data row2 col15\" >0.263056</td>\n",
       "                        <td id=\"T_b4529_row2_col16\" class=\"data row2 col16\" >0.146487</td>\n",
       "                        <td id=\"T_b4529_row2_col17\" class=\"data row2 col17\" >0.056176</td>\n",
       "                        <td id=\"T_b4529_row2_col18\" class=\"data row2 col18\" >0.038988</td>\n",
       "                        <td id=\"T_b4529_row2_col19\" class=\"data row2 col19\" >0.011980</td>\n",
       "                        <td id=\"T_b4529_row2_col20\" class=\"data row2 col20\" >0.082992</td>\n",
       "                        <td id=\"T_b4529_row2_col21\" class=\"data row2 col21\" >0.415061</td>\n",
       "                        <td id=\"T_b4529_row2_col22\" class=\"data row2 col22\" >0.313862</td>\n",
       "                        <td id=\"T_b4529_row2_col23\" class=\"data row2 col23\" >0.017024</td>\n",
       "                        <td id=\"T_b4529_row2_col24\" class=\"data row2 col24\" >0.450645</td>\n",
       "                        <td id=\"T_b4529_row2_col25\" class=\"data row2 col25\" >0.326772</td>\n",
       "            </tr>\n",
       "            <tr>\n",
       "                        <th id=\"T_b4529_level0_row3\" class=\"row_heading level0 row3\" >DBNOs</th>\n",
       "                        <td id=\"T_b4529_row3_col0\" class=\"data row3 col0\" >0.293719</td>\n",
       "                        <td id=\"T_b4529_row3_col1\" class=\"data row3 col1\" >0.367556</td>\n",
       "                        <td id=\"T_b4529_row3_col2\" class=\"data row3 col2\" >0.751865</td>\n",
       "                        <td id=\"T_b4529_row3_col3\" class=\"data row3 col3\" >1.000000</td>\n",
       "                        <td id=\"T_b4529_row3_col4\" class=\"data row3 col4\" >0.477154</td>\n",
       "                        <td id=\"T_b4529_row3_col5\" class=\"data row3 col5\" >0.267661</td>\n",
       "                        <td id=\"T_b4529_row3_col6\" class=\"data row3 col6\" >-0.563748</td>\n",
       "                        <td id=\"T_b4529_row3_col7\" class=\"data row3 col7\" >0.043676</td>\n",
       "                        <td id=\"T_b4529_row3_col8\" class=\"data row3 col8\" >0.726880</td>\n",
       "                        <td id=\"T_b4529_row3_col9\" class=\"data row3 col9\" >0.655835</td>\n",
       "                        <td id=\"T_b4529_row3_col10\" class=\"data row3 col10\" >0.458233</td>\n",
       "                        <td id=\"T_b4529_row3_col11\" class=\"data row3 col11\" >-0.011996</td>\n",
       "                        <td id=\"T_b4529_row3_col12\" class=\"data row3 col12\" >-0.269760</td>\n",
       "                        <td id=\"T_b4529_row3_col13\" class=\"data row3 col13\" >-0.267906</td>\n",
       "                        <td id=\"T_b4529_row3_col14\" class=\"data row3 col14\" >-0.002809</td>\n",
       "                        <td id=\"T_b4529_row3_col15\" class=\"data row3 col15\" >0.300143</td>\n",
       "                        <td id=\"T_b4529_row3_col16\" class=\"data row3 col16\" >0.104814</td>\n",
       "                        <td id=\"T_b4529_row3_col17\" class=\"data row3 col17\" >0.037038</td>\n",
       "                        <td id=\"T_b4529_row3_col18\" class=\"data row3 col18\" >0.018033</td>\n",
       "                        <td id=\"T_b4529_row3_col19\" class=\"data row3 col19\" >0.071254</td>\n",
       "                        <td id=\"T_b4529_row3_col20\" class=\"data row3 col20\" >0.060661</td>\n",
       "                        <td id=\"T_b4529_row3_col21\" class=\"data row3 col21\" >0.291889</td>\n",
       "                        <td id=\"T_b4529_row3_col22\" class=\"data row3 col22\" >0.212729</td>\n",
       "                        <td id=\"T_b4529_row3_col23\" class=\"data row3 col23\" >0.010672</td>\n",
       "                        <td id=\"T_b4529_row3_col24\" class=\"data row3 col24\" >0.284162</td>\n",
       "                        <td id=\"T_b4529_row3_col25\" class=\"data row3 col25\" >0.230897</td>\n",
       "            </tr>\n",
       "            <tr>\n",
       "                        <th id=\"T_b4529_level0_row4\" class=\"row_heading level0 row4\" >headshotKills</th>\n",
       "                        <td id=\"T_b4529_row4_col0\" class=\"data row4 col0\" >0.178718</td>\n",
       "                        <td id=\"T_b4529_row4_col1\" class=\"data row4 col1\" >0.347165</td>\n",
       "                        <td id=\"T_b4529_row4_col2\" class=\"data row4 col2\" >0.603859</td>\n",
       "                        <td id=\"T_b4529_row4_col3\" class=\"data row4 col3\" >0.477154</td>\n",
       "                        <td id=\"T_b4529_row4_col4\" class=\"data row4 col4\" >1.000000</td>\n",
       "                        <td id=\"T_b4529_row4_col5\" class=\"data row4 col5\" >0.201067</td>\n",
       "                        <td id=\"T_b4529_row4_col6\" class=\"data row4 col6\" >-0.477337</td>\n",
       "                        <td id=\"T_b4529_row4_col7\" class=\"data row4 col7\" >0.025021</td>\n",
       "                        <td id=\"T_b4529_row4_col8\" class=\"data row4 col8\" >0.666665</td>\n",
       "                        <td id=\"T_b4529_row4_col9\" class=\"data row4 col9\" >0.513568</td>\n",
       "                        <td id=\"T_b4529_row4_col10\" class=\"data row4 col10\" >0.451981</td>\n",
       "                        <td id=\"T_b4529_row4_col11\" class=\"data row4 col11\" >-0.006956</td>\n",
       "                        <td id=\"T_b4529_row4_col12\" class=\"data row4 col12\" >0.017484</td>\n",
       "                        <td id=\"T_b4529_row4_col13\" class=\"data row4 col13\" >0.017929</td>\n",
       "                        <td id=\"T_b4529_row4_col14\" class=\"data row4 col14\" >0.006113</td>\n",
       "                        <td id=\"T_b4529_row4_col15\" class=\"data row4 col15\" >0.153329</td>\n",
       "                        <td id=\"T_b4529_row4_col16\" class=\"data row4 col16\" >0.081121</td>\n",
       "                        <td id=\"T_b4529_row4_col17\" class=\"data row4 col17\" >0.017846</td>\n",
       "                        <td id=\"T_b4529_row4_col18\" class=\"data row4 col18\" >0.029792</td>\n",
       "                        <td id=\"T_b4529_row4_col19\" class=\"data row4 col19\" >0.007054</td>\n",
       "                        <td id=\"T_b4529_row4_col20\" class=\"data row4 col20\" >0.041441</td>\n",
       "                        <td id=\"T_b4529_row4_col21\" class=\"data row4 col21\" >0.261289</td>\n",
       "                        <td id=\"T_b4529_row4_col22\" class=\"data row4 col22\" >0.189479</td>\n",
       "                        <td id=\"T_b4529_row4_col23\" class=\"data row4 col23\" >0.004342</td>\n",
       "                        <td id=\"T_b4529_row4_col24\" class=\"data row4 col24\" >0.282640</td>\n",
       "                        <td id=\"T_b4529_row4_col25\" class=\"data row4 col25\" >0.198203</td>\n",
       "            </tr>\n",
       "            <tr>\n",
       "                        <th id=\"T_b4529_level0_row5\" class=\"row_heading level0 row5\" >heals</th>\n",
       "                        <td id=\"T_b4529_row5_col0\" class=\"data row5 col0\" >0.229092</td>\n",
       "                        <td id=\"T_b4529_row5_col1\" class=\"data row5 col1\" >0.537856</td>\n",
       "                        <td id=\"T_b4529_row5_col2\" class=\"data row5 col2\" >0.346487</td>\n",
       "                        <td id=\"T_b4529_row5_col3\" class=\"data row5 col3\" >0.267661</td>\n",
       "                        <td id=\"T_b4529_row5_col4\" class=\"data row5 col4\" >0.201067</td>\n",
       "                        <td id=\"T_b4529_row5_col5\" class=\"data row5 col5\" >1.000000</td>\n",
       "                        <td id=\"T_b4529_row5_col6\" class=\"data row5 col6\" >-0.386412</td>\n",
       "                        <td id=\"T_b4529_row5_col7\" class=\"data row5 col7\" >-0.002508</td>\n",
       "                        <td id=\"T_b4529_row5_col8\" class=\"data row5 col8\" >0.316061</td>\n",
       "                        <td id=\"T_b4529_row5_col9\" class=\"data row5 col9\" >0.270500</td>\n",
       "                        <td id=\"T_b4529_row5_col10\" class=\"data row5 col10\" >0.263564</td>\n",
       "                        <td id=\"T_b4529_row5_col11\" class=\"data row5 col11\" >0.110821</td>\n",
       "                        <td id=\"T_b4529_row5_col12\" class=\"data row5 col12\" >-0.061706</td>\n",
       "                        <td id=\"T_b4529_row5_col13\" class=\"data row5 col13\" >-0.061186</td>\n",
       "                        <td id=\"T_b4529_row5_col14\" class=\"data row5 col14\" >0.019856</td>\n",
       "                        <td id=\"T_b4529_row5_col15\" class=\"data row5 col15\" >0.237253</td>\n",
       "                        <td id=\"T_b4529_row5_col16\" class=\"data row5 col16\" >0.298133</td>\n",
       "                        <td id=\"T_b4529_row5_col17\" class=\"data row5 col17\" >0.027361</td>\n",
       "                        <td id=\"T_b4529_row5_col18\" class=\"data row5 col18\" >0.080509</td>\n",
       "                        <td id=\"T_b4529_row5_col19\" class=\"data row5 col19\" >0.035369</td>\n",
       "                        <td id=\"T_b4529_row5_col20\" class=\"data row5 col20\" >0.063064</td>\n",
       "                        <td id=\"T_b4529_row5_col21\" class=\"data row5 col21\" >0.432806</td>\n",
       "                        <td id=\"T_b4529_row5_col22\" class=\"data row5 col22\" >0.317732</td>\n",
       "                        <td id=\"T_b4529_row5_col23\" class=\"data row5 col23\" >-0.011610</td>\n",
       "                        <td id=\"T_b4529_row5_col24\" class=\"data row5 col24\" >0.430058</td>\n",
       "                        <td id=\"T_b4529_row5_col25\" class=\"data row5 col25\" >0.440607</td>\n",
       "            </tr>\n",
       "            <tr>\n",
       "                        <th id=\"T_b4529_level0_row6\" class=\"row_heading level0 row6\" >killPlace</th>\n",
       "                        <td id=\"T_b4529_row6_col0\" class=\"data row6 col0\" >-0.290405</td>\n",
       "                        <td id=\"T_b4529_row6_col1\" class=\"data row6 col1\" >-0.556801</td>\n",
       "                        <td id=\"T_b4529_row6_col2\" class=\"data row6 col2\" >-0.690223</td>\n",
       "                        <td id=\"T_b4529_row6_col3\" class=\"data row6 col3\" >-0.563748</td>\n",
       "                        <td id=\"T_b4529_row6_col4\" class=\"data row6 col4\" >-0.477337</td>\n",
       "                        <td id=\"T_b4529_row6_col5\" class=\"data row6 col5\" >-0.386412</td>\n",
       "                        <td id=\"T_b4529_row6_col6\" class=\"data row6 col6\" >1.000000</td>\n",
       "                        <td id=\"T_b4529_row6_col7\" class=\"data row6 col7\" >-0.023708</td>\n",
       "                        <td id=\"T_b4529_row6_col8\" class=\"data row6 col8\" >-0.749422</td>\n",
       "                        <td id=\"T_b4529_row6_col9\" class=\"data row6 col9\" >-0.812671</td>\n",
       "                        <td id=\"T_b4529_row6_col10\" class=\"data row6 col10\" >-0.542635</td>\n",
       "                        <td id=\"T_b4529_row6_col11\" class=\"data row6 col11\" >-0.009543</td>\n",
       "                        <td id=\"T_b4529_row6_col12\" class=\"data row6 col12\" >0.011119</td>\n",
       "                        <td id=\"T_b4529_row6_col13\" class=\"data row6 col13\" >0.013135</td>\n",
       "                        <td id=\"T_b4529_row6_col14\" class=\"data row6 col14\" >-0.015537</td>\n",
       "                        <td id=\"T_b4529_row6_col15\" class=\"data row6 col15\" >-0.270765</td>\n",
       "                        <td id=\"T_b4529_row6_col16\" class=\"data row6 col16\" >-0.235068</td>\n",
       "                        <td id=\"T_b4529_row6_col17\" class=\"data row6 col17\" >-0.054830</td>\n",
       "                        <td id=\"T_b4529_row6_col18\" class=\"data row6 col18\" >-0.090309</td>\n",
       "                        <td id=\"T_b4529_row6_col19\" class=\"data row6 col19\" >-0.037453</td>\n",
       "                        <td id=\"T_b4529_row6_col20\" class=\"data row6 col20\" >-0.072358</td>\n",
       "                        <td id=\"T_b4529_row6_col21\" class=\"data row6 col21\" >-0.592766</td>\n",
       "                        <td id=\"T_b4529_row6_col22\" class=\"data row6 col22\" >-0.506912</td>\n",
       "                        <td id=\"T_b4529_row6_col23\" class=\"data row6 col23\" >-0.001816</td>\n",
       "                        <td id=\"T_b4529_row6_col24\" class=\"data row6 col24\" >-0.720910</td>\n",
       "                        <td id=\"T_b4529_row6_col25\" class=\"data row6 col25\" >-0.484828</td>\n",
       "            </tr>\n",
       "            <tr>\n",
       "                        <th id=\"T_b4529_level0_row7\" class=\"row_heading level0 row7\" >killPoints</th>\n",
       "                        <td id=\"T_b4529_row7_col0\" class=\"data row7 col0\" >0.040950</td>\n",
       "                        <td id=\"T_b4529_row7_col1\" class=\"data row7 col1\" >0.008470</td>\n",
       "                        <td id=\"T_b4529_row7_col2\" class=\"data row7 col2\" >0.052097</td>\n",
       "                        <td id=\"T_b4529_row7_col3\" class=\"data row7 col3\" >0.043676</td>\n",
       "                        <td id=\"T_b4529_row7_col4\" class=\"data row7 col4\" >0.025021</td>\n",
       "                        <td id=\"T_b4529_row7_col5\" class=\"data row7 col5\" >-0.002508</td>\n",
       "                        <td id=\"T_b4529_row7_col6\" class=\"data row7 col6\" >-0.023708</td>\n",
       "                        <td id=\"T_b4529_row7_col7\" class=\"data row7 col7\" >1.000000</td>\n",
       "                        <td id=\"T_b4529_row7_col8\" class=\"data row7 col8\" >0.038448</td>\n",
       "                        <td id=\"T_b4529_row7_col9\" class=\"data row7 col9\" >0.037749</td>\n",
       "                        <td id=\"T_b4529_row7_col10\" class=\"data row7 col10\" >0.014193</td>\n",
       "                        <td id=\"T_b4529_row7_col11\" class=\"data row7 col11\" >-0.105284</td>\n",
       "                        <td id=\"T_b4529_row7_col12\" class=\"data row7 col12\" >-0.045941</td>\n",
       "                        <td id=\"T_b4529_row7_col13\" class=\"data row7 col13\" >-0.043541</td>\n",
       "                        <td id=\"T_b4529_row7_col14\" class=\"data row7 col14\" >-0.975656</td>\n",
       "                        <td id=\"T_b4529_row7_col15\" class=\"data row7 col15\" >0.011994</td>\n",
       "                        <td id=\"T_b4529_row7_col16\" class=\"data row7 col16\" >-0.028107</td>\n",
       "                        <td id=\"T_b4529_row7_col17\" class=\"data row7 col17\" >0.001128</td>\n",
       "                        <td id=\"T_b4529_row7_col18\" class=\"data row7 col18\" >-0.004823</td>\n",
       "                        <td id=\"T_b4529_row7_col19\" class=\"data row7 col19\" >-0.039433</td>\n",
       "                        <td id=\"T_b4529_row7_col20\" class=\"data row7 col20\" >-0.008610</td>\n",
       "                        <td id=\"T_b4529_row7_col21\" class=\"data row7 col21\" >0.004068</td>\n",
       "                        <td id=\"T_b4529_row7_col22\" class=\"data row7 col22\" >-0.004237</td>\n",
       "                        <td id=\"T_b4529_row7_col23\" class=\"data row7 col23\" >0.983563</td>\n",
       "                        <td id=\"T_b4529_row7_col24\" class=\"data row7 col24\" >0.013001</td>\n",
       "                        <td id=\"T_b4529_row7_col25\" class=\"data row7 col25\" >-0.017050</td>\n",
       "            </tr>\n",
       "            <tr>\n",
       "                        <th id=\"T_b4529_level0_row8\" class=\"row_heading level0 row8\" >kills</th>\n",
       "                        <td id=\"T_b4529_row8_col0\" class=\"data row8 col0\" >0.289653</td>\n",
       "                        <td id=\"T_b4529_row8_col1\" class=\"data row8 col1\" >0.526504</td>\n",
       "                        <td id=\"T_b4529_row8_col2\" class=\"data row8 col2\" >0.883154</td>\n",
       "                        <td id=\"T_b4529_row8_col3\" class=\"data row8 col3\" >0.726880</td>\n",
       "                        <td id=\"T_b4529_row8_col4\" class=\"data row8 col4\" >0.666665</td>\n",
       "                        <td id=\"T_b4529_row8_col5\" class=\"data row8 col5\" >0.316061</td>\n",
       "                        <td id=\"T_b4529_row8_col6\" class=\"data row8 col6\" >-0.749422</td>\n",
       "                        <td id=\"T_b4529_row8_col7\" class=\"data row8 col7\" >0.038448</td>\n",
       "                        <td id=\"T_b4529_row8_col8\" class=\"data row8 col8\" >1.000000</td>\n",
       "                        <td id=\"T_b4529_row8_col9\" class=\"data row8 col9\" >0.814002</td>\n",
       "                        <td id=\"T_b4529_row8_col10\" class=\"data row8 col10\" >0.615467</td>\n",
       "                        <td id=\"T_b4529_row8_col11\" class=\"data row8 col11\" >-0.013535</td>\n",
       "                        <td id=\"T_b4529_row8_col12\" class=\"data row8 col12\" >0.007434</td>\n",
       "                        <td id=\"T_b4529_row8_col13\" class=\"data row8 col13\" >0.008614</td>\n",
       "                        <td id=\"T_b4529_row8_col14\" class=\"data row8 col14\" >0.009578</td>\n",
       "                        <td id=\"T_b4529_row8_col15\" class=\"data row8 col15\" >0.261437</td>\n",
       "                        <td id=\"T_b4529_row8_col16\" class=\"data row8 col16\" >0.121336</td>\n",
       "                        <td id=\"T_b4529_row8_col17\" class=\"data row8 col17\" >0.064321</td>\n",
       "                        <td id=\"T_b4529_row8_col18\" class=\"data row8 col18\" >0.041831</td>\n",
       "                        <td id=\"T_b4529_row8_col19\" class=\"data row8 col19\" >0.013990</td>\n",
       "                        <td id=\"T_b4529_row8_col20\" class=\"data row8 col20\" >0.082610</td>\n",
       "                        <td id=\"T_b4529_row8_col21\" class=\"data row8 col21\" >0.394503</td>\n",
       "                        <td id=\"T_b4529_row8_col22\" class=\"data row8 col22\" >0.292890</td>\n",
       "                        <td id=\"T_b4529_row8_col23\" class=\"data row8 col23\" >0.006242</td>\n",
       "                        <td id=\"T_b4529_row8_col24\" class=\"data row8 col24\" >0.431588</td>\n",
       "                        <td id=\"T_b4529_row8_col25\" class=\"data row8 col25\" >0.298429</td>\n",
       "            </tr>\n",
       "            <tr>\n",
       "                        <th id=\"T_b4529_level0_row9\" class=\"row_heading level0 row9\" >killStreaks</th>\n",
       "                        <td id=\"T_b4529_row9_col0\" class=\"data row9 col0\" >0.235733</td>\n",
       "                        <td id=\"T_b4529_row9_col1\" class=\"data row9 col1\" >0.409361</td>\n",
       "                        <td id=\"T_b4529_row9_col2\" class=\"data row9 col2\" >0.708764</td>\n",
       "                        <td id=\"T_b4529_row9_col3\" class=\"data row9 col3\" >0.655835</td>\n",
       "                        <td id=\"T_b4529_row9_col4\" class=\"data row9 col4\" >0.513568</td>\n",
       "                        <td id=\"T_b4529_row9_col5\" class=\"data row9 col5\" >0.270500</td>\n",
       "                        <td id=\"T_b4529_row9_col6\" class=\"data row9 col6\" >-0.812671</td>\n",
       "                        <td id=\"T_b4529_row9_col7\" class=\"data row9 col7\" >0.037749</td>\n",
       "                        <td id=\"T_b4529_row9_col8\" class=\"data row9 col8\" >0.814002</td>\n",
       "                        <td id=\"T_b4529_row9_col9\" class=\"data row9 col9\" >1.000000</td>\n",
       "                        <td id=\"T_b4529_row9_col10\" class=\"data row9 col10\" >0.515613</td>\n",
       "                        <td id=\"T_b4529_row9_col11\" class=\"data row9 col11\" >-0.027490</td>\n",
       "                        <td id=\"T_b4529_row9_col12\" class=\"data row9 col12\" >-0.033327</td>\n",
       "                        <td id=\"T_b4529_row9_col13\" class=\"data row9 col13\" >-0.031920</td>\n",
       "                        <td id=\"T_b4529_row9_col14\" class=\"data row9 col14\" >0.003759</td>\n",
       "                        <td id=\"T_b4529_row9_col15\" class=\"data row9 col15\" >0.243088</td>\n",
       "                        <td id=\"T_b4529_row9_col16\" class=\"data row9 col16\" >0.099575</td>\n",
       "                        <td id=\"T_b4529_row9_col17\" class=\"data row9 col17\" >0.064270</td>\n",
       "                        <td id=\"T_b4529_row9_col18\" class=\"data row9 col18\" >0.035321</td>\n",
       "                        <td id=\"T_b4529_row9_col19\" class=\"data row9 col19\" >0.026690</td>\n",
       "                        <td id=\"T_b4529_row9_col20\" class=\"data row9 col20\" >0.063284</td>\n",
       "                        <td id=\"T_b4529_row9_col21\" class=\"data row9 col21\" >0.331427</td>\n",
       "                        <td id=\"T_b4529_row9_col22\" class=\"data row9 col22\" >0.269843</td>\n",
       "                        <td id=\"T_b4529_row9_col23\" class=\"data row9 col23\" >0.008356</td>\n",
       "                        <td id=\"T_b4529_row9_col24\" class=\"data row9 col24\" >0.377973</td>\n",
       "                        <td id=\"T_b4529_row9_col25\" class=\"data row9 col25\" >0.249104</td>\n",
       "            </tr>\n",
       "            <tr>\n",
       "                        <th id=\"T_b4529_level0_row10\" class=\"row_heading level0 row10\" >longestKill</th>\n",
       "                        <td id=\"T_b4529_row10_col0\" class=\"data row10 col0\" >0.259647</td>\n",
       "                        <td id=\"T_b4529_row10_col1\" class=\"data row10 col1\" >0.426893</td>\n",
       "                        <td id=\"T_b4529_row10_col2\" class=\"data row10 col2\" >0.571355</td>\n",
       "                        <td id=\"T_b4529_row10_col3\" class=\"data row10 col3\" >0.458233</td>\n",
       "                        <td id=\"T_b4529_row10_col4\" class=\"data row10 col4\" >0.451981</td>\n",
       "                        <td id=\"T_b4529_row10_col5\" class=\"data row10 col5\" >0.263564</td>\n",
       "                        <td id=\"T_b4529_row10_col6\" class=\"data row10 col6\" >-0.542635</td>\n",
       "                        <td id=\"T_b4529_row10_col7\" class=\"data row10 col7\" >0.014193</td>\n",
       "                        <td id=\"T_b4529_row10_col8\" class=\"data row10 col8\" >0.615467</td>\n",
       "                        <td id=\"T_b4529_row10_col9\" class=\"data row10 col9\" >0.515613</td>\n",
       "                        <td id=\"T_b4529_row10_col10\" class=\"data row10 col10\" >1.000000</td>\n",
       "                        <td id=\"T_b4529_row10_col11\" class=\"data row10 col11\" >0.059866</td>\n",
       "                        <td id=\"T_b4529_row10_col12\" class=\"data row10 col12\" >-0.013554</td>\n",
       "                        <td id=\"T_b4529_row10_col13\" class=\"data row10 col13\" >-0.013065</td>\n",
       "                        <td id=\"T_b4529_row10_col14\" class=\"data row10 col14\" >0.017979</td>\n",
       "                        <td id=\"T_b4529_row10_col15\" class=\"data row10 col15\" >0.170920</td>\n",
       "                        <td id=\"T_b4529_row10_col16\" class=\"data row10 col16\" >0.192388</td>\n",
       "                        <td id=\"T_b4529_row10_col17\" class=\"data row10 col17\" >0.030475</td>\n",
       "                        <td id=\"T_b4529_row10_col18\" class=\"data row10 col18\" >0.054340</td>\n",
       "                        <td id=\"T_b4529_row10_col19\" class=\"data row10 col19\" >0.007002</td>\n",
       "                        <td id=\"T_b4529_row10_col20\" class=\"data row10 col20\" >0.083467</td>\n",
       "                        <td id=\"T_b4529_row10_col21\" class=\"data row10 col21\" >0.417477</td>\n",
       "                        <td id=\"T_b4529_row10_col22\" class=\"data row10 col22\" >0.277875</td>\n",
       "                        <td id=\"T_b4529_row10_col23\" class=\"data row10 col23\" >-0.004515</td>\n",
       "                        <td id=\"T_b4529_row10_col24\" class=\"data row10 col24\" >0.412435</td>\n",
       "                        <td id=\"T_b4529_row10_col25\" class=\"data row10 col25\" >0.359657</td>\n",
       "            </tr>\n",
       "            <tr>\n",
       "                        <th id=\"T_b4529_level0_row11\" class=\"row_heading level0 row11\" >matchDuration</th>\n",
       "                        <td id=\"T_b4529_row11_col0\" class=\"data row11 col0\" >-0.005065</td>\n",
       "                        <td id=\"T_b4529_row11_col1\" class=\"data row11 col1\" >0.068290</td>\n",
       "                        <td id=\"T_b4529_row11_col2\" class=\"data row11 col2\" >0.008126</td>\n",
       "                        <td id=\"T_b4529_row11_col3\" class=\"data row11 col3\" >-0.011996</td>\n",
       "                        <td id=\"T_b4529_row11_col4\" class=\"data row11 col4\" >-0.006956</td>\n",
       "                        <td id=\"T_b4529_row11_col5\" class=\"data row11 col5\" >0.110821</td>\n",
       "                        <td id=\"T_b4529_row11_col6\" class=\"data row11 col6\" >-0.009543</td>\n",
       "                        <td id=\"T_b4529_row11_col7\" class=\"data row11 col7\" >-0.105284</td>\n",
       "                        <td id=\"T_b4529_row11_col8\" class=\"data row11 col8\" >-0.013535</td>\n",
       "                        <td id=\"T_b4529_row11_col9\" class=\"data row11 col9\" >-0.027490</td>\n",
       "                        <td id=\"T_b4529_row11_col10\" class=\"data row11 col10\" >0.059866</td>\n",
       "                        <td id=\"T_b4529_row11_col11\" class=\"data row11 col11\" >1.000000</td>\n",
       "                        <td id=\"T_b4529_row11_col12\" class=\"data row11 col12\" >0.042992</td>\n",
       "                        <td id=\"T_b4529_row11_col13\" class=\"data row11 col13\" >0.034376</td>\n",
       "                        <td id=\"T_b4529_row11_col14\" class=\"data row11 col14\" >0.093597</td>\n",
       "                        <td id=\"T_b4529_row11_col15\" class=\"data row11 col15\" >0.015314</td>\n",
       "                        <td id=\"T_b4529_row11_col16\" class=\"data row11 col16\" >0.370851</td>\n",
       "                        <td id=\"T_b4529_row11_col17\" class=\"data row11 col17\" >0.042517</td>\n",
       "                        <td id=\"T_b4529_row11_col18\" class=\"data row11 col18\" >0.007762</td>\n",
       "                        <td id=\"T_b4529_row11_col19\" class=\"data row11 col19\" >0.053178</td>\n",
       "                        <td id=\"T_b4529_row11_col20\" class=\"data row11 col20\" >0.063817</td>\n",
       "                        <td id=\"T_b4529_row11_col21\" class=\"data row11 col21\" >0.141280</td>\n",
       "                        <td id=\"T_b4529_row11_col22\" class=\"data row11 col22\" >0.160242</td>\n",
       "                        <td id=\"T_b4529_row11_col23\" class=\"data row11 col23\" >-0.092901</td>\n",
       "                        <td id=\"T_b4529_row11_col24\" class=\"data row11 col24\" >-0.004197</td>\n",
       "                        <td id=\"T_b4529_row11_col25\" class=\"data row11 col25\" >0.330408</td>\n",
       "            </tr>\n",
       "            <tr>\n",
       "                        <th id=\"T_b4529_level0_row12\" class=\"row_heading level0 row12\" >maxPlace</th>\n",
       "                        <td id=\"T_b4529_row12_col0\" class=\"data row12 col0\" >-0.141422</td>\n",
       "                        <td id=\"T_b4529_row12_col1\" class=\"data row12 col1\" >-0.012870</td>\n",
       "                        <td id=\"T_b4529_row12_col2\" class=\"data row12 col2\" >-0.029766</td>\n",
       "                        <td id=\"T_b4529_row12_col3\" class=\"data row12 col3\" >-0.269760</td>\n",
       "                        <td id=\"T_b4529_row12_col4\" class=\"data row12 col4\" >0.017484</td>\n",
       "                        <td id=\"T_b4529_row12_col5\" class=\"data row12 col5\" >-0.061706</td>\n",
       "                        <td id=\"T_b4529_row12_col6\" class=\"data row12 col6\" >0.011119</td>\n",
       "                        <td id=\"T_b4529_row12_col7\" class=\"data row12 col7\" >-0.045941</td>\n",
       "                        <td id=\"T_b4529_row12_col8\" class=\"data row12 col8\" >0.007434</td>\n",
       "                        <td id=\"T_b4529_row12_col9\" class=\"data row12 col9\" >-0.033327</td>\n",
       "                        <td id=\"T_b4529_row12_col10\" class=\"data row12 col10\" >-0.013554</td>\n",
       "                        <td id=\"T_b4529_row12_col11\" class=\"data row12 col11\" >0.042992</td>\n",
       "                        <td id=\"T_b4529_row12_col12\" class=\"data row12 col12\" >1.000000</td>\n",
       "                        <td id=\"T_b4529_row12_col13\" class=\"data row12 col13\" >0.997924</td>\n",
       "                        <td id=\"T_b4529_row12_col14\" class=\"data row12 col14\" >0.048673</td>\n",
       "                        <td id=\"T_b4529_row12_col15\" class=\"data row12 col15\" >-0.160603</td>\n",
       "                        <td id=\"T_b4529_row12_col16\" class=\"data row12 col16\" >-0.042906</td>\n",
       "                        <td id=\"T_b4529_row12_col17\" class=\"data row12 col17\" >0.012797</td>\n",
       "                        <td id=\"T_b4529_row12_col18\" class=\"data row12 col18\" >0.007817</td>\n",
       "                        <td id=\"T_b4529_row12_col19\" class=\"data row12 col19\" >-0.037233</td>\n",
       "                        <td id=\"T_b4529_row12_col20\" class=\"data row12 col20\" >-0.017950</td>\n",
       "                        <td id=\"T_b4529_row12_col21\" class=\"data row12 col21\" >-0.083422</td>\n",
       "                        <td id=\"T_b4529_row12_col22\" class=\"data row12 col22\" >-0.022341</td>\n",
       "                        <td id=\"T_b4529_row12_col23\" class=\"data row12 col23\" >-0.029078</td>\n",
       "                        <td id=\"T_b4529_row12_col24\" class=\"data row12 col24\" >0.038446</td>\n",
       "                        <td id=\"T_b4529_row12_col25\" class=\"data row12 col25\" >-0.074655</td>\n",
       "            </tr>\n",
       "            <tr>\n",
       "                        <th id=\"T_b4529_level0_row13\" class=\"row_heading level0 row13\" >numGroups</th>\n",
       "                        <td id=\"T_b4529_row13_col0\" class=\"data row13 col0\" >-0.140108</td>\n",
       "                        <td id=\"T_b4529_row13_col1\" class=\"data row13 col1\" >-0.012221</td>\n",
       "                        <td id=\"T_b4529_row13_col2\" class=\"data row13 col2\" >-0.028839</td>\n",
       "                        <td id=\"T_b4529_row13_col3\" class=\"data row13 col3\" >-0.267906</td>\n",
       "                        <td id=\"T_b4529_row13_col4\" class=\"data row13 col4\" >0.017929</td>\n",
       "                        <td id=\"T_b4529_row13_col5\" class=\"data row13 col5\" >-0.061186</td>\n",
       "                        <td id=\"T_b4529_row13_col6\" class=\"data row13 col6\" >0.013135</td>\n",
       "                        <td id=\"T_b4529_row13_col7\" class=\"data row13 col7\" >-0.043541</td>\n",
       "                        <td id=\"T_b4529_row13_col8\" class=\"data row13 col8\" >0.008614</td>\n",
       "                        <td id=\"T_b4529_row13_col9\" class=\"data row13 col9\" >-0.031920</td>\n",
       "                        <td id=\"T_b4529_row13_col10\" class=\"data row13 col10\" >-0.013065</td>\n",
       "                        <td id=\"T_b4529_row13_col11\" class=\"data row13 col11\" >0.034376</td>\n",
       "                        <td id=\"T_b4529_row13_col12\" class=\"data row13 col12\" >0.997924</td>\n",
       "                        <td id=\"T_b4529_row13_col13\" class=\"data row13 col13\" >1.000000</td>\n",
       "                        <td id=\"T_b4529_row13_col14\" class=\"data row13 col14\" >0.047008</td>\n",
       "                        <td id=\"T_b4529_row13_col15\" class=\"data row13 col15\" >-0.159470</td>\n",
       "                        <td id=\"T_b4529_row13_col16\" class=\"data row13 col16\" >-0.045186</td>\n",
       "                        <td id=\"T_b4529_row13_col17\" class=\"data row13 col17\" >0.011928</td>\n",
       "                        <td id=\"T_b4529_row13_col18\" class=\"data row13 col18\" >0.007922</td>\n",
       "                        <td id=\"T_b4529_row13_col19\" class=\"data row13 col19\" >-0.037549</td>\n",
       "                        <td id=\"T_b4529_row13_col20\" class=\"data row13 col20\" >-0.018239</td>\n",
       "                        <td id=\"T_b4529_row13_col21\" class=\"data row13 col21\" >-0.082581</td>\n",
       "                        <td id=\"T_b4529_row13_col22\" class=\"data row13 col22\" >-0.022888</td>\n",
       "                        <td id=\"T_b4529_row13_col23\" class=\"data row13 col23\" >-0.027318</td>\n",
       "                        <td id=\"T_b4529_row13_col24\" class=\"data row13 col24\" >0.040720</td>\n",
       "                        <td id=\"T_b4529_row13_col25\" class=\"data row13 col25\" >-0.075752</td>\n",
       "            </tr>\n",
       "            <tr>\n",
       "                        <th id=\"T_b4529_level0_row14\" class=\"row_heading level0 row14\" >rankPoints</th>\n",
       "                        <td id=\"T_b4529_row14_col0\" class=\"data row14 col0\" >-0.015726</td>\n",
       "                        <td id=\"T_b4529_row14_col1\" class=\"data row14 col1\" >0.023556</td>\n",
       "                        <td id=\"T_b4529_row14_col2\" class=\"data row14 col2\" >-0.000083</td>\n",
       "                        <td id=\"T_b4529_row14_col3\" class=\"data row14 col3\" >-0.002809</td>\n",
       "                        <td id=\"T_b4529_row14_col4\" class=\"data row14 col4\" >0.006113</td>\n",
       "                        <td id=\"T_b4529_row14_col5\" class=\"data row14 col5\" >0.019856</td>\n",
       "                        <td id=\"T_b4529_row14_col6\" class=\"data row14 col6\" >-0.015537</td>\n",
       "                        <td id=\"T_b4529_row14_col7\" class=\"data row14 col7\" >-0.975656</td>\n",
       "                        <td id=\"T_b4529_row14_col8\" class=\"data row14 col8\" >0.009578</td>\n",
       "                        <td id=\"T_b4529_row14_col9\" class=\"data row14 col9\" >0.003759</td>\n",
       "                        <td id=\"T_b4529_row14_col10\" class=\"data row14 col10\" >0.017979</td>\n",
       "                        <td id=\"T_b4529_row14_col11\" class=\"data row14 col11\" >0.093597</td>\n",
       "                        <td id=\"T_b4529_row14_col12\" class=\"data row14 col12\" >0.048673</td>\n",
       "                        <td id=\"T_b4529_row14_col13\" class=\"data row14 col13\" >0.047008</td>\n",
       "                        <td id=\"T_b4529_row14_col14\" class=\"data row14 col14\" >1.000000</td>\n",
       "                        <td id=\"T_b4529_row14_col15\" class=\"data row14 col15\" >-0.000249</td>\n",
       "                        <td id=\"T_b4529_row14_col16\" class=\"data row14 col16\" >0.036686</td>\n",
       "                        <td id=\"T_b4529_row14_col17\" class=\"data row14 col17\" >0.001030</td>\n",
       "                        <td id=\"T_b4529_row14_col18\" class=\"data row14 col18\" >0.004981</td>\n",
       "                        <td id=\"T_b4529_row14_col19\" class=\"data row14 col19\" >0.039408</td>\n",
       "                        <td id=\"T_b4529_row14_col20\" class=\"data row14 col20\" >0.012626</td>\n",
       "                        <td id=\"T_b4529_row14_col21\" class=\"data row14 col21\" >0.016777</td>\n",
       "                        <td id=\"T_b4529_row14_col22\" class=\"data row14 col22\" >0.018360</td>\n",
       "                        <td id=\"T_b4529_row14_col23\" class=\"data row14 col23\" >-0.993798</td>\n",
       "                        <td id=\"T_b4529_row14_col24\" class=\"data row14 col24\" >0.013751</td>\n",
       "                        <td id=\"T_b4529_row14_col25\" class=\"data row14 col25\" >0.034270</td>\n",
       "            </tr>\n",
       "            <tr>\n",
       "                        <th id=\"T_b4529_level0_row15\" class=\"row_heading level0 row15\" >revives</th>\n",
       "                        <td id=\"T_b4529_row15_col0\" class=\"data row15 col0\" >0.200387</td>\n",
       "                        <td id=\"T_b4529_row15_col1\" class=\"data row15 col1\" >0.254074</td>\n",
       "                        <td id=\"T_b4529_row15_col2\" class=\"data row15 col2\" >0.263056</td>\n",
       "                        <td id=\"T_b4529_row15_col3\" class=\"data row15 col3\" >0.300143</td>\n",
       "                        <td id=\"T_b4529_row15_col4\" class=\"data row15 col4\" >0.153329</td>\n",
       "                        <td id=\"T_b4529_row15_col5\" class=\"data row15 col5\" >0.237253</td>\n",
       "                        <td id=\"T_b4529_row15_col6\" class=\"data row15 col6\" >-0.270765</td>\n",
       "                        <td id=\"T_b4529_row15_col7\" class=\"data row15 col7\" >0.011994</td>\n",
       "                        <td id=\"T_b4529_row15_col8\" class=\"data row15 col8\" >0.261437</td>\n",
       "                        <td id=\"T_b4529_row15_col9\" class=\"data row15 col9\" >0.243088</td>\n",
       "                        <td id=\"T_b4529_row15_col10\" class=\"data row15 col10\" >0.170920</td>\n",
       "                        <td id=\"T_b4529_row15_col11\" class=\"data row15 col11\" >0.015314</td>\n",
       "                        <td id=\"T_b4529_row15_col12\" class=\"data row15 col12\" >-0.160603</td>\n",
       "                        <td id=\"T_b4529_row15_col13\" class=\"data row15 col13\" >-0.159470</td>\n",
       "                        <td id=\"T_b4529_row15_col14\" class=\"data row15 col14\" >-0.000249</td>\n",
       "                        <td id=\"T_b4529_row15_col15\" class=\"data row15 col15\" >1.000000</td>\n",
       "                        <td id=\"T_b4529_row15_col16\" class=\"data row15 col16\" >0.110398</td>\n",
       "                        <td id=\"T_b4529_row15_col17\" class=\"data row15 col17\" >0.007748</td>\n",
       "                        <td id=\"T_b4529_row15_col18\" class=\"data row15 col18\" >0.020728</td>\n",
       "                        <td id=\"T_b4529_row15_col19\" class=\"data row15 col19\" >0.033602</td>\n",
       "                        <td id=\"T_b4529_row15_col20\" class=\"data row15 col20\" >0.038235</td>\n",
       "                        <td id=\"T_b4529_row15_col21\" class=\"data row15 col21\" >0.237824</td>\n",
       "                        <td id=\"T_b4529_row15_col22\" class=\"data row15 col22\" >0.174574</td>\n",
       "                        <td id=\"T_b4529_row15_col23\" class=\"data row15 col23\" >0.002090</td>\n",
       "                        <td id=\"T_b4529_row15_col24\" class=\"data row15 col24\" >0.241897</td>\n",
       "                        <td id=\"T_b4529_row15_col25\" class=\"data row15 col25\" >0.205289</td>\n",
       "            </tr>\n",
       "            <tr>\n",
       "                        <th id=\"T_b4529_level0_row16\" class=\"row_heading level0 row16\" >rideDistance</th>\n",
       "                        <td id=\"T_b4529_row16_col0\" class=\"data row16 col0\" >0.114171</td>\n",
       "                        <td id=\"T_b4529_row16_col1\" class=\"data row16 col1\" >0.328304</td>\n",
       "                        <td id=\"T_b4529_row16_col2\" class=\"data row16 col2\" >0.146487</td>\n",
       "                        <td id=\"T_b4529_row16_col3\" class=\"data row16 col3\" >0.104814</td>\n",
       "                        <td id=\"T_b4529_row16_col4\" class=\"data row16 col4\" >0.081121</td>\n",
       "                        <td id=\"T_b4529_row16_col5\" class=\"data row16 col5\" >0.298133</td>\n",
       "                        <td id=\"T_b4529_row16_col6\" class=\"data row16 col6\" >-0.235068</td>\n",
       "                        <td id=\"T_b4529_row16_col7\" class=\"data row16 col7\" >-0.028107</td>\n",
       "                        <td id=\"T_b4529_row16_col8\" class=\"data row16 col8\" >0.121336</td>\n",
       "                        <td id=\"T_b4529_row16_col9\" class=\"data row16 col9\" >0.099575</td>\n",
       "                        <td id=\"T_b4529_row16_col10\" class=\"data row16 col10\" >0.192388</td>\n",
       "                        <td id=\"T_b4529_row16_col11\" class=\"data row16 col11\" >0.370851</td>\n",
       "                        <td id=\"T_b4529_row16_col12\" class=\"data row16 col12\" >-0.042906</td>\n",
       "                        <td id=\"T_b4529_row16_col13\" class=\"data row16 col13\" >-0.045186</td>\n",
       "                        <td id=\"T_b4529_row16_col14\" class=\"data row16 col14\" >0.036686</td>\n",
       "                        <td id=\"T_b4529_row16_col15\" class=\"data row16 col15\" >0.110398</td>\n",
       "                        <td id=\"T_b4529_row16_col16\" class=\"data row16 col16\" >1.000000</td>\n",
       "                        <td id=\"T_b4529_row16_col17\" class=\"data row16 col17\" >0.099705</td>\n",
       "                        <td id=\"T_b4529_row16_col18\" class=\"data row16 col18\" >0.050321</td>\n",
       "                        <td id=\"T_b4529_row16_col19\" class=\"data row16 col19\" >0.051347</td>\n",
       "                        <td id=\"T_b4529_row16_col20\" class=\"data row16 col20\" >0.116991</td>\n",
       "                        <td id=\"T_b4529_row16_col21\" class=\"data row16 col21\" >0.312708</td>\n",
       "                        <td id=\"T_b4529_row16_col22\" class=\"data row16 col22\" >0.302330</td>\n",
       "                        <td id=\"T_b4529_row16_col23\" class=\"data row16 col23\" >-0.027538</td>\n",
       "                        <td id=\"T_b4529_row16_col24\" class=\"data row16 col24\" >0.345415</td>\n",
       "                        <td id=\"T_b4529_row16_col25\" class=\"data row16 col25\" >0.854167</td>\n",
       "            </tr>\n",
       "            <tr>\n",
       "                        <th id=\"T_b4529_level0_row17\" class=\"row_heading level0 row17\" >roadKills</th>\n",
       "                        <td id=\"T_b4529_row17_col0\" class=\"data row17 col0\" >0.012137</td>\n",
       "                        <td id=\"T_b4529_row17_col1\" class=\"data row17 col1\" >0.037011</td>\n",
       "                        <td id=\"T_b4529_row17_col2\" class=\"data row17 col2\" >0.056176</td>\n",
       "                        <td id=\"T_b4529_row17_col3\" class=\"data row17 col3\" >0.037038</td>\n",
       "                        <td id=\"T_b4529_row17_col4\" class=\"data row17 col4\" >0.017846</td>\n",
       "                        <td id=\"T_b4529_row17_col5\" class=\"data row17 col5\" >0.027361</td>\n",
       "                        <td id=\"T_b4529_row17_col6\" class=\"data row17 col6\" >-0.054830</td>\n",
       "                        <td id=\"T_b4529_row17_col7\" class=\"data row17 col7\" >0.001128</td>\n",
       "                        <td id=\"T_b4529_row17_col8\" class=\"data row17 col8\" >0.064321</td>\n",
       "                        <td id=\"T_b4529_row17_col9\" class=\"data row17 col9\" >0.064270</td>\n",
       "                        <td id=\"T_b4529_row17_col10\" class=\"data row17 col10\" >0.030475</td>\n",
       "                        <td id=\"T_b4529_row17_col11\" class=\"data row17 col11\" >0.042517</td>\n",
       "                        <td id=\"T_b4529_row17_col12\" class=\"data row17 col12\" >0.012797</td>\n",
       "                        <td id=\"T_b4529_row17_col13\" class=\"data row17 col13\" >0.011928</td>\n",
       "                        <td id=\"T_b4529_row17_col14\" class=\"data row17 col14\" >0.001030</td>\n",
       "                        <td id=\"T_b4529_row17_col15\" class=\"data row17 col15\" >0.007748</td>\n",
       "                        <td id=\"T_b4529_row17_col16\" class=\"data row17 col16\" >0.099705</td>\n",
       "                        <td id=\"T_b4529_row17_col17\" class=\"data row17 col17\" >1.000000</td>\n",
       "                        <td id=\"T_b4529_row17_col18\" class=\"data row17 col18\" >0.005989</td>\n",
       "                        <td id=\"T_b4529_row17_col19\" class=\"data row17 col19\" >0.009898</td>\n",
       "                        <td id=\"T_b4529_row17_col20\" class=\"data row17 col20\" >0.020726</td>\n",
       "                        <td id=\"T_b4529_row17_col21\" class=\"data row17 col21\" >0.022861</td>\n",
       "                        <td id=\"T_b4529_row17_col22\" class=\"data row17 col22\" >0.026796</td>\n",
       "                        <td id=\"T_b4529_row17_col23\" class=\"data row17 col23\" >0.000510</td>\n",
       "                        <td id=\"T_b4529_row17_col24\" class=\"data row17 col24\" >0.031816</td>\n",
       "                        <td id=\"T_b4529_row17_col25\" class=\"data row17 col25\" >0.080646</td>\n",
       "            </tr>\n",
       "            <tr>\n",
       "                        <th id=\"T_b4529_level0_row18\" class=\"row_heading level0 row18\" >swimDistance</th>\n",
       "                        <td id=\"T_b4529_row18_col0\" class=\"data row18 col0\" >0.025339</td>\n",
       "                        <td id=\"T_b4529_row18_col1\" class=\"data row18 col1\" >0.108672</td>\n",
       "                        <td id=\"T_b4529_row18_col2\" class=\"data row18 col2\" >0.038988</td>\n",
       "                        <td id=\"T_b4529_row18_col3\" class=\"data row18 col3\" >0.018033</td>\n",
       "                        <td id=\"T_b4529_row18_col4\" class=\"data row18 col4\" >0.029792</td>\n",
       "                        <td id=\"T_b4529_row18_col5\" class=\"data row18 col5\" >0.080509</td>\n",
       "                        <td id=\"T_b4529_row18_col6\" class=\"data row18 col6\" >-0.090309</td>\n",
       "                        <td id=\"T_b4529_row18_col7\" class=\"data row18 col7\" >-0.004823</td>\n",
       "                        <td id=\"T_b4529_row18_col8\" class=\"data row18 col8\" >0.041831</td>\n",
       "                        <td id=\"T_b4529_row18_col9\" class=\"data row18 col9\" >0.035321</td>\n",
       "                        <td id=\"T_b4529_row18_col10\" class=\"data row18 col10\" >0.054340</td>\n",
       "                        <td id=\"T_b4529_row18_col11\" class=\"data row18 col11\" >0.007762</td>\n",
       "                        <td id=\"T_b4529_row18_col12\" class=\"data row18 col12\" >0.007817</td>\n",
       "                        <td id=\"T_b4529_row18_col13\" class=\"data row18 col13\" >0.007922</td>\n",
       "                        <td id=\"T_b4529_row18_col14\" class=\"data row18 col14\" >0.004981</td>\n",
       "                        <td id=\"T_b4529_row18_col15\" class=\"data row18 col15\" >0.020728</td>\n",
       "                        <td id=\"T_b4529_row18_col16\" class=\"data row18 col16\" >0.050321</td>\n",
       "                        <td id=\"T_b4529_row18_col17\" class=\"data row18 col17\" >0.005989</td>\n",
       "                        <td id=\"T_b4529_row18_col18\" class=\"data row18 col18\" >1.000000</td>\n",
       "                        <td id=\"T_b4529_row18_col19\" class=\"data row18 col19\" >0.006321</td>\n",
       "                        <td id=\"T_b4529_row18_col20\" class=\"data row18 col20\" >0.008452</td>\n",
       "                        <td id=\"T_b4529_row18_col21\" class=\"data row18 col21\" >0.168152</td>\n",
       "                        <td id=\"T_b4529_row18_col22\" class=\"data row18 col22\" >0.081697</td>\n",
       "                        <td id=\"T_b4529_row18_col23\" class=\"data row18 col23\" >-0.002914</td>\n",
       "                        <td id=\"T_b4529_row18_col24\" class=\"data row18 col24\" >0.150905</td>\n",
       "                        <td id=\"T_b4529_row18_col25\" class=\"data row18 col25\" >0.139996</td>\n",
       "            </tr>\n",
       "            <tr>\n",
       "                        <th id=\"T_b4529_level0_row19\" class=\"row_heading level0 row19\" >teamKills</th>\n",
       "                        <td id=\"T_b4529_row19_col0\" class=\"data row19 col0\" >0.002428</td>\n",
       "                        <td id=\"T_b4529_row19_col1\" class=\"data row19 col1\" >0.013844</td>\n",
       "                        <td id=\"T_b4529_row19_col2\" class=\"data row19 col2\" >0.011980</td>\n",
       "                        <td id=\"T_b4529_row19_col3\" class=\"data row19 col3\" >0.071254</td>\n",
       "                        <td id=\"T_b4529_row19_col4\" class=\"data row19 col4\" >0.007054</td>\n",
       "                        <td id=\"T_b4529_row19_col5\" class=\"data row19 col5\" >0.035369</td>\n",
       "                        <td id=\"T_b4529_row19_col6\" class=\"data row19 col6\" >-0.037453</td>\n",
       "                        <td id=\"T_b4529_row19_col7\" class=\"data row19 col7\" >-0.039433</td>\n",
       "                        <td id=\"T_b4529_row19_col8\" class=\"data row19 col8\" >0.013990</td>\n",
       "                        <td id=\"T_b4529_row19_col9\" class=\"data row19 col9\" >0.026690</td>\n",
       "                        <td id=\"T_b4529_row19_col10\" class=\"data row19 col10\" >0.007002</td>\n",
       "                        <td id=\"T_b4529_row19_col11\" class=\"data row19 col11\" >0.053178</td>\n",
       "                        <td id=\"T_b4529_row19_col12\" class=\"data row19 col12\" >-0.037233</td>\n",
       "                        <td id=\"T_b4529_row19_col13\" class=\"data row19 col13\" >-0.037549</td>\n",
       "                        <td id=\"T_b4529_row19_col14\" class=\"data row19 col14\" >0.039408</td>\n",
       "                        <td id=\"T_b4529_row19_col15\" class=\"data row19 col15\" >0.033602</td>\n",
       "                        <td id=\"T_b4529_row19_col16\" class=\"data row19 col16\" >0.051347</td>\n",
       "                        <td id=\"T_b4529_row19_col17\" class=\"data row19 col17\" >0.009898</td>\n",
       "                        <td id=\"T_b4529_row19_col18\" class=\"data row19 col18\" >0.006321</td>\n",
       "                        <td id=\"T_b4529_row19_col19\" class=\"data row19 col19\" >1.000000</td>\n",
       "                        <td id=\"T_b4529_row19_col20\" class=\"data row19 col20\" >0.114191</td>\n",
       "                        <td id=\"T_b4529_row19_col21\" class=\"data row19 col21\" >0.025915</td>\n",
       "                        <td id=\"T_b4529_row19_col22\" class=\"data row19 col22\" >0.032389</td>\n",
       "                        <td id=\"T_b4529_row19_col23\" class=\"data row19 col23\" >-0.040751</td>\n",
       "                        <td id=\"T_b4529_row19_col24\" class=\"data row19 col24\" >0.016416</td>\n",
       "                        <td id=\"T_b4529_row19_col25\" class=\"data row19 col25\" >0.049283</td>\n",
       "            </tr>\n",
       "            <tr>\n",
       "                        <th id=\"T_b4529_level0_row20\" class=\"row_heading level0 row20\" >vehicleDestroys</th>\n",
       "                        <td id=\"T_b4529_row20_col0\" class=\"data row20 col0\" >0.058771</td>\n",
       "                        <td id=\"T_b4529_row20_col1\" class=\"data row20 col1\" >0.086519</td>\n",
       "                        <td id=\"T_b4529_row20_col2\" class=\"data row20 col2\" >0.082992</td>\n",
       "                        <td id=\"T_b4529_row20_col3\" class=\"data row20 col3\" >0.060661</td>\n",
       "                        <td id=\"T_b4529_row20_col4\" class=\"data row20 col4\" >0.041441</td>\n",
       "                        <td id=\"T_b4529_row20_col5\" class=\"data row20 col5\" >0.063064</td>\n",
       "                        <td id=\"T_b4529_row20_col6\" class=\"data row20 col6\" >-0.072358</td>\n",
       "                        <td id=\"T_b4529_row20_col7\" class=\"data row20 col7\" >-0.008610</td>\n",
       "                        <td id=\"T_b4529_row20_col8\" class=\"data row20 col8\" >0.082610</td>\n",
       "                        <td id=\"T_b4529_row20_col9\" class=\"data row20 col9\" >0.063284</td>\n",
       "                        <td id=\"T_b4529_row20_col10\" class=\"data row20 col10\" >0.083467</td>\n",
       "                        <td id=\"T_b4529_row20_col11\" class=\"data row20 col11\" >0.063817</td>\n",
       "                        <td id=\"T_b4529_row20_col12\" class=\"data row20 col12\" >-0.017950</td>\n",
       "                        <td id=\"T_b4529_row20_col13\" class=\"data row20 col13\" >-0.018239</td>\n",
       "                        <td id=\"T_b4529_row20_col14\" class=\"data row20 col14\" >0.012626</td>\n",
       "                        <td id=\"T_b4529_row20_col15\" class=\"data row20 col15\" >0.038235</td>\n",
       "                        <td id=\"T_b4529_row20_col16\" class=\"data row20 col16\" >0.116991</td>\n",
       "                        <td id=\"T_b4529_row20_col17\" class=\"data row20 col17\" >0.020726</td>\n",
       "                        <td id=\"T_b4529_row20_col18\" class=\"data row20 col18\" >0.008452</td>\n",
       "                        <td id=\"T_b4529_row20_col19\" class=\"data row20 col19\" >0.114191</td>\n",
       "                        <td id=\"T_b4529_row20_col20\" class=\"data row20 col20\" >1.000000</td>\n",
       "                        <td id=\"T_b4529_row20_col21\" class=\"data row20 col21\" >0.077048</td>\n",
       "                        <td id=\"T_b4529_row20_col22\" class=\"data row20 col22\" >0.067013</td>\n",
       "                        <td id=\"T_b4529_row20_col23\" class=\"data row20 col23\" >-0.010609</td>\n",
       "                        <td id=\"T_b4529_row20_col24\" class=\"data row20 col24\" >0.072860</td>\n",
       "                        <td id=\"T_b4529_row20_col25\" class=\"data row20 col25\" >0.122015</td>\n",
       "            </tr>\n",
       "            <tr>\n",
       "                        <th id=\"T_b4529_level0_row21\" class=\"row_heading level0 row21\" >walkDistance</th>\n",
       "                        <td id=\"T_b4529_row21_col0\" class=\"data row21 col0\" >0.303187</td>\n",
       "                        <td id=\"T_b4529_row21_col1\" class=\"data row21 col1\" >0.641220</td>\n",
       "                        <td id=\"T_b4529_row21_col2\" class=\"data row21 col2\" >0.415061</td>\n",
       "                        <td id=\"T_b4529_row21_col3\" class=\"data row21 col3\" >0.291889</td>\n",
       "                        <td id=\"T_b4529_row21_col4\" class=\"data row21 col4\" >0.261289</td>\n",
       "                        <td id=\"T_b4529_row21_col5\" class=\"data row21 col5\" >0.432806</td>\n",
       "                        <td id=\"T_b4529_row21_col6\" class=\"data row21 col6\" >-0.592766</td>\n",
       "                        <td id=\"T_b4529_row21_col7\" class=\"data row21 col7\" >0.004068</td>\n",
       "                        <td id=\"T_b4529_row21_col8\" class=\"data row21 col8\" >0.394503</td>\n",
       "                        <td id=\"T_b4529_row21_col9\" class=\"data row21 col9\" >0.331427</td>\n",
       "                        <td id=\"T_b4529_row21_col10\" class=\"data row21 col10\" >0.417477</td>\n",
       "                        <td id=\"T_b4529_row21_col11\" class=\"data row21 col11\" >0.141280</td>\n",
       "                        <td id=\"T_b4529_row21_col12\" class=\"data row21 col12\" >-0.083422</td>\n",
       "                        <td id=\"T_b4529_row21_col13\" class=\"data row21 col13\" >-0.082581</td>\n",
       "                        <td id=\"T_b4529_row21_col14\" class=\"data row21 col14\" >0.016777</td>\n",
       "                        <td id=\"T_b4529_row21_col15\" class=\"data row21 col15\" >0.237824</td>\n",
       "                        <td id=\"T_b4529_row21_col16\" class=\"data row21 col16\" >0.312708</td>\n",
       "                        <td id=\"T_b4529_row21_col17\" class=\"data row21 col17\" >0.022861</td>\n",
       "                        <td id=\"T_b4529_row21_col18\" class=\"data row21 col18\" >0.168152</td>\n",
       "                        <td id=\"T_b4529_row21_col19\" class=\"data row21 col19\" >0.025915</td>\n",
       "                        <td id=\"T_b4529_row21_col20\" class=\"data row21 col20\" >0.077048</td>\n",
       "                        <td id=\"T_b4529_row21_col21\" class=\"data row21 col21\" >1.000000</td>\n",
       "                        <td id=\"T_b4529_row21_col22\" class=\"data row21 col22\" >0.578916</td>\n",
       "                        <td id=\"T_b4529_row21_col23\" class=\"data row21 col23\" >-0.002925</td>\n",
       "                        <td id=\"T_b4529_row21_col24\" class=\"data row21 col24\" >0.814679</td>\n",
       "                        <td id=\"T_b4529_row21_col25\" class=\"data row21 col25\" >0.760851</td>\n",
       "            </tr>\n",
       "            <tr>\n",
       "                        <th id=\"T_b4529_level0_row22\" class=\"row_heading level0 row22\" >weaponsAcquired</th>\n",
       "                        <td id=\"T_b4529_row22_col0\" class=\"data row22 col0\" >0.200232</td>\n",
       "                        <td id=\"T_b4529_row22_col1\" class=\"data row22 col1\" >0.437042</td>\n",
       "                        <td id=\"T_b4529_row22_col2\" class=\"data row22 col2\" >0.313862</td>\n",
       "                        <td id=\"T_b4529_row22_col3\" class=\"data row22 col3\" >0.212729</td>\n",
       "                        <td id=\"T_b4529_row22_col4\" class=\"data row22 col4\" >0.189479</td>\n",
       "                        <td id=\"T_b4529_row22_col5\" class=\"data row22 col5\" >0.317732</td>\n",
       "                        <td id=\"T_b4529_row22_col6\" class=\"data row22 col6\" >-0.506912</td>\n",
       "                        <td id=\"T_b4529_row22_col7\" class=\"data row22 col7\" >-0.004237</td>\n",
       "                        <td id=\"T_b4529_row22_col8\" class=\"data row22 col8\" >0.292890</td>\n",
       "                        <td id=\"T_b4529_row22_col9\" class=\"data row22 col9\" >0.269843</td>\n",
       "                        <td id=\"T_b4529_row22_col10\" class=\"data row22 col10\" >0.277875</td>\n",
       "                        <td id=\"T_b4529_row22_col11\" class=\"data row22 col11\" >0.160242</td>\n",
       "                        <td id=\"T_b4529_row22_col12\" class=\"data row22 col12\" >-0.022341</td>\n",
       "                        <td id=\"T_b4529_row22_col13\" class=\"data row22 col13\" >-0.022888</td>\n",
       "                        <td id=\"T_b4529_row22_col14\" class=\"data row22 col14\" >0.018360</td>\n",
       "                        <td id=\"T_b4529_row22_col15\" class=\"data row22 col15\" >0.174574</td>\n",
       "                        <td id=\"T_b4529_row22_col16\" class=\"data row22 col16\" >0.302330</td>\n",
       "                        <td id=\"T_b4529_row22_col17\" class=\"data row22 col17\" >0.026796</td>\n",
       "                        <td id=\"T_b4529_row22_col18\" class=\"data row22 col18\" >0.081697</td>\n",
       "                        <td id=\"T_b4529_row22_col19\" class=\"data row22 col19\" >0.032389</td>\n",
       "                        <td id=\"T_b4529_row22_col20\" class=\"data row22 col20\" >0.067013</td>\n",
       "                        <td id=\"T_b4529_row22_col21\" class=\"data row22 col21\" >0.578916</td>\n",
       "                        <td id=\"T_b4529_row22_col22\" class=\"data row22 col22\" >1.000000</td>\n",
       "                        <td id=\"T_b4529_row22_col23\" class=\"data row22 col23\" >-0.006705</td>\n",
       "                        <td id=\"T_b4529_row22_col24\" class=\"data row22 col24\" >0.617926</td>\n",
       "                        <td id=\"T_b4529_row22_col25\" class=\"data row22 col25\" >0.523105</td>\n",
       "            </tr>\n",
       "            <tr>\n",
       "                        <th id=\"T_b4529_level0_row23\" class=\"row_heading level0 row23\" >winPoints</th>\n",
       "                        <td id=\"T_b4529_row23_col0\" class=\"data row23 col0\" >0.023629</td>\n",
       "                        <td id=\"T_b4529_row23_col1\" class=\"data row23 col1\" >-0.007868</td>\n",
       "                        <td id=\"T_b4529_row23_col2\" class=\"data row23 col2\" >0.017024</td>\n",
       "                        <td id=\"T_b4529_row23_col3\" class=\"data row23 col3\" >0.010672</td>\n",
       "                        <td id=\"T_b4529_row23_col4\" class=\"data row23 col4\" >0.004342</td>\n",
       "                        <td id=\"T_b4529_row23_col5\" class=\"data row23 col5\" >-0.011610</td>\n",
       "                        <td id=\"T_b4529_row23_col6\" class=\"data row23 col6\" >-0.001816</td>\n",
       "                        <td id=\"T_b4529_row23_col7\" class=\"data row23 col7\" >0.983563</td>\n",
       "                        <td id=\"T_b4529_row23_col8\" class=\"data row23 col8\" >0.006242</td>\n",
       "                        <td id=\"T_b4529_row23_col9\" class=\"data row23 col9\" >0.008356</td>\n",
       "                        <td id=\"T_b4529_row23_col10\" class=\"data row23 col10\" >-0.004515</td>\n",
       "                        <td id=\"T_b4529_row23_col11\" class=\"data row23 col11\" >-0.092901</td>\n",
       "                        <td id=\"T_b4529_row23_col12\" class=\"data row23 col12\" >-0.029078</td>\n",
       "                        <td id=\"T_b4529_row23_col13\" class=\"data row23 col13\" >-0.027318</td>\n",
       "                        <td id=\"T_b4529_row23_col14\" class=\"data row23 col14\" >-0.993798</td>\n",
       "                        <td id=\"T_b4529_row23_col15\" class=\"data row23 col15\" >0.002090</td>\n",
       "                        <td id=\"T_b4529_row23_col16\" class=\"data row23 col16\" >-0.027538</td>\n",
       "                        <td id=\"T_b4529_row23_col17\" class=\"data row23 col17\" >0.000510</td>\n",
       "                        <td id=\"T_b4529_row23_col18\" class=\"data row23 col18\" >-0.002914</td>\n",
       "                        <td id=\"T_b4529_row23_col19\" class=\"data row23 col19\" >-0.040751</td>\n",
       "                        <td id=\"T_b4529_row23_col20\" class=\"data row23 col20\" >-0.010609</td>\n",
       "                        <td id=\"T_b4529_row23_col21\" class=\"data row23 col21\" >-0.002925</td>\n",
       "                        <td id=\"T_b4529_row23_col22\" class=\"data row23 col22\" >-0.006705</td>\n",
       "                        <td id=\"T_b4529_row23_col23\" class=\"data row23 col23\" >1.000000</td>\n",
       "                        <td id=\"T_b4529_row23_col24\" class=\"data row23 col24\" >0.007000</td>\n",
       "                        <td id=\"T_b4529_row23_col25\" class=\"data row23 col25\" >-0.020445</td>\n",
       "            </tr>\n",
       "            <tr>\n",
       "                        <th id=\"T_b4529_level0_row24\" class=\"row_heading level0 row24\" >winPlacePerc</th>\n",
       "                        <td id=\"T_b4529_row24_col0\" class=\"data row24 col0\" >0.305667</td>\n",
       "                        <td id=\"T_b4529_row24_col1\" class=\"data row24 col1\" >0.636463</td>\n",
       "                        <td id=\"T_b4529_row24_col2\" class=\"data row24 col2\" >0.450645</td>\n",
       "                        <td id=\"T_b4529_row24_col3\" class=\"data row24 col3\" >0.284162</td>\n",
       "                        <td id=\"T_b4529_row24_col4\" class=\"data row24 col4\" >0.282640</td>\n",
       "                        <td id=\"T_b4529_row24_col5\" class=\"data row24 col5\" >0.430058</td>\n",
       "                        <td id=\"T_b4529_row24_col6\" class=\"data row24 col6\" >-0.720910</td>\n",
       "                        <td id=\"T_b4529_row24_col7\" class=\"data row24 col7\" >0.013001</td>\n",
       "                        <td id=\"T_b4529_row24_col8\" class=\"data row24 col8\" >0.431588</td>\n",
       "                        <td id=\"T_b4529_row24_col9\" class=\"data row24 col9\" >0.377973</td>\n",
       "                        <td id=\"T_b4529_row24_col10\" class=\"data row24 col10\" >0.412435</td>\n",
       "                        <td id=\"T_b4529_row24_col11\" class=\"data row24 col11\" >-0.004197</td>\n",
       "                        <td id=\"T_b4529_row24_col12\" class=\"data row24 col12\" >0.038446</td>\n",
       "                        <td id=\"T_b4529_row24_col13\" class=\"data row24 col13\" >0.040720</td>\n",
       "                        <td id=\"T_b4529_row24_col14\" class=\"data row24 col14\" >0.013751</td>\n",
       "                        <td id=\"T_b4529_row24_col15\" class=\"data row24 col15\" >0.241897</td>\n",
       "                        <td id=\"T_b4529_row24_col16\" class=\"data row24 col16\" >0.345415</td>\n",
       "                        <td id=\"T_b4529_row24_col17\" class=\"data row24 col17\" >0.031816</td>\n",
       "                        <td id=\"T_b4529_row24_col18\" class=\"data row24 col18\" >0.150905</td>\n",
       "                        <td id=\"T_b4529_row24_col19\" class=\"data row24 col19\" >0.016416</td>\n",
       "                        <td id=\"T_b4529_row24_col20\" class=\"data row24 col20\" >0.072860</td>\n",
       "                        <td id=\"T_b4529_row24_col21\" class=\"data row24 col21\" >0.814679</td>\n",
       "                        <td id=\"T_b4529_row24_col22\" class=\"data row24 col22\" >0.617926</td>\n",
       "                        <td id=\"T_b4529_row24_col23\" class=\"data row24 col23\" >0.007000</td>\n",
       "                        <td id=\"T_b4529_row24_col24\" class=\"data row24 col24\" >1.000000</td>\n",
       "                        <td id=\"T_b4529_row24_col25\" class=\"data row24 col25\" >0.681970</td>\n",
       "            </tr>\n",
       "            <tr>\n",
       "                        <th id=\"T_b4529_level0_row25\" class=\"row_heading level0 row25\" >distance</th>\n",
       "                        <td id=\"T_b4529_row25_col0\" class=\"data row25 col0\" >0.243547</td>\n",
       "                        <td id=\"T_b4529_row25_col1\" class=\"data row25 col1\" >0.575174</td>\n",
       "                        <td id=\"T_b4529_row25_col2\" class=\"data row25 col2\" >0.326772</td>\n",
       "                        <td id=\"T_b4529_row25_col3\" class=\"data row25 col3\" >0.230897</td>\n",
       "                        <td id=\"T_b4529_row25_col4\" class=\"data row25 col4\" >0.198203</td>\n",
       "                        <td id=\"T_b4529_row25_col5\" class=\"data row25 col5\" >0.440607</td>\n",
       "                        <td id=\"T_b4529_row25_col6\" class=\"data row25 col6\" >-0.484828</td>\n",
       "                        <td id=\"T_b4529_row25_col7\" class=\"data row25 col7\" >-0.017050</td>\n",
       "                        <td id=\"T_b4529_row25_col8\" class=\"data row25 col8\" >0.298429</td>\n",
       "                        <td id=\"T_b4529_row25_col9\" class=\"data row25 col9\" >0.249104</td>\n",
       "                        <td id=\"T_b4529_row25_col10\" class=\"data row25 col10\" >0.359657</td>\n",
       "                        <td id=\"T_b4529_row25_col11\" class=\"data row25 col11\" >0.330408</td>\n",
       "                        <td id=\"T_b4529_row25_col12\" class=\"data row25 col12\" >-0.074655</td>\n",
       "                        <td id=\"T_b4529_row25_col13\" class=\"data row25 col13\" >-0.075752</td>\n",
       "                        <td id=\"T_b4529_row25_col14\" class=\"data row25 col14\" >0.034270</td>\n",
       "                        <td id=\"T_b4529_row25_col15\" class=\"data row25 col15\" >0.205289</td>\n",
       "                        <td id=\"T_b4529_row25_col16\" class=\"data row25 col16\" >0.854167</td>\n",
       "                        <td id=\"T_b4529_row25_col17\" class=\"data row25 col17\" >0.080646</td>\n",
       "                        <td id=\"T_b4529_row25_col18\" class=\"data row25 col18\" >0.139996</td>\n",
       "                        <td id=\"T_b4529_row25_col19\" class=\"data row25 col19\" >0.049283</td>\n",
       "                        <td id=\"T_b4529_row25_col20\" class=\"data row25 col20\" >0.122015</td>\n",
       "                        <td id=\"T_b4529_row25_col21\" class=\"data row25 col21\" >0.760851</td>\n",
       "                        <td id=\"T_b4529_row25_col22\" class=\"data row25 col22\" >0.523105</td>\n",
       "                        <td id=\"T_b4529_row25_col23\" class=\"data row25 col23\" >-0.020445</td>\n",
       "                        <td id=\"T_b4529_row25_col24\" class=\"data row25 col24\" >0.681970</td>\n",
       "                        <td id=\"T_b4529_row25_col25\" class=\"data row25 col25\" >1.000000</td>\n",
       "            </tr>\n",
       "    </tbody></table>"
      ],
      "text/plain": [
       "<pandas.io.formats.style.Styler at 0x7fc3980aed30>"
      ]
     },
     "execution_count": 65,
     "metadata": {},
     "output_type": "execute_result"
    }
   ],
   "source": [
    "import seaborn as sns\n",
    "cm = sns.light_palette(\"green\", as_cmap=True)\n",
    "\n",
    "pd.DataFrame(pearsonCorr.toArray(), numerical_columns, numerical_columns)\\\n",
    "    .style.applymap(lambda x: 'background-color:rgb({}, 255, {});'.format(255-x*155, 255-x*155) if x > 0 else 'background-color:rgb(255, {}, {});'.format(255+x*255, 255+x*255))"
   ]
  },
  {
   "cell_type": "markdown",
   "id": "hollow-kitchen",
   "metadata": {},
   "source": [
    "> Cri: ha senso fare la correlazione tra attributi che sono determinati dal match vs quelli che sono determinati dal giocatore? (io penso di si, ma forse è meglio che ci riflettiate anche voi)"
   ]
  },
  {
   "cell_type": "code",
   "execution_count": null,
   "id": "attempted-creature",
   "metadata": {},
   "outputs": [],
   "source": []
  },
  {
   "cell_type": "code",
   "execution_count": null,
   "id": "representative-loading",
   "metadata": {},
   "outputs": [],
   "source": []
  },
  {
   "cell_type": "code",
   "execution_count": null,
   "id": "seven-france",
   "metadata": {},
   "outputs": [],
   "source": []
  },
  {
   "cell_type": "code",
   "execution_count": null,
   "id": "completed-biography",
   "metadata": {},
   "outputs": [],
   "source": []
  }
 ],
 "metadata": {
  "kernelspec": {
   "display_name": "Python 3",
   "language": "python",
   "name": "python3"
  },
  "language_info": {
   "codemirror_mode": {
    "name": "ipython",
    "version": 3
   },
   "file_extension": ".py",
   "mimetype": "text/x-python",
   "name": "python",
   "nbconvert_exporter": "python",
   "pygments_lexer": "ipython3",
   "version": "3.8.10"
  }
 },
 "nbformat": 4,
 "nbformat_minor": 5
}
