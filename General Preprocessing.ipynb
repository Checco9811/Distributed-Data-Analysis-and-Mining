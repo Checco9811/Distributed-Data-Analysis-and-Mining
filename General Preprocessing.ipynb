{
 "cells": [
  {
   "cell_type": "markdown",
   "id": "scientific-trunk",
   "metadata": {},
   "source": [
    "# Gente andate un attimo alla cella 66 (maxPlace) c'è una cosa che mi è venuta in mente che potrebbe dover farci cambiare tutti i grafici (vi scrivo alle 23 e 30, quindi ci sta siano baggianate e sia solo stanco)\n",
    "Se riesco domani vengo in chiamata intorno alle 11, quindi avviatela su teams se non vi dispiace"
   ]
  },
  {
   "cell_type": "markdown",
   "id": "advanced-wages",
   "metadata": {},
   "source": [
    "# Preprocessing generale\n",
    "\n",
    "Prima di tutto scegliamo di diminuire le modalità di gioco eliminando quelle che contengono pochi record (<10k) in questo modo otteniamo le combinazioni di prima o terza persona X solo, duo, sq4.\n",
    "\n",
    "Siccome è possibili giocare anche in sq3 andiamo a creare una nuova colonna con il numero effettivo di giocatori nella squadra (cri: alcune sq risultano da 5 persone????)\n",
    "\n",
    "Andiamo poi a trasformare il tipo di match in 2 colonne: #giocatoriMatch e isFirstPerson\n",
    "\n",
    "\n",
    "L'idea è quella di esplorare più strade:\n",
    "- Clustering: Il cluster diretto con i dati potrebbe andare ad individuare solo le modalità del match. \n",
    "  - Accorpiamo i dati e facciamo un clustering a livello di gruppi\n",
    "  - Proviamo a fare un clustering per ogni tipo di gruppo\n",
    "- Classificazione\n",
    "  - Classificatore base: ci individua già la divisione per match type? (decision tree, importanza feature)\n",
    "  - Classificatore con dati accorpati\n",
    "  - Classificatori diversi per ogni tipo di match"
   ]
  },
  {
   "cell_type": "code",
   "execution_count": null,
   "id": "chubby-equation",
   "metadata": {},
   "outputs": [],
   "source": []
  },
  {
   "cell_type": "markdown",
   "id": "traditional-management",
   "metadata": {},
   "source": [
    "## Divisione del tipo di match"
   ]
  },
  {
   "cell_type": "code",
   "execution_count": 1,
   "id": "superior-punishment",
   "metadata": {},
   "outputs": [
    {
     "data": {
      "text/plain": [
       "[('Id', 'string'),\n",
       " ('groupId', 'string'),\n",
       " ('matchId', 'string'),\n",
       " ('assists', 'int'),\n",
       " ('boosts', 'int'),\n",
       " ('damageDealt', 'double'),\n",
       " ('DBNOs', 'int'),\n",
       " ('headshotKills', 'int'),\n",
       " ('heals', 'int'),\n",
       " ('killPlace', 'int'),\n",
       " ('killPoints', 'int'),\n",
       " ('kills', 'int'),\n",
       " ('killStreaks', 'int'),\n",
       " ('longestKill', 'double'),\n",
       " ('matchDuration', 'int'),\n",
       " ('matchType', 'string'),\n",
       " ('maxPlace', 'int'),\n",
       " ('numGroups', 'int'),\n",
       " ('rankPoints', 'int'),\n",
       " ('revives', 'int'),\n",
       " ('rideDistance', 'double'),\n",
       " ('roadKills', 'int'),\n",
       " ('swimDistance', 'double'),\n",
       " ('teamKills', 'int'),\n",
       " ('vehicleDestroys', 'int'),\n",
       " ('walkDistance', 'double'),\n",
       " ('weaponsAcquired', 'int'),\n",
       " ('winPoints', 'int'),\n",
       " ('winPlacePerc', 'double')]"
      ]
     },
     "execution_count": 1,
     "metadata": {},
     "output_type": "execute_result"
    }
   ],
   "source": [
    "%matplotlib inline\n",
    "\n",
    "import numpy as np\n",
    "import pandas as pd\n",
    "import matplotlib.pyplot as pltù\n",
    "import seaborn as sns\n",
    "\n",
    "from pyspark.sql import SparkSession\n",
    "from pyspark import SparkContext\n",
    "from pyspark.sql.functions import *\n",
    "#from pyspark.sql import SQLContext\n",
    "\n",
    "\n",
    "# initialize a new Spark Context to use for the execution of the script\n",
    "sc = SparkContext(appName=\"MY-APP-NAME\", master=\"local[*]\")\n",
    "#sqlCtx = SQLContext(sc)\n",
    "# prevent useless logging messages\n",
    "sc.setLogLevel(\"ERROR\")\n",
    "\n",
    "from pyspark.sql import SparkSession\n",
    "import pandas as pd\n",
    "\n",
    "spark = SparkSession.builder \\\n",
    "    .master(\"local\") \\\n",
    "    .appName(\"AppName\") \\\n",
    "    .getOrCreate()\n",
    "\n",
    "\n",
    "# load the dataset\n",
    "data = spark.read.csv(\"data.csv\", header=True, sep=',',inferSchema=\"true\")\n",
    "data.dtypes"
   ]
  },
  {
   "cell_type": "code",
   "execution_count": 2,
   "id": "mysterious-venice",
   "metadata": {},
   "outputs": [],
   "source": [
    "from pyspark.sql import SQLContext\n",
    "\n",
    "sqlCtx = SQLContext(sc)\n",
    "\n",
    "data.createOrReplaceTempView(\"pubg\")\n",
    "data.createOrReplaceTempView(\"pubg_original\")"
   ]
  },
  {
   "cell_type": "code",
   "execution_count": null,
   "id": "dressed-agency",
   "metadata": {},
   "outputs": [],
   "source": []
  },
  {
   "cell_type": "code",
   "execution_count": null,
   "id": "clean-replacement",
   "metadata": {},
   "outputs": [],
   "source": []
  },
  {
   "cell_type": "code",
   "execution_count": null,
   "id": "cognitive-ferry",
   "metadata": {},
   "outputs": [],
   "source": []
  },
  {
   "cell_type": "markdown",
   "id": "local-prerequisite",
   "metadata": {},
   "source": [
    "## Discretizzazione della target variable"
   ]
  },
  {
   "cell_type": "code",
   "execution_count": 3,
   "id": "excited-detective",
   "metadata": {},
   "outputs": [],
   "source": [
    "#data = data.withColumn(\"winPlacePerc\", when(col(\"winPlacePerc\") == 0 , 2)\n",
    "#                           .when(col(\"matchtype\").contains(\"solo\"), 1)\n",
    "#                           .otherwise(4))\n",
    "#\n",
    "data.createOrReplaceTempView(\"pubg\")"
   ]
  },
  {
   "cell_type": "code",
   "execution_count": 4,
   "id": "refined-withdrawal",
   "metadata": {},
   "outputs": [],
   "source": [
    "lista = data.where(data.numGroups == 26).rdd.map(lambda x: x[\"winPlacePerc\"]).collect()"
   ]
  },
  {
   "cell_type": "code",
   "execution_count": 5,
   "id": "unique-protein",
   "metadata": {},
   "outputs": [],
   "source": [
    "tmp = sqlCtx.sql(\"\"\"SELECT winPlacePerc FROM pubg where numGroups = 25\"\"\")"
   ]
  },
  {
   "cell_type": "code",
   "execution_count": 6,
   "id": "ranking-organization",
   "metadata": {},
   "outputs": [
    {
     "data": {
      "text/plain": [
       "[0.4444,\n",
       " 0.7308,\n",
       " 0.1923,\n",
       " 0.52,\n",
       " 0.2222,\n",
       " 0.64,\n",
       " 0.72,\n",
       " 0.4231,\n",
       " 0.3462,\n",
       " 0.6538,\n",
       " 0.8889,\n",
       " 0.0769,\n",
       " 0.5385,\n",
       " 0.9259,\n",
       " 0.0741,\n",
       " 0.5385,\n",
       " 0.08,\n",
       " 0.1071,\n",
       " 0.92,\n",
       " 0.0,\n",
       " 0.6923,\n",
       " 0.1852,\n",
       " 0.4444,\n",
       " 0.3462,\n",
       " 0.6154,\n",
       " 0.44,\n",
       " 0.8148,\n",
       " 0.48,\n",
       " 0.037,\n",
       " 0.1786,\n",
       " 0.1852,\n",
       " 0.16,\n",
       " 0.12,\n",
       " 0.8462,\n",
       " 0.0741,\n",
       " 0.3704,\n",
       " 0.0385,\n",
       " 0.6923,\n",
       " 0.0,\n",
       " 0.76,\n",
       " 0.16,\n",
       " 0.1154,\n",
       " 0.7692,\n",
       " 0.3462,\n",
       " 0.2963,\n",
       " 1.0,\n",
       " 0.9259,\n",
       " 0.1154,\n",
       " 0.12,\n",
       " 0.3077,\n",
       " 1.0,\n",
       " 0.8077,\n",
       " 0.28,\n",
       " 0.36,\n",
       " 0.9259,\n",
       " 0.7143,\n",
       " 0.7778,\n",
       " 0.4643,\n",
       " 0.44,\n",
       " 0.9231,\n",
       " 0.3077,\n",
       " 0.0,\n",
       " 0.84,\n",
       " 0.32,\n",
       " 0.3462,\n",
       " 0.5385,\n",
       " 0.2857,\n",
       " 0.1481,\n",
       " 0.76,\n",
       " 0.76,\n",
       " 0.2069,\n",
       " 0.3462,\n",
       " 0.0,\n",
       " 1.0,\n",
       " 0.52,\n",
       " 0.0,\n",
       " 0.0385,\n",
       " 0.5769,\n",
       " 0.32,\n",
       " 0.12,\n",
       " 0.48,\n",
       " 0.76,\n",
       " 0.3077,\n",
       " 0.68,\n",
       " 0.24,\n",
       " 0.8148,\n",
       " 0.88,\n",
       " 0.2593,\n",
       " 0.7308,\n",
       " 0.2593,\n",
       " 0.0769,\n",
       " 1.0,\n",
       " 0.8462,\n",
       " 0.36,\n",
       " 0.2222,\n",
       " 1.0,\n",
       " 0.72,\n",
       " 0.1154,\n",
       " 0.92,\n",
       " 0.6923,\n",
       " 0.8462,\n",
       " 0.0769,\n",
       " 0.0741,\n",
       " 0.2308,\n",
       " 0.2692,\n",
       " 0.0,\n",
       " 0.7692,\n",
       " 0.4074,\n",
       " 0.0,\n",
       " 0.2692,\n",
       " 0.04,\n",
       " 0.44,\n",
       " 0.3077,\n",
       " 0.7308,\n",
       " 0.4231,\n",
       " 0.3077,\n",
       " 0.7037,\n",
       " 0.6667,\n",
       " 0.7692,\n",
       " 0.6154,\n",
       " 0.4231,\n",
       " 0.32,\n",
       " 0.52,\n",
       " 0.4444,\n",
       " 0.5769,\n",
       " 0.16,\n",
       " 0.8519,\n",
       " 0.2308,\n",
       " 0.0,\n",
       " 1.0,\n",
       " 0.0333,\n",
       " 0.0769,\n",
       " 0.1923,\n",
       " 0.0385,\n",
       " 0.7308,\n",
       " 0.8846,\n",
       " 0.4231,\n",
       " 0.3846,\n",
       " 0.1923,\n",
       " 0.0714,\n",
       " 0.6897,\n",
       " 0.6538,\n",
       " 0.0,\n",
       " 0.2963,\n",
       " 0.0385,\n",
       " 0.0769,\n",
       " 0.3077,\n",
       " 0.9231,\n",
       " 0.04,\n",
       " 0.28,\n",
       " 0.3704,\n",
       " 0.96,\n",
       " 0.8462,\n",
       " 0.2222,\n",
       " 0.9231,\n",
       " 0.25,\n",
       " 0.28,\n",
       " 0.2857,\n",
       " 0.7037,\n",
       " 0.0,\n",
       " 0.5385,\n",
       " 0.963,\n",
       " 0.08,\n",
       " 0.8519,\n",
       " 0.9231,\n",
       " 0.0,\n",
       " 0.2143,\n",
       " 0.8077,\n",
       " 0.5926,\n",
       " 0.037,\n",
       " 0.963,\n",
       " 0.88,\n",
       " 0.8077,\n",
       " 0.44,\n",
       " 0.7308,\n",
       " 1.0,\n",
       " 0.2692,\n",
       " 0.0769,\n",
       " 0.0,\n",
       " 0.0,\n",
       " 0.16,\n",
       " 0.52,\n",
       " 0.3462,\n",
       " 0.8889,\n",
       " 0.3704,\n",
       " 0.5185,\n",
       " 0.92,\n",
       " 0.5172,\n",
       " 0.1786,\n",
       " 0.7143,\n",
       " 0.6538,\n",
       " 0.84,\n",
       " 0.0769,\n",
       " 0.1538,\n",
       " 0.6296,\n",
       " 0.5385,\n",
       " 0.9231,\n",
       " 0.3846,\n",
       " 1.0,\n",
       " 0.1538,\n",
       " 0.2308,\n",
       " 0.0769,\n",
       " 0.0,\n",
       " 0.68,\n",
       " 0.1154,\n",
       " 0.0,\n",
       " 0.5,\n",
       " 0.1923,\n",
       " 0.12,\n",
       " 0.25,\n",
       " 0.6923,\n",
       " 0.4815,\n",
       " 0.08,\n",
       " 0.96,\n",
       " 0.1071,\n",
       " 0.6667,\n",
       " 0.0,\n",
       " 0.24,\n",
       " 0.4615,\n",
       " 0.7778,\n",
       " 0.1923,\n",
       " 0.6538,\n",
       " 0.1111,\n",
       " 1.0,\n",
       " 0.5926,\n",
       " 0.12,\n",
       " 0.5385,\n",
       " 0.6923,\n",
       " 0.72,\n",
       " 0.0714,\n",
       " 0.8889,\n",
       " 0.7407,\n",
       " 0.2963,\n",
       " 0.8846,\n",
       " 0.2692,\n",
       " 0.2692,\n",
       " 0.68,\n",
       " 0.2692,\n",
       " 0.1923,\n",
       " 0.6923,\n",
       " 0.3462,\n",
       " 0.3704,\n",
       " 0.7037,\n",
       " 0.1923,\n",
       " 0.5556,\n",
       " 0.4,\n",
       " 0.1538,\n",
       " 0.6,\n",
       " 0.48,\n",
       " 0.44,\n",
       " 0.4231,\n",
       " 1.0,\n",
       " 0.8,\n",
       " 0.037,\n",
       " 0.2,\n",
       " 0.3846,\n",
       " 0.1538,\n",
       " 0.04,\n",
       " 0.6538,\n",
       " 0.52,\n",
       " 0.3462,\n",
       " 0.5926,\n",
       " 0.2963,\n",
       " 0.7308,\n",
       " 0.72,\n",
       " 0.0,\n",
       " 0.68,\n",
       " 0.9615,\n",
       " 0.6923,\n",
       " 0.32,\n",
       " 0.7308,\n",
       " 0.5769,\n",
       " 0.0,\n",
       " 0.037,\n",
       " 0.6296,\n",
       " 0.1923,\n",
       " 0.6538,\n",
       " 0.1154,\n",
       " 0.08,\n",
       " 0.48,\n",
       " 0.08,\n",
       " 0.6923,\n",
       " 1.0,\n",
       " 0.0,\n",
       " 0.84,\n",
       " 0.3462,\n",
       " 0.2222,\n",
       " 0.8077,\n",
       " 1.0,\n",
       " 0.037,\n",
       " 0.25,\n",
       " 0.8571,\n",
       " 0.4615,\n",
       " 0.1154,\n",
       " 0.1154,\n",
       " 0.44,\n",
       " 0.7308,\n",
       " 0.68,\n",
       " 0.0,\n",
       " 0.9259,\n",
       " 0.52,\n",
       " 0.1923,\n",
       " 0.6923,\n",
       " 0.84,\n",
       " 0.4815,\n",
       " 0.7308,\n",
       " 0.0769,\n",
       " 0.6667,\n",
       " 0.6154,\n",
       " 0.0,\n",
       " 0.2,\n",
       " 0.1481,\n",
       " 0.4231,\n",
       " 0.28,\n",
       " 0.0,\n",
       " 1.0,\n",
       " 0.84,\n",
       " 0.0385,\n",
       " 1.0,\n",
       " 0.72,\n",
       " 0.7692,\n",
       " 0.3462,\n",
       " 0.037,\n",
       " 0.1154,\n",
       " 0.7308,\n",
       " 0.8462,\n",
       " 0.2692,\n",
       " 0.4286,\n",
       " 0.0769,\n",
       " 0.1538,\n",
       " 0.6296,\n",
       " 0.3704,\n",
       " 0.5926,\n",
       " 0.2222,\n",
       " 0.3704,\n",
       " 0.4615,\n",
       " 0.7692,\n",
       " 0.6296,\n",
       " 0.7037,\n",
       " 0.7308,\n",
       " 0.2308,\n",
       " 0.2593,\n",
       " 0.2308,\n",
       " 0.3462,\n",
       " 0.1852,\n",
       " 0.0345,\n",
       " 0.8077,\n",
       " 0.2,\n",
       " 0.0,\n",
       " 0.1923,\n",
       " 0.7407,\n",
       " 0.5185,\n",
       " 0.6667,\n",
       " 0.52,\n",
       " 0.52,\n",
       " 0.12,\n",
       " 0.9231,\n",
       " 0.0,\n",
       " 0.4231,\n",
       " 0.3333,\n",
       " 0.8214,\n",
       " 0.9615,\n",
       " 0.8846,\n",
       " 0.3846,\n",
       " 0.9615,\n",
       " 0.1111,\n",
       " 0.037,\n",
       " 0.2692,\n",
       " 0.0,\n",
       " 0.2692,\n",
       " 0.84,\n",
       " 0.8889,\n",
       " 0.84,\n",
       " 0.04,\n",
       " 0.28,\n",
       " 0.0714,\n",
       " 0.0769,\n",
       " 0.96,\n",
       " 0.8929,\n",
       " 0.963,\n",
       " 1.0,\n",
       " 0.1154,\n",
       " 0.08,\n",
       " 0.64,\n",
       " 0.1111,\n",
       " 0.5769,\n",
       " 0.32,\n",
       " 0.8148,\n",
       " 0.0,\n",
       " 0.8148,\n",
       " 0.8214,\n",
       " 0.0385,\n",
       " 0.2593,\n",
       " 0.7037,\n",
       " 0.4,\n",
       " 0.3462,\n",
       " 0.5556,\n",
       " 1.0,\n",
       " 0.1111,\n",
       " 0.32,\n",
       " 1.0,\n",
       " 0.2308,\n",
       " 0.88,\n",
       " 0.4,\n",
       " 0.3846,\n",
       " 0.04,\n",
       " 0.2692,\n",
       " 0.0,\n",
       " 0.1111,\n",
       " 0.8,\n",
       " 0.96,\n",
       " 0.6923,\n",
       " 0.037,\n",
       " 0.1429,\n",
       " 0.0741,\n",
       " 0.0,\n",
       " 0.4444,\n",
       " 0.3077,\n",
       " 0.6538,\n",
       " 0.92,\n",
       " 0.1154,\n",
       " 0.0357,\n",
       " 0.2963,\n",
       " 0.2222,\n",
       " 0.5926,\n",
       " 0.7692,\n",
       " 0.3462,\n",
       " 0.6296,\n",
       " 0.0,\n",
       " 0.76,\n",
       " 0.1538,\n",
       " 1.0,\n",
       " 0.8077,\n",
       " 0.6667,\n",
       " 0.4231,\n",
       " 0.0385,\n",
       " 0.2692,\n",
       " 0.72,\n",
       " 1.0,\n",
       " 0.8846,\n",
       " 0.4444,\n",
       " 0.56,\n",
       " 0.037,\n",
       " 0.92,\n",
       " 0.6154,\n",
       " 0.9643,\n",
       " 0.2593,\n",
       " 0.3462,\n",
       " 0.1923,\n",
       " 0.36,\n",
       " 0.28,\n",
       " 0.2,\n",
       " 0.8,\n",
       " 0.4615,\n",
       " 0.84,\n",
       " 0.6538,\n",
       " 0.4,\n",
       " 0.3462,\n",
       " 0.75,\n",
       " 0.5385,\n",
       " 0.7308,\n",
       " 0.1852,\n",
       " 0.963,\n",
       " 0.5,\n",
       " 0.6154,\n",
       " 0.3077,\n",
       " 0.12,\n",
       " 0.2963,\n",
       " 0.76,\n",
       " 0.2692,\n",
       " 0.12,\n",
       " 0.8148,\n",
       " 0.6207,\n",
       " 0.963,\n",
       " 0.5385,\n",
       " 0.5769,\n",
       " 0.0741,\n",
       " 0.2308,\n",
       " 0.96,\n",
       " 0.5926,\n",
       " 0.1154,\n",
       " 0.1852,\n",
       " 0.4615,\n",
       " 0.12,\n",
       " 0.8077,\n",
       " 0.5185,\n",
       " 0.8846,\n",
       " 0.3462,\n",
       " 1.0,\n",
       " 0.5185,\n",
       " 0.2,\n",
       " 0.4231,\n",
       " 0.2963,\n",
       " 0.3462,\n",
       " 0.28,\n",
       " 0.6538,\n",
       " 0.8462,\n",
       " 0.6071,\n",
       " 0.8889,\n",
       " 0.8148,\n",
       " 0.25,\n",
       " 0.48,\n",
       " 0.2,\n",
       " 0.4615,\n",
       " 0.4615,\n",
       " 0.0769,\n",
       " 0.1923,\n",
       " 0.52,\n",
       " 0.24,\n",
       " 0.32,\n",
       " 0.0,\n",
       " 0.16,\n",
       " 0.04,\n",
       " 0.2,\n",
       " 0.037,\n",
       " 0.8889,\n",
       " 0.36,\n",
       " 0.3077,\n",
       " 0.1154,\n",
       " 0.8846,\n",
       " 0.1154,\n",
       " 0.2,\n",
       " 0.84,\n",
       " 0.4231,\n",
       " 0.72,\n",
       " 0.8519,\n",
       " 0.3462,\n",
       " 0.1538,\n",
       " 0.3077,\n",
       " 0.0,\n",
       " 0.1538,\n",
       " 0.2857,\n",
       " 0.96,\n",
       " 0.4231,\n",
       " 0.7407,\n",
       " 0.8519,\n",
       " 0.1111,\n",
       " 0.0,\n",
       " 1.0,\n",
       " 0.0,\n",
       " 0.2692,\n",
       " 0.9231,\n",
       " 0.08,\n",
       " 0.9655,\n",
       " 0.2593,\n",
       " 0.32,\n",
       " 0.0,\n",
       " 0.92,\n",
       " 0.3846,\n",
       " 0.3077,\n",
       " 0.8462,\n",
       " 0.12,\n",
       " 0.8571,\n",
       " 0.1538,\n",
       " 0.68,\n",
       " 0.7692,\n",
       " 0.1538,\n",
       " 0.0,\n",
       " 0.7308,\n",
       " 0.1481,\n",
       " 0.7778,\n",
       " 0.5769,\n",
       " 0.8077,\n",
       " 0.0357,\n",
       " 0.3846,\n",
       " 0.3462,\n",
       " 0.1154,\n",
       " 0.6154,\n",
       " 0.2692,\n",
       " 0.48,\n",
       " 0.5185,\n",
       " 0.96,\n",
       " 0.0,\n",
       " 0.84,\n",
       " 0.0,\n",
       " 0.1923,\n",
       " 0.0,\n",
       " 0.28,\n",
       " 0.6429,\n",
       " 0.84,\n",
       " 0.0769,\n",
       " 1.0,\n",
       " 0.12,\n",
       " 0.5,\n",
       " 0.1852,\n",
       " 0.5769,\n",
       " 0.5,\n",
       " 0.88,\n",
       " 0.88,\n",
       " 0.0385,\n",
       " 0.1852,\n",
       " 1.0,\n",
       " 0.0769,\n",
       " 0.6923,\n",
       " 0.6538,\n",
       " 0.12,\n",
       " 0.6071,\n",
       " 0.72,\n",
       " 0.0769,\n",
       " 0.3846,\n",
       " 0.7037,\n",
       " 0.0,\n",
       " 0.92,\n",
       " 0.6154,\n",
       " 0.3077,\n",
       " 0.08,\n",
       " 0.4231,\n",
       " 0.5769,\n",
       " 0.7308,\n",
       " 0.12,\n",
       " 0.88,\n",
       " 0.28,\n",
       " 0.8889,\n",
       " 0.3462,\n",
       " 0.8,\n",
       " 0.1923,\n",
       " 0.0769,\n",
       " 0.4286,\n",
       " 0.2143,\n",
       " 0.8462,\n",
       " 0.48,\n",
       " 0.08,\n",
       " 0.9231,\n",
       " 0.7308,\n",
       " 0.6538,\n",
       " 0.28,\n",
       " 0.037,\n",
       " 0.68,\n",
       " 1.0,\n",
       " 0.6538,\n",
       " 0.25,\n",
       " 0.28,\n",
       " 0.0741,\n",
       " 0.44,\n",
       " 0.6296,\n",
       " 0.8148,\n",
       " 0.12,\n",
       " 0.0769,\n",
       " 0.6538,\n",
       " 0.6154,\n",
       " 0.7692,\n",
       " 0.3462,\n",
       " 0.963,\n",
       " 0.88,\n",
       " 0.8077,\n",
       " 0.7308,\n",
       " 0.7308,\n",
       " 0.7143,\n",
       " 0.3846,\n",
       " 0.64,\n",
       " 0.3462,\n",
       " 0.5769,\n",
       " 0.2692,\n",
       " 0.08,\n",
       " 0.44,\n",
       " 0.52,\n",
       " 0.6923,\n",
       " 0.0769,\n",
       " 0.2963,\n",
       " 0.6538,\n",
       " 0.5185,\n",
       " 0.56,\n",
       " 0.4231,\n",
       " 0.0741,\n",
       " 0.0,\n",
       " 0.68,\n",
       " 0.3704,\n",
       " 0.4615,\n",
       " 0.6538,\n",
       " 0.2222,\n",
       " 0.0385,\n",
       " 0.3462,\n",
       " 1.0,\n",
       " 0.5769,\n",
       " 0.5714,\n",
       " 0.52,\n",
       " 0.6,\n",
       " 0.6923,\n",
       " 0.5769,\n",
       " 0.24,\n",
       " 0.96,\n",
       " 0.1481,\n",
       " 0.4444,\n",
       " 0.3846,\n",
       " 1.0,\n",
       " 0.3333,\n",
       " 0.04,\n",
       " 0.04,\n",
       " 0.2222,\n",
       " 0.5556,\n",
       " 0.5385,\n",
       " 0.8846,\n",
       " 0.0,\n",
       " 0.8077,\n",
       " 0.8846,\n",
       " 0.3077,\n",
       " 0.1923,\n",
       " 0.5769,\n",
       " 0.28,\n",
       " 0.6923,\n",
       " 0.36,\n",
       " 0.1071,\n",
       " 0.7857,\n",
       " 0.6538,\n",
       " 0.8519,\n",
       " 0.4,\n",
       " 0.4615,\n",
       " 0.4615,\n",
       " 0.5,\n",
       " 0.4138,\n",
       " 0.76,\n",
       " 0.9259,\n",
       " 0.6154,\n",
       " 0.8077,\n",
       " 0.7778,\n",
       " 0.4074,\n",
       " 0.4231,\n",
       " 0.6923,\n",
       " 0.6154,\n",
       " 0.04,\n",
       " 0.08,\n",
       " 0.0,\n",
       " 0.84,\n",
       " 0.4615,\n",
       " 0.2222,\n",
       " 0.12,\n",
       " 0.32,\n",
       " 0.4231,\n",
       " 0.0385,\n",
       " 0.4074,\n",
       " 0.9615,\n",
       " 0.6923,\n",
       " 0.963,\n",
       " 0.0714,\n",
       " 0.36,\n",
       " 0.0,\n",
       " 0.4231,\n",
       " 0.2308,\n",
       " 0.037,\n",
       " 0.3846,\n",
       " 0.8846,\n",
       " 0.8,\n",
       " 0.4815,\n",
       " 0.7037,\n",
       " 0.68,\n",
       " 0.12,\n",
       " 0.0,\n",
       " 0.04,\n",
       " 0.3462,\n",
       " 0.72,\n",
       " 0.4,\n",
       " 0.6154,\n",
       " 1.0,\n",
       " 0.3462,\n",
       " 0.7308,\n",
       " 0.92,\n",
       " 0.96,\n",
       " 0.2593,\n",
       " 0.7308,\n",
       " 0.88,\n",
       " 0.931,\n",
       " 0.9231,\n",
       " 0.0385,\n",
       " 0.08,\n",
       " 0.0769,\n",
       " 0.75,\n",
       " 0.1111,\n",
       " 0.7308,\n",
       " 0.24,\n",
       " 0.0385,\n",
       " 0.8077,\n",
       " 0.2593,\n",
       " 0.84,\n",
       " 0.64,\n",
       " 0.12,\n",
       " 0.0385,\n",
       " 0.0769,\n",
       " 1.0,\n",
       " 0.96,\n",
       " 0.7778,\n",
       " 0.0,\n",
       " 0.6923,\n",
       " 0.3462,\n",
       " 0.3571,\n",
       " 0.8077,\n",
       " 0.6071,\n",
       " 0.037,\n",
       " 0.8462,\n",
       " 0.8214,\n",
       " 0.6923,\n",
       " 0.1538,\n",
       " 0.9259,\n",
       " 0.0,\n",
       " 0.1538,\n",
       " 0.3333,\n",
       " 0.48,\n",
       " 0.7778,\n",
       " 0.2692,\n",
       " 0.2963,\n",
       " 0.5556,\n",
       " 0.5385,\n",
       " 0.2143,\n",
       " 0.3333,\n",
       " 0.72,\n",
       " 0.9231,\n",
       " 0.6,\n",
       " 0.3462,\n",
       " 0.08,\n",
       " 0.64,\n",
       " 0.1538,\n",
       " 0.6154,\n",
       " 0.4615,\n",
       " 0.1154,\n",
       " 0.75,\n",
       " 0.6071,\n",
       " 0.5385,\n",
       " 0.5385,\n",
       " 1.0,\n",
       " 0.1154,\n",
       " 0.8462,\n",
       " 0.2,\n",
       " 0.16,\n",
       " 0.1429,\n",
       " 0.8077,\n",
       " 0.1154,\n",
       " 0.0,\n",
       " 0.7407,\n",
       " 0.037,\n",
       " 0.0769,\n",
       " 0.4,\n",
       " 0.0769,\n",
       " 0.6538,\n",
       " 0.44,\n",
       " 0.32,\n",
       " 0.3846,\n",
       " 0.25,\n",
       " 0.8462,\n",
       " 0.2692,\n",
       " 0.1538,\n",
       " 0.0,\n",
       " 0.5,\n",
       " 0.6923,\n",
       " 0.3846,\n",
       " 0.1111,\n",
       " 0.6667,\n",
       " 0.16,\n",
       " 0.8462,\n",
       " 1.0,\n",
       " 0.5769,\n",
       " 0.32,\n",
       " 0.3846,\n",
       " 0.3077,\n",
       " 0.963,\n",
       " 0.28,\n",
       " 0.56,\n",
       " 0.2857,\n",
       " 0.2308,\n",
       " 0.4231,\n",
       " 0.5769,\n",
       " 0.8077,\n",
       " 0.8462,\n",
       " 0.4231,\n",
       " 0.5185,\n",
       " 0.2,\n",
       " 0.3077,\n",
       " 0.4615,\n",
       " 0.1154,\n",
       " 0.6,\n",
       " 1.0,\n",
       " 0.7407,\n",
       " 0.52,\n",
       " 0.5385,\n",
       " 1.0,\n",
       " 0.12,\n",
       " 0.8846,\n",
       " 0.1154,\n",
       " 0.1852,\n",
       " 0.64,\n",
       " 0.3704,\n",
       " 0.3846,\n",
       " 0.5769,\n",
       " 0.8846,\n",
       " 0.48,\n",
       " 0.24,\n",
       " 0.3448,\n",
       " 0.8519,\n",
       " 0.8148,\n",
       " 0.9231,\n",
       " 0.7037,\n",
       " 0.9259,\n",
       " 0.5926,\n",
       " 1.0,\n",
       " 0.0769,\n",
       " 0.9231,\n",
       " 1.0,\n",
       " 0.4231,\n",
       " 0.6154,\n",
       " 0.0,\n",
       " 0.2692,\n",
       " 0.8889,\n",
       " 0.7308,\n",
       " 0.0,\n",
       " 0.25,\n",
       " 0.3462,\n",
       " 0.88,\n",
       " 0.5556,\n",
       " 0.3846,\n",
       " 0.8846,\n",
       " 0.8,\n",
       " 0.0769,\n",
       " 0.0385,\n",
       " 0.04,\n",
       " 0.5,\n",
       " 0.12,\n",
       " 0.6538,\n",
       " 0.2692,\n",
       " 0.5,\n",
       " 0.0,\n",
       " 0.1923,\n",
       " 0.9615,\n",
       " 0.3077,\n",
       " 1.0,\n",
       " 0.84,\n",
       " 0.2593,\n",
       " 0.963,\n",
       " 0.3077,\n",
       " 0.8077,\n",
       " 0.5926,\n",
       " 0.1852,\n",
       " 0.1923,\n",
       " 0.5385,\n",
       " 0.5,\n",
       " 0.0769,\n",
       " 0.0385,\n",
       " 0.5385,\n",
       " 0.8462,\n",
       " 0.3929,\n",
       " 0.2857,\n",
       " 0.0,\n",
       " 1.0,\n",
       " 0.963,\n",
       " 0.4231,\n",
       " 0.2308,\n",
       " 0.0,\n",
       " 0.4615,\n",
       " 0.84,\n",
       " 0.037,\n",
       " 0.6154,\n",
       " 0.72,\n",
       " 0.2692,\n",
       " 0.6296,\n",
       " 0.0,\n",
       " 0.0357,\n",
       " 0.5185,\n",
       " 0.64,\n",
       " 0.0385,\n",
       " 0.28,\n",
       " 0.037,\n",
       " 0.84,\n",
       " 0.7308,\n",
       " 0.0741,\n",
       " 0.16,\n",
       " 0.0769,\n",
       " 0.2857,\n",
       " 0.0,\n",
       " 0.8077,\n",
       " 0.0,\n",
       " 0.2222,\n",
       " 0.96,\n",
       " 0.9231,\n",
       " 0.5,\n",
       " 0.9615,\n",
       " 0.6538,\n",
       " 0.5385,\n",
       " 0.0,\n",
       " 0.52,\n",
       " 0.5926,\n",
       " 0.2,\n",
       " 0.2308,\n",
       " 0.16,\n",
       " 0.8148,\n",
       " 0.3846,\n",
       " 0.963,\n",
       " 0.0,\n",
       " 0.7586,\n",
       " 0.4074,\n",
       " 0.8846,\n",
       " 0.5556,\n",
       " 0.5385,\n",
       " 0.4286,\n",
       " 0.6154,\n",
       " 0.92,\n",
       " 0.56,\n",
       " 1.0,\n",
       " 0.7407,\n",
       " 0.52,\n",
       " 0.5385,\n",
       " 0.1111,\n",
       " 0.1481,\n",
       " 0.0714,\n",
       " ...]"
      ]
     },
     "execution_count": 6,
     "metadata": {},
     "output_type": "execute_result"
    }
   ],
   "source": [
    "lista"
   ]
  },
  {
   "cell_type": "code",
   "execution_count": 7,
   "id": "neutral-bulgaria",
   "metadata": {},
   "outputs": [
    {
     "data": {
      "text/plain": [
       "<matplotlib.axes._subplots.AxesSubplot at 0x7fcb9e644e80>"
      ]
     },
     "execution_count": 7,
     "metadata": {},
     "output_type": "execute_result"
    },
    {
     "data": {
      "image/png": "[encoded data removed]",
      "text/plain": [
       "<Figure size 432x288 with 1 Axes>"
      ]
     },
     "metadata": {
      "needs_background": "light"
     },
     "output_type": "display_data"
    }
   ],
   "source": [
    "#lista = data.where(data.numGroups == 25).rdd.map(lambda x: x[\"winPlacePerc\"]).collect()\n",
    "lista = data.where(data.matchId == '6dc8ff871e21e6').rdd.map(lambda x: x[\"winPlacePerc\"]).collect()\n",
    "\n",
    "tmp = pd.DataFrame()\n",
    "\n",
    "lista.sort()\n",
    "\n",
    "tmp[\"0\"] = lista\n",
    "\n",
    "tmp[\"0\"].value_counts().sort_index().plot(kind=\"bar\")"
   ]
  },
  {
   "cell_type": "code",
   "execution_count": 8,
   "id": "chemical-newfoundland",
   "metadata": {
    "scrolled": true
   },
   "outputs": [
    {
     "name": "stdout",
     "output_type": "stream",
     "text": [
      "-0.0104\n",
      "-0.0104\n",
      "-0.0104\n",
      "-0.010500000000000002\n",
      "-0.0104\n",
      "-0.0104\n",
      "-0.010400000000000006\n",
      "-0.010399999999999993\n",
      "-0.010499999999999995\n",
      "-0.010400000000000006\n",
      "-0.010399999999999993\n",
      "-0.010400000000000006\n",
      "-0.010399999999999993\n",
      "-0.01040000000000002\n",
      "-0.010399999999999993\n",
      "-0.010499999999999982\n",
      "-0.01040000000000002\n",
      "-0.010399999999999993\n",
      "-0.010399999999999993\n",
      "0.0\n",
      "-0.01040000000000002\n",
      "-0.010499999999999982\n",
      "-0.010399999999999993\n",
      "-0.01040000000000002\n",
      "-0.010399999999999993\n",
      "-0.01040000000000002\n",
      "-0.020799999999999985\n",
      "-0.01050000000000001\n",
      "-0.010399999999999965\n",
      "-0.01040000000000002\n",
      "-0.01040000000000002\n",
      "-0.010399999999999965\n",
      "-0.01050000000000001\n",
      "-0.01040000000000002\n",
      "-0.010399999999999965\n",
      "-0.01040000000000002\n",
      "-0.01040000000000002\n",
      "-0.010399999999999965\n",
      "-0.01040000000000002\n",
      "-0.01050000000000001\n",
      "-0.010399999999999965\n",
      "-0.01040000000000002\n",
      "-0.01040000000000002\n",
      "-0.010399999999999965\n",
      "-0.01050000000000001\n",
      "-0.01040000000000002\n",
      "-0.010399999999999965\n",
      "-0.01040000000000002\n",
      "-0.010399999999999965\n",
      "-0.010400000000000076\n",
      "-0.010399999999999965\n",
      "-0.010499999999999954\n",
      "-0.010400000000000076\n",
      "-0.010399999999999965\n",
      "-0.010399999999999965\n",
      "-0.010400000000000076\n",
      "-0.010499999999999954\n",
      "-0.010399999999999965\n",
      "-0.010400000000000076\n",
      "-0.010399999999999965\n",
      "-0.010399999999999965\n",
      "-0.010400000000000076\n",
      "-0.010399999999999965\n",
      "-0.010499999999999954\n",
      "-0.010400000000000076\n",
      "-0.010399999999999965\n",
      "-0.010399999999999965\n",
      "-0.010400000000000076\n",
      "-0.010499999999999954\n",
      "-0.010399999999999965\n",
      "-0.010400000000000076\n",
      "-0.010399999999999965\n",
      "-0.010399999999999965\n",
      "-0.010400000000000076\n",
      "-0.010399999999999965\n",
      "0.0\n",
      "-0.02090000000000003\n",
      "-0.010399999999999965\n",
      "-0.010399999999999965\n",
      "-0.010400000000000076\n",
      "-0.010499999999999954\n",
      "-0.010399999999999965\n",
      "-0.010400000000000076\n",
      "-0.010399999999999965\n",
      "-0.010399999999999965\n",
      "-0.010400000000000076\n",
      "-0.010399999999999965\n",
      "-0.010499999999999954\n",
      "-0.010400000000000076\n",
      "-0.010399999999999965\n",
      "-0.010399999999999965\n",
      "-0.010400000000000076\n",
      "-0.010499999999999954\n",
      "-0.010399999999999965\n",
      "-0.010400000000000076\n",
      "-0.010399999999999965\n"
     ]
    }
   ],
   "source": [
    "for i, el in enumerate(lista[0:-1]):\n",
    "    print(lista[i]-lista[i+1])\n",
    "    \n",
    "    "
   ]
  },
  {
   "cell_type": "code",
   "execution_count": 9,
   "id": "arabic-approval",
   "metadata": {},
   "outputs": [
    {
     "data": {
      "text/plain": [
       "97"
      ]
     },
     "execution_count": 9,
     "metadata": {},
     "output_type": "execute_result"
    }
   ],
   "source": [
    "len(lista)"
   ]
  },
  {
   "cell_type": "code",
   "execution_count": 10,
   "id": "remarkable-southeast",
   "metadata": {},
   "outputs": [
    {
     "name": "stdout",
     "output_type": "stream",
     "text": [
      "+---------+--------------+---------+\n",
      "|matchtype|       matchid|numGroups|\n",
      "+---------+--------------+---------+\n",
      "|squad-fpp|a10357fd1a4a91|       26|\n",
      "|squad-fpp|aeb375fc57110c|       25|\n",
      "|      duo|110163d8bb94ae|       47|\n",
      "|squad-fpp|f1f1f4ef412d7e|       30|\n",
      "| solo-fpp|6dc8ff871e21e6|       95|\n",
      "+---------+--------------+---------+\n",
      "only showing top 5 rows\n",
      "\n"
     ]
    }
   ],
   "source": [
    "sqlCtx.sql(\"\"\"SELECT matchtype, matchid, numGroups from pubg\"\"\").show(5)"
   ]
  },
  {
   "cell_type": "code",
   "execution_count": 11,
   "id": "strong-affiliate",
   "metadata": {},
   "outputs": [
    {
     "name": "stdout",
     "output_type": "stream",
     "text": [
      "+--------------+--------------+--------------+-------+------+-----------+-----+-------------+-----+---------+----------+-----+-----------+-----------+-------------+---------+--------+---------+----------+-------+------------+---------+------------+---------+---------------+------------+---------------+---------+------------+\n",
      "|            Id|       groupId|       matchId|assists|boosts|damageDealt|DBNOs|headshotKills|heals|killPlace|killPoints|kills|killStreaks|longestKill|matchDuration|matchType|maxPlace|numGroups|rankPoints|revives|rideDistance|roadKills|swimDistance|teamKills|vehicleDestroys|walkDistance|weaponsAcquired|winPoints|winPlacePerc|\n",
      "+--------------+--------------+--------------+-------+------+-----------+-----+-------------+-----+---------+----------+-----+-----------+-----------+-------------+---------+--------+---------+----------+-------+------------+---------+------------+---------+---------------+------------+---------------+---------+------------+\n",
      "|a13cd09f1f9148|c1e3bec62b9387|6dc8ff871e21e6|      0|     0|        0.0|    0|            0|    0|       97|         0|    0|          0|        0.0|         1424| solo-fpp|      97|       95|      1564|      0|         0.0|        0|         0.0|        0|              0|         0.0|              0|        0|         0.0|\n",
      "|016fae08c04ab0|1c8a46651e30c9|6dc8ff871e21e6|      0|     0|        0.0|    0|            0|    0|       96|         0|    0|          0|        0.0|         1424| solo-fpp|      97|       95|      1445|      0|         0.0|        0|         0.0|        0|              0|        29.5|              1|        0|      0.0104|\n",
      "|bd0324056a32dc|741ecc18d8fc18|6dc8ff871e21e6|      0|     0|       26.0|    0|            0|    0|       95|         0|    0|          0|        0.0|         1424| solo-fpp|      97|       95|      1580|      0|         0.0|        0|         0.0|        0|              0|       52.48|              1|        0|      0.0208|\n",
      "|008f1608733228|c3bdbde15faed3|6dc8ff871e21e6|      0|     0|        0.0|    0|            0|    0|       94|         0|    0|          0|        0.0|         1424| solo-fpp|      97|       95|      1497|      0|         0.0|        0|         0.0|        0|              0|         0.0|              0|        0|      0.0312|\n",
      "|442bb9b11e41b4|9c3f9a3cde5da5|6dc8ff871e21e6|      0|     0|        0.0|    0|            0|    0|       93|         0|    0|          0|        0.0|         1424| solo-fpp|      97|       95|      1508|      0|         0.0|        0|         0.0|        0|              0|       21.37|              1|        0|      0.0417|\n",
      "|dce5bd8d512952|2e1489a06950d4|6dc8ff871e21e6|      0|     0|       66.0|    0|            0|    0|       92|         0|    0|          0|        0.0|         1424| solo-fpp|      97|       95|      1490|      0|         0.0|        0|         0.0|        0|              0|       4.466|              1|        0|      0.0521|\n",
      "|02ab5055d1e97e|235d0c1ed45fbb|6dc8ff871e21e6|      0|     0|        0.0|    0|            0|    0|       91|         0|    0|          0|        0.0|         1424| solo-fpp|      97|       95|      1510|      0|         0.0|        0|         0.0|        0|              0|       28.85|              1|        0|      0.0625|\n",
      "|8254fbc7b0851d|e34eca9195d0e4|6dc8ff871e21e6|      0|     0|      32.59|    0|            0|    0|       90|         0|    0|          0|        0.0|         1424| solo-fpp|      97|       95|      1540|      0|         0.0|        0|         0.0|        0|              0|       11.35|              1|        0|      0.0729|\n",
      "|1b09e65866f1dc|8273de49e8295c|6dc8ff871e21e6|      0|     0|        0.0|    0|            0|    0|       89|         0|    0|          0|        0.0|         1424| solo-fpp|      97|       95|      1528|      0|         0.0|        0|         0.0|        0|              0|       17.86|              1|        0|      0.0833|\n",
      "|81e1eb43b3b438|f7f6a83931ca2b|6dc8ff871e21e6|      0|     0|        0.0|    0|            0|    0|       88|         0|    0|          0|        0.0|         1424| solo-fpp|      97|       95|      1316|      0|         0.0|        0|         0.0|        0|              0|       26.77|              1|        0|      0.0938|\n",
      "|de5696debccbd8|0bf84672cfefdf|6dc8ff871e21e6|      0|     0|        0.0|    0|            0|    0|       87|         0|    0|          0|        0.0|         1424| solo-fpp|      97|       95|      1540|      0|         0.0|        0|         0.0|        0|              0|       14.46|              0|        0|      0.1042|\n",
      "|8ca9469a28f5e3|bb2db4ee3fc63f|6dc8ff871e21e6|      0|     0|        0.0|    0|            0|    0|       86|         0|    0|          0|        0.0|         1424| solo-fpp|      97|       95|      1498|      0|         0.0|        0|         0.0|        0|              0|       19.72|              2|        0|      0.1146|\n",
      "|704b40fea7d007|31e117734e3dfe|6dc8ff871e21e6|      0|     0|      100.0|    0|            1|    0|       46|         0|    1|          1|      5.662|         1424| solo-fpp|      97|       95|      1464|      0|         0.0|        0|         0.0|        0|              0|       4.086|              1|        0|       0.125|\n",
      "|c405a711cf0dc9|2d8f70dd0c322e|6dc8ff871e21e6|      0|     0|        0.0|    0|            0|    0|       85|         0|    0|          0|        0.0|         1424| solo-fpp|      97|       95|      1516|      0|         0.0|        0|         0.0|        0|              0|       46.96|              1|        0|      0.1354|\n",
      "|d067b6bed05a8c|6b72c42cdcf827|6dc8ff871e21e6|      0|     0|        0.0|    0|            0|    0|       84|         0|    0|          0|        0.0|         1424| solo-fpp|      97|       95|      1441|      0|         0.0|        0|         0.0|        0|              0|       76.36|              1|        0|      0.1458|\n",
      "|f6d0be48cefd00|17acbaef4acad7|6dc8ff871e21e6|      0|     0|        0.0|    0|            0|    0|       83|         0|    0|          0|        0.0|         1424| solo-fpp|      97|       95|      1550|      0|         0.0|        0|         0.0|        0|              0|       48.02|              2|        0|      0.1562|\n",
      "|ddeb1c585e00aa|bcef3a2fdd06b6|6dc8ff871e21e6|      0|     0|      89.44|    0|            0|    0|       82|         0|    0|          0|        0.0|         1424| solo-fpp|      97|       95|      1492|      0|         0.0|        0|         0.0|        0|              0|       84.31|              1|        0|      0.1667|\n",
      "|3c07b0ef7e1cdb|7a45dff9ff92fd|6dc8ff871e21e6|      0|     0|      59.92|    0|            0|    0|       81|         0|    0|          0|        0.0|         1424| solo-fpp|      97|       95|      1530|      0|         0.0|        0|         0.0|        0|              0|       31.17|              1|        0|      0.1771|\n",
      "|315c96c26c9aac|de04010b3458dd|6dc8ff871e21e6|      0|     0|      100.0|    0|            0|    0|       45|         0|    1|          1|      58.53|         1424| solo-fpp|      97|       95|      1560|      0|         0.0|        0|         0.0|        0|              0|       49.75|              2|        0|      0.1875|\n",
      "|f921a757de248b|00523e90e8568c|6dc8ff871e21e6|      0|     0|        0.0|    0|            0|    0|       80|         0|    0|          0|        0.0|         1424| solo-fpp|      97|       95|      1500|      0|         0.0|        0|         0.0|        0|              0|         0.0|              0|        0|      0.1979|\n",
      "|cf806bed1e2faa|00523e90e8568c|6dc8ff871e21e6|      0|     0|      127.3|    0|            0|    0|       44|         0|    1|          1|      5.574|         1424| solo-fpp|      97|       95|      1470|      0|         0.0|        0|         0.0|        0|              0|        76.3|              2|        0|      0.1979|\n",
      "|c3f1206ac5d79d|b310af741eb257|6dc8ff871e21e6|      0|     0|      50.31|    0|            0|    0|       79|         0|    0|          0|        0.0|         1424| solo-fpp|      97|       95|      1492|      0|         0.0|        0|         0.0|        0|              0|       63.42|              2|        0|      0.2083|\n",
      "|e80f1babdd3685|b3789497b0fdce|6dc8ff871e21e6|      0|     0|       47.3|    0|            0|    0|       78|         0|    0|          0|        0.0|         1424| solo-fpp|      97|       95|      1623|      0|         0.0|        0|         0.0|        0|              0|       41.92|              3|        0|      0.2188|\n",
      "|e52b9b7178a55d|d1191ffcab9780|6dc8ff871e21e6|      0|     0|        0.0|    0|            0|    0|       77|         0|    0|          0|        0.0|         1424| solo-fpp|      97|       95|      1532|      0|         0.0|        0|         0.0|        0|              0|       42.75|              2|        0|      0.2292|\n",
      "|b743c8b589d4b6|001e08837a7485|6dc8ff871e21e6|      0|     0|      100.0|    0|            0|    1|       43|         0|    1|          1|      8.274|         1424| solo-fpp|      97|       95|      1627|      0|         0.0|        0|         0.0|        0|              0|       101.5|              1|        0|      0.2396|\n",
      "|0c3f6213ba7b2b|4e4df9801f47e1|6dc8ff871e21e6|      0|     0|      32.34|    0|            0|    0|       76|         0|    0|          0|        0.0|         1424| solo-fpp|      97|       95|      1561|      0|         0.0|        0|         0.0|        0|              0|       44.84|              2|        0|        0.25|\n",
      "|700e18bb82baa5|bbfbaca1f1b612|6dc8ff871e21e6|      0|     0|      100.0|    0|            1|    0|       42|         0|    1|          1|      22.79|         1424| solo-fpp|      97|       95|      1663|      0|         0.0|        0|         0.0|        0|              0|       64.46|              2|        0|      0.2604|\n",
      "|9007593ffe67b6|111742f4fc8505|6dc8ff871e21e6|      0|     0|      134.3|    0|            0|    0|       41|         0|    1|          1|      3.459|         1424| solo-fpp|      97|       95|      1510|      0|         0.0|        0|         0.0|        0|              0|       171.3|              2|        0|      0.2812|\n",
      "|04e350f0d70f49|16bb28940504ac|6dc8ff871e21e6|      0|     0|        0.0|    0|            0|    0|       75|         0|    0|          0|        0.0|         1424| solo-fpp|      97|       95|      1546|      0|         0.0|        0|         0.0|        0|              0|       94.23|              3|        0|      0.2917|\n",
      "|d8774acd09cc31|712f780d26e2df|6dc8ff871e21e6|      0|     1|      55.86|    0|            0|    2|       74|         0|    0|          0|        0.0|         1424| solo-fpp|      97|       95|      1566|      0|         0.0|        0|         0.0|        0|              0|       87.24|              3|        0|      0.3021|\n",
      "|f52218395f9c52|5d6d4bfb980aff|6dc8ff871e21e6|      0|     0|      100.0|    0|            1|    0|       40|         0|    1|          1|        0.0|         1424| solo-fpp|      97|       95|      1687|      0|         0.0|        0|       7.574|        0|              0|       113.8|              2|        0|      0.3125|\n",
      "|bd7347e4089ec4|79dea926baa874|6dc8ff871e21e6|      0|     0|      140.8|    0|            0|    0|       39|         0|    1|          1|      15.57|         1424| solo-fpp|      97|       95|      1521|      0|         0.0|        0|         0.0|        0|              0|       151.5|              3|        0|      0.3229|\n",
      "|7f566bad9c7e1f|c37f5165d082f9|6dc8ff871e21e6|      1|     0|      82.56|    0|            0|    0|       73|         0|    0|          0|        0.0|         1424| solo-fpp|      97|       95|      1603|      0|         0.0|        0|         0.0|        0|              0|       212.5|              1|        0|      0.3333|\n",
      "|ab9727114cc096|60a661d33edcd9|6dc8ff871e21e6|      0|     0|        0.0|    0|            0|    0|       72|         0|    0|          0|        0.0|         1424| solo-fpp|      97|       95|      1522|      0|         0.0|        0|         0.0|        0|              0|       238.9|              3|        0|      0.3438|\n",
      "|9cc4f7de3e4a26|fc513dba3aefc5|6dc8ff871e21e6|      0|     0|      100.0|    0|            0|    0|       38|         0|    1|          1|      3.815|         1424| solo-fpp|      97|       95|      1429|      0|         0.0|        0|         0.0|        0|              0|       60.51|              2|        0|      0.3542|\n",
      "|b50025e18c2491|4539eb46aa3043|6dc8ff871e21e6|      0|     2|      174.0|    0|            0|    2|       19|         0|    2|          1|      7.833|         1424| solo-fpp|      97|       95|      1489|      0|         0.0|        0|         0.0|        0|              0|       118.3|              2|        0|      0.3646|\n",
      "|665cc620023604|68dbbf0173f317|6dc8ff871e21e6|      0|     0|      32.76|    0|            0|    0|       71|         0|    0|          0|        0.0|         1424| solo-fpp|      97|       95|      1585|      0|         0.0|        0|         0.0|        0|              0|       280.8|              2|        0|       0.375|\n",
      "|cc303b01af4117|5bdb147fac51c8|6dc8ff871e21e6|      0|     0|       29.4|    0|            0|    0|       70|         0|    0|          0|        0.0|         1424| solo-fpp|      97|       95|      1543|      0|         0.0|        0|         0.0|        0|              0|       304.6|              2|        0|      0.3854|\n",
      "|8201f913e50a3a|c481525ce5eea9|6dc8ff871e21e6|      0|     0|      104.7|    0|            0|    0|       69|         0|    0|          0|        0.0|         1424| solo-fpp|      97|       95|      1542|      0|         0.0|        0|         0.0|        0|              0|       175.0|              4|        0|      0.3958|\n",
      "|2710b9eca84056|eccf89c51a65aa|6dc8ff871e21e6|      0|     1|      144.6|    0|            0|    1|       18|         0|    2|          1|      28.47|         1424| solo-fpp|      97|       95|      1497|      0|         0.0|        0|         0.0|        0|              0|       288.7|              3|        0|      0.4062|\n",
      "|0721d1bbe321be|3068ce27cf47e5|6dc8ff871e21e6|      0|     1|      100.0|    0|            0|    0|       37|         0|    1|          1|      10.32|         1424| solo-fpp|      97|       95|      1565|      0|         0.0|        0|         0.0|        0|              0|       69.99|              3|        0|      0.4167|\n",
      "|bc57168eb9be2f|e58cc7100a2385|6dc8ff871e21e6|      0|     0|      100.0|    0|            0|    0|       36|         0|    1|          1|      113.7|         1424| solo-fpp|      97|       95|      1516|      0|         0.0|        0|         0.0|        0|              0|       221.1|              5|        0|      0.4271|\n",
      "|ff1964f0c89abb|61d435a892e34c|6dc8ff871e21e6|      0|     2|       27.3|    0|            0|    1|       68|         0|    0|          0|        0.0|         1424| solo-fpp|      97|       95|      1536|      0|         0.0|        0|         0.0|        0|              0|       150.5|              3|        0|      0.4375|\n",
      "|474661675497dd|d26172beaa912c|6dc8ff871e21e6|      0|     0|       83.5|    0|            0|    0|       67|         0|    0|          0|        0.0|         1424| solo-fpp|      97|       95|      1640|      0|         0.0|        0|         0.0|        0|              0|       260.5|              4|        0|      0.4479|\n",
      "|ca80bab93eb545|12ae810f801183|6dc8ff871e21e6|      0|     1|      195.9|    0|            0|    0|       35|         0|    1|          1|      25.86|         1424| solo-fpp|      97|       95|      1497|      0|         0.0|        0|         0.0|        0|              0|       297.0|              2|        0|      0.4583|\n",
      "|59672142837e65|8b53a25ab70b1d|6dc8ff871e21e6|      0|     0|      30.08|    0|            0|    1|       66|         0|    0|          0|        0.0|         1424| solo-fpp|      97|       95|      1580|      0|         0.0|        0|         0.0|        0|              0|       616.0|              3|        0|      0.4688|\n",
      "|c5f85ef8311573|1ec6358a9b2153|6dc8ff871e21e6|      0|     2|      100.0|    0|            0|    5|       34|         0|    1|          1|      1.148|         1424| solo-fpp|      97|       95|      1483|      0|       463.6|        0|         0.0|        0|              0|       317.3|              4|        0|      0.4792|\n",
      "|167a6990447428|e023edd9e1f7f4|6dc8ff871e21e6|      0|     0|      158.7|    0|            1|    0|       33|         0|    1|          1|      21.41|         1424| solo-fpp|      97|       95|      1526|      0|         0.0|        0|         0.0|        0|              0|       289.2|              4|        0|      0.4896|\n",
      "|d27e84b98d2c71|306f50023b28bd|6dc8ff871e21e6|      0|     0|      184.8|    0|            0|    1|       32|         0|    1|          1|      9.263|         1424| solo-fpp|      97|       95|      1519|      0|         0.0|        0|         0.0|        0|              0|       242.1|              4|        0|         0.5|\n",
      "|7a9ab9c58dc484|5a19972ed709c2|6dc8ff871e21e6|      0|     0|        0.0|    0|            0|    0|       65|         0|    0|          0|        0.0|         1424| solo-fpp|      97|       95|      1624|      0|         0.0|        0|         0.0|        0|              0|       320.4|              5|        0|      0.5104|\n",
      "|7be08f708c7bba|ffad0374bb5d1c|6dc8ff871e21e6|      0|     0|      123.0|    0|            1|    0|       31|         0|    1|          1|      51.27|         1424| solo-fpp|      97|       95|      1623|      0|         0.0|        0|         0.0|        0|              0|       763.9|              7|        0|      0.5208|\n",
      "|3211a6ff142c29|bd7482d8dc13ca|6dc8ff871e21e6|      0|     0|      94.17|    0|            0|    0|       64|         0|    0|          0|        0.0|         1424| solo-fpp|      97|       95|      1579|      0|         0.0|        0|         0.0|        0|              0|       722.0|              5|        0|      0.5312|\n",
      "|50cb6679571ead|af7775f3c363ec|6dc8ff871e21e6|      0|     1|      37.52|    0|            0|    4|       63|         0|    0|          0|        0.0|         1424| solo-fpp|      97|       95|      1747|      0|         0.0|        0|         0.0|        0|              0|       401.5|              2|        0|      0.5417|\n",
      "|95e7e6538db204|429b9602a558c4|6dc8ff871e21e6|      0|     0|       71.4|    0|            0|    0|       62|         0|    0|          0|        0.0|         1424| solo-fpp|      97|       95|      1690|      0|         0.0|        0|         0.0|        0|              0|       470.9|              4|        0|      0.5521|\n",
      "|2de60d9836955d|562eaad6d3b999|6dc8ff871e21e6|      0|     0|       29.4|    0|            0|    0|       61|         0|    0|          0|        0.0|         1424| solo-fpp|      97|       95|      1538|      0|         0.0|        0|         0.0|        0|              0|       775.1|              3|        0|      0.5625|\n",
      "|689e82c76d1be7|7a769016b98876|6dc8ff871e21e6|      0|     1|      168.6|    0|            0|    1|       30|         0|    1|          1|      23.35|         1424| solo-fpp|      97|       95|      1510|      0|         0.0|        0|         0.0|        0|              0|       466.5|              4|        0|      0.5729|\n",
      "|cb4d7aa3f70cec|4bd93ab50bb2d2|6dc8ff871e21e6|      0|     0|      100.0|    0|            1|    0|       29|         0|    1|          1|      65.09|         1424| solo-fpp|      97|       95|      1497|      0|         0.0|        0|         0.0|        0|              0|       753.1|              5|        0|      0.5833|\n",
      "|c745fb3b3f73c3|580e908509cda8|6dc8ff871e21e6|      0|     1|      244.0|    0|            0|    0|       17|         0|    2|          1|      47.11|         1424| solo-fpp|      97|       95|      1601|      0|         0.0|        0|         0.0|        0|              0|       336.3|              5|        0|      0.5938|\n",
      "|3c624541f3e332|ed86363d3f9f71|6dc8ff871e21e6|      0|     1|      100.0|    0|            1|    2|       28|         0|    1|          1|      34.48|         1424| solo-fpp|      97|       95|      1503|      0|       899.2|        0|         0.0|        0|              0|       567.9|              3|        0|      0.6042|\n",
      "|3e227b37c29173|43b65cdc1a264a|6dc8ff871e21e6|      0|     2|      83.64|    0|            0|    0|       60|         0|    0|          0|        0.0|         1424| solo-fpp|      97|       95|      1500|      0|         0.0|        0|         0.0|        0|              0|       515.9|              6|        0|      0.6146|\n",
      "|524a8882800eeb|a512eb2580efe0|6dc8ff871e21e6|      0|     1|      127.0|    0|            0|    1|       27|         0|    1|          1|      11.88|         1424| solo-fpp|      97|       95|      1482|      0|         0.0|        0|         0.0|        0|              0|       961.5|              4|        0|       0.625|\n",
      "|64b71ab648cb5d|786685ad1fe4f1|6dc8ff871e21e6|      0|     0|      100.0|    0|            0|    0|       26|         0|    1|          1|      5.687|         1424| solo-fpp|      97|       95|      1526|      0|         0.0|        0|         0.0|        0|              0|       867.0|              5|        0|      0.6354|\n",
      "|8f78b92b9d8cd6|ad22fb28468e61|6dc8ff871e21e6|      0|     0|        0.0|    0|            0|    0|       59|         0|    0|          0|        0.0|         1424| solo-fpp|      97|       95|      1652|      0|         0.0|        0|         0.0|        0|              0|      1452.0|              5|        0|      0.6458|\n",
      "|22287021670ae7|27929ee9a2258e|6dc8ff871e21e6|      0|     0|      46.44|    0|            0|    0|       58|         0|    0|          0|        0.0|         1424| solo-fpp|      97|       95|      1672|      0|         0.0|        0|         0.0|        0|              0|      1292.0|              4|        0|      0.6562|\n",
      "|39b65885e66abc|301193edb2e003|6dc8ff871e21e6|      0|     1|        0.0|    0|            0|    0|       57|         0|    0|          0|        0.0|         1424| solo-fpp|      97|       95|      1576|      0|         0.0|        0|         0.0|        0|              0|      1155.0|              3|        0|      0.6667|\n",
      "|c6b9d234530775|65370bbb161a14|6dc8ff871e21e6|      0|     3|      352.7|    0|            2|    5|        7|         0|    4|          2|       58.9|         1424| solo-fpp|      97|       95|      1515|      0|         0.0|        0|         0.0|        0|              0|       700.4|              3|        0|      0.6771|\n",
      "|5d8655d2abbdf0|fd8897ee36efa7|6dc8ff871e21e6|      0|     1|        0.0|    0|            0|    2|       56|         0|    0|          0|        0.0|         1424| solo-fpp|      97|       95|      1512|      0|       853.2|        0|         0.0|        1|              0|      1139.0|              4|        0|      0.6875|\n",
      "|9262024f14523d|1b92d98ab22413|6dc8ff871e21e6|      0|     3|        0.0|    0|            0|    3|       55|         0|    0|          0|        0.0|         1424| solo-fpp|      97|       95|      1664|      0|       732.7|        0|         0.0|        0|              0|      1781.0|              4|        0|      0.6979|\n",
      "|cd4745c485899a|1697441f6b40ca|6dc8ff871e21e6|      0|     0|        0.0|    0|            0|    0|       54|         0|    0|          0|        0.0|         1424| solo-fpp|      97|       95|      1512|      0|         0.0|        0|         0.0|        0|              0|       874.1|              8|        0|      0.7083|\n",
      "|174d84dc4eba79|8de7c668678a6b|6dc8ff871e21e6|      0|     0|      69.09|    0|            0|    0|       53|         0|    0|          0|        0.0|         1424| solo-fpp|      97|       95|      1525|      0|         0.0|        0|         0.0|        0|              0|       778.2|              4|        0|      0.7188|\n",
      "|9db51dc4fc3ccb|a5acabaf500f2a|6dc8ff871e21e6|      0|     3|      253.0|    0|            0|    1|        9|         0|    3|          1|      59.12|         1424| solo-fpp|      97|       95|      1583|      0|         0.0|        0|         0.0|        0|              0|      1864.0|              4|        0|      0.7292|\n",
      "|4f54491fc9da40|ec7f4ddcdb535f|6dc8ff871e21e6|      0|     1|      100.0|    0|            0|    1|       25|         0|    1|          1|      26.12|         1424| solo-fpp|      97|       95|      1574|      0|         0.0|        0|         0.0|        0|              0|      1627.0|              3|        0|      0.7396|\n",
      "|26ca6e5ac28fca|8fb08f176c8707|6dc8ff871e21e6|      0|     3|      253.8|    0|            2|    2|       16|         0|    2|          1|      45.86|         1424| solo-fpp|      97|       95|      1648|      0|         0.0|        0|         0.0|        0|              0|      1557.0|              3|        0|        0.75|\n",
      "|2d2151bf6fb0b6|3c4967e33f4802|6dc8ff871e21e6|      0|     1|      165.0|    0|            1|    0|       24|         0|    1|          1|      21.12|         1424| solo-fpp|      97|       95|      1513|      0|         0.0|        0|         0.0|        0|              0|      1743.0|              4|        0|      0.7604|\n",
      "|51d7d3691c2c92|95753b9f149789|6dc8ff871e21e6|      0|     3|      292.7|    0|            0|    2|       15|         0|    2|          1|      25.13|         1424| solo-fpp|      97|       95|      1567|      0|      2064.0|        0|         0.0|        0|              0|      1442.0|              3|        0|      0.7708|\n",
      "|cd3d45172d253e|8f7560b8e2a612|6dc8ff871e21e6|      0|     1|      74.73|    0|            0|    3|       52|         0|    0|          0|        0.0|         1424| solo-fpp|      97|       95|      1887|      0|         0.0|        0|         0.0|        0|              0|      1122.0|              7|        0|      0.7812|\n",
      "|213eb3ec42070d|8f7560b8e2a612|6dc8ff871e21e6|      0|     0|      154.2|    0|            0|    0|       23|         0|    1|          1|      26.96|         1424| solo-fpp|      97|       95|      1634|      0|      1299.0|        0|         0.0|        0|              0|      1543.0|              5|        0|      0.7812|\n",
      "|0bd2544ef79ba9|50f62ec09f1186|6dc8ff871e21e6|      1|     3|      196.6|    0|            0|    3|       14|         0|    2|          1|      28.48|         1424| solo-fpp|      97|       95|      1592|      0|         0.0|        0|       4.867|        0|              0|      2473.0|              6|        0|      0.8021|\n",
      "|577286fcb5b3b4|54fdc7d2ca7e84|6dc8ff871e21e6|      0|     0|      363.6|    0|            2|    0|        8|         0|    3|          1|       23.1|         1424| solo-fpp|      97|       95|      1646|      0|         0.0|        0|         0.0|        0|              0|      1985.0|              4|        0|      0.8125|\n",
      "|adc775517323cb|f1e42890b30921|6dc8ff871e21e6|      0|     2|      152.3|    0|            1|    1|       22|         0|    1|          1|      76.11|         1424| solo-fpp|      97|       95|      2018|      0|         0.0|        0|         0.0|        0|              0|      2111.0|             12|        0|      0.8229|\n",
      "|353e6a115aa4ce|3c363d7a203c54|6dc8ff871e21e6|      0|     2|      336.4|    0|            1|    1|        6|         0|    4|          1|      51.57|         1424| solo-fpp|      97|       95|      1508|      0|         0.0|        0|       175.1|        0|              0|       963.7|              7|        0|      0.8333|\n",
      "|d65e57c2366df6|8c4e8ec5de9e41|6dc8ff871e21e6|      0|     3|        0.0|    0|            0|    7|       51|         0|    0|          0|        0.0|         1424| solo-fpp|      97|       95|      1557|      0|      1463.0|        0|         0.0|        1|              0|      1666.0|              5|        0|      0.8438|\n",
      "|2ee985fc916762|d56ab3ce052c0a|6dc8ff871e21e6|      0|     1|      200.0|    0|            1|    1|       13|         0|    2|          1|      89.96|         1424| solo-fpp|      97|       95|      1517|      0|         0.0|        0|         0.0|        0|              0|      1699.0|              9|        0|      0.8542|\n",
      "|fcf98ee4b6b0e5|8c961562aa998d|6dc8ff871e21e6|      0|     3|      147.1|    0|            0|    9|       21|         0|    1|          1|      44.98|         1424| solo-fpp|      97|       95|      1652|      0|      3344.0|        0|       15.82|        0|              0|      1967.0|              3|        0|      0.8646|\n",
      "|b345a18513dedc|a73faeda1eba1f|6dc8ff871e21e6|      0|     1|      209.0|    0|            1|    4|       12|         0|    2|          1|      150.1|         1424| solo-fpp|      97|       95|      1689|      0|         0.0|        0|         0.0|        0|              0|      2331.0|              3|        0|       0.875|\n",
      "|d84c9e514eaf5d|502baeb5659b62|6dc8ff871e21e6|      0|     7|      134.9|    0|            1|    1|       11|         0|    2|          1|      107.2|         1424| solo-fpp|      97|       95|      1515|      0|         0.0|        0|       110.3|        0|              0|      2693.0|              4|        0|      0.8854|\n",
      "|225d99976f6034|44837704478833|6dc8ff871e21e6|      0|     3|      258.6|    0|            0|    1|       20|         0|    1|          1|      12.21|         1424| solo-fpp|      97|       95|      1809|      0|         0.0|        0|         0.0|        0|              0|      1801.0|              5|        0|      0.8958|\n",
      "|8dca2afadaf0d2|02441b05ed15e7|6dc8ff871e21e6|      0|     7|      368.1|    0|            2|    2|        5|         0|    4|          1|      228.3|         1424| solo-fpp|      97|       95|      1629|      0|      1983.0|        0|         0.0|        0|              0|      2448.0|              5|        0|      0.9062|\n",
      "|60505f1287bae6|a4e454bbe770d8|6dc8ff871e21e6|      0|     5|      54.45|    0|            0|    0|       50|         0|    0|          0|        0.0|         1424| solo-fpp|      97|       95|      1587|      0|         0.0|        0|         0.0|        0|              0|      2084.0|              3|        0|      0.9167|\n",
      "|ade7153a7d24e0|4d76ad99dfdead|6dc8ff871e21e6|      0|     4|      506.8|    0|            1|    2|        4|         0|    5|          1|      73.45|         1424| solo-fpp|      97|       95|      1631|      0|         0.0|        0|       16.84|        0|              0|      2048.0|              7|        0|      0.9271|\n",
      "|f9bd68078c17c4|f1631215f89a6b|6dc8ff871e21e6|      0|     3|      192.0|    0|            1|    0|       10|         0|    2|          1|      207.7|         1424| solo-fpp|      97|       95|      1578|      0|      0.0056|        0|       33.24|        0|              0|      2232.0|              4|        0|      0.9375|\n",
      "|f1d5d1042b96ce|b4dc6ae6f7e101|6dc8ff871e21e6|      1|     3|       63.5|    0|            0|    1|       49|         0|    0|          0|        0.0|         1424| solo-fpp|      97|       95|      1590|      0|      1600.0|        0|       20.47|        0|              0|      3003.0|              3|        0|      0.9479|\n",
      "|b80337c06852c5|9b6402b5e1ad17|6dc8ff871e21e6|      0|     1|      149.0|    0|            0|    0|       48|         0|    0|          0|        0.0|         1424| solo-fpp|      97|       95|      1624|      0|         0.0|        0|         0.0|        0|              0|      2025.0|              7|        0|      0.9583|\n",
      "|ea0b5a0f6e8a92|d5ee8b15ec6c0f|6dc8ff871e21e6|      0|     6|      47.64|    0|            0|    1|       47|         0|    0|          0|        0.0|         1424| solo-fpp|      97|       95|      1647|      0|         0.0|        0|         0.0|        0|              0|      1900.0|              4|        0|      0.9688|\n",
      "|229c01d8080670|f0a713464e0e61|6dc8ff871e21e6|      0|     6|      611.2|    0|            2|    1|        3|         0|    5|          1|      72.79|         1424| solo-fpp|      97|       95|      1514|      0|         0.0|        0|         0.0|        0|              0|      3024.0|              5|        0|      0.9792|\n",
      "|f906ce1b96b3b9|1740c0f20e1790|6dc8ff871e21e6|      2|     7|      458.6|    0|            1|   15|        2|         0|    5|          1|      82.24|         1424| solo-fpp|      97|       95|      1519|      0|         0.0|        0|         0.0|        0|              0|      3188.0|              8|        0|      0.9896|\n",
      "|bc27dbb68ce049|ccda9734128aa9|6dc8ff871e21e6|      0|    10|      960.8|    0|            4|    6|        1|         0|   11|          2|      97.85|         1424| solo-fpp|      97|       95|      1932|      0|         0.0|        0|         0.0|        0|              0|      3134.0|              5|        0|         1.0|\n",
      "+--------------+--------------+--------------+-------+------+-----------+-----+-------------+-----+---------+----------+-----+-----------+-----------+-------------+---------+--------+---------+----------+-------+------------+---------+------------+---------+---------------+------------+---------------+---------+------------+\n",
      "\n"
     ]
    }
   ],
   "source": [
    "sqlCtx.sql(\"\"\"SELECT *\n",
    "                    from pubg \n",
    "                    where matchid = '6dc8ff871e21e6' \n",
    "                    order by winPlacePerc\"\"\").show(100)"
   ]
  },
  {
   "cell_type": "code",
   "execution_count": null,
   "id": "latter-patrol",
   "metadata": {},
   "outputs": [],
   "source": []
  },
  {
   "cell_type": "code",
   "execution_count": 12,
   "id": "explicit-behavior",
   "metadata": {},
   "outputs": [
    {
     "name": "stdout",
     "output_type": "stream",
     "text": [
      "+--------------+--------------+--------------+-------+------+-----------+-----+-------------+-----+---------+----------+-----+-----------+-----------+-------------+---------+--------+---------+----------+-------+------------+---------+------------+---------+---------------+------------+---------------+---------+------------+\n",
      "|            Id|       groupId|       matchId|assists|boosts|damageDealt|DBNOs|headshotKills|heals|killPlace|killPoints|kills|killStreaks|longestKill|matchDuration|matchType|maxPlace|numGroups|rankPoints|revives|rideDistance|roadKills|swimDistance|teamKills|vehicleDestroys|walkDistance|weaponsAcquired|winPoints|winPlacePerc|\n",
      "+--------------+--------------+--------------+-------+------+-----------+-----+-------------+-----+---------+----------+-----+-----------+-----------+-------------+---------+--------+---------+----------+-------+------------+---------+------------+---------+---------------+------------+---------------+---------+------------+\n",
      "|cf806bed1e2faa|00523e90e8568c|6dc8ff871e21e6|      0|     0|      127.3|    0|            0|    0|       44|         0|    1|          1|      5.574|         1424| solo-fpp|      97|       95|      1470|      0|         0.0|        0|         0.0|        0|              0|        76.3|              2|        0|      0.1979|\n",
      "|f921a757de248b|00523e90e8568c|6dc8ff871e21e6|      0|     0|        0.0|    0|            0|    0|       80|         0|    0|          0|        0.0|         1424| solo-fpp|      97|       95|      1500|      0|         0.0|        0|         0.0|        0|              0|         0.0|              0|        0|      0.1979|\n",
      "|213eb3ec42070d|8f7560b8e2a612|6dc8ff871e21e6|      0|     0|      154.2|    0|            0|    0|       23|         0|    1|          1|      26.96|         1424| solo-fpp|      97|       95|      1634|      0|      1299.0|        0|         0.0|        0|              0|      1543.0|              5|        0|      0.7812|\n",
      "|cd3d45172d253e|8f7560b8e2a612|6dc8ff871e21e6|      0|     1|      74.73|    0|            0|    3|       52|         0|    0|          0|        0.0|         1424| solo-fpp|      97|       95|      1887|      0|         0.0|        0|         0.0|        0|              0|      1122.0|              7|        0|      0.7812|\n",
      "+--------------+--------------+--------------+-------+------+-----------+-----+-------------+-----+---------+----------+-----+-----------+-----------+-------------+---------+--------+---------+----------+-------+------------+---------+------------+---------+---------------+------------+---------------+---------+------------+\n",
      "\n"
     ]
    }
   ],
   "source": [
    "# Seleziono i duplicati, usabile solo per match da 1 persona\n",
    "#sqlCtx.sql(\"\"\"SELECT p1.matchtype, p1.id, p1.groupid, p1.matchid, p1.winPlacePerc, p1.kills\n",
    "sqlCtx.sql(\"\"\"SELECT p1.*\n",
    "                    from pubg p1, pubg p2\n",
    "                    where p1.matchid = '6dc8ff871e21e6' \n",
    "                        and p1.groupid = p2.groupid\n",
    "                        and p1.id <> p2.id\n",
    "                    order by winPlacePerc\"\"\").show(100)"
   ]
  },
  {
   "cell_type": "markdown",
   "id": "massive-alert",
   "metadata": {},
   "source": [
    "controllare se si può estrarre dagli 0 i giocatori disconnessi da quelli arrivati ultimi.\n",
    "\n",
    "Cri: forse conviene prima ricavare i giocatori effettivi nel match (ci dovrebbe essere una variabile simile, che indica il numero di squadre)\n",
    "\n",
    "Cri - osservazioni sul matchid 6dc8ff871e21e6\n",
    "Questo match è composto da squadre di una persona.\n",
    "Se osserviamo il plot (score X #persone) vediamo come ci sono alcuni punteggi assegnati a due persone, il che è possibile solo in caso di pareggio. Nello specifico ci sono 4 persone con lo stesso punteggio (=> 2 non dovrebbero esistere)\n",
    "La lista di giocatori di tale match risulta essere compsta da 97 elementi, tuttavia, l'attributo numGroups ha valore 95 (che torna con i 2 valori anomali).\n",
    "\n",
    "I due utenti duplicati hanno come id rispettivamente f921a757de248b e cf806bed1e2faa, tuttavia hanno lo stesso groupid. potrebbe essere causato da una perdita di connessione (rientra in partita dopo un crash)?\n",
    "\n",
    "Alcuni attributi di un player tra quei due di prima risultano a 0 (distance, weaponsAcquired, damageDealt). \n",
    "- Potrebbe essere utile unificare i record? UNICA STRADA POSSIBILE\n",
    "- Conviene eliminare uno dei due duplicati (ad esempio quello con distance==0)? NON FATTIBILE --> non è sempre vero (vedi groupid 8f7560b8e2a612)\n",
    "\n",
    "Altre ipotesi:\n",
    "- numGroups indica il numero di gruppi (distinct groupid) nel match\n",
    "- maxPlace indica il numero di giocatori (distinct playerid) nel match\n",
    "- La classifica contiene due giocatori con lo stesso punteggio --> sono quelli crashati e riconnessi che hanno id diverso, ma stesso gruppo. \n",
    "- Guardando le distanze tra un winplaceperc e il suo successore otteniamo la maggior parte delle volte un valore costante (.0104...), ma non sempre (alcune volte è il doppio: .0208). Penso quindi che i percentili generati siano nello stesso numero di maxPlace. Per tenere di conto del problema delle disconnessioni dovremmo quindi trasformare la percentuale nella posizione effettiva della classifica e ricalcolare i percentili calcolandoli sull'attributo maxPlace\n",
    "\n",
    "\n",
    "Date queste osservazioni vedo sempre più necessario il fatto di trattare i dati aggregandoli per gruppi così da poter fare un unico modello e, contemporanemente, risolvere il problema delle riconnessioni (anche perchè nel caso del giocatore singolo sei in grado di capire a che giocatore associare i dati aggregati, nel caso di squadra da più persone chi sarà quello che si è disconnesso/crashato?)"
   ]
  },
  {
   "cell_type": "code",
   "execution_count": null,
   "id": "friendly-finance",
   "metadata": {},
   "outputs": [],
   "source": []
  },
  {
   "cell_type": "markdown",
   "id": "tough-scout",
   "metadata": {},
   "source": [
    "Oss: con somma dei risultati i player risultanti avrebbero alcuni attributi con domanio diverso e dipendente dal tipo di match, forse è meglio fare la media\n",
    "\n",
    "Suggerimenti per l'aggregazione.\n",
    "Invariati:\n",
    "- Id: eliminato\n",
    "- groupId: nuova chiave\n",
    "- matchId (dipendende funzionalmente dal gruppo)\n",
    "- matchDuration\n",
    "- winPlacePerc\n",
    "- isFirstPerson\n",
    "- matchtype\n",
    "- maxPlace\n",
    "- numGroups\n",
    "\n",
    "somma o int(media):\n",
    "- assists: nel caso di solo possono essere anche != da 0, quindi possiamo fare sei la somma che int(media)\n",
    "- boosts\n",
    "- heals\n",
    "- kills\n",
    "- headshotKills\n",
    "- killStreaks\n",
    "- roadKills\n",
    "- longestKill\n",
    "- vehicleDestroys (forse anche top, almeno si savano quei pochi che hanno distrutto un veicolo)\n",
    "- weaponsAcquired\n",
    "\n",
    "somma o media:\n",
    "- damageDealt\n",
    "- distance\n",
    "- rideDistance\n",
    "- swimDistance\n",
    "- walkDistance\n",
    "\n",
    "max?\n",
    "- killPlace: viene calcolato per ogni giocatore anche in caso di gruppi e riconnessioni.\n",
    "- rankPoints: sono diversi sempre, anche in caso di gruppi e riconnessioni\n",
    "- killPoints: nei 2 match che ho preso i valori sono sempre 0\n",
    "- winPoints: anche questi sono sempre a 0 nei due match analizzati\n",
    "\n",
    "#### LA QUERY È FINO A QUI\n",
    "\n",
    "altri\n",
    "- DBNOs: questo attributo è sempre uguale a 0 nei solo players. Cosa volgiamo fare? aggregare vorrebbe dire avere domini diversi a seconfa della condizione matchtype=solo, mettere tutto a 0/eliminare l'attributo vorrebbe dire perdere dei dati\n",
    "- revives\n",
    "- teamKills"
   ]
  },
  {
   "cell_type": "code",
   "execution_count": 13,
   "id": "adopted-delaware",
   "metadata": {},
   "outputs": [
    {
     "ename": "AnalysisException",
     "evalue": "cannot resolve '`distance`' given input columns: [DBNOs, Id, assists, boosts, damageDealt, groupId, headshotKills, heals, killPlace, killPoints, killStreaks, kills, longestKill, matchDuration, matchId, matchType, maxPlace, numGroups, rankPoints, revives, rideDistance, roadKills, swimDistance, teamKills, vehicleDestroys, walkDistance, weaponsAcquired, winPlacePerc, winPoints];\n'Filter ('distance = 0)\n+- Relation[Id#16,groupId#17,matchId#18,assists#19,boosts#20,damageDealt#21,DBNOs#22,headshotKills#23,heals#24,killPlace#25,killPoints#26,kills#27,killStreaks#28,longestKill#29,matchDuration#30,matchType#31,maxPlace#32,numGroups#33,rankPoints#34,revives#35,rideDistance#36,roadKills#37,swimDistance#38,teamKills#39,... 5 more fields] csv\n",
     "output_type": "error",
     "traceback": [
      "\u001b[0;31m---------------------------------------------------------------------------\u001b[0m",
      "\u001b[0;31mAnalysisException\u001b[0m                         Traceback (most recent call last)",
      "\u001b[0;32m<ipython-input-13-b98cedbdf8f7>\u001b[0m in \u001b[0;36m<module>\u001b[0;34m\u001b[0m\n\u001b[0;32m----> 1\u001b[0;31m \u001b[0mdata\u001b[0m\u001b[0;34m.\u001b[0m\u001b[0mwhere\u001b[0m\u001b[0;34m(\u001b[0m\u001b[0mcol\u001b[0m\u001b[0;34m(\u001b[0m\u001b[0;34m'distance'\u001b[0m\u001b[0;34m)\u001b[0m \u001b[0;34m==\u001b[0m \u001b[0;36m0\u001b[0m\u001b[0;34m)\u001b[0m\u001b[0;34m.\u001b[0m\u001b[0mwhere\u001b[0m\u001b[0;34m(\u001b[0m\u001b[0mcol\u001b[0m\u001b[0;34m(\u001b[0m\u001b[0;34m'weaponsAcquired'\u001b[0m\u001b[0;34m)\u001b[0m \u001b[0;34m==\u001b[0m \u001b[0;36m0\u001b[0m\u001b[0;34m)\u001b[0m\u001b[0;34m.\u001b[0m\u001b[0mcount\u001b[0m\u001b[0;34m(\u001b[0m\u001b[0;34m)\u001b[0m\u001b[0;34m\u001b[0m\u001b[0;34m\u001b[0m\u001b[0m\n\u001b[0m",
      "\u001b[0;32m/usr/local/lib/python3.8/dist-packages/pyspark/sql/dataframe.py\u001b[0m in \u001b[0;36mfilter\u001b[0;34m(self, condition)\u001b[0m\n\u001b[1;32m   1715\u001b[0m             \u001b[0mjdf\u001b[0m \u001b[0;34m=\u001b[0m \u001b[0mself\u001b[0m\u001b[0;34m.\u001b[0m\u001b[0m_jdf\u001b[0m\u001b[0;34m.\u001b[0m\u001b[0mfilter\u001b[0m\u001b[0;34m(\u001b[0m\u001b[0mcondition\u001b[0m\u001b[0;34m)\u001b[0m\u001b[0;34m\u001b[0m\u001b[0;34m\u001b[0m\u001b[0m\n\u001b[1;32m   1716\u001b[0m         \u001b[0;32melif\u001b[0m \u001b[0misinstance\u001b[0m\u001b[0;34m(\u001b[0m\u001b[0mcondition\u001b[0m\u001b[0;34m,\u001b[0m \u001b[0mColumn\u001b[0m\u001b[0;34m)\u001b[0m\u001b[0;34m:\u001b[0m\u001b[0;34m\u001b[0m\u001b[0;34m\u001b[0m\u001b[0m\n\u001b[0;32m-> 1717\u001b[0;31m             \u001b[0mjdf\u001b[0m \u001b[0;34m=\u001b[0m \u001b[0mself\u001b[0m\u001b[0;34m.\u001b[0m\u001b[0m_jdf\u001b[0m\u001b[0;34m.\u001b[0m\u001b[0mfilter\u001b[0m\u001b[0;34m(\u001b[0m\u001b[0mcondition\u001b[0m\u001b[0;34m.\u001b[0m\u001b[0m_jc\u001b[0m\u001b[0;34m)\u001b[0m\u001b[0;34m\u001b[0m\u001b[0;34m\u001b[0m\u001b[0m\n\u001b[0m\u001b[1;32m   1718\u001b[0m         \u001b[0;32melse\u001b[0m\u001b[0;34m:\u001b[0m\u001b[0;34m\u001b[0m\u001b[0;34m\u001b[0m\u001b[0m\n\u001b[1;32m   1719\u001b[0m             \u001b[0;32mraise\u001b[0m \u001b[0mTypeError\u001b[0m\u001b[0;34m(\u001b[0m\u001b[0;34m\"condition should be string or Column\"\u001b[0m\u001b[0;34m)\u001b[0m\u001b[0;34m\u001b[0m\u001b[0;34m\u001b[0m\u001b[0m\n",
      "\u001b[0;32m/usr/local/lib/python3.8/dist-packages/py4j/java_gateway.py\u001b[0m in \u001b[0;36m__call__\u001b[0;34m(self, *args)\u001b[0m\n\u001b[1;32m   1302\u001b[0m \u001b[0;34m\u001b[0m\u001b[0m\n\u001b[1;32m   1303\u001b[0m         \u001b[0manswer\u001b[0m \u001b[0;34m=\u001b[0m \u001b[0mself\u001b[0m\u001b[0;34m.\u001b[0m\u001b[0mgateway_client\u001b[0m\u001b[0;34m.\u001b[0m\u001b[0msend_command\u001b[0m\u001b[0;34m(\u001b[0m\u001b[0mcommand\u001b[0m\u001b[0;34m)\u001b[0m\u001b[0;34m\u001b[0m\u001b[0;34m\u001b[0m\u001b[0m\n\u001b[0;32m-> 1304\u001b[0;31m         return_value = get_return_value(\n\u001b[0m\u001b[1;32m   1305\u001b[0m             answer, self.gateway_client, self.target_id, self.name)\n\u001b[1;32m   1306\u001b[0m \u001b[0;34m\u001b[0m\u001b[0m\n",
      "\u001b[0;32m/usr/local/lib/python3.8/dist-packages/pyspark/sql/utils.py\u001b[0m in \u001b[0;36mdeco\u001b[0;34m(*a, **kw)\u001b[0m\n\u001b[1;32m    115\u001b[0m                 \u001b[0;31m# Hide where the exception came from that shows a non-Pythonic\u001b[0m\u001b[0;34m\u001b[0m\u001b[0;34m\u001b[0m\u001b[0;34m\u001b[0m\u001b[0m\n\u001b[1;32m    116\u001b[0m                 \u001b[0;31m# JVM exception message.\u001b[0m\u001b[0;34m\u001b[0m\u001b[0;34m\u001b[0m\u001b[0;34m\u001b[0m\u001b[0m\n\u001b[0;32m--> 117\u001b[0;31m                 \u001b[0;32mraise\u001b[0m \u001b[0mconverted\u001b[0m \u001b[0;32mfrom\u001b[0m \u001b[0;32mNone\u001b[0m\u001b[0;34m\u001b[0m\u001b[0;34m\u001b[0m\u001b[0m\n\u001b[0m\u001b[1;32m    118\u001b[0m             \u001b[0;32melse\u001b[0m\u001b[0;34m:\u001b[0m\u001b[0;34m\u001b[0m\u001b[0;34m\u001b[0m\u001b[0m\n\u001b[1;32m    119\u001b[0m                 \u001b[0;32mraise\u001b[0m\u001b[0;34m\u001b[0m\u001b[0;34m\u001b[0m\u001b[0m\n",
      "\u001b[0;31mAnalysisException\u001b[0m: cannot resolve '`distance`' given input columns: [DBNOs, Id, assists, boosts, damageDealt, groupId, headshotKills, heals, killPlace, killPoints, killStreaks, kills, longestKill, matchDuration, matchId, matchType, maxPlace, numGroups, rankPoints, revives, rideDistance, roadKills, swimDistance, teamKills, vehicleDestroys, walkDistance, weaponsAcquired, winPlacePerc, winPoints];\n'Filter ('distance = 0)\n+- Relation[Id#16,groupId#17,matchId#18,assists#19,boosts#20,damageDealt#21,DBNOs#22,headshotKills#23,heals#24,killPlace#25,killPoints#26,kills#27,killStreaks#28,longestKill#29,matchDuration#30,matchType#31,maxPlace#32,numGroups#33,rankPoints#34,revives#35,rideDistance#36,roadKills#37,swimDistance#38,teamKills#39,... 5 more fields] csv\n"
     ]
    }
   ],
   "source": [
    "#data.where(col('distance') == 0).where(col('weaponsAcquired') == 0).count()"
   ]
  },
  {
   "cell_type": "markdown",
   "id": "dangerous-london",
   "metadata": {},
   "source": [
    "## Discretizzazione target"
   ]
  },
  {
   "cell_type": "code",
   "execution_count": 16,
   "id": "adjusted-admission",
   "metadata": {},
   "outputs": [],
   "source": [
    "data = data.withColumn('winPlaceClass', when(col(\"winPlacePerc\") == 0, 6)\n",
    "                                .when(col(\"winPlacePerc\") == 1,  1)\n",
    "                                .when( (col(\"winPlacePerc\") > 0) & (col(\"winPlacePerc\") <= 0.25 ), 5)\n",
    "                                .when( (col(\"winPlacePerc\") > 0.25) & (col(\"winPlacePerc\") <= 0.5 ), 4)\n",
    "                                .when( (col(\"winPlacePerc\") > 0.5) & (col(\"winPlacePerc\") <= 0.75 ), 3)\n",
    "                                .when( (col(\"winPlacePerc\") > 0.75) & (col(\"winPlacePerc\") < 1 ), 2)\n",
    "               )\n",
    "\n",
    "data.createOrReplaceTempView(\"pubg\")"
   ]
  },
  {
   "cell_type": "code",
   "execution_count": 17,
   "id": "regulated-element",
   "metadata": {
    "scrolled": true
   },
   "outputs": [
    {
     "name": "stdout",
     "output_type": "stream",
     "text": [
      "+--------------+--------------+-------------+-------------+-------------+---------+--------+---------+---------------+----------+----------+----------+---------+---------+---------+---------+---------+---------+-----------------+-----------------+-----------------+---------------+-------------+-------------+-------------+---------------+-------------------+-------------------+-------------------+-------------------+------------------+---------------+------------------+------------------+------------------+------------------+----------------+----------------+-----------------+----------------+----------------+------------------+------------------+----------------+------------------+---------+---------+---------+-----------+-----------+-----------+-------------+-------------+-------------+-------------+--------------+--------------+-------------+\n",
      "|       groupId|       matchId|matchDuration|winPlaceClass|isFirstPerson|matchtype|maxPlace|numGroups|hasDisconnected|assist_SUM|assist_MAX|assist_AVG|heals_SUM|heals_MAX|heals_AVG|kills_SUM|kills_MAX|kills_AVG|headshotKills_SUM|headshotKills_MAX|headshotKills_AVG|killStreaks_MAX|roadKills_SUM|roadKills_MAX|roadKills_AVG|longestKill_MAX|vehicleDestroys_MAX|weaponsAcquired_SUM|weaponsAcquired_MAX|weaponsAcquired_AVG|   damageDealt_SUM|damageDealt_MAX|   damageDealt_AVG|      distance_SUM|      distance_MAX|      distance_AVG|rideDistance_SUM|rideDistance_MAX| rideDistance_AVG|swimDistance_SUM|swimDistance_MAX|  swimDistance_AVG|  walkDistance_SUM|walkDistance_MAX|  walkDistance_AVG|DBNOs_SUM|DBNOs_MAX|DBNOs_AVG|revives_SUM|revives_MAX|revives_AVG|teamKills_SUM|teamKills_MAX|teamKills_AVG|killPlace_MAX|rankPoints_MAX|killPoints_MAX|winPoints_MAX|\n",
      "+--------------+--------------+-------------+-------------+-------------+---------+--------+---------+---------------+----------+----------+----------+---------+---------+---------+---------+---------+---------+-----------------+-----------------+-----------------+---------------+-------------+-------------+-------------+---------------+-------------------+-------------------+-------------------+-------------------+------------------+---------------+------------------+------------------+------------------+------------------+----------------+----------------+-----------------+----------------+----------------+------------------+------------------+----------------+------------------+---------+---------+---------+-----------+-----------+-----------+-------------+-------------+-------------+-------------+--------------+--------------+-------------+\n",
      "|8d18d9587ea728|b8eb63ddd462ba|         1959|            4|         true|        4|      25|       24|              0|         1|         1|         0|       11|        7|        3|        3|        2|        1|                0|                0|                0|              1|            0|            0|            0|           28.2|                  0|                 19|                  8|                  6|            419.75|          268.6|139.91666666666666|            2147.2|             787.0| 715.7333333333332|             0.0|             0.0|              0.0|             0.0|             0.0|               0.0|            2147.2|           787.0| 715.7333333333332|        2|        2|        0|          2|          1|          0|            0|            0|            0|           53|          1486|             0|            0|\n",
      "|20f52977aa2654|96be3fe48d848a|         1842|            4|         true|        2|      47|       45|              1|         0|         0|         0|        1|        1|        0|        1|        1|        0|                0|                0|                0|              1|            0|            0|            0|          15.89|                  0|                 12|                  4|                  6|            164.68|          100.0|             82.34|1600.6999999999998|             537.9| 800.3499999999999|             0.0|             0.0|              0.0|             0.0|             0.0|               0.0|1600.6999999999998|           537.9| 800.3499999999999|        1|        1|        0|          0|          0|          0|            0|            0|            0|           71|          1513|             0|            0|\n",
      "|df36922667f5e6|649a068541fbb3|         1304|            4|         true|        1|      98|       97|              0|         1|         1|         1|        1|        1|        1|        0|        0|        0|                0|                0|                0|              0|            0|            0|            0|            0.0|                  0|                  3|                  3|                  3|             105.3|          105.3|             105.3|             84.13|             84.13|             84.13|             0.0|             0.0|              0.0|             0.0|             0.0|               0.0|             84.13|           84.13|             84.13|        0|        0|        0|          0|          0|          0|            0|            0|            0|           66|            -1|          1091|         1468|\n",
      "|0a0a2e893984ba|a9d4e41f813a9a|         1860|            2|         true|        1|      91|       89|              0|         0|         0|         0|        1|        1|        1|        2|        2|        2|                1|                1|                1|              1|            0|            0|            0|          168.4|                  0|                  5|                  5|                  5|             100.6|          100.6|             100.6|            5066.0|            5066.0|            5066.0|          1128.0|          1128.0|           1128.0|             0.0|             0.0|               0.0|            3938.0|          3938.0|            3938.0|        0|        0|        0|          0|          0|          0|            0|            0|            0|           11|          1523|             0|            0|\n",
      "|9f929c8a97f2cc|6d199eead30c23|         1755|            4|         true|        4|      27|       24|              1|         1|         1|         0|        0|        0|        0|        2|        1|        0|                0|                0|                0|              1|            0|            0|            0|          3.085|                  0|                 25|                  8|                  6|            220.83|          79.88|           55.2075|            5230.4|            1332.0|            1307.6|             0.0|             0.0|              0.0|             0.0|             0.0|               0.0|            5230.4|          1332.0|            1307.6|        3|        2|        0|          0|          0|          0|            0|            0|            0|           62|            -1|          1633|         1624|\n",
      "|39b496473e45b9|46f726c2403456|         1435|            5|        false|        2|      50|       45|              1|         2|         2|         1|        0|        0|        0|        4|        2|        2|                0|                0|                0|              2|            0|            0|            0|          45.54|                  0|                  6|                  2|                  3|             482.9|          200.0|            241.45|          437.1059|203.64589999999998|         218.55295|          0.0159|          0.0159|          0.00795|           11.23|           11.23|             5.615|            425.86|           192.4|            212.93|        2|        1|        1|          1|          1|          0|            0|            0|            0|           81|          1580|             0|            0|\n",
      "|7d224ba7e760ab|34931a75615feb|         1425|            3|         true|        1|      86|       84|              0|         0|         0|         0|        2|        2|        2|        1|        1|        1|                0|                0|                0|              1|            0|            0|            0|            0.0|                  0|                  6|                  6|                  6|             100.0|          100.0|             100.0|            2812.4|            2812.4|            2812.4|           909.4|           909.4|            909.4|             0.0|             0.0|               0.0|            1903.0|          1903.0|            1903.0|        0|        0|        0|          0|          0|          0|            0|            0|            0|           29|          1496|             0|            0|\n",
      "|b9916aafd8866e|12d12250424764|         1861|            4|         true|        4|      28|       26|              0|         0|         0|         0|        5|        5|        1|        1|        1|        0|                0|                0|                0|              1|            1|            1|            0|          5.274|                  0|                 15|                  6|                  3|            116.91|          100.0|           29.2275|16812.783900000002|          4582.362|4203.1959750000005|       6289.0119|          3503.0|      1572.252975|          15.772|            6.89|             3.943|           10508.0|          4130.0|            2627.0|        2|        1|        0|          0|          0|          0|            1|            1|            0|           68|          1494|             0|            0|\n",
      "|6e436783e868f8|24132072626e85|         1409|            3|         true|        4|      28|       28|              0|         0|         0|         0|        8|        7|        2|        1|        1|        0|                0|                0|                0|              1|            0|            0|            0|          86.13|                  0|                 13|                  5|                  4|             279.6|          228.4|              93.2|          3610.584|            1233.0|          1203.528|             0.0|             0.0|              0.0|          41.584|           38.53|13.861333333333334|            3569.0|          1233.0|1189.6666666666667|        0|        0|        0|          1|          1|          0|            0|            0|            0|           63|          1489|             0|            0|\n",
      "|cf934eb2a58c53|2fe1a41b8d3cc4|         1372|            2|        false|        4|      26|       25|              0|         1|         1|         0|        9|        5|        3|        0|        0|        0|                0|                0|                0|              0|            0|            0|            0|            0.0|                  0|                 15|                  6|                  5|250.92000000000002|          120.4|             83.64|            7508.6|            2693.4| 2502.866666666667|          2573.6|           881.3|857.8666666666667|             0.0|             0.0|               0.0|            4935.0|          1827.0|            1645.0|        0|        0|        0|          1|          1|          0|            0|            0|            0|           49|          1484|             0|            0|\n",
      "+--------------+--------------+-------------+-------------+-------------+---------+--------+---------+---------------+----------+----------+----------+---------+---------+---------+---------+---------+---------+-----------------+-----------------+-----------------+---------------+-------------+-------------+-------------+---------------+-------------------+-------------------+-------------------+-------------------+------------------+---------------+------------------+------------------+------------------+------------------+----------------+----------------+-----------------+----------------+----------------+------------------+------------------+----------------+------------------+---------+---------+---------+-----------+-----------+-----------+-------------+-------------+-------------+-------------+--------------+--------------+-------------+\n",
      "only showing top 10 rows\n",
      "\n"
     ]
    }
   ],
   "source": [
    "res = sqlCtx.sql(\"\"\"SELECT \n",
    "                        groupId, matchId, matchDuration, winPlaceClass, isFirstPerson, matchtype, maxPlace, numGroups,\n",
    "                        \n",
    "                        IF(COUNT(*) > matchtype, 1, 0) as hasDisconnected,\n",
    "                        \n",
    "                        SUM(assists) AS assist_SUM,\n",
    "                        MAX(assists) AS assist_MAX,\n",
    "                        IF(COUNT(*) > matchtype, INT(SUM(assists)/matchtype), INT(SUM(assists)/COUNT(*))) as assist_AVG,\n",
    "                            \n",
    "                        SUM(heals) AS heals_SUM, \n",
    "                        MAX(heals) AS heals_MAX,\n",
    "                        INT(IF(COUNT(*) > matchtype, SUM(heals)/matchtype, SUM(heals)/COUNT(*))) as heals_AVG,\n",
    "                            \n",
    "                        SUM(kills) AS kills_SUM, \n",
    "                        MAX(kills) AS kills_MAX,\n",
    "                        INT(IF(COUNT(*) > matchtype, SUM(kills)/matchtype, SUM(kills)/COUNT(*))) as kills_AVG,\n",
    "                            \n",
    "                        SUM(headshotKills) AS headshotKills_SUM, \n",
    "                        MAX(headshotKills) AS headshotKills_MAX, \n",
    "                        INT(IF(COUNT(*) > matchtype, SUM(headshotKills)/matchtype, SUM(headshotKills)/COUNT(*))) as headshotKills_AVG,\n",
    "                            \n",
    "                        MAX(killStreaks) AS killStreaks_MAX,\n",
    "                        \n",
    "                        SUM(roadKills) AS roadKills_SUM, \n",
    "                        MAX(roadKills) AS roadKills_MAX,\n",
    "                        INT(IF(COUNT(*) > matchtype, SUM(roadKills)/matchtype, SUM(roadKills)/COUNT(*))) as roadKills_AVG,\n",
    "                            \n",
    "                        MAX(longestKill) as longestKill_MAX,\n",
    "                            \n",
    "                        MAX(vehicleDestroys) AS vehicleDestroys_MAX, \n",
    "                            \n",
    "                        SUM(weaponsAcquired) AS weaponsAcquired_SUM, \n",
    "                        MAX(weaponsAcquired) AS weaponsAcquired_MAX,\n",
    "                        INT(IF(COUNT(*) > matchtype, SUM(weaponsAcquired)/matchtype, SUM(weaponsAcquired)/COUNT(*))) as weaponsAcquired_AVG,\n",
    "                            \n",
    "                        SUM(damageDealt) AS damageDealt_SUM, \n",
    "                        MAX(damageDealt) AS damageDealt_MAX,\n",
    "                        IF(COUNT(*) > matchtype, SUM(damageDealt)/matchtype, SUM(damageDealt)/COUNT(*)) as damageDealt_AVG,\n",
    "                        \n",
    "                        SUM(distance) AS distance_SUM, \n",
    "                        MAX(distance) AS distance_MAX, \n",
    "                        IF(COUNT(*) > matchtype, SUM(distance)/matchtype, SUM(distance)/COUNT(*)) as distance_AVG,\n",
    "                        \n",
    "                        SUM(rideDistance) AS rideDistance_SUM, \n",
    "                        MAX(rideDistance) AS rideDistance_MAX,\n",
    "                        IF(COUNT(*) > matchtype, SUM(rideDistance)/matchtype, SUM(rideDistance)/COUNT(*)) as rideDistance_AVG,\n",
    "                        \n",
    "                        SUM(swimDistance) AS swimDistance_SUM, \n",
    "                        MAX(swimDistance) AS swimDistance_MAX,\n",
    "                        IF(COUNT(*) > matchtype, SUM(swimDistance)/matchtype, SUM(swimDistance)/COUNT(*)) as swimDistance_AVG,\n",
    "                        \n",
    "                        SUM(walkDistance) AS walkDistance_SUM,\n",
    "                        MAX(walkDistance) AS walkDistance_MAX,\n",
    "                        IF(COUNT(*) > matchtype, SUM(walkDistance)/matchtype, SUM(walkDistance)/COUNT(*)) as walkDistance_AVG,\n",
    "                        \n",
    "                        SUM(DBNOs) AS DBNOs_SUM,\n",
    "                        MAX(DBNOs) AS DBNOs_MAX,\n",
    "                        IF(COUNT(*) > matchtype, INT(SUM(DBNOs)/matchtype), INT(SUM(DBNOs)/COUNT(*))) as DBNOs_AVG,\n",
    "                        \n",
    "                        SUM(revives) AS revives_SUM,\n",
    "                        MAX(revives) AS revives_MAX,\n",
    "                        IF(COUNT(*) > matchtype, INT(SUM(revives)/matchtype), INT(SUM(revives)/COUNT(*))) as revives_AVG,\n",
    "                        \n",
    "                        SUM(teamKills) AS teamKills_SUM,\n",
    "                        MAX(teamKills) AS teamKills_MAX,\n",
    "                        IF(COUNT(*) > matchtype, INT(SUM(teamKills)/matchtype), INT(SUM(teamKills)/COUNT(*))) as teamKills_AVG,\n",
    "\n",
    "                        MAX(killPlace) AS killPlace_MAX,\n",
    "                        MAX(rankPoints) AS rankPoints_MAX,\n",
    "                        MAX(killPoints) AS killPoints_MAX,\n",
    "                        MAX(winPoints) AS winPoints_MAX\n",
    "                         \n",
    "                         \n",
    "                    from pubg \n",
    "                    group by groupId, matchId, matchDuration, winPlaceClass, isFirstPerson, matchtype, maxPlace, numGroups\n",
    "                    \"\"\")\n",
    "\n",
    "res.show(10)"
   ]
  },
  {
   "cell_type": "code",
   "execution_count": 18,
   "id": "qualified-monster",
   "metadata": {},
   "outputs": [],
   "source": [
    "df = res\n",
    "df.repartition(1).write.option(\"header\",True).option(\"compression\",\"gzip\").csv(\"tmp\")\n",
    "!cp tmp/*.csv.gz GROUP2.csv.gz\n",
    "!rm -rf tmp/"
   ]
  },
  {
   "cell_type": "code",
   "execution_count": null,
   "id": "abandoned-migration",
   "metadata": {},
   "outputs": [],
   "source": []
  },
  {
   "cell_type": "code",
   "execution_count": null,
   "id": "thirty-dynamics",
   "metadata": {},
   "outputs": [],
   "source": []
  },
  {
   "cell_type": "markdown",
   "id": "enabling-banking",
   "metadata": {},
   "source": [
    "# Data understanding"
   ]
  },
  {
   "cell_type": "markdown",
   "id": "elect-allergy",
   "metadata": {},
   "source": [
    "data.summary().toPandas()"
   ]
  },
  {
   "cell_type": "code",
   "execution_count": 4,
   "id": "qualified-council",
   "metadata": {},
   "outputs": [
    {
     "data": {
      "text/html": [
       "<div>\n",
       "<style scoped>\n",
       "    .dataframe tbody tr th:only-of-type {\n",
       "        vertical-align: middle;\n",
       "    }\n",
       "\n",
       "    .dataframe tbody tr th {\n",
       "        vertical-align: top;\n",
       "    }\n",
       "\n",
       "    .dataframe thead th {\n",
       "        text-align: right;\n",
       "    }\n",
       "</style>\n",
       "<table border=\"1\" class=\"dataframe\">\n",
       "  <thead>\n",
       "    <tr style=\"text-align: right;\">\n",
       "      <th></th>\n",
       "      <th>Id</th>\n",
       "      <th>groupId</th>\n",
       "      <th>matchId</th>\n",
       "      <th>assists</th>\n",
       "      <th>boosts</th>\n",
       "      <th>damageDealt</th>\n",
       "      <th>DBNOs</th>\n",
       "      <th>headshotKills</th>\n",
       "      <th>heals</th>\n",
       "      <th>killPlace</th>\n",
       "      <th>...</th>\n",
       "      <th>revives</th>\n",
       "      <th>rideDistance</th>\n",
       "      <th>roadKills</th>\n",
       "      <th>swimDistance</th>\n",
       "      <th>teamKills</th>\n",
       "      <th>vehicleDestroys</th>\n",
       "      <th>walkDistance</th>\n",
       "      <th>weaponsAcquired</th>\n",
       "      <th>winPoints</th>\n",
       "      <th>winPlacePerc</th>\n",
       "    </tr>\n",
       "  </thead>\n",
       "  <tbody>\n",
       "    <tr>\n",
       "      <th>0</th>\n",
       "      <td>0</td>\n",
       "      <td>0</td>\n",
       "      <td>0</td>\n",
       "      <td>0</td>\n",
       "      <td>0</td>\n",
       "      <td>0</td>\n",
       "      <td>0</td>\n",
       "      <td>0</td>\n",
       "      <td>0</td>\n",
       "      <td>0</td>\n",
       "      <td>...</td>\n",
       "      <td>0</td>\n",
       "      <td>0</td>\n",
       "      <td>0</td>\n",
       "      <td>0</td>\n",
       "      <td>0</td>\n",
       "      <td>0</td>\n",
       "      <td>0</td>\n",
       "      <td>0</td>\n",
       "      <td>0</td>\n",
       "      <td>1</td>\n",
       "    </tr>\n",
       "  </tbody>\n",
       "</table>\n",
       "<p>1 rows × 29 columns</p>\n",
       "</div>"
      ],
      "text/plain": [
       "   Id  groupId  matchId  assists  boosts  damageDealt  DBNOs  headshotKills  \\\n",
       "0   0        0        0        0       0            0      0              0   \n",
       "\n",
       "   heals  killPlace  ...  revives  rideDistance  roadKills  swimDistance  \\\n",
       "0      0          0  ...        0             0          0             0   \n",
       "\n",
       "   teamKills  vehicleDestroys  walkDistance  weaponsAcquired  winPoints  \\\n",
       "0          0                0             0                0          0   \n",
       "\n",
       "   winPlacePerc  \n",
       "0             1  \n",
       "\n",
       "[1 rows x 29 columns]"
      ]
     },
     "execution_count": 4,
     "metadata": {},
     "output_type": "execute_result"
    }
   ],
   "source": [
    "# Find Count of Null, None, NaN of All DataFrame Columns\n",
    "from pyspark.sql.functions import col, isnan, when, count\n",
    "\n",
    "data.select([count(when(isnan(c) | col(c).isNull(), c)).alias(c) for c in data.columns]).toPandas()"
   ]
  },
  {
   "cell_type": "code",
   "execution_count": 5,
   "id": "valuable-pilot",
   "metadata": {},
   "outputs": [],
   "source": [
    "from pyspark.sql.functions import col\n",
    "\n",
    "data = data.dropna()"
   ]
  },
  {
   "cell_type": "code",
   "execution_count": null,
   "id": "major-inspection",
   "metadata": {},
   "outputs": [],
   "source": []
  },
  {
   "cell_type": "markdown",
   "id": "affected-welsh",
   "metadata": {},
   "source": [
    "## matchType\n",
    "string identifying the game mode that the data comes from. The standard modes are “solo”, “duo”, “squad”, “solo-fpp”, “duo-fpp”, and “squad-fpp”; other modes are from events or custom matches."
   ]
  },
  {
   "cell_type": "code",
   "execution_count": 6,
   "id": "lucky-springer",
   "metadata": {},
   "outputs": [
    {
     "data": {
      "text/plain": [
       "<matplotlib.axes._subplots.AxesSubplot at 0x7f84b2e35b20>"
      ]
     },
     "execution_count": 6,
     "metadata": {},
     "output_type": "execute_result"
    },
    {
     "data": {
      "image/png": "[encoded data removed]",
      "text/plain": [
       "<Figure size 432x288 with 1 Axes>"
      ]
     },
     "metadata": {
      "needs_background": "light"
     },
     "output_type": "display_data"
    }
   ],
   "source": [
    "tmp = sqlCtx.sql(\"\"\"SELECT matchtype, count(distinct groupId) as count FROM pubg GROUP BY matchtype ORDER BY count(distinct groupId)\"\"\")\n",
    "tmp.toPandas().set_index(\"matchtype\").plot(kind=\"bar\")"
   ]
  },
  {
   "cell_type": "code",
   "execution_count": 7,
   "id": "opposite-value",
   "metadata": {},
   "outputs": [],
   "source": [
    "#tmp.filter(col('count') > 10000)[['matchType']]\n",
    "toKeep = tmp.rdd.filter(lambda x: x[1] > 10000).map(lambda x: x[\"matchtype\"]).collect()"
   ]
  },
  {
   "cell_type": "code",
   "execution_count": 8,
   "id": "marked-grade",
   "metadata": {},
   "outputs": [
    {
     "data": {
      "text/plain": [
       "['duo', 'solo', 'squad', 'duo-fpp', 'squad-fpp', 'solo-fpp']"
      ]
     },
     "execution_count": 8,
     "metadata": {},
     "output_type": "execute_result"
    }
   ],
   "source": [
    "toKeep"
   ]
  },
  {
   "cell_type": "code",
   "execution_count": 9,
   "id": "covered-passion",
   "metadata": {},
   "outputs": [],
   "source": [
    "data = data.filter(data.matchType.isin(toKeep))\n",
    "data.createOrReplaceTempView(\"pubg\")"
   ]
  },
  {
   "cell_type": "code",
   "execution_count": 10,
   "id": "ceramic-entrepreneur",
   "metadata": {},
   "outputs": [
    {
     "data": {
      "text/plain": [
       "<matplotlib.axes._subplots.AxesSubplot at 0x7f84b2e99a90>"
      ]
     },
     "execution_count": 10,
     "metadata": {},
     "output_type": "execute_result"
    },
    {
     "data": {
      "image/png": "[encoded data removed]",
      "text/plain": [
       "<Figure size 432x288 with 1 Axes>"
      ]
     },
     "metadata": {
      "needs_background": "light"
     },
     "output_type": "display_data"
    }
   ],
   "source": [
    "tmp = sqlCtx.sql(\"\"\"SELECT matchtype, count(distinct groupId) as count FROM pubg GROUP BY matchtype ORDER BY count(distinct groupId)\"\"\")\n",
    "tmp.toPandas().set_index(\"matchtype\").plot(kind=\"bar\")"
   ]
  },
  {
   "cell_type": "markdown",
   "id": "saved-fighter",
   "metadata": {},
   "source": [
    "Creazione di una nuova colonna \"isFistPerson\" per indicare se il match è in modalità prima persona o meno"
   ]
  },
  {
   "cell_type": "code",
   "execution_count": 11,
   "id": "casual-cable",
   "metadata": {},
   "outputs": [],
   "source": [
    "data = data.withColumn(\"isFirstPerson\", when(col(\"matchtype\").contains(\"fpp\"), True).otherwise(False))"
   ]
  },
  {
   "cell_type": "markdown",
   "id": "literary-treaty",
   "metadata": {},
   "source": [
    "Si raggruppano i tipi di match in 3 categorie: solo, duo e squad"
   ]
  },
  {
   "cell_type": "code",
   "execution_count": 12,
   "id": "higher-involvement",
   "metadata": {},
   "outputs": [],
   "source": [
    "data = data.withColumn(\"matchtype\", when(col(\"matchtype\").contains(\"duo\"), 2)\n",
    "                           .when(col(\"matchtype\").contains(\"solo\"), 1)\n",
    "                           .otherwise(4))\n",
    "\n",
    "data.createOrReplaceTempView(\"pubg\")"
   ]
  },
  {
   "cell_type": "code",
   "execution_count": 13,
   "id": "perceived-guest",
   "metadata": {},
   "outputs": [
    {
     "data": {
      "text/plain": [
       "<matplotlib.axes._subplots.AxesSubplot at 0x7f84b2b71820>"
      ]
     },
     "execution_count": 13,
     "metadata": {},
     "output_type": "execute_result"
    },
    {
     "data": {
      "image/png": "[encoded data removed]",
      "text/plain": [
       "<Figure size 432x288 with 1 Axes>"
      ]
     },
     "metadata": {
      "needs_background": "light"
     },
     "output_type": "display_data"
    }
   ],
   "source": [
    "tmp = sqlCtx.sql(\"\"\"SELECT matchtype, count(distinct groupId) as count FROM pubg GROUP BY matchtype ORDER BY count(distinct groupId)\"\"\")\n",
    "tmp.toPandas().set_index(\"matchtype\").plot(kind=\"bar\")"
   ]
  },
  {
   "cell_type": "code",
   "execution_count": 14,
   "id": "grateful-happening",
   "metadata": {},
   "outputs": [
    {
     "data": {
      "text/html": [
       "<div>\n",
       "<style scoped>\n",
       "    .dataframe tbody tr th:only-of-type {\n",
       "        vertical-align: middle;\n",
       "    }\n",
       "\n",
       "    .dataframe tbody tr th {\n",
       "        vertical-align: top;\n",
       "    }\n",
       "\n",
       "    .dataframe thead th {\n",
       "        text-align: right;\n",
       "    }\n",
       "</style>\n",
       "<table border=\"1\" class=\"dataframe\">\n",
       "  <thead>\n",
       "    <tr style=\"text-align: right;\">\n",
       "      <th></th>\n",
       "      <th>matchtype</th>\n",
       "      <th>count</th>\n",
       "    </tr>\n",
       "  </thead>\n",
       "  <tbody>\n",
       "    <tr>\n",
       "      <th>0</th>\n",
       "      <td>2</td>\n",
       "      <td>638815</td>\n",
       "    </tr>\n",
       "    <tr>\n",
       "      <th>1</th>\n",
       "      <td>4</td>\n",
       "      <td>683241</td>\n",
       "    </tr>\n",
       "    <tr>\n",
       "      <th>2</th>\n",
       "      <td>1</td>\n",
       "      <td>692034</td>\n",
       "    </tr>\n",
       "  </tbody>\n",
       "</table>\n",
       "</div>"
      ],
      "text/plain": [
       "   matchtype   count\n",
       "0          2  638815\n",
       "1          4  683241\n",
       "2          1  692034"
      ]
     },
     "execution_count": 14,
     "metadata": {},
     "output_type": "execute_result"
    }
   ],
   "source": [
    "tmp.toPandas()"
   ]
  },
  {
   "cell_type": "code",
   "execution_count": null,
   "id": "associate-syria",
   "metadata": {},
   "outputs": [],
   "source": [
    "638815 * 2"
   ]
  },
  {
   "cell_type": "code",
   "execution_count": null,
   "id": "operational-brother",
   "metadata": {},
   "outputs": [],
   "source": [
    "683241 * 3"
   ]
  },
  {
   "cell_type": "code",
   "execution_count": null,
   "id": "accurate-river",
   "metadata": {},
   "outputs": [],
   "source": [
    "692035 * 1 + 683241 * 3.5 + 638815 * 2"
   ]
  },
  {
   "cell_type": "code",
   "execution_count": null,
   "id": "cross-andrew",
   "metadata": {},
   "outputs": [],
   "source": [
    "4702629 - 4411699"
   ]
  },
  {
   "cell_type": "code",
   "execution_count": null,
   "id": "infectious-serve",
   "metadata": {},
   "outputs": [],
   "source": [
    "#sample del dataframe spark per plotting\n",
    "seed = 42\n",
    "withReplacement=False\n",
    "df_pandas = data.sample(withReplacement, 0.2, seed).toPandas()\n",
    "\n",
    "df_pandas.columns"
   ]
  },
  {
   "cell_type": "markdown",
   "id": "perfect-wages",
   "metadata": {},
   "source": [
    "## Identificatori: Id, groupId, matchId"
   ]
  },
  {
   "cell_type": "markdown",
   "id": "serial-article",
   "metadata": {},
   "source": [
    "Id: unique identifier of a single player, which can partecipate or not in a team.\n",
    "\n",
    "groupId: ID to identify a group within a match. If the same group of players plays in different matches, they will have a different groupId each time.\n",
    "\n",
    "matchID: ID to identify match."
   ]
  },
  {
   "cell_type": "code",
   "execution_count": null,
   "id": "general-gross",
   "metadata": {},
   "outputs": [],
   "source": [
    "F'Record totali: {data.count()}'"
   ]
  },
  {
   "cell_type": "code",
   "execution_count": null,
   "id": "thirty-horizontal",
   "metadata": {},
   "outputs": [],
   "source": [
    "sqlCtx.sql(\"\"\"SELECT count(Id) FROM pubg\"\"\").show()\n",
    "sqlCtx.sql(\"\"\"SELECT count(distinct groupId) FROM pubg\"\"\").show()\n",
    "sqlCtx.sql(\"\"\"SELECT count(distinct matchId) FROM pubg\"\"\").show()"
   ]
  },
  {
   "cell_type": "code",
   "execution_count": null,
   "id": "developmental-gallery",
   "metadata": {},
   "outputs": [],
   "source": []
  },
  {
   "cell_type": "code",
   "execution_count": null,
   "id": "worldwide-sleep",
   "metadata": {
    "scrolled": true
   },
   "outputs": [],
   "source": [
    "lista = data.where(data.matchId == '6dc8ff871e21e6').rdd.map(lambda x: x[\"winPlacePerc\"]).collect()\n",
    "tmp = pd.DataFrame()\n",
    "lista.sort()\n",
    "tmp[\"0\"] = lista\n",
    "tmp[\"0\"].value_counts().sort_index().plot(kind=\"bar\")"
   ]
  },
  {
   "cell_type": "markdown",
   "id": "sustainable-thirty",
   "metadata": {},
   "source": [
    "## assist"
   ]
  },
  {
   "cell_type": "markdown",
   "id": "still-tumor",
   "metadata": {},
   "source": [
    "the assists means that i don't kill enemy but help kill enemy. So when you look at the variable, there is also a kill. In other words, if I kill the enemy? kill +1. but if I did not kill the enemy but helped kill the enemy?assists + 1"
   ]
  },
  {
   "cell_type": "code",
   "execution_count": null,
   "id": "swedish-playlist",
   "metadata": {},
   "outputs": [],
   "source": [
    "data.select('assists').summary().show()"
   ]
  },
  {
   "cell_type": "code",
   "execution_count": null,
   "id": "lovely-landing",
   "metadata": {},
   "outputs": [],
   "source": [
    "data.groupBy('assists').count().orderBy(col('count').desc()).toPandas().set_index('assists').plot(kind='bar')"
   ]
  },
  {
   "cell_type": "code",
   "execution_count": null,
   "id": "metric-summary",
   "metadata": {},
   "outputs": [],
   "source": [
    "cross_tab = data.crosstab('assists', 'matchtype').toPandas().sort_values(by=[\"assists_matchtype\"]).set_index('assists_matchtype')\n",
    "cross_tab.plot.bar(stacked=True)"
   ]
  },
  {
   "cell_type": "code",
   "execution_count": null,
   "id": "political-trunk",
   "metadata": {},
   "outputs": [],
   "source": []
  },
  {
   "cell_type": "markdown",
   "id": "informed-fossil",
   "metadata": {},
   "source": [
    "## boosts"
   ]
  },
  {
   "cell_type": "markdown",
   "id": "worse-builder",
   "metadata": {},
   "source": [
    "number of boost items used. Both 'boosts' and 'heals' variables are items that restore health. But the boosts immediately show the effect, and the heals show the effect slowly."
   ]
  },
  {
   "cell_type": "code",
   "execution_count": null,
   "id": "lined-geology",
   "metadata": {},
   "outputs": [],
   "source": [
    "data.select('boosts').summary().show()"
   ]
  },
  {
   "cell_type": "code",
   "execution_count": null,
   "id": "opened-baptist",
   "metadata": {},
   "outputs": [],
   "source": [
    "data.groupBy('boosts').count().orderBy(col('count').desc()).toPandas().set_index('boosts').plot(kind='barh')"
   ]
  },
  {
   "cell_type": "code",
   "execution_count": null,
   "id": "heavy-virgin",
   "metadata": {},
   "outputs": [],
   "source": []
  },
  {
   "cell_type": "markdown",
   "id": "answering-prime",
   "metadata": {},
   "source": [
    "## damageDealt"
   ]
  },
  {
   "cell_type": "markdown",
   "id": "seventh-computer",
   "metadata": {},
   "source": [
    "total damage dealt. Note: Self inflicted damage is subtracted. If it is not headshot, it does not die in one shot. So restores health by using boosts or heals. 'damageDealt' means how many bullets have ever been hit."
   ]
  },
  {
   "cell_type": "code",
   "execution_count": null,
   "id": "sunset-thickness",
   "metadata": {},
   "outputs": [],
   "source": [
    "data.select('damageDealt').summary().show()"
   ]
  },
  {
   "cell_type": "code",
   "execution_count": null,
   "id": "tough-warren",
   "metadata": {},
   "outputs": [],
   "source": [
    "df_pandas.damageDealt.hist(bins=20)"
   ]
  },
  {
   "cell_type": "code",
   "execution_count": null,
   "id": "incomplete-charger",
   "metadata": {},
   "outputs": [],
   "source": [
    "sns.boxplot(x=\"matchtype\", y=\"damageDealt\", data=df_pandas)"
   ]
  },
  {
   "cell_type": "code",
   "execution_count": null,
   "id": "curious-arthur",
   "metadata": {},
   "outputs": [],
   "source": [
    "sns.scatterplot(x=\"winPlacePerc\", y=\"damageDealt\", data=df_pandas)"
   ]
  },
  {
   "cell_type": "code",
   "execution_count": null,
   "id": "greatest-preliminary",
   "metadata": {},
   "outputs": [],
   "source": []
  },
  {
   "cell_type": "markdown",
   "id": "stuffed-chosen",
   "metadata": {},
   "source": [
    "## DBNOs\n",
    "number of enemy players knocked. DBNOs variable means Number of enemy players knocked. Knocked is not dead, but can not act. so if you are knocked, your colleagues can save you (revives variable) but if you died? you don't save... :("
   ]
  },
  {
   "cell_type": "code",
   "execution_count": null,
   "id": "mechanical-conviction",
   "metadata": {},
   "outputs": [],
   "source": [
    "data.select('DBNOs').summary().show()"
   ]
  },
  {
   "cell_type": "code",
   "execution_count": null,
   "id": "sensitive-confirmation",
   "metadata": {},
   "outputs": [],
   "source": [
    "data.groupBy('DBNOs').count().orderBy(col('count').desc()).toPandas().set_index('DBNOs').plot(kind='bar')"
   ]
  },
  {
   "cell_type": "code",
   "execution_count": null,
   "id": "phantom-ambassador",
   "metadata": {},
   "outputs": [],
   "source": [
    "sns.boxplot(x=\"matchtype\", y=\"DBNOs\", data=df_pandas)"
   ]
  },
  {
   "cell_type": "markdown",
   "id": "expected-police",
   "metadata": {},
   "source": [
    "Si osserva che DBNOs è sempre 0 per i match di tipo 'solo'"
   ]
  },
  {
   "cell_type": "code",
   "execution_count": null,
   "id": "lesser-better",
   "metadata": {},
   "outputs": [],
   "source": [
    "sns.scatterplot(x=\"winPlacePerc\", y=\"DBNOs\", data=df_pandas)"
   ]
  },
  {
   "cell_type": "markdown",
   "id": "tutorial-telescope",
   "metadata": {},
   "source": [
    "## headshotKills\n",
    "number of enemy players head-shotted's. It means that a bullet hit his head and he died right away. It's important that he died right away."
   ]
  },
  {
   "cell_type": "code",
   "execution_count": null,
   "id": "respective-wings",
   "metadata": {},
   "outputs": [],
   "source": [
    "data.select('headshotKills').summary().show()"
   ]
  },
  {
   "cell_type": "code",
   "execution_count": null,
   "id": "aggressive-corner",
   "metadata": {},
   "outputs": [],
   "source": [
    "data.groupBy('headshotKills').count().orderBy(col('count').desc()).toPandas().set_index('headshotKills').plot(kind='bar')"
   ]
  },
  {
   "cell_type": "code",
   "execution_count": null,
   "id": "defined-routine",
   "metadata": {},
   "outputs": [],
   "source": []
  },
  {
   "cell_type": "markdown",
   "id": "fatty-editing",
   "metadata": {},
   "source": [
    "## heals\n",
    " number of healing items used. See difference with 'boots'."
   ]
  },
  {
   "cell_type": "code",
   "execution_count": null,
   "id": "visible-barrier",
   "metadata": {},
   "outputs": [],
   "source": [
    "data.select('heals').summary().show()"
   ]
  },
  {
   "cell_type": "code",
   "execution_count": null,
   "id": "colonial-bulgaria",
   "metadata": {},
   "outputs": [],
   "source": [
    "df_pandas.heals.hist()"
   ]
  },
  {
   "cell_type": "code",
   "execution_count": null,
   "id": "adaptive-pavilion",
   "metadata": {},
   "outputs": [],
   "source": [
    "data.groupBy('matchtype').avg('heals').toPandas()"
   ]
  },
  {
   "cell_type": "code",
   "execution_count": null,
   "id": "electrical-violin",
   "metadata": {},
   "outputs": [],
   "source": [
    "sns.boxplot(x=\"matchtype\", y=\"heals\", data=df_pandas)"
   ]
  },
  {
   "cell_type": "markdown",
   "id": "champion-disposal",
   "metadata": {},
   "source": [
    "## killPlace\n",
    " ranking in match of number of enemy players killed.\n",
    " \n",
    "> cri: è una classifica che va sempre da 1 a 100 (se non ricordo male) anche nel caso dei gruppi, quindi non so quanto realmente i percentili abbiano senso (magari le persone che mancano sono quelle disconnesse... o magari spostano leggermente i percentili dalla classifica il fatto del doppio record in caso di riconnessione)"
   ]
  },
  {
   "cell_type": "code",
   "execution_count": null,
   "id": "incorporated-watts",
   "metadata": {},
   "outputs": [],
   "source": [
    "data.select('killPlace').summary().show()"
   ]
  },
  {
   "cell_type": "code",
   "execution_count": null,
   "id": "equal-preservation",
   "metadata": {},
   "outputs": [],
   "source": [
    "df_pandas.killPlace.hist(bins=10)"
   ]
  },
  {
   "cell_type": "code",
   "execution_count": null,
   "id": "built-services",
   "metadata": {},
   "outputs": [],
   "source": [
    "sns.scatterplot(x=\"winPlacePerc\", y=\"killPlace\", data=df_pandas)"
   ]
  },
  {
   "cell_type": "markdown",
   "id": "seasonal-ownership",
   "metadata": {},
   "source": [
    "## killPoints\n",
    "kills-based external ranking of player. (Think of this as an Elo ranking where only kills matter.) **If there is a value other than -1 in rankPoints, then any 0 in killPoints should be treated as a “None”.**"
   ]
  },
  {
   "cell_type": "code",
   "execution_count": null,
   "id": "married-vitamin",
   "metadata": {},
   "outputs": [],
   "source": [
    "data.filter(col('killPoints') > 0).select('killPoints').summary().show()"
   ]
  },
  {
   "cell_type": "code",
   "execution_count": null,
   "id": "pressed-league",
   "metadata": {},
   "outputs": [],
   "source": [
    "df_pandas[df_pandas.killPoints > 0].killPoints.hist()"
   ]
  },
  {
   "cell_type": "code",
   "execution_count": null,
   "id": "worthy-syntax",
   "metadata": {},
   "outputs": [],
   "source": []
  },
  {
   "cell_type": "markdown",
   "id": "innocent-ending",
   "metadata": {},
   "source": [
    "## kills\n",
    "number of enemy players killed.\n",
    "composed by 'headshotKills', 'roadKills', not 'teamKills'"
   ]
  },
  {
   "cell_type": "code",
   "execution_count": null,
   "id": "employed-briefs",
   "metadata": {},
   "outputs": [],
   "source": [
    "data.select('kills').summary().show()\n",
    "df_pandas[['kills', 'headshotKills', 'roadKills']].head(5)"
   ]
  },
  {
   "cell_type": "code",
   "execution_count": null,
   "id": "freelance-afghanistan",
   "metadata": {},
   "outputs": [],
   "source": [
    "#df_pandas.kills.hist()\n",
    "df = data.groupBy('kills').count().orderBy(col('count').desc()).toPandas().set_index('kills')\n",
    "df[df['count'] > 10000].plot(kind='bar', figsize=(10,5))"
   ]
  },
  {
   "cell_type": "code",
   "execution_count": null,
   "id": "disciplinary-spank",
   "metadata": {},
   "outputs": [],
   "source": [
    "cross_tab = data.crosstab('kills', 'matchtype').toPandas().sort_values(by=[\"kills_matchtype\"]).set_index('kills_matchtype')\n",
    "cross_tab[cross_tab > 1000].dropna().plot.bar(stacked=True)"
   ]
  },
  {
   "cell_type": "code",
   "execution_count": null,
   "id": "administrative-biology",
   "metadata": {},
   "outputs": [],
   "source": [
    "sns.scatterplot(x=\"winPlacePerc\", y=\"kills\", data=df_pandas)"
   ]
  },
  {
   "cell_type": "code",
   "execution_count": null,
   "id": "chemical-queue",
   "metadata": {},
   "outputs": [],
   "source": []
  },
  {
   "cell_type": "markdown",
   "id": "dietary-rouge",
   "metadata": {},
   "source": [
    "## killStreaks\n",
    "max number of enemy players killed in a short amount of time."
   ]
  },
  {
   "cell_type": "code",
   "execution_count": null,
   "id": "laden-norman",
   "metadata": {},
   "outputs": [],
   "source": [
    "data.select('kills').summary().show()"
   ]
  },
  {
   "cell_type": "code",
   "execution_count": null,
   "id": "broke-ability",
   "metadata": {},
   "outputs": [],
   "source": [
    "#df_pandas.kills.hist()\n",
    "data.groupBy('killStreaks').count().orderBy(col('count').desc()).toPandas().set_index('killStreaks').plot(kind='bar', figsize=(10,5))"
   ]
  },
  {
   "cell_type": "markdown",
   "id": "racial-brave",
   "metadata": {},
   "source": [
    "## longestKill\n",
    "longest distance between player and player killed at time of death. This may be misleading, as downing a player and driving away may lead to a large longestKill stat."
   ]
  },
  {
   "cell_type": "code",
   "execution_count": null,
   "id": "popular-youth",
   "metadata": {},
   "outputs": [],
   "source": [
    "data.select('longestKill').summary().show()"
   ]
  },
  {
   "cell_type": "code",
   "execution_count": null,
   "id": "accepted-writer",
   "metadata": {},
   "outputs": [],
   "source": [
    "data.filter(col('longestKill') > 0).select('longestKill').summary().show()"
   ]
  },
  {
   "cell_type": "code",
   "execution_count": null,
   "id": "identified-authorization",
   "metadata": {},
   "outputs": [],
   "source": [
    "df_pandas[df_pandas['longestKill'] > 0].longestKill.hist()"
   ]
  },
  {
   "cell_type": "code",
   "execution_count": null,
   "id": "tamil-jacob",
   "metadata": {},
   "outputs": [],
   "source": [
    "df_pandas[df_pandas['kills'] > 0].longestKill.hist()"
   ]
  },
  {
   "cell_type": "markdown",
   "id": "crucial-attempt",
   "metadata": {},
   "source": [
    "## matchDuration\n",
    "duration of whole single/teammate match in seconds.\n",
    "Uguale per tutti all'interno di un match"
   ]
  },
  {
   "cell_type": "code",
   "execution_count": null,
   "id": "prepared-heating",
   "metadata": {},
   "outputs": [],
   "source": [
    "data.where(col('matchid') == 'aeb375fc57110c').toPandas()[['groupId', 'matchDuration']].head(10)"
   ]
  },
  {
   "cell_type": "code",
   "execution_count": null,
   "id": "steady-testing",
   "metadata": {},
   "outputs": [],
   "source": [
    "data.select('matchDuration').summary().show()"
   ]
  },
  {
   "cell_type": "code",
   "execution_count": null,
   "id": "included-belly",
   "metadata": {},
   "outputs": [],
   "source": [
    "df_pandas.matchDuration.hist()"
   ]
  },
  {
   "cell_type": "code",
   "execution_count": null,
   "id": "entire-cleaner",
   "metadata": {},
   "outputs": [],
   "source": [
    "df_pandas['match_fpp'] = df_pandas['matchtype'].apply(lambda x: str(x)) + '_' + df_pandas['isFirstPerson'].apply(lambda x: str(x))"
   ]
  },
  {
   "cell_type": "code",
   "execution_count": null,
   "id": "based-adapter",
   "metadata": {},
   "outputs": [],
   "source": [
    "df_pandas['matchDurationMinutes'] = df_pandas['matchDuration']/60"
   ]
  },
  {
   "cell_type": "code",
   "execution_count": null,
   "id": "organic-montgomery",
   "metadata": {},
   "outputs": [],
   "source": [
    "sns.histplot(data=df_pandas, x='matchDuration', hue='match_fpp')"
   ]
  },
  {
   "cell_type": "code",
   "execution_count": null,
   "id": "democratic-acrobat",
   "metadata": {},
   "outputs": [],
   "source": [
    "sns.histplot(data=df_pandas, x='matchDurationMinutes', hue='match_fpp')"
   ]
  },
  {
   "cell_type": "markdown",
   "id": "union-commission",
   "metadata": {},
   "source": [
    "La durata del match dipende dalla mappa (forse)"
   ]
  },
  {
   "cell_type": "code",
   "execution_count": null,
   "id": "laden-latest",
   "metadata": {},
   "outputs": [],
   "source": [
    "sns.boxplot(data=df_pandas, x='match_fpp', y='matchDurationMinutes')"
   ]
  },
  {
   "cell_type": "code",
   "execution_count": null,
   "id": "fuzzy-reform",
   "metadata": {},
   "outputs": [],
   "source": [
    "#data.groupBy('matchType').avg('matchDuration').toPandas()"
   ]
  },
  {
   "cell_type": "markdown",
   "id": "backed-madrid",
   "metadata": {},
   "source": [
    "## maxPlace\n",
    "worst placement we have data for in the match. This may not match with numGroups, as sometimes the data skips over placements.\n",
    "\n",
    "> cri: questo invece abbiamo visto che dipende dal tipo di match, come numGroups, quindi forse ha poco senso forse analizzarlo in questo modo (strano però che il maxplace minimo faccia 2). \n",
    "\n",
    "> cri2: sia nel caso di maxPlace che in quello di numGroups i numeri dovrebbero essere inforno (poi ok, ci sono le disconnessioni ecc..): <=100 per matchtype=solo, <=50 per matchtype=duo e <=25 per matchtype=4. Ora, guardando il grafico all'inizio abbiamo visto che più o meno abbiamo lo stesso numero di **gruppi** (lo chiamerò g) per ogni tipo di match, ma tutti queste analisi le stiamo facendo con i dati con la granularità di una persona ==> quando andiamo a fare queste statistiche non combaciano i \"pesi\" con il grafico iniziale. Per le partite in solo abbiamo un peso che è 1 (1 gruppo = 1 persona), per le partite in duo abbiamo un peso di 2 (1 gruppo nel grafico di prima conta però almeno 2 record in queste statistiche) e per le partite in squadra abbiamo un peso che, nei migliori dei casi è 3. **Si capisce meglio guardando il grafico 69 dove non abbiamo fatto la distinct sul groupid**"
   ]
  },
  {
   "cell_type": "code",
   "execution_count": null,
   "id": "hungarian-nightmare",
   "metadata": {},
   "outputs": [],
   "source": [
    "data.select('maxPlace').summary().show()"
   ]
  },
  {
   "cell_type": "code",
   "execution_count": null,
   "id": "capable-commitment",
   "metadata": {},
   "outputs": [],
   "source": [
    "data.groupBy('matchtype').avg('maxPlace').toPandas()"
   ]
  },
  {
   "cell_type": "code",
   "execution_count": null,
   "id": "colored-seminar",
   "metadata": {},
   "outputs": [],
   "source": [
    "sns.histplot(data=df_pandas, x='maxPlace', hue='matchtype')"
   ]
  },
  {
   "cell_type": "code",
   "execution_count": null,
   "id": "present-relaxation",
   "metadata": {},
   "outputs": [],
   "source": [
    "sns.boxplot(x=\"matchtype\", y=\"maxPlace\", data=df_pandas)"
   ]
  },
  {
   "cell_type": "code",
   "execution_count": null,
   "id": "manufactured-introduction",
   "metadata": {},
   "outputs": [],
   "source": []
  },
  {
   "cell_type": "markdown",
   "id": "mounted-hometown",
   "metadata": {},
   "source": [
    "## numGroups\n",
    "number of groups we have data for in the match"
   ]
  },
  {
   "cell_type": "code",
   "execution_count": null,
   "id": "portuguese-spray",
   "metadata": {},
   "outputs": [],
   "source": [
    "data.select('numGroups').summary().show()"
   ]
  },
  {
   "cell_type": "code",
   "execution_count": null,
   "id": "funded-filename",
   "metadata": {},
   "outputs": [],
   "source": [
    "sns.histplot(data=df_pandas, x='numGroups', hue='matchtype')"
   ]
  },
  {
   "cell_type": "code",
   "execution_count": null,
   "id": "prescription-church",
   "metadata": {},
   "outputs": [],
   "source": [
    "sns.boxplot(x=\"matchtype\", y=\"numGroups\", data=df_pandas)"
   ]
  },
  {
   "cell_type": "code",
   "execution_count": null,
   "id": "embedded-ballet",
   "metadata": {},
   "outputs": [],
   "source": []
  },
  {
   "cell_type": "markdown",
   "id": "criminal-setting",
   "metadata": {},
   "source": [
    "## rankPoints\n",
    "Elo-like ranking of player. This ranking is inconsistent and is being deprecated in the API’s next version, so use with caution. **Value of -1 takes place of “None”.** => quindi il dropna all'inizio è inutile in questo caso. correggo il grafico della cella 81"
   ]
  },
  {
   "cell_type": "code",
   "execution_count": null,
   "id": "pleased-window",
   "metadata": {},
   "outputs": [],
   "source": [
    "data.filter(col('rankPoints') >= 0).select('rankPoints').summary().show()"
   ]
  },
  {
   "cell_type": "code",
   "execution_count": null,
   "id": "stupid-september",
   "metadata": {},
   "outputs": [],
   "source": [
    "df_pandas[df_pandas.rankPoints != -1].rankPoints.hist()"
   ]
  },
  {
   "cell_type": "code",
   "execution_count": null,
   "id": "personal-shadow",
   "metadata": {},
   "outputs": [],
   "source": []
  },
  {
   "cell_type": "markdown",
   "id": "moved-automation",
   "metadata": {},
   "source": [
    "## revives\n",
    " number of times this player revived teammates. I said above, if you knock, your teammates can save you. If a team member is saved, the revives are +1.\n",
    " "
   ]
  },
  {
   "cell_type": "code",
   "execution_count": null,
   "id": "higher-settle",
   "metadata": {},
   "outputs": [],
   "source": [
    "data.select('revives').summary().show()"
   ]
  },
  {
   "cell_type": "code",
   "execution_count": null,
   "id": "extensive-drama",
   "metadata": {},
   "outputs": [],
   "source": [
    "data.groupBy('revives').count().orderBy(col('count').desc()).toPandas().set_index('revives').plot(kind='bar')"
   ]
  },
  {
   "cell_type": "code",
   "execution_count": null,
   "id": "suspected-height",
   "metadata": {},
   "outputs": [],
   "source": []
  },
  {
   "cell_type": "markdown",
   "id": "critical-basement",
   "metadata": {},
   "source": [
    "## distance (swimDistance, walkDistance, rideDistance)\n",
    "Nuova variabile definita come la somma di swimDistance, walkDistance e rideDistance.\n",
    "\n",
    "rideDistance: total distance traveled in vehicles measured in meters. The PUBG game is so wide that it is hard to walk around.\n",
    "\n",
    "swimDistance: total distance traveled by swimming measured in meters. The map is wide, and there are some kind of river.\n",
    "\n",
    "total distance traveled on foot measured in meters."
   ]
  },
  {
   "cell_type": "code",
   "execution_count": 15,
   "id": "particular-sharing",
   "metadata": {},
   "outputs": [
    {
     "name": "stdout",
     "output_type": "stream",
     "text": [
      "+-------+------------------+\n",
      "|summary|          distance|\n",
      "+-------+------------------+\n",
      "|  count|           4411698|\n",
      "|   mean|1754.1804126073525|\n",
      "| stddev| 2172.929751875514|\n",
      "|    min|               0.0|\n",
      "|    25%|             157.4|\n",
      "|    50%|             780.0|\n",
      "|    75%|            2714.0|\n",
      "|    max|           41270.1|\n",
      "+-------+------------------+\n",
      "\n"
     ]
    }
   ],
   "source": [
    "data = data.withColumn(\"distance\", data['swimDistance'] + data['walkDistance'] + data['rideDistance'])\n",
    "data.select('distance').summary().show()"
   ]
  },
  {
   "cell_type": "code",
   "execution_count": null,
   "id": "intense-interface",
   "metadata": {},
   "outputs": [],
   "source": [
    "df_pandas.swimDistance.hist()"
   ]
  },
  {
   "cell_type": "code",
   "execution_count": null,
   "id": "characteristic-paint",
   "metadata": {},
   "outputs": [],
   "source": [
    "df_pandas.walkDistance.hist()"
   ]
  },
  {
   "cell_type": "code",
   "execution_count": null,
   "id": "vulnerable-pizza",
   "metadata": {},
   "outputs": [],
   "source": [
    "df_pandas.rideDistance.hist()"
   ]
  },
  {
   "cell_type": "markdown",
   "id": "potential-russian",
   "metadata": {},
   "source": [
    "## vehicleDestroys\n",
    "number of vehicles destroyed. We will rarely destroy a vehicle. In fact, it is very natural. It is difficult to destroy the car. And there is no profit by destroying the car. Even so, the destruction of a car can be thought of in the following sense: the enemy was in the car and shot the car, he hid the car in cover and shot the car or he broke a car with no meaning (strange players)."
   ]
  },
  {
   "cell_type": "code",
   "execution_count": null,
   "id": "atlantic-wheat",
   "metadata": {},
   "outputs": [],
   "source": [
    "data.select('vehicleDestroys').summary().show()"
   ]
  },
  {
   "cell_type": "code",
   "execution_count": null,
   "id": "mobile-proposal",
   "metadata": {},
   "outputs": [],
   "source": [
    "data.groupBy('vehicleDestroys').count().orderBy(col('count').desc()).toPandas().set_index('vehicleDestroys').plot(kind='bar')"
   ]
  },
  {
   "cell_type": "markdown",
   "id": "original-report",
   "metadata": {},
   "source": [
    "## roadKills\n",
    " number of kills while in a vehicle (it's hard to kill if you're in a car)."
   ]
  },
  {
   "cell_type": "code",
   "execution_count": null,
   "id": "imposed-marijuana",
   "metadata": {},
   "outputs": [],
   "source": [
    "data.select('roadKills').summary().show()"
   ]
  },
  {
   "cell_type": "code",
   "execution_count": null,
   "id": "comparable-recycling",
   "metadata": {},
   "outputs": [],
   "source": [
    "data.groupBy('roadKills').count().orderBy(col('count').desc()).toPandas().set_index('roadKills').plot(kind='bar')"
   ]
  },
  {
   "cell_type": "markdown",
   "id": "pending-continent",
   "metadata": {},
   "source": [
    "## weaponsAcquired\n",
    "number of weapons picked up. This game is a using gun , but it does not give a gun from the beginning. So you have to go around the map and look for weapons. In the process, you can also have heals, boosts and vehicles."
   ]
  },
  {
   "cell_type": "code",
   "execution_count": null,
   "id": "considerable-christopher",
   "metadata": {},
   "outputs": [],
   "source": [
    "data.select('weaponsAcquired').summary().show()"
   ]
  },
  {
   "cell_type": "code",
   "execution_count": null,
   "id": "powered-atlanta",
   "metadata": {},
   "outputs": [],
   "source": []
  },
  {
   "cell_type": "code",
   "execution_count": null,
   "id": "marine-communist",
   "metadata": {},
   "outputs": [],
   "source": [
    "data.columns"
   ]
  },
  {
   "cell_type": "code",
   "execution_count": 16,
   "id": "major-merchandise",
   "metadata": {},
   "outputs": [],
   "source": [
    "categorical_columns = [ 'matchType', 'Id', 'groupId', 'matchId']\n",
    "numerical_columns =[ 'assists',\n",
    "                     'boosts',\n",
    "                     'damageDealt',\n",
    "                     'DBNOs',\n",
    "                     'headshotKills',\n",
    "                     'heals',\n",
    "                     'killPlace',\n",
    "                     'killPoints',\n",
    "                     'kills',\n",
    "                     'killStreaks',\n",
    "                     'longestKill',\n",
    "                     'matchDuration',\n",
    "                     'maxPlace',\n",
    "                     'numGroups',\n",
    "                     'rankPoints',\n",
    "                     'revives',\n",
    "                     'rideDistance',\n",
    "                     'roadKills',\n",
    "                     'swimDistance',\n",
    "                     'teamKills',\n",
    "                     'vehicleDestroys',\n",
    "                     'walkDistance',\n",
    "                     'weaponsAcquired',\n",
    "                     'winPoints',\n",
    "                     'winPlacePerc',\n",
    "                     'distance']"
   ]
  },
  {
   "cell_type": "markdown",
   "id": "empty-deposit",
   "metadata": {},
   "source": [
    "# Correlazioni"
   ]
  },
  {
   "cell_type": "code",
   "execution_count": 17,
   "id": "healthy-victor",
   "metadata": {},
   "outputs": [],
   "source": [
    "from pyspark.ml.stat import Correlation\n",
    "from pyspark.ml.feature import VectorAssembler"
   ]
  },
  {
   "cell_type": "code",
   "execution_count": 18,
   "id": "valid-mitchell",
   "metadata": {},
   "outputs": [
    {
     "ename": "IllegalArgumentException",
     "evalue": "distance does not exist. Available: Id, groupId, matchId, assists, boosts, damageDealt, DBNOs, headshotKills, heals, killPlace, killPoints, kills, killStreaks, longestKill, matchDuration, matchType, maxPlace, numGroups, rankPoints, revives, rideDistance, roadKills, swimDistance, teamKills, vehicleDestroys, walkDistance, weaponsAcquired, winPoints, winPlacePerc",
     "output_type": "error",
     "traceback": [
      "\u001b[0;31m---------------------------------------------------------------------------\u001b[0m",
      "\u001b[0;31mIllegalArgumentException\u001b[0m                  Traceback (most recent call last)",
      "\u001b[0;32m<ipython-input-18-86c0b55e1260>\u001b[0m in \u001b[0;36m<module>\u001b[0;34m\u001b[0m\n\u001b[1;32m      2\u001b[0m \u001b[0mvector_col\u001b[0m \u001b[0;34m=\u001b[0m \u001b[0;34m\"corr_features\"\u001b[0m\u001b[0;34m\u001b[0m\u001b[0;34m\u001b[0m\u001b[0m\n\u001b[1;32m      3\u001b[0m \u001b[0massembler\u001b[0m \u001b[0;34m=\u001b[0m \u001b[0mVectorAssembler\u001b[0m\u001b[0;34m(\u001b[0m\u001b[0minputCols\u001b[0m\u001b[0;34m=\u001b[0m\u001b[0mnumerical_columns\u001b[0m\u001b[0;34m,\u001b[0m \u001b[0moutputCol\u001b[0m\u001b[0;34m=\u001b[0m\u001b[0mvector_col\u001b[0m\u001b[0;34m)\u001b[0m\u001b[0;34m\u001b[0m\u001b[0;34m\u001b[0m\u001b[0m\n\u001b[0;32m----> 4\u001b[0;31m \u001b[0mdf_vector\u001b[0m \u001b[0;34m=\u001b[0m \u001b[0massembler\u001b[0m\u001b[0;34m.\u001b[0m\u001b[0mtransform\u001b[0m\u001b[0;34m(\u001b[0m\u001b[0mdata\u001b[0m\u001b[0;34m)\u001b[0m\u001b[0;34m.\u001b[0m\u001b[0mselect\u001b[0m\u001b[0;34m(\u001b[0m\u001b[0mvector_col\u001b[0m\u001b[0;34m)\u001b[0m\u001b[0;34m\u001b[0m\u001b[0;34m\u001b[0m\u001b[0m\n\u001b[0m\u001b[1;32m      5\u001b[0m \u001b[0;34m\u001b[0m\u001b[0m\n\u001b[1;32m      6\u001b[0m \u001b[0;31m# get correlation matrix\u001b[0m\u001b[0;34m\u001b[0m\u001b[0;34m\u001b[0m\u001b[0;34m\u001b[0m\u001b[0m\n",
      "\u001b[0;32m/usr/local/lib/python3.8/dist-packages/pyspark/ml/base.py\u001b[0m in \u001b[0;36mtransform\u001b[0;34m(self, dataset, params)\u001b[0m\n\u001b[1;32m    215\u001b[0m                 \u001b[0;32mreturn\u001b[0m \u001b[0mself\u001b[0m\u001b[0;34m.\u001b[0m\u001b[0mcopy\u001b[0m\u001b[0;34m(\u001b[0m\u001b[0mparams\u001b[0m\u001b[0;34m)\u001b[0m\u001b[0;34m.\u001b[0m\u001b[0m_transform\u001b[0m\u001b[0;34m(\u001b[0m\u001b[0mdataset\u001b[0m\u001b[0;34m)\u001b[0m\u001b[0;34m\u001b[0m\u001b[0;34m\u001b[0m\u001b[0m\n\u001b[1;32m    216\u001b[0m             \u001b[0;32melse\u001b[0m\u001b[0;34m:\u001b[0m\u001b[0;34m\u001b[0m\u001b[0;34m\u001b[0m\u001b[0m\n\u001b[0;32m--> 217\u001b[0;31m                 \u001b[0;32mreturn\u001b[0m \u001b[0mself\u001b[0m\u001b[0;34m.\u001b[0m\u001b[0m_transform\u001b[0m\u001b[0;34m(\u001b[0m\u001b[0mdataset\u001b[0m\u001b[0;34m)\u001b[0m\u001b[0;34m\u001b[0m\u001b[0;34m\u001b[0m\u001b[0m\n\u001b[0m\u001b[1;32m    218\u001b[0m         \u001b[0;32melse\u001b[0m\u001b[0;34m:\u001b[0m\u001b[0;34m\u001b[0m\u001b[0;34m\u001b[0m\u001b[0m\n\u001b[1;32m    219\u001b[0m             \u001b[0;32mraise\u001b[0m \u001b[0mValueError\u001b[0m\u001b[0;34m(\u001b[0m\u001b[0;34m\"Params must be a param map but got %s.\"\u001b[0m \u001b[0;34m%\u001b[0m \u001b[0mtype\u001b[0m\u001b[0;34m(\u001b[0m\u001b[0mparams\u001b[0m\u001b[0;34m)\u001b[0m\u001b[0;34m)\u001b[0m\u001b[0;34m\u001b[0m\u001b[0;34m\u001b[0m\u001b[0m\n",
      "\u001b[0;32m/usr/local/lib/python3.8/dist-packages/pyspark/ml/wrapper.py\u001b[0m in \u001b[0;36m_transform\u001b[0;34m(self, dataset)\u001b[0m\n\u001b[1;32m    348\u001b[0m     \u001b[0;32mdef\u001b[0m \u001b[0m_transform\u001b[0m\u001b[0;34m(\u001b[0m\u001b[0mself\u001b[0m\u001b[0;34m,\u001b[0m \u001b[0mdataset\u001b[0m\u001b[0;34m)\u001b[0m\u001b[0;34m:\u001b[0m\u001b[0;34m\u001b[0m\u001b[0;34m\u001b[0m\u001b[0m\n\u001b[1;32m    349\u001b[0m         \u001b[0mself\u001b[0m\u001b[0;34m.\u001b[0m\u001b[0m_transfer_params_to_java\u001b[0m\u001b[0;34m(\u001b[0m\u001b[0;34m)\u001b[0m\u001b[0;34m\u001b[0m\u001b[0;34m\u001b[0m\u001b[0m\n\u001b[0;32m--> 350\u001b[0;31m         \u001b[0;32mreturn\u001b[0m \u001b[0mDataFrame\u001b[0m\u001b[0;34m(\u001b[0m\u001b[0mself\u001b[0m\u001b[0;34m.\u001b[0m\u001b[0m_java_obj\u001b[0m\u001b[0;34m.\u001b[0m\u001b[0mtransform\u001b[0m\u001b[0;34m(\u001b[0m\u001b[0mdataset\u001b[0m\u001b[0;34m.\u001b[0m\u001b[0m_jdf\u001b[0m\u001b[0;34m)\u001b[0m\u001b[0;34m,\u001b[0m \u001b[0mdataset\u001b[0m\u001b[0;34m.\u001b[0m\u001b[0msql_ctx\u001b[0m\u001b[0;34m)\u001b[0m\u001b[0;34m\u001b[0m\u001b[0;34m\u001b[0m\u001b[0m\n\u001b[0m\u001b[1;32m    351\u001b[0m \u001b[0;34m\u001b[0m\u001b[0m\n\u001b[1;32m    352\u001b[0m \u001b[0;34m\u001b[0m\u001b[0m\n",
      "\u001b[0;32m/usr/local/lib/python3.8/dist-packages/py4j/java_gateway.py\u001b[0m in \u001b[0;36m__call__\u001b[0;34m(self, *args)\u001b[0m\n\u001b[1;32m   1302\u001b[0m \u001b[0;34m\u001b[0m\u001b[0m\n\u001b[1;32m   1303\u001b[0m         \u001b[0manswer\u001b[0m \u001b[0;34m=\u001b[0m \u001b[0mself\u001b[0m\u001b[0;34m.\u001b[0m\u001b[0mgateway_client\u001b[0m\u001b[0;34m.\u001b[0m\u001b[0msend_command\u001b[0m\u001b[0;34m(\u001b[0m\u001b[0mcommand\u001b[0m\u001b[0;34m)\u001b[0m\u001b[0;34m\u001b[0m\u001b[0;34m\u001b[0m\u001b[0m\n\u001b[0;32m-> 1304\u001b[0;31m         return_value = get_return_value(\n\u001b[0m\u001b[1;32m   1305\u001b[0m             answer, self.gateway_client, self.target_id, self.name)\n\u001b[1;32m   1306\u001b[0m \u001b[0;34m\u001b[0m\u001b[0m\n",
      "\u001b[0;32m/usr/local/lib/python3.8/dist-packages/pyspark/sql/utils.py\u001b[0m in \u001b[0;36mdeco\u001b[0;34m(*a, **kw)\u001b[0m\n\u001b[1;32m    115\u001b[0m                 \u001b[0;31m# Hide where the exception came from that shows a non-Pythonic\u001b[0m\u001b[0;34m\u001b[0m\u001b[0;34m\u001b[0m\u001b[0;34m\u001b[0m\u001b[0m\n\u001b[1;32m    116\u001b[0m                 \u001b[0;31m# JVM exception message.\u001b[0m\u001b[0;34m\u001b[0m\u001b[0;34m\u001b[0m\u001b[0;34m\u001b[0m\u001b[0m\n\u001b[0;32m--> 117\u001b[0;31m                 \u001b[0;32mraise\u001b[0m \u001b[0mconverted\u001b[0m \u001b[0;32mfrom\u001b[0m \u001b[0;32mNone\u001b[0m\u001b[0;34m\u001b[0m\u001b[0;34m\u001b[0m\u001b[0m\n\u001b[0m\u001b[1;32m    118\u001b[0m             \u001b[0;32melse\u001b[0m\u001b[0;34m:\u001b[0m\u001b[0;34m\u001b[0m\u001b[0;34m\u001b[0m\u001b[0m\n\u001b[1;32m    119\u001b[0m                 \u001b[0;32mraise\u001b[0m\u001b[0;34m\u001b[0m\u001b[0;34m\u001b[0m\u001b[0m\n",
      "\u001b[0;31mIllegalArgumentException\u001b[0m: distance does not exist. Available: Id, groupId, matchId, assists, boosts, damageDealt, DBNOs, headshotKills, heals, killPlace, killPoints, kills, killStreaks, longestKill, matchDuration, matchType, maxPlace, numGroups, rankPoints, revives, rideDistance, roadKills, swimDistance, teamKills, vehicleDestroys, walkDistance, weaponsAcquired, winPoints, winPlacePerc"
     ]
    }
   ],
   "source": [
    "# convert to vector column first\n",
    "vector_col = \"corr_features\"\n",
    "assembler = VectorAssembler(inputCols=numerical_columns, outputCol=vector_col)\n",
    "df_vector = assembler.transform(data).select(vector_col)\n",
    "\n",
    "# get correlation matrix\n",
    "pearsonCorr = Correlation.corr(df_vector, vector_col, 'pearson').collect()[0][0]\n",
    "#spearmanCorr = Correlation.corr(df_vector, vector_col, 'spearman').collect()[0][0]  spearman ci mette tanto"
   ]
  },
  {
   "cell_type": "code",
   "execution_count": null,
   "id": "exact-machine",
   "metadata": {},
   "outputs": [],
   "source": [
    "import seaborn as sns\n",
    "cm = sns.light_palette(\"green\", as_cmap=True)\n",
    "\n",
    "pd.DataFrame(pearsonCorr.toArray(), numerical_columns, numerical_columns)\\\n",
    "    .style.applymap(lambda x: 'background-color:rgb({}, 255, {});'.format(255-x*155, 255-x*155) if x > 0 else 'background-color:rgb(255, {}, {});'.format(255+x*255, 255+x*255))"
   ]
  },
  {
   "cell_type": "markdown",
   "id": "hollow-kitchen",
   "metadata": {},
   "source": [
    "> Cri: ha senso fare la correlazione tra attributi che sono determinati dal match vs quelli che sono determinati dal giocatore? (io penso di si, ma forse è meglio che ci riflettiate anche voi)"
   ]
  },
  {
   "cell_type": "code",
   "execution_count": null,
   "id": "attempted-creature",
   "metadata": {},
   "outputs": [],
   "source": []
  },
  {
   "cell_type": "code",
   "execution_count": null,
   "id": "representative-loading",
   "metadata": {},
   "outputs": [],
   "source": []
  },
  {
   "cell_type": "code",
   "execution_count": null,
   "id": "seven-france",
   "metadata": {},
   "outputs": [],
   "source": []
  },
  {
   "cell_type": "code",
   "execution_count": null,
   "id": "completed-biography",
   "metadata": {},
   "outputs": [],
   "source": []
  },
  {
   "cell_type": "code",
   "execution_count": null,
   "id": "stainless-italic",
   "metadata": {},
   "outputs": [],
   "source": []
  },
  {
   "cell_type": "code",
   "execution_count": null,
   "id": "natural-caribbean",
   "metadata": {},
   "outputs": [],
   "source": []
  }
 ],
 "metadata": {
  "kernelspec": {
   "display_name": "Python 3",
   "language": "python",
   "name": "python3"
  },
  "language_info": {
   "codemirror_mode": {
    "name": "ipython",
    "version": 3
   },
   "file_extension": ".py",
   "mimetype": "text/x-python",
   "name": "python",
   "nbconvert_exporter": "python",
   "pygments_lexer": "ipython3",
   "version": "3.8.10"
  }
 },
 "nbformat": 4,
 "nbformat_minor": 5
}
