{
 "cells": [
  {
   "cell_type": "markdown",
   "id": "scientific-trunk",
   "metadata": {},
   "source": [
    "# Gente andate un attimo alla cella 66 (maxPlace) c'è una cosa che mi è venuta in mente che potrebbe dover farci cambiare tutti i grafici (vi scrivo alle 23 e 30, quindi ci sta siano baggianate e sia solo stanco)\n",
    "Se riesco domani vengo in chiamata intorno alle 11, quindi avviatela su teams se non vi dispiace"
   ]
  },
  {
   "cell_type": "markdown",
   "id": "advanced-wages",
   "metadata": {},
   "source": [
    "# Preprocessing generale\n",
    "\n",
    "Prima di tutto scegliamo di diminuire le modalità di gioco eliminando quelle che contengono pochi record (<10k) in questo modo otteniamo le combinazioni di prima o terza persona X solo, duo, sq4.\n",
    "\n",
    "Siccome è possibili giocare anche in sq3 andiamo a creare una nuova colonna con il numero effettivo di giocatori nella squadra (cri: alcune sq risultano da 5 persone????)\n",
    "\n",
    "Andiamo poi a trasformare il tipo di match in 2 colonne: #giocatoriMatch e isFirstPerson\n",
    "\n",
    "\n",
    "L'idea è quella di esplorare più strade:\n",
    "- Clustering: Il cluster diretto con i dati potrebbe andare ad individuare solo le modalità del match. \n",
    "  - Accorpiamo i dati e facciamo un clustering a livello di gruppi\n",
    "  - Proviamo a fare un clustering per ogni tipo di gruppo\n",
    "- Classificazione\n",
    "  - Classificatore base: ci individua già la divisione per match type? (decision tree, importanza feature)\n",
    "  - Classificatore con dati accorpati\n",
    "  - Classificatori diversi per ogni tipo di match"
   ]
  },
  {
   "cell_type": "code",
   "execution_count": null,
   "id": "chubby-equation",
   "metadata": {},
   "outputs": [],
   "source": []
  },
  {
   "cell_type": "markdown",
   "id": "traditional-management",
   "metadata": {},
   "source": [
    "## Divisione del tipo di match"
   ]
  },
  {
   "cell_type": "code",
   "execution_count": 29,
   "id": "superior-punishment",
   "metadata": {},
   "outputs": [
    {
     "ename": "ValueError",
     "evalue": "Cannot run multiple SparkContexts at once; existing SparkContext(app=MY-APP-NAME, master=local[*]) created by __init__ at <ipython-input-1-94f350c1e0f4>:15 ",
     "output_type": "error",
     "traceback": [
      "\u001b[0;31m---------------------------------------------------------------------------\u001b[0m",
      "\u001b[0;31mValueError\u001b[0m                                Traceback (most recent call last)",
      "\u001b[0;32m<ipython-input-29-94f350c1e0f4>\u001b[0m in \u001b[0;36m<module>\u001b[0;34m\u001b[0m\n\u001b[1;32m     13\u001b[0m \u001b[0;34m\u001b[0m\u001b[0m\n\u001b[1;32m     14\u001b[0m \u001b[0;31m# initialize a new Spark Context to use for the execution of the script\u001b[0m\u001b[0;34m\u001b[0m\u001b[0;34m\u001b[0m\u001b[0;34m\u001b[0m\u001b[0m\n\u001b[0;32m---> 15\u001b[0;31m \u001b[0msc\u001b[0m \u001b[0;34m=\u001b[0m \u001b[0mSparkContext\u001b[0m\u001b[0;34m(\u001b[0m\u001b[0mappName\u001b[0m\u001b[0;34m=\u001b[0m\u001b[0;34m\"MY-APP-NAME\"\u001b[0m\u001b[0;34m,\u001b[0m \u001b[0mmaster\u001b[0m\u001b[0;34m=\u001b[0m\u001b[0;34m\"local[*]\"\u001b[0m\u001b[0;34m)\u001b[0m\u001b[0;34m\u001b[0m\u001b[0;34m\u001b[0m\u001b[0m\n\u001b[0m\u001b[1;32m     16\u001b[0m \u001b[0;31m#sqlCtx = SQLContext(sc)\u001b[0m\u001b[0;34m\u001b[0m\u001b[0;34m\u001b[0m\u001b[0;34m\u001b[0m\u001b[0m\n\u001b[1;32m     17\u001b[0m \u001b[0;31m# prevent useless logging messages\u001b[0m\u001b[0;34m\u001b[0m\u001b[0;34m\u001b[0m\u001b[0;34m\u001b[0m\u001b[0m\n",
      "\u001b[0;32m/usr/local/lib/python3.8/dist-packages/pyspark/context.py\u001b[0m in \u001b[0;36m__init__\u001b[0;34m(self, master, appName, sparkHome, pyFiles, environment, batchSize, serializer, conf, gateway, jsc, profiler_cls)\u001b[0m\n\u001b[1;32m    142\u001b[0m                 \" is not allowed as it is a security risk.\")\n\u001b[1;32m    143\u001b[0m \u001b[0;34m\u001b[0m\u001b[0m\n\u001b[0;32m--> 144\u001b[0;31m         \u001b[0mSparkContext\u001b[0m\u001b[0;34m.\u001b[0m\u001b[0m_ensure_initialized\u001b[0m\u001b[0;34m(\u001b[0m\u001b[0mself\u001b[0m\u001b[0;34m,\u001b[0m \u001b[0mgateway\u001b[0m\u001b[0;34m=\u001b[0m\u001b[0mgateway\u001b[0m\u001b[0;34m,\u001b[0m \u001b[0mconf\u001b[0m\u001b[0;34m=\u001b[0m\u001b[0mconf\u001b[0m\u001b[0;34m)\u001b[0m\u001b[0;34m\u001b[0m\u001b[0;34m\u001b[0m\u001b[0m\n\u001b[0m\u001b[1;32m    145\u001b[0m         \u001b[0;32mtry\u001b[0m\u001b[0;34m:\u001b[0m\u001b[0;34m\u001b[0m\u001b[0;34m\u001b[0m\u001b[0m\n\u001b[1;32m    146\u001b[0m             self._do_init(master, appName, sparkHome, pyFiles, environment, batchSize, serializer,\n",
      "\u001b[0;32m/usr/local/lib/python3.8/dist-packages/pyspark/context.py\u001b[0m in \u001b[0;36m_ensure_initialized\u001b[0;34m(cls, instance, gateway, conf)\u001b[0m\n\u001b[1;32m    340\u001b[0m \u001b[0;34m\u001b[0m\u001b[0m\n\u001b[1;32m    341\u001b[0m                     \u001b[0;31m# Raise error if there is already a running Spark context\u001b[0m\u001b[0;34m\u001b[0m\u001b[0;34m\u001b[0m\u001b[0;34m\u001b[0m\u001b[0m\n\u001b[0;32m--> 342\u001b[0;31m                     raise ValueError(\n\u001b[0m\u001b[1;32m    343\u001b[0m                         \u001b[0;34m\"Cannot run multiple SparkContexts at once; \"\u001b[0m\u001b[0;34m\u001b[0m\u001b[0;34m\u001b[0m\u001b[0m\n\u001b[1;32m    344\u001b[0m                         \u001b[0;34m\"existing SparkContext(app=%s, master=%s)\"\u001b[0m\u001b[0;34m\u001b[0m\u001b[0;34m\u001b[0m\u001b[0m\n",
      "\u001b[0;31mValueError\u001b[0m: Cannot run multiple SparkContexts at once; existing SparkContext(app=MY-APP-NAME, master=local[*]) created by __init__ at <ipython-input-1-94f350c1e0f4>:15 "
     ]
    }
   ],
   "source": [
    "%matplotlib inline\n",
    "\n",
    "import numpy as np\n",
    "import pandas as pd\n",
    "import matplotlib.pyplot as pltù\n",
    "import seaborn as sns\n",
    "\n",
    "from pyspark.sql import SparkSession\n",
    "from pyspark import SparkContext\n",
    "from pyspark.sql.functions import *\n",
    "#from pyspark.sql import SQLContext\n",
    "\n",
    "\n",
    "# initialize a new Spark Context to use for the execution of the script\n",
    "sc = SparkContext(appName=\"MY-APP-NAME\", master=\"local[*]\")\n",
    "#sqlCtx = SQLContext(sc)\n",
    "# prevent useless logging messages\n",
    "sc.setLogLevel(\"ERROR\")\n",
    "\n",
    "from pyspark.sql import SparkSession\n",
    "import pandas as pd\n",
    "\n",
    "spark = SparkSession.builder \\\n",
    "    .master(\"local\") \\\n",
    "    .appName(\"AppName\") \\\n",
    "    .getOrCreate()\n",
    "\n",
    "\n",
    "# load the dataset\n",
    "data = spark.read.csv(\"data.csv\", header=True, sep=',',inferSchema=\"true\")\n",
    "data.dtypes"
   ]
  },
  {
   "cell_type": "code",
   "execution_count": 2,
   "id": "mysterious-venice",
   "metadata": {},
   "outputs": [],
   "source": [
    "from pyspark.sql import SQLContext\n",
    "\n",
    "sqlCtx = SQLContext(sc)\n",
    "\n",
    "data.createOrReplaceTempView(\"pubg\")\n",
    "data.createOrReplaceTempView(\"pubg_original\")"
   ]
  },
  {
   "cell_type": "code",
   "execution_count": null,
   "id": "dressed-agency",
   "metadata": {},
   "outputs": [],
   "source": []
  },
  {
   "cell_type": "code",
   "execution_count": null,
   "id": "clean-replacement",
   "metadata": {},
   "outputs": [],
   "source": []
  },
  {
   "cell_type": "code",
   "execution_count": null,
   "id": "cognitive-ferry",
   "metadata": {},
   "outputs": [],
   "source": []
  },
  {
   "cell_type": "markdown",
   "id": "local-prerequisite",
   "metadata": {},
   "source": [
    "## Discretizzazione della target variable"
   ]
  },
  {
   "cell_type": "code",
   "execution_count": 10,
   "id": "excited-detective",
   "metadata": {},
   "outputs": [],
   "source": [
    "#data = data.withColumn(\"winPlacePerc\", when(col(\"winPlacePerc\") == 0 , 2)\n",
    "#                           .when(col(\"matchtype\").contains(\"solo\"), 1)\n",
    "#                           .otherwise(4))\n",
    "#\n",
    "data.createOrReplaceTempView(\"pubg\")"
   ]
  },
  {
   "cell_type": "code",
   "execution_count": 11,
   "id": "refined-withdrawal",
   "metadata": {},
   "outputs": [],
   "source": [
    "lista = data.where(data.numGroups == 26).rdd.map(lambda x: x[\"winPlacePerc\"]).collect()"
   ]
  },
  {
   "cell_type": "code",
   "execution_count": 12,
   "id": "unique-protein",
   "metadata": {},
   "outputs": [],
   "source": [
    "tmp = sqlCtx.sql(\"\"\"SELECT winPlacePerc FROM pubg where numGroups = 25\"\"\")"
   ]
  },
  {
   "cell_type": "code",
   "execution_count": 13,
   "id": "ranking-organization",
   "metadata": {},
   "outputs": [
    {
     "data": {
      "text/plain": [
       "[0.4444,\n",
       " 0.7308,\n",
       " 0.1923,\n",
       " 0.52,\n",
       " 0.2222,\n",
       " 0.64,\n",
       " 0.72,\n",
       " 0.4231,\n",
       " 0.3462,\n",
       " 0.6538,\n",
       " 0.8889,\n",
       " 0.0769,\n",
       " 0.5385,\n",
       " 0.9259,\n",
       " 0.0741,\n",
       " 0.5385,\n",
       " 0.08,\n",
       " 0.1071,\n",
       " 0.92,\n",
       " 0.0,\n",
       " 0.6923,\n",
       " 0.1852,\n",
       " 0.4444,\n",
       " 0.3462,\n",
       " 0.6154,\n",
       " 0.44,\n",
       " 0.8148,\n",
       " 0.48,\n",
       " 0.037,\n",
       " 0.1786,\n",
       " 0.1852,\n",
       " 0.16,\n",
       " 0.12,\n",
       " 0.8462,\n",
       " 0.0741,\n",
       " 0.3704,\n",
       " 0.0385,\n",
       " 0.6923,\n",
       " 0.0,\n",
       " 0.76,\n",
       " 0.16,\n",
       " 0.1154,\n",
       " 0.7692,\n",
       " 0.3462,\n",
       " 0.2963,\n",
       " 1.0,\n",
       " 0.9259,\n",
       " 0.1154,\n",
       " 0.12,\n",
       " 0.3077,\n",
       " 1.0,\n",
       " 0.8077,\n",
       " 0.28,\n",
       " 0.36,\n",
       " 0.9259,\n",
       " 0.7143,\n",
       " 0.7778,\n",
       " 0.4643,\n",
       " 0.44,\n",
       " 0.9231,\n",
       " 0.3077,\n",
       " 0.0,\n",
       " 0.84,\n",
       " 0.32,\n",
       " 0.3462,\n",
       " 0.5385,\n",
       " 0.2857,\n",
       " 0.1481,\n",
       " 0.76,\n",
       " 0.76,\n",
       " 0.2069,\n",
       " 0.3462,\n",
       " 0.0,\n",
       " 1.0,\n",
       " 0.52,\n",
       " 0.0,\n",
       " 0.0385,\n",
       " 0.5769,\n",
       " 0.32,\n",
       " 0.12,\n",
       " 0.48,\n",
       " 0.76,\n",
       " 0.3077,\n",
       " 0.68,\n",
       " 0.24,\n",
       " 0.8148,\n",
       " 0.88,\n",
       " 0.2593,\n",
       " 0.7308,\n",
       " 0.2593,\n",
       " 0.0769,\n",
       " 1.0,\n",
       " 0.8462,\n",
       " 0.36,\n",
       " 0.2222,\n",
       " 1.0,\n",
       " 0.72,\n",
       " 0.1154,\n",
       " 0.92,\n",
       " 0.6923,\n",
       " 0.8462,\n",
       " 0.0769,\n",
       " 0.0741,\n",
       " 0.2308,\n",
       " 0.2692,\n",
       " 0.0,\n",
       " 0.7692,\n",
       " 0.4074,\n",
       " 0.0,\n",
       " 0.2692,\n",
       " 0.04,\n",
       " 0.44,\n",
       " 0.3077,\n",
       " 0.7308,\n",
       " 0.4231,\n",
       " 0.3077,\n",
       " 0.7037,\n",
       " 0.6667,\n",
       " 0.7692,\n",
       " 0.6154,\n",
       " 0.4231,\n",
       " 0.32,\n",
       " 0.52,\n",
       " 0.4444,\n",
       " 0.5769,\n",
       " 0.16,\n",
       " 0.8519,\n",
       " 0.2308,\n",
       " 0.0,\n",
       " 1.0,\n",
       " 0.0333,\n",
       " 0.0769,\n",
       " 0.1923,\n",
       " 0.0385,\n",
       " 0.7308,\n",
       " 0.8846,\n",
       " 0.4231,\n",
       " 0.3846,\n",
       " 0.1923,\n",
       " 0.0714,\n",
       " 0.6897,\n",
       " 0.6538,\n",
       " 0.0,\n",
       " 0.2963,\n",
       " 0.0385,\n",
       " 0.0769,\n",
       " 0.3077,\n",
       " 0.9231,\n",
       " 0.04,\n",
       " 0.28,\n",
       " 0.3704,\n",
       " 0.96,\n",
       " 0.8462,\n",
       " 0.2222,\n",
       " 0.9231,\n",
       " 0.25,\n",
       " 0.28,\n",
       " 0.2857,\n",
       " 0.7037,\n",
       " 0.0,\n",
       " 0.5385,\n",
       " 0.963,\n",
       " 0.08,\n",
       " 0.8519,\n",
       " 0.9231,\n",
       " 0.0,\n",
       " 0.2143,\n",
       " 0.8077,\n",
       " 0.5926,\n",
       " 0.037,\n",
       " 0.963,\n",
       " 0.88,\n",
       " 0.8077,\n",
       " 0.44,\n",
       " 0.7308,\n",
       " 1.0,\n",
       " 0.2692,\n",
       " 0.0769,\n",
       " 0.0,\n",
       " 0.0,\n",
       " 0.16,\n",
       " 0.52,\n",
       " 0.3462,\n",
       " 0.8889,\n",
       " 0.3704,\n",
       " 0.5185,\n",
       " 0.92,\n",
       " 0.5172,\n",
       " 0.1786,\n",
       " 0.7143,\n",
       " 0.6538,\n",
       " 0.84,\n",
       " 0.0769,\n",
       " 0.1538,\n",
       " 0.6296,\n",
       " 0.5385,\n",
       " 0.9231,\n",
       " 0.3846,\n",
       " 1.0,\n",
       " 0.1538,\n",
       " 0.2308,\n",
       " 0.0769,\n",
       " 0.0,\n",
       " 0.68,\n",
       " 0.1154,\n",
       " 0.0,\n",
       " 0.5,\n",
       " 0.1923,\n",
       " 0.12,\n",
       " 0.25,\n",
       " 0.6923,\n",
       " 0.4815,\n",
       " 0.08,\n",
       " 0.96,\n",
       " 0.1071,\n",
       " 0.6667,\n",
       " 0.0,\n",
       " 0.24,\n",
       " 0.4615,\n",
       " 0.7778,\n",
       " 0.1923,\n",
       " 0.6538,\n",
       " 0.1111,\n",
       " 1.0,\n",
       " 0.5926,\n",
       " 0.12,\n",
       " 0.5385,\n",
       " 0.6923,\n",
       " 0.72,\n",
       " 0.0714,\n",
       " 0.8889,\n",
       " 0.7407,\n",
       " 0.2963,\n",
       " 0.8846,\n",
       " 0.2692,\n",
       " 0.2692,\n",
       " 0.68,\n",
       " 0.2692,\n",
       " 0.1923,\n",
       " 0.6923,\n",
       " 0.3462,\n",
       " 0.3704,\n",
       " 0.7037,\n",
       " 0.1923,\n",
       " 0.5556,\n",
       " 0.4,\n",
       " 0.1538,\n",
       " 0.6,\n",
       " 0.48,\n",
       " 0.44,\n",
       " 0.4231,\n",
       " 1.0,\n",
       " 0.8,\n",
       " 0.037,\n",
       " 0.2,\n",
       " 0.3846,\n",
       " 0.1538,\n",
       " 0.04,\n",
       " 0.6538,\n",
       " 0.52,\n",
       " 0.3462,\n",
       " 0.5926,\n",
       " 0.2963,\n",
       " 0.7308,\n",
       " 0.72,\n",
       " 0.0,\n",
       " 0.68,\n",
       " 0.9615,\n",
       " 0.6923,\n",
       " 0.32,\n",
       " 0.7308,\n",
       " 0.5769,\n",
       " 0.0,\n",
       " 0.037,\n",
       " 0.6296,\n",
       " 0.1923,\n",
       " 0.6538,\n",
       " 0.1154,\n",
       " 0.08,\n",
       " 0.48,\n",
       " 0.08,\n",
       " 0.6923,\n",
       " 1.0,\n",
       " 0.0,\n",
       " 0.84,\n",
       " 0.3462,\n",
       " 0.2222,\n",
       " 0.8077,\n",
       " 1.0,\n",
       " 0.037,\n",
       " 0.25,\n",
       " 0.8571,\n",
       " 0.4615,\n",
       " 0.1154,\n",
       " 0.1154,\n",
       " 0.44,\n",
       " 0.7308,\n",
       " 0.68,\n",
       " 0.0,\n",
       " 0.9259,\n",
       " 0.52,\n",
       " 0.1923,\n",
       " 0.6923,\n",
       " 0.84,\n",
       " 0.4815,\n",
       " 0.7308,\n",
       " 0.0769,\n",
       " 0.6667,\n",
       " 0.6154,\n",
       " 0.0,\n",
       " 0.2,\n",
       " 0.1481,\n",
       " 0.4231,\n",
       " 0.28,\n",
       " 0.0,\n",
       " 1.0,\n",
       " 0.84,\n",
       " 0.0385,\n",
       " 1.0,\n",
       " 0.72,\n",
       " 0.7692,\n",
       " 0.3462,\n",
       " 0.037,\n",
       " 0.1154,\n",
       " 0.7308,\n",
       " 0.8462,\n",
       " 0.2692,\n",
       " 0.4286,\n",
       " 0.0769,\n",
       " 0.1538,\n",
       " 0.6296,\n",
       " 0.3704,\n",
       " 0.5926,\n",
       " 0.2222,\n",
       " 0.3704,\n",
       " 0.4615,\n",
       " 0.7692,\n",
       " 0.6296,\n",
       " 0.7037,\n",
       " 0.7308,\n",
       " 0.2308,\n",
       " 0.2593,\n",
       " 0.2308,\n",
       " 0.3462,\n",
       " 0.1852,\n",
       " 0.0345,\n",
       " 0.8077,\n",
       " 0.2,\n",
       " 0.0,\n",
       " 0.1923,\n",
       " 0.7407,\n",
       " 0.5185,\n",
       " 0.6667,\n",
       " 0.52,\n",
       " 0.52,\n",
       " 0.12,\n",
       " 0.9231,\n",
       " 0.0,\n",
       " 0.4231,\n",
       " 0.3333,\n",
       " 0.8214,\n",
       " 0.9615,\n",
       " 0.8846,\n",
       " 0.3846,\n",
       " 0.9615,\n",
       " 0.1111,\n",
       " 0.037,\n",
       " 0.2692,\n",
       " 0.0,\n",
       " 0.2692,\n",
       " 0.84,\n",
       " 0.8889,\n",
       " 0.84,\n",
       " 0.04,\n",
       " 0.28,\n",
       " 0.0714,\n",
       " 0.0769,\n",
       " 0.96,\n",
       " 0.8929,\n",
       " 0.963,\n",
       " 1.0,\n",
       " 0.1154,\n",
       " 0.08,\n",
       " 0.64,\n",
       " 0.1111,\n",
       " 0.5769,\n",
       " 0.32,\n",
       " 0.8148,\n",
       " 0.0,\n",
       " 0.8148,\n",
       " 0.8214,\n",
       " 0.0385,\n",
       " 0.2593,\n",
       " 0.7037,\n",
       " 0.4,\n",
       " 0.3462,\n",
       " 0.5556,\n",
       " 1.0,\n",
       " 0.1111,\n",
       " 0.32,\n",
       " 1.0,\n",
       " 0.2308,\n",
       " 0.88,\n",
       " 0.4,\n",
       " 0.3846,\n",
       " 0.04,\n",
       " 0.2692,\n",
       " 0.0,\n",
       " 0.1111,\n",
       " 0.8,\n",
       " 0.96,\n",
       " 0.6923,\n",
       " 0.037,\n",
       " 0.1429,\n",
       " 0.0741,\n",
       " 0.0,\n",
       " 0.4444,\n",
       " 0.3077,\n",
       " 0.6538,\n",
       " 0.92,\n",
       " 0.1154,\n",
       " 0.0357,\n",
       " 0.2963,\n",
       " 0.2222,\n",
       " 0.5926,\n",
       " 0.7692,\n",
       " 0.3462,\n",
       " 0.6296,\n",
       " 0.0,\n",
       " 0.76,\n",
       " 0.1538,\n",
       " 1.0,\n",
       " 0.8077,\n",
       " 0.6667,\n",
       " 0.4231,\n",
       " 0.0385,\n",
       " 0.2692,\n",
       " 0.72,\n",
       " 1.0,\n",
       " 0.8846,\n",
       " 0.4444,\n",
       " 0.56,\n",
       " 0.037,\n",
       " 0.92,\n",
       " 0.6154,\n",
       " 0.9643,\n",
       " 0.2593,\n",
       " 0.3462,\n",
       " 0.1923,\n",
       " 0.36,\n",
       " 0.28,\n",
       " 0.2,\n",
       " 0.8,\n",
       " 0.4615,\n",
       " 0.84,\n",
       " 0.6538,\n",
       " 0.4,\n",
       " 0.3462,\n",
       " 0.75,\n",
       " 0.5385,\n",
       " 0.7308,\n",
       " 0.1852,\n",
       " 0.963,\n",
       " 0.5,\n",
       " 0.6154,\n",
       " 0.3077,\n",
       " 0.12,\n",
       " 0.2963,\n",
       " 0.76,\n",
       " 0.2692,\n",
       " 0.12,\n",
       " 0.8148,\n",
       " 0.6207,\n",
       " 0.963,\n",
       " 0.5385,\n",
       " 0.5769,\n",
       " 0.0741,\n",
       " 0.2308,\n",
       " 0.96,\n",
       " 0.5926,\n",
       " 0.1154,\n",
       " 0.1852,\n",
       " 0.4615,\n",
       " 0.12,\n",
       " 0.8077,\n",
       " 0.5185,\n",
       " 0.8846,\n",
       " 0.3462,\n",
       " 1.0,\n",
       " 0.5185,\n",
       " 0.2,\n",
       " 0.4231,\n",
       " 0.2963,\n",
       " 0.3462,\n",
       " 0.28,\n",
       " 0.6538,\n",
       " 0.8462,\n",
       " 0.6071,\n",
       " 0.8889,\n",
       " 0.8148,\n",
       " 0.25,\n",
       " 0.48,\n",
       " 0.2,\n",
       " 0.4615,\n",
       " 0.4615,\n",
       " 0.0769,\n",
       " 0.1923,\n",
       " 0.52,\n",
       " 0.24,\n",
       " 0.32,\n",
       " 0.0,\n",
       " 0.16,\n",
       " 0.04,\n",
       " 0.2,\n",
       " 0.037,\n",
       " 0.8889,\n",
       " 0.36,\n",
       " 0.3077,\n",
       " 0.1154,\n",
       " 0.8846,\n",
       " 0.1154,\n",
       " 0.2,\n",
       " 0.84,\n",
       " 0.4231,\n",
       " 0.72,\n",
       " 0.8519,\n",
       " 0.3462,\n",
       " 0.1538,\n",
       " 0.3077,\n",
       " 0.0,\n",
       " 0.1538,\n",
       " 0.2857,\n",
       " 0.96,\n",
       " 0.4231,\n",
       " 0.7407,\n",
       " 0.8519,\n",
       " 0.1111,\n",
       " 0.0,\n",
       " 1.0,\n",
       " 0.0,\n",
       " 0.2692,\n",
       " 0.9231,\n",
       " 0.08,\n",
       " 0.9655,\n",
       " 0.2593,\n",
       " 0.32,\n",
       " 0.0,\n",
       " 0.92,\n",
       " 0.3846,\n",
       " 0.3077,\n",
       " 0.8462,\n",
       " 0.12,\n",
       " 0.8571,\n",
       " 0.1538,\n",
       " 0.68,\n",
       " 0.7692,\n",
       " 0.1538,\n",
       " 0.0,\n",
       " 0.7308,\n",
       " 0.1481,\n",
       " 0.7778,\n",
       " 0.5769,\n",
       " 0.8077,\n",
       " 0.0357,\n",
       " 0.3846,\n",
       " 0.3462,\n",
       " 0.1154,\n",
       " 0.6154,\n",
       " 0.2692,\n",
       " 0.48,\n",
       " 0.5185,\n",
       " 0.96,\n",
       " 0.0,\n",
       " 0.84,\n",
       " 0.0,\n",
       " 0.1923,\n",
       " 0.0,\n",
       " 0.28,\n",
       " 0.6429,\n",
       " 0.84,\n",
       " 0.0769,\n",
       " 1.0,\n",
       " 0.12,\n",
       " 0.5,\n",
       " 0.1852,\n",
       " 0.5769,\n",
       " 0.5,\n",
       " 0.88,\n",
       " 0.88,\n",
       " 0.0385,\n",
       " 0.1852,\n",
       " 1.0,\n",
       " 0.0769,\n",
       " 0.6923,\n",
       " 0.6538,\n",
       " 0.12,\n",
       " 0.6071,\n",
       " 0.72,\n",
       " 0.0769,\n",
       " 0.3846,\n",
       " 0.7037,\n",
       " 0.0,\n",
       " 0.92,\n",
       " 0.6154,\n",
       " 0.3077,\n",
       " 0.08,\n",
       " 0.4231,\n",
       " 0.5769,\n",
       " 0.7308,\n",
       " 0.12,\n",
       " 0.88,\n",
       " 0.28,\n",
       " 0.8889,\n",
       " 0.3462,\n",
       " 0.8,\n",
       " 0.1923,\n",
       " 0.0769,\n",
       " 0.4286,\n",
       " 0.2143,\n",
       " 0.8462,\n",
       " 0.48,\n",
       " 0.08,\n",
       " 0.9231,\n",
       " 0.7308,\n",
       " 0.6538,\n",
       " 0.28,\n",
       " 0.037,\n",
       " 0.68,\n",
       " 1.0,\n",
       " 0.6538,\n",
       " 0.25,\n",
       " 0.28,\n",
       " 0.0741,\n",
       " 0.44,\n",
       " 0.6296,\n",
       " 0.8148,\n",
       " 0.12,\n",
       " 0.0769,\n",
       " 0.6538,\n",
       " 0.6154,\n",
       " 0.7692,\n",
       " 0.3462,\n",
       " 0.963,\n",
       " 0.88,\n",
       " 0.8077,\n",
       " 0.7308,\n",
       " 0.7308,\n",
       " 0.7143,\n",
       " 0.3846,\n",
       " 0.64,\n",
       " 0.3462,\n",
       " 0.5769,\n",
       " 0.2692,\n",
       " 0.08,\n",
       " 0.44,\n",
       " 0.52,\n",
       " 0.6923,\n",
       " 0.0769,\n",
       " 0.2963,\n",
       " 0.6538,\n",
       " 0.5185,\n",
       " 0.56,\n",
       " 0.4231,\n",
       " 0.0741,\n",
       " 0.0,\n",
       " 0.68,\n",
       " 0.3704,\n",
       " 0.4615,\n",
       " 0.6538,\n",
       " 0.2222,\n",
       " 0.0385,\n",
       " 0.3462,\n",
       " 1.0,\n",
       " 0.5769,\n",
       " 0.5714,\n",
       " 0.52,\n",
       " 0.6,\n",
       " 0.6923,\n",
       " 0.5769,\n",
       " 0.24,\n",
       " 0.96,\n",
       " 0.1481,\n",
       " 0.4444,\n",
       " 0.3846,\n",
       " 1.0,\n",
       " 0.3333,\n",
       " 0.04,\n",
       " 0.04,\n",
       " 0.2222,\n",
       " 0.5556,\n",
       " 0.5385,\n",
       " 0.8846,\n",
       " 0.0,\n",
       " 0.8077,\n",
       " 0.8846,\n",
       " 0.3077,\n",
       " 0.1923,\n",
       " 0.5769,\n",
       " 0.28,\n",
       " 0.6923,\n",
       " 0.36,\n",
       " 0.1071,\n",
       " 0.7857,\n",
       " 0.6538,\n",
       " 0.8519,\n",
       " 0.4,\n",
       " 0.4615,\n",
       " 0.4615,\n",
       " 0.5,\n",
       " 0.4138,\n",
       " 0.76,\n",
       " 0.9259,\n",
       " 0.6154,\n",
       " 0.8077,\n",
       " 0.7778,\n",
       " 0.4074,\n",
       " 0.4231,\n",
       " 0.6923,\n",
       " 0.6154,\n",
       " 0.04,\n",
       " 0.08,\n",
       " 0.0,\n",
       " 0.84,\n",
       " 0.4615,\n",
       " 0.2222,\n",
       " 0.12,\n",
       " 0.32,\n",
       " 0.4231,\n",
       " 0.0385,\n",
       " 0.4074,\n",
       " 0.9615,\n",
       " 0.6923,\n",
       " 0.963,\n",
       " 0.0714,\n",
       " 0.36,\n",
       " 0.0,\n",
       " 0.4231,\n",
       " 0.2308,\n",
       " 0.037,\n",
       " 0.3846,\n",
       " 0.8846,\n",
       " 0.8,\n",
       " 0.4815,\n",
       " 0.7037,\n",
       " 0.68,\n",
       " 0.12,\n",
       " 0.0,\n",
       " 0.04,\n",
       " 0.3462,\n",
       " 0.72,\n",
       " 0.4,\n",
       " 0.6154,\n",
       " 1.0,\n",
       " 0.3462,\n",
       " 0.7308,\n",
       " 0.92,\n",
       " 0.96,\n",
       " 0.2593,\n",
       " 0.7308,\n",
       " 0.88,\n",
       " 0.931,\n",
       " 0.9231,\n",
       " 0.0385,\n",
       " 0.08,\n",
       " 0.0769,\n",
       " 0.75,\n",
       " 0.1111,\n",
       " 0.7308,\n",
       " 0.0385,\n",
       " 0.8077,\n",
       " 0.2593,\n",
       " 0.84,\n",
       " 0.64,\n",
       " 0.12,\n",
       " 0.0385,\n",
       " 0.0769,\n",
       " 1.0,\n",
       " 0.96,\n",
       " 0.7778,\n",
       " 0.0,\n",
       " 0.6923,\n",
       " 0.3462,\n",
       " 0.3571,\n",
       " 0.8077,\n",
       " 0.6071,\n",
       " 0.037,\n",
       " 0.8462,\n",
       " 0.8214,\n",
       " 0.6923,\n",
       " 0.1538,\n",
       " 0.9259,\n",
       " 0.0,\n",
       " 0.1538,\n",
       " 0.3333,\n",
       " 0.48,\n",
       " 0.7778,\n",
       " 0.2692,\n",
       " 0.2963,\n",
       " 0.5556,\n",
       " 0.5385,\n",
       " 0.2143,\n",
       " 0.3333,\n",
       " 0.72,\n",
       " 0.9231,\n",
       " 0.6,\n",
       " 0.3462,\n",
       " 0.08,\n",
       " 0.64,\n",
       " 0.1538,\n",
       " 0.6154,\n",
       " 0.4615,\n",
       " 0.1154,\n",
       " 0.75,\n",
       " 0.6071,\n",
       " 0.5385,\n",
       " 0.5385,\n",
       " 1.0,\n",
       " 0.1154,\n",
       " 0.8462,\n",
       " 0.2,\n",
       " 0.16,\n",
       " 0.1429,\n",
       " 0.8077,\n",
       " 0.1154,\n",
       " 0.0,\n",
       " 0.7407,\n",
       " 0.037,\n",
       " 0.0769,\n",
       " 0.4,\n",
       " 0.0769,\n",
       " 0.6538,\n",
       " 0.44,\n",
       " 0.32,\n",
       " 0.3846,\n",
       " 0.25,\n",
       " 0.8462,\n",
       " 0.2692,\n",
       " 0.1538,\n",
       " 0.0,\n",
       " 0.5,\n",
       " 0.6923,\n",
       " 0.3846,\n",
       " 0.1111,\n",
       " 0.6667,\n",
       " 0.16,\n",
       " 0.8462,\n",
       " 1.0,\n",
       " 0.5769,\n",
       " 0.32,\n",
       " 0.3846,\n",
       " 0.3077,\n",
       " 0.963,\n",
       " 0.28,\n",
       " 0.56,\n",
       " 0.2857,\n",
       " 0.2308,\n",
       " 0.4231,\n",
       " 0.5769,\n",
       " 0.8077,\n",
       " 0.8462,\n",
       " 0.4231,\n",
       " 0.5185,\n",
       " 0.2,\n",
       " 0.3077,\n",
       " 0.4615,\n",
       " 0.1154,\n",
       " 0.6,\n",
       " 1.0,\n",
       " 0.7407,\n",
       " 0.52,\n",
       " 0.5385,\n",
       " 1.0,\n",
       " 0.12,\n",
       " 0.8846,\n",
       " 0.1154,\n",
       " 0.1852,\n",
       " 0.64,\n",
       " 0.3704,\n",
       " 0.3846,\n",
       " 0.5769,\n",
       " 0.8846,\n",
       " 0.48,\n",
       " 0.24,\n",
       " 0.3448,\n",
       " 0.8519,\n",
       " 0.8148,\n",
       " 0.9231,\n",
       " 0.7037,\n",
       " 0.9259,\n",
       " 0.5926,\n",
       " 1.0,\n",
       " 0.0769,\n",
       " 0.9231,\n",
       " 1.0,\n",
       " 0.4231,\n",
       " 0.6154,\n",
       " 0.0,\n",
       " 0.2692,\n",
       " 0.8889,\n",
       " 0.7308,\n",
       " 0.0,\n",
       " 0.25,\n",
       " 0.3462,\n",
       " 0.88,\n",
       " 0.5556,\n",
       " 0.3846,\n",
       " 0.8846,\n",
       " 0.8,\n",
       " 0.0769,\n",
       " 0.0385,\n",
       " 0.04,\n",
       " 0.5,\n",
       " 0.12,\n",
       " 0.6538,\n",
       " 0.2692,\n",
       " 0.5,\n",
       " 0.0,\n",
       " 0.1923,\n",
       " 0.9615,\n",
       " 0.3077,\n",
       " 1.0,\n",
       " 0.84,\n",
       " 0.2593,\n",
       " 0.963,\n",
       " 0.3077,\n",
       " 0.8077,\n",
       " 0.5926,\n",
       " 0.1852,\n",
       " 0.1923,\n",
       " 0.5385,\n",
       " 0.5,\n",
       " 0.0769,\n",
       " 0.0385,\n",
       " 0.5385,\n",
       " 0.8462,\n",
       " 0.3929,\n",
       " 0.2857,\n",
       " 0.0,\n",
       " 1.0,\n",
       " 0.963,\n",
       " 0.4231,\n",
       " 0.2308,\n",
       " 0.0,\n",
       " 0.4615,\n",
       " 0.84,\n",
       " 0.037,\n",
       " 0.6154,\n",
       " 0.72,\n",
       " 0.2692,\n",
       " 0.6296,\n",
       " 0.0,\n",
       " 0.0357,\n",
       " 0.5185,\n",
       " 0.64,\n",
       " 0.0385,\n",
       " 0.28,\n",
       " 0.037,\n",
       " 0.84,\n",
       " 0.7308,\n",
       " 0.0741,\n",
       " 0.16,\n",
       " 0.0769,\n",
       " 0.2857,\n",
       " 0.0,\n",
       " 0.8077,\n",
       " 0.0,\n",
       " 0.2222,\n",
       " 0.96,\n",
       " 0.9231,\n",
       " 0.5,\n",
       " 0.9615,\n",
       " 0.6538,\n",
       " 0.5385,\n",
       " 0.0,\n",
       " 0.52,\n",
       " 0.5926,\n",
       " 0.2,\n",
       " 0.2308,\n",
       " 0.16,\n",
       " 0.8148,\n",
       " 0.3846,\n",
       " 0.963,\n",
       " 0.0,\n",
       " 0.7586,\n",
       " 0.4074,\n",
       " 0.8846,\n",
       " 0.5556,\n",
       " 0.5385,\n",
       " 0.4286,\n",
       " 0.6154,\n",
       " 0.92,\n",
       " 0.56,\n",
       " 1.0,\n",
       " 0.7407,\n",
       " 0.52,\n",
       " 0.5385,\n",
       " 0.1111,\n",
       " 0.1481,\n",
       " 0.0714,\n",
       " 1.0,\n",
       " ...]"
      ]
     },
     "execution_count": 13,
     "metadata": {},
     "output_type": "execute_result"
    }
   ],
   "source": [
    "lista"
   ]
  },
  {
   "cell_type": "code",
   "execution_count": 14,
   "id": "neutral-bulgaria",
   "metadata": {},
   "outputs": [
    {
     "data": {
      "text/plain": [
       "<matplotlib.axes._subplots.AxesSubplot at 0x7f6dba0d60a0>"
      ]
     },
     "execution_count": 14,
     "metadata": {},
     "output_type": "execute_result"
    },
    {
     "data": {
      "image/png": "[encoded data removed]",
      "text/plain": [
       "<Figure size 432x288 with 1 Axes>"
      ]
     },
     "metadata": {
      "needs_background": "light"
     },
     "output_type": "display_data"
    }
   ],
   "source": [
    "#lista = data.where(data.numGroups == 25).rdd.map(lambda x: x[\"winPlacePerc\"]).collect()\n",
    "lista = data.where(data.matchId == '6dc8ff871e21e6').rdd.map(lambda x: x[\"winPlacePerc\"]).collect()\n",
    "\n",
    "tmp = pd.DataFrame()\n",
    "\n",
    "lista.sort()\n",
    "\n",
    "tmp[\"0\"] = lista\n",
    "\n",
    "tmp[\"0\"].value_counts().sort_index().plot(kind=\"bar\")"
   ]
  },
  {
   "cell_type": "code",
   "execution_count": 15,
   "id": "chemical-newfoundland",
   "metadata": {
    "scrolled": true
   },
   "outputs": [
    {
     "name": "stdout",
     "output_type": "stream",
     "text": [
      "-0.0104\n",
      "-0.0104\n",
      "-0.0104\n",
      "-0.010500000000000002\n",
      "-0.0104\n",
      "-0.0104\n",
      "-0.010400000000000006\n",
      "-0.010399999999999993\n",
      "-0.010499999999999995\n",
      "-0.010400000000000006\n",
      "-0.010399999999999993\n",
      "-0.010400000000000006\n",
      "-0.010399999999999993\n",
      "-0.01040000000000002\n",
      "-0.010399999999999993\n",
      "-0.010499999999999982\n",
      "-0.01040000000000002\n",
      "-0.010399999999999993\n",
      "-0.010399999999999993\n",
      "0.0\n",
      "-0.01040000000000002\n",
      "-0.010499999999999982\n",
      "-0.010399999999999993\n",
      "-0.01040000000000002\n",
      "-0.010399999999999993\n",
      "-0.01040000000000002\n",
      "-0.020799999999999985\n",
      "-0.01050000000000001\n",
      "-0.010399999999999965\n",
      "-0.01040000000000002\n",
      "-0.01040000000000002\n",
      "-0.010399999999999965\n",
      "-0.01050000000000001\n",
      "-0.01040000000000002\n",
      "-0.010399999999999965\n",
      "-0.01040000000000002\n",
      "-0.01040000000000002\n",
      "-0.010399999999999965\n",
      "-0.01040000000000002\n",
      "-0.01050000000000001\n",
      "-0.010399999999999965\n",
      "-0.01040000000000002\n",
      "-0.01040000000000002\n",
      "-0.010399999999999965\n",
      "-0.01050000000000001\n",
      "-0.01040000000000002\n",
      "-0.010399999999999965\n",
      "-0.01040000000000002\n",
      "-0.010399999999999965\n",
      "-0.010400000000000076\n",
      "-0.010399999999999965\n",
      "-0.010499999999999954\n",
      "-0.010400000000000076\n",
      "-0.010399999999999965\n",
      "-0.010399999999999965\n",
      "-0.010400000000000076\n",
      "-0.010499999999999954\n",
      "-0.010399999999999965\n",
      "-0.010400000000000076\n",
      "-0.010399999999999965\n",
      "-0.010399999999999965\n",
      "-0.010400000000000076\n",
      "-0.010399999999999965\n",
      "-0.010499999999999954\n",
      "-0.010400000000000076\n",
      "-0.010399999999999965\n",
      "-0.010399999999999965\n",
      "-0.010400000000000076\n",
      "-0.010499999999999954\n",
      "-0.010399999999999965\n",
      "-0.010400000000000076\n",
      "-0.010399999999999965\n",
      "-0.010399999999999965\n",
      "-0.010400000000000076\n",
      "-0.010399999999999965\n",
      "0.0\n",
      "-0.02090000000000003\n",
      "-0.010399999999999965\n",
      "-0.010399999999999965\n",
      "-0.010400000000000076\n",
      "-0.010499999999999954\n",
      "-0.010399999999999965\n",
      "-0.010400000000000076\n",
      "-0.010399999999999965\n",
      "-0.010399999999999965\n",
      "-0.010400000000000076\n",
      "-0.010399999999999965\n",
      "-0.010499999999999954\n",
      "-0.010400000000000076\n",
      "-0.010399999999999965\n",
      "-0.010399999999999965\n",
      "-0.010400000000000076\n",
      "-0.010499999999999954\n",
      "-0.010399999999999965\n",
      "-0.010400000000000076\n",
      "-0.010399999999999965\n"
     ]
    }
   ],
   "source": [
    "for i, el in enumerate(lista[0:-1]):\n",
    "    print(lista[i]-lista[i+1])\n",
    "    \n",
    "    "
   ]
  },
  {
   "cell_type": "code",
   "execution_count": 16,
   "id": "arabic-approval",
   "metadata": {},
   "outputs": [
    {
     "data": {
      "text/plain": [
       "97"
      ]
     },
     "execution_count": 16,
     "metadata": {},
     "output_type": "execute_result"
    }
   ],
   "source": [
    "len(lista)"
   ]
  },
  {
   "cell_type": "code",
   "execution_count": 17,
   "id": "remarkable-southeast",
   "metadata": {},
   "outputs": [
    {
     "name": "stdout",
     "output_type": "stream",
     "text": [
      "+---------+--------------+---------+\n",
      "|matchtype|       matchid|numGroups|\n",
      "+---------+--------------+---------+\n",
      "|        4|a10357fd1a4a91|       26|\n",
      "|        4|aeb375fc57110c|       25|\n",
      "|        2|110163d8bb94ae|       47|\n",
      "|        4|f1f1f4ef412d7e|       30|\n",
      "|        1|6dc8ff871e21e6|       95|\n",
      "+---------+--------------+---------+\n",
      "only showing top 5 rows\n",
      "\n"
     ]
    }
   ],
   "source": [
    "sqlCtx.sql(\"\"\"SELECT matchtype, matchid, numGroups from pubg\"\"\").show(5)"
   ]
  },
  {
   "cell_type": "code",
   "execution_count": 18,
   "id": "strong-affiliate",
   "metadata": {},
   "outputs": [
    {
     "name": "stdout",
     "output_type": "stream",
     "text": [
      "+--------------+--------------+--------------+-------+------+-----------+-----+-------------+-----+---------+----------+-----+-----------+-----------+-------------+---------+--------+---------+----------+-------+------------+---------+------------+---------+---------------+------------+---------------+---------+------------+------------------+-------------+\n",
      "|            Id|       groupId|       matchId|assists|boosts|damageDealt|DBNOs|headshotKills|heals|killPlace|killPoints|kills|killStreaks|longestKill|matchDuration|matchtype|maxPlace|numGroups|rankPoints|revives|rideDistance|roadKills|swimDistance|teamKills|vehicleDestroys|walkDistance|weaponsAcquired|winPoints|winPlacePerc|          distance|isFirstPerson|\n",
      "+--------------+--------------+--------------+-------+------+-----------+-----+-------------+-----+---------+----------+-----+-----------+-----------+-------------+---------+--------+---------+----------+-------+------------+---------+------------+---------+---------------+------------+---------------+---------+------------+------------------+-------------+\n",
      "|a13cd09f1f9148|c1e3bec62b9387|6dc8ff871e21e6|      0|     0|        0.0|    0|            0|    0|       97|         0|    0|          0|        0.0|         1424|        1|      97|       95|      1564|      0|         0.0|        0|         0.0|        0|              0|         0.0|              0|        0|         0.0|               0.0|         true|\n",
      "|016fae08c04ab0|1c8a46651e30c9|6dc8ff871e21e6|      0|     0|        0.0|    0|            0|    0|       96|         0|    0|          0|        0.0|         1424|        1|      97|       95|      1445|      0|         0.0|        0|         0.0|        0|              0|        29.5|              1|        0|      0.0104|              29.5|         true|\n",
      "|bd0324056a32dc|741ecc18d8fc18|6dc8ff871e21e6|      0|     0|       26.0|    0|            0|    0|       95|         0|    0|          0|        0.0|         1424|        1|      97|       95|      1580|      0|         0.0|        0|         0.0|        0|              0|       52.48|              1|        0|      0.0208|             52.48|         true|\n",
      "|008f1608733228|c3bdbde15faed3|6dc8ff871e21e6|      0|     0|        0.0|    0|            0|    0|       94|         0|    0|          0|        0.0|         1424|        1|      97|       95|      1497|      0|         0.0|        0|         0.0|        0|              0|         0.0|              0|        0|      0.0312|               0.0|         true|\n",
      "|442bb9b11e41b4|9c3f9a3cde5da5|6dc8ff871e21e6|      0|     0|        0.0|    0|            0|    0|       93|         0|    0|          0|        0.0|         1424|        1|      97|       95|      1508|      0|         0.0|        0|         0.0|        0|              0|       21.37|              1|        0|      0.0417|             21.37|         true|\n",
      "|dce5bd8d512952|2e1489a06950d4|6dc8ff871e21e6|      0|     0|       66.0|    0|            0|    0|       92|         0|    0|          0|        0.0|         1424|        1|      97|       95|      1490|      0|         0.0|        0|         0.0|        0|              0|       4.466|              1|        0|      0.0521|             4.466|         true|\n",
      "|02ab5055d1e97e|235d0c1ed45fbb|6dc8ff871e21e6|      0|     0|        0.0|    0|            0|    0|       91|         0|    0|          0|        0.0|         1424|        1|      97|       95|      1510|      0|         0.0|        0|         0.0|        0|              0|       28.85|              1|        0|      0.0625|             28.85|         true|\n",
      "|8254fbc7b0851d|e34eca9195d0e4|6dc8ff871e21e6|      0|     0|      32.59|    0|            0|    0|       90|         0|    0|          0|        0.0|         1424|        1|      97|       95|      1540|      0|         0.0|        0|         0.0|        0|              0|       11.35|              1|        0|      0.0729|             11.35|         true|\n",
      "|1b09e65866f1dc|8273de49e8295c|6dc8ff871e21e6|      0|     0|        0.0|    0|            0|    0|       89|         0|    0|          0|        0.0|         1424|        1|      97|       95|      1528|      0|         0.0|        0|         0.0|        0|              0|       17.86|              1|        0|      0.0833|             17.86|         true|\n",
      "|81e1eb43b3b438|f7f6a83931ca2b|6dc8ff871e21e6|      0|     0|        0.0|    0|            0|    0|       88|         0|    0|          0|        0.0|         1424|        1|      97|       95|      1316|      0|         0.0|        0|         0.0|        0|              0|       26.77|              1|        0|      0.0938|             26.77|         true|\n",
      "|de5696debccbd8|0bf84672cfefdf|6dc8ff871e21e6|      0|     0|        0.0|    0|            0|    0|       87|         0|    0|          0|        0.0|         1424|        1|      97|       95|      1540|      0|         0.0|        0|         0.0|        0|              0|       14.46|              0|        0|      0.1042|             14.46|         true|\n",
      "|8ca9469a28f5e3|bb2db4ee3fc63f|6dc8ff871e21e6|      0|     0|        0.0|    0|            0|    0|       86|         0|    0|          0|        0.0|         1424|        1|      97|       95|      1498|      0|         0.0|        0|         0.0|        0|              0|       19.72|              2|        0|      0.1146|             19.72|         true|\n",
      "|704b40fea7d007|31e117734e3dfe|6dc8ff871e21e6|      0|     0|      100.0|    0|            1|    0|       46|         0|    1|          1|      5.662|         1424|        1|      97|       95|      1464|      0|         0.0|        0|         0.0|        0|              0|       4.086|              1|        0|       0.125|             4.086|         true|\n",
      "|c405a711cf0dc9|2d8f70dd0c322e|6dc8ff871e21e6|      0|     0|        0.0|    0|            0|    0|       85|         0|    0|          0|        0.0|         1424|        1|      97|       95|      1516|      0|         0.0|        0|         0.0|        0|              0|       46.96|              1|        0|      0.1354|             46.96|         true|\n",
      "|d067b6bed05a8c|6b72c42cdcf827|6dc8ff871e21e6|      0|     0|        0.0|    0|            0|    0|       84|         0|    0|          0|        0.0|         1424|        1|      97|       95|      1441|      0|         0.0|        0|         0.0|        0|              0|       76.36|              1|        0|      0.1458|             76.36|         true|\n",
      "|f6d0be48cefd00|17acbaef4acad7|6dc8ff871e21e6|      0|     0|        0.0|    0|            0|    0|       83|         0|    0|          0|        0.0|         1424|        1|      97|       95|      1550|      0|         0.0|        0|         0.0|        0|              0|       48.02|              2|        0|      0.1562|             48.02|         true|\n",
      "|ddeb1c585e00aa|bcef3a2fdd06b6|6dc8ff871e21e6|      0|     0|      89.44|    0|            0|    0|       82|         0|    0|          0|        0.0|         1424|        1|      97|       95|      1492|      0|         0.0|        0|         0.0|        0|              0|       84.31|              1|        0|      0.1667|             84.31|         true|\n",
      "|3c07b0ef7e1cdb|7a45dff9ff92fd|6dc8ff871e21e6|      0|     0|      59.92|    0|            0|    0|       81|         0|    0|          0|        0.0|         1424|        1|      97|       95|      1530|      0|         0.0|        0|         0.0|        0|              0|       31.17|              1|        0|      0.1771|             31.17|         true|\n",
      "|315c96c26c9aac|de04010b3458dd|6dc8ff871e21e6|      0|     0|      100.0|    0|            0|    0|       45|         0|    1|          1|      58.53|         1424|        1|      97|       95|      1560|      0|         0.0|        0|         0.0|        0|              0|       49.75|              2|        0|      0.1875|             49.75|         true|\n",
      "|f921a757de248b|00523e90e8568c|6dc8ff871e21e6|      0|     0|        0.0|    0|            0|    0|       80|         0|    0|          0|        0.0|         1424|        1|      97|       95|      1500|      0|         0.0|        0|         0.0|        0|              0|         0.0|              0|        0|      0.1979|               0.0|         true|\n",
      "|cf806bed1e2faa|00523e90e8568c|6dc8ff871e21e6|      0|     0|      127.3|    0|            0|    0|       44|         0|    1|          1|      5.574|         1424|        1|      97|       95|      1470|      0|         0.0|        0|         0.0|        0|              0|        76.3|              2|        0|      0.1979|              76.3|         true|\n",
      "|c3f1206ac5d79d|b310af741eb257|6dc8ff871e21e6|      0|     0|      50.31|    0|            0|    0|       79|         0|    0|          0|        0.0|         1424|        1|      97|       95|      1492|      0|         0.0|        0|         0.0|        0|              0|       63.42|              2|        0|      0.2083|             63.42|         true|\n",
      "|e80f1babdd3685|b3789497b0fdce|6dc8ff871e21e6|      0|     0|       47.3|    0|            0|    0|       78|         0|    0|          0|        0.0|         1424|        1|      97|       95|      1623|      0|         0.0|        0|         0.0|        0|              0|       41.92|              3|        0|      0.2188|             41.92|         true|\n",
      "|e52b9b7178a55d|d1191ffcab9780|6dc8ff871e21e6|      0|     0|        0.0|    0|            0|    0|       77|         0|    0|          0|        0.0|         1424|        1|      97|       95|      1532|      0|         0.0|        0|         0.0|        0|              0|       42.75|              2|        0|      0.2292|             42.75|         true|\n",
      "|b743c8b589d4b6|001e08837a7485|6dc8ff871e21e6|      0|     0|      100.0|    0|            0|    1|       43|         0|    1|          1|      8.274|         1424|        1|      97|       95|      1627|      0|         0.0|        0|         0.0|        0|              0|       101.5|              1|        0|      0.2396|             101.5|         true|\n",
      "|0c3f6213ba7b2b|4e4df9801f47e1|6dc8ff871e21e6|      0|     0|      32.34|    0|            0|    0|       76|         0|    0|          0|        0.0|         1424|        1|      97|       95|      1561|      0|         0.0|        0|         0.0|        0|              0|       44.84|              2|        0|        0.25|             44.84|         true|\n",
      "|700e18bb82baa5|bbfbaca1f1b612|6dc8ff871e21e6|      0|     0|      100.0|    0|            1|    0|       42|         0|    1|          1|      22.79|         1424|        1|      97|       95|      1663|      0|         0.0|        0|         0.0|        0|              0|       64.46|              2|        0|      0.2604|             64.46|         true|\n",
      "|9007593ffe67b6|111742f4fc8505|6dc8ff871e21e6|      0|     0|      134.3|    0|            0|    0|       41|         0|    1|          1|      3.459|         1424|        1|      97|       95|      1510|      0|         0.0|        0|         0.0|        0|              0|       171.3|              2|        0|      0.2812|             171.3|         true|\n",
      "|04e350f0d70f49|16bb28940504ac|6dc8ff871e21e6|      0|     0|        0.0|    0|            0|    0|       75|         0|    0|          0|        0.0|         1424|        1|      97|       95|      1546|      0|         0.0|        0|         0.0|        0|              0|       94.23|              3|        0|      0.2917|             94.23|         true|\n",
      "|d8774acd09cc31|712f780d26e2df|6dc8ff871e21e6|      0|     1|      55.86|    0|            0|    2|       74|         0|    0|          0|        0.0|         1424|        1|      97|       95|      1566|      0|         0.0|        0|         0.0|        0|              0|       87.24|              3|        0|      0.3021|             87.24|         true|\n",
      "|f52218395f9c52|5d6d4bfb980aff|6dc8ff871e21e6|      0|     0|      100.0|    0|            1|    0|       40|         0|    1|          1|        0.0|         1424|        1|      97|       95|      1687|      0|         0.0|        0|       7.574|        0|              0|       113.8|              2|        0|      0.3125|           121.374|         true|\n",
      "|bd7347e4089ec4|79dea926baa874|6dc8ff871e21e6|      0|     0|      140.8|    0|            0|    0|       39|         0|    1|          1|      15.57|         1424|        1|      97|       95|      1521|      0|         0.0|        0|         0.0|        0|              0|       151.5|              3|        0|      0.3229|             151.5|         true|\n",
      "|7f566bad9c7e1f|c37f5165d082f9|6dc8ff871e21e6|      1|     0|      82.56|    0|            0|    0|       73|         0|    0|          0|        0.0|         1424|        1|      97|       95|      1603|      0|         0.0|        0|         0.0|        0|              0|       212.5|              1|        0|      0.3333|             212.5|         true|\n",
      "|ab9727114cc096|60a661d33edcd9|6dc8ff871e21e6|      0|     0|        0.0|    0|            0|    0|       72|         0|    0|          0|        0.0|         1424|        1|      97|       95|      1522|      0|         0.0|        0|         0.0|        0|              0|       238.9|              3|        0|      0.3438|             238.9|         true|\n",
      "|9cc4f7de3e4a26|fc513dba3aefc5|6dc8ff871e21e6|      0|     0|      100.0|    0|            0|    0|       38|         0|    1|          1|      3.815|         1424|        1|      97|       95|      1429|      0|         0.0|        0|         0.0|        0|              0|       60.51|              2|        0|      0.3542|             60.51|         true|\n",
      "|b50025e18c2491|4539eb46aa3043|6dc8ff871e21e6|      0|     2|      174.0|    0|            0|    2|       19|         0|    2|          1|      7.833|         1424|        1|      97|       95|      1489|      0|         0.0|        0|         0.0|        0|              0|       118.3|              2|        0|      0.3646|             118.3|         true|\n",
      "|665cc620023604|68dbbf0173f317|6dc8ff871e21e6|      0|     0|      32.76|    0|            0|    0|       71|         0|    0|          0|        0.0|         1424|        1|      97|       95|      1585|      0|         0.0|        0|         0.0|        0|              0|       280.8|              2|        0|       0.375|             280.8|         true|\n",
      "|cc303b01af4117|5bdb147fac51c8|6dc8ff871e21e6|      0|     0|       29.4|    0|            0|    0|       70|         0|    0|          0|        0.0|         1424|        1|      97|       95|      1543|      0|         0.0|        0|         0.0|        0|              0|       304.6|              2|        0|      0.3854|             304.6|         true|\n",
      "|8201f913e50a3a|c481525ce5eea9|6dc8ff871e21e6|      0|     0|      104.7|    0|            0|    0|       69|         0|    0|          0|        0.0|         1424|        1|      97|       95|      1542|      0|         0.0|        0|         0.0|        0|              0|       175.0|              4|        0|      0.3958|             175.0|         true|\n",
      "|2710b9eca84056|eccf89c51a65aa|6dc8ff871e21e6|      0|     1|      144.6|    0|            0|    1|       18|         0|    2|          1|      28.47|         1424|        1|      97|       95|      1497|      0|         0.0|        0|         0.0|        0|              0|       288.7|              3|        0|      0.4062|             288.7|         true|\n",
      "|0721d1bbe321be|3068ce27cf47e5|6dc8ff871e21e6|      0|     1|      100.0|    0|            0|    0|       37|         0|    1|          1|      10.32|         1424|        1|      97|       95|      1565|      0|         0.0|        0|         0.0|        0|              0|       69.99|              3|        0|      0.4167|             69.99|         true|\n",
      "|bc57168eb9be2f|e58cc7100a2385|6dc8ff871e21e6|      0|     0|      100.0|    0|            0|    0|       36|         0|    1|          1|      113.7|         1424|        1|      97|       95|      1516|      0|         0.0|        0|         0.0|        0|              0|       221.1|              5|        0|      0.4271|             221.1|         true|\n",
      "|ff1964f0c89abb|61d435a892e34c|6dc8ff871e21e6|      0|     2|       27.3|    0|            0|    1|       68|         0|    0|          0|        0.0|         1424|        1|      97|       95|      1536|      0|         0.0|        0|         0.0|        0|              0|       150.5|              3|        0|      0.4375|             150.5|         true|\n",
      "|474661675497dd|d26172beaa912c|6dc8ff871e21e6|      0|     0|       83.5|    0|            0|    0|       67|         0|    0|          0|        0.0|         1424|        1|      97|       95|      1640|      0|         0.0|        0|         0.0|        0|              0|       260.5|              4|        0|      0.4479|             260.5|         true|\n",
      "|ca80bab93eb545|12ae810f801183|6dc8ff871e21e6|      0|     1|      195.9|    0|            0|    0|       35|         0|    1|          1|      25.86|         1424|        1|      97|       95|      1497|      0|         0.0|        0|         0.0|        0|              0|       297.0|              2|        0|      0.4583|             297.0|         true|\n",
      "|59672142837e65|8b53a25ab70b1d|6dc8ff871e21e6|      0|     0|      30.08|    0|            0|    1|       66|         0|    0|          0|        0.0|         1424|        1|      97|       95|      1580|      0|         0.0|        0|         0.0|        0|              0|       616.0|              3|        0|      0.4688|             616.0|         true|\n",
      "|c5f85ef8311573|1ec6358a9b2153|6dc8ff871e21e6|      0|     2|      100.0|    0|            0|    5|       34|         0|    1|          1|      1.148|         1424|        1|      97|       95|      1483|      0|       463.6|        0|         0.0|        0|              0|       317.3|              4|        0|      0.4792| 780.9000000000001|         true|\n",
      "|167a6990447428|e023edd9e1f7f4|6dc8ff871e21e6|      0|     0|      158.7|    0|            1|    0|       33|         0|    1|          1|      21.41|         1424|        1|      97|       95|      1526|      0|         0.0|        0|         0.0|        0|              0|       289.2|              4|        0|      0.4896|             289.2|         true|\n",
      "|d27e84b98d2c71|306f50023b28bd|6dc8ff871e21e6|      0|     0|      184.8|    0|            0|    1|       32|         0|    1|          1|      9.263|         1424|        1|      97|       95|      1519|      0|         0.0|        0|         0.0|        0|              0|       242.1|              4|        0|         0.5|             242.1|         true|\n",
      "|7a9ab9c58dc484|5a19972ed709c2|6dc8ff871e21e6|      0|     0|        0.0|    0|            0|    0|       65|         0|    0|          0|        0.0|         1424|        1|      97|       95|      1624|      0|         0.0|        0|         0.0|        0|              0|       320.4|              5|        0|      0.5104|             320.4|         true|\n",
      "|7be08f708c7bba|ffad0374bb5d1c|6dc8ff871e21e6|      0|     0|      123.0|    0|            1|    0|       31|         0|    1|          1|      51.27|         1424|        1|      97|       95|      1623|      0|         0.0|        0|         0.0|        0|              0|       763.9|              7|        0|      0.5208|             763.9|         true|\n",
      "|3211a6ff142c29|bd7482d8dc13ca|6dc8ff871e21e6|      0|     0|      94.17|    0|            0|    0|       64|         0|    0|          0|        0.0|         1424|        1|      97|       95|      1579|      0|         0.0|        0|         0.0|        0|              0|       722.0|              5|        0|      0.5312|             722.0|         true|\n",
      "|50cb6679571ead|af7775f3c363ec|6dc8ff871e21e6|      0|     1|      37.52|    0|            0|    4|       63|         0|    0|          0|        0.0|         1424|        1|      97|       95|      1747|      0|         0.0|        0|         0.0|        0|              0|       401.5|              2|        0|      0.5417|             401.5|         true|\n",
      "|95e7e6538db204|429b9602a558c4|6dc8ff871e21e6|      0|     0|       71.4|    0|            0|    0|       62|         0|    0|          0|        0.0|         1424|        1|      97|       95|      1690|      0|         0.0|        0|         0.0|        0|              0|       470.9|              4|        0|      0.5521|             470.9|         true|\n",
      "|2de60d9836955d|562eaad6d3b999|6dc8ff871e21e6|      0|     0|       29.4|    0|            0|    0|       61|         0|    0|          0|        0.0|         1424|        1|      97|       95|      1538|      0|         0.0|        0|         0.0|        0|              0|       775.1|              3|        0|      0.5625|             775.1|         true|\n",
      "|689e82c76d1be7|7a769016b98876|6dc8ff871e21e6|      0|     1|      168.6|    0|            0|    1|       30|         0|    1|          1|      23.35|         1424|        1|      97|       95|      1510|      0|         0.0|        0|         0.0|        0|              0|       466.5|              4|        0|      0.5729|             466.5|         true|\n",
      "|cb4d7aa3f70cec|4bd93ab50bb2d2|6dc8ff871e21e6|      0|     0|      100.0|    0|            1|    0|       29|         0|    1|          1|      65.09|         1424|        1|      97|       95|      1497|      0|         0.0|        0|         0.0|        0|              0|       753.1|              5|        0|      0.5833|             753.1|         true|\n",
      "|c745fb3b3f73c3|580e908509cda8|6dc8ff871e21e6|      0|     1|      244.0|    0|            0|    0|       17|         0|    2|          1|      47.11|         1424|        1|      97|       95|      1601|      0|         0.0|        0|         0.0|        0|              0|       336.3|              5|        0|      0.5938|             336.3|         true|\n",
      "|3c624541f3e332|ed86363d3f9f71|6dc8ff871e21e6|      0|     1|      100.0|    0|            1|    2|       28|         0|    1|          1|      34.48|         1424|        1|      97|       95|      1503|      0|       899.2|        0|         0.0|        0|              0|       567.9|              3|        0|      0.6042|            1467.1|         true|\n",
      "|3e227b37c29173|43b65cdc1a264a|6dc8ff871e21e6|      0|     2|      83.64|    0|            0|    0|       60|         0|    0|          0|        0.0|         1424|        1|      97|       95|      1500|      0|         0.0|        0|         0.0|        0|              0|       515.9|              6|        0|      0.6146|             515.9|         true|\n",
      "|524a8882800eeb|a512eb2580efe0|6dc8ff871e21e6|      0|     1|      127.0|    0|            0|    1|       27|         0|    1|          1|      11.88|         1424|        1|      97|       95|      1482|      0|         0.0|        0|         0.0|        0|              0|       961.5|              4|        0|       0.625|             961.5|         true|\n",
      "|64b71ab648cb5d|786685ad1fe4f1|6dc8ff871e21e6|      0|     0|      100.0|    0|            0|    0|       26|         0|    1|          1|      5.687|         1424|        1|      97|       95|      1526|      0|         0.0|        0|         0.0|        0|              0|       867.0|              5|        0|      0.6354|             867.0|         true|\n",
      "|8f78b92b9d8cd6|ad22fb28468e61|6dc8ff871e21e6|      0|     0|        0.0|    0|            0|    0|       59|         0|    0|          0|        0.0|         1424|        1|      97|       95|      1652|      0|         0.0|        0|         0.0|        0|              0|      1452.0|              5|        0|      0.6458|            1452.0|         true|\n",
      "|22287021670ae7|27929ee9a2258e|6dc8ff871e21e6|      0|     0|      46.44|    0|            0|    0|       58|         0|    0|          0|        0.0|         1424|        1|      97|       95|      1672|      0|         0.0|        0|         0.0|        0|              0|      1292.0|              4|        0|      0.6562|            1292.0|         true|\n",
      "|39b65885e66abc|301193edb2e003|6dc8ff871e21e6|      0|     1|        0.0|    0|            0|    0|       57|         0|    0|          0|        0.0|         1424|        1|      97|       95|      1576|      0|         0.0|        0|         0.0|        0|              0|      1155.0|              3|        0|      0.6667|            1155.0|         true|\n",
      "|c6b9d234530775|65370bbb161a14|6dc8ff871e21e6|      0|     3|      352.7|    0|            2|    5|        7|         0|    4|          2|       58.9|         1424|        1|      97|       95|      1515|      0|         0.0|        0|         0.0|        0|              0|       700.4|              3|        0|      0.6771|             700.4|         true|\n",
      "|5d8655d2abbdf0|fd8897ee36efa7|6dc8ff871e21e6|      0|     1|        0.0|    0|            0|    2|       56|         0|    0|          0|        0.0|         1424|        1|      97|       95|      1512|      0|       853.2|        0|         0.0|        1|              0|      1139.0|              4|        0|      0.6875|            1992.2|         true|\n",
      "|9262024f14523d|1b92d98ab22413|6dc8ff871e21e6|      0|     3|        0.0|    0|            0|    3|       55|         0|    0|          0|        0.0|         1424|        1|      97|       95|      1664|      0|       732.7|        0|         0.0|        0|              0|      1781.0|              4|        0|      0.6979|            2513.7|         true|\n",
      "|cd4745c485899a|1697441f6b40ca|6dc8ff871e21e6|      0|     0|        0.0|    0|            0|    0|       54|         0|    0|          0|        0.0|         1424|        1|      97|       95|      1512|      0|         0.0|        0|         0.0|        0|              0|       874.1|              8|        0|      0.7083|             874.1|         true|\n",
      "|174d84dc4eba79|8de7c668678a6b|6dc8ff871e21e6|      0|     0|      69.09|    0|            0|    0|       53|         0|    0|          0|        0.0|         1424|        1|      97|       95|      1525|      0|         0.0|        0|         0.0|        0|              0|       778.2|              4|        0|      0.7188|             778.2|         true|\n",
      "|9db51dc4fc3ccb|a5acabaf500f2a|6dc8ff871e21e6|      0|     3|      253.0|    0|            0|    1|        9|         0|    3|          1|      59.12|         1424|        1|      97|       95|      1583|      0|         0.0|        0|         0.0|        0|              0|      1864.0|              4|        0|      0.7292|            1864.0|         true|\n",
      "|4f54491fc9da40|ec7f4ddcdb535f|6dc8ff871e21e6|      0|     1|      100.0|    0|            0|    1|       25|         0|    1|          1|      26.12|         1424|        1|      97|       95|      1574|      0|         0.0|        0|         0.0|        0|              0|      1627.0|              3|        0|      0.7396|            1627.0|         true|\n",
      "|26ca6e5ac28fca|8fb08f176c8707|6dc8ff871e21e6|      0|     3|      253.8|    0|            2|    2|       16|         0|    2|          1|      45.86|         1424|        1|      97|       95|      1648|      0|         0.0|        0|         0.0|        0|              0|      1557.0|              3|        0|        0.75|            1557.0|         true|\n",
      "|2d2151bf6fb0b6|3c4967e33f4802|6dc8ff871e21e6|      0|     1|      165.0|    0|            1|    0|       24|         0|    1|          1|      21.12|         1424|        1|      97|       95|      1513|      0|         0.0|        0|         0.0|        0|              0|      1743.0|              4|        0|      0.7604|            1743.0|         true|\n",
      "|51d7d3691c2c92|95753b9f149789|6dc8ff871e21e6|      0|     3|      292.7|    0|            0|    2|       15|         0|    2|          1|      25.13|         1424|        1|      97|       95|      1567|      0|      2064.0|        0|         0.0|        0|              0|      1442.0|              3|        0|      0.7708|            3506.0|         true|\n",
      "|cd3d45172d253e|8f7560b8e2a612|6dc8ff871e21e6|      0|     1|      74.73|    0|            0|    3|       52|         0|    0|          0|        0.0|         1424|        1|      97|       95|      1887|      0|         0.0|        0|         0.0|        0|              0|      1122.0|              7|        0|      0.7812|            1122.0|         true|\n",
      "|213eb3ec42070d|8f7560b8e2a612|6dc8ff871e21e6|      0|     0|      154.2|    0|            0|    0|       23|         0|    1|          1|      26.96|         1424|        1|      97|       95|      1634|      0|      1299.0|        0|         0.0|        0|              0|      1543.0|              5|        0|      0.7812|            2842.0|         true|\n",
      "|0bd2544ef79ba9|50f62ec09f1186|6dc8ff871e21e6|      1|     3|      196.6|    0|            0|    3|       14|         0|    2|          1|      28.48|         1424|        1|      97|       95|      1592|      0|         0.0|        0|       4.867|        0|              0|      2473.0|              6|        0|      0.8021|          2477.867|         true|\n",
      "|577286fcb5b3b4|54fdc7d2ca7e84|6dc8ff871e21e6|      0|     0|      363.6|    0|            2|    0|        8|         0|    3|          1|       23.1|         1424|        1|      97|       95|      1646|      0|         0.0|        0|         0.0|        0|              0|      1985.0|              4|        0|      0.8125|            1985.0|         true|\n",
      "|adc775517323cb|f1e42890b30921|6dc8ff871e21e6|      0|     2|      152.3|    0|            1|    1|       22|         0|    1|          1|      76.11|         1424|        1|      97|       95|      2018|      0|         0.0|        0|         0.0|        0|              0|      2111.0|             12|        0|      0.8229|            2111.0|         true|\n",
      "|353e6a115aa4ce|3c363d7a203c54|6dc8ff871e21e6|      0|     2|      336.4|    0|            1|    1|        6|         0|    4|          1|      51.57|         1424|        1|      97|       95|      1508|      0|         0.0|        0|       175.1|        0|              0|       963.7|              7|        0|      0.8333|            1138.8|         true|\n",
      "|d65e57c2366df6|8c4e8ec5de9e41|6dc8ff871e21e6|      0|     3|        0.0|    0|            0|    7|       51|         0|    0|          0|        0.0|         1424|        1|      97|       95|      1557|      0|      1463.0|        0|         0.0|        1|              0|      1666.0|              5|        0|      0.8438|            3129.0|         true|\n",
      "|2ee985fc916762|d56ab3ce052c0a|6dc8ff871e21e6|      0|     1|      200.0|    0|            1|    1|       13|         0|    2|          1|      89.96|         1424|        1|      97|       95|      1517|      0|         0.0|        0|         0.0|        0|              0|      1699.0|              9|        0|      0.8542|            1699.0|         true|\n",
      "|fcf98ee4b6b0e5|8c961562aa998d|6dc8ff871e21e6|      0|     3|      147.1|    0|            0|    9|       21|         0|    1|          1|      44.98|         1424|        1|      97|       95|      1652|      0|      3344.0|        0|       15.82|        0|              0|      1967.0|              3|        0|      0.8646|           5326.82|         true|\n",
      "|b345a18513dedc|a73faeda1eba1f|6dc8ff871e21e6|      0|     1|      209.0|    0|            1|    4|       12|         0|    2|          1|      150.1|         1424|        1|      97|       95|      1689|      0|         0.0|        0|         0.0|        0|              0|      2331.0|              3|        0|       0.875|            2331.0|         true|\n",
      "|d84c9e514eaf5d|502baeb5659b62|6dc8ff871e21e6|      0|     7|      134.9|    0|            1|    1|       11|         0|    2|          1|      107.2|         1424|        1|      97|       95|      1515|      0|         0.0|        0|       110.3|        0|              0|      2693.0|              4|        0|      0.8854|            2803.3|         true|\n",
      "|225d99976f6034|44837704478833|6dc8ff871e21e6|      0|     3|      258.6|    0|            0|    1|       20|         0|    1|          1|      12.21|         1424|        1|      97|       95|      1809|      0|         0.0|        0|         0.0|        0|              0|      1801.0|              5|        0|      0.8958|            1801.0|         true|\n",
      "|8dca2afadaf0d2|02441b05ed15e7|6dc8ff871e21e6|      0|     7|      368.1|    0|            2|    2|        5|         0|    4|          1|      228.3|         1424|        1|      97|       95|      1629|      0|      1983.0|        0|         0.0|        0|              0|      2448.0|              5|        0|      0.9062|            4431.0|         true|\n",
      "|60505f1287bae6|a4e454bbe770d8|6dc8ff871e21e6|      0|     5|      54.45|    0|            0|    0|       50|         0|    0|          0|        0.0|         1424|        1|      97|       95|      1587|      0|         0.0|        0|         0.0|        0|              0|      2084.0|              3|        0|      0.9167|            2084.0|         true|\n",
      "|ade7153a7d24e0|4d76ad99dfdead|6dc8ff871e21e6|      0|     4|      506.8|    0|            1|    2|        4|         0|    5|          1|      73.45|         1424|        1|      97|       95|      1631|      0|         0.0|        0|       16.84|        0|              0|      2048.0|              7|        0|      0.9271|           2064.84|         true|\n",
      "|f9bd68078c17c4|f1631215f89a6b|6dc8ff871e21e6|      0|     3|      192.0|    0|            1|    0|       10|         0|    2|          1|      207.7|         1424|        1|      97|       95|      1578|      0|      0.0056|        0|       33.24|        0|              0|      2232.0|              4|        0|      0.9375|2265.2455999999997|         true|\n",
      "|f1d5d1042b96ce|b4dc6ae6f7e101|6dc8ff871e21e6|      1|     3|       63.5|    0|            0|    1|       49|         0|    0|          0|        0.0|         1424|        1|      97|       95|      1590|      0|      1600.0|        0|       20.47|        0|              0|      3003.0|              3|        0|      0.9479| 4623.469999999999|         true|\n",
      "|b80337c06852c5|9b6402b5e1ad17|6dc8ff871e21e6|      0|     1|      149.0|    0|            0|    0|       48|         0|    0|          0|        0.0|         1424|        1|      97|       95|      1624|      0|         0.0|        0|         0.0|        0|              0|      2025.0|              7|        0|      0.9583|            2025.0|         true|\n",
      "|ea0b5a0f6e8a92|d5ee8b15ec6c0f|6dc8ff871e21e6|      0|     6|      47.64|    0|            0|    1|       47|         0|    0|          0|        0.0|         1424|        1|      97|       95|      1647|      0|         0.0|        0|         0.0|        0|              0|      1900.0|              4|        0|      0.9688|            1900.0|         true|\n",
      "|229c01d8080670|f0a713464e0e61|6dc8ff871e21e6|      0|     6|      611.2|    0|            2|    1|        3|         0|    5|          1|      72.79|         1424|        1|      97|       95|      1514|      0|         0.0|        0|         0.0|        0|              0|      3024.0|              5|        0|      0.9792|            3024.0|         true|\n",
      "|f906ce1b96b3b9|1740c0f20e1790|6dc8ff871e21e6|      2|     7|      458.6|    0|            1|   15|        2|         0|    5|          1|      82.24|         1424|        1|      97|       95|      1519|      0|         0.0|        0|         0.0|        0|              0|      3188.0|              8|        0|      0.9896|            3188.0|         true|\n",
      "|bc27dbb68ce049|ccda9734128aa9|6dc8ff871e21e6|      0|    10|      960.8|    0|            4|    6|        1|         0|   11|          2|      97.85|         1424|        1|      97|       95|      1932|      0|         0.0|        0|         0.0|        0|              0|      3134.0|              5|        0|         1.0|            3134.0|         true|\n",
      "+--------------+--------------+--------------+-------+------+-----------+-----+-------------+-----+---------+----------+-----+-----------+-----------+-------------+---------+--------+---------+----------+-------+------------+---------+------------+---------+---------------+------------+---------------+---------+------------+------------------+-------------+\n",
      "\n"
     ]
    }
   ],
   "source": [
    "sqlCtx.sql(\"\"\"SELECT *\n",
    "                    from pubg \n",
    "                    where matchid = '6dc8ff871e21e6' \n",
    "                    order by winPlacePerc\"\"\").show(100)"
   ]
  },
  {
   "cell_type": "code",
   "execution_count": null,
   "id": "latter-patrol",
   "metadata": {},
   "outputs": [],
   "source": []
  },
  {
   "cell_type": "code",
   "execution_count": 19,
   "id": "explicit-behavior",
   "metadata": {},
   "outputs": [
    {
     "name": "stdout",
     "output_type": "stream",
     "text": [
      "+--------------+--------------+--------------+-------+------+-----------+-----+-------------+-----+---------+----------+-----+-----------+-----------+-------------+---------+--------+---------+----------+-------+------------+---------+------------+---------+---------------+------------+---------------+---------+------------+--------+-------------+\n",
      "|            Id|       groupId|       matchId|assists|boosts|damageDealt|DBNOs|headshotKills|heals|killPlace|killPoints|kills|killStreaks|longestKill|matchDuration|matchtype|maxPlace|numGroups|rankPoints|revives|rideDistance|roadKills|swimDistance|teamKills|vehicleDestroys|walkDistance|weaponsAcquired|winPoints|winPlacePerc|distance|isFirstPerson|\n",
      "+--------------+--------------+--------------+-------+------+-----------+-----+-------------+-----+---------+----------+-----+-----------+-----------+-------------+---------+--------+---------+----------+-------+------------+---------+------------+---------+---------------+------------+---------------+---------+------------+--------+-------------+\n",
      "|cf806bed1e2faa|00523e90e8568c|6dc8ff871e21e6|      0|     0|      127.3|    0|            0|    0|       44|         0|    1|          1|      5.574|         1424|        1|      97|       95|      1470|      0|         0.0|        0|         0.0|        0|              0|        76.3|              2|        0|      0.1979|    76.3|         true|\n",
      "|f921a757de248b|00523e90e8568c|6dc8ff871e21e6|      0|     0|        0.0|    0|            0|    0|       80|         0|    0|          0|        0.0|         1424|        1|      97|       95|      1500|      0|         0.0|        0|         0.0|        0|              0|         0.0|              0|        0|      0.1979|     0.0|         true|\n",
      "|213eb3ec42070d|8f7560b8e2a612|6dc8ff871e21e6|      0|     0|      154.2|    0|            0|    0|       23|         0|    1|          1|      26.96|         1424|        1|      97|       95|      1634|      0|      1299.0|        0|         0.0|        0|              0|      1543.0|              5|        0|      0.7812|  2842.0|         true|\n",
      "|cd3d45172d253e|8f7560b8e2a612|6dc8ff871e21e6|      0|     1|      74.73|    0|            0|    3|       52|         0|    0|          0|        0.0|         1424|        1|      97|       95|      1887|      0|         0.0|        0|         0.0|        0|              0|      1122.0|              7|        0|      0.7812|  1122.0|         true|\n",
      "+--------------+--------------+--------------+-------+------+-----------+-----+-------------+-----+---------+----------+-----+-----------+-----------+-------------+---------+--------+---------+----------+-------+------------+---------+------------+---------+---------------+------------+---------------+---------+------------+--------+-------------+\n",
      "\n"
     ]
    }
   ],
   "source": [
    "# Seleziono i duplicati, usabile solo per match da 1 persona\n",
    "#sqlCtx.sql(\"\"\"SELECT p1.matchtype, p1.id, p1.groupid, p1.matchid, p1.winPlacePerc, p1.kills\n",
    "sqlCtx.sql(\"\"\"SELECT p1.*\n",
    "                    from pubg p1, pubg p2\n",
    "                    where p1.matchid = '6dc8ff871e21e6' \n",
    "                        and p1.groupid = p2.groupid\n",
    "                        and p1.id <> p2.id\n",
    "                    order by winPlacePerc\"\"\").show(100)"
   ]
  },
  {
   "cell_type": "markdown",
   "id": "massive-alert",
   "metadata": {},
   "source": [
    "controllare se si può estrarre dagli 0 i giocatori disconnessi da quelli arrivati ultimi.\n",
    "\n",
    "Cri: forse conviene prima ricavare i giocatori effettivi nel match (ci dovrebbe essere una variabile simile, che indica il numero di squadre)\n",
    "\n",
    "Cri - osservazioni sul matchid 6dc8ff871e21e6\n",
    "Questo match è composto da squadre di una persona.\n",
    "Se osserviamo il plot (score X #persone) vediamo come ci sono alcuni punteggi assegnati a due persone, il che è possibile solo in caso di pareggio. Nello specifico ci sono 4 persone con lo stesso punteggio (=> 2 non dovrebbero esistere)\n",
    "La lista di giocatori di tale match risulta essere compsta da 97 elementi, tuttavia, l'attributo numGroups ha valore 95 (che torna con i 2 valori anomali).\n",
    "\n",
    "I due utenti duplicati hanno come id rispettivamente f921a757de248b e cf806bed1e2faa, tuttavia hanno lo stesso groupid. potrebbe essere causato da una perdita di connessione (rientra in partita dopo un crash)?\n",
    "\n",
    "Alcuni attributi di un player tra quei due di prima risultano a 0 (distance, weaponsAcquired, damageDealt). \n",
    "- Potrebbe essere utile unificare i record? UNICA STRADA POSSIBILE\n",
    "- Conviene eliminare uno dei due duplicati (ad esempio quello con distance==0)? NON FATTIBILE --> non è sempre vero (vedi groupid 8f7560b8e2a612)\n",
    "\n",
    "Altre ipotesi:\n",
    "- numGroups indica il numero di gruppi (distinct groupid) nel match\n",
    "- maxPlace indica il numero di giocatori (distinct playerid) nel match\n",
    "- La classifica contiene due giocatori con lo stesso punteggio --> sono quelli crashati e riconnessi che hanno id diverso, ma stesso gruppo. \n",
    "- Guardando le distanze tra un winplaceperc e il suo successore otteniamo la maggior parte delle volte un valore costante (.0104...), ma non sempre (alcune volte è il doppio: .0208). Penso quindi che i percentili generati siano nello stesso numero di maxPlace. Per tenere di conto del problema delle disconnessioni dovremmo quindi trasformare la percentuale nella posizione effettiva della classifica e ricalcolare i percentili calcolandoli sull'attributo maxPlace\n",
    "\n",
    "\n",
    "Date queste osservazioni vedo sempre più necessario il fatto di trattare i dati aggregandoli per gruppi così da poter fare un unico modello e, contemporanemente, risolvere il problema delle riconnessioni (anche perchè nel caso del giocatore singolo sei in grado di capire a che giocatore associare i dati aggregati, nel caso di squadra da più persone chi sarà quello che si è disconnesso/crashato?)"
   ]
  },
  {
   "cell_type": "code",
   "execution_count": null,
   "id": "friendly-finance",
   "metadata": {},
   "outputs": [],
   "source": []
  },
  {
   "cell_type": "markdown",
   "id": "tough-scout",
   "metadata": {},
   "source": [
    "Oss: con somma dei risultati i player risultanti avrebbero alcuni attributi con domanio diverso e dipendente dal tipo di match, forse è meglio fare la media\n",
    "\n",
    "Suggerimenti per l'aggregazione.\n",
    "Invariati:\n",
    "- Id: eliminato\n",
    "- groupId: nuova chiave\n",
    "- matchId (dipendende funzionalmente dal gruppo)\n",
    "- matchDuration\n",
    "- winPlacePerc\n",
    "- isFirstPerson\n",
    "- matchtype\n",
    "- maxPlace\n",
    "- numGroups\n",
    "\n",
    "somma o int(media):\n",
    "- assists: nel caso di solo possono essere anche != da 0, quindi possiamo fare sei la somma che int(media)\n",
    "- boosts\n",
    "- heals\n",
    "- kills\n",
    "- headshotKills\n",
    "- killStreaks\n",
    "- roadKills\n",
    "- longestKill\n",
    "- vehicleDestroys (forse anche top, almeno si savano quei pochi che hanno distrutto un veicolo)\n",
    "- weaponsAcquired\n",
    "\n",
    "somma o media:\n",
    "- damageDealt\n",
    "- distance\n",
    "- rideDistance\n",
    "- swimDistance\n",
    "- walkDistance\n",
    "\n",
    "max?\n",
    "- killPlace: viene calcolato per ogni giocatore anche in caso di gruppi e riconnessioni.\n",
    "- rankPoints: sono diversi sempre, anche in caso di gruppi e riconnessioni\n",
    "- killPoints: nei 2 match che ho preso i valori sono sempre 0\n",
    "- winPoints: anche questi sono sempre a 0 nei due match analizzati\n",
    "\n",
    "#### LA QUERY È FINO A QUI\n",
    "\n",
    "altri\n",
    "- DBNOs: questo attributo è sempre uguale a 0 nei solo players. Cosa volgiamo fare? aggregare vorrebbe dire avere domini diversi a seconfa della condizione matchtype=solo, mettere tutto a 0/eliminare l'attributo vorrebbe dire perdere dei dati\n",
    "- revives\n",
    "- teamKills"
   ]
  },
  {
   "cell_type": "code",
   "execution_count": 42,
   "id": "adopted-delaware",
   "metadata": {},
   "outputs": [
    {
     "data": {
      "text/plain": [
       "78158"
      ]
     },
     "execution_count": 42,
     "metadata": {},
     "output_type": "execute_result"
    }
   ],
   "source": [
    "data.where(col('distance') == 0).where(col('weaponsAcquired') == 0).count()"
   ]
  },
  {
   "cell_type": "markdown",
   "id": "dangerous-london",
   "metadata": {},
   "source": [
    "## Discretizzazione target"
   ]
  },
  {
   "cell_type": "code",
   "execution_count": 34,
   "id": "adjusted-admission",
   "metadata": {},
   "outputs": [],
   "source": [
    "data = data.withColumn('winPlaceClass', when(col(\"winPlacePerc\") == 0, 6)\n",
    "                                .when(col(\"winPlacePerc\") == 1,  1)\n",
    "                                .when( (col(\"winPlacePerc\") > 0) & (col(\"winPlacePerc\") <= 0.25 ), 5)\n",
    "                                .when( (col(\"winPlacePerc\") > 0.25) & (col(\"winPlacePerc\") <= 0.5 ), 4)\n",
    "                                .when( (col(\"winPlacePerc\") > 0.5) & (col(\"winPlacePerc\") <= 0.75 ), 3)\n",
    "                                .when( (col(\"winPlacePerc\") > 0.75) & (col(\"winPlacePerc\") < 1 ), 2)\n",
    "               )\n",
    "\n",
    "data.createOrReplaceTempView(\"pubg\")"
   ]
  },
  {
   "cell_type": "code",
   "execution_count": 37,
   "id": "regulated-element",
   "metadata": {
    "scrolled": true
   },
   "outputs": [
    {
     "name": "stdout",
     "output_type": "stream",
     "text": [
      "+--------------+--------------+-------------+-------------+-------------+---------+--------+---------+----------+----------+---------+---------+---------+---------+-----------------+-----------------+---------------+-------------+-------------+---------------+-------------------+-------------------+-------------------+------------------+------------------+------------------+------------------+----------------+-----------------+----------------+------------------+------------------+------------------+---------+---------+-----------+-----------+-------------+-------------+-------------+--------------+--------------+-------------+\n",
      "|       groupId|       matchId|matchDuration|winPlaceClass|isFirstPerson|matchtype|maxPlace|numGroups|assist_SUM|assist_AVG|heals_SUM|heals_AVG|kills_SUM|kills_AVG|headshotKills_SUM|headshotKills_AVG|killStreaks_MAX|roadKills_SUM|roadKills_AVG|longestKill_MAX|vehicleDestroys_MAX|weaponsAcquired_SUM|weaponsAcquired_AVG|   damageDealt_SUM|   damageDealt_AVG|      distance_SUM|      distance_AVG|rideDistance_SUM| rideDistance_AVG|swimDistance_SUM|  swimDistance_AVG|  walkDistance_SUM|  walkDistance_AVG|DBNOs_SUM|DBNOs_AVG|revives_SUM|revives_AVG|teamKills_SUM|teamKills_AVG|killPlace_MAX|rankPoints_MAX|killPoints_MAX|winPoints_MAX|\n",
      "+--------------+--------------+-------------+-------------+-------------+---------+--------+---------+----------+----------+---------+---------+---------+---------+-----------------+-----------------+---------------+-------------+-------------+---------------+-------------------+-------------------+-------------------+------------------+------------------+------------------+------------------+----------------+-----------------+----------------+------------------+------------------+------------------+---------+---------+-----------+-----------+-------------+-------------+-------------+--------------+--------------+-------------+\n",
      "|8d18d9587ea728|b8eb63ddd462ba|         1959|            4|         true|        4|      25|       24|         1|         0|       11|        3|        3|        1|                0|                0|              1|            0|            0|           28.2|                  0|                 19|                  6|            419.75|139.91666666666666|            2147.2| 715.7333333333332|             0.0|              0.0|             0.0|               0.0|            2147.2| 715.7333333333332|        2|        0|          2|          0|            0|            0|           53|          1486|             0|            0|\n",
      "|20f52977aa2654|96be3fe48d848a|         1842|            4|         true|        2|      47|       45|         0|         0|        1|        0|        1|        0|                0|                0|              1|            0|            0|          15.89|                  0|                 12|                  6|            164.68|             82.34|1600.6999999999998| 800.3499999999999|             0.0|              0.0|             0.0|               0.0|1600.6999999999998| 800.3499999999999|        1|        0|          0|          0|            0|            0|           71|          1513|             0|            0|\n",
      "|df36922667f5e6|649a068541fbb3|         1304|            4|         true|        1|      98|       97|         1|         1|        1|        1|        0|        0|                0|                0|              0|            0|            0|            0.0|                  0|                  3|                  3|             105.3|             105.3|             84.13|             84.13|             0.0|              0.0|             0.0|               0.0|             84.13|             84.13|        0|        0|          0|          0|            0|            0|           66|            -1|          1091|         1468|\n",
      "|0a0a2e893984ba|a9d4e41f813a9a|         1860|            2|         true|        1|      91|       89|         0|         0|        1|        1|        2|        2|                1|                1|              1|            0|            0|          168.4|                  0|                  5|                  5|             100.6|             100.6|            5066.0|            5066.0|          1128.0|           1128.0|             0.0|               0.0|            3938.0|            3938.0|        0|        0|          0|          0|            0|            0|           11|          1523|             0|            0|\n",
      "|9f929c8a97f2cc|6d199eead30c23|         1755|            4|         true|        4|      27|       24|         1|         0|        0|        0|        2|        0|                0|                0|              1|            0|            0|          3.085|                  0|                 25|                  6|            220.83|           55.2075|            5230.4|            1307.6|             0.0|              0.0|             0.0|               0.0|            5230.4|            1307.6|        3|        0|          0|          0|            0|            0|           62|            -1|          1633|         1624|\n",
      "|39b496473e45b9|46f726c2403456|         1435|            5|        false|        2|      50|       45|         2|         1|        0|        0|        4|        2|                0|                0|              2|            0|            0|          45.54|                  0|                  6|                  3|             482.9|            241.45|          437.1059|         218.55295|          0.0159|          0.00795|           11.23|             5.615|            425.86|            212.93|        2|        1|          1|          0|            0|            0|           81|          1580|             0|            0|\n",
      "|7d224ba7e760ab|34931a75615feb|         1425|            3|         true|        1|      86|       84|         0|         0|        2|        2|        1|        1|                0|                0|              1|            0|            0|            0.0|                  0|                  6|                  6|             100.0|             100.0|            2812.4|            2812.4|           909.4|            909.4|             0.0|               0.0|            1903.0|            1903.0|        0|        0|          0|          0|            0|            0|           29|          1496|             0|            0|\n",
      "|b9916aafd8866e|12d12250424764|         1861|            4|         true|        4|      28|       26|         0|         0|        5|        1|        1|        0|                0|                0|              1|            1|            0|          5.274|                  0|                 15|                  3|            116.91|           29.2275|16812.783900000002|4203.1959750000005|       6289.0119|      1572.252975|          15.772|             3.943|           10508.0|            2627.0|        2|        0|          0|          0|            1|            0|           68|          1494|             0|            0|\n",
      "|6e436783e868f8|24132072626e85|         1409|            3|         true|        4|      28|       28|         0|         0|        8|        2|        1|        0|                0|                0|              1|            0|            0|          86.13|                  0|                 13|                  4|             279.6|              93.2|          3610.584|          1203.528|             0.0|              0.0|          41.584|13.861333333333334|            3569.0|1189.6666666666667|        0|        0|          1|          0|            0|            0|           63|          1489|             0|            0|\n",
      "|cf934eb2a58c53|2fe1a41b8d3cc4|         1372|            2|        false|        4|      26|       25|         1|         0|        9|        3|        0|        0|                0|                0|              0|            0|            0|            0.0|                  0|                 15|                  5|250.92000000000002|             83.64|            7508.6| 2502.866666666667|          2573.6|857.8666666666667|             0.0|               0.0|            4935.0|            1645.0|        0|        0|          1|          0|            0|            0|           49|          1484|             0|            0|\n",
      "+--------------+--------------+-------------+-------------+-------------+---------+--------+---------+----------+----------+---------+---------+---------+---------+-----------------+-----------------+---------------+-------------+-------------+---------------+-------------------+-------------------+-------------------+------------------+------------------+------------------+------------------+----------------+-----------------+----------------+------------------+------------------+------------------+---------+---------+-----------+-----------+-------------+-------------+-------------+--------------+--------------+-------------+\n",
      "only showing top 10 rows\n",
      "\n"
     ]
    }
   ],
   "source": [
    "res = sqlCtx.sql(\"\"\"SELECT \n",
    "                        groupId, matchId, matchDuration, winPlaceClass, isFirstPerson, matchtype, maxPlace, numGroups,\n",
    "                        \n",
    "                        SUM(assists) AS assist_SUM,\n",
    "                        IF(COUNT(*) > matchtype, INT(SUM(assists)/matchtype), INT(SUM(assists)/COUNT(*))) as assist_AVG,\n",
    "                            \n",
    "                        SUM(heals) AS heals_SUM, \n",
    "                        INT(IF(COUNT(*) > matchtype, SUM(heals)/matchtype, SUM(heals)/COUNT(*))) as heals_AVG,\n",
    "                            \n",
    "                        SUM(kills) AS kills_SUM, \n",
    "                        INT(IF(COUNT(*) > matchtype, SUM(kills)/matchtype, SUM(kills)/COUNT(*))) as kills_AVG,\n",
    "                            \n",
    "                        SUM(headshotKills) AS headshotKills_SUM, \n",
    "                        INT(IF(COUNT(*) > matchtype, SUM(headshotKills)/matchtype, SUM(headshotKills)/COUNT(*))) as headshotKills_AVG,\n",
    "                            \n",
    "                        MAX(killStreaks) AS killStreaks_MAX,\n",
    "                        \n",
    "                        SUM(roadKills) AS roadKills_SUM, \n",
    "                        INT(IF(COUNT(*) > matchtype, SUM(roadKills)/matchtype, SUM(roadKills)/COUNT(*))) as roadKills_AVG,\n",
    "                            \n",
    "                        MAX(longestKill) as longestKill_MAX,\n",
    "                            \n",
    "                        MAX(vehicleDestroys) AS vehicleDestroys_MAX, \n",
    "                            \n",
    "                        SUM(weaponsAcquired) AS weaponsAcquired_SUM, \n",
    "                        INT(IF(COUNT(*) > matchtype, SUM(weaponsAcquired)/matchtype, SUM(weaponsAcquired)/COUNT(*))) as weaponsAcquired_AVG,\n",
    "                            \n",
    "                        SUM(damageDealt) AS damageDealt_SUM, \n",
    "                        IF(COUNT(*) > matchtype, SUM(damageDealt)/matchtype, SUM(damageDealt)/COUNT(*)) as damageDealt_AVG,\n",
    "                        \n",
    "                        SUM(distance) AS distance_SUM, \n",
    "                        IF(COUNT(*) > matchtype, SUM(distance)/matchtype, SUM(distance)/COUNT(*)) as distance_AVG,\n",
    "                        \n",
    "                        SUM(rideDistance) AS rideDistance_SUM, \n",
    "                        IF(COUNT(*) > matchtype, SUM(rideDistance)/matchtype, SUM(rideDistance)/COUNT(*)) as rideDistance_AVG,\n",
    "                        \n",
    "                        SUM(swimDistance) AS swimDistance_SUM, \n",
    "                        IF(COUNT(*) > matchtype, SUM(swimDistance)/matchtype, SUM(swimDistance)/COUNT(*)) as swimDistance_AVG,\n",
    "                        \n",
    "                        SUM(walkDistance) AS walkDistance_SUM, \n",
    "                        IF(COUNT(*) > matchtype, SUM(walkDistance)/matchtype, SUM(walkDistance)/COUNT(*)) as walkDistance_AVG,\n",
    "                        \n",
    "                        SUM(DBNOs) AS DBNOs_SUM,\n",
    "                        IF(COUNT(*) > matchtype, INT(SUM(DBNOs)/matchtype), INT(SUM(DBNOs)/COUNT(*))) as DBNOs_AVG,\n",
    "                        \n",
    "                        SUM(revives) AS revives_SUM,\n",
    "                        IF(COUNT(*) > matchtype, INT(SUM(revives)/matchtype), INT(SUM(revives)/COUNT(*))) as revives_AVG,\n",
    "                        \n",
    "                        SUM(teamKills) AS teamKills_SUM,\n",
    "                        IF(COUNT(*) > matchtype, INT(SUM(teamKills)/matchtype), INT(SUM(teamKills)/COUNT(*))) as teamKills_AVG,\n",
    "\n",
    "                        MAX(killPlace) AS killPlace_MAX,\n",
    "                        MAX(rankPoints) AS rankPoints_MAX,\n",
    "                        MAX(killPoints) AS killPoints_MAX,\n",
    "                        MAX(winPoints) AS winPoints_MAX\n",
    "                         \n",
    "                         \n",
    "                    from pubg \n",
    "                    group by groupId, matchId, matchDuration, winPlaceClass, isFirstPerson, matchtype, maxPlace, numGroups\n",
    "                    \"\"\")\n",
    "\n",
    "res.show(10)"
   ]
  },
  {
   "cell_type": "code",
   "execution_count": 38,
   "id": "qualified-monster",
   "metadata": {},
   "outputs": [],
   "source": [
    "df = res\n",
    "df.repartition(1).write.option(\"header\",True).option(\"compression\",\"gzip\").csv(\"tmp\")\n",
    "!cp tmp/*.csv.gz GROUP.csv.gz\n",
    "!rm -rf tmp/"
   ]
  },
  {
   "cell_type": "code",
   "execution_count": null,
   "id": "abandoned-migration",
   "metadata": {},
   "outputs": [],
   "source": []
  },
  {
   "cell_type": "code",
   "execution_count": null,
   "id": "thirty-dynamics",
   "metadata": {},
   "outputs": [],
   "source": []
  },
  {
   "cell_type": "markdown",
   "id": "enabling-banking",
   "metadata": {},
   "source": [
    "# Data understanding"
   ]
  },
  {
   "cell_type": "markdown",
   "id": "elect-allergy",
   "metadata": {},
   "source": [
    "data.summary().toPandas()"
   ]
  },
  {
   "cell_type": "code",
   "execution_count": 3,
   "id": "qualified-council",
   "metadata": {},
   "outputs": [
    {
     "data": {
      "text/html": [
       "<div>\n",
       "<style scoped>\n",
       "    .dataframe tbody tr th:only-of-type {\n",
       "        vertical-align: middle;\n",
       "    }\n",
       "\n",
       "    .dataframe tbody tr th {\n",
       "        vertical-align: top;\n",
       "    }\n",
       "\n",
       "    .dataframe thead th {\n",
       "        text-align: right;\n",
       "    }\n",
       "</style>\n",
       "<table border=\"1\" class=\"dataframe\">\n",
       "  <thead>\n",
       "    <tr style=\"text-align: right;\">\n",
       "      <th></th>\n",
       "      <th>Id</th>\n",
       "      <th>groupId</th>\n",
       "      <th>matchId</th>\n",
       "      <th>assists</th>\n",
       "      <th>boosts</th>\n",
       "      <th>damageDealt</th>\n",
       "      <th>DBNOs</th>\n",
       "      <th>headshotKills</th>\n",
       "      <th>heals</th>\n",
       "      <th>killPlace</th>\n",
       "      <th>...</th>\n",
       "      <th>revives</th>\n",
       "      <th>rideDistance</th>\n",
       "      <th>roadKills</th>\n",
       "      <th>swimDistance</th>\n",
       "      <th>teamKills</th>\n",
       "      <th>vehicleDestroys</th>\n",
       "      <th>walkDistance</th>\n",
       "      <th>weaponsAcquired</th>\n",
       "      <th>winPoints</th>\n",
       "      <th>winPlacePerc</th>\n",
       "    </tr>\n",
       "  </thead>\n",
       "  <tbody>\n",
       "    <tr>\n",
       "      <th>0</th>\n",
       "      <td>0</td>\n",
       "      <td>0</td>\n",
       "      <td>0</td>\n",
       "      <td>0</td>\n",
       "      <td>0</td>\n",
       "      <td>0</td>\n",
       "      <td>0</td>\n",
       "      <td>0</td>\n",
       "      <td>0</td>\n",
       "      <td>0</td>\n",
       "      <td>...</td>\n",
       "      <td>0</td>\n",
       "      <td>0</td>\n",
       "      <td>0</td>\n",
       "      <td>0</td>\n",
       "      <td>0</td>\n",
       "      <td>0</td>\n",
       "      <td>0</td>\n",
       "      <td>0</td>\n",
       "      <td>0</td>\n",
       "      <td>1</td>\n",
       "    </tr>\n",
       "  </tbody>\n",
       "</table>\n",
       "<p>1 rows × 29 columns</p>\n",
       "</div>"
      ],
      "text/plain": [
       "   Id  groupId  matchId  assists  boosts  damageDealt  DBNOs  headshotKills  \\\n",
       "0   0        0        0        0       0            0      0              0   \n",
       "\n",
       "   heals  killPlace  ...  revives  rideDistance  roadKills  swimDistance  \\\n",
       "0      0          0  ...        0             0          0             0   \n",
       "\n",
       "   teamKills  vehicleDestroys  walkDistance  weaponsAcquired  winPoints  \\\n",
       "0          0                0             0                0          0   \n",
       "\n",
       "   winPlacePerc  \n",
       "0             1  \n",
       "\n",
       "[1 rows x 29 columns]"
      ]
     },
     "execution_count": 3,
     "metadata": {},
     "output_type": "execute_result"
    }
   ],
   "source": [
    "# Find Count of Null, None, NaN of All DataFrame Columns\n",
    "from pyspark.sql.functions import col, isnan, when, count\n",
    "\n",
    "data.select([count(when(isnan(c) | col(c).isNull(), c)).alias(c) for c in data.columns]).toPandas()"
   ]
  },
  {
   "cell_type": "code",
   "execution_count": 4,
   "id": "valuable-pilot",
   "metadata": {},
   "outputs": [],
   "source": [
    "from pyspark.sql.functions import col\n",
    "\n",
    "data = data.dropna()"
   ]
  },
  {
   "cell_type": "code",
   "execution_count": null,
   "id": "major-inspection",
   "metadata": {},
   "outputs": [],
   "source": []
  },
  {
   "cell_type": "markdown",
   "id": "affected-welsh",
   "metadata": {},
   "source": [
    "## matchType\n",
    "string identifying the game mode that the data comes from. The standard modes are “solo”, “duo”, “squad”, “solo-fpp”, “duo-fpp”, and “squad-fpp”; other modes are from events or custom matches."
   ]
  },
  {
   "cell_type": "code",
   "execution_count": 5,
   "id": "lucky-springer",
   "metadata": {},
   "outputs": [
    {
     "data": {
      "text/plain": [
       "<matplotlib.axes._subplots.AxesSubplot at 0x7f36a0ab67f0>"
      ]
     },
     "execution_count": 5,
     "metadata": {},
     "output_type": "execute_result"
    },
    {
     "data": {
      "image/png": "[encoded data removed]",
      "text/plain": [
       "<Figure size 432x288 with 1 Axes>"
      ]
     },
     "metadata": {
      "needs_background": "light"
     },
     "output_type": "display_data"
    }
   ],
   "source": [
    "tmp = sqlCtx.sql(\"\"\"SELECT matchtype, count(distinct groupId) as count FROM pubg GROUP BY matchtype ORDER BY count(distinct groupId)\"\"\")\n",
    "tmp.toPandas().set_index(\"matchtype\").plot(kind=\"bar\")"
   ]
  },
  {
   "cell_type": "code",
   "execution_count": 6,
   "id": "opposite-value",
   "metadata": {},
   "outputs": [],
   "source": [
    "#tmp.filter(col('count') > 10000)[['matchType']]\n",
    "toKeep = tmp.rdd.filter(lambda x: x[1] > 10000).map(lambda x: x[\"matchtype\"]).collect()"
   ]
  },
  {
   "cell_type": "code",
   "execution_count": 7,
   "id": "marked-grade",
   "metadata": {},
   "outputs": [
    {
     "data": {
      "text/plain": [
       "['duo', 'solo', 'squad', 'duo-fpp', 'squad-fpp', 'solo-fpp']"
      ]
     },
     "execution_count": 7,
     "metadata": {},
     "output_type": "execute_result"
    }
   ],
   "source": [
    "toKeep"
   ]
  },
  {
   "cell_type": "code",
   "execution_count": 8,
   "id": "covered-passion",
   "metadata": {},
   "outputs": [],
   "source": [
    "data = data.filter(data.matchType.isin(toKeep))\n",
    "data.createOrReplaceTempView(\"pubg\")"
   ]
  },
  {
   "cell_type": "code",
   "execution_count": 9,
   "id": "ceramic-entrepreneur",
   "metadata": {},
   "outputs": [
    {
     "data": {
      "text/plain": [
       "<matplotlib.axes._subplots.AxesSubplot at 0x7f366a10c760>"
      ]
     },
     "execution_count": 9,
     "metadata": {},
     "output_type": "execute_result"
    },
    {
     "data": {
      "image/png": "[encoded data removed]",
      "text/plain": [
       "<Figure size 432x288 with 1 Axes>"
      ]
     },
     "metadata": {
      "needs_background": "light"
     },
     "output_type": "display_data"
    }
   ],
   "source": [
    "tmp = sqlCtx.sql(\"\"\"SELECT matchtype, count(distinct groupId) as count FROM pubg GROUP BY matchtype ORDER BY count(distinct groupId)\"\"\")\n",
    "tmp.toPandas().set_index(\"matchtype\").plot(kind=\"bar\")"
   ]
  },
  {
   "cell_type": "markdown",
   "id": "saved-fighter",
   "metadata": {},
   "source": [
    "Creazione di una nuova colonna \"isFistPerson\" per indicare se il match è in modalità prima persona o meno"
   ]
  },
  {
   "cell_type": "code",
   "execution_count": 10,
   "id": "casual-cable",
   "metadata": {},
   "outputs": [],
   "source": [
    "data = data.withColumn(\"isFirstPerson\", when(col(\"matchtype\").contains(\"fpp\"), True).otherwise(False))"
   ]
  },
  {
   "cell_type": "markdown",
   "id": "literary-treaty",
   "metadata": {},
   "source": [
    "Si raggruppano i tipi di match in 3 categorie: solo, duo e squad"
   ]
  },
  {
   "cell_type": "code",
   "execution_count": 11,
   "id": "higher-involvement",
   "metadata": {},
   "outputs": [],
   "source": [
    "data = data.withColumn(\"matchtype\", when(col(\"matchtype\").contains(\"duo\"), 2)\n",
    "                           .when(col(\"matchtype\").contains(\"solo\"), 1)\n",
    "                           .otherwise(4))\n",
    "\n",
    "data.createOrReplaceTempView(\"pubg\")"
   ]
  },
  {
   "cell_type": "code",
   "execution_count": 12,
   "id": "perceived-guest",
   "metadata": {},
   "outputs": [
    {
     "data": {
      "text/plain": [
       "<matplotlib.axes._subplots.AxesSubplot at 0x7f366a17da00>"
      ]
     },
     "execution_count": 12,
     "metadata": {},
     "output_type": "execute_result"
    },
    {
     "data": {
      "image/png": "[encoded data removed]",
      "text/plain": [
       "<Figure size 432x288 with 1 Axes>"
      ]
     },
     "metadata": {
      "needs_background": "light"
     },
     "output_type": "display_data"
    }
   ],
   "source": [
    "tmp = sqlCtx.sql(\"\"\"SELECT matchtype, count(distinct groupId) as count FROM pubg GROUP BY matchtype ORDER BY count(distinct groupId)\"\"\")\n",
    "tmp.toPandas().set_index(\"matchtype\").plot(kind=\"bar\")"
   ]
  },
  {
   "cell_type": "code",
   "execution_count": 13,
   "id": "grateful-happening",
   "metadata": {},
   "outputs": [
    {
     "data": {
      "text/html": [
       "<div>\n",
       "<style scoped>\n",
       "    .dataframe tbody tr th:only-of-type {\n",
       "        vertical-align: middle;\n",
       "    }\n",
       "\n",
       "    .dataframe tbody tr th {\n",
       "        vertical-align: top;\n",
       "    }\n",
       "\n",
       "    .dataframe thead th {\n",
       "        text-align: right;\n",
       "    }\n",
       "</style>\n",
       "<table border=\"1\" class=\"dataframe\">\n",
       "  <thead>\n",
       "    <tr style=\"text-align: right;\">\n",
       "      <th></th>\n",
       "      <th>matchtype</th>\n",
       "      <th>count</th>\n",
       "    </tr>\n",
       "  </thead>\n",
       "  <tbody>\n",
       "    <tr>\n",
       "      <th>0</th>\n",
       "      <td>2</td>\n",
       "      <td>638815</td>\n",
       "    </tr>\n",
       "    <tr>\n",
       "      <th>1</th>\n",
       "      <td>4</td>\n",
       "      <td>683241</td>\n",
       "    </tr>\n",
       "    <tr>\n",
       "      <th>2</th>\n",
       "      <td>1</td>\n",
       "      <td>692034</td>\n",
       "    </tr>\n",
       "  </tbody>\n",
       "</table>\n",
       "</div>"
      ],
      "text/plain": [
       "   matchtype   count\n",
       "0          2  638815\n",
       "1          4  683241\n",
       "2          1  692034"
      ]
     },
     "execution_count": 13,
     "metadata": {},
     "output_type": "execute_result"
    }
   ],
   "source": [
    "tmp.toPandas()"
   ]
  },
  {
   "cell_type": "code",
   "execution_count": 14,
   "id": "associate-syria",
   "metadata": {},
   "outputs": [
    {
     "data": {
      "text/plain": [
       "1277630"
      ]
     },
     "execution_count": 14,
     "metadata": {},
     "output_type": "execute_result"
    }
   ],
   "source": [
    "638815 * 2"
   ]
  },
  {
   "cell_type": "code",
   "execution_count": 15,
   "id": "operational-brother",
   "metadata": {},
   "outputs": [
    {
     "data": {
      "text/plain": [
       "2049723"
      ]
     },
     "execution_count": 15,
     "metadata": {},
     "output_type": "execute_result"
    }
   ],
   "source": [
    "683241 * 3"
   ]
  },
  {
   "cell_type": "code",
   "execution_count": 16,
   "id": "accurate-river",
   "metadata": {},
   "outputs": [
    {
     "data": {
      "text/plain": [
       "4361008.5"
      ]
     },
     "execution_count": 16,
     "metadata": {},
     "output_type": "execute_result"
    }
   ],
   "source": [
    "692035 * 1 + 683241 * 3.5 + 638815 * 2"
   ]
  },
  {
   "cell_type": "code",
   "execution_count": 17,
   "id": "cross-andrew",
   "metadata": {},
   "outputs": [
    {
     "data": {
      "text/plain": [
       "290930"
      ]
     },
     "execution_count": 17,
     "metadata": {},
     "output_type": "execute_result"
    }
   ],
   "source": [
    "4702629 - 4411699"
   ]
  },
  {
   "cell_type": "code",
   "execution_count": 18,
   "id": "infectious-serve",
   "metadata": {},
   "outputs": [
    {
     "data": {
      "text/plain": [
       "Index(['Id', 'groupId', 'matchId', 'assists', 'boosts', 'damageDealt', 'DBNOs',\n",
       "       'headshotKills', 'heals', 'killPlace', 'killPoints', 'kills',\n",
       "       'killStreaks', 'longestKill', 'matchDuration', 'matchtype', 'maxPlace',\n",
       "       'numGroups', 'rankPoints', 'revives', 'rideDistance', 'roadKills',\n",
       "       'swimDistance', 'teamKills', 'vehicleDestroys', 'walkDistance',\n",
       "       'weaponsAcquired', 'winPoints', 'winPlacePerc', 'isFirstPerson'],\n",
       "      dtype='object')"
      ]
     },
     "execution_count": 18,
     "metadata": {},
     "output_type": "execute_result"
    }
   ],
   "source": [
    "#sample del dataframe spark per plotting\n",
    "seed = 42\n",
    "withReplacement=False\n",
    "df_pandas = data.sample(withReplacement, 0.2, seed).toPandas()\n",
    "\n",
    "df_pandas.columns"
   ]
  },
  {
   "cell_type": "markdown",
   "id": "perfect-wages",
   "metadata": {},
   "source": [
    "## Identificatori: Id, groupId, matchId"
   ]
  },
  {
   "cell_type": "markdown",
   "id": "serial-article",
   "metadata": {},
   "source": [
    "Id: unique identifier of a single player, which can partecipate or not in a team.\n",
    "\n",
    "groupId: ID to identify a group within a match. If the same group of players plays in different matches, they will have a different groupId each time.\n",
    "\n",
    "matchID: ID to identify match."
   ]
  },
  {
   "cell_type": "code",
   "execution_count": 13,
   "id": "general-gross",
   "metadata": {},
   "outputs": [
    {
     "data": {
      "text/plain": [
       "'Record totali: 4411699'"
      ]
     },
     "execution_count": 13,
     "metadata": {},
     "output_type": "execute_result"
    }
   ],
   "source": [
    "F'Record totali: {data.count()}'"
   ]
  },
  {
   "cell_type": "code",
   "execution_count": 14,
   "id": "thirty-horizontal",
   "metadata": {},
   "outputs": [
    {
     "name": "stdout",
     "output_type": "stream",
     "text": [
      "+---------+\n",
      "|count(Id)|\n",
      "+---------+\n",
      "|  4411699|\n",
      "+---------+\n",
      "\n",
      "+-----------------------+\n",
      "|count(DISTINCT groupId)|\n",
      "+-----------------------+\n",
      "|                2014091|\n",
      "+-----------------------+\n",
      "\n",
      "+-----------------------+\n",
      "|count(DISTINCT matchId)|\n",
      "+-----------------------+\n",
      "|                  47186|\n",
      "+-----------------------+\n",
      "\n"
     ]
    }
   ],
   "source": [
    "sqlCtx.sql(\"\"\"SELECT count(Id) FROM pubg\"\"\").show()\n",
    "sqlCtx.sql(\"\"\"SELECT count(distinct groupId) FROM pubg\"\"\").show()\n",
    "sqlCtx.sql(\"\"\"SELECT count(distinct matchId) FROM pubg\"\"\").show()"
   ]
  },
  {
   "cell_type": "code",
   "execution_count": null,
   "id": "developmental-gallery",
   "metadata": {},
   "outputs": [],
   "source": []
  },
  {
   "cell_type": "code",
   "execution_count": 31,
   "id": "worldwide-sleep",
   "metadata": {
    "scrolled": true
   },
   "outputs": [
    {
     "data": {
      "text/plain": [
       "<matplotlib.axes._subplots.AxesSubplot at 0x7f6db8e47d30>"
      ]
     },
     "execution_count": 31,
     "metadata": {},
     "output_type": "execute_result"
    },
    {
     "data": {
      "image/png": "[encoded data removed]",
      "text/plain": [
       "<Figure size 432x288 with 1 Axes>"
      ]
     },
     "metadata": {
      "needs_background": "light"
     },
     "output_type": "display_data"
    }
   ],
   "source": [
    "lista = data.where(data.matchId == '6dc8ff871e21e6').rdd.map(lambda x: x[\"winPlacePerc\"]).collect()\n",
    "tmp = pd.DataFrame()\n",
    "lista.sort()\n",
    "tmp[\"0\"] = lista\n",
    "tmp[\"0\"].value_counts().sort_index().plot(kind=\"bar\")"
   ]
  },
  {
   "cell_type": "markdown",
   "id": "sustainable-thirty",
   "metadata": {},
   "source": [
    "## assist"
   ]
  },
  {
   "cell_type": "markdown",
   "id": "still-tumor",
   "metadata": {},
   "source": [
    "the assists means that i don't kill enemy but help kill enemy. So when you look at the variable, there is also a kill. In other words, if I kill the enemy? kill +1. but if I did not kill the enemy but helped kill the enemy?assists + 1"
   ]
  },
  {
   "cell_type": "code",
   "execution_count": 15,
   "id": "swedish-playlist",
   "metadata": {},
   "outputs": [
    {
     "name": "stdout",
     "output_type": "stream",
     "text": [
      "+-------+-------------------+\n",
      "|summary|            assists|\n",
      "+-------+-------------------+\n",
      "|  count|            4411699|\n",
      "|   mean|0.22876356705205864|\n",
      "| stddev| 0.5704108192382873|\n",
      "|    min|                  0|\n",
      "|    25%|                  0|\n",
      "|    50%|                  0|\n",
      "|    75%|                  0|\n",
      "|    max|                 12|\n",
      "+-------+-------------------+\n",
      "\n"
     ]
    }
   ],
   "source": [
    "data.select('assists').summary().show()"
   ]
  },
  {
   "cell_type": "code",
   "execution_count": 16,
   "id": "lovely-landing",
   "metadata": {},
   "outputs": [
    {
     "data": {
      "text/plain": [
       "<matplotlib.axes._subplots.AxesSubplot at 0x7fdc29e276d0>"
      ]
     },
     "execution_count": 16,
     "metadata": {},
     "output_type": "execute_result"
    },
    {
     "data": {
      "image/png": "[encoded data removed]",
      "text/plain": [
       "<Figure size 432x288 with 1 Axes>"
      ]
     },
     "metadata": {
      "needs_background": "light"
     },
     "output_type": "display_data"
    }
   ],
   "source": [
    "data.groupBy('assists').count().orderBy(col('count').desc()).toPandas().set_index('assists').plot(kind='bar')"
   ]
  },
  {
   "cell_type": "code",
   "execution_count": 18,
   "id": "metric-summary",
   "metadata": {},
   "outputs": [
    {
     "data": {
      "text/plain": [
       "<matplotlib.axes._subplots.AxesSubplot at 0x7fdc29d2b9d0>"
      ]
     },
     "execution_count": 18,
     "metadata": {},
     "output_type": "execute_result"
    },
    {
     "data": {
      "image/png": "[encoded data removed]",
      "text/plain": [
       "<Figure size 432x288 with 1 Axes>"
      ]
     },
     "metadata": {
      "needs_background": "light"
     },
     "output_type": "display_data"
    }
   ],
   "source": [
    "cross_tab = data.crosstab('assists', 'matchtype').toPandas().sort_values(by=[\"assists_matchtype\"]).set_index('assists_matchtype')\n",
    "cross_tab.plot.bar(stacked=True)"
   ]
  },
  {
   "cell_type": "code",
   "execution_count": null,
   "id": "political-trunk",
   "metadata": {},
   "outputs": [],
   "source": []
  },
  {
   "cell_type": "markdown",
   "id": "informed-fossil",
   "metadata": {},
   "source": [
    "## boosts"
   ]
  },
  {
   "cell_type": "markdown",
   "id": "worse-builder",
   "metadata": {},
   "source": [
    "number of boost items used. Both 'boosts' and 'heals' variables are items that restore health. But the boosts immediately show the effect, and the heals show the effect slowly."
   ]
  },
  {
   "cell_type": "code",
   "execution_count": 20,
   "id": "lined-geology",
   "metadata": {},
   "outputs": [
    {
     "name": "stdout",
     "output_type": "stream",
     "text": [
      "+-------+------------------+\n",
      "|summary|            boosts|\n",
      "+-------+------------------+\n",
      "|  count|           4411699|\n",
      "|   mean|1.1049189892601468|\n",
      "| stddev| 1.714650548315607|\n",
      "|    min|                 0|\n",
      "|    25%|                 0|\n",
      "|    50%|                 0|\n",
      "|    75%|                 2|\n",
      "|    max|                33|\n",
      "+-------+------------------+\n",
      "\n"
     ]
    }
   ],
   "source": [
    "data.select('boosts').summary().show()"
   ]
  },
  {
   "cell_type": "code",
   "execution_count": 26,
   "id": "opened-baptist",
   "metadata": {},
   "outputs": [
    {
     "data": {
      "text/plain": [
       "<matplotlib.axes._subplots.AxesSubplot at 0x7fdbf4ed20a0>"
      ]
     },
     "execution_count": 26,
     "metadata": {},
     "output_type": "execute_result"
    },
    {
     "data": {
      "image/png": "[encoded data removed]",
      "text/plain": [
       "<Figure size 432x288 with 1 Axes>"
      ]
     },
     "metadata": {
      "needs_background": "light"
     },
     "output_type": "display_data"
    }
   ],
   "source": [
    "data.groupBy('boosts').count().orderBy(col('count').desc()).toPandas().set_index('boosts').plot(kind='barh')"
   ]
  },
  {
   "cell_type": "code",
   "execution_count": null,
   "id": "heavy-virgin",
   "metadata": {},
   "outputs": [],
   "source": []
  },
  {
   "cell_type": "markdown",
   "id": "answering-prime",
   "metadata": {},
   "source": [
    "## damageDealt"
   ]
  },
  {
   "cell_type": "markdown",
   "id": "seventh-computer",
   "metadata": {},
   "source": [
    "total damage dealt. Note: Self inflicted damage is subtracted. If it is not headshot, it does not die in one shot. So restores health by using boosts or heals. 'damageDealt' means how many bullets have ever been hit."
   ]
  },
  {
   "cell_type": "code",
   "execution_count": 22,
   "id": "sunset-thickness",
   "metadata": {},
   "outputs": [
    {
     "name": "stdout",
     "output_type": "stream",
     "text": [
      "+-------+------------------+\n",
      "|summary|       damageDealt|\n",
      "+-------+------------------+\n",
      "|  count|           4411699|\n",
      "|   mean|129.26888038757937|\n",
      "| stddev| 165.5582948810127|\n",
      "|    min|               0.0|\n",
      "|    25%|               0.0|\n",
      "|    50%|             83.85|\n",
      "|    75%|             185.1|\n",
      "|    max|            3796.0|\n",
      "+-------+------------------+\n",
      "\n"
     ]
    }
   ],
   "source": [
    "data.select('damageDealt').summary().show()"
   ]
  },
  {
   "cell_type": "code",
   "execution_count": 25,
   "id": "tough-warren",
   "metadata": {},
   "outputs": [
    {
     "data": {
      "text/plain": [
       "<matplotlib.axes._subplots.AxesSubplot at 0x7fdc29b6bd30>"
      ]
     },
     "execution_count": 25,
     "metadata": {},
     "output_type": "execute_result"
    },
    {
     "data": {
      "image/png": "[encoded data removed]",
      "text/plain": [
       "<Figure size 432x288 with 1 Axes>"
      ]
     },
     "metadata": {
      "needs_background": "light"
     },
     "output_type": "display_data"
    }
   ],
   "source": [
    "df_pandas.damageDealt.hist(bins=20)"
   ]
  },
  {
   "cell_type": "code",
   "execution_count": 39,
   "id": "incomplete-charger",
   "metadata": {},
   "outputs": [
    {
     "data": {
      "text/plain": [
       "<matplotlib.axes._subplots.AxesSubplot at 0x7f6d9cca4580>"
      ]
     },
     "execution_count": 39,
     "metadata": {},
     "output_type": "execute_result"
    },
    {
     "data": {
      "image/png": "[encoded data removed]",
      "text/plain": [
       "<Figure size 432x288 with 1 Axes>"
      ]
     },
     "metadata": {
      "needs_background": "light"
     },
     "output_type": "display_data"
    }
   ],
   "source": [
    "sns.boxplot(x=\"matchtype\", y=\"damageDealt\", data=df_pandas)"
   ]
  },
  {
   "cell_type": "code",
   "execution_count": 40,
   "id": "curious-arthur",
   "metadata": {},
   "outputs": [
    {
     "data": {
      "text/plain": [
       "<matplotlib.axes._subplots.AxesSubplot at 0x7f6d9e9eb280>"
      ]
     },
     "execution_count": 40,
     "metadata": {},
     "output_type": "execute_result"
    },
    {
     "data": {
      "image/png": "[encoded data removed]",
      "text/plain": [
       "<Figure size 432x288 with 1 Axes>"
      ]
     },
     "metadata": {
      "needs_background": "light"
     },
     "output_type": "display_data"
    }
   ],
   "source": [
    "sns.scatterplot(x=\"winPlacePerc\", y=\"damageDealt\", data=df_pandas)"
   ]
  },
  {
   "cell_type": "code",
   "execution_count": null,
   "id": "greatest-preliminary",
   "metadata": {},
   "outputs": [],
   "source": []
  },
  {
   "cell_type": "markdown",
   "id": "stuffed-chosen",
   "metadata": {},
   "source": [
    "## DBNOs\n",
    "number of enemy players knocked. DBNOs variable means Number of enemy players knocked. Knocked is not dead, but can not act. so if you are knocked, your colleagues can save you (revives variable) but if you died? you don't save... :("
   ]
  },
  {
   "cell_type": "code",
   "execution_count": 41,
   "id": "mechanical-conviction",
   "metadata": {},
   "outputs": [
    {
     "name": "stdout",
     "output_type": "stream",
     "text": [
      "+-------+------------------+\n",
      "|summary|             DBNOs|\n",
      "+-------+------------------+\n",
      "|  count|           4411698|\n",
      "|   mean|0.6541451840085155|\n",
      "| stddev|1.1241384530222183|\n",
      "|    min|                 0|\n",
      "|    25%|                 0|\n",
      "|    50%|                 0|\n",
      "|    75%|                 1|\n",
      "|    max|                32|\n",
      "+-------+------------------+\n",
      "\n"
     ]
    }
   ],
   "source": [
    "data.select('DBNOs').summary().show()"
   ]
  },
  {
   "cell_type": "code",
   "execution_count": 42,
   "id": "sensitive-confirmation",
   "metadata": {},
   "outputs": [
    {
     "data": {
      "text/plain": [
       "<matplotlib.axes._subplots.AxesSubplot at 0x7f6d9ff9e0a0>"
      ]
     },
     "execution_count": 42,
     "metadata": {},
     "output_type": "execute_result"
    },
    {
     "data": {
      "image/png": "[encoded data removed]",
      "text/plain": [
       "<Figure size 432x288 with 1 Axes>"
      ]
     },
     "metadata": {
      "needs_background": "light"
     },
     "output_type": "display_data"
    }
   ],
   "source": [
    "data.groupBy('DBNOs').count().orderBy(col('count').desc()).toPandas().set_index('DBNOs').plot(kind='bar')"
   ]
  },
  {
   "cell_type": "code",
   "execution_count": 43,
   "id": "phantom-ambassador",
   "metadata": {},
   "outputs": [
    {
     "data": {
      "text/plain": [
       "<matplotlib.axes._subplots.AxesSubplot at 0x7f6da30da190>"
      ]
     },
     "execution_count": 43,
     "metadata": {},
     "output_type": "execute_result"
    },
    {
     "data": {
      "image/png": "[encoded data removed]",
      "text/plain": [
       "<Figure size 432x288 with 1 Axes>"
      ]
     },
     "metadata": {
      "needs_background": "light"
     },
     "output_type": "display_data"
    }
   ],
   "source": [
    "sns.boxplot(x=\"matchtype\", y=\"DBNOs\", data=df_pandas)"
   ]
  },
  {
   "cell_type": "markdown",
   "id": "expected-police",
   "metadata": {},
   "source": [
    "Si osserva che DBNOs è sempre 0 per i match di tipo 'solo'"
   ]
  },
  {
   "cell_type": "code",
   "execution_count": 44,
   "id": "lesser-better",
   "metadata": {},
   "outputs": [
    {
     "data": {
      "text/plain": [
       "<matplotlib.axes._subplots.AxesSubplot at 0x7f6da4ee9880>"
      ]
     },
     "execution_count": 44,
     "metadata": {},
     "output_type": "execute_result"
    },
    {
     "data": {
      "image/png": "[encoded data removed]",
      "text/plain": [
       "<Figure size 432x288 with 1 Axes>"
      ]
     },
     "metadata": {
      "needs_background": "light"
     },
     "output_type": "display_data"
    }
   ],
   "source": [
    "sns.scatterplot(x=\"winPlacePerc\", y=\"DBNOs\", data=df_pandas)"
   ]
  },
  {
   "cell_type": "markdown",
   "id": "tutorial-telescope",
   "metadata": {},
   "source": [
    "## headshotKills\n",
    "number of enemy players head-shotted's. It means that a bullet hit his head and he died right away. It's important that he died right away."
   ]
  },
  {
   "cell_type": "code",
   "execution_count": 45,
   "id": "respective-wings",
   "metadata": {},
   "outputs": [
    {
     "name": "stdout",
     "output_type": "stream",
     "text": [
      "+-------+-------------------+\n",
      "|summary|      headshotKills|\n",
      "+-------+-------------------+\n",
      "|  count|            4411698|\n",
      "|   mean|0.22373176949102136|\n",
      "| stddev| 0.5859880788905978|\n",
      "|    min|                  0|\n",
      "|    25%|                  0|\n",
      "|    50%|                  0|\n",
      "|    75%|                  0|\n",
      "|    max|                 26|\n",
      "+-------+-------------------+\n",
      "\n"
     ]
    }
   ],
   "source": [
    "data.select('headshotKills').summary().show()"
   ]
  },
  {
   "cell_type": "code",
   "execution_count": 46,
   "id": "aggressive-corner",
   "metadata": {},
   "outputs": [
    {
     "data": {
      "text/plain": [
       "<matplotlib.axes._subplots.AxesSubplot at 0x7f6da88f64f0>"
      ]
     },
     "execution_count": 46,
     "metadata": {},
     "output_type": "execute_result"
    },
    {
     "data": {
      "image/png": "[encoded data removed]",
      "text/plain": [
       "<Figure size 432x288 with 1 Axes>"
      ]
     },
     "metadata": {
      "needs_background": "light"
     },
     "output_type": "display_data"
    }
   ],
   "source": [
    "data.groupBy('headshotKills').count().orderBy(col('count').desc()).toPandas().set_index('headshotKills').plot(kind='bar')"
   ]
  },
  {
   "cell_type": "code",
   "execution_count": null,
   "id": "defined-routine",
   "metadata": {},
   "outputs": [],
   "source": []
  },
  {
   "cell_type": "markdown",
   "id": "fatty-editing",
   "metadata": {},
   "source": [
    "## heals\n",
    " number of healing items used. See difference with 'boots'."
   ]
  },
  {
   "cell_type": "code",
   "execution_count": 47,
   "id": "visible-barrier",
   "metadata": {},
   "outputs": [
    {
     "name": "stdout",
     "output_type": "stream",
     "text": [
      "+-------+------------------+\n",
      "|summary|             heals|\n",
      "+-------+------------------+\n",
      "|  count|           4411698|\n",
      "|   mean|1.3620658077683467|\n",
      "| stddev| 2.669458631778128|\n",
      "|    min|                 0|\n",
      "|    25%|                 0|\n",
      "|    50%|                 0|\n",
      "|    75%|                 2|\n",
      "|    max|                80|\n",
      "+-------+------------------+\n",
      "\n"
     ]
    }
   ],
   "source": [
    "data.select('heals').summary().show()"
   ]
  },
  {
   "cell_type": "code",
   "execution_count": 48,
   "id": "colonial-bulgaria",
   "metadata": {},
   "outputs": [
    {
     "data": {
      "text/plain": [
       "<matplotlib.axes._subplots.AxesSubplot at 0x7f6da8c86e80>"
      ]
     },
     "execution_count": 48,
     "metadata": {},
     "output_type": "execute_result"
    },
    {
     "data": {
      "image/png": "[encoded data removed]",
      "text/plain": [
       "<Figure size 432x288 with 1 Axes>"
      ]
     },
     "metadata": {
      "needs_background": "light"
     },
     "output_type": "display_data"
    }
   ],
   "source": [
    "df_pandas.heals.hist()"
   ]
  },
  {
   "cell_type": "code",
   "execution_count": 49,
   "id": "adaptive-pavilion",
   "metadata": {},
   "outputs": [
    {
     "data": {
      "text/html": [
       "<div>\n",
       "<style scoped>\n",
       "    .dataframe tbody tr th:only-of-type {\n",
       "        vertical-align: middle;\n",
       "    }\n",
       "\n",
       "    .dataframe tbody tr th {\n",
       "        vertical-align: top;\n",
       "    }\n",
       "\n",
       "    .dataframe thead th {\n",
       "        text-align: right;\n",
       "    }\n",
       "</style>\n",
       "<table border=\"1\" class=\"dataframe\">\n",
       "  <thead>\n",
       "    <tr style=\"text-align: right;\">\n",
       "      <th></th>\n",
       "      <th>matchtype</th>\n",
       "      <th>avg(heals)</th>\n",
       "    </tr>\n",
       "  </thead>\n",
       "  <tbody>\n",
       "    <tr>\n",
       "      <th>0</th>\n",
       "      <td>1</td>\n",
       "      <td>1.010299</td>\n",
       "    </tr>\n",
       "    <tr>\n",
       "      <th>1</th>\n",
       "      <td>4</td>\n",
       "      <td>1.485113</td>\n",
       "    </tr>\n",
       "    <tr>\n",
       "      <th>2</th>\n",
       "      <td>2</td>\n",
       "      <td>1.331256</td>\n",
       "    </tr>\n",
       "  </tbody>\n",
       "</table>\n",
       "</div>"
      ],
      "text/plain": [
       "   matchtype  avg(heals)\n",
       "0          1    1.010299\n",
       "1          4    1.485113\n",
       "2          2    1.331256"
      ]
     },
     "execution_count": 49,
     "metadata": {},
     "output_type": "execute_result"
    }
   ],
   "source": [
    "data.groupBy('matchtype').avg('heals').toPandas()"
   ]
  },
  {
   "cell_type": "code",
   "execution_count": 50,
   "id": "electrical-violin",
   "metadata": {},
   "outputs": [
    {
     "data": {
      "text/plain": [
       "<matplotlib.axes._subplots.AxesSubplot at 0x7f6da88e4c70>"
      ]
     },
     "execution_count": 50,
     "metadata": {},
     "output_type": "execute_result"
    },
    {
     "data": {
      "image/png": "[encoded data removed]",
      "text/plain": [
       "<Figure size 432x288 with 1 Axes>"
      ]
     },
     "metadata": {
      "needs_background": "light"
     },
     "output_type": "display_data"
    }
   ],
   "source": [
    "sns.boxplot(x=\"matchtype\", y=\"heals\", data=df_pandas)"
   ]
  },
  {
   "cell_type": "markdown",
   "id": "champion-disposal",
   "metadata": {},
   "source": [
    "## killPlace\n",
    " ranking in match of number of enemy players killed.\n",
    " \n",
    "> cri: è una classifica che va sempre da 1 a 100 (se non ricordo male) anche nel caso dei gruppi, quindi non so quanto realmente i percentili abbiano senso (magari le persone che mancano sono quelle disconnesse... o magari spostano leggermente i percentili dalla classifica il fatto del doppio record in caso di riconnessione)"
   ]
  },
  {
   "cell_type": "code",
   "execution_count": 51,
   "id": "incorporated-watts",
   "metadata": {},
   "outputs": [
    {
     "name": "stdout",
     "output_type": "stream",
     "text": [
      "+-------+------------------+\n",
      "|summary|         killPlace|\n",
      "+-------+------------------+\n",
      "|  count|           4411698|\n",
      "|   mean|47.728825499841555|\n",
      "| stddev|27.460104599625414|\n",
      "|    min|                 1|\n",
      "|    25%|                24|\n",
      "|    50%|                48|\n",
      "|    75%|                71|\n",
      "|    max|               100|\n",
      "+-------+------------------+\n",
      "\n"
     ]
    }
   ],
   "source": [
    "data.select('killPlace').summary().show()"
   ]
  },
  {
   "cell_type": "code",
   "execution_count": 52,
   "id": "equal-preservation",
   "metadata": {},
   "outputs": [
    {
     "data": {
      "text/plain": [
       "<matplotlib.axes._subplots.AxesSubplot at 0x7f6dad0e68e0>"
      ]
     },
     "execution_count": 52,
     "metadata": {},
     "output_type": "execute_result"
    },
    {
     "data": {
      "image/png": "[encoded data removed]",
      "text/plain": [
       "<Figure size 432x288 with 1 Axes>"
      ]
     },
     "metadata": {
      "needs_background": "light"
     },
     "output_type": "display_data"
    }
   ],
   "source": [
    "df_pandas.killPlace.hist(bins=10)"
   ]
  },
  {
   "cell_type": "code",
   "execution_count": 53,
   "id": "built-services",
   "metadata": {},
   "outputs": [
    {
     "data": {
      "text/plain": [
       "<matplotlib.axes._subplots.AxesSubplot at 0x7f6dad8010a0>"
      ]
     },
     "execution_count": 53,
     "metadata": {},
     "output_type": "execute_result"
    },
    {
     "data": {
      "image/png": "[encoded data removed]",
      "text/plain": [
       "<Figure size 432x288 with 1 Axes>"
      ]
     },
     "metadata": {
      "needs_background": "light"
     },
     "output_type": "display_data"
    }
   ],
   "source": [
    "sns.scatterplot(x=\"winPlacePerc\", y=\"killPlace\", data=df_pandas)"
   ]
  },
  {
   "cell_type": "markdown",
   "id": "seasonal-ownership",
   "metadata": {},
   "source": [
    "## killPoints\n",
    "kills-based external ranking of player. (Think of this as an Elo ranking where only kills matter.) **If there is a value other than -1 in rankPoints, then any 0 in killPoints should be treated as a “None”.**"
   ]
  },
  {
   "cell_type": "code",
   "execution_count": 37,
   "id": "married-vitamin",
   "metadata": {},
   "outputs": [
    {
     "name": "stdout",
     "output_type": "stream",
     "text": [
      "+-------+------------------+\n",
      "|summary|        killPoints|\n",
      "+-------+------------------+\n",
      "|  count|           1778774|\n",
      "|   mean|1255.4712959600265|\n",
      "| stddev|196.80971916710467|\n",
      "|    min|               134|\n",
      "|    25%|              1094|\n",
      "|    50%|              1242|\n",
      "|    75%|              1388|\n",
      "|    max|              2170|\n",
      "+-------+------------------+\n",
      "\n"
     ]
    }
   ],
   "source": [
    "data.filter(col('killPoints') > 0).select('killPoints').summary().show()"
   ]
  },
  {
   "cell_type": "code",
   "execution_count": 36,
   "id": "pressed-league",
   "metadata": {},
   "outputs": [
    {
     "data": {
      "text/plain": [
       "<matplotlib.axes._subplots.AxesSubplot at 0x7fdbf82be3a0>"
      ]
     },
     "execution_count": 36,
     "metadata": {},
     "output_type": "execute_result"
    },
    {
     "data": {
      "image/png": "[encoded data removed]",
      "text/plain": [
       "<Figure size 432x288 with 1 Axes>"
      ]
     },
     "metadata": {
      "needs_background": "light"
     },
     "output_type": "display_data"
    }
   ],
   "source": [
    "df_pandas[df_pandas.killPoints > 0].killPoints.hist()"
   ]
  },
  {
   "cell_type": "code",
   "execution_count": null,
   "id": "worthy-syntax",
   "metadata": {},
   "outputs": [],
   "source": []
  },
  {
   "cell_type": "markdown",
   "id": "innocent-ending",
   "metadata": {},
   "source": [
    "## kills\n",
    "number of enemy players killed.\n",
    "composed by 'headshotKills', 'roadKills', not 'teamKills'"
   ]
  },
  {
   "cell_type": "code",
   "execution_count": 56,
   "id": "employed-briefs",
   "metadata": {},
   "outputs": [
    {
     "name": "stdout",
     "output_type": "stream",
     "text": [
      "+-------+------------------+\n",
      "|summary|             kills|\n",
      "+-------+------------------+\n",
      "|  count|           4411698|\n",
      "|   mean|0.9116072768353591|\n",
      "| stddev|1.5010820312237814|\n",
      "|    min|                 0|\n",
      "|    25%|                 0|\n",
      "|    50%|                 0|\n",
      "|    75%|                 1|\n",
      "|    max|                33|\n",
      "+-------+------------------+\n",
      "\n"
     ]
    },
    {
     "data": {
      "text/html": [
       "<div>\n",
       "<style scoped>\n",
       "    .dataframe tbody tr th:only-of-type {\n",
       "        vertical-align: middle;\n",
       "    }\n",
       "\n",
       "    .dataframe tbody tr th {\n",
       "        vertical-align: top;\n",
       "    }\n",
       "\n",
       "    .dataframe thead th {\n",
       "        text-align: right;\n",
       "    }\n",
       "</style>\n",
       "<table border=\"1\" class=\"dataframe\">\n",
       "  <thead>\n",
       "    <tr style=\"text-align: right;\">\n",
       "      <th></th>\n",
       "      <th>kills</th>\n",
       "      <th>headshotKills</th>\n",
       "      <th>roadKills</th>\n",
       "    </tr>\n",
       "  </thead>\n",
       "  <tbody>\n",
       "    <tr>\n",
       "      <th>0</th>\n",
       "      <td>0</td>\n",
       "      <td>0</td>\n",
       "      <td>0</td>\n",
       "    </tr>\n",
       "    <tr>\n",
       "      <th>1</th>\n",
       "      <td>1</td>\n",
       "      <td>0</td>\n",
       "      <td>0</td>\n",
       "    </tr>\n",
       "    <tr>\n",
       "      <th>2</th>\n",
       "      <td>0</td>\n",
       "      <td>0</td>\n",
       "      <td>0</td>\n",
       "    </tr>\n",
       "    <tr>\n",
       "      <th>3</th>\n",
       "      <td>0</td>\n",
       "      <td>0</td>\n",
       "      <td>0</td>\n",
       "    </tr>\n",
       "    <tr>\n",
       "      <th>4</th>\n",
       "      <td>1</td>\n",
       "      <td>0</td>\n",
       "      <td>0</td>\n",
       "    </tr>\n",
       "  </tbody>\n",
       "</table>\n",
       "</div>"
      ],
      "text/plain": [
       "   kills  headshotKills  roadKills\n",
       "0      0              0          0\n",
       "1      1              0          0\n",
       "2      0              0          0\n",
       "3      0              0          0\n",
       "4      1              0          0"
      ]
     },
     "execution_count": 56,
     "metadata": {},
     "output_type": "execute_result"
    }
   ],
   "source": [
    "data.select('kills').summary().show()\n",
    "df_pandas[['kills', 'headshotKills', 'roadKills']].head(5)"
   ]
  },
  {
   "cell_type": "code",
   "execution_count": 54,
   "id": "freelance-afghanistan",
   "metadata": {},
   "outputs": [
    {
     "data": {
      "text/plain": [
       "<matplotlib.axes._subplots.AxesSubplot at 0x7fdc115a9190>"
      ]
     },
     "execution_count": 54,
     "metadata": {},
     "output_type": "execute_result"
    },
    {
     "data": {
      "image/png": "[encoded data removed]",
      "text/plain": [
       "<Figure size 720x360 with 1 Axes>"
      ]
     },
     "metadata": {
      "needs_background": "light"
     },
     "output_type": "display_data"
    }
   ],
   "source": [
    "#df_pandas.kills.hist()\n",
    "df = data.groupBy('kills').count().orderBy(col('count').desc()).toPandas().set_index('kills')\n",
    "df[df['count'] > 10000].plot(kind='bar', figsize=(10,5))"
   ]
  },
  {
   "cell_type": "code",
   "execution_count": 65,
   "id": "disciplinary-spank",
   "metadata": {},
   "outputs": [
    {
     "data": {
      "text/plain": [
       "<matplotlib.axes._subplots.AxesSubplot at 0x7fdc29ac5e50>"
      ]
     },
     "execution_count": 65,
     "metadata": {},
     "output_type": "execute_result"
    },
    {
     "data": {
      "image/png": "[encoded data removed]",
      "text/plain": [
       "<Figure size 432x288 with 1 Axes>"
      ]
     },
     "metadata": {
      "needs_background": "light"
     },
     "output_type": "display_data"
    }
   ],
   "source": [
    "cross_tab = data.crosstab('kills', 'matchtype').toPandas().sort_values(by=[\"kills_matchtype\"]).set_index('kills_matchtype')\n",
    "cross_tab[cross_tab > 1000].dropna().plot.bar(stacked=True)"
   ]
  },
  {
   "cell_type": "code",
   "execution_count": 58,
   "id": "administrative-biology",
   "metadata": {},
   "outputs": [
    {
     "data": {
      "text/plain": [
       "<matplotlib.axes._subplots.AxesSubplot at 0x7f6db8a18460>"
      ]
     },
     "execution_count": 58,
     "metadata": {},
     "output_type": "execute_result"
    },
    {
     "data": {
      "image/png": "[encoded data removed]",
      "text/plain": [
       "<Figure size 432x288 with 1 Axes>"
      ]
     },
     "metadata": {
      "needs_background": "light"
     },
     "output_type": "display_data"
    }
   ],
   "source": [
    "sns.scatterplot(x=\"winPlacePerc\", y=\"kills\", data=df_pandas)"
   ]
  },
  {
   "cell_type": "code",
   "execution_count": null,
   "id": "chemical-queue",
   "metadata": {},
   "outputs": [],
   "source": []
  },
  {
   "cell_type": "markdown",
   "id": "dietary-rouge",
   "metadata": {},
   "source": [
    "## killStreaks\n",
    "max number of enemy players killed in a short amount of time."
   ]
  },
  {
   "cell_type": "code",
   "execution_count": 59,
   "id": "laden-norman",
   "metadata": {},
   "outputs": [
    {
     "name": "stdout",
     "output_type": "stream",
     "text": [
      "+-------+------------------+\n",
      "|summary|             kills|\n",
      "+-------+------------------+\n",
      "|  count|           4411698|\n",
      "|   mean|0.9116072768353591|\n",
      "| stddev|1.5010820312237814|\n",
      "|    min|                 0|\n",
      "|    25%|                 0|\n",
      "|    50%|                 0|\n",
      "|    75%|                 1|\n",
      "|    max|                33|\n",
      "+-------+------------------+\n",
      "\n"
     ]
    }
   ],
   "source": [
    "data.select('kills').summary().show()"
   ]
  },
  {
   "cell_type": "code",
   "execution_count": 60,
   "id": "broke-ability",
   "metadata": {},
   "outputs": [
    {
     "data": {
      "text/plain": [
       "<matplotlib.axes._subplots.AxesSubplot at 0x7f6db8aaf040>"
      ]
     },
     "execution_count": 60,
     "metadata": {},
     "output_type": "execute_result"
    },
    {
     "data": {
      "image/png": "[encoded data removed]",
      "text/plain": [
       "<Figure size 720x360 with 1 Axes>"
      ]
     },
     "metadata": {
      "needs_background": "light"
     },
     "output_type": "display_data"
    }
   ],
   "source": [
    "#df_pandas.kills.hist()\n",
    "data.groupBy('killStreaks').count().orderBy(col('count').desc()).toPandas().set_index('killStreaks').plot(kind='bar', figsize=(10,5))"
   ]
  },
  {
   "cell_type": "markdown",
   "id": "racial-brave",
   "metadata": {},
   "source": [
    "## longestKill\n",
    "longest distance between player and player killed at time of death. This may be misleading, as downing a player and driving away may lead to a large longestKill stat."
   ]
  },
  {
   "cell_type": "code",
   "execution_count": 61,
   "id": "popular-youth",
   "metadata": {},
   "outputs": [
    {
     "name": "stdout",
     "output_type": "stream",
     "text": [
      "+-------+------------------+\n",
      "|summary|       longestKill|\n",
      "+-------+------------------+\n",
      "|  count|           4411698|\n",
      "|   mean|22.837279579268337|\n",
      "| stddev| 50.65590048388228|\n",
      "|    min|               0.0|\n",
      "|    25%|               0.0|\n",
      "|    50%|               0.0|\n",
      "|    75%|             21.12|\n",
      "|    max|            1003.0|\n",
      "+-------+------------------+\n",
      "\n"
     ]
    }
   ],
   "source": [
    "data.select('longestKill').summary().show()"
   ]
  },
  {
   "cell_type": "code",
   "execution_count": 72,
   "id": "accepted-writer",
   "metadata": {},
   "outputs": [
    {
     "name": "stdout",
     "output_type": "stream",
     "text": [
      "+-------+-----------------+\n",
      "|summary|      longestKill|\n",
      "+-------+-----------------+\n",
      "|  count|          1888976|\n",
      "|   mean|53.33640059233095|\n",
      "| stddev|66.07738281059966|\n",
      "|    min|           0.0178|\n",
      "|    25%|             11.0|\n",
      "|    50%|            28.11|\n",
      "|    75%|            70.27|\n",
      "|    max|           1003.0|\n",
      "+-------+-----------------+\n",
      "\n"
     ]
    }
   ],
   "source": [
    "data.filter(col('longestKill') > 0).select('longestKill').summary().show()"
   ]
  },
  {
   "cell_type": "code",
   "execution_count": 68,
   "id": "identified-authorization",
   "metadata": {},
   "outputs": [
    {
     "data": {
      "text/plain": [
       "<matplotlib.axes._subplots.AxesSubplot at 0x7fdc232b7520>"
      ]
     },
     "execution_count": 68,
     "metadata": {},
     "output_type": "execute_result"
    },
    {
     "data": {
      "image/png": "[encoded data removed]",
      "text/plain": [
       "<Figure size 432x288 with 1 Axes>"
      ]
     },
     "metadata": {
      "needs_background": "light"
     },
     "output_type": "display_data"
    }
   ],
   "source": [
    "df_pandas[df_pandas['longestKill'] > 0].longestKill.hist()"
   ]
  },
  {
   "cell_type": "code",
   "execution_count": 71,
   "id": "tamil-jacob",
   "metadata": {},
   "outputs": [
    {
     "data": {
      "text/plain": [
       "<matplotlib.axes._subplots.AxesSubplot at 0x7fdc23369280>"
      ]
     },
     "execution_count": 71,
     "metadata": {},
     "output_type": "execute_result"
    },
    {
     "data": {
      "image/png": "[encoded data removed]",
      "text/plain": [
       "<Figure size 432x288 with 1 Axes>"
      ]
     },
     "metadata": {
      "needs_background": "light"
     },
     "output_type": "display_data"
    }
   ],
   "source": [
    "df_pandas[df_pandas['kills'] > 0].longestKill.hist()"
   ]
  },
  {
   "cell_type": "markdown",
   "id": "crucial-attempt",
   "metadata": {},
   "source": [
    "## matchDuration\n",
    "duration of whole single/teammate match in seconds.\n",
    "Uguale per tutti all'interno di un match"
   ]
  },
  {
   "cell_type": "code",
   "execution_count": 63,
   "id": "prepared-heating",
   "metadata": {},
   "outputs": [
    {
     "data": {
      "text/html": [
       "<div>\n",
       "<style scoped>\n",
       "    .dataframe tbody tr th:only-of-type {\n",
       "        vertical-align: middle;\n",
       "    }\n",
       "\n",
       "    .dataframe tbody tr th {\n",
       "        vertical-align: top;\n",
       "    }\n",
       "\n",
       "    .dataframe thead th {\n",
       "        text-align: right;\n",
       "    }\n",
       "</style>\n",
       "<table border=\"1\" class=\"dataframe\">\n",
       "  <thead>\n",
       "    <tr style=\"text-align: right;\">\n",
       "      <th></th>\n",
       "      <th>groupId</th>\n",
       "      <th>matchDuration</th>\n",
       "    </tr>\n",
       "  </thead>\n",
       "  <tbody>\n",
       "    <tr>\n",
       "      <th>0</th>\n",
       "      <td>684d5656442f9e</td>\n",
       "      <td>1777</td>\n",
       "    </tr>\n",
       "    <tr>\n",
       "      <th>1</th>\n",
       "      <td>557ca8543fb0dd</td>\n",
       "      <td>1777</td>\n",
       "    </tr>\n",
       "    <tr>\n",
       "      <th>2</th>\n",
       "      <td>b9e8b77c01059b</td>\n",
       "      <td>1777</td>\n",
       "    </tr>\n",
       "    <tr>\n",
       "      <th>3</th>\n",
       "      <td>4c526bf789bcf4</td>\n",
       "      <td>1777</td>\n",
       "    </tr>\n",
       "    <tr>\n",
       "      <th>4</th>\n",
       "      <td>766390c7622843</td>\n",
       "      <td>1777</td>\n",
       "    </tr>\n",
       "    <tr>\n",
       "      <th>5</th>\n",
       "      <td>44961cf90f1aba</td>\n",
       "      <td>1777</td>\n",
       "    </tr>\n",
       "    <tr>\n",
       "      <th>6</th>\n",
       "      <td>766390c7622843</td>\n",
       "      <td>1777</td>\n",
       "    </tr>\n",
       "    <tr>\n",
       "      <th>7</th>\n",
       "      <td>b88c63770f6f54</td>\n",
       "      <td>1777</td>\n",
       "    </tr>\n",
       "    <tr>\n",
       "      <th>8</th>\n",
       "      <td>4c526bf789bcf4</td>\n",
       "      <td>1777</td>\n",
       "    </tr>\n",
       "    <tr>\n",
       "      <th>9</th>\n",
       "      <td>645894055adb04</td>\n",
       "      <td>1777</td>\n",
       "    </tr>\n",
       "  </tbody>\n",
       "</table>\n",
       "</div>"
      ],
      "text/plain": [
       "          groupId  matchDuration\n",
       "0  684d5656442f9e           1777\n",
       "1  557ca8543fb0dd           1777\n",
       "2  b9e8b77c01059b           1777\n",
       "3  4c526bf789bcf4           1777\n",
       "4  766390c7622843           1777\n",
       "5  44961cf90f1aba           1777\n",
       "6  766390c7622843           1777\n",
       "7  b88c63770f6f54           1777\n",
       "8  4c526bf789bcf4           1777\n",
       "9  645894055adb04           1777"
      ]
     },
     "execution_count": 63,
     "metadata": {},
     "output_type": "execute_result"
    }
   ],
   "source": [
    "data.where(col('matchid') == 'aeb375fc57110c').toPandas()[['groupId', 'matchDuration']].head(10)"
   ]
  },
  {
   "cell_type": "code",
   "execution_count": 64,
   "id": "steady-testing",
   "metadata": {},
   "outputs": [
    {
     "name": "stdout",
     "output_type": "stream",
     "text": [
      "+-------+------------------+\n",
      "|summary|     matchDuration|\n",
      "+-------+------------------+\n",
      "|  count|           4411698|\n",
      "|   mean|1580.7029753623208|\n",
      "| stddev| 254.4928844346351|\n",
      "|    min|               728|\n",
      "|    25%|              1367|\n",
      "|    50%|              1438|\n",
      "|    75%|              1850|\n",
      "|    max|              2237|\n",
      "+-------+------------------+\n",
      "\n"
     ]
    }
   ],
   "source": [
    "data.select('matchDuration').summary().show()"
   ]
  },
  {
   "cell_type": "code",
   "execution_count": 65,
   "id": "included-belly",
   "metadata": {},
   "outputs": [
    {
     "data": {
      "text/plain": [
       "<matplotlib.axes._subplots.AxesSubplot at 0x7f6db21bcac0>"
      ]
     },
     "execution_count": 65,
     "metadata": {},
     "output_type": "execute_result"
    },
    {
     "data": {
      "image/png": "[encoded data removed]",
      "text/plain": [
       "<Figure size 432x288 with 1 Axes>"
      ]
     },
     "metadata": {
      "needs_background": "light"
     },
     "output_type": "display_data"
    }
   ],
   "source": [
    "df_pandas.matchDuration.hist()"
   ]
  },
  {
   "cell_type": "code",
   "execution_count": 81,
   "id": "entire-cleaner",
   "metadata": {},
   "outputs": [],
   "source": [
    "df_pandas['match_fpp'] = df_pandas['matchtype'].apply(lambda x: str(x)) + '_' + df_pandas['isFirstPerson'].apply(lambda x: str(x))"
   ]
  },
  {
   "cell_type": "code",
   "execution_count": 91,
   "id": "based-adapter",
   "metadata": {},
   "outputs": [],
   "source": [
    "df_pandas['matchDurationMinutes'] = df_pandas['matchDuration']/60"
   ]
  },
  {
   "cell_type": "code",
   "execution_count": 82,
   "id": "organic-montgomery",
   "metadata": {},
   "outputs": [
    {
     "data": {
      "text/plain": [
       "<matplotlib.axes._subplots.AxesSubplot at 0x7fdc23e064f0>"
      ]
     },
     "execution_count": 82,
     "metadata": {},
     "output_type": "execute_result"
    },
    {
     "data": {
      "image/png": "[encoded data removed]",
      "text/plain": [
       "<Figure size 432x288 with 1 Axes>"
      ]
     },
     "metadata": {
      "needs_background": "light"
     },
     "output_type": "display_data"
    }
   ],
   "source": [
    "sns.histplot(data=df_pandas, x='matchDuration', hue='match_fpp')"
   ]
  },
  {
   "cell_type": "code",
   "execution_count": 92,
   "id": "democratic-acrobat",
   "metadata": {},
   "outputs": [
    {
     "data": {
      "text/plain": [
       "<matplotlib.axes._subplots.AxesSubplot at 0x7fdc18c8d730>"
      ]
     },
     "execution_count": 92,
     "metadata": {},
     "output_type": "execute_result"
    },
    {
     "data": {
      "image/png": "[encoded data removed]",
      "text/plain": [
       "<Figure size 432x288 with 1 Axes>"
      ]
     },
     "metadata": {
      "needs_background": "light"
     },
     "output_type": "display_data"
    }
   ],
   "source": [
    "sns.histplot(data=df_pandas, x='matchDurationMinutes', hue='match_fpp')"
   ]
  },
  {
   "cell_type": "markdown",
   "id": "union-commission",
   "metadata": {},
   "source": [
    "La durata del match dipende dalla mappa (forse)"
   ]
  },
  {
   "cell_type": "code",
   "execution_count": 98,
   "id": "laden-latest",
   "metadata": {},
   "outputs": [
    {
     "data": {
      "text/plain": [
       "<matplotlib.axes._subplots.AxesSubplot at 0x7fdc038f3700>"
      ]
     },
     "execution_count": 98,
     "metadata": {},
     "output_type": "execute_result"
    },
    {
     "data": {
      "image/png": "[encoded data removed]",
      "text/plain": [
       "<Figure size 432x288 with 1 Axes>"
      ]
     },
     "metadata": {
      "needs_background": "light"
     },
     "output_type": "display_data"
    }
   ],
   "source": [
    "sns.boxplot(data=df_pandas, x='match_fpp', y='matchDurationMinutes')"
   ]
  },
  {
   "cell_type": "code",
   "execution_count": 66,
   "id": "fuzzy-reform",
   "metadata": {},
   "outputs": [],
   "source": [
    "#data.groupBy('matchType').avg('matchDuration').toPandas()"
   ]
  },
  {
   "cell_type": "markdown",
   "id": "backed-madrid",
   "metadata": {},
   "source": [
    "## maxPlace\n",
    "worst placement we have data for in the match. This may not match with numGroups, as sometimes the data skips over placements.\n",
    "\n",
    "> cri: questo invece abbiamo visto che dipende dal tipo di match, come numGroups, quindi forse ha poco senso forse analizzarlo in questo modo (strano però che il maxplace minimo faccia 2). \n",
    "\n",
    "> cri2: sia nel caso di maxPlace che in quello di numGroups i numeri dovrebbero essere inforno (poi ok, ci sono le disconnessioni ecc..): <=100 per matchtype=solo, <=50 per matchtype=duo e <=25 per matchtype=4. Ora, guardando il grafico all'inizio abbiamo visto che più o meno abbiamo lo stesso numero di **gruppi** (lo chiamerò g) per ogni tipo di match, ma tutti queste analisi le stiamo facendo con i dati con la granularità di una persona ==> quando andiamo a fare queste statistiche non combaciano i \"pesi\" con il grafico iniziale. Per le partite in solo abbiamo un peso che è 1 (1 gruppo = 1 persona), per le partite in duo abbiamo un peso di 2 (1 gruppo nel grafico di prima conta però almeno 2 record in queste statistiche) e per le partite in squadra abbiamo un peso che, nei migliori dei casi è 3. **Si capisce meglio guardando il grafico 69 dove non abbiamo fatto la distinct sul groupid**"
   ]
  },
  {
   "cell_type": "code",
   "execution_count": 67,
   "id": "hungarian-nightmare",
   "metadata": {},
   "outputs": [
    {
     "name": "stdout",
     "output_type": "stream",
     "text": [
      "+-------+------------------+\n",
      "|summary|          maxPlace|\n",
      "+-------+------------------+\n",
      "|  count|           4411698|\n",
      "|   mean|44.678357176760514|\n",
      "| stddev| 23.80913546335595|\n",
      "|    min|                 2|\n",
      "|    25%|                28|\n",
      "|    50%|                30|\n",
      "|    75%|                49|\n",
      "|    max|               100|\n",
      "+-------+------------------+\n",
      "\n"
     ]
    }
   ],
   "source": [
    "data.select('maxPlace').summary().show()"
   ]
  },
  {
   "cell_type": "code",
   "execution_count": 68,
   "id": "capable-commitment",
   "metadata": {},
   "outputs": [
    {
     "data": {
      "text/html": [
       "<div>\n",
       "<style scoped>\n",
       "    .dataframe tbody tr th:only-of-type {\n",
       "        vertical-align: middle;\n",
       "    }\n",
       "\n",
       "    .dataframe tbody tr th {\n",
       "        vertical-align: top;\n",
       "    }\n",
       "\n",
       "    .dataframe thead th {\n",
       "        text-align: right;\n",
       "    }\n",
       "</style>\n",
       "<table border=\"1\" class=\"dataframe\">\n",
       "  <thead>\n",
       "    <tr style=\"text-align: right;\">\n",
       "      <th></th>\n",
       "      <th>matchtype</th>\n",
       "      <th>avg(maxPlace)</th>\n",
       "    </tr>\n",
       "  </thead>\n",
       "  <tbody>\n",
       "    <tr>\n",
       "      <th>0</th>\n",
       "      <td>1</td>\n",
       "      <td>94.112814</td>\n",
       "    </tr>\n",
       "    <tr>\n",
       "      <th>1</th>\n",
       "      <td>4</td>\n",
       "      <td>28.099487</td>\n",
       "    </tr>\n",
       "    <tr>\n",
       "      <th>2</th>\n",
       "      <td>2</td>\n",
       "      <td>47.711240</td>\n",
       "    </tr>\n",
       "  </tbody>\n",
       "</table>\n",
       "</div>"
      ],
      "text/plain": [
       "   matchtype  avg(maxPlace)\n",
       "0          1      94.112814\n",
       "1          4      28.099487\n",
       "2          2      47.711240"
      ]
     },
     "execution_count": 68,
     "metadata": {},
     "output_type": "execute_result"
    }
   ],
   "source": [
    "data.groupBy('matchtype').avg('maxPlace').toPandas()"
   ]
  },
  {
   "cell_type": "code",
   "execution_count": 69,
   "id": "colored-seminar",
   "metadata": {},
   "outputs": [
    {
     "data": {
      "text/plain": [
       "<matplotlib.axes._subplots.AxesSubplot at 0x7f6db22ad670>"
      ]
     },
     "execution_count": 69,
     "metadata": {},
     "output_type": "execute_result"
    },
    {
     "data": {
      "image/png": "[encoded data removed]",
      "text/plain": [
       "<Figure size 432x288 with 1 Axes>"
      ]
     },
     "metadata": {
      "needs_background": "light"
     },
     "output_type": "display_data"
    }
   ],
   "source": [
    "sns.histplot(data=df_pandas, x='maxPlace', hue='matchtype')"
   ]
  },
  {
   "cell_type": "code",
   "execution_count": 70,
   "id": "present-relaxation",
   "metadata": {},
   "outputs": [
    {
     "data": {
      "text/plain": [
       "<matplotlib.axes._subplots.AxesSubplot at 0x7f6db2da8e50>"
      ]
     },
     "execution_count": 70,
     "metadata": {},
     "output_type": "execute_result"
    },
    {
     "data": {
      "image/png": "[encoded data removed]",
      "text/plain": [
       "<Figure size 432x288 with 1 Axes>"
      ]
     },
     "metadata": {
      "needs_background": "light"
     },
     "output_type": "display_data"
    }
   ],
   "source": [
    "sns.boxplot(x=\"matchtype\", y=\"maxPlace\", data=df_pandas)"
   ]
  },
  {
   "cell_type": "code",
   "execution_count": null,
   "id": "manufactured-introduction",
   "metadata": {},
   "outputs": [],
   "source": []
  },
  {
   "cell_type": "markdown",
   "id": "mounted-hometown",
   "metadata": {},
   "source": [
    "## numGroups\n",
    "number of groups we have data for in the match"
   ]
  },
  {
   "cell_type": "code",
   "execution_count": 71,
   "id": "portuguese-spray",
   "metadata": {},
   "outputs": [
    {
     "name": "stdout",
     "output_type": "stream",
     "text": [
      "+-------+------------------+\n",
      "|summary|         numGroups|\n",
      "+-------+------------------+\n",
      "|  count|           4411698|\n",
      "|   mean| 43.17773383400224|\n",
      "| stddev|23.273124609259003|\n",
      "|    min|                 1|\n",
      "|    25%|                27|\n",
      "|    50%|                30|\n",
      "|    75%|                47|\n",
      "|    max|               100|\n",
      "+-------+------------------+\n",
      "\n"
     ]
    }
   ],
   "source": [
    "data.select('numGroups').summary().show()"
   ]
  },
  {
   "cell_type": "code",
   "execution_count": 72,
   "id": "funded-filename",
   "metadata": {},
   "outputs": [
    {
     "data": {
      "text/plain": [
       "<matplotlib.axes._subplots.AxesSubplot at 0x7f6db2e4ad90>"
      ]
     },
     "execution_count": 72,
     "metadata": {},
     "output_type": "execute_result"
    },
    {
     "data": {
      "image/png": "[encoded data removed]",
      "text/plain": [
       "<Figure size 432x288 with 1 Axes>"
      ]
     },
     "metadata": {
      "needs_background": "light"
     },
     "output_type": "display_data"
    }
   ],
   "source": [
    "sns.histplot(data=df_pandas, x='numGroups', hue='matchtype')"
   ]
  },
  {
   "cell_type": "code",
   "execution_count": 73,
   "id": "prescription-church",
   "metadata": {},
   "outputs": [
    {
     "data": {
      "text/plain": [
       "<matplotlib.axes._subplots.AxesSubplot at 0x7f6db3ac5610>"
      ]
     },
     "execution_count": 73,
     "metadata": {},
     "output_type": "execute_result"
    },
    {
     "data": {
      "image/png": "[encoded data removed]",
      "text/plain": [
       "<Figure size 432x288 with 1 Axes>"
      ]
     },
     "metadata": {
      "needs_background": "light"
     },
     "output_type": "display_data"
    }
   ],
   "source": [
    "sns.boxplot(x=\"matchtype\", y=\"numGroups\", data=df_pandas)"
   ]
  },
  {
   "cell_type": "code",
   "execution_count": null,
   "id": "embedded-ballet",
   "metadata": {},
   "outputs": [],
   "source": []
  },
  {
   "cell_type": "markdown",
   "id": "criminal-setting",
   "metadata": {},
   "source": [
    "## rankPoints\n",
    "Elo-like ranking of player. This ranking is inconsistent and is being deprecated in the API’s next version, so use with caution. **Value of -1 takes place of “None”.** => quindi il dropna all'inizio è inutile in questo caso. correggo il grafico della cella 81"
   ]
  },
  {
   "cell_type": "code",
   "execution_count": 40,
   "id": "pleased-window",
   "metadata": {},
   "outputs": [
    {
     "name": "stdout",
     "output_type": "stream",
     "text": [
      "+-------+------------------+\n",
      "|summary|        rankPoints|\n",
      "+-------+------------------+\n",
      "|  count|           2722103|\n",
      "|   mean|1445.3380279879195|\n",
      "| stddev| 280.3287278123415|\n",
      "|    min|                 0|\n",
      "|    25%|              1460|\n",
      "|    50%|              1494|\n",
      "|    75%|              1512|\n",
      "|    max|              5910|\n",
      "+-------+------------------+\n",
      "\n"
     ]
    }
   ],
   "source": [
    "data.filter(col('rankPoints') >= 0).select('rankPoints').summary().show()"
   ]
  },
  {
   "cell_type": "code",
   "execution_count": 41,
   "id": "stupid-september",
   "metadata": {},
   "outputs": [
    {
     "data": {
      "text/plain": [
       "<matplotlib.axes._subplots.AxesSubplot at 0x7fdbf925ff40>"
      ]
     },
     "execution_count": 41,
     "metadata": {},
     "output_type": "execute_result"
    },
    {
     "data": {
      "image/png": "[encoded data removed]",
      "text/plain": [
       "<Figure size 432x288 with 1 Axes>"
      ]
     },
     "metadata": {
      "needs_background": "light"
     },
     "output_type": "display_data"
    }
   ],
   "source": [
    "df_pandas[df_pandas.rankPoints != -1].rankPoints.hist()"
   ]
  },
  {
   "cell_type": "code",
   "execution_count": null,
   "id": "personal-shadow",
   "metadata": {},
   "outputs": [],
   "source": []
  },
  {
   "cell_type": "markdown",
   "id": "moved-automation",
   "metadata": {},
   "source": [
    "## revives\n",
    " number of times this player revived teammates. I said above, if you knock, your teammates can save you. If a team member is saved, the revives are +1.\n",
    " "
   ]
  },
  {
   "cell_type": "code",
   "execution_count": 30,
   "id": "higher-settle",
   "metadata": {},
   "outputs": [
    {
     "name": "stdout",
     "output_type": "stream",
     "text": [
      "+-------+-------------------+\n",
      "|summary|            revives|\n",
      "+-------+-------------------+\n",
      "|  count|            4411698|\n",
      "|   mean|0.16427688386648406|\n",
      "| stddev|0.47083940184972856|\n",
      "|    min|                  0|\n",
      "|    25%|                  0|\n",
      "|    50%|                  0|\n",
      "|    75%|                  0|\n",
      "|    max|                 39|\n",
      "+-------+-------------------+\n",
      "\n"
     ]
    }
   ],
   "source": [
    "data.select('revives').summary().show()"
   ]
  },
  {
   "cell_type": "code",
   "execution_count": 29,
   "id": "extensive-drama",
   "metadata": {},
   "outputs": [
    {
     "data": {
      "text/plain": [
       "<matplotlib.axes._subplots.AxesSubplot at 0x7f10ec8882e0>"
      ]
     },
     "execution_count": 29,
     "metadata": {},
     "output_type": "execute_result"
    },
    {
     "data": {
      "image/png": "[encoded data removed]",
      "text/plain": [
       "<Figure size 432x288 with 1 Axes>"
      ]
     },
     "metadata": {
      "needs_background": "light"
     },
     "output_type": "display_data"
    }
   ],
   "source": [
    "data.groupBy('revives').count().orderBy(col('count').desc()).toPandas().set_index('revives').plot(kind='bar')"
   ]
  },
  {
   "cell_type": "code",
   "execution_count": null,
   "id": "suspected-height",
   "metadata": {},
   "outputs": [],
   "source": []
  },
  {
   "cell_type": "markdown",
   "id": "critical-basement",
   "metadata": {},
   "source": [
    "## distance (swimDistance, walkDistance, rideDistance)\n",
    "Nuova variabile definita come la somma di swimDistance, walkDistance e rideDistance.\n",
    "\n",
    "rideDistance: total distance traveled in vehicles measured in meters. The PUBG game is so wide that it is hard to walk around.\n",
    "\n",
    "swimDistance: total distance traveled by swimming measured in meters. The map is wide, and there are some kind of river.\n",
    "\n",
    "total distance traveled on foot measured in meters."
   ]
  },
  {
   "cell_type": "code",
   "execution_count": 25,
   "id": "particular-sharing",
   "metadata": {},
   "outputs": [
    {
     "name": "stdout",
     "output_type": "stream",
     "text": [
      "+-------+------------------+\n",
      "|summary|          distance|\n",
      "+-------+------------------+\n",
      "|  count|           4411698|\n",
      "|   mean|1754.1804126073525|\n",
      "| stddev| 2172.929751875514|\n",
      "|    min|               0.0|\n",
      "|    25%|             157.4|\n",
      "|    50%|             780.0|\n",
      "|    75%|            2714.0|\n",
      "|    max|           41270.1|\n",
      "+-------+------------------+\n",
      "\n"
     ]
    }
   ],
   "source": [
    "data = data.withColumn(\"distance\", data['swimDistance'] + data['walkDistance'] + data['rideDistance'])\n",
    "data.select('distance').summary().show()"
   ]
  },
  {
   "cell_type": "code",
   "execution_count": 22,
   "id": "intense-interface",
   "metadata": {},
   "outputs": [
    {
     "data": {
      "text/plain": [
       "<matplotlib.axes._subplots.AxesSubplot at 0x7f36699345b0>"
      ]
     },
     "execution_count": 22,
     "metadata": {},
     "output_type": "execute_result"
    },
    {
     "data": {
      "image/png": "[encoded data removed]",
      "text/plain": [
       "<Figure size 432x288 with 1 Axes>"
      ]
     },
     "metadata": {
      "needs_background": "light"
     },
     "output_type": "display_data"
    }
   ],
   "source": [
    "df_pandas.swimDistance.hist()"
   ]
  },
  {
   "cell_type": "code",
   "execution_count": 23,
   "id": "characteristic-paint",
   "metadata": {},
   "outputs": [
    {
     "data": {
      "text/plain": [
       "<matplotlib.axes._subplots.AxesSubplot at 0x7f3669fc7100>"
      ]
     },
     "execution_count": 23,
     "metadata": {},
     "output_type": "execute_result"
    },
    {
     "data": {
      "image/png": "[encoded data removed]",
      "text/plain": [
       "<Figure size 432x288 with 1 Axes>"
      ]
     },
     "metadata": {
      "needs_background": "light"
     },
     "output_type": "display_data"
    }
   ],
   "source": [
    "df_pandas.walkDistance.hist()"
   ]
  },
  {
   "cell_type": "code",
   "execution_count": 24,
   "id": "vulnerable-pizza",
   "metadata": {},
   "outputs": [
    {
     "data": {
      "text/plain": [
       "<matplotlib.axes._subplots.AxesSubplot at 0x7f365e7fc4c0>"
      ]
     },
     "execution_count": 24,
     "metadata": {},
     "output_type": "execute_result"
    },
    {
     "data": {
      "image/png": "[encoded data removed]",
      "text/plain": [
       "<Figure size 432x288 with 1 Axes>"
      ]
     },
     "metadata": {
      "needs_background": "light"
     },
     "output_type": "display_data"
    }
   ],
   "source": [
    "df_pandas.rideDistance.hist()"
   ]
  },
  {
   "cell_type": "markdown",
   "id": "potential-russian",
   "metadata": {},
   "source": [
    "## vehicleDestroys\n",
    "number of vehicles destroyed. We will rarely destroy a vehicle. In fact, it is very natural. It is difficult to destroy the car. And there is no profit by destroying the car. Even so, the destruction of a car can be thought of in the following sense: the enemy was in the car and shot the car, he hid the car in cover and shot the car or he broke a car with no meaning (strange players)."
   ]
  },
  {
   "cell_type": "code",
   "execution_count": 31,
   "id": "atlantic-wheat",
   "metadata": {},
   "outputs": [
    {
     "name": "stdout",
     "output_type": "stream",
     "text": [
      "+-------+--------------------+\n",
      "|summary|     vehicleDestroys|\n",
      "+-------+--------------------+\n",
      "|  count|             4411698|\n",
      "|   mean|0.007685929544588048|\n",
      "| stddev|  0.0909029566537879|\n",
      "|    min|                   0|\n",
      "|    25%|                   0|\n",
      "|    50%|                   0|\n",
      "|    75%|                   0|\n",
      "|    max|                   5|\n",
      "+-------+--------------------+\n",
      "\n"
     ]
    }
   ],
   "source": [
    "data.select('vehicleDestroys').summary().show()"
   ]
  },
  {
   "cell_type": "code",
   "execution_count": 32,
   "id": "mobile-proposal",
   "metadata": {},
   "outputs": [
    {
     "data": {
      "text/plain": [
       "<matplotlib.axes._subplots.AxesSubplot at 0x7f10b5d36820>"
      ]
     },
     "execution_count": 32,
     "metadata": {},
     "output_type": "execute_result"
    },
    {
     "data": {
      "image/png": "[encoded data removed]",
      "text/plain": [
       "<Figure size 432x288 with 1 Axes>"
      ]
     },
     "metadata": {
      "needs_background": "light"
     },
     "output_type": "display_data"
    }
   ],
   "source": [
    "data.groupBy('vehicleDestroys').count().orderBy(col('count').desc()).toPandas().set_index('vehicleDestroys').plot(kind='bar')"
   ]
  },
  {
   "cell_type": "markdown",
   "id": "original-report",
   "metadata": {},
   "source": [
    "## roadKills\n",
    " number of kills while in a vehicle (it's hard to kill if you're in a car)."
   ]
  },
  {
   "cell_type": "code",
   "execution_count": 26,
   "id": "imposed-marijuana",
   "metadata": {},
   "outputs": [
    {
     "name": "stdout",
     "output_type": "stream",
     "text": [
      "+-------+--------------------+\n",
      "|summary|           roadKills|\n",
      "+-------+--------------------+\n",
      "|  count|             4411698|\n",
      "|   mean|0.003010178847237...|\n",
      "| stddev| 0.06495919528388637|\n",
      "|    min|                   0|\n",
      "|    25%|                   0|\n",
      "|    50%|                   0|\n",
      "|    75%|                   0|\n",
      "|    max|                  18|\n",
      "+-------+--------------------+\n",
      "\n"
     ]
    }
   ],
   "source": [
    "data.select('roadKills').summary().show()"
   ]
  },
  {
   "cell_type": "code",
   "execution_count": 27,
   "id": "comparable-recycling",
   "metadata": {},
   "outputs": [
    {
     "data": {
      "text/plain": [
       "<matplotlib.axes._subplots.AxesSubplot at 0x7f365e8e5d60>"
      ]
     },
     "execution_count": 27,
     "metadata": {},
     "output_type": "execute_result"
    },
    {
     "data": {
      "image/png": "[encoded data removed]",
      "text/plain": [
       "<Figure size 432x288 with 1 Axes>"
      ]
     },
     "metadata": {
      "needs_background": "light"
     },
     "output_type": "display_data"
    }
   ],
   "source": [
    "data.groupBy('roadKills').count().orderBy(col('count').desc()).toPandas().set_index('roadKills').plot(kind='bar')"
   ]
  },
  {
   "cell_type": "markdown",
   "id": "pending-continent",
   "metadata": {},
   "source": [
    "## weaponsAcquired\n",
    "number of weapons picked up. This game is a using gun , but it does not give a gun from the beginning. So you have to go around the map and look for weapons. In the process, you can also have heals, boosts and vehicles."
   ]
  },
  {
   "cell_type": "code",
   "execution_count": 28,
   "id": "considerable-christopher",
   "metadata": {},
   "outputs": [
    {
     "name": "stdout",
     "output_type": "stream",
     "text": [
      "+-------+-----------------+\n",
      "|summary|  weaponsAcquired|\n",
      "+-------+-----------------+\n",
      "|  count|          4411698|\n",
      "|   mean|3.630741723481526|\n",
      "| stddev|2.322626795085269|\n",
      "|    min|                0|\n",
      "|    25%|                2|\n",
      "|    50%|                3|\n",
      "|    75%|                5|\n",
      "|    max|              236|\n",
      "+-------+-----------------+\n",
      "\n"
     ]
    }
   ],
   "source": [
    "data.select('weaponsAcquired').summary().show()"
   ]
  },
  {
   "cell_type": "code",
   "execution_count": null,
   "id": "powered-atlanta",
   "metadata": {},
   "outputs": [],
   "source": []
  },
  {
   "cell_type": "code",
   "execution_count": 76,
   "id": "marine-communist",
   "metadata": {},
   "outputs": [
    {
     "data": {
      "text/plain": [
       "['Id',\n",
       " 'groupId',\n",
       " 'matchId',\n",
       " 'assists',\n",
       " 'boosts',\n",
       " 'damageDealt',\n",
       " 'DBNOs',\n",
       " 'headshotKills',\n",
       " 'heals',\n",
       " 'killPlace',\n",
       " 'killPoints',\n",
       " 'kills',\n",
       " 'killStreaks',\n",
       " 'longestKill',\n",
       " 'matchDuration',\n",
       " 'matchtype',\n",
       " 'maxPlace',\n",
       " 'numGroups',\n",
       " 'rankPoints',\n",
       " 'revives',\n",
       " 'rideDistance',\n",
       " 'roadKills',\n",
       " 'swimDistance',\n",
       " 'teamKills',\n",
       " 'vehicleDestroys',\n",
       " 'walkDistance',\n",
       " 'weaponsAcquired',\n",
       " 'winPoints',\n",
       " 'winPlacePerc',\n",
       " 'distance',\n",
       " 'isFirstPerson']"
      ]
     },
     "execution_count": 76,
     "metadata": {},
     "output_type": "execute_result"
    }
   ],
   "source": [
    "data.columns"
   ]
  },
  {
   "cell_type": "code",
   "execution_count": 20,
   "id": "major-merchandise",
   "metadata": {},
   "outputs": [],
   "source": [
    "categorical_columns = [ 'matchType', 'Id', 'groupId', 'matchId']\n",
    "numerical_columns =[ 'assists',\n",
    "                     'boosts',\n",
    "                     'damageDealt',\n",
    "                     'DBNOs',\n",
    "                     'headshotKills',\n",
    "                     'heals',\n",
    "                     'killPlace',\n",
    "                     'killPoints',\n",
    "                     'kills',\n",
    "                     'killStreaks',\n",
    "                     'longestKill',\n",
    "                     'matchDuration',\n",
    "                     'maxPlace',\n",
    "                     'numGroups',\n",
    "                     'rankPoints',\n",
    "                     'revives',\n",
    "                     'rideDistance',\n",
    "                     'roadKills',\n",
    "                     'swimDistance',\n",
    "                     'teamKills',\n",
    "                     'vehicleDestroys',\n",
    "                     'walkDistance',\n",
    "                     'weaponsAcquired',\n",
    "                     'winPoints',\n",
    "                     'winPlacePerc',\n",
    "                     'distance']"
   ]
  },
  {
   "cell_type": "markdown",
   "id": "empty-deposit",
   "metadata": {},
   "source": [
    "# Correlazioni"
   ]
  },
  {
   "cell_type": "code",
   "execution_count": 21,
   "id": "healthy-victor",
   "metadata": {},
   "outputs": [],
   "source": [
    "from pyspark.ml.stat import Correlation\n",
    "from pyspark.ml.feature import VectorAssembler"
   ]
  },
  {
   "cell_type": "code",
   "execution_count": 22,
   "id": "valid-mitchell",
   "metadata": {},
   "outputs": [],
   "source": [
    "# convert to vector column first\n",
    "vector_col = \"corr_features\"\n",
    "assembler = VectorAssembler(inputCols=numerical_columns, outputCol=vector_col)\n",
    "df_vector = assembler.transform(data).select(vector_col)\n",
    "\n",
    "# get correlation matrix\n",
    "pearsonCorr = Correlation.corr(df_vector, vector_col, 'pearson').collect()[0][0]\n",
    "#spearmanCorr = Correlation.corr(df_vector, vector_col, 'spearman').collect()[0][0]  spearman ci mette tanto"
   ]
  },
  {
   "cell_type": "code",
   "execution_count": 23,
   "id": "exact-machine",
   "metadata": {},
   "outputs": [
    {
     "data": {
      "text/html": [
       "<style  type=\"text/css\" >\n",
       "#T_0db8c_row0_col0,#T_0db8c_row1_col1,#T_0db8c_row2_col2,#T_0db8c_row3_col3,#T_0db8c_row4_col4,#T_0db8c_row5_col5,#T_0db8c_row6_col6,#T_0db8c_row7_col7,#T_0db8c_row8_col8,#T_0db8c_row9_col9,#T_0db8c_row10_col10,#T_0db8c_row11_col11,#T_0db8c_row12_col12,#T_0db8c_row13_col13,#T_0db8c_row14_col14,#T_0db8c_row15_col15,#T_0db8c_row16_col16,#T_0db8c_row17_col17,#T_0db8c_row18_col18,#T_0db8c_row19_col19,#T_0db8c_row20_col20,#T_0db8c_row21_col21,#T_0db8c_row22_col22,#T_0db8c_row23_col23,#T_0db8c_row24_col24,#T_0db8c_row25_col25{\n",
       "            background-color: rgb(100.0, 255, 100.0);\n",
       "        }#T_0db8c_row0_col1,#T_0db8c_row1_col0{\n",
       "            background-color: rgb(205.28390499732612, 255, 205.28390499732612);\n",
       "        }#T_0db8c_row0_col2,#T_0db8c_row2_col0{\n",
       "            background-color: rgb(195.94248209385523, 255, 195.94248209385523);\n",
       "        }#T_0db8c_row0_col3,#T_0db8c_row3_col0{\n",
       "            background-color: rgb(209.4735157993025, 255, 209.4735157993025);\n",
       "        }#T_0db8c_row0_col4,#T_0db8c_row4_col0{\n",
       "            background-color: rgb(227.29877181855764, 255, 227.29877181855764);\n",
       "        }#T_0db8c_row0_col5,#T_0db8c_row5_col0{\n",
       "            background-color: rgb(219.49069900499538, 255, 219.49069900499538);\n",
       "        }#T_0db8c_row0_col6,#T_0db8c_row6_col0{\n",
       "            background-color: rgb(255, 180.9466378618584, 180.9466378618584);\n",
       "        }#T_0db8c_row0_col7,#T_0db8c_row7_col0{\n",
       "            background-color: rgb(248.6527996669906, 255, 248.6527996669906);\n",
       "        }#T_0db8c_row0_col8,#T_0db8c_row8_col0{\n",
       "            background-color: rgb(210.10384763522814, 255, 210.10384763522814);\n",
       "        }#T_0db8c_row0_col9,#T_0db8c_row9_col0{\n",
       "            background-color: rgb(218.46138468666922, 255, 218.46138468666922);\n",
       "        }#T_0db8c_row0_col10,#T_0db8c_row10_col0{\n",
       "            background-color: rgb(214.7547085058665, 255, 214.7547085058665);\n",
       "        }#T_0db8c_row0_col11,#T_0db8c_row11_col0{\n",
       "            background-color: rgb(255, 253.70841259878813, 253.70841259878813);\n",
       "        }#T_0db8c_row0_col12,#T_0db8c_row12_col0{\n",
       "            background-color: rgb(255, 218.937477651701, 218.937477651701);\n",
       "        }#T_0db8c_row0_col13,#T_0db8c_row13_col0{\n",
       "            background-color: rgb(255, 219.27246849433064, 219.27246849433064);\n",
       "        }#T_0db8c_row0_col14,#T_0db8c_row14_col0{\n",
       "            background-color: rgb(255, 250.98984490187922, 250.98984490187922);\n",
       "        }#T_0db8c_row0_col15,#T_0db8c_row15_col0{\n",
       "            background-color: rgb(223.9400499357411, 255, 223.9400499357411);\n",
       "        }#T_0db8c_row0_col16,#T_0db8c_row16_col0{\n",
       "            background-color: rgb(237.3034690657761, 255, 237.3034690657761);\n",
       "        }#T_0db8c_row0_col17,#T_0db8c_row17_col0{\n",
       "            background-color: rgb(253.1187632808033, 255, 253.1187632808033);\n",
       "        }#T_0db8c_row0_col18,#T_0db8c_row18_col0{\n",
       "            background-color: rgb(251.07245034871247, 255, 251.07245034871247);\n",
       "        }#T_0db8c_row0_col19,#T_0db8c_row19_col0{\n",
       "            background-color: rgb(254.62361957755977, 255, 254.62361957755977);\n",
       "        }#T_0db8c_row0_col20,#T_0db8c_row20_col0{\n",
       "            background-color: rgb(245.89056569310324, 255, 245.89056569310324);\n",
       "        }#T_0db8c_row0_col21,#T_0db8c_row21_col0{\n",
       "            background-color: rgb(208.00600567198595, 255, 208.00600567198595);\n",
       "        }#T_0db8c_row0_col22,#T_0db8c_row22_col0{\n",
       "            background-color: rgb(223.96398709610753, 255, 223.96398709610753);\n",
       "        }#T_0db8c_row0_col23,#T_0db8c_row23_col0{\n",
       "            background-color: rgb(251.3375161855066, 255, 251.3375161855066);\n",
       "        }#T_0db8c_row0_col24,#T_0db8c_row24_col0{\n",
       "            background-color: rgb(207.62160586981852, 255, 207.62160586981852);\n",
       "        }#T_0db8c_row0_col25,#T_0db8c_row25_col0{\n",
       "            background-color: rgb(217.25022360959193, 255, 217.25022360959193);\n",
       "        }#T_0db8c_row1_col2,#T_0db8c_row2_col1{\n",
       "            background-color: rgb(170.89892529679065, 255, 170.89892529679065);\n",
       "        }#T_0db8c_row1_col3,#T_0db8c_row3_col1{\n",
       "            background-color: rgb(198.0288659625096, 255, 198.0288659625096);\n",
       "        }#T_0db8c_row1_col4,#T_0db8c_row4_col1{\n",
       "            background-color: rgb(201.1893808674086, 255, 201.1893808674086);\n",
       "        }#T_0db8c_row1_col5,#T_0db8c_row5_col1{\n",
       "            background-color: rgb(171.6322687163423, 255, 171.6322687163423);\n",
       "        }#T_0db8c_row1_col6,#T_0db8c_row6_col1{\n",
       "            background-color: rgb(255, 113.01568620462362, 113.01568620462362);\n",
       "        }#T_0db8c_row1_col7,#T_0db8c_row7_col1{\n",
       "            background-color: rgb(253.68708292762204, 255, 253.68708292762204);\n",
       "        }#T_0db8c_row1_col8,#T_0db8c_row8_col1{\n",
       "            background-color: rgb(173.39189847555858, 255, 173.39189847555858);\n",
       "        }#T_0db8c_row1_col9,#T_0db8c_row9_col1{\n",
       "            background-color: rgb(191.54900472619434, 255, 191.54900472619434);\n",
       "        }#T_0db8c_row1_col10,#T_0db8c_row10_col1{\n",
       "            background-color: rgb(188.83152381097506, 255, 188.83152381097506);\n",
       "        }#T_0db8c_row1_col11,#T_0db8c_row11_col1{\n",
       "            background-color: rgb(244.4150180467276, 255, 244.4150180467276);\n",
       "        }#T_0db8c_row1_col12,#T_0db8c_row12_col1{\n",
       "            background-color: rgb(255, 251.71802321913643, 251.71802321913643);\n",
       "        }#T_0db8c_row1_col13,#T_0db8c_row13_col1{\n",
       "            background-color: rgb(255, 251.88362762500645, 251.88362762500645);\n",
       "        }#T_0db8c_row1_col14,#T_0db8c_row14_col1{\n",
       "            background-color: rgb(251.34874398008242, 255, 251.34874398008242);\n",
       "        }#T_0db8c_row1_col15,#T_0db8c_row15_col1{\n",
       "            background-color: rgb(215.61852347426176, 255, 215.61852347426176);\n",
       "        }#T_0db8c_row1_col16,#T_0db8c_row16_col1{\n",
       "            background-color: rgb(204.11295650796222, 255, 204.11295650796222);\n",
       "        }#T_0db8c_row1_col17,#T_0db8c_row17_col1{\n",
       "            background-color: rgb(249.26328889706386, 255, 249.26328889706386);\n",
       "        }#T_0db8c_row1_col18,#T_0db8c_row18_col1{\n",
       "            background-color: rgb(238.15588180286326, 255, 238.15588180286326);\n",
       "        }#T_0db8c_row1_col19,#T_0db8c_row19_col1{\n",
       "            background-color: rgb(252.85411096106643, 255, 252.85411096106643);\n",
       "        }#T_0db8c_row1_col20,#T_0db8c_row20_col1{\n",
       "            background-color: rgb(241.58961833139227, 255, 241.58961833139227);\n",
       "        }#T_0db8c_row1_col21,#T_0db8c_row21_col1{\n",
       "            background-color: rgb(155.61085998106296, 255, 155.61085998106296);\n",
       "        }#T_0db8c_row1_col22,#T_0db8c_row22_col1{\n",
       "            background-color: rgb(187.25848218586708, 255, 187.25848218586708);\n",
       "        }#T_0db8c_row1_col23,#T_0db8c_row23_col1{\n",
       "            background-color: rgb(255, 252.99377530694017, 252.99377530694017);\n",
       "        }#T_0db8c_row1_col24,#T_0db8c_row24_col1{\n",
       "            background-color: rgb(156.34826475141602, 255, 156.34826475141602);\n",
       "        }#T_0db8c_row1_col25,#T_0db8c_row25_col1{\n",
       "            background-color: rgb(165.84808728572833, 255, 165.84808728572833);\n",
       "        }#T_0db8c_row2_col3,#T_0db8c_row3_col2{\n",
       "            background-color: rgb(138.4609573489754, 255, 138.4609573489754);\n",
       "        }#T_0db8c_row2_col4,#T_0db8c_row4_col2{\n",
       "            background-color: rgb(161.40185645710474, 255, 161.40185645710474);\n",
       "        }#T_0db8c_row2_col5,#T_0db8c_row5_col2{\n",
       "            background-color: rgb(201.29446429230097, 255, 201.29446429230097);\n",
       "        }#T_0db8c_row2_col6,#T_0db8c_row6_col2{\n",
       "            background-color: rgb(255, 78.9931288035514, 78.9931288035514);\n",
       "        }#T_0db8c_row2_col7,#T_0db8c_row7_col2{\n",
       "            background-color: rgb(246.92495830567327, 255, 246.92495830567327);\n",
       "        }#T_0db8c_row2_col8,#T_0db8c_row8_col2{\n",
       "            background-color: rgb(118.11110935672221, 255, 118.11110935672221);\n",
       "        }#T_0db8c_row2_col9,#T_0db8c_row9_col2{\n",
       "            background-color: rgb(145.14160239586272, 255, 145.14160239586272);\n",
       "        }#T_0db8c_row2_col10,#T_0db8c_row10_col2{\n",
       "            background-color: rgb(166.4400069544172, 255, 166.4400069544172);\n",
       "        }#T_0db8c_row2_col11,#T_0db8c_row11_col2{\n",
       "            background-color: rgb(253.74053889633433, 255, 253.74053889633433);\n",
       "        }#T_0db8c_row2_col12,#T_0db8c_row12_col2{\n",
       "            background-color: rgb(255, 247.4097825592834, 247.4097825592834);\n",
       "        }#T_0db8c_row2_col13,#T_0db8c_row13_col2{\n",
       "            background-color: rgb(255, 247.64604083549665, 247.64604083549665);\n",
       "        }#T_0db8c_row2_col14,#T_0db8c_row14_col2{\n",
       "            background-color: rgb(255, 254.97871407769406, 254.97871407769406);\n",
       "        }#T_0db8c_row2_col15,#T_0db8c_row15_col2{\n",
       "            background-color: rgb(214.22634956996797, 255, 214.22634956996797);\n",
       "        }#T_0db8c_row2_col16,#T_0db8c_row16_col2{\n",
       "            background-color: rgb(232.29451664477915, 255, 232.29451664477915);\n",
       "        }#T_0db8c_row2_col17,#T_0db8c_row17_col2{\n",
       "            background-color: rgb(246.29275935995733, 255, 246.29275935995733);\n",
       "        }#T_0db8c_row2_col18,#T_0db8c_row18_col2{\n",
       "            background-color: rgb(248.95689295430896, 255, 248.95689295430896);\n",
       "        }#T_0db8c_row2_col19,#T_0db8c_row19_col2{\n",
       "            background-color: rgb(253.14304357600523, 255, 253.14304357600523);\n",
       "        }#T_0db8c_row2_col20,#T_0db8c_row20_col2{\n",
       "            background-color: rgb(242.1362082829609, 255, 242.1362082829609);\n",
       "        }#T_0db8c_row2_col21,#T_0db8c_row21_col2{\n",
       "            background-color: rgb(190.66551026998098, 255, 190.66551026998098);\n",
       "        }#T_0db8c_row2_col22,#T_0db8c_row22_col2{\n",
       "            background-color: rgb(206.35134503825049, 255, 206.35134503825049);\n",
       "        }#T_0db8c_row2_col23,#T_0db8c_row23_col2{\n",
       "            background-color: rgb(252.36122784238967, 255, 252.36122784238967);\n",
       "        }#T_0db8c_row2_col24,#T_0db8c_row24_col2{\n",
       "            background-color: rgb(185.15000701777439, 255, 185.15000701777439);\n",
       "        }#T_0db8c_row2_col25,#T_0db8c_row25_col2{\n",
       "            background-color: rgb(204.3503822092817, 255, 204.3503822092817);\n",
       "        }#T_0db8c_row3_col4,#T_0db8c_row4_col3{\n",
       "            background-color: rgb(181.04116075582394, 255, 181.04116075582394);\n",
       "        }#T_0db8c_row3_col5,#T_0db8c_row5_col3{\n",
       "            background-color: rgb(213.51252566091802, 255, 213.51252566091802);\n",
       "        }#T_0db8c_row3_col6,#T_0db8c_row6_col3{\n",
       "            background-color: rgb(255, 111.24415949080975, 111.24415949080975);\n",
       "        }#T_0db8c_row3_col7,#T_0db8c_row7_col3{\n",
       "            background-color: rgb(248.23017378842758, 255, 248.23017378842758);\n",
       "        }#T_0db8c_row3_col8,#T_0db8c_row8_col3{\n",
       "            background-color: rgb(142.3336475156553, 255, 142.3336475156553);\n",
       "        }#T_0db8c_row3_col9,#T_0db8c_row9_col3{\n",
       "            background-color: rgb(153.3456382096832, 255, 153.3456382096832);\n",
       "        }#T_0db8c_row3_col10,#T_0db8c_row10_col3{\n",
       "            background-color: rgb(183.97383901971983, 255, 183.97383901971983);\n",
       "        }#T_0db8c_row3_col11,#T_0db8c_row11_col3{\n",
       "            background-color: rgb(255, 251.94113392006895, 251.94113392006895);\n",
       "        }#T_0db8c_row3_col12,#T_0db8c_row12_col3{\n",
       "            background-color: rgb(255, 186.21113323832665, 186.21113323832665);\n",
       "        }#T_0db8c_row3_col13,#T_0db8c_row13_col3{\n",
       "            background-color: rgb(255, 186.68388465827874, 186.68388465827874);\n",
       "        }#T_0db8c_row3_col14,#T_0db8c_row14_col3{\n",
       "            background-color: rgb(255, 254.28379421918115, 254.28379421918115);\n",
       "        }#T_0db8c_row3_col15,#T_0db8c_row15_col3{\n",
       "            background-color: rgb(208.47780013183646, 255, 208.47780013183646);\n",
       "        }#T_0db8c_row3_col16,#T_0db8c_row16_col3{\n",
       "            background-color: rgb(238.75379514737614, 255, 238.75379514737614);\n",
       "        }#T_0db8c_row3_col17,#T_0db8c_row17_col3{\n",
       "            background-color: rgb(249.25913839895338, 255, 249.25913839895338);\n",
       "        }#T_0db8c_row3_col18,#T_0db8c_row18_col3{\n",
       "            background-color: rgb(252.20483018604446, 255, 252.20483018604446);\n",
       "        }#T_0db8c_row3_col19,#T_0db8c_row19_col3{\n",
       "            background-color: rgb(243.95556266808777, 255, 243.95556266808777);\n",
       "        }#T_0db8c_row3_col20,#T_0db8c_row20_col3{\n",
       "            background-color: rgb(245.5975335739702, 255, 245.5975335739702);\n",
       "        }#T_0db8c_row3_col21,#T_0db8c_row21_col3{\n",
       "            background-color: rgb(209.75715820852952, 255, 209.75715820852952);\n",
       "        }#T_0db8c_row3_col22,#T_0db8c_row22_col3{\n",
       "            background-color: rgb(222.02703932305383, 255, 222.02703932305383);\n",
       "        }#T_0db8c_row3_col23,#T_0db8c_row23_col3{\n",
       "            background-color: rgb(253.3458725824355, 255, 253.3458725824355);\n",
       "        }#T_0db8c_row3_col24,#T_0db8c_row24_col3{\n",
       "            background-color: rgb(210.9549645862497, 255, 210.9549645862497);\n",
       "        }#T_0db8c_row3_col25,#T_0db8c_row25_col3{\n",
       "            background-color: rgb(219.21094386506343, 255, 219.21094386506343);\n",
       "        }#T_0db8c_row4_col5,#T_0db8c_row5_col4{\n",
       "            background-color: rgb(223.83456310759112, 255, 223.83456310759112);\n",
       "        }#T_0db8c_row4_col6,#T_0db8c_row6_col4{\n",
       "            background-color: rgb(255, 133.2789589043151, 133.2789589043151);\n",
       "        }#T_0db8c_row4_col7,#T_0db8c_row7_col4{\n",
       "            background-color: rgb(251.1217811149344, 255, 251.1217811149344);\n",
       "        }#T_0db8c_row4_col8,#T_0db8c_row8_col4{\n",
       "            background-color: rgb(151.66689862999652, 255, 151.66689862999652);\n",
       "        }#T_0db8c_row4_col9,#T_0db8c_row9_col4{\n",
       "            background-color: rgb(175.396959585344, 255, 175.396959585344);\n",
       "        }#T_0db8c_row4_col10,#T_0db8c_row10_col4{\n",
       "            background-color: rgb(184.94299947608442, 255, 184.94299947608442);\n",
       "        }#T_0db8c_row4_col11,#T_0db8c_row11_col4{\n",
       "            background-color: rgb(255, 253.2260937841208, 253.2260937841208);\n",
       "        }#T_0db8c_row4_col12,#T_0db8c_row12_col4{\n",
       "            background-color: rgb(252.29002955384334, 255, 252.29002955384334);\n",
       "        }#T_0db8c_row4_col13,#T_0db8c_row13_col4{\n",
       "            background-color: rgb(252.2209693194648, 255, 252.2209693194648);\n",
       "        }#T_0db8c_row4_col14,#T_0db8c_row14_col4{\n",
       "            background-color: rgb(254.05241458520888, 255, 254.05241458520888);\n",
       "        }#T_0db8c_row4_col15,#T_0db8c_row15_col4{\n",
       "            background-color: rgb(231.23396741979872, 255, 231.23396741979872);\n",
       "        }#T_0db8c_row4_col16,#T_0db8c_row16_col4{\n",
       "            background-color: rgb(242.42623771295462, 255, 242.42623771295462);\n",
       "        }#T_0db8c_row4_col17,#T_0db8c_row17_col4{\n",
       "            background-color: rgb(252.23394720432387, 255, 252.23394720432387);\n",
       "        }#T_0db8c_row4_col18,#T_0db8c_row18_col4{\n",
       "            background-color: rgb(250.38223621869145, 255, 250.38223621869145);\n",
       "        }#T_0db8c_row4_col19,#T_0db8c_row19_col4{\n",
       "            background-color: rgb(253.9066329390604, 255, 253.9066329390604);\n",
       "        }#T_0db8c_row4_col20,#T_0db8c_row20_col4{\n",
       "            background-color: rgb(248.57666814931252, 255, 248.57666814931252);\n",
       "        }#T_0db8c_row4_col21,#T_0db8c_row21_col4{\n",
       "            background-color: rgb(214.50025826153433, 255, 214.50025826153433);\n",
       "        }#T_0db8c_row4_col22,#T_0db8c_row22_col4{\n",
       "            background-color: rgb(225.6307633075399, 255, 225.6307633075399);\n",
       "        }#T_0db8c_row4_col23,#T_0db8c_row23_col4{\n",
       "            background-color: rgb(254.32697147020085, 255, 254.32697147020085);\n",
       "        }#T_0db8c_row4_col24,#T_0db8c_row24_col4{\n",
       "            background-color: rgb(211.19083338471097, 255, 211.19083338471097);\n",
       "        }#T_0db8c_row4_col25,#T_0db8c_row25_col4{\n",
       "            background-color: rgb(224.27846253340024, 255, 224.27846253340024);\n",
       "        }#T_0db8c_row5_col6,#T_0db8c_row6_col5{\n",
       "            background-color: rgb(255, 156.46497114800928, 156.46497114800928);\n",
       "        }#T_0db8c_row5_col7,#T_0db8c_row7_col5{\n",
       "            background-color: rgb(255, 254.36054954107593, 254.36054954107593);\n",
       "        }#T_0db8c_row5_col8,#T_0db8c_row8_col5{\n",
       "            background-color: rgb(206.01059429393536, 255, 206.01059429393536);\n",
       "        }#T_0db8c_row5_col9,#T_0db8c_row9_col5{\n",
       "            background-color: rgb(213.07252811147274, 255, 213.07252811147274);\n",
       "        }#T_0db8c_row5_col10,#T_0db8c_row10_col5{\n",
       "            background-color: rgb(214.1475357884451, 255, 214.1475357884451);\n",
       "        }#T_0db8c_row5_col11,#T_0db8c_row11_col5{\n",
       "            background-color: rgb(237.82274140960203, 255, 237.82274140960203);\n",
       "        }#T_0db8c_row5_col12,#T_0db8c_row12_col5{\n",
       "            background-color: rgb(255, 239.2650345268013, 239.2650345268013);\n",
       "        }#T_0db8c_row5_col13,#T_0db8c_row13_col5{\n",
       "            background-color: rgb(255, 239.39769691423803, 239.39769691423803);\n",
       "        }#T_0db8c_row5_col14,#T_0db8c_row14_col5{\n",
       "            background-color: rgb(251.92234238961092, 255, 251.92234238961092);\n",
       "        }#T_0db8c_row5_col15,#T_0db8c_row15_col5{\n",
       "            background-color: rgb(218.22583600392753, 255, 218.22583600392753);\n",
       "        }#T_0db8c_row5_col16,#T_0db8c_row16_col5{\n",
       "            background-color: rgb(208.78943349686048, 255, 208.78943349686048);\n",
       "        }#T_0db8c_row5_col17,#T_0db8c_row17_col5{\n",
       "            background-color: rgb(250.75900205062123, 255, 250.75900205062123);\n",
       "        }#T_0db8c_row5_col18,#T_0db8c_row18_col5{\n",
       "            background-color: rgb(242.52108333367124, 255, 242.52108333367124);\n",
       "        }#T_0db8c_row5_col19,#T_0db8c_row19_col5{\n",
       "            background-color: rgb(249.51783218892768, 255, 249.51783218892768);\n",
       "        }#T_0db8c_row5_col20,#T_0db8c_row20_col5{\n",
       "            background-color: rgb(245.22509172657172, 255, 245.22509172657172);\n",
       "        }#T_0db8c_row5_col21,#T_0db8c_row21_col5{\n",
       "            background-color: rgb(187.9150551043685, 255, 187.9150551043685);\n",
       "        }#T_0db8c_row5_col22,#T_0db8c_row22_col5{\n",
       "            background-color: rgb(205.75159513247198, 255, 205.75159513247198);\n",
       "        }#T_0db8c_row5_col23,#T_0db8c_row23_col5{\n",
       "            background-color: rgb(255, 252.03956232080944, 252.03956232080944);\n",
       "        }#T_0db8c_row5_col24,#T_0db8c_row24_col5{\n",
       "            background-color: rgb(188.34107935100636, 255, 188.34107935100636);\n",
       "        }#T_0db8c_row5_col25,#T_0db8c_row25_col5{\n",
       "            background-color: rgb(186.70597263894823, 255, 186.70597263894823);\n",
       "        }#T_0db8c_row6_col7,#T_0db8c_row7_col6{\n",
       "            background-color: rgb(255, 248.95435011647103, 248.95435011647103);\n",
       "        }#T_0db8c_row6_col8,#T_0db8c_row8_col6{\n",
       "            background-color: rgb(255, 63.89744532361087, 63.89744532361087);\n",
       "        }#T_0db8c_row6_col9,#T_0db8c_row9_col6{\n",
       "            background-color: rgb(255, 47.76896124805327, 47.76896124805327);\n",
       "        }#T_0db8c_row6_col10,#T_0db8c_row10_col6{\n",
       "            background-color: rgb(255, 116.62801404811262, 116.62801404811262);\n",
       "        }#T_0db8c_row6_col11,#T_0db8c_row11_col6{\n",
       "            background-color: rgb(255, 252.5664690796506, 252.5664690796506);\n",
       "        }#T_0db8c_row6_col12,#T_0db8c_row12_col6{\n",
       "            background-color: rgb(253.27648436841662, 255, 253.27648436841662);\n",
       "        }#T_0db8c_row6_col13,#T_0db8c_row13_col6{\n",
       "            background-color: rgb(252.96400149254538, 255, 252.96400149254538);\n",
       "        }#T_0db8c_row6_col14,#T_0db8c_row14_col6{\n",
       "            background-color: rgb(255, 251.0381651573761, 251.0381651573761);\n",
       "        }#T_0db8c_row6_col15,#T_0db8c_row15_col6{\n",
       "            background-color: rgb(255, 185.95505189426814, 185.95505189426814);\n",
       "        }#T_0db8c_row6_col16,#T_0db8c_row16_col6{\n",
       "            background-color: rgb(255, 195.0577187522573, 195.0577187522573);\n",
       "        }#T_0db8c_row6_col17,#T_0db8c_row17_col6{\n",
       "            background-color: rgb(255, 241.0183575905552, 241.0183575905552);\n",
       "        }#T_0db8c_row6_col18,#T_0db8c_row18_col6{\n",
       "            background-color: rgb(255, 231.97108058213695, 231.97108058213695);\n",
       "        }#T_0db8c_row6_col19,#T_0db8c_row19_col6{\n",
       "            background-color: rgb(255, 245.44952559695722, 245.44952559695722);\n",
       "        }#T_0db8c_row6_col20,#T_0db8c_row20_col6{\n",
       "            background-color: rgb(255, 236.54860282562325, 236.54860282562325);\n",
       "        }#T_0db8c_row6_col21,#T_0db8c_row21_col6{\n",
       "            background-color: rgb(255, 103.8446380302957, 103.8446380302957);\n",
       "        }#T_0db8c_row6_col22,#T_0db8c_row22_col6{\n",
       "            background-color: rgb(255, 125.73754769070695, 125.73754769070695);\n",
       "        }#T_0db8c_row6_col23,#T_0db8c_row23_col6{\n",
       "            background-color: rgb(255, 254.53697308488012, 254.53697308488012);\n",
       "        }#T_0db8c_row6_col24,#T_0db8c_row24_col6{\n",
       "            background-color: rgb(255, 71.16798261711267, 71.16798261711267);\n",
       "        }#T_0db8c_row6_col25,#T_0db8c_row25_col6{\n",
       "            background-color: rgb(255, 131.36895432729537, 131.36895432729537);\n",
       "        }#T_0db8c_row7_col8,#T_0db8c_row8_col7{\n",
       "            background-color: rgb(249.04060905201536, 255, 249.04060905201536);\n",
       "        }#T_0db8c_row7_col9,#T_0db8c_row9_col7{\n",
       "            background-color: rgb(249.14884831634646, 255, 249.14884831634646);\n",
       "        }#T_0db8c_row7_col10,#T_0db8c_row10_col7{\n",
       "            background-color: rgb(252.80008575356393, 255, 252.80008575356393);\n",
       "        }#T_0db8c_row7_col11,#T_0db8c_row11_col7{\n",
       "            background-color: rgb(255, 228.1525274916192, 228.1525274916192);\n",
       "        }#T_0db8c_row7_col12,#T_0db8c_row12_col7{\n",
       "            background-color: rgb(255, 243.2850141323109, 243.2850141323109);\n",
       "        }#T_0db8c_row7_col13,#T_0db8c_row13_col7{\n",
       "            background-color: rgb(255, 243.89695423129206, 243.89695423129206);\n",
       "        }#T_0db8c_row7_col14,#T_0db8c_row14_col7{\n",
       "            background-color: rgb(255, 6.207758872167204, 6.207758872167204);\n",
       "        }#T_0db8c_row7_col15,#T_0db8c_row15_col7{\n",
       "            background-color: rgb(253.1408981485581, 255, 253.1408981485581);\n",
       "        }#T_0db8c_row7_col16,#T_0db8c_row16_col7{\n",
       "            background-color: rgb(255, 247.8327700962741, 247.8327700962741);\n",
       "        }#T_0db8c_row7_col17,#T_0db8c_row17_col7{\n",
       "            background-color: rgb(254.8251838909895, 255, 254.8251838909895);\n",
       "        }#T_0db8c_row7_col18,#T_0db8c_row18_col7{\n",
       "            background-color: rgb(255, 253.77016570241994, 253.77016570241994);\n",
       "        }#T_0db8c_row7_col19,#T_0db8c_row19_col7{\n",
       "            background-color: rgb(255, 244.94450767110484, 244.94450767110484);\n",
       "        }#T_0db8c_row7_col20,#T_0db8c_row20_col7{\n",
       "            background-color: rgb(255, 252.804482129446, 252.804482129446);\n",
       "        }#T_0db8c_row7_col21,#T_0db8c_row21_col7{\n",
       "            background-color: rgb(254.36952829266068, 255, 254.36952829266068);\n",
       "        }#T_0db8c_row7_col22,#T_0db8c_row22_col7{\n",
       "            background-color: rgb(255, 253.9195530658574, 253.9195530658574);\n",
       "        }#T_0db8c_row7_col23,#T_0db8c_row23_col7{\n",
       "            background-color: rgb(102.54777159002583, 255, 102.54777159002583);\n",
       "        }#T_0db8c_row7_col24,#T_0db8c_row24_col7{\n",
       "            background-color: rgb(252.98490932064854, 255, 252.98490932064854);\n",
       "        }#T_0db8c_row7_col25,#T_0db8c_row25_col7{\n",
       "            background-color: rgb(255, 250.6522481225969, 250.6522481225969);\n",
       "        }#T_0db8c_row8_col9,#T_0db8c_row9_col8{\n",
       "            background-color: rgb(128.82962593013562, 255, 128.82962593013562);\n",
       "        }#T_0db8c_row8_col10,#T_0db8c_row10_col8{\n",
       "            background-color: rgb(159.60263071241263, 255, 159.60263071241263);\n",
       "        }#T_0db8c_row8_col11,#T_0db8c_row11_col8{\n",
       "            background-color: rgb(255, 251.54857349034418, 251.54857349034418);\n",
       "        }#T_0db8c_row8_col12,#T_0db8c_row12_col8{\n",
       "            background-color: rgb(253.84770133395716, 255, 253.84770133395716);\n",
       "        }#T_0db8c_row8_col13,#T_0db8c_row13_col8{\n",
       "            background-color: rgb(253.6647987849072, 255, 253.6647987849072);\n",
       "        }#T_0db8c_row8_col14,#T_0db8c_row14_col8{\n",
       "            background-color: rgb(253.51533252504103, 255, 253.51533252504103);\n",
       "        }#T_0db8c_row8_col15,#T_0db8c_row15_col8{\n",
       "            background-color: rgb(214.47719400094488, 255, 214.47719400094488);\n",
       "        }#T_0db8c_row8_col16,#T_0db8c_row16_col8{\n",
       "            background-color: rgb(236.19298907794067, 255, 236.19298907794067);\n",
       "        }#T_0db8c_row8_col17,#T_0db8c_row17_col8{\n",
       "            background-color: rgb(245.0301678262687, 255, 245.0301678262687);\n",
       "        }#T_0db8c_row8_col18,#T_0db8c_row18_col8{\n",
       "            background-color: rgb(248.51617058043985, 255, 248.51617058043985);\n",
       "        }#T_0db8c_row8_col19,#T_0db8c_row19_col8{\n",
       "            background-color: rgb(252.83149082795103, 255, 252.83149082795103);\n",
       "        }#T_0db8c_row8_col20,#T_0db8c_row20_col8{\n",
       "            background-color: rgb(242.19546031785657, 255, 242.19546031785657);\n",
       "        }#T_0db8c_row8_col21,#T_0db8c_row21_col8{\n",
       "            background-color: rgb(193.85207945021065, 255, 193.85207945021065);\n",
       "        }#T_0db8c_row8_col22,#T_0db8c_row22_col8{\n",
       "            background-color: rgb(209.6021131663652, 255, 209.6021131663652);\n",
       "        }#T_0db8c_row8_col23,#T_0db8c_row23_col8{\n",
       "            background-color: rgb(254.03246424136285, 255, 254.03246424136285);\n",
       "        }#T_0db8c_row8_col24,#T_0db8c_row24_col8{\n",
       "            background-color: rgb(188.10380419792986, 255, 188.10380419792986);\n",
       "        }#T_0db8c_row8_col25,#T_0db8c_row25_col8{\n",
       "            background-color: rgb(208.74349049782325, 255, 208.74349049782325);\n",
       "        }#T_0db8c_row9_col10,#T_0db8c_row10_col9{\n",
       "            background-color: rgb(175.08004472010393, 255, 175.08004472010393);\n",
       "        }#T_0db8c_row9_col11,#T_0db8c_row11_col9{\n",
       "            background-color: rgb(255, 247.98999206771185, 247.98999206771185);\n",
       "        }#T_0db8c_row9_col12,#T_0db8c_row12_col9{\n",
       "            background-color: rgb(255, 246.5017395996771, 246.5017395996771);\n",
       "        }#T_0db8c_row9_col13,#T_0db8c_row13_col9{\n",
       "            background-color: rgb(255, 246.86028666124992, 246.86028666124992);\n",
       "        }#T_0db8c_row9_col14,#T_0db8c_row14_col9{\n",
       "            background-color: rgb(254.41736648793997, 255, 254.41736648793997);\n",
       "        }#T_0db8c_row9_col15,#T_0db8c_row15_col9{\n",
       "            background-color: rgb(217.32139729844675, 255, 217.32139729844675);\n",
       "        }#T_0db8c_row9_col16,#T_0db8c_row16_col9{\n",
       "            background-color: rgb(239.5658487719902, 255, 239.5658487719902);\n",
       "        }#T_0db8c_row9_col17,#T_0db8c_row17_col9{\n",
       "            background-color: rgb(245.03817105006266, 255, 245.03817105006266);\n",
       "        }#T_0db8c_row9_col18,#T_0db8c_row18_col9{\n",
       "            background-color: rgb(249.52530585714476, 255, 249.52530585714476);\n",
       "        }#T_0db8c_row9_col19,#T_0db8c_row19_col9{\n",
       "            background-color: rgb(250.86303910587316, 255, 250.86303910587316);\n",
       "        }#T_0db8c_row9_col20,#T_0db8c_row20_col9{\n",
       "            background-color: rgb(245.19098375127183, 255, 245.19098375127183);\n",
       "        }#T_0db8c_row9_col21,#T_0db8c_row21_col9{\n",
       "            background-color: rgb(203.6288852281427, 255, 203.6288852281427);\n",
       "        }#T_0db8c_row9_col22,#T_0db8c_row22_col9{\n",
       "            background-color: rgb(213.1743632744649, 255, 213.1743632744649);\n",
       "        }#T_0db8c_row9_col23,#T_0db8c_row23_col9{\n",
       "            background-color: rgb(253.704808105476, 255, 253.704808105476);\n",
       "        }#T_0db8c_row9_col24,#T_0db8c_row24_col9{\n",
       "            background-color: rgb(196.41425334326294, 255, 196.41425334326294);\n",
       "        }#T_0db8c_row9_col25,#T_0db8c_row25_col9{\n",
       "            background-color: rgb(216.38885580734896, 255, 216.38885580734896);\n",
       "        }#T_0db8c_row10_col11,#T_0db8c_row11_col10{\n",
       "            background-color: rgb(245.72071249231624, 255, 245.72071249231624);\n",
       "        }#T_0db8c_row10_col12,#T_0db8c_row12_col10{\n",
       "            background-color: rgb(255, 251.54381305860431, 251.54381305860431);\n",
       "        }#T_0db8c_row10_col13,#T_0db8c_row13_col10{\n",
       "            background-color: rgb(255, 251.6683612591694, 251.6683612591694);\n",
       "        }#T_0db8c_row10_col14,#T_0db8c_row14_col10{\n",
       "            background-color: rgb(252.21326343442274, 255, 252.21326343442274);\n",
       "        }#T_0db8c_row10_col15,#T_0db8c_row15_col10{\n",
       "            background-color: rgb(228.50743439571752, 255, 228.50743439571752);\n",
       "        }#T_0db8c_row10_col16,#T_0db8c_row16_col10{\n",
       "            background-color: rgb(225.17989206827625, 255, 225.17989206827625);\n",
       "        }#T_0db8c_row10_col17,#T_0db8c_row17_col10{\n",
       "            background-color: rgb(250.27637227625578, 255, 250.27637227625578);\n",
       "        }#T_0db8c_row10_col18,#T_0db8c_row18_col10{\n",
       "            background-color: rgb(246.5772887987077, 255, 246.5772887987077);\n",
       "        }#T_0db8c_row10_col19,#T_0db8c_row19_col10{\n",
       "            background-color: rgb(253.9146521930529, 255, 253.9146521930529);\n",
       "        }#T_0db8c_row10_col20,#T_0db8c_row20_col10{\n",
       "            background-color: rgb(242.06261136045802, 255, 242.06261136045802);\n",
       "        }#T_0db8c_row10_col21,#T_0db8c_row21_col10{\n",
       "            background-color: rgb(190.29101645126255, 255, 190.29101645126255);\n",
       "        }#T_0db8c_row10_col22,#T_0db8c_row22_col10{\n",
       "            background-color: rgb(211.92941300708628, 255, 211.92941300708628);\n",
       "        }#T_0db8c_row10_col23,#T_0db8c_row23_col10{\n",
       "            background-color: rgb(255, 253.8486512475041, 253.8486512475041);\n",
       "        }#T_0db8c_row10_col24,#T_0db8c_row24_col10{\n",
       "            background-color: rgb(191.07259293081026, 255, 191.07259293081026);\n",
       "        }#T_0db8c_row10_col25,#T_0db8c_row25_col10{\n",
       "            background-color: rgb(199.25322833064993, 255, 199.25322833064993);\n",
       "        }#T_0db8c_row11_col12,#T_0db8c_row12_col11{\n",
       "            background-color: rgb(248.3361886916109, 255, 248.3361886916109);\n",
       "        }#T_0db8c_row11_col13,#T_0db8c_row13_col11{\n",
       "            background-color: rgb(249.67172092052604, 255, 249.67172092052604);\n",
       "        }#T_0db8c_row11_col14,#T_0db8c_row14_col11{\n",
       "            background-color: rgb(240.49239932937013, 255, 240.49239932937013);\n",
       "        }#T_0db8c_row11_col15,#T_0db8c_row15_col11{\n",
       "            background-color: rgb(252.62626529651973, 255, 252.62626529651973);\n",
       "        }#T_0db8c_row11_col16,#T_0db8c_row16_col11{\n",
       "            background-color: rgb(197.51814213059717, 255, 197.51814213059717);\n",
       "        }#T_0db8c_row11_col17,#T_0db8c_row17_col11{\n",
       "            background-color: rgb(248.4098601785921, 255, 248.4098601785921);\n",
       "        }#T_0db8c_row11_col18,#T_0db8c_row18_col11{\n",
       "            background-color: rgb(253.79684428053622, 255, 253.79684428053622);\n",
       "        }#T_0db8c_row11_col19,#T_0db8c_row19_col11{\n",
       "            background-color: rgb(246.75733985368606, 255, 246.75733985368606);\n",
       "        }#T_0db8c_row11_col20,#T_0db8c_row20_col11{\n",
       "            background-color: rgb(245.10840143292907, 255, 245.10840143292907);\n",
       "        }#T_0db8c_row11_col21,#T_0db8c_row21_col11{\n",
       "            background-color: rgb(233.10160036672426, 255, 233.10160036672426);\n",
       "        }#T_0db8c_row11_col22,#T_0db8c_row22_col11{\n",
       "            background-color: rgb(230.16256417674543, 255, 230.16256417674543);\n",
       "        }#T_0db8c_row11_col23,#T_0db8c_row23_col11{\n",
       "            background-color: rgb(255, 231.31023341309248, 231.31023341309248);\n",
       "        }#T_0db8c_row11_col24,#T_0db8c_row24_col11{\n",
       "            background-color: rgb(255, 253.9296531575191, 253.9296531575191);\n",
       "        }#T_0db8c_row11_col25,#T_0db8c_row25_col11{\n",
       "            background-color: rgb(203.7866889835332, 255, 203.7866889835332);\n",
       "        }#T_0db8c_row12_col13,#T_0db8c_row13_col12{\n",
       "            background-color: rgb(100.32185609899796, 255, 100.32185609899796);\n",
       "        }#T_0db8c_row12_col14,#T_0db8c_row14_col12{\n",
       "            background-color: rgb(247.4556347462258, 255, 247.4556347462258);\n",
       "        }#T_0db8c_row12_col15,#T_0db8c_row15_col12{\n",
       "            background-color: rgb(255, 214.04611305716077, 214.04611305716077);\n",
       "        }#T_0db8c_row12_col16,#T_0db8c_row16_col12{\n",
       "            background-color: rgb(255, 244.05902084116718, 244.05902084116718);\n",
       "        }#T_0db8c_row12_col17,#T_0db8c_row17_col12{\n",
       "            background-color: rgb(253.01640691837605, 255, 253.01640691837605);\n",
       "        }#T_0db8c_row12_col18,#T_0db8c_row18_col12{\n",
       "            background-color: rgb(253.78836889688344, 255, 253.78836889688344);\n",
       "        }#T_0db8c_row12_col19,#T_0db8c_row19_col12{\n",
       "            background-color: rgb(255, 245.50563672517407, 245.50563672517407);\n",
       "        }#T_0db8c_row12_col20,#T_0db8c_row20_col12{\n",
       "            background-color: rgb(255, 250.42279661923902, 250.42279661923902);\n",
       "        }#T_0db8c_row12_col21,#T_0db8c_row21_col12{\n",
       "            background-color: rgb(255, 233.7272890432013, 233.7272890432013);\n",
       "        }#T_0db8c_row12_col22,#T_0db8c_row22_col12{\n",
       "            background-color: rgb(255, 249.30308061325752, 249.30308061325752);\n",
       "        }#T_0db8c_row12_col23,#T_0db8c_row23_col12{\n",
       "            background-color: rgb(255, 247.58507543209387, 247.58507543209387);\n",
       "        }#T_0db8c_row12_col24,#T_0db8c_row24_col12{\n",
       "            background-color: rgb(249.04088104814122, 255, 249.04088104814122);\n",
       "        }#T_0db8c_row12_col25,#T_0db8c_row25_col12{\n",
       "            background-color: rgb(255, 235.96303615974156, 235.96303615974156);\n",
       "        }#T_0db8c_row13_col14,#T_0db8c_row14_col13{\n",
       "            background-color: rgb(247.71376186953262, 255, 247.71376186953262);\n",
       "        }#T_0db8c_row13_col15,#T_0db8c_row15_col13{\n",
       "            background-color: rgb(255, 214.33509629374652, 214.33509629374652);\n",
       "        }#T_0db8c_row13_col16,#T_0db8c_row16_col13{\n",
       "            background-color: rgb(255, 243.47754796453387, 243.47754796453387);\n",
       "        }#T_0db8c_row13_col17,#T_0db8c_row17_col13{\n",
       "            background-color: rgb(253.15121850628822, 255, 253.15121850628822);\n",
       "        }#T_0db8c_row13_col18,#T_0db8c_row18_col13{\n",
       "            background-color: rgb(253.77214697522396, 255, 253.77214697522396);\n",
       "        }#T_0db8c_row13_col19,#T_0db8c_row19_col13{\n",
       "            background-color: rgb(255, 245.42506561170524, 245.42506561170524);\n",
       "        }#T_0db8c_row13_col20,#T_0db8c_row20_col13{\n",
       "            background-color: rgb(255, 250.3489920691092, 250.3489920691092);\n",
       "        }#T_0db8c_row13_col21,#T_0db8c_row21_col13{\n",
       "            background-color: rgb(255, 233.94188232253723, 233.94188232253723);\n",
       "        }#T_0db8c_row13_col22,#T_0db8c_row22_col13{\n",
       "            background-color: rgb(255, 249.16351165730913, 249.16351165730913);\n",
       "        }#T_0db8c_row13_col23,#T_0db8c_row23_col13{\n",
       "            background-color: rgb(255, 248.03400537466743, 248.03400537466743);\n",
       "        }#T_0db8c_row13_col24,#T_0db8c_row24_col13{\n",
       "            background-color: rgb(248.68838740887276, 255, 248.68838740887276);\n",
       "        }#T_0db8c_row13_col25,#T_0db8c_row25_col13{\n",
       "            background-color: rgb(255, 235.68315414839049, 235.68315414839049);\n",
       "        }#T_0db8c_row14_col15,#T_0db8c_row15_col14{\n",
       "            background-color: rgb(255, 254.9364177030371, 254.9364177030371);\n",
       "        }#T_0db8c_row14_col16,#T_0db8c_row16_col14{\n",
       "            background-color: rgb(249.3136566462406, 255, 249.3136566462406);\n",
       "        }#T_0db8c_row14_col17,#T_0db8c_row17_col14{\n",
       "            background-color: rgb(254.84032706256065, 255, 254.84032706256065);\n",
       "        }#T_0db8c_row14_col18,#T_0db8c_row18_col14{\n",
       "            background-color: rgb(254.2279292594464, 255, 254.2279292594464);\n",
       "        }#T_0db8c_row14_col19,#T_0db8c_row19_col14{\n",
       "            background-color: rgb(248.8917940750879, 255, 248.8917940750879);\n",
       "        }#T_0db8c_row14_col20,#T_0db8c_row20_col14{\n",
       "            background-color: rgb(253.04290203589346, 255, 253.04290203589346);\n",
       "        }#T_0db8c_row14_col21,#T_0db8c_row21_col14{\n",
       "            background-color: rgb(252.39962904251294, 255, 252.39962904251294);\n",
       "        }#T_0db8c_row14_col22,#T_0db8c_row22_col14{\n",
       "            background-color: rgb(252.15426370354, 255, 252.15426370354);\n",
       "        }#T_0db8c_row14_col23,#T_0db8c_row23_col14{\n",
       "            background-color: rgb(255, 1.5814030407240693, 1.5814030407240693);\n",
       "        }#T_0db8c_row14_col24,#T_0db8c_row24_col14{\n",
       "            background-color: rgb(252.86859101465433, 255, 252.86859101465433);\n",
       "        }#T_0db8c_row14_col25,#T_0db8c_row25_col14{\n",
       "            background-color: rgb(249.68809201372585, 255, 249.68809201372585);\n",
       "        }#T_0db8c_row15_col16,#T_0db8c_row16_col15{\n",
       "            background-color: rgb(237.8882745112662, 255, 237.8882745112662);\n",
       "        }#T_0db8c_row15_col17,#T_0db8c_row17_col15{\n",
       "            background-color: rgb(253.79912910166559, 255, 253.79912910166559);\n",
       "        }#T_0db8c_row15_col18,#T_0db8c_row18_col15{\n",
       "            background-color: rgb(251.78718805383008, 255, 251.78718805383008);\n",
       "        }#T_0db8c_row15_col19,#T_0db8c_row19_col15{\n",
       "            background-color: rgb(249.79176488348247, 255, 249.79176488348247);\n",
       "        }#T_0db8c_row15_col20,#T_0db8c_row20_col15{\n",
       "            background-color: rgb(249.07355402494628, 255, 249.07355402494628);\n",
       "        }#T_0db8c_row15_col21,#T_0db8c_row21_col15{\n",
       "            background-color: rgb(218.1372771438677, 255, 218.1372771438677);\n",
       "        }#T_0db8c_row15_col22,#T_0db8c_row22_col15{\n",
       "            background-color: rgb(227.94099386110693, 255, 227.94099386110693);\n",
       "        }#T_0db8c_row15_col23,#T_0db8c_row23_col15{\n",
       "            background-color: rgb(254.67607811859486, 255, 254.67607811859486);\n",
       "        }#T_0db8c_row15_col24,#T_0db8c_row24_col15{\n",
       "            background-color: rgb(217.5060165077325, 255, 217.5060165077325);\n",
       "        }#T_0db8c_row15_col25,#T_0db8c_row25_col15{\n",
       "            background-color: rgb(223.18017930514105, 255, 223.18017930514105);\n",
       "        }#T_0db8c_row16_col17,#T_0db8c_row17_col16{\n",
       "            background-color: rgb(239.54574806622804, 255, 239.54574806622804);\n",
       "        }#T_0db8c_row16_col18,#T_0db8c_row18_col16{\n",
       "            background-color: rgb(247.2002567024905, 255, 247.2002567024905);\n",
       "        }#T_0db8c_row16_col19,#T_0db8c_row19_col16{\n",
       "            background-color: rgb(247.04121710796542, 255, 247.04121710796542);\n",
       "        }#T_0db8c_row16_col20,#T_0db8c_row20_col16{\n",
       "            background-color: rgb(236.86635800857016, 255, 236.86635800857016);\n",
       "        }#T_0db8c_row16_col21,#T_0db8c_row21_col16{\n",
       "            background-color: rgb(206.53029962693955, 255, 206.53029962693955);\n",
       "        }#T_0db8c_row16_col22,#T_0db8c_row22_col16{\n",
       "            background-color: rgb(208.13878042058198, 255, 208.13878042058198);\n",
       "        }#T_0db8c_row16_col23,#T_0db8c_row23_col16{\n",
       "            background-color: rgb(255, 247.97773751520197, 247.97773751520197);\n",
       "        }#T_0db8c_row16_col24,#T_0db8c_row24_col16{\n",
       "            background-color: rgb(201.46062761586919, 255, 201.46062761586919);\n",
       "        }#T_0db8c_row16_col25,#T_0db8c_row25_col16{\n",
       "            background-color: rgb(122.60406173009699, 255, 122.60406173009699);\n",
       "        }#T_0db8c_row17_col18,#T_0db8c_row18_col17{\n",
       "            background-color: rgb(254.07168537073335, 255, 254.07168537073335);\n",
       "        }#T_0db8c_row17_col19,#T_0db8c_row19_col17{\n",
       "            background-color: rgb(253.46581214678076, 255, 253.46581214678076);\n",
       "        }#T_0db8c_row17_col20,#T_0db8c_row20_col17{\n",
       "            background-color: rgb(251.78748234642458, 255, 251.78748234642458);\n",
       "        }#T_0db8c_row17_col21,#T_0db8c_row21_col17{\n",
       "            background-color: rgb(251.45662172559213, 255, 251.45662172559213);\n",
       "        }#T_0db8c_row17_col22,#T_0db8c_row22_col17{\n",
       "            background-color: rgb(250.84666150683645, 255, 250.84666150683645);\n",
       "        }#T_0db8c_row17_col23,#T_0db8c_row23_col17{\n",
       "            background-color: rgb(254.92094516009556, 255, 254.92094516009556);\n",
       "        }#T_0db8c_row17_col24,#T_0db8c_row24_col17{\n",
       "            background-color: rgb(250.0684893932323, 255, 250.0684893932323);\n",
       "        }#T_0db8c_row17_col25,#T_0db8c_row25_col17{\n",
       "            background-color: rgb(242.4999007039721, 255, 242.4999007039721);\n",
       "        }#T_0db8c_row18_col19,#T_0db8c_row19_col18{\n",
       "            background-color: rgb(254.02026410868123, 255, 254.02026410868123);\n",
       "        }#T_0db8c_row18_col20,#T_0db8c_row20_col18{\n",
       "            background-color: rgb(253.68987266793982, 255, 253.68987266793982);\n",
       "        }#T_0db8c_row18_col21,#T_0db8c_row21_col18{\n",
       "            background-color: rgb(228.93641724988547, 255, 228.93641724988547);\n",
       "        }#T_0db8c_row18_col22,#T_0db8c_row22_col18{\n",
       "            background-color: rgb(242.3370297993245, 255, 242.3370297993245);\n",
       "        }#T_0db8c_row18_col23,#T_0db8c_row23_col18{\n",
       "            background-color: rgb(255, 254.25684322970756, 254.25684322970756);\n",
       "        }#T_0db8c_row18_col24,#T_0db8c_row24_col18{\n",
       "            background-color: rgb(231.60976524610953, 255, 231.60976524610953);\n",
       "        }#T_0db8c_row18_col25,#T_0db8c_row25_col18{\n",
       "            background-color: rgb(233.3006819753437, 255, 233.3006819753437);\n",
       "        }#T_0db8c_row19_col20,#T_0db8c_row20_col19{\n",
       "            background-color: rgb(237.30034414206975, 255, 237.30034414206975);\n",
       "        }#T_0db8c_row19_col21,#T_0db8c_row21_col19{\n",
       "            background-color: rgb(250.98311574901248, 255, 250.98311574901248);\n",
       "        }#T_0db8c_row19_col22,#T_0db8c_row22_col19{\n",
       "            background-color: rgb(249.97966618275493, 255, 249.97966618275493);\n",
       "        }#T_0db8c_row19_col23,#T_0db8c_row23_col19{\n",
       "            background-color: rgb(255, 244.60848871037877, 244.60848871037877);\n",
       "        }#T_0db8c_row19_col24,#T_0db8c_row24_col19{\n",
       "            background-color: rgb(252.45554462572395, 255, 252.45554462572395);\n",
       "        }#T_0db8c_row19_col25,#T_0db8c_row25_col19{\n",
       "            background-color: rgb(247.36109810029154, 255, 247.36109810029154);\n",
       "        }#T_0db8c_row20_col21,#T_0db8c_row21_col20{\n",
       "            background-color: rgb(243.05749157562505, 255, 243.05749157562505);\n",
       "        }#T_0db8c_row20_col22,#T_0db8c_row22_col20{\n",
       "            background-color: rgb(244.61297875215547, 255, 244.61297875215547);\n",
       "        }#T_0db8c_row20_col23,#T_0db8c_row23_col20{\n",
       "            background-color: rgb(255, 252.29481290569333, 252.29481290569333);\n",
       "        }#T_0db8c_row20_col24,#T_0db8c_row24_col20{\n",
       "            background-color: rgb(243.70672202419178, 255, 243.70672202419178);\n",
       "        }#T_0db8c_row20_col25,#T_0db8c_row25_col20{\n",
       "            background-color: rgb(236.08769429690085, 255, 236.08769429690085);\n",
       "        }#T_0db8c_row21_col22,#T_0db8c_row22_col21{\n",
       "            background-color: rgb(165.2679992448862, 255, 165.2679992448862);\n",
       "        }#T_0db8c_row21_col23,#T_0db8c_row23_col21{\n",
       "            background-color: rgb(255, 254.25403093528152, 254.25403093528152);\n",
       "        }#T_0db8c_row21_col24,#T_0db8c_row24_col21{\n",
       "            background-color: rgb(128.72475621137716, 255, 128.72475621137716);\n",
       "        }#T_0db8c_row21_col25,#T_0db8c_row25_col21{\n",
       "            background-color: rgb(137.06812286582678, 255, 137.06812286582678);\n",
       "        }#T_0db8c_row22_col23,#T_0db8c_row23_col22{\n",
       "            background-color: rgb(255, 253.29025298119848, 253.29025298119848);\n",
       "        }#T_0db8c_row22_col24,#T_0db8c_row24_col22{\n",
       "            background-color: rgb(159.2214257975416, 255, 159.2214257975416);\n",
       "        }#T_0db8c_row22_col25,#T_0db8c_row25_col22{\n",
       "            background-color: rgb(173.91866713813653, 255, 173.91866713813653);\n",
       "        }#T_0db8c_row23_col24,#T_0db8c_row24_col23{\n",
       "            background-color: rgb(253.91496321143913, 255, 253.91496321143913);\n",
       "        }#T_0db8c_row23_col25,#T_0db8c_row25_col23{\n",
       "            background-color: rgb(255, 249.78642668375622, 249.78642668375622);\n",
       "        }#T_0db8c_row24_col25,#T_0db8c_row25_col24{\n",
       "            background-color: rgb(149.29460480404157, 255, 149.29460480404157);\n",
       "        }</style><table id=\"T_0db8c_\" ><thead>    <tr>        <th class=\"blank level0\" ></th>        <th class=\"col_heading level0 col0\" >assists</th>        <th class=\"col_heading level0 col1\" >boosts</th>        <th class=\"col_heading level0 col2\" >damageDealt</th>        <th class=\"col_heading level0 col3\" >DBNOs</th>        <th class=\"col_heading level0 col4\" >headshotKills</th>        <th class=\"col_heading level0 col5\" >heals</th>        <th class=\"col_heading level0 col6\" >killPlace</th>        <th class=\"col_heading level0 col7\" >killPoints</th>        <th class=\"col_heading level0 col8\" >kills</th>        <th class=\"col_heading level0 col9\" >killStreaks</th>        <th class=\"col_heading level0 col10\" >longestKill</th>        <th class=\"col_heading level0 col11\" >matchDuration</th>        <th class=\"col_heading level0 col12\" >maxPlace</th>        <th class=\"col_heading level0 col13\" >numGroups</th>        <th class=\"col_heading level0 col14\" >rankPoints</th>        <th class=\"col_heading level0 col15\" >revives</th>        <th class=\"col_heading level0 col16\" >rideDistance</th>        <th class=\"col_heading level0 col17\" >roadKills</th>        <th class=\"col_heading level0 col18\" >swimDistance</th>        <th class=\"col_heading level0 col19\" >teamKills</th>        <th class=\"col_heading level0 col20\" >vehicleDestroys</th>        <th class=\"col_heading level0 col21\" >walkDistance</th>        <th class=\"col_heading level0 col22\" >weaponsAcquired</th>        <th class=\"col_heading level0 col23\" >winPoints</th>        <th class=\"col_heading level0 col24\" >winPlacePerc</th>        <th class=\"col_heading level0 col25\" >distance</th>    </tr></thead><tbody>\n",
       "                <tr>\n",
       "                        <th id=\"T_0db8c_level0_row0\" class=\"row_heading level0 row0\" >assists</th>\n",
       "                        <td id=\"T_0db8c_row0_col0\" class=\"data row0 col0\" >1.000000</td>\n",
       "                        <td id=\"T_0db8c_row0_col1\" class=\"data row0 col1\" >0.320749</td>\n",
       "                        <td id=\"T_0db8c_row0_col2\" class=\"data row0 col2\" >0.381016</td>\n",
       "                        <td id=\"T_0db8c_row0_col3\" class=\"data row0 col3\" >0.293719</td>\n",
       "                        <td id=\"T_0db8c_row0_col4\" class=\"data row0 col4\" >0.178718</td>\n",
       "                        <td id=\"T_0db8c_row0_col5\" class=\"data row0 col5\" >0.229092</td>\n",
       "                        <td id=\"T_0db8c_row0_col6\" class=\"data row0 col6\" >-0.290405</td>\n",
       "                        <td id=\"T_0db8c_row0_col7\" class=\"data row0 col7\" >0.040950</td>\n",
       "                        <td id=\"T_0db8c_row0_col8\" class=\"data row0 col8\" >0.289653</td>\n",
       "                        <td id=\"T_0db8c_row0_col9\" class=\"data row0 col9\" >0.235733</td>\n",
       "                        <td id=\"T_0db8c_row0_col10\" class=\"data row0 col10\" >0.259647</td>\n",
       "                        <td id=\"T_0db8c_row0_col11\" class=\"data row0 col11\" >-0.005065</td>\n",
       "                        <td id=\"T_0db8c_row0_col12\" class=\"data row0 col12\" >-0.141422</td>\n",
       "                        <td id=\"T_0db8c_row0_col13\" class=\"data row0 col13\" >-0.140108</td>\n",
       "                        <td id=\"T_0db8c_row0_col14\" class=\"data row0 col14\" >-0.015726</td>\n",
       "                        <td id=\"T_0db8c_row0_col15\" class=\"data row0 col15\" >0.200387</td>\n",
       "                        <td id=\"T_0db8c_row0_col16\" class=\"data row0 col16\" >0.114171</td>\n",
       "                        <td id=\"T_0db8c_row0_col17\" class=\"data row0 col17\" >0.012137</td>\n",
       "                        <td id=\"T_0db8c_row0_col18\" class=\"data row0 col18\" >0.025339</td>\n",
       "                        <td id=\"T_0db8c_row0_col19\" class=\"data row0 col19\" >0.002428</td>\n",
       "                        <td id=\"T_0db8c_row0_col20\" class=\"data row0 col20\" >0.058771</td>\n",
       "                        <td id=\"T_0db8c_row0_col21\" class=\"data row0 col21\" >0.303187</td>\n",
       "                        <td id=\"T_0db8c_row0_col22\" class=\"data row0 col22\" >0.200232</td>\n",
       "                        <td id=\"T_0db8c_row0_col23\" class=\"data row0 col23\" >0.023629</td>\n",
       "                        <td id=\"T_0db8c_row0_col24\" class=\"data row0 col24\" >0.305667</td>\n",
       "                        <td id=\"T_0db8c_row0_col25\" class=\"data row0 col25\" >0.243547</td>\n",
       "            </tr>\n",
       "            <tr>\n",
       "                        <th id=\"T_0db8c_level0_row1\" class=\"row_heading level0 row1\" >boosts</th>\n",
       "                        <td id=\"T_0db8c_row1_col0\" class=\"data row1 col0\" >0.320749</td>\n",
       "                        <td id=\"T_0db8c_row1_col1\" class=\"data row1 col1\" >1.000000</td>\n",
       "                        <td id=\"T_0db8c_row1_col2\" class=\"data row1 col2\" >0.542588</td>\n",
       "                        <td id=\"T_0db8c_row1_col3\" class=\"data row1 col3\" >0.367556</td>\n",
       "                        <td id=\"T_0db8c_row1_col4\" class=\"data row1 col4\" >0.347165</td>\n",
       "                        <td id=\"T_0db8c_row1_col5\" class=\"data row1 col5\" >0.537856</td>\n",
       "                        <td id=\"T_0db8c_row1_col6\" class=\"data row1 col6\" >-0.556801</td>\n",
       "                        <td id=\"T_0db8c_row1_col7\" class=\"data row1 col7\" >0.008470</td>\n",
       "                        <td id=\"T_0db8c_row1_col8\" class=\"data row1 col8\" >0.526504</td>\n",
       "                        <td id=\"T_0db8c_row1_col9\" class=\"data row1 col9\" >0.409361</td>\n",
       "                        <td id=\"T_0db8c_row1_col10\" class=\"data row1 col10\" >0.426893</td>\n",
       "                        <td id=\"T_0db8c_row1_col11\" class=\"data row1 col11\" >0.068290</td>\n",
       "                        <td id=\"T_0db8c_row1_col12\" class=\"data row1 col12\" >-0.012870</td>\n",
       "                        <td id=\"T_0db8c_row1_col13\" class=\"data row1 col13\" >-0.012221</td>\n",
       "                        <td id=\"T_0db8c_row1_col14\" class=\"data row1 col14\" >0.023556</td>\n",
       "                        <td id=\"T_0db8c_row1_col15\" class=\"data row1 col15\" >0.254074</td>\n",
       "                        <td id=\"T_0db8c_row1_col16\" class=\"data row1 col16\" >0.328304</td>\n",
       "                        <td id=\"T_0db8c_row1_col17\" class=\"data row1 col17\" >0.037011</td>\n",
       "                        <td id=\"T_0db8c_row1_col18\" class=\"data row1 col18\" >0.108672</td>\n",
       "                        <td id=\"T_0db8c_row1_col19\" class=\"data row1 col19\" >0.013844</td>\n",
       "                        <td id=\"T_0db8c_row1_col20\" class=\"data row1 col20\" >0.086519</td>\n",
       "                        <td id=\"T_0db8c_row1_col21\" class=\"data row1 col21\" >0.641220</td>\n",
       "                        <td id=\"T_0db8c_row1_col22\" class=\"data row1 col22\" >0.437042</td>\n",
       "                        <td id=\"T_0db8c_row1_col23\" class=\"data row1 col23\" >-0.007868</td>\n",
       "                        <td id=\"T_0db8c_row1_col24\" class=\"data row1 col24\" >0.636463</td>\n",
       "                        <td id=\"T_0db8c_row1_col25\" class=\"data row1 col25\" >0.575174</td>\n",
       "            </tr>\n",
       "            <tr>\n",
       "                        <th id=\"T_0db8c_level0_row2\" class=\"row_heading level0 row2\" >damageDealt</th>\n",
       "                        <td id=\"T_0db8c_row2_col0\" class=\"data row2 col0\" >0.381016</td>\n",
       "                        <td id=\"T_0db8c_row2_col1\" class=\"data row2 col1\" >0.542588</td>\n",
       "                        <td id=\"T_0db8c_row2_col2\" class=\"data row2 col2\" >1.000000</td>\n",
       "                        <td id=\"T_0db8c_row2_col3\" class=\"data row2 col3\" >0.751865</td>\n",
       "                        <td id=\"T_0db8c_row2_col4\" class=\"data row2 col4\" >0.603859</td>\n",
       "                        <td id=\"T_0db8c_row2_col5\" class=\"data row2 col5\" >0.346487</td>\n",
       "                        <td id=\"T_0db8c_row2_col6\" class=\"data row2 col6\" >-0.690223</td>\n",
       "                        <td id=\"T_0db8c_row2_col7\" class=\"data row2 col7\" >0.052097</td>\n",
       "                        <td id=\"T_0db8c_row2_col8\" class=\"data row2 col8\" >0.883154</td>\n",
       "                        <td id=\"T_0db8c_row2_col9\" class=\"data row2 col9\" >0.708764</td>\n",
       "                        <td id=\"T_0db8c_row2_col10\" class=\"data row2 col10\" >0.571355</td>\n",
       "                        <td id=\"T_0db8c_row2_col11\" class=\"data row2 col11\" >0.008126</td>\n",
       "                        <td id=\"T_0db8c_row2_col12\" class=\"data row2 col12\" >-0.029766</td>\n",
       "                        <td id=\"T_0db8c_row2_col13\" class=\"data row2 col13\" >-0.028839</td>\n",
       "                        <td id=\"T_0db8c_row2_col14\" class=\"data row2 col14\" >-0.000083</td>\n",
       "                        <td id=\"T_0db8c_row2_col15\" class=\"data row2 col15\" >0.263056</td>\n",
       "                        <td id=\"T_0db8c_row2_col16\" class=\"data row2 col16\" >0.146487</td>\n",
       "                        <td id=\"T_0db8c_row2_col17\" class=\"data row2 col17\" >0.056176</td>\n",
       "                        <td id=\"T_0db8c_row2_col18\" class=\"data row2 col18\" >0.038988</td>\n",
       "                        <td id=\"T_0db8c_row2_col19\" class=\"data row2 col19\" >0.011980</td>\n",
       "                        <td id=\"T_0db8c_row2_col20\" class=\"data row2 col20\" >0.082992</td>\n",
       "                        <td id=\"T_0db8c_row2_col21\" class=\"data row2 col21\" >0.415061</td>\n",
       "                        <td id=\"T_0db8c_row2_col22\" class=\"data row2 col22\" >0.313862</td>\n",
       "                        <td id=\"T_0db8c_row2_col23\" class=\"data row2 col23\" >0.017024</td>\n",
       "                        <td id=\"T_0db8c_row2_col24\" class=\"data row2 col24\" >0.450645</td>\n",
       "                        <td id=\"T_0db8c_row2_col25\" class=\"data row2 col25\" >0.326772</td>\n",
       "            </tr>\n",
       "            <tr>\n",
       "                        <th id=\"T_0db8c_level0_row3\" class=\"row_heading level0 row3\" >DBNOs</th>\n",
       "                        <td id=\"T_0db8c_row3_col0\" class=\"data row3 col0\" >0.293719</td>\n",
       "                        <td id=\"T_0db8c_row3_col1\" class=\"data row3 col1\" >0.367556</td>\n",
       "                        <td id=\"T_0db8c_row3_col2\" class=\"data row3 col2\" >0.751865</td>\n",
       "                        <td id=\"T_0db8c_row3_col3\" class=\"data row3 col3\" >1.000000</td>\n",
       "                        <td id=\"T_0db8c_row3_col4\" class=\"data row3 col4\" >0.477154</td>\n",
       "                        <td id=\"T_0db8c_row3_col5\" class=\"data row3 col5\" >0.267661</td>\n",
       "                        <td id=\"T_0db8c_row3_col6\" class=\"data row3 col6\" >-0.563748</td>\n",
       "                        <td id=\"T_0db8c_row3_col7\" class=\"data row3 col7\" >0.043676</td>\n",
       "                        <td id=\"T_0db8c_row3_col8\" class=\"data row3 col8\" >0.726880</td>\n",
       "                        <td id=\"T_0db8c_row3_col9\" class=\"data row3 col9\" >0.655835</td>\n",
       "                        <td id=\"T_0db8c_row3_col10\" class=\"data row3 col10\" >0.458233</td>\n",
       "                        <td id=\"T_0db8c_row3_col11\" class=\"data row3 col11\" >-0.011996</td>\n",
       "                        <td id=\"T_0db8c_row3_col12\" class=\"data row3 col12\" >-0.269760</td>\n",
       "                        <td id=\"T_0db8c_row3_col13\" class=\"data row3 col13\" >-0.267906</td>\n",
       "                        <td id=\"T_0db8c_row3_col14\" class=\"data row3 col14\" >-0.002809</td>\n",
       "                        <td id=\"T_0db8c_row3_col15\" class=\"data row3 col15\" >0.300143</td>\n",
       "                        <td id=\"T_0db8c_row3_col16\" class=\"data row3 col16\" >0.104814</td>\n",
       "                        <td id=\"T_0db8c_row3_col17\" class=\"data row3 col17\" >0.037038</td>\n",
       "                        <td id=\"T_0db8c_row3_col18\" class=\"data row3 col18\" >0.018033</td>\n",
       "                        <td id=\"T_0db8c_row3_col19\" class=\"data row3 col19\" >0.071254</td>\n",
       "                        <td id=\"T_0db8c_row3_col20\" class=\"data row3 col20\" >0.060661</td>\n",
       "                        <td id=\"T_0db8c_row3_col21\" class=\"data row3 col21\" >0.291889</td>\n",
       "                        <td id=\"T_0db8c_row3_col22\" class=\"data row3 col22\" >0.212729</td>\n",
       "                        <td id=\"T_0db8c_row3_col23\" class=\"data row3 col23\" >0.010672</td>\n",
       "                        <td id=\"T_0db8c_row3_col24\" class=\"data row3 col24\" >0.284162</td>\n",
       "                        <td id=\"T_0db8c_row3_col25\" class=\"data row3 col25\" >0.230897</td>\n",
       "            </tr>\n",
       "            <tr>\n",
       "                        <th id=\"T_0db8c_level0_row4\" class=\"row_heading level0 row4\" >headshotKills</th>\n",
       "                        <td id=\"T_0db8c_row4_col0\" class=\"data row4 col0\" >0.178718</td>\n",
       "                        <td id=\"T_0db8c_row4_col1\" class=\"data row4 col1\" >0.347165</td>\n",
       "                        <td id=\"T_0db8c_row4_col2\" class=\"data row4 col2\" >0.603859</td>\n",
       "                        <td id=\"T_0db8c_row4_col3\" class=\"data row4 col3\" >0.477154</td>\n",
       "                        <td id=\"T_0db8c_row4_col4\" class=\"data row4 col4\" >1.000000</td>\n",
       "                        <td id=\"T_0db8c_row4_col5\" class=\"data row4 col5\" >0.201067</td>\n",
       "                        <td id=\"T_0db8c_row4_col6\" class=\"data row4 col6\" >-0.477337</td>\n",
       "                        <td id=\"T_0db8c_row4_col7\" class=\"data row4 col7\" >0.025021</td>\n",
       "                        <td id=\"T_0db8c_row4_col8\" class=\"data row4 col8\" >0.666665</td>\n",
       "                        <td id=\"T_0db8c_row4_col9\" class=\"data row4 col9\" >0.513568</td>\n",
       "                        <td id=\"T_0db8c_row4_col10\" class=\"data row4 col10\" >0.451981</td>\n",
       "                        <td id=\"T_0db8c_row4_col11\" class=\"data row4 col11\" >-0.006956</td>\n",
       "                        <td id=\"T_0db8c_row4_col12\" class=\"data row4 col12\" >0.017484</td>\n",
       "                        <td id=\"T_0db8c_row4_col13\" class=\"data row4 col13\" >0.017929</td>\n",
       "                        <td id=\"T_0db8c_row4_col14\" class=\"data row4 col14\" >0.006113</td>\n",
       "                        <td id=\"T_0db8c_row4_col15\" class=\"data row4 col15\" >0.153329</td>\n",
       "                        <td id=\"T_0db8c_row4_col16\" class=\"data row4 col16\" >0.081121</td>\n",
       "                        <td id=\"T_0db8c_row4_col17\" class=\"data row4 col17\" >0.017846</td>\n",
       "                        <td id=\"T_0db8c_row4_col18\" class=\"data row4 col18\" >0.029792</td>\n",
       "                        <td id=\"T_0db8c_row4_col19\" class=\"data row4 col19\" >0.007054</td>\n",
       "                        <td id=\"T_0db8c_row4_col20\" class=\"data row4 col20\" >0.041441</td>\n",
       "                        <td id=\"T_0db8c_row4_col21\" class=\"data row4 col21\" >0.261289</td>\n",
       "                        <td id=\"T_0db8c_row4_col22\" class=\"data row4 col22\" >0.189479</td>\n",
       "                        <td id=\"T_0db8c_row4_col23\" class=\"data row4 col23\" >0.004342</td>\n",
       "                        <td id=\"T_0db8c_row4_col24\" class=\"data row4 col24\" >0.282640</td>\n",
       "                        <td id=\"T_0db8c_row4_col25\" class=\"data row4 col25\" >0.198203</td>\n",
       "            </tr>\n",
       "            <tr>\n",
       "                        <th id=\"T_0db8c_level0_row5\" class=\"row_heading level0 row5\" >heals</th>\n",
       "                        <td id=\"T_0db8c_row5_col0\" class=\"data row5 col0\" >0.229092</td>\n",
       "                        <td id=\"T_0db8c_row5_col1\" class=\"data row5 col1\" >0.537856</td>\n",
       "                        <td id=\"T_0db8c_row5_col2\" class=\"data row5 col2\" >0.346487</td>\n",
       "                        <td id=\"T_0db8c_row5_col3\" class=\"data row5 col3\" >0.267661</td>\n",
       "                        <td id=\"T_0db8c_row5_col4\" class=\"data row5 col4\" >0.201067</td>\n",
       "                        <td id=\"T_0db8c_row5_col5\" class=\"data row5 col5\" >1.000000</td>\n",
       "                        <td id=\"T_0db8c_row5_col6\" class=\"data row5 col6\" >-0.386412</td>\n",
       "                        <td id=\"T_0db8c_row5_col7\" class=\"data row5 col7\" >-0.002508</td>\n",
       "                        <td id=\"T_0db8c_row5_col8\" class=\"data row5 col8\" >0.316061</td>\n",
       "                        <td id=\"T_0db8c_row5_col9\" class=\"data row5 col9\" >0.270500</td>\n",
       "                        <td id=\"T_0db8c_row5_col10\" class=\"data row5 col10\" >0.263564</td>\n",
       "                        <td id=\"T_0db8c_row5_col11\" class=\"data row5 col11\" >0.110821</td>\n",
       "                        <td id=\"T_0db8c_row5_col12\" class=\"data row5 col12\" >-0.061706</td>\n",
       "                        <td id=\"T_0db8c_row5_col13\" class=\"data row5 col13\" >-0.061186</td>\n",
       "                        <td id=\"T_0db8c_row5_col14\" class=\"data row5 col14\" >0.019856</td>\n",
       "                        <td id=\"T_0db8c_row5_col15\" class=\"data row5 col15\" >0.237253</td>\n",
       "                        <td id=\"T_0db8c_row5_col16\" class=\"data row5 col16\" >0.298133</td>\n",
       "                        <td id=\"T_0db8c_row5_col17\" class=\"data row5 col17\" >0.027361</td>\n",
       "                        <td id=\"T_0db8c_row5_col18\" class=\"data row5 col18\" >0.080509</td>\n",
       "                        <td id=\"T_0db8c_row5_col19\" class=\"data row5 col19\" >0.035369</td>\n",
       "                        <td id=\"T_0db8c_row5_col20\" class=\"data row5 col20\" >0.063064</td>\n",
       "                        <td id=\"T_0db8c_row5_col21\" class=\"data row5 col21\" >0.432806</td>\n",
       "                        <td id=\"T_0db8c_row5_col22\" class=\"data row5 col22\" >0.317732</td>\n",
       "                        <td id=\"T_0db8c_row5_col23\" class=\"data row5 col23\" >-0.011610</td>\n",
       "                        <td id=\"T_0db8c_row5_col24\" class=\"data row5 col24\" >0.430058</td>\n",
       "                        <td id=\"T_0db8c_row5_col25\" class=\"data row5 col25\" >0.440607</td>\n",
       "            </tr>\n",
       "            <tr>\n",
       "                        <th id=\"T_0db8c_level0_row6\" class=\"row_heading level0 row6\" >killPlace</th>\n",
       "                        <td id=\"T_0db8c_row6_col0\" class=\"data row6 col0\" >-0.290405</td>\n",
       "                        <td id=\"T_0db8c_row6_col1\" class=\"data row6 col1\" >-0.556801</td>\n",
       "                        <td id=\"T_0db8c_row6_col2\" class=\"data row6 col2\" >-0.690223</td>\n",
       "                        <td id=\"T_0db8c_row6_col3\" class=\"data row6 col3\" >-0.563748</td>\n",
       "                        <td id=\"T_0db8c_row6_col4\" class=\"data row6 col4\" >-0.477337</td>\n",
       "                        <td id=\"T_0db8c_row6_col5\" class=\"data row6 col5\" >-0.386412</td>\n",
       "                        <td id=\"T_0db8c_row6_col6\" class=\"data row6 col6\" >1.000000</td>\n",
       "                        <td id=\"T_0db8c_row6_col7\" class=\"data row6 col7\" >-0.023708</td>\n",
       "                        <td id=\"T_0db8c_row6_col8\" class=\"data row6 col8\" >-0.749422</td>\n",
       "                        <td id=\"T_0db8c_row6_col9\" class=\"data row6 col9\" >-0.812671</td>\n",
       "                        <td id=\"T_0db8c_row6_col10\" class=\"data row6 col10\" >-0.542635</td>\n",
       "                        <td id=\"T_0db8c_row6_col11\" class=\"data row6 col11\" >-0.009543</td>\n",
       "                        <td id=\"T_0db8c_row6_col12\" class=\"data row6 col12\" >0.011119</td>\n",
       "                        <td id=\"T_0db8c_row6_col13\" class=\"data row6 col13\" >0.013135</td>\n",
       "                        <td id=\"T_0db8c_row6_col14\" class=\"data row6 col14\" >-0.015537</td>\n",
       "                        <td id=\"T_0db8c_row6_col15\" class=\"data row6 col15\" >-0.270765</td>\n",
       "                        <td id=\"T_0db8c_row6_col16\" class=\"data row6 col16\" >-0.235068</td>\n",
       "                        <td id=\"T_0db8c_row6_col17\" class=\"data row6 col17\" >-0.054830</td>\n",
       "                        <td id=\"T_0db8c_row6_col18\" class=\"data row6 col18\" >-0.090309</td>\n",
       "                        <td id=\"T_0db8c_row6_col19\" class=\"data row6 col19\" >-0.037453</td>\n",
       "                        <td id=\"T_0db8c_row6_col20\" class=\"data row6 col20\" >-0.072358</td>\n",
       "                        <td id=\"T_0db8c_row6_col21\" class=\"data row6 col21\" >-0.592766</td>\n",
       "                        <td id=\"T_0db8c_row6_col22\" class=\"data row6 col22\" >-0.506912</td>\n",
       "                        <td id=\"T_0db8c_row6_col23\" class=\"data row6 col23\" >-0.001816</td>\n",
       "                        <td id=\"T_0db8c_row6_col24\" class=\"data row6 col24\" >-0.720910</td>\n",
       "                        <td id=\"T_0db8c_row6_col25\" class=\"data row6 col25\" >-0.484828</td>\n",
       "            </tr>\n",
       "            <tr>\n",
       "                        <th id=\"T_0db8c_level0_row7\" class=\"row_heading level0 row7\" >killPoints</th>\n",
       "                        <td id=\"T_0db8c_row7_col0\" class=\"data row7 col0\" >0.040950</td>\n",
       "                        <td id=\"T_0db8c_row7_col1\" class=\"data row7 col1\" >0.008470</td>\n",
       "                        <td id=\"T_0db8c_row7_col2\" class=\"data row7 col2\" >0.052097</td>\n",
       "                        <td id=\"T_0db8c_row7_col3\" class=\"data row7 col3\" >0.043676</td>\n",
       "                        <td id=\"T_0db8c_row7_col4\" class=\"data row7 col4\" >0.025021</td>\n",
       "                        <td id=\"T_0db8c_row7_col5\" class=\"data row7 col5\" >-0.002508</td>\n",
       "                        <td id=\"T_0db8c_row7_col6\" class=\"data row7 col6\" >-0.023708</td>\n",
       "                        <td id=\"T_0db8c_row7_col7\" class=\"data row7 col7\" >1.000000</td>\n",
       "                        <td id=\"T_0db8c_row7_col8\" class=\"data row7 col8\" >0.038448</td>\n",
       "                        <td id=\"T_0db8c_row7_col9\" class=\"data row7 col9\" >0.037749</td>\n",
       "                        <td id=\"T_0db8c_row7_col10\" class=\"data row7 col10\" >0.014193</td>\n",
       "                        <td id=\"T_0db8c_row7_col11\" class=\"data row7 col11\" >-0.105284</td>\n",
       "                        <td id=\"T_0db8c_row7_col12\" class=\"data row7 col12\" >-0.045941</td>\n",
       "                        <td id=\"T_0db8c_row7_col13\" class=\"data row7 col13\" >-0.043541</td>\n",
       "                        <td id=\"T_0db8c_row7_col14\" class=\"data row7 col14\" >-0.975656</td>\n",
       "                        <td id=\"T_0db8c_row7_col15\" class=\"data row7 col15\" >0.011994</td>\n",
       "                        <td id=\"T_0db8c_row7_col16\" class=\"data row7 col16\" >-0.028107</td>\n",
       "                        <td id=\"T_0db8c_row7_col17\" class=\"data row7 col17\" >0.001128</td>\n",
       "                        <td id=\"T_0db8c_row7_col18\" class=\"data row7 col18\" >-0.004823</td>\n",
       "                        <td id=\"T_0db8c_row7_col19\" class=\"data row7 col19\" >-0.039433</td>\n",
       "                        <td id=\"T_0db8c_row7_col20\" class=\"data row7 col20\" >-0.008610</td>\n",
       "                        <td id=\"T_0db8c_row7_col21\" class=\"data row7 col21\" >0.004068</td>\n",
       "                        <td id=\"T_0db8c_row7_col22\" class=\"data row7 col22\" >-0.004237</td>\n",
       "                        <td id=\"T_0db8c_row7_col23\" class=\"data row7 col23\" >0.983563</td>\n",
       "                        <td id=\"T_0db8c_row7_col24\" class=\"data row7 col24\" >0.013001</td>\n",
       "                        <td id=\"T_0db8c_row7_col25\" class=\"data row7 col25\" >-0.017050</td>\n",
       "            </tr>\n",
       "            <tr>\n",
       "                        <th id=\"T_0db8c_level0_row8\" class=\"row_heading level0 row8\" >kills</th>\n",
       "                        <td id=\"T_0db8c_row8_col0\" class=\"data row8 col0\" >0.289653</td>\n",
       "                        <td id=\"T_0db8c_row8_col1\" class=\"data row8 col1\" >0.526504</td>\n",
       "                        <td id=\"T_0db8c_row8_col2\" class=\"data row8 col2\" >0.883154</td>\n",
       "                        <td id=\"T_0db8c_row8_col3\" class=\"data row8 col3\" >0.726880</td>\n",
       "                        <td id=\"T_0db8c_row8_col4\" class=\"data row8 col4\" >0.666665</td>\n",
       "                        <td id=\"T_0db8c_row8_col5\" class=\"data row8 col5\" >0.316061</td>\n",
       "                        <td id=\"T_0db8c_row8_col6\" class=\"data row8 col6\" >-0.749422</td>\n",
       "                        <td id=\"T_0db8c_row8_col7\" class=\"data row8 col7\" >0.038448</td>\n",
       "                        <td id=\"T_0db8c_row8_col8\" class=\"data row8 col8\" >1.000000</td>\n",
       "                        <td id=\"T_0db8c_row8_col9\" class=\"data row8 col9\" >0.814002</td>\n",
       "                        <td id=\"T_0db8c_row8_col10\" class=\"data row8 col10\" >0.615467</td>\n",
       "                        <td id=\"T_0db8c_row8_col11\" class=\"data row8 col11\" >-0.013535</td>\n",
       "                        <td id=\"T_0db8c_row8_col12\" class=\"data row8 col12\" >0.007434</td>\n",
       "                        <td id=\"T_0db8c_row8_col13\" class=\"data row8 col13\" >0.008614</td>\n",
       "                        <td id=\"T_0db8c_row8_col14\" class=\"data row8 col14\" >0.009578</td>\n",
       "                        <td id=\"T_0db8c_row8_col15\" class=\"data row8 col15\" >0.261437</td>\n",
       "                        <td id=\"T_0db8c_row8_col16\" class=\"data row8 col16\" >0.121336</td>\n",
       "                        <td id=\"T_0db8c_row8_col17\" class=\"data row8 col17\" >0.064321</td>\n",
       "                        <td id=\"T_0db8c_row8_col18\" class=\"data row8 col18\" >0.041831</td>\n",
       "                        <td id=\"T_0db8c_row8_col19\" class=\"data row8 col19\" >0.013990</td>\n",
       "                        <td id=\"T_0db8c_row8_col20\" class=\"data row8 col20\" >0.082610</td>\n",
       "                        <td id=\"T_0db8c_row8_col21\" class=\"data row8 col21\" >0.394503</td>\n",
       "                        <td id=\"T_0db8c_row8_col22\" class=\"data row8 col22\" >0.292890</td>\n",
       "                        <td id=\"T_0db8c_row8_col23\" class=\"data row8 col23\" >0.006242</td>\n",
       "                        <td id=\"T_0db8c_row8_col24\" class=\"data row8 col24\" >0.431588</td>\n",
       "                        <td id=\"T_0db8c_row8_col25\" class=\"data row8 col25\" >0.298429</td>\n",
       "            </tr>\n",
       "            <tr>\n",
       "                        <th id=\"T_0db8c_level0_row9\" class=\"row_heading level0 row9\" >killStreaks</th>\n",
       "                        <td id=\"T_0db8c_row9_col0\" class=\"data row9 col0\" >0.235733</td>\n",
       "                        <td id=\"T_0db8c_row9_col1\" class=\"data row9 col1\" >0.409361</td>\n",
       "                        <td id=\"T_0db8c_row9_col2\" class=\"data row9 col2\" >0.708764</td>\n",
       "                        <td id=\"T_0db8c_row9_col3\" class=\"data row9 col3\" >0.655835</td>\n",
       "                        <td id=\"T_0db8c_row9_col4\" class=\"data row9 col4\" >0.513568</td>\n",
       "                        <td id=\"T_0db8c_row9_col5\" class=\"data row9 col5\" >0.270500</td>\n",
       "                        <td id=\"T_0db8c_row9_col6\" class=\"data row9 col6\" >-0.812671</td>\n",
       "                        <td id=\"T_0db8c_row9_col7\" class=\"data row9 col7\" >0.037749</td>\n",
       "                        <td id=\"T_0db8c_row9_col8\" class=\"data row9 col8\" >0.814002</td>\n",
       "                        <td id=\"T_0db8c_row9_col9\" class=\"data row9 col9\" >1.000000</td>\n",
       "                        <td id=\"T_0db8c_row9_col10\" class=\"data row9 col10\" >0.515613</td>\n",
       "                        <td id=\"T_0db8c_row9_col11\" class=\"data row9 col11\" >-0.027490</td>\n",
       "                        <td id=\"T_0db8c_row9_col12\" class=\"data row9 col12\" >-0.033327</td>\n",
       "                        <td id=\"T_0db8c_row9_col13\" class=\"data row9 col13\" >-0.031920</td>\n",
       "                        <td id=\"T_0db8c_row9_col14\" class=\"data row9 col14\" >0.003759</td>\n",
       "                        <td id=\"T_0db8c_row9_col15\" class=\"data row9 col15\" >0.243088</td>\n",
       "                        <td id=\"T_0db8c_row9_col16\" class=\"data row9 col16\" >0.099575</td>\n",
       "                        <td id=\"T_0db8c_row9_col17\" class=\"data row9 col17\" >0.064270</td>\n",
       "                        <td id=\"T_0db8c_row9_col18\" class=\"data row9 col18\" >0.035321</td>\n",
       "                        <td id=\"T_0db8c_row9_col19\" class=\"data row9 col19\" >0.026690</td>\n",
       "                        <td id=\"T_0db8c_row9_col20\" class=\"data row9 col20\" >0.063284</td>\n",
       "                        <td id=\"T_0db8c_row9_col21\" class=\"data row9 col21\" >0.331427</td>\n",
       "                        <td id=\"T_0db8c_row9_col22\" class=\"data row9 col22\" >0.269843</td>\n",
       "                        <td id=\"T_0db8c_row9_col23\" class=\"data row9 col23\" >0.008356</td>\n",
       "                        <td id=\"T_0db8c_row9_col24\" class=\"data row9 col24\" >0.377973</td>\n",
       "                        <td id=\"T_0db8c_row9_col25\" class=\"data row9 col25\" >0.249104</td>\n",
       "            </tr>\n",
       "            <tr>\n",
       "                        <th id=\"T_0db8c_level0_row10\" class=\"row_heading level0 row10\" >longestKill</th>\n",
       "                        <td id=\"T_0db8c_row10_col0\" class=\"data row10 col0\" >0.259647</td>\n",
       "                        <td id=\"T_0db8c_row10_col1\" class=\"data row10 col1\" >0.426893</td>\n",
       "                        <td id=\"T_0db8c_row10_col2\" class=\"data row10 col2\" >0.571355</td>\n",
       "                        <td id=\"T_0db8c_row10_col3\" class=\"data row10 col3\" >0.458233</td>\n",
       "                        <td id=\"T_0db8c_row10_col4\" class=\"data row10 col4\" >0.451981</td>\n",
       "                        <td id=\"T_0db8c_row10_col5\" class=\"data row10 col5\" >0.263564</td>\n",
       "                        <td id=\"T_0db8c_row10_col6\" class=\"data row10 col6\" >-0.542635</td>\n",
       "                        <td id=\"T_0db8c_row10_col7\" class=\"data row10 col7\" >0.014193</td>\n",
       "                        <td id=\"T_0db8c_row10_col8\" class=\"data row10 col8\" >0.615467</td>\n",
       "                        <td id=\"T_0db8c_row10_col9\" class=\"data row10 col9\" >0.515613</td>\n",
       "                        <td id=\"T_0db8c_row10_col10\" class=\"data row10 col10\" >1.000000</td>\n",
       "                        <td id=\"T_0db8c_row10_col11\" class=\"data row10 col11\" >0.059866</td>\n",
       "                        <td id=\"T_0db8c_row10_col12\" class=\"data row10 col12\" >-0.013554</td>\n",
       "                        <td id=\"T_0db8c_row10_col13\" class=\"data row10 col13\" >-0.013065</td>\n",
       "                        <td id=\"T_0db8c_row10_col14\" class=\"data row10 col14\" >0.017979</td>\n",
       "                        <td id=\"T_0db8c_row10_col15\" class=\"data row10 col15\" >0.170920</td>\n",
       "                        <td id=\"T_0db8c_row10_col16\" class=\"data row10 col16\" >0.192388</td>\n",
       "                        <td id=\"T_0db8c_row10_col17\" class=\"data row10 col17\" >0.030475</td>\n",
       "                        <td id=\"T_0db8c_row10_col18\" class=\"data row10 col18\" >0.054340</td>\n",
       "                        <td id=\"T_0db8c_row10_col19\" class=\"data row10 col19\" >0.007002</td>\n",
       "                        <td id=\"T_0db8c_row10_col20\" class=\"data row10 col20\" >0.083467</td>\n",
       "                        <td id=\"T_0db8c_row10_col21\" class=\"data row10 col21\" >0.417477</td>\n",
       "                        <td id=\"T_0db8c_row10_col22\" class=\"data row10 col22\" >0.277875</td>\n",
       "                        <td id=\"T_0db8c_row10_col23\" class=\"data row10 col23\" >-0.004515</td>\n",
       "                        <td id=\"T_0db8c_row10_col24\" class=\"data row10 col24\" >0.412435</td>\n",
       "                        <td id=\"T_0db8c_row10_col25\" class=\"data row10 col25\" >0.359657</td>\n",
       "            </tr>\n",
       "            <tr>\n",
       "                        <th id=\"T_0db8c_level0_row11\" class=\"row_heading level0 row11\" >matchDuration</th>\n",
       "                        <td id=\"T_0db8c_row11_col0\" class=\"data row11 col0\" >-0.005065</td>\n",
       "                        <td id=\"T_0db8c_row11_col1\" class=\"data row11 col1\" >0.068290</td>\n",
       "                        <td id=\"T_0db8c_row11_col2\" class=\"data row11 col2\" >0.008126</td>\n",
       "                        <td id=\"T_0db8c_row11_col3\" class=\"data row11 col3\" >-0.011996</td>\n",
       "                        <td id=\"T_0db8c_row11_col4\" class=\"data row11 col4\" >-0.006956</td>\n",
       "                        <td id=\"T_0db8c_row11_col5\" class=\"data row11 col5\" >0.110821</td>\n",
       "                        <td id=\"T_0db8c_row11_col6\" class=\"data row11 col6\" >-0.009543</td>\n",
       "                        <td id=\"T_0db8c_row11_col7\" class=\"data row11 col7\" >-0.105284</td>\n",
       "                        <td id=\"T_0db8c_row11_col8\" class=\"data row11 col8\" >-0.013535</td>\n",
       "                        <td id=\"T_0db8c_row11_col9\" class=\"data row11 col9\" >-0.027490</td>\n",
       "                        <td id=\"T_0db8c_row11_col10\" class=\"data row11 col10\" >0.059866</td>\n",
       "                        <td id=\"T_0db8c_row11_col11\" class=\"data row11 col11\" >1.000000</td>\n",
       "                        <td id=\"T_0db8c_row11_col12\" class=\"data row11 col12\" >0.042992</td>\n",
       "                        <td id=\"T_0db8c_row11_col13\" class=\"data row11 col13\" >0.034376</td>\n",
       "                        <td id=\"T_0db8c_row11_col14\" class=\"data row11 col14\" >0.093597</td>\n",
       "                        <td id=\"T_0db8c_row11_col15\" class=\"data row11 col15\" >0.015314</td>\n",
       "                        <td id=\"T_0db8c_row11_col16\" class=\"data row11 col16\" >0.370851</td>\n",
       "                        <td id=\"T_0db8c_row11_col17\" class=\"data row11 col17\" >0.042517</td>\n",
       "                        <td id=\"T_0db8c_row11_col18\" class=\"data row11 col18\" >0.007762</td>\n",
       "                        <td id=\"T_0db8c_row11_col19\" class=\"data row11 col19\" >0.053178</td>\n",
       "                        <td id=\"T_0db8c_row11_col20\" class=\"data row11 col20\" >0.063817</td>\n",
       "                        <td id=\"T_0db8c_row11_col21\" class=\"data row11 col21\" >0.141280</td>\n",
       "                        <td id=\"T_0db8c_row11_col22\" class=\"data row11 col22\" >0.160242</td>\n",
       "                        <td id=\"T_0db8c_row11_col23\" class=\"data row11 col23\" >-0.092901</td>\n",
       "                        <td id=\"T_0db8c_row11_col24\" class=\"data row11 col24\" >-0.004197</td>\n",
       "                        <td id=\"T_0db8c_row11_col25\" class=\"data row11 col25\" >0.330408</td>\n",
       "            </tr>\n",
       "            <tr>\n",
       "                        <th id=\"T_0db8c_level0_row12\" class=\"row_heading level0 row12\" >maxPlace</th>\n",
       "                        <td id=\"T_0db8c_row12_col0\" class=\"data row12 col0\" >-0.141422</td>\n",
       "                        <td id=\"T_0db8c_row12_col1\" class=\"data row12 col1\" >-0.012870</td>\n",
       "                        <td id=\"T_0db8c_row12_col2\" class=\"data row12 col2\" >-0.029766</td>\n",
       "                        <td id=\"T_0db8c_row12_col3\" class=\"data row12 col3\" >-0.269760</td>\n",
       "                        <td id=\"T_0db8c_row12_col4\" class=\"data row12 col4\" >0.017484</td>\n",
       "                        <td id=\"T_0db8c_row12_col5\" class=\"data row12 col5\" >-0.061706</td>\n",
       "                        <td id=\"T_0db8c_row12_col6\" class=\"data row12 col6\" >0.011119</td>\n",
       "                        <td id=\"T_0db8c_row12_col7\" class=\"data row12 col7\" >-0.045941</td>\n",
       "                        <td id=\"T_0db8c_row12_col8\" class=\"data row12 col8\" >0.007434</td>\n",
       "                        <td id=\"T_0db8c_row12_col9\" class=\"data row12 col9\" >-0.033327</td>\n",
       "                        <td id=\"T_0db8c_row12_col10\" class=\"data row12 col10\" >-0.013554</td>\n",
       "                        <td id=\"T_0db8c_row12_col11\" class=\"data row12 col11\" >0.042992</td>\n",
       "                        <td id=\"T_0db8c_row12_col12\" class=\"data row12 col12\" >1.000000</td>\n",
       "                        <td id=\"T_0db8c_row12_col13\" class=\"data row12 col13\" >0.997924</td>\n",
       "                        <td id=\"T_0db8c_row12_col14\" class=\"data row12 col14\" >0.048673</td>\n",
       "                        <td id=\"T_0db8c_row12_col15\" class=\"data row12 col15\" >-0.160603</td>\n",
       "                        <td id=\"T_0db8c_row12_col16\" class=\"data row12 col16\" >-0.042906</td>\n",
       "                        <td id=\"T_0db8c_row12_col17\" class=\"data row12 col17\" >0.012797</td>\n",
       "                        <td id=\"T_0db8c_row12_col18\" class=\"data row12 col18\" >0.007817</td>\n",
       "                        <td id=\"T_0db8c_row12_col19\" class=\"data row12 col19\" >-0.037233</td>\n",
       "                        <td id=\"T_0db8c_row12_col20\" class=\"data row12 col20\" >-0.017950</td>\n",
       "                        <td id=\"T_0db8c_row12_col21\" class=\"data row12 col21\" >-0.083422</td>\n",
       "                        <td id=\"T_0db8c_row12_col22\" class=\"data row12 col22\" >-0.022341</td>\n",
       "                        <td id=\"T_0db8c_row12_col23\" class=\"data row12 col23\" >-0.029078</td>\n",
       "                        <td id=\"T_0db8c_row12_col24\" class=\"data row12 col24\" >0.038446</td>\n",
       "                        <td id=\"T_0db8c_row12_col25\" class=\"data row12 col25\" >-0.074655</td>\n",
       "            </tr>\n",
       "            <tr>\n",
       "                        <th id=\"T_0db8c_level0_row13\" class=\"row_heading level0 row13\" >numGroups</th>\n",
       "                        <td id=\"T_0db8c_row13_col0\" class=\"data row13 col0\" >-0.140108</td>\n",
       "                        <td id=\"T_0db8c_row13_col1\" class=\"data row13 col1\" >-0.012221</td>\n",
       "                        <td id=\"T_0db8c_row13_col2\" class=\"data row13 col2\" >-0.028839</td>\n",
       "                        <td id=\"T_0db8c_row13_col3\" class=\"data row13 col3\" >-0.267906</td>\n",
       "                        <td id=\"T_0db8c_row13_col4\" class=\"data row13 col4\" >0.017929</td>\n",
       "                        <td id=\"T_0db8c_row13_col5\" class=\"data row13 col5\" >-0.061186</td>\n",
       "                        <td id=\"T_0db8c_row13_col6\" class=\"data row13 col6\" >0.013135</td>\n",
       "                        <td id=\"T_0db8c_row13_col7\" class=\"data row13 col7\" >-0.043541</td>\n",
       "                        <td id=\"T_0db8c_row13_col8\" class=\"data row13 col8\" >0.008614</td>\n",
       "                        <td id=\"T_0db8c_row13_col9\" class=\"data row13 col9\" >-0.031920</td>\n",
       "                        <td id=\"T_0db8c_row13_col10\" class=\"data row13 col10\" >-0.013065</td>\n",
       "                        <td id=\"T_0db8c_row13_col11\" class=\"data row13 col11\" >0.034376</td>\n",
       "                        <td id=\"T_0db8c_row13_col12\" class=\"data row13 col12\" >0.997924</td>\n",
       "                        <td id=\"T_0db8c_row13_col13\" class=\"data row13 col13\" >1.000000</td>\n",
       "                        <td id=\"T_0db8c_row13_col14\" class=\"data row13 col14\" >0.047008</td>\n",
       "                        <td id=\"T_0db8c_row13_col15\" class=\"data row13 col15\" >-0.159470</td>\n",
       "                        <td id=\"T_0db8c_row13_col16\" class=\"data row13 col16\" >-0.045186</td>\n",
       "                        <td id=\"T_0db8c_row13_col17\" class=\"data row13 col17\" >0.011928</td>\n",
       "                        <td id=\"T_0db8c_row13_col18\" class=\"data row13 col18\" >0.007922</td>\n",
       "                        <td id=\"T_0db8c_row13_col19\" class=\"data row13 col19\" >-0.037549</td>\n",
       "                        <td id=\"T_0db8c_row13_col20\" class=\"data row13 col20\" >-0.018239</td>\n",
       "                        <td id=\"T_0db8c_row13_col21\" class=\"data row13 col21\" >-0.082581</td>\n",
       "                        <td id=\"T_0db8c_row13_col22\" class=\"data row13 col22\" >-0.022888</td>\n",
       "                        <td id=\"T_0db8c_row13_col23\" class=\"data row13 col23\" >-0.027318</td>\n",
       "                        <td id=\"T_0db8c_row13_col24\" class=\"data row13 col24\" >0.040720</td>\n",
       "                        <td id=\"T_0db8c_row13_col25\" class=\"data row13 col25\" >-0.075752</td>\n",
       "            </tr>\n",
       "            <tr>\n",
       "                        <th id=\"T_0db8c_level0_row14\" class=\"row_heading level0 row14\" >rankPoints</th>\n",
       "                        <td id=\"T_0db8c_row14_col0\" class=\"data row14 col0\" >-0.015726</td>\n",
       "                        <td id=\"T_0db8c_row14_col1\" class=\"data row14 col1\" >0.023556</td>\n",
       "                        <td id=\"T_0db8c_row14_col2\" class=\"data row14 col2\" >-0.000083</td>\n",
       "                        <td id=\"T_0db8c_row14_col3\" class=\"data row14 col3\" >-0.002809</td>\n",
       "                        <td id=\"T_0db8c_row14_col4\" class=\"data row14 col4\" >0.006113</td>\n",
       "                        <td id=\"T_0db8c_row14_col5\" class=\"data row14 col5\" >0.019856</td>\n",
       "                        <td id=\"T_0db8c_row14_col6\" class=\"data row14 col6\" >-0.015537</td>\n",
       "                        <td id=\"T_0db8c_row14_col7\" class=\"data row14 col7\" >-0.975656</td>\n",
       "                        <td id=\"T_0db8c_row14_col8\" class=\"data row14 col8\" >0.009578</td>\n",
       "                        <td id=\"T_0db8c_row14_col9\" class=\"data row14 col9\" >0.003759</td>\n",
       "                        <td id=\"T_0db8c_row14_col10\" class=\"data row14 col10\" >0.017979</td>\n",
       "                        <td id=\"T_0db8c_row14_col11\" class=\"data row14 col11\" >0.093597</td>\n",
       "                        <td id=\"T_0db8c_row14_col12\" class=\"data row14 col12\" >0.048673</td>\n",
       "                        <td id=\"T_0db8c_row14_col13\" class=\"data row14 col13\" >0.047008</td>\n",
       "                        <td id=\"T_0db8c_row14_col14\" class=\"data row14 col14\" >1.000000</td>\n",
       "                        <td id=\"T_0db8c_row14_col15\" class=\"data row14 col15\" >-0.000249</td>\n",
       "                        <td id=\"T_0db8c_row14_col16\" class=\"data row14 col16\" >0.036686</td>\n",
       "                        <td id=\"T_0db8c_row14_col17\" class=\"data row14 col17\" >0.001030</td>\n",
       "                        <td id=\"T_0db8c_row14_col18\" class=\"data row14 col18\" >0.004981</td>\n",
       "                        <td id=\"T_0db8c_row14_col19\" class=\"data row14 col19\" >0.039408</td>\n",
       "                        <td id=\"T_0db8c_row14_col20\" class=\"data row14 col20\" >0.012626</td>\n",
       "                        <td id=\"T_0db8c_row14_col21\" class=\"data row14 col21\" >0.016777</td>\n",
       "                        <td id=\"T_0db8c_row14_col22\" class=\"data row14 col22\" >0.018360</td>\n",
       "                        <td id=\"T_0db8c_row14_col23\" class=\"data row14 col23\" >-0.993798</td>\n",
       "                        <td id=\"T_0db8c_row14_col24\" class=\"data row14 col24\" >0.013751</td>\n",
       "                        <td id=\"T_0db8c_row14_col25\" class=\"data row14 col25\" >0.034270</td>\n",
       "            </tr>\n",
       "            <tr>\n",
       "                        <th id=\"T_0db8c_level0_row15\" class=\"row_heading level0 row15\" >revives</th>\n",
       "                        <td id=\"T_0db8c_row15_col0\" class=\"data row15 col0\" >0.200387</td>\n",
       "                        <td id=\"T_0db8c_row15_col1\" class=\"data row15 col1\" >0.254074</td>\n",
       "                        <td id=\"T_0db8c_row15_col2\" class=\"data row15 col2\" >0.263056</td>\n",
       "                        <td id=\"T_0db8c_row15_col3\" class=\"data row15 col3\" >0.300143</td>\n",
       "                        <td id=\"T_0db8c_row15_col4\" class=\"data row15 col4\" >0.153329</td>\n",
       "                        <td id=\"T_0db8c_row15_col5\" class=\"data row15 col5\" >0.237253</td>\n",
       "                        <td id=\"T_0db8c_row15_col6\" class=\"data row15 col6\" >-0.270765</td>\n",
       "                        <td id=\"T_0db8c_row15_col7\" class=\"data row15 col7\" >0.011994</td>\n",
       "                        <td id=\"T_0db8c_row15_col8\" class=\"data row15 col8\" >0.261437</td>\n",
       "                        <td id=\"T_0db8c_row15_col9\" class=\"data row15 col9\" >0.243088</td>\n",
       "                        <td id=\"T_0db8c_row15_col10\" class=\"data row15 col10\" >0.170920</td>\n",
       "                        <td id=\"T_0db8c_row15_col11\" class=\"data row15 col11\" >0.015314</td>\n",
       "                        <td id=\"T_0db8c_row15_col12\" class=\"data row15 col12\" >-0.160603</td>\n",
       "                        <td id=\"T_0db8c_row15_col13\" class=\"data row15 col13\" >-0.159470</td>\n",
       "                        <td id=\"T_0db8c_row15_col14\" class=\"data row15 col14\" >-0.000249</td>\n",
       "                        <td id=\"T_0db8c_row15_col15\" class=\"data row15 col15\" >1.000000</td>\n",
       "                        <td id=\"T_0db8c_row15_col16\" class=\"data row15 col16\" >0.110398</td>\n",
       "                        <td id=\"T_0db8c_row15_col17\" class=\"data row15 col17\" >0.007748</td>\n",
       "                        <td id=\"T_0db8c_row15_col18\" class=\"data row15 col18\" >0.020728</td>\n",
       "                        <td id=\"T_0db8c_row15_col19\" class=\"data row15 col19\" >0.033602</td>\n",
       "                        <td id=\"T_0db8c_row15_col20\" class=\"data row15 col20\" >0.038235</td>\n",
       "                        <td id=\"T_0db8c_row15_col21\" class=\"data row15 col21\" >0.237824</td>\n",
       "                        <td id=\"T_0db8c_row15_col22\" class=\"data row15 col22\" >0.174574</td>\n",
       "                        <td id=\"T_0db8c_row15_col23\" class=\"data row15 col23\" >0.002090</td>\n",
       "                        <td id=\"T_0db8c_row15_col24\" class=\"data row15 col24\" >0.241897</td>\n",
       "                        <td id=\"T_0db8c_row15_col25\" class=\"data row15 col25\" >0.205289</td>\n",
       "            </tr>\n",
       "            <tr>\n",
       "                        <th id=\"T_0db8c_level0_row16\" class=\"row_heading level0 row16\" >rideDistance</th>\n",
       "                        <td id=\"T_0db8c_row16_col0\" class=\"data row16 col0\" >0.114171</td>\n",
       "                        <td id=\"T_0db8c_row16_col1\" class=\"data row16 col1\" >0.328304</td>\n",
       "                        <td id=\"T_0db8c_row16_col2\" class=\"data row16 col2\" >0.146487</td>\n",
       "                        <td id=\"T_0db8c_row16_col3\" class=\"data row16 col3\" >0.104814</td>\n",
       "                        <td id=\"T_0db8c_row16_col4\" class=\"data row16 col4\" >0.081121</td>\n",
       "                        <td id=\"T_0db8c_row16_col5\" class=\"data row16 col5\" >0.298133</td>\n",
       "                        <td id=\"T_0db8c_row16_col6\" class=\"data row16 col6\" >-0.235068</td>\n",
       "                        <td id=\"T_0db8c_row16_col7\" class=\"data row16 col7\" >-0.028107</td>\n",
       "                        <td id=\"T_0db8c_row16_col8\" class=\"data row16 col8\" >0.121336</td>\n",
       "                        <td id=\"T_0db8c_row16_col9\" class=\"data row16 col9\" >0.099575</td>\n",
       "                        <td id=\"T_0db8c_row16_col10\" class=\"data row16 col10\" >0.192388</td>\n",
       "                        <td id=\"T_0db8c_row16_col11\" class=\"data row16 col11\" >0.370851</td>\n",
       "                        <td id=\"T_0db8c_row16_col12\" class=\"data row16 col12\" >-0.042906</td>\n",
       "                        <td id=\"T_0db8c_row16_col13\" class=\"data row16 col13\" >-0.045186</td>\n",
       "                        <td id=\"T_0db8c_row16_col14\" class=\"data row16 col14\" >0.036686</td>\n",
       "                        <td id=\"T_0db8c_row16_col15\" class=\"data row16 col15\" >0.110398</td>\n",
       "                        <td id=\"T_0db8c_row16_col16\" class=\"data row16 col16\" >1.000000</td>\n",
       "                        <td id=\"T_0db8c_row16_col17\" class=\"data row16 col17\" >0.099705</td>\n",
       "                        <td id=\"T_0db8c_row16_col18\" class=\"data row16 col18\" >0.050321</td>\n",
       "                        <td id=\"T_0db8c_row16_col19\" class=\"data row16 col19\" >0.051347</td>\n",
       "                        <td id=\"T_0db8c_row16_col20\" class=\"data row16 col20\" >0.116991</td>\n",
       "                        <td id=\"T_0db8c_row16_col21\" class=\"data row16 col21\" >0.312708</td>\n",
       "                        <td id=\"T_0db8c_row16_col22\" class=\"data row16 col22\" >0.302330</td>\n",
       "                        <td id=\"T_0db8c_row16_col23\" class=\"data row16 col23\" >-0.027538</td>\n",
       "                        <td id=\"T_0db8c_row16_col24\" class=\"data row16 col24\" >0.345415</td>\n",
       "                        <td id=\"T_0db8c_row16_col25\" class=\"data row16 col25\" >0.854167</td>\n",
       "            </tr>\n",
       "            <tr>\n",
       "                        <th id=\"T_0db8c_level0_row17\" class=\"row_heading level0 row17\" >roadKills</th>\n",
       "                        <td id=\"T_0db8c_row17_col0\" class=\"data row17 col0\" >0.012137</td>\n",
       "                        <td id=\"T_0db8c_row17_col1\" class=\"data row17 col1\" >0.037011</td>\n",
       "                        <td id=\"T_0db8c_row17_col2\" class=\"data row17 col2\" >0.056176</td>\n",
       "                        <td id=\"T_0db8c_row17_col3\" class=\"data row17 col3\" >0.037038</td>\n",
       "                        <td id=\"T_0db8c_row17_col4\" class=\"data row17 col4\" >0.017846</td>\n",
       "                        <td id=\"T_0db8c_row17_col5\" class=\"data row17 col5\" >0.027361</td>\n",
       "                        <td id=\"T_0db8c_row17_col6\" class=\"data row17 col6\" >-0.054830</td>\n",
       "                        <td id=\"T_0db8c_row17_col7\" class=\"data row17 col7\" >0.001128</td>\n",
       "                        <td id=\"T_0db8c_row17_col8\" class=\"data row17 col8\" >0.064321</td>\n",
       "                        <td id=\"T_0db8c_row17_col9\" class=\"data row17 col9\" >0.064270</td>\n",
       "                        <td id=\"T_0db8c_row17_col10\" class=\"data row17 col10\" >0.030475</td>\n",
       "                        <td id=\"T_0db8c_row17_col11\" class=\"data row17 col11\" >0.042517</td>\n",
       "                        <td id=\"T_0db8c_row17_col12\" class=\"data row17 col12\" >0.012797</td>\n",
       "                        <td id=\"T_0db8c_row17_col13\" class=\"data row17 col13\" >0.011928</td>\n",
       "                        <td id=\"T_0db8c_row17_col14\" class=\"data row17 col14\" >0.001030</td>\n",
       "                        <td id=\"T_0db8c_row17_col15\" class=\"data row17 col15\" >0.007748</td>\n",
       "                        <td id=\"T_0db8c_row17_col16\" class=\"data row17 col16\" >0.099705</td>\n",
       "                        <td id=\"T_0db8c_row17_col17\" class=\"data row17 col17\" >1.000000</td>\n",
       "                        <td id=\"T_0db8c_row17_col18\" class=\"data row17 col18\" >0.005989</td>\n",
       "                        <td id=\"T_0db8c_row17_col19\" class=\"data row17 col19\" >0.009898</td>\n",
       "                        <td id=\"T_0db8c_row17_col20\" class=\"data row17 col20\" >0.020726</td>\n",
       "                        <td id=\"T_0db8c_row17_col21\" class=\"data row17 col21\" >0.022861</td>\n",
       "                        <td id=\"T_0db8c_row17_col22\" class=\"data row17 col22\" >0.026796</td>\n",
       "                        <td id=\"T_0db8c_row17_col23\" class=\"data row17 col23\" >0.000510</td>\n",
       "                        <td id=\"T_0db8c_row17_col24\" class=\"data row17 col24\" >0.031816</td>\n",
       "                        <td id=\"T_0db8c_row17_col25\" class=\"data row17 col25\" >0.080646</td>\n",
       "            </tr>\n",
       "            <tr>\n",
       "                        <th id=\"T_0db8c_level0_row18\" class=\"row_heading level0 row18\" >swimDistance</th>\n",
       "                        <td id=\"T_0db8c_row18_col0\" class=\"data row18 col0\" >0.025339</td>\n",
       "                        <td id=\"T_0db8c_row18_col1\" class=\"data row18 col1\" >0.108672</td>\n",
       "                        <td id=\"T_0db8c_row18_col2\" class=\"data row18 col2\" >0.038988</td>\n",
       "                        <td id=\"T_0db8c_row18_col3\" class=\"data row18 col3\" >0.018033</td>\n",
       "                        <td id=\"T_0db8c_row18_col4\" class=\"data row18 col4\" >0.029792</td>\n",
       "                        <td id=\"T_0db8c_row18_col5\" class=\"data row18 col5\" >0.080509</td>\n",
       "                        <td id=\"T_0db8c_row18_col6\" class=\"data row18 col6\" >-0.090309</td>\n",
       "                        <td id=\"T_0db8c_row18_col7\" class=\"data row18 col7\" >-0.004823</td>\n",
       "                        <td id=\"T_0db8c_row18_col8\" class=\"data row18 col8\" >0.041831</td>\n",
       "                        <td id=\"T_0db8c_row18_col9\" class=\"data row18 col9\" >0.035321</td>\n",
       "                        <td id=\"T_0db8c_row18_col10\" class=\"data row18 col10\" >0.054340</td>\n",
       "                        <td id=\"T_0db8c_row18_col11\" class=\"data row18 col11\" >0.007762</td>\n",
       "                        <td id=\"T_0db8c_row18_col12\" class=\"data row18 col12\" >0.007817</td>\n",
       "                        <td id=\"T_0db8c_row18_col13\" class=\"data row18 col13\" >0.007922</td>\n",
       "                        <td id=\"T_0db8c_row18_col14\" class=\"data row18 col14\" >0.004981</td>\n",
       "                        <td id=\"T_0db8c_row18_col15\" class=\"data row18 col15\" >0.020728</td>\n",
       "                        <td id=\"T_0db8c_row18_col16\" class=\"data row18 col16\" >0.050321</td>\n",
       "                        <td id=\"T_0db8c_row18_col17\" class=\"data row18 col17\" >0.005989</td>\n",
       "                        <td id=\"T_0db8c_row18_col18\" class=\"data row18 col18\" >1.000000</td>\n",
       "                        <td id=\"T_0db8c_row18_col19\" class=\"data row18 col19\" >0.006321</td>\n",
       "                        <td id=\"T_0db8c_row18_col20\" class=\"data row18 col20\" >0.008452</td>\n",
       "                        <td id=\"T_0db8c_row18_col21\" class=\"data row18 col21\" >0.168152</td>\n",
       "                        <td id=\"T_0db8c_row18_col22\" class=\"data row18 col22\" >0.081697</td>\n",
       "                        <td id=\"T_0db8c_row18_col23\" class=\"data row18 col23\" >-0.002914</td>\n",
       "                        <td id=\"T_0db8c_row18_col24\" class=\"data row18 col24\" >0.150905</td>\n",
       "                        <td id=\"T_0db8c_row18_col25\" class=\"data row18 col25\" >0.139996</td>\n",
       "            </tr>\n",
       "            <tr>\n",
       "                        <th id=\"T_0db8c_level0_row19\" class=\"row_heading level0 row19\" >teamKills</th>\n",
       "                        <td id=\"T_0db8c_row19_col0\" class=\"data row19 col0\" >0.002428</td>\n",
       "                        <td id=\"T_0db8c_row19_col1\" class=\"data row19 col1\" >0.013844</td>\n",
       "                        <td id=\"T_0db8c_row19_col2\" class=\"data row19 col2\" >0.011980</td>\n",
       "                        <td id=\"T_0db8c_row19_col3\" class=\"data row19 col3\" >0.071254</td>\n",
       "                        <td id=\"T_0db8c_row19_col4\" class=\"data row19 col4\" >0.007054</td>\n",
       "                        <td id=\"T_0db8c_row19_col5\" class=\"data row19 col5\" >0.035369</td>\n",
       "                        <td id=\"T_0db8c_row19_col6\" class=\"data row19 col6\" >-0.037453</td>\n",
       "                        <td id=\"T_0db8c_row19_col7\" class=\"data row19 col7\" >-0.039433</td>\n",
       "                        <td id=\"T_0db8c_row19_col8\" class=\"data row19 col8\" >0.013990</td>\n",
       "                        <td id=\"T_0db8c_row19_col9\" class=\"data row19 col9\" >0.026690</td>\n",
       "                        <td id=\"T_0db8c_row19_col10\" class=\"data row19 col10\" >0.007002</td>\n",
       "                        <td id=\"T_0db8c_row19_col11\" class=\"data row19 col11\" >0.053178</td>\n",
       "                        <td id=\"T_0db8c_row19_col12\" class=\"data row19 col12\" >-0.037233</td>\n",
       "                        <td id=\"T_0db8c_row19_col13\" class=\"data row19 col13\" >-0.037549</td>\n",
       "                        <td id=\"T_0db8c_row19_col14\" class=\"data row19 col14\" >0.039408</td>\n",
       "                        <td id=\"T_0db8c_row19_col15\" class=\"data row19 col15\" >0.033602</td>\n",
       "                        <td id=\"T_0db8c_row19_col16\" class=\"data row19 col16\" >0.051347</td>\n",
       "                        <td id=\"T_0db8c_row19_col17\" class=\"data row19 col17\" >0.009898</td>\n",
       "                        <td id=\"T_0db8c_row19_col18\" class=\"data row19 col18\" >0.006321</td>\n",
       "                        <td id=\"T_0db8c_row19_col19\" class=\"data row19 col19\" >1.000000</td>\n",
       "                        <td id=\"T_0db8c_row19_col20\" class=\"data row19 col20\" >0.114191</td>\n",
       "                        <td id=\"T_0db8c_row19_col21\" class=\"data row19 col21\" >0.025915</td>\n",
       "                        <td id=\"T_0db8c_row19_col22\" class=\"data row19 col22\" >0.032389</td>\n",
       "                        <td id=\"T_0db8c_row19_col23\" class=\"data row19 col23\" >-0.040751</td>\n",
       "                        <td id=\"T_0db8c_row19_col24\" class=\"data row19 col24\" >0.016416</td>\n",
       "                        <td id=\"T_0db8c_row19_col25\" class=\"data row19 col25\" >0.049283</td>\n",
       "            </tr>\n",
       "            <tr>\n",
       "                        <th id=\"T_0db8c_level0_row20\" class=\"row_heading level0 row20\" >vehicleDestroys</th>\n",
       "                        <td id=\"T_0db8c_row20_col0\" class=\"data row20 col0\" >0.058771</td>\n",
       "                        <td id=\"T_0db8c_row20_col1\" class=\"data row20 col1\" >0.086519</td>\n",
       "                        <td id=\"T_0db8c_row20_col2\" class=\"data row20 col2\" >0.082992</td>\n",
       "                        <td id=\"T_0db8c_row20_col3\" class=\"data row20 col3\" >0.060661</td>\n",
       "                        <td id=\"T_0db8c_row20_col4\" class=\"data row20 col4\" >0.041441</td>\n",
       "                        <td id=\"T_0db8c_row20_col5\" class=\"data row20 col5\" >0.063064</td>\n",
       "                        <td id=\"T_0db8c_row20_col6\" class=\"data row20 col6\" >-0.072358</td>\n",
       "                        <td id=\"T_0db8c_row20_col7\" class=\"data row20 col7\" >-0.008610</td>\n",
       "                        <td id=\"T_0db8c_row20_col8\" class=\"data row20 col8\" >0.082610</td>\n",
       "                        <td id=\"T_0db8c_row20_col9\" class=\"data row20 col9\" >0.063284</td>\n",
       "                        <td id=\"T_0db8c_row20_col10\" class=\"data row20 col10\" >0.083467</td>\n",
       "                        <td id=\"T_0db8c_row20_col11\" class=\"data row20 col11\" >0.063817</td>\n",
       "                        <td id=\"T_0db8c_row20_col12\" class=\"data row20 col12\" >-0.017950</td>\n",
       "                        <td id=\"T_0db8c_row20_col13\" class=\"data row20 col13\" >-0.018239</td>\n",
       "                        <td id=\"T_0db8c_row20_col14\" class=\"data row20 col14\" >0.012626</td>\n",
       "                        <td id=\"T_0db8c_row20_col15\" class=\"data row20 col15\" >0.038235</td>\n",
       "                        <td id=\"T_0db8c_row20_col16\" class=\"data row20 col16\" >0.116991</td>\n",
       "                        <td id=\"T_0db8c_row20_col17\" class=\"data row20 col17\" >0.020726</td>\n",
       "                        <td id=\"T_0db8c_row20_col18\" class=\"data row20 col18\" >0.008452</td>\n",
       "                        <td id=\"T_0db8c_row20_col19\" class=\"data row20 col19\" >0.114191</td>\n",
       "                        <td id=\"T_0db8c_row20_col20\" class=\"data row20 col20\" >1.000000</td>\n",
       "                        <td id=\"T_0db8c_row20_col21\" class=\"data row20 col21\" >0.077048</td>\n",
       "                        <td id=\"T_0db8c_row20_col22\" class=\"data row20 col22\" >0.067013</td>\n",
       "                        <td id=\"T_0db8c_row20_col23\" class=\"data row20 col23\" >-0.010609</td>\n",
       "                        <td id=\"T_0db8c_row20_col24\" class=\"data row20 col24\" >0.072860</td>\n",
       "                        <td id=\"T_0db8c_row20_col25\" class=\"data row20 col25\" >0.122015</td>\n",
       "            </tr>\n",
       "            <tr>\n",
       "                        <th id=\"T_0db8c_level0_row21\" class=\"row_heading level0 row21\" >walkDistance</th>\n",
       "                        <td id=\"T_0db8c_row21_col0\" class=\"data row21 col0\" >0.303187</td>\n",
       "                        <td id=\"T_0db8c_row21_col1\" class=\"data row21 col1\" >0.641220</td>\n",
       "                        <td id=\"T_0db8c_row21_col2\" class=\"data row21 col2\" >0.415061</td>\n",
       "                        <td id=\"T_0db8c_row21_col3\" class=\"data row21 col3\" >0.291889</td>\n",
       "                        <td id=\"T_0db8c_row21_col4\" class=\"data row21 col4\" >0.261289</td>\n",
       "                        <td id=\"T_0db8c_row21_col5\" class=\"data row21 col5\" >0.432806</td>\n",
       "                        <td id=\"T_0db8c_row21_col6\" class=\"data row21 col6\" >-0.592766</td>\n",
       "                        <td id=\"T_0db8c_row21_col7\" class=\"data row21 col7\" >0.004068</td>\n",
       "                        <td id=\"T_0db8c_row21_col8\" class=\"data row21 col8\" >0.394503</td>\n",
       "                        <td id=\"T_0db8c_row21_col9\" class=\"data row21 col9\" >0.331427</td>\n",
       "                        <td id=\"T_0db8c_row21_col10\" class=\"data row21 col10\" >0.417477</td>\n",
       "                        <td id=\"T_0db8c_row21_col11\" class=\"data row21 col11\" >0.141280</td>\n",
       "                        <td id=\"T_0db8c_row21_col12\" class=\"data row21 col12\" >-0.083422</td>\n",
       "                        <td id=\"T_0db8c_row21_col13\" class=\"data row21 col13\" >-0.082581</td>\n",
       "                        <td id=\"T_0db8c_row21_col14\" class=\"data row21 col14\" >0.016777</td>\n",
       "                        <td id=\"T_0db8c_row21_col15\" class=\"data row21 col15\" >0.237824</td>\n",
       "                        <td id=\"T_0db8c_row21_col16\" class=\"data row21 col16\" >0.312708</td>\n",
       "                        <td id=\"T_0db8c_row21_col17\" class=\"data row21 col17\" >0.022861</td>\n",
       "                        <td id=\"T_0db8c_row21_col18\" class=\"data row21 col18\" >0.168152</td>\n",
       "                        <td id=\"T_0db8c_row21_col19\" class=\"data row21 col19\" >0.025915</td>\n",
       "                        <td id=\"T_0db8c_row21_col20\" class=\"data row21 col20\" >0.077048</td>\n",
       "                        <td id=\"T_0db8c_row21_col21\" class=\"data row21 col21\" >1.000000</td>\n",
       "                        <td id=\"T_0db8c_row21_col22\" class=\"data row21 col22\" >0.578916</td>\n",
       "                        <td id=\"T_0db8c_row21_col23\" class=\"data row21 col23\" >-0.002925</td>\n",
       "                        <td id=\"T_0db8c_row21_col24\" class=\"data row21 col24\" >0.814679</td>\n",
       "                        <td id=\"T_0db8c_row21_col25\" class=\"data row21 col25\" >0.760851</td>\n",
       "            </tr>\n",
       "            <tr>\n",
       "                        <th id=\"T_0db8c_level0_row22\" class=\"row_heading level0 row22\" >weaponsAcquired</th>\n",
       "                        <td id=\"T_0db8c_row22_col0\" class=\"data row22 col0\" >0.200232</td>\n",
       "                        <td id=\"T_0db8c_row22_col1\" class=\"data row22 col1\" >0.437042</td>\n",
       "                        <td id=\"T_0db8c_row22_col2\" class=\"data row22 col2\" >0.313862</td>\n",
       "                        <td id=\"T_0db8c_row22_col3\" class=\"data row22 col3\" >0.212729</td>\n",
       "                        <td id=\"T_0db8c_row22_col4\" class=\"data row22 col4\" >0.189479</td>\n",
       "                        <td id=\"T_0db8c_row22_col5\" class=\"data row22 col5\" >0.317732</td>\n",
       "                        <td id=\"T_0db8c_row22_col6\" class=\"data row22 col6\" >-0.506912</td>\n",
       "                        <td id=\"T_0db8c_row22_col7\" class=\"data row22 col7\" >-0.004237</td>\n",
       "                        <td id=\"T_0db8c_row22_col8\" class=\"data row22 col8\" >0.292890</td>\n",
       "                        <td id=\"T_0db8c_row22_col9\" class=\"data row22 col9\" >0.269843</td>\n",
       "                        <td id=\"T_0db8c_row22_col10\" class=\"data row22 col10\" >0.277875</td>\n",
       "                        <td id=\"T_0db8c_row22_col11\" class=\"data row22 col11\" >0.160242</td>\n",
       "                        <td id=\"T_0db8c_row22_col12\" class=\"data row22 col12\" >-0.022341</td>\n",
       "                        <td id=\"T_0db8c_row22_col13\" class=\"data row22 col13\" >-0.022888</td>\n",
       "                        <td id=\"T_0db8c_row22_col14\" class=\"data row22 col14\" >0.018360</td>\n",
       "                        <td id=\"T_0db8c_row22_col15\" class=\"data row22 col15\" >0.174574</td>\n",
       "                        <td id=\"T_0db8c_row22_col16\" class=\"data row22 col16\" >0.302330</td>\n",
       "                        <td id=\"T_0db8c_row22_col17\" class=\"data row22 col17\" >0.026796</td>\n",
       "                        <td id=\"T_0db8c_row22_col18\" class=\"data row22 col18\" >0.081697</td>\n",
       "                        <td id=\"T_0db8c_row22_col19\" class=\"data row22 col19\" >0.032389</td>\n",
       "                        <td id=\"T_0db8c_row22_col20\" class=\"data row22 col20\" >0.067013</td>\n",
       "                        <td id=\"T_0db8c_row22_col21\" class=\"data row22 col21\" >0.578916</td>\n",
       "                        <td id=\"T_0db8c_row22_col22\" class=\"data row22 col22\" >1.000000</td>\n",
       "                        <td id=\"T_0db8c_row22_col23\" class=\"data row22 col23\" >-0.006705</td>\n",
       "                        <td id=\"T_0db8c_row22_col24\" class=\"data row22 col24\" >0.617926</td>\n",
       "                        <td id=\"T_0db8c_row22_col25\" class=\"data row22 col25\" >0.523105</td>\n",
       "            </tr>\n",
       "            <tr>\n",
       "                        <th id=\"T_0db8c_level0_row23\" class=\"row_heading level0 row23\" >winPoints</th>\n",
       "                        <td id=\"T_0db8c_row23_col0\" class=\"data row23 col0\" >0.023629</td>\n",
       "                        <td id=\"T_0db8c_row23_col1\" class=\"data row23 col1\" >-0.007868</td>\n",
       "                        <td id=\"T_0db8c_row23_col2\" class=\"data row23 col2\" >0.017024</td>\n",
       "                        <td id=\"T_0db8c_row23_col3\" class=\"data row23 col3\" >0.010672</td>\n",
       "                        <td id=\"T_0db8c_row23_col4\" class=\"data row23 col4\" >0.004342</td>\n",
       "                        <td id=\"T_0db8c_row23_col5\" class=\"data row23 col5\" >-0.011610</td>\n",
       "                        <td id=\"T_0db8c_row23_col6\" class=\"data row23 col6\" >-0.001816</td>\n",
       "                        <td id=\"T_0db8c_row23_col7\" class=\"data row23 col7\" >0.983563</td>\n",
       "                        <td id=\"T_0db8c_row23_col8\" class=\"data row23 col8\" >0.006242</td>\n",
       "                        <td id=\"T_0db8c_row23_col9\" class=\"data row23 col9\" >0.008356</td>\n",
       "                        <td id=\"T_0db8c_row23_col10\" class=\"data row23 col10\" >-0.004515</td>\n",
       "                        <td id=\"T_0db8c_row23_col11\" class=\"data row23 col11\" >-0.092901</td>\n",
       "                        <td id=\"T_0db8c_row23_col12\" class=\"data row23 col12\" >-0.029078</td>\n",
       "                        <td id=\"T_0db8c_row23_col13\" class=\"data row23 col13\" >-0.027318</td>\n",
       "                        <td id=\"T_0db8c_row23_col14\" class=\"data row23 col14\" >-0.993798</td>\n",
       "                        <td id=\"T_0db8c_row23_col15\" class=\"data row23 col15\" >0.002090</td>\n",
       "                        <td id=\"T_0db8c_row23_col16\" class=\"data row23 col16\" >-0.027538</td>\n",
       "                        <td id=\"T_0db8c_row23_col17\" class=\"data row23 col17\" >0.000510</td>\n",
       "                        <td id=\"T_0db8c_row23_col18\" class=\"data row23 col18\" >-0.002914</td>\n",
       "                        <td id=\"T_0db8c_row23_col19\" class=\"data row23 col19\" >-0.040751</td>\n",
       "                        <td id=\"T_0db8c_row23_col20\" class=\"data row23 col20\" >-0.010609</td>\n",
       "                        <td id=\"T_0db8c_row23_col21\" class=\"data row23 col21\" >-0.002925</td>\n",
       "                        <td id=\"T_0db8c_row23_col22\" class=\"data row23 col22\" >-0.006705</td>\n",
       "                        <td id=\"T_0db8c_row23_col23\" class=\"data row23 col23\" >1.000000</td>\n",
       "                        <td id=\"T_0db8c_row23_col24\" class=\"data row23 col24\" >0.007000</td>\n",
       "                        <td id=\"T_0db8c_row23_col25\" class=\"data row23 col25\" >-0.020445</td>\n",
       "            </tr>\n",
       "            <tr>\n",
       "                        <th id=\"T_0db8c_level0_row24\" class=\"row_heading level0 row24\" >winPlacePerc</th>\n",
       "                        <td id=\"T_0db8c_row24_col0\" class=\"data row24 col0\" >0.305667</td>\n",
       "                        <td id=\"T_0db8c_row24_col1\" class=\"data row24 col1\" >0.636463</td>\n",
       "                        <td id=\"T_0db8c_row24_col2\" class=\"data row24 col2\" >0.450645</td>\n",
       "                        <td id=\"T_0db8c_row24_col3\" class=\"data row24 col3\" >0.284162</td>\n",
       "                        <td id=\"T_0db8c_row24_col4\" class=\"data row24 col4\" >0.282640</td>\n",
       "                        <td id=\"T_0db8c_row24_col5\" class=\"data row24 col5\" >0.430058</td>\n",
       "                        <td id=\"T_0db8c_row24_col6\" class=\"data row24 col6\" >-0.720910</td>\n",
       "                        <td id=\"T_0db8c_row24_col7\" class=\"data row24 col7\" >0.013001</td>\n",
       "                        <td id=\"T_0db8c_row24_col8\" class=\"data row24 col8\" >0.431588</td>\n",
       "                        <td id=\"T_0db8c_row24_col9\" class=\"data row24 col9\" >0.377973</td>\n",
       "                        <td id=\"T_0db8c_row24_col10\" class=\"data row24 col10\" >0.412435</td>\n",
       "                        <td id=\"T_0db8c_row24_col11\" class=\"data row24 col11\" >-0.004197</td>\n",
       "                        <td id=\"T_0db8c_row24_col12\" class=\"data row24 col12\" >0.038446</td>\n",
       "                        <td id=\"T_0db8c_row24_col13\" class=\"data row24 col13\" >0.040720</td>\n",
       "                        <td id=\"T_0db8c_row24_col14\" class=\"data row24 col14\" >0.013751</td>\n",
       "                        <td id=\"T_0db8c_row24_col15\" class=\"data row24 col15\" >0.241897</td>\n",
       "                        <td id=\"T_0db8c_row24_col16\" class=\"data row24 col16\" >0.345415</td>\n",
       "                        <td id=\"T_0db8c_row24_col17\" class=\"data row24 col17\" >0.031816</td>\n",
       "                        <td id=\"T_0db8c_row24_col18\" class=\"data row24 col18\" >0.150905</td>\n",
       "                        <td id=\"T_0db8c_row24_col19\" class=\"data row24 col19\" >0.016416</td>\n",
       "                        <td id=\"T_0db8c_row24_col20\" class=\"data row24 col20\" >0.072860</td>\n",
       "                        <td id=\"T_0db8c_row24_col21\" class=\"data row24 col21\" >0.814679</td>\n",
       "                        <td id=\"T_0db8c_row24_col22\" class=\"data row24 col22\" >0.617926</td>\n",
       "                        <td id=\"T_0db8c_row24_col23\" class=\"data row24 col23\" >0.007000</td>\n",
       "                        <td id=\"T_0db8c_row24_col24\" class=\"data row24 col24\" >1.000000</td>\n",
       "                        <td id=\"T_0db8c_row24_col25\" class=\"data row24 col25\" >0.681970</td>\n",
       "            </tr>\n",
       "            <tr>\n",
       "                        <th id=\"T_0db8c_level0_row25\" class=\"row_heading level0 row25\" >distance</th>\n",
       "                        <td id=\"T_0db8c_row25_col0\" class=\"data row25 col0\" >0.243547</td>\n",
       "                        <td id=\"T_0db8c_row25_col1\" class=\"data row25 col1\" >0.575174</td>\n",
       "                        <td id=\"T_0db8c_row25_col2\" class=\"data row25 col2\" >0.326772</td>\n",
       "                        <td id=\"T_0db8c_row25_col3\" class=\"data row25 col3\" >0.230897</td>\n",
       "                        <td id=\"T_0db8c_row25_col4\" class=\"data row25 col4\" >0.198203</td>\n",
       "                        <td id=\"T_0db8c_row25_col5\" class=\"data row25 col5\" >0.440607</td>\n",
       "                        <td id=\"T_0db8c_row25_col6\" class=\"data row25 col6\" >-0.484828</td>\n",
       "                        <td id=\"T_0db8c_row25_col7\" class=\"data row25 col7\" >-0.017050</td>\n",
       "                        <td id=\"T_0db8c_row25_col8\" class=\"data row25 col8\" >0.298429</td>\n",
       "                        <td id=\"T_0db8c_row25_col9\" class=\"data row25 col9\" >0.249104</td>\n",
       "                        <td id=\"T_0db8c_row25_col10\" class=\"data row25 col10\" >0.359657</td>\n",
       "                        <td id=\"T_0db8c_row25_col11\" class=\"data row25 col11\" >0.330408</td>\n",
       "                        <td id=\"T_0db8c_row25_col12\" class=\"data row25 col12\" >-0.074655</td>\n",
       "                        <td id=\"T_0db8c_row25_col13\" class=\"data row25 col13\" >-0.075752</td>\n",
       "                        <td id=\"T_0db8c_row25_col14\" class=\"data row25 col14\" >0.034270</td>\n",
       "                        <td id=\"T_0db8c_row25_col15\" class=\"data row25 col15\" >0.205289</td>\n",
       "                        <td id=\"T_0db8c_row25_col16\" class=\"data row25 col16\" >0.854167</td>\n",
       "                        <td id=\"T_0db8c_row25_col17\" class=\"data row25 col17\" >0.080646</td>\n",
       "                        <td id=\"T_0db8c_row25_col18\" class=\"data row25 col18\" >0.139996</td>\n",
       "                        <td id=\"T_0db8c_row25_col19\" class=\"data row25 col19\" >0.049283</td>\n",
       "                        <td id=\"T_0db8c_row25_col20\" class=\"data row25 col20\" >0.122015</td>\n",
       "                        <td id=\"T_0db8c_row25_col21\" class=\"data row25 col21\" >0.760851</td>\n",
       "                        <td id=\"T_0db8c_row25_col22\" class=\"data row25 col22\" >0.523105</td>\n",
       "                        <td id=\"T_0db8c_row25_col23\" class=\"data row25 col23\" >-0.020445</td>\n",
       "                        <td id=\"T_0db8c_row25_col24\" class=\"data row25 col24\" >0.681970</td>\n",
       "                        <td id=\"T_0db8c_row25_col25\" class=\"data row25 col25\" >1.000000</td>\n",
       "            </tr>\n",
       "    </tbody></table>"
      ],
      "text/plain": [
       "<pandas.io.formats.style.Styler at 0x7f10ecc65850>"
      ]
     },
     "execution_count": 23,
     "metadata": {},
     "output_type": "execute_result"
    }
   ],
   "source": [
    "import seaborn as sns\n",
    "cm = sns.light_palette(\"green\", as_cmap=True)\n",
    "\n",
    "pd.DataFrame(pearsonCorr.toArray(), numerical_columns, numerical_columns)\\\n",
    "    .style.applymap(lambda x: 'background-color:rgb({}, 255, {});'.format(255-x*155, 255-x*155) if x > 0 else 'background-color:rgb(255, {}, {});'.format(255+x*255, 255+x*255))"
   ]
  },
  {
   "cell_type": "markdown",
   "id": "hollow-kitchen",
   "metadata": {},
   "source": [
    "> Cri: ha senso fare la correlazione tra attributi che sono determinati dal match vs quelli che sono determinati dal giocatore? (io penso di si, ma forse è meglio che ci riflettiate anche voi)"
   ]
  },
  {
   "cell_type": "code",
   "execution_count": null,
   "id": "attempted-creature",
   "metadata": {},
   "outputs": [],
   "source": []
  },
  {
   "cell_type": "code",
   "execution_count": null,
   "id": "representative-loading",
   "metadata": {},
   "outputs": [],
   "source": []
  },
  {
   "cell_type": "code",
   "execution_count": null,
   "id": "seven-france",
   "metadata": {},
   "outputs": [],
   "source": []
  },
  {
   "cell_type": "code",
   "execution_count": null,
   "id": "completed-biography",
   "metadata": {},
   "outputs": [],
   "source": []
  }
 ],
 "metadata": {
  "kernelspec": {
   "display_name": "Python 3",
   "language": "python",
   "name": "python3"
  },
  "language_info": {
   "codemirror_mode": {
    "name": "ipython",
    "version": 3
   },
   "file_extension": ".py",
   "mimetype": "text/x-python",
   "name": "python",
   "nbconvert_exporter": "python",
   "pygments_lexer": "ipython3",
   "version": "3.8.10"
  }
 },
 "nbformat": 4,
 "nbformat_minor": 5
}
